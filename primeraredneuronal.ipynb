{
  "nbformat": 4,
  "nbformat_minor": 0,
  "metadata": {
    "colab": {
      "name": "primeraredneuronal.ipynb",
      "provenance": []
    },
    "kernelspec": {
      "name": "python3",
      "display_name": "Python 3"
    }
  },
  "cells": [
    {
      "cell_type": "code",
      "metadata": {
        "id": "TYR2AZhjPLyc",
        "colab_type": "code",
        "colab": {}
      },
      "source": [
        "import numpy as np\n",
        "import scipy as sc\n",
        "import matplotlib.pyplot as plt\n",
        "\n",
        "from sklearn.datasets import make_circles\n",
        "\n"
      ],
      "execution_count": 0,
      "outputs": []
    },
    {
      "cell_type": "code",
      "metadata": {
        "id": "FpGoHphf61mG",
        "colab_type": "code",
        "outputId": "6209861e-2f48-41ca-cf6a-58eae35ef743",
        "colab": {
          "base_uri": "https://localhost:8080/",
          "height": 265
        }
      },
      "source": [
        "# crear el dataset\n",
        "\n",
        "n = 500\n",
        "p = 2\n",
        "\n",
        "X, Y = make_circles(n_samples=n, factor=0.5, noise=0.05)\n",
        "Y = Y[:, np.newaxis]\n",
        "#print(Y)\n",
        "plt.scatter(X[Y[:, 0] == 0, 0], X[Y[:, 0] == 0, 1], c=\"skyblue\")\n",
        "plt.scatter(X[Y[:, 0] == 1, 0], X[Y[:, 0] == 1, 1], c=\"salmon\")\n",
        "plt.axis(\"equal\")\n",
        "plt.show()"
      ],
      "execution_count": 0,
      "outputs": [
        {
          "output_type": "display_data",
          "data": {
            "image/png": "[encoded data removed]",
            "text/plain": [
              "<Figure size 432x288 with 1 Axes>"
            ]
          },
          "metadata": {
            "tags": []
          }
        }
      ]
    },
    {
      "cell_type": "markdown",
      "metadata": {
        "id": "4X2SEgWvP35_",
        "colab_type": "text"
      },
      "source": [
        ""
      ]
    },
    {
      "cell_type": "markdown",
      "metadata": {
        "id": "JlHVmA3llMfW",
        "colab_type": "text"
      },
      "source": [
        "#empezamos a programar la red neuronal \n",
        "#La red neuronal su unidad de procesamiento es la neurona. Podemos combinar muchas neuronas en diferentes capas para conseguir esta codificacion. Todas las fotmulas a utilizar tienen la posibilidad de vectorizar.\n",
        "#Dentro de una capa estamos realizando las mismas operaciones de todas las neuronas (porque tienen la misma funcion de activacion, las formulas de backpropagation)\n",
        "#Podemos pensar que cada capa es un modulo. Dentro de una misma capa van a realizarse las mismas operaciones\n",
        "#vamos a definir en la red neuronal una clase que se refiera a una capa"
      ]
    },
    {
      "cell_type": "code",
      "metadata": {
        "id": "wKsVZeKA7GCy",
        "colab_type": "code",
        "colab": {}
      },
      "source": [
        "#CLASE DE LA CAPA DE LA RED\n",
        "\n",
        "class neural_layer():\n",
        "  def __init__(self, n_conn, n_neur, act_f):   #n_conn=numero de conexiones, n_neur=numero de neuronas, act_f=funcion de activacion\n",
        "    self.act_f = act_f\n",
        "    self.b=np.random.rand(1, n_neur) * 2 - 1             #b=parametro de bayes\n",
        "    self.W=np.random.rand(n_conn, n_neur) * 2 - 1 "
      ],
      "execution_count": 0,
      "outputs": []
    },
    {
      "cell_type": "code",
      "metadata": {
        "id": "P3lVsB_b7NO_",
        "colab_type": "code",
        "outputId": "3ef8f3e6-9b16-49a3-a573-6122f57c9f35",
        "colab": {
          "base_uri": "https://localhost:8080/",
          "height": 282
        }
      },
      "source": [
        "# FUNCIONES DE ACTIVACION\n",
        "sigm = (lambda x: 1 / (1 + np.e ** (-x)),\n",
        "        lambda x: x * (1-x))\n",
        "relu = lambda x: np.maximum(0,x)\n",
        "_x = np.linspace(-5, 5, 100)\n",
        "plt.plot(_x, sigm[0](_x))"
      ],
      "execution_count": 0,
      "outputs": [
        {
          "output_type": "execute_result",
          "data": {
            "text/plain": [
              "[<matplotlib.lines.Line2D at 0x7f1b3c404a20>]"
            ]
          },
          "metadata": {
            "tags": []
          },
          "execution_count": 25
        },
        {
          "output_type": "display_data",
          "data": {
            "image/png": "[encoded data removed]",
            "text/plain": [
              "<Figure size 432x288 with 1 Axes>"
            ]
          },
          "metadata": {
            "tags": []
          }
        }
      ]
    },
    {
      "cell_type": "code",
      "metadata": {
        "id": "sxzmvTbu7kDo",
        "colab_type": "code",
        "outputId": "25b4042e-7c41-45b1-e003-fd543bcb562e",
        "colab": {
          "base_uri": "https://localhost:8080/",
          "height": 119
        }
      },
      "source": [
        "l0 = neural_layer(p, 4, sigm)\n",
        "l1 = neural_layer(4, 8, sigm)\n",
        "#...\n",
        "\n",
        "def create_nn(topology, act_f):\n",
        "  nn = []\n",
        "  for l, layer in enumerate(topology[:-1]):\n",
        "    nn.append(neural_layer(topology[l], topology[l+1], act_f))   #objeto de la clase\n",
        "  return nn\n",
        "\n",
        "topology = [p, 4, 8, 16, 8, 4, 1]    #vector\n",
        "create_nn(topology, sigm)"
      ],
      "execution_count": 0,
      "outputs": [
        {
          "output_type": "execute_result",
          "data": {
            "text/plain": [
              "[<__main__.neural_layer at 0x7f1b3c3ba2b0>,\n",
              " <__main__.neural_layer at 0x7f1b3c3baf98>,\n",
              " <__main__.neural_layer at 0x7f1b3c3ba828>,\n",
              " <__main__.neural_layer at 0x7f1b3c3ba5c0>,\n",
              " <__main__.neural_layer at 0x7f1b3c3ba0b8>,\n",
              " <__main__.neural_layer at 0x7f1b3c3baef0>]"
            ]
          },
          "metadata": {
            "tags": []
          },
          "execution_count": 28
        }
      ]
    },
    {
      "cell_type": "code",
      "metadata": {
        "id": "opqQUlPO8G-Q",
        "colab_type": "code",
        "colab": {}
      },
      "source": [
        ""
      ],
      "execution_count": 0,
      "outputs": []
    },
    {
      "cell_type": "markdown",
      "metadata": {
        "id": "dsm3qBGslGeh",
        "colab_type": "text"
      },
      "source": [
        ""
      ]
    },
    {
      "cell_type": "markdown",
      "metadata": {
        "id": "d-7O_fdSsnrx",
        "colab_type": "text"
      },
      "source": [
        "Se observa que se tiene 6 capas ocultas\n",
        "con esto ya tenemos nuestra red neuronal creada\n",
        "Soporta nuestra red neuronal\n",
        "\n",
        "Ahora vamos a crear la logica que nos va a permitir entrenar nuestra red"
      ]
    },
    {
      "cell_type": "code",
      "metadata": {
        "id": "jA4VFl-08P1F",
        "colab_type": "code",
        "outputId": "9f4cbd2a-a91e-447d-b4f3-e40bfbd6820e",
        "colab": {
          "base_uri": "https://localhost:8080/",
          "height": 34
        }
      },
      "source": [
        "\n",
        "#definimos una funcion que se va a encatgar de ejecutar el codigo que se va  a encargar la red neuronal\n",
        "p=2\n",
        "topology = [p, 4, 8, 1]    #vector\n",
        "neural_net = create_nn(topology, sigm)\n",
        "\n",
        "l2_cost = (lambda Yp, Yr: np.mean((Yp - Yr) ** 2),\n",
        "           lambda Yp, Yr: (Yp - Yr))\n",
        "\n",
        "\n",
        "def train(neural_net, X, Y, l2_cost, lr=0.5, train=True):\n",
        "\n",
        "  out = [(None, X)]            #vector donde se guarda la informacion\n",
        "  \n",
        "  #FORWARD PASS \n",
        "  for l, layer in enumerate(neural_net):\n",
        "    \n",
        "    z = out[-1][1] @ neural_net[l].W + neural_net[l].b   #se ha implementado la suma ponderada en cada capa\n",
        "    a = neural_net[l].act_f[0](z)\n",
        "\n",
        "    out.append((z,a))\n",
        "\n",
        "  \n",
        "\n",
        "  if train:\n",
        "\n",
        "    #Backward pass\n",
        "    deltas = []\n",
        "    \n",
        "    for l in reversed(range(0, len(neural_net))):\n",
        "      z = out[l+1][0]\n",
        "      a =  out[l+1][1]\n",
        "\n",
        "      \n",
        "\n",
        "      if l == len(neural_net) - 1:\n",
        "        deltas.insert(0, l2_cost[1](a, Y) * neural_net[l].act_f[1](a))  #la formula con la cual calculamos delta0 \n",
        "        #print(deltas.shape)\n",
        "        #calcular delta ultima capa\n",
        "      else:\n",
        "        deltas.insert(0, deltas[0] @  _W.T * neural_net[l].act_f[1](a))\n",
        "        #calcular delta respecto a capa previa\n",
        "      _W = neural_net[l].W  \n",
        "    \n",
        "    #Gradient descent\n",
        "      neural_net[l].b = neural_net[l].b - np.mean(deltas[0], axis=0, keepdims=True) * lr \n",
        "      neural_net[l].W = neural_net[l].W - out[l][1].T @ deltas[0] * lr \n",
        "\n",
        "  return out[-1][1]\n",
        "     \n",
        "\n",
        "\n",
        "train(neural_net, X, Y, l2_cost, 0.5)\n",
        "print(\"\")"
      ],
      "execution_count": 0,
      "outputs": [
        {
          "output_type": "stream",
          "text": [
            "\n"
          ],
          "name": "stdout"
        }
      ]
    },
    {
      "cell_type": "code",
      "metadata": {
        "id": "6R1givHjKyEi",
        "colab_type": "code",
        "outputId": "902ecd4d-53c0-4870-8b73-bff4341641d8",
        "colab": {
          "base_uri": "https://localhost:8080/",
          "height": 517
        }
      },
      "source": [
        "# VISUALIZACIÓN Y TEST\n",
        "\n",
        "import time\n",
        "from IPython.display import clear_output\n",
        "\n",
        "neural_n = create_nn(topology, sigm)\n",
        "\n",
        "loss = []\n",
        "\n",
        "for i in range(2500):\n",
        "    \n",
        "  # Entrenemos a la red!\n",
        "  pY = train(neural_n, X, Y, l2_cost, lr=0.05)\n",
        "  \n",
        "  if i % 25 == 0:\n",
        "    \n",
        "    print(pY)\n",
        "  \n",
        "    loss.append(l2_cost[0](pY, Y))\n",
        "  \n",
        "    res = 50\n",
        "\n",
        "    _x0 = np.linspace(-1.5, 1.5, res)\n",
        "    _x1 = np.linspace(-1.5, 1.5, res)\n",
        "\n",
        "    _Y = np.zeros((res, res))\n",
        "\n",
        "    for i0, x0 in enumerate(_x0):\n",
        "      for i1, x1 in enumerate(_x1):\n",
        "        _Y[i0, i1] = train(neural_n, np.array([[x0, x1]]), Y, l2_cost, train=False)[0][0]    \n",
        "\n",
        "    plt.pcolormesh(_x0, _x1, _Y, cmap=\"coolwarm\")\n",
        "    plt.axis(\"equal\")\n",
        "\n",
        "    plt.scatter(X[Y[:,0] == 0, 0], X[Y[:,0] == 0, 1], c=\"skyblue\")\n",
        "    plt.scatter(X[Y[:,0] == 1, 0], X[Y[:,0] == 1, 1], c=\"salmon\")\n",
        "\n",
        "    clear_output(wait=True)\n",
        "    plt.show()\n",
        "    plt.plot(range(len(loss)), loss)\n",
        "    plt.show()\n",
        "    time.sleep(0.5)  "
      ],
      "execution_count": 0,
      "outputs": [
        {
          "output_type": "display_data",
          "data": {
            "image/png": "[encoded data removed]",
            "text/plain": [
              "<Figure size 432x288 with 1 Axes>"
            ]
          },
          "metadata": {
            "tags": []
          }
        },
        {
          "output_type": "display_data",
          "data": {
            "image/png": "[encoded data removed]",
            "text/plain": [
              "<Figure size 432x288 with 1 Axes>"
            ]
          },
          "metadata": {
            "tags": []
          }
        }
      ]
    },
    {
      "cell_type": "markdown",
      "metadata": {
        "id": "T71_F1NJlBwG",
        "colab_type": "text"
      },
      "source": [
        ""
      ]
    }
  ]
}