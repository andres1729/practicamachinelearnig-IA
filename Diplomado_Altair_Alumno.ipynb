{
  "nbformat": 4,
  "nbformat_minor": 0,
  "metadata": {
    "colab": {
      "name": "Diplomado_Altair Alumno.ipynb",
      "provenance": [],
      "collapsed_sections": [
        "jwqxcPcgTVIS"
      ],
      "include_colab_link": true
    },
    "kernelspec": {
      "name": "python3",
      "display_name": "Python 3"
    }
  },
  "cells": [
    {
      "cell_type": "markdown",
      "metadata": {
        "id": "view-in-github",
        "colab_type": "text"
      },
      "source": [
        "<a href=\"https://colab.research.google.com/github/andres1729/practicamachinelearnig-IA/blob/master/Diplomado_Altair_Alumno.ipynb\" target=\"_parent\"><img src=\"https://colab.research.google.com/assets/colab-badge.svg\" alt=\"Open In Colab\"/></a>"
      ]
    },
    {
      "cell_type": "markdown",
      "metadata": {
        "id": "r3VyfThGQdud",
        "colab_type": "text"
      },
      "source": [
        "# Diplomado _Big Data_ - Altair: Declarative Visualization in Python\n",
        "\n",
        "**Profesores:** Ivania Donoso y Denis Parra.\n",
        "\n",
        "** Ayudantes**: Fernando Florenzano, Nebil Kawas, Andrés Fernández y Hernán Valdivieso.\n",
        "\n",
        "Guía creada por Hernán Valdivieso.\n",
        "\n",
        "Agradecimientos a Eduardo Graells (@carnby) por su codigo en github, sirvió como inspiración para varios ejercicios de datos con pandas.\n",
        "\n",
        "-----\n",
        "\n",
        "El siguiente _jupyter notebook_ tiene como fín ser una guía de cómo utilizar la librería de Python [Altair](https://altair-viz.github.io/index.html) y luego aplicar dicho conocimiento para responder una serie de dudas sobre un _dataset_ interesante: respuestas del [Censo 2017](http://www.censo2017.cl/microdatos/).\n",
        "\n",
        "Para facilitar la instalación de esta librería, este archivo debe ser subido a [Google Colab](https://colab.research.google.com/) para poder ejecutarlo en los servidores de Google, los cuales ya disponen de todos los recursos necesarios para ejecutar los códigos que implementarás.\n",
        "\n",
        "\n",
        "Este  _jupyter notebook_ se divide en 3 partes:\n",
        "\n",
        "- Explorar los datos del _dataset_ entregado y aprender algunos usos de la librería [`pandas`](https://pandas.pydata.org/) para preprocesar los datos. \n",
        "- Entregar diversos ejemplos de algunos _idioms_, junto con una explicación detallada de que hace cada línea. Luego, para cada _idiom_ explicado, se solicitará que ustedes hagan otro gráfico con el _dataset_ del Censo y respondan una serie de preguntas. \n",
        "- Una actividad donde deberán buscar y justificar un _idiom_ para cumplir algunas tareas de visualización.\n",
        "\n",
        "\n"
      ]
    },
    {
      "cell_type": "markdown",
      "metadata": {
        "id": "z_YnPXBG1OYr",
        "colab_type": "text"
      },
      "source": [
        "## Indice"
      ]
    },
    {
      "cell_type": "markdown",
      "metadata": {
        "id": "yyX2Fg3tg2yi",
        "colab_type": "toc"
      },
      "source": [
        ">[Diplomado Big Data - Altair: Declarative Visualization in Python](#scrollTo=r3VyfThGQdud&uniqifier=1)\n",
        "\n",
        ">>[Indice](#scrollTo=z_YnPXBG1OYr&uniqifier=1)\n",
        "\n",
        ">>[Descargar dataset](#scrollTo=9ckes_XsRkjN&uniqifier=1)\n",
        "\n",
        ">>[Descripción del dataset](#scrollTo=fHHT_LhIAMBB&uniqifier=1)\n",
        "\n",
        ">>[A explorar el dataset](#scrollTo=ops-zKxKWo7Q&uniqifier=1)\n",
        "\n",
        ">>>[Actividad 1: exploración de dataset](#scrollTo=ops-zKxKWo7Q&uniqifier=1)\n",
        "\n",
        ">>[Manipulacíón básica de los datos.](#scrollTo=7aAfiGfZWq80&uniqifier=1)\n",
        "\n",
        ">>>[numpy y pandas.](#scrollTo=JwYdruuhWtQW&uniqifier=1)\n",
        "\n",
        ">>>[Funciones de resumen](#scrollTo=4aJ9fXMkWuTE&uniqifier=1)\n",
        "\n",
        ">>>>[Actividad 2: funciones de resumen](#scrollTo=Rq_MTug2XD5j&uniqifier=1)\n",
        "\n",
        ">>>[Filtros](#scrollTo=dz4h0X8YhImo&uniqifier=1)\n",
        "\n",
        ">>>>[Actividad 3: filtros](#scrollTo=O5cjZnLSXuDk&uniqifier=1)\n",
        "\n",
        ">>>[Funciones de agregación](#scrollTo=a5oeGPlhhDHT&uniqifier=1)\n",
        "\n",
        ">>>>[Actividad 4: funciones de agregación](#scrollTo=wbHP17qbYAF4&uniqifier=1)\n",
        "\n",
        ">>>[Bonus: dask y joblib](#scrollTo=SSjFGsg2lJPy&uniqifier=1)\n",
        "\n",
        ">>[Gráficos de ejemplo con Altair](#scrollTo=WAkmGyJPaImq&uniqifier=1)\n",
        "\n",
        ">>>[Gráficos de barra](#scrollTo=srJQP-LJsHVM&uniqifier=1)\n",
        "\n",
        ">>>>[Bar Chart](#scrollTo=Ekg96Eik3e9H&uniqifier=1)\n",
        "\n",
        ">>>>>[Descripción del ejemplo](#scrollTo=MsyK29c9qPwI&uniqifier=1)\n",
        "\n",
        ">>>>[Actividad 5: Bar chart](#scrollTo=0mRjsG9VqRAx&uniqifier=1)\n",
        "\n",
        ">>>>[Grouped Bar Chart](#scrollTo=mVX2dOUdRcAv&uniqifier=1)\n",
        "\n",
        ">>>>>[Descripción del ejemplo](#scrollTo=M3eOJ-9YA14a&uniqifier=1)\n",
        "\n",
        ">>>>[Actividad 6: Grouped Bar Chart](#scrollTo=qrzyiUIPojBy&uniqifier=1)\n",
        "\n",
        ">>>>[Stacked Bar Chart](#scrollTo=MBY1H13Czv60&uniqifier=1)\n",
        "\n",
        ">>>>>[Descripción del ejemplo](#scrollTo=8RXnojZAqXJG&uniqifier=1)\n",
        "\n",
        ">>>>[Actividad 7: Grouped Bar Chart](#scrollTo=J3tqoNKtpNkY&uniqifier=1)\n",
        "\n",
        ">>>[Gráficos de línea](#scrollTo=Mb0GiAvoqbaf&uniqifier=1)\n",
        "\n",
        ">>>>[Gráfico de línea simple (de barra a línea)](#scrollTo=atN_Qyn9qjAb&uniqifier=1)\n",
        "\n",
        ">>>>>[Descripción del ejemplo](#scrollTo=J3x5zibZqjh0&uniqifier=1)\n",
        "\n",
        ">>>>[Series de tiempo](#scrollTo=Mz6VxzdtqlLI&uniqifier=1)\n",
        "\n",
        ">>>>>[Descripción del ejemplo](#scrollTo=rTyJxIkaqlhK&uniqifier=1)\n",
        "\n",
        ">>>>[Actividad 8: series de tiempo](#scrollTo=Z0E1x_xiqln1&uniqifier=1)\n",
        "\n",
        ">>>[Gráficos de dispersión](#scrollTo=Mx40iYuxrOKR&uniqifier=1)\n",
        "\n",
        ">>>>[Scatterplot](#scrollTo=ttVoaHiGrOKV&uniqifier=1)\n",
        "\n",
        ">>>>>[Descripción del ejemplo](#scrollTo=HLfifzcLrOKd&uniqifier=1)\n",
        "\n",
        ">>>>[Actividad 9: scatter plot](#scrollTo=KbEJFUFHrOKi&uniqifier=1)\n",
        "\n",
        ">>>>[BubbleChart](#scrollTo=WyOgpQXMrOKo&uniqifier=1)\n",
        "\n",
        ">>>>>[Descripción del ejemplo](#scrollTo=SlarMue5rOKu&uniqifier=1)\n",
        "\n",
        ">>>>[Actividad 10: bubblechart](#scrollTo=MHiEDsXvrOKw&uniqifier=1)\n",
        "\n",
        ">>>[Histogama](#scrollTo=_8WevAhjrcL4&uniqifier=1)\n",
        "\n",
        ">>>>>[Descripción del ejemplo](#scrollTo=OVyIKyw1rcMC&uniqifier=1)\n",
        "\n",
        ">>>>[Actividad 11: histograma](#scrollTo=kwQqVHfyrcMD&uniqifier=1)\n",
        "\n",
        ">>[Framework](#scrollTo=eVLJV4kAroc7&uniqifier=1)\n",
        "\n",
        ">>>>[Actividad 12: framework](#scrollTo=7mDx9yE0rcMY&uniqifier=1)\n",
        "\n",
        ">>[Bonus: ejemplos dinamicos](#scrollTo=IaCAWf7xeKOJ&uniqifier=1)\n",
        "\n"
      ]
    },
    {
      "cell_type": "markdown",
      "metadata": {
        "id": "9ckes_XsRkjN",
        "colab_type": "text"
      },
      "source": [
        "## Descargar _dataset_\n",
        "En primero lugar, como estaremos ocupando un servidor externo, es necesario descargar el _dataset_ en dicho servidor. Para esto ocuparemos el comando `wget` el cual descagará desde dropbox el _dataset_ a utilizar."
      ]
    },
    {
      "cell_type": "code",
      "metadata": {
        "id": "O-9xqsGNALmn",
        "colab_type": "code",
        "outputId": "1b86c42b-e7fe-4f89-c5a6-ab852abc2274",
        "colab": {
          "base_uri": "https://localhost:8080/",
          "height": 402
        }
      },
      "source": [
        "!wget -N https://www.dropbox.com/s/0xp8srkxmfcfbb9/DatasetCenso.csv"
      ],
      "execution_count": 0,
      "outputs": [
        {
          "output_type": "stream",
          "text": [
            "--2018-08-14 14:09:16--  https://www.dropbox.com/s/0xp8srkxmfcfbb9/DatasetCenso.csv\r\n",
            "Resolving www.dropbox.com (www.dropbox.com)... 162.125.7.1, 2620:100:6016:1::a27d:101\n",
            "Connecting to www.dropbox.com (www.dropbox.com)|162.125.7.1|:443... connected.\n",
            "HTTP request sent, awaiting response... 301 Moved Permanently\n",
            "Location: /s/raw/0xp8srkxmfcfbb9/DatasetCenso.csv [following]\n",
            "--2018-08-14 14:09:16--  https://www.dropbox.com/s/raw/0xp8srkxmfcfbb9/DatasetCenso.csv\n",
            "Reusing existing connection to www.dropbox.com:443.\n",
            "HTTP request sent, awaiting response... 302 Found\n",
            "Location: https://uc16ea9e304d338ae66790e823ff.dl.dropboxusercontent.com/cd/0/inline/AN5d9wVEIsmxtnb8HsDfEGl-_XLyd5d7g5dsfhNgHvmTzkAbzNibgxHx4xBYhoWtFOU46MbY7trvYNiLuQ5zo1QaeqPTjL8S8AKwHcMG5Xh9LvIGRPvY93j7qOEcbv_62zA2ASCU3mAwNzyyW7eGd3E5VaOgr2cAhBBnMW8rmF9vpEufUgYqbaYFbpyCUwmX0q4/file [following]\n",
            "--2018-08-14 14:09:17--  https://uc16ea9e304d338ae66790e823ff.dl.dropboxusercontent.com/cd/0/inline/AN5d9wVEIsmxtnb8HsDfEGl-_XLyd5d7g5dsfhNgHvmTzkAbzNibgxHx4xBYhoWtFOU46MbY7trvYNiLuQ5zo1QaeqPTjL8S8AKwHcMG5Xh9LvIGRPvY93j7qOEcbv_62zA2ASCU3mAwNzyyW7eGd3E5VaOgr2cAhBBnMW8rmF9vpEufUgYqbaYFbpyCUwmX0q4/file\n",
            "Resolving uc16ea9e304d338ae66790e823ff.dl.dropboxusercontent.com (uc16ea9e304d338ae66790e823ff.dl.dropboxusercontent.com)... 162.125.7.6, 2620:100:601b:6::a27d:806\n",
            "Connecting to uc16ea9e304d338ae66790e823ff.dl.dropboxusercontent.com (uc16ea9e304d338ae66790e823ff.dl.dropboxusercontent.com)|162.125.7.6|:443... connected.\n",
            "HTTP request sent, awaiting response... 200 OK\n",
            "Length: 7031874 (6.7M) [text/plain]\n",
            "Saving to: ‘DatasetCenso.csv’\n",
            "\n",
            "DatasetCenso.csv    100%[===================>]   6.71M  40.9MB/s    in 0.2s    \n",
            "\n",
            "Last-modified header missing -- time-stamps turned off.\n",
            "2018-08-14 14:09:17 (40.9 MB/s) - ‘DatasetCenso.csv’ saved [7031874/7031874]\n",
            "\n"
          ],
          "name": "stdout"
        }
      ]
    },
    {
      "cell_type": "markdown",
      "metadata": {
        "id": "ir8v3hVTSjCt",
        "colab_type": "text"
      },
      "source": [
        "El _dataset_ ha sido descargado, si ahora utilizamos el comando `ls` podremos observar que archivos están actualmente en el servidor y que podrás utilizar desde este _jupyter notebook_."
      ]
    },
    {
      "cell_type": "code",
      "metadata": {
        "id": "5yD-Vp_FSipk",
        "colab_type": "code",
        "outputId": "85cad3fb-2fa2-4820-e571-37a56b24a450",
        "colab": {
          "base_uri": "https://localhost:8080/",
          "height": 34
        }
      },
      "source": [
        "ls"
      ],
      "execution_count": 0,
      "outputs": [
        {
          "output_type": "stream",
          "text": [
            "\u001b[0m\u001b[01;34mdatalab\u001b[0m/  DatasetCenso.csv\r\n"
          ],
          "name": "stdout"
        }
      ]
    },
    {
      "cell_type": "markdown",
      "metadata": {
        "id": "fHHT_LhIAMBB",
        "colab_type": "text"
      },
      "source": [
        "## Descripción del _dataset_\n",
        "Con el fín de reducir el peso de este archivo, fue necesario eliminar multiples columnas del _dataset_ original. Por lo tanto, las columnas de las preguntas conservadas y su respectiva descripción son:\n",
        "\n",
        "- **comuna**: comuna de la casa que fue censada.\n",
        "- **parentesco**:  relación de parentesco con el jefe/a de hogar. Esta columna corresponde a la columna P07 del _dataset_ original.\n",
        "- **edad**: años cumplidos. Esta columna corresponde a la columna P09 del _dataset_ original.\n",
        "- **pais**: país donde vivía la madre del encuestado cuando nació. Esta columna corresponde a la columna P12PAIS del _dataset_ original.\n",
        "- **a_llegada**:  año que llegó el encuestado a Chile. Esta columna corresponde a la columna P12A_LLEGADA del _dataset_ original.\n",
        "- **n_educacional**:  nivel educacional logrado del encuestado. Esta columna corresponde a la columna P15 del _dataset_ original luego de pasar por una función que agrupó diferentes niveles educaciones a un número fijo.\n",
        "- **descendencia**: cantidad de hijos del encuestado. Esta columna corresponde a la columna P19 del _dataset_ original.\n",
        "\n",
        "\n",
        "**Importante**: Las columnas están separadas por punto y coma (`\";\"`).\n",
        "\n",
        "Adicionalmente, para reducir la cantidad de respuestas, se realizó un filtro para dejar solo las respuestas dadas por personas inmigrantes.\n"
      ]
    },
    {
      "cell_type": "markdown",
      "metadata": {
        "id": "ops-zKxKWo7Q",
        "colab_type": "text"
      },
      "source": [
        "\n",
        "\n",
        "## A explorar el _dataset_\n",
        "\n",
        "### Actividad 1: exploración de _dataset_\n",
        "\n",
        "Antes de empezar a procesar y visualizar los datos, es necesario entender el _dataset_. Por lo tanto, primero necesitamos que identifiques las columnas que son **numéricas**, **categóricas** y **ordinales**.\n",
        "\n",
        "\n",
        "** Respuesta **\n",
        "\n",
        "COMPLETAR\n",
        "\n",
        "\n"
      ]
    },
    {
      "cell_type": "markdown",
      "metadata": {
        "id": "7aAfiGfZWq80",
        "colab_type": "text"
      },
      "source": [
        "\n",
        "## Manipulacíón básica de los datos.\n",
        "\n",
        "Para poder describir el _dataset_ se introducirá el uso de la librería [`pandas`](https://pandas.pydata.org/), el cual es un paquete de Python que provee de una serie de funciones, métodos y estructuras de datos para trabajar los _dataset_ de forma facil e intuitiva.\n",
        "\n"
      ]
    },
    {
      "cell_type": "markdown",
      "metadata": {
        "id": "JwYdruuhWtQW",
        "colab_type": "text"
      },
      "source": [
        "### `numpy` y `pandas`.\n",
        "Primero, es necesario saber existe una librería para Python llamada [`numpy`](http://www.numpy.org/) la cual  permite crear arreglos y matrices multidimensionales que contienen datos genéricos. Dichos arreglos y matrices son operados de forma eficiente en memoria e incrementa en gran medida la velocidad de las operaciones realizadas con cada uno de sus elementos. `pandas` está construido sobre la librería de `numpy`. Esto produce que algunos métodos o funciones de `pandas` no retornen tipos de datos creados en la propia librería, como los [`DataFrame`](https://pandas.pydata.org/pandas-docs/stable/generated/pandas.DataFrame.html) o [`Series`](https://pandas.pydata.org/pandas-docs/stable/generated/pandas.Series.html), sino que retorne estructuras de ``numpy`` como el  [``numpy.ndarray``](https://docs.scipy.org/doc/numpy-1.14.0/reference/generated/numpy.ndarray.html). Al mismo tiempo, ``pandas`` puede cargar facilmente matrices que provengan de `numpy`.\n",
        "\n"
      ]
    },
    {
      "cell_type": "markdown",
      "metadata": {
        "id": "4aJ9fXMkWuTE",
        "colab_type": "text"
      },
      "source": [
        "\n",
        "\n",
        "### Funciones de resumen\n",
        "\n",
        "Lo primero que necesitamos es poder cargar el _dataset_ con `pandas` y luego lograr obtener alguna información sobre sus columnas. Para esto se enseñará cómo abrir y obtener algún dato mínimo para luego solicitar que hagas acciones similares con otras columnas.\n",
        "\n",
        "- **Abrir un archivo CSV** Para realizar tal acción se utiliza la función [`read_csv`](https://pandas.pydata.org/pandas-docs/stable/generated/pandas.read_csv.html) que retorna un `DataFrame` con la información del archivo. A continuación vamos a cargar el archivo y guardarlo en la variable `censo`.\n",
        "\n",
        "\n",
        "\n"
      ]
    },
    {
      "cell_type": "code",
      "metadata": {
        "id": "fhGSTG4ybbtD",
        "colab_type": "code",
        "colab": {}
      },
      "source": [
        "import pandas as pd\n",
        "censo = pd.read_csv(\"DatasetCenso.csv\", sep=\";\")"
      ],
      "execution_count": 0,
      "outputs": []
    },
    {
      "cell_type": "markdown",
      "metadata": {
        "id": "wdgmLqqicqs9",
        "colab_type": "text"
      },
      "source": [
        "- **Obtener información de resumen:** a veces es necesario explorar los datos, como saber cuales son los valores posibles de alguna columna categórica o saber el valor mínimo de una columna numérica. A continuación vamos a ver cuál es el año mínimo en el que han llegado los inmigrantes y de que cuántos países lo han hecho. Para lo primero, se selecionará la columna `a_llegada` ejecutando `censo.a_llegada` y luego se aplicará el método [`min`](https://pandas.pydata.org/pandas-docs/stable/generated/pandas.DataFrame.min.html) que retorna el valor mínimo de la columna seleccionada."
      ]
    },
    {
      "cell_type": "code",
      "metadata": {
        "id": "A0nMtjAzdUb-",
        "colab_type": "code",
        "outputId": "188dd6e3-a407-4335-f8c1-44e980da3566",
        "colab": {
          "base_uri": "https://localhost:8080/",
          "height": 34
        }
      },
      "source": [
        "censo.a_llegada.min()"
      ],
      "execution_count": 0,
      "outputs": [
        {
          "output_type": "execute_result",
          "data": {
            "text/plain": [
              "1950"
            ]
          },
          "metadata": {
            "tags": []
          },
          "execution_count": 4
        }
      ]
    },
    {
      "cell_type": "markdown",
      "metadata": {
        "id": "ifGhjPZQdarr",
        "colab_type": "text"
      },
      "source": [
        "Aquí podemos notar que el año en donde llegó el primer inmigrante según este censo es en 1950. Ahora, para obtener la cantidad de paises de los cualen han llegado inmigrantes, es necesario utilizar más de un línea de código. Primero vamos a encontrar los valores únicos de la columna `pais` y luego contar la cantidad de países. El código para obtener tal información es:"
      ]
    },
    {
      "cell_type": "code",
      "metadata": {
        "id": "RUaLJoBEdaAh",
        "colab_type": "code",
        "outputId": "aac42d70-b030-47ae-d5f6-6681666821db",
        "colab": {
          "base_uri": "https://localhost:8080/",
          "height": 34
        }
      },
      "source": [
        "paises = censo.pais.unique()\n",
        "paises_dataframe = pd.DataFrame(paises)\n",
        "paises_dataframe.shape"
      ],
      "execution_count": 0,
      "outputs": [
        {
          "output_type": "execute_result",
          "data": {
            "text/plain": [
              "(76, 1)"
            ]
          },
          "metadata": {
            "tags": []
          },
          "execution_count": 5
        }
      ]
    },
    {
      "cell_type": "markdown",
      "metadata": {
        "id": "8CwRYkyLeOdk",
        "colab_type": "text"
      },
      "source": [
        "La respuesta es que existen 76 paises distintos. Para obtener este resultado se realizaron 3 líneas de código:\n",
        "1. `paises = censo.pais.unique()`:   en esta línea se realizan 2 acciones. Primero se le indica al `DataFrame` `censo` que seleccione la columna `pais`  mediante el código `censo.pais` y a dicha comuna se le aplica el método [`unique`](https://pandas.pydata.org/pandas-docs/stable/generated/pandas.Series.unique.html) el cual retorna un `numpy.ndarray` con todos los valores diferentes de esa columna.\n",
        "2. `paises_dataframe = pd.DataFrame(paises)`: con esta línea, se está transformando el `numpy.ndarray` en un `DataFrame`, esto último se hace porque `pandas` posee una variedad de métodos mucho mayor para el procesamiento de datos que `numpy`.\n",
        "3. `paises_dataframe.shape`:  con el atributo [`shape`](https://pandas.pydata.org/pandas-docs/stable/generated/pandas.DataFrame.shape.html), se obtiene la dimensión de la matriz. Como `unique` nos entregó una lista de varios elementos, la dimensión es solo 1 fila con múltiples elementos. Eso explica el `(76, 1)`, el primero es la cantidad de columnas distintas y el segundo es la cantidad de filas, es este caso, 1.\n",
        "\n"
      ]
    },
    {
      "cell_type": "markdown",
      "metadata": {
        "id": "Rq_MTug2XD5j",
        "colab_type": "text"
      },
      "source": [
        "#### Actividad 2: funciones de resumen\n",
        "\n",
        "\n",
        "Ahora, utilizando la librería ``pandas`` necesitamos que escriba el código necesario para realizar lo siguiente:\n",
        "\n",
        "1. Responder: ¿En cuántas comunas distintas fueron censados los inmigrantes? \n",
        "2. Indicar cuáles son las 10 primeras y 10 últimas entrevistas registradas en el censo.\n",
        "3. Describir cada columna numérica y ordinal con: la cantidad de datos, promedio, desviación estandar, mínimo, máximo y los diferentes cuartiles."
      ]
    },
    {
      "cell_type": "markdown",
      "metadata": {
        "id": "jwqxcPcgTVIS",
        "colab_type": "text"
      },
      "source": [
        "\n",
        "** Respuesta pregunta 1**\n",
        "\n",
        "COMPLETAR\n",
        "\n",
        "\n"
      ]
    },
    {
      "cell_type": "code",
      "metadata": {
        "id": "51C6C6MkgnYP",
        "colab_type": "code",
        "colab": {}
      },
      "source": [
        ""
      ],
      "execution_count": 0,
      "outputs": []
    },
    {
      "cell_type": "markdown",
      "metadata": {
        "id": "XapU6YeDf7jR",
        "colab_type": "text"
      },
      "source": [
        "\n",
        "\n",
        "** Respuesta pregunta 2**\n",
        "\n",
        "COMPLETAR\n",
        "\n",
        "**Hint:** investigue el uso de los métodos [`head`](https://pandas.pydata.org/pandas-docs/stable/generated/pandas.DataFrame.head.html) y [`tail`](https://pandas.pydata.org/pandas-docs/stable/generated/pandas.DataFrame.tail.html)."
      ]
    },
    {
      "cell_type": "code",
      "metadata": {
        "id": "VzD2OfVFSL5R",
        "colab_type": "code",
        "colab": {}
      },
      "source": [
        ""
      ],
      "execution_count": 0,
      "outputs": []
    },
    {
      "cell_type": "markdown",
      "metadata": {
        "id": "T5FismjqSNNP",
        "colab_type": "text"
      },
      "source": [
        "\n",
        "** Respuesta pregunta 3**\n",
        "\n",
        "COMPLETAR\n",
        "\n",
        "**Hint:** investigue el uso de `pandas` y del método [`describe`]()."
      ]
    },
    {
      "cell_type": "code",
      "metadata": {
        "id": "ZcuAYCqSgrKQ",
        "colab_type": "code",
        "colab": {}
      },
      "source": [
        ""
      ],
      "execution_count": 0,
      "outputs": []
    },
    {
      "cell_type": "markdown",
      "metadata": {
        "id": "WtsgKnZMfklD",
        "colab_type": "text"
      },
      "source": [
        "¿Hay algo raro con la descripción? ¿Puede ser que algún dato no tenga mucho sentido? Esto pasa porque dentro del _dataset_ hay valores que no representan la respuesta del encuestado, sino que indica que dicha respuesta no aplica a lo preguntado o no se obtuvo una respuesta, esto se codificó como 99 o 98  en las columnas  `n_educacional` y `descendencia`, y como 9999 en `a_llegada`. Todos estos datos siempre se exigen filtrar para realizar una visualización que no sea afectada por el ruido de personas con datos fuera de lo esperado."
      ]
    },
    {
      "cell_type": "markdown",
      "metadata": {
        "id": "dz4h0X8YhImo",
        "colab_type": "text"
      },
      "source": [
        "### Filtros\n",
        "En muchos casos, se require filtrar por uno o más datos. A continuación se mostrará un ejemplo de como filtrar para obtener la cantidad de inmigrantes de un solo país y luego de una lista de paises. En particular, queremos saber la cantidad de inmigrantes de México y de Japón o Alemania"
      ]
    },
    {
      "cell_type": "code",
      "metadata": {
        "id": "dAANzeEqhlQ6",
        "colab_type": "code",
        "outputId": "beac8034-9418-4de4-9077-4f298b4add76",
        "colab": {
          "base_uri": "https://localhost:8080/",
          "height": 153
        }
      },
      "source": [
        "censo[censo.pais == \"México\"].count()"
      ],
      "execution_count": 0,
      "outputs": [
        {
          "output_type": "execute_result",
          "data": {
            "text/plain": [
              "comuna           2843\n",
              "parentesco       2843\n",
              "edad             2843\n",
              "pais             2843\n",
              "a_llegada        2843\n",
              "n_educacional    2843\n",
              "descendencia     2843\n",
              "dtype: int64"
            ]
          },
          "metadata": {
            "tags": []
          },
          "execution_count": 6
        }
      ]
    },
    {
      "cell_type": "code",
      "metadata": {
        "id": "uci0zI7iUBcf",
        "colab_type": "code",
        "colab": {}
      },
      "source": [
        ""
      ],
      "execution_count": 0,
      "outputs": []
    },
    {
      "cell_type": "markdown",
      "metadata": {
        "id": "tATHqIAoiKt5",
        "colab_type": "text"
      },
      "source": [
        "En este caso,  con el código `censo[censo.pais == \"México\"]`, le estamos indicando al DataFrame que solo retorne aquellas filas donde la columa `pais` sea igual a `\"México\"`. Posteriormente estamos aplicando el método [`count`](https://pandas.pydata.org/pandas-docs/stable/generated/pandas.DataFrame.count.html) para saber cuantos resultados persisten por columna. Para más información de como seleccionar información, pueden revisar esta [página](https://pandas.pydata.org/pandas-docs/stable/indexing.html).\n",
        "\n",
        "Ahora, para obtener la cantidad de inmigrantes de una lista de paises, hay dos formas, realizar una busqueda similar a la anterior, pero agregando `or` o utilizar el método [`isin`](https://pandas.pydata.org/pandas-docs/stable/generated/pandas.DataFrame.isin.html). En este caso ocuparemos la segunda opción:\n"
      ]
    },
    {
      "cell_type": "code",
      "metadata": {
        "id": "bjktV0x3h2Bi",
        "colab_type": "code",
        "outputId": "4d262632-71c6-4a82-cdd5-03379e70e243",
        "colab": {
          "base_uri": "https://localhost:8080/",
          "height": 153
        }
      },
      "source": [
        "censo[censo.pais.isin([\"Japón\", \"Alemania\"])].count()"
      ],
      "execution_count": 0,
      "outputs": [
        {
          "output_type": "execute_result",
          "data": {
            "text/plain": [
              "comuna           3538\n",
              "parentesco       3538\n",
              "edad             3538\n",
              "pais             3538\n",
              "a_llegada        3538\n",
              "n_educacional    3538\n",
              "descendencia     3538\n",
              "dtype: int64"
            ]
          },
          "metadata": {
            "tags": []
          },
          "execution_count": 7
        }
      ]
    },
    {
      "cell_type": "markdown",
      "metadata": {
        "id": "hQBEEeBaj_Jv",
        "colab_type": "text"
      },
      "source": [
        "En este caso, disponemos de 3538 personas cuyo origin es Japón o Alemania. \n",
        "\n"
      ]
    },
    {
      "cell_type": "markdown",
      "metadata": {
        "id": "O5cjZnLSXuDk",
        "colab_type": "text"
      },
      "source": [
        "#### Actividad 3: filtros\n",
        "1. Indique la cantidad de inmigrantes que llegaron antes del 2010.\n",
        "2. Indique la cantidad de inmigrantes que no fueron censados en Macul o Puente Alto.\n",
        "\n",
        "\n",
        "** Respuesta pregunta 1**\n",
        "\n",
        "COMPLETAR\n",
        "\n",
        "**Hint:** investigue el uso del simbolo \"<\" en ``pandas`` para filtrar.\n"
      ]
    },
    {
      "cell_type": "code",
      "metadata": {
        "id": "ctN0kDgkj9eG",
        "colab_type": "code",
        "colab": {}
      },
      "source": [
        ""
      ],
      "execution_count": 0,
      "outputs": []
    },
    {
      "cell_type": "markdown",
      "metadata": {
        "id": "cLGqFtankxxz",
        "colab_type": "text"
      },
      "source": [
        "** Respuesta pregunta 2**\n",
        "\n",
        "COMPLETAR\n",
        "\n",
        "**Hint:** investigue cómo aplicar la negación en los filtros."
      ]
    },
    {
      "cell_type": "code",
      "metadata": {
        "id": "sCvlbgcQkx5s",
        "colab_type": "code",
        "colab": {}
      },
      "source": [
        ""
      ],
      "execution_count": 0,
      "outputs": []
    },
    {
      "cell_type": "markdown",
      "metadata": {
        "id": "a5oeGPlhhDHT",
        "colab_type": "text"
      },
      "source": [
        "\n",
        "### Funciones de agregación\n",
        "\n",
        "Finalmente, un uso práctico de ``pandas`` es agrupar columnas bajo 1 o más parametros en común. Para esto se usa la función [`groupby`](https://pandas.pydata.org/pandas-docs/stable/generated/pandas.DataFrame.groupby.html) que recibe una lista de las columnas y genera grupos donde todas las filas de cada uno comparten con la misma combinación de valores en las comunas indicadas. Por ejemplo, vamos a contar la cantidad de inmigrantes por nivel educacional.\n",
        "\n",
        "\n",
        "**Nota adicional**: Más información de `groupby` [aquí](https://pandas.pydata.org/pandas-docs/stable/groupby.html)"
      ]
    },
    {
      "cell_type": "code",
      "metadata": {
        "id": "R5eCAtyR4BaT",
        "colab_type": "code",
        "outputId": "8de36979-e166-418c-a2e0-85d395ec1192",
        "colab": {
          "base_uri": "https://localhost:8080/",
          "height": 266
        }
      },
      "source": [
        "censo.groupby(\"n_educacional\").count()"
      ],
      "execution_count": 0,
      "outputs": [
        {
          "output_type": "execute_result",
          "data": {
            "text/html": [
              "<div>\n",
              "<style scoped>\n",
              "    .dataframe tbody tr th:only-of-type {\n",
              "        vertical-align: middle;\n",
              "    }\n",
              "\n",
              "    .dataframe tbody tr th {\n",
              "        vertical-align: top;\n",
              "    }\n",
              "\n",
              "    .dataframe thead th {\n",
              "        text-align: right;\n",
              "    }\n",
              "</style>\n",
              "<table border=\"1\" class=\"dataframe\">\n",
              "  <thead>\n",
              "    <tr style=\"text-align: right;\">\n",
              "      <th></th>\n",
              "      <th>comuna</th>\n",
              "      <th>parentesco</th>\n",
              "      <th>edad</th>\n",
              "      <th>pais</th>\n",
              "      <th>a_llegada</th>\n",
              "      <th>descendencia</th>\n",
              "    </tr>\n",
              "    <tr>\n",
              "      <th>n_educacional</th>\n",
              "      <th></th>\n",
              "      <th></th>\n",
              "      <th></th>\n",
              "      <th></th>\n",
              "      <th></th>\n",
              "      <th></th>\n",
              "    </tr>\n",
              "  </thead>\n",
              "  <tbody>\n",
              "    <tr>\n",
              "      <th>1</th>\n",
              "      <td>116</td>\n",
              "      <td>116</td>\n",
              "      <td>116</td>\n",
              "      <td>116</td>\n",
              "      <td>116</td>\n",
              "      <td>116</td>\n",
              "    </tr>\n",
              "    <tr>\n",
              "      <th>3</th>\n",
              "      <td>9843</td>\n",
              "      <td>9843</td>\n",
              "      <td>9843</td>\n",
              "      <td>9843</td>\n",
              "      <td>9843</td>\n",
              "      <td>9843</td>\n",
              "    </tr>\n",
              "    <tr>\n",
              "      <th>6</th>\n",
              "      <td>34044</td>\n",
              "      <td>34044</td>\n",
              "      <td>34044</td>\n",
              "      <td>34044</td>\n",
              "      <td>34044</td>\n",
              "      <td>34044</td>\n",
              "    </tr>\n",
              "    <tr>\n",
              "      <th>9</th>\n",
              "      <td>57798</td>\n",
              "      <td>57798</td>\n",
              "      <td>57798</td>\n",
              "      <td>57798</td>\n",
              "      <td>57798</td>\n",
              "      <td>57798</td>\n",
              "    </tr>\n",
              "    <tr>\n",
              "      <th>12</th>\n",
              "      <td>10297</td>\n",
              "      <td>10297</td>\n",
              "      <td>10297</td>\n",
              "      <td>10297</td>\n",
              "      <td>10297</td>\n",
              "      <td>10297</td>\n",
              "    </tr>\n",
              "    <tr>\n",
              "      <th>98</th>\n",
              "      <td>3928</td>\n",
              "      <td>3928</td>\n",
              "      <td>3928</td>\n",
              "      <td>3928</td>\n",
              "      <td>3928</td>\n",
              "      <td>3928</td>\n",
              "    </tr>\n",
              "  </tbody>\n",
              "</table>\n",
              "</div>"
            ],
            "text/plain": [
              "               comuna  parentesco   edad   pais  a_llegada  descendencia\n",
              "n_educacional                                                           \n",
              "1                 116         116    116    116        116           116\n",
              "3                9843        9843   9843   9843       9843          9843\n",
              "6               34044       34044  34044  34044      34044         34044\n",
              "9               57798       57798  57798  57798      57798         57798\n",
              "12              10297       10297  10297  10297      10297         10297\n",
              "98               3928        3928   3928   3928       3928          3928"
            ]
          },
          "metadata": {
            "tags": []
          },
          "execution_count": 8
        }
      ]
    },
    {
      "cell_type": "markdown",
      "metadata": {
        "id": "LjRksr6ClKEZ",
        "colab_type": "text"
      },
      "source": [
        "Aquí podemos observar que la mayor cantidad de personas obtiene un nivel educacional de 9 seguido del 6, es decir, la mayoría de los inmigrantes tiene educación media o superior finalizada. \n"
      ]
    },
    {
      "cell_type": "markdown",
      "metadata": {
        "id": "wbHP17qbYAF4",
        "colab_type": "text"
      },
      "source": [
        "#### Actividad 4: funciones de agregación\n",
        "\n",
        "Ahora, utilice esta función y lo aprendido anteriormente para indicar la edad promedio de los inmigrantes por país y nivel educacional de únicamente los jefes de hogar. \n",
        "\n",
        "\n",
        "** Respuesta **\n",
        "COMPLETAR\n",
        "\n",
        "**Hint:** Aquí es necesario **filtrar**, **agrupar** por más valores y utilizar otro método para **calcular el promedio del grupo**."
      ]
    },
    {
      "cell_type": "code",
      "metadata": {
        "id": "XQdkgeS5lKXS",
        "colab_type": "code",
        "colab": {}
      },
      "source": [
        ""
      ],
      "execution_count": 0,
      "outputs": []
    },
    {
      "cell_type": "markdown",
      "metadata": {
        "id": "SSjFGsg2lJPy",
        "colab_type": "text"
      },
      "source": [
        "### Bonus: [`dask`](http://dask.pydata.org/en/latest/docs.html) y [`joblib`](https://pythonhosted.org/joblib/index.html)\n",
        "\n",
        "Anteriormente mostramos métodos para el filtro y agregación de datos, pero ¿Qué pasa si el _dataset_ pesa 4GB o más? ¿Se podrá filtrar de forma eficiente?.  ¿Sigo usando pandas?\n",
        "\n",
        "Para estos casos, no se recomienda utilizar pandas porque este intentará dejar en memoria RAM todo el _dataset_ cargado, y podria ocurrir que no tienes suficiente memoria en tu computador. Es por ello que te contamos de 2 librerías de Python que buscan entregar una forma rápida  e intuitiva para trabajar con grandes volumenes de datos. En particular, dask utiliza los mismos métodos y funciones de pandas, pero por detrás posee un sistema capaz de, entre otras cosas: a) procesar archivos que no caben en memoria, y b) paralelizar todas las acciones que deseas realizar (filtrar, seleccionar, agrupar, etc) en diferentes _cores_ de tus CPU. Si bien no es el alcance de este práctico, tenlos en cuenta cuando quieras procesar datos en el futuro."
      ]
    },
    {
      "cell_type": "markdown",
      "metadata": {
        "id": "WAkmGyJPaImq",
        "colab_type": "text"
      },
      "source": [
        "## Gráficos de ejemplo con Altair"
      ]
    },
    {
      "cell_type": "markdown",
      "metadata": {
        "id": "srJQP-LJsHVM",
        "colab_type": "text"
      },
      "source": [
        "### Gráficos de barra\n"
      ]
    },
    {
      "cell_type": "markdown",
      "metadata": {
        "id": "Ekg96Eik3e9H",
        "colab_type": "text"
      },
      "source": [
        "#### [Bar Chart](https://altair-viz.github.io/gallery/simple_bar_chart.html)"
      ]
    },
    {
      "cell_type": "code",
      "metadata": {
        "id": "BJHM0XJq3ett",
        "colab_type": "code",
        "outputId": "710d173b-65a1-4026-9ba8-2c667113b975",
        "colab": {
          "base_uri": "https://localhost:8080/",
          "height": 387
        }
      },
      "source": [
        "import altair as alt\n",
        "import pandas as pd\n",
        "\n",
        "data = pd.DataFrame({\n",
        "    'a': ['A', 'B', 'C', 'D', 'E', 'F', 'G', 'H', 'I'],\n",
        "    'b': [55, 48, 34, 21, 11, 73, 89, 97, 100]    \n",
        "})\n",
        "\n",
        "alt.Chart(data).mark_bar().encode(\n",
        "    x='a',\n",
        "    y='b'\n",
        ")"
      ],
      "execution_count": 0,
      "outputs": [
        {
          "output_type": "execute_result",
          "data": {
            "text/plain": [
              "Chart({\n",
              "  data:    a    b\n",
              "  0  A   55\n",
              "  1  B   48\n",
              "  2  C   34\n",
              "  3  D   21\n",
              "  4  E   11\n",
              "  5  F   73\n",
              "  6  G   89\n",
              "  7  H   97\n",
              "  8  I  100,\n",
              "  encoding: EncodingWithFacet({\n",
              "    color: Color({\n",
              "      shorthand: 'a'\n",
              "    }),\n",
              "    x: X({\n",
              "      shorthand: 'a'\n",
              "    }),\n",
              "    y: Y({\n",
              "      shorthand: 'b'\n",
              "    })\n",
              "  }),\n",
              "  mark: 'bar'\n",
              "})"
            ],
            "text/html": [
              "\n",
              "<!DOCTYPE html>\n",
              "<html>\n",
              "<head>\n",
              "  <style>\n",
              "    .vega-actions a {\n",
              "        margin-right: 12px;\n",
              "        color: #757575;\n",
              "        font-weight: normal;\n",
              "        font-size: 13px;\n",
              "    }\n",
              "    .error {\n",
              "        color: red;\n",
              "    }\n",
              "  </style>\n",
              "\n",
              "<script src=\"https://cdn.jsdelivr.net/npm//vega@3.3.1\"></script>\n",
              "<script src=\"https://cdn.jsdelivr.net/npm//vega-lite@2.4.3\"></script>\n",
              "<script src=\"https://cdn.jsdelivr.net/npm//vega-embed@3.11\"></script>\n",
              "\n",
              "</head>\n",
              "<body>\n",
              "  <div id=\"vis\"></div>\n",
              "  <script type=\"text/javascript\">\n",
              "    var spec = {\"config\": {\"view\": {\"width\": 400, \"height\": 300}}, \"data\": {\"values\": [{\"a\": \"A\", \"b\": 55}, {\"a\": \"B\", \"b\": 48}, {\"a\": \"C\", \"b\": 34}, {\"a\": \"D\", \"b\": 21}, {\"a\": \"E\", \"b\": 11}, {\"a\": \"F\", \"b\": 73}, {\"a\": \"G\", \"b\": 89}, {\"a\": \"H\", \"b\": 97}, {\"a\": \"I\", \"b\": 100}]}, \"mark\": \"bar\", \"encoding\": {\"color\": {\"type\": \"nominal\", \"field\": \"a\"}, \"x\": {\"type\": \"nominal\", \"field\": \"a\"}, \"y\": {\"type\": \"quantitative\", \"field\": \"b\"}}, \"$schema\": \"https://vega.github.io/schema/vega-lite/v2.4.3.json\"};\n",
              "    var embed_opt = {\"mode\": \"vega-lite\"};\n",
              "\n",
              "    function showError(el, error){\n",
              "        el.innerHTML = ('<div class=\"error\">'\n",
              "                        + '<p>JavaScript Error: ' + error.message + '</p>'\n",
              "                        + \"<p>This usually means there's a typo in your chart specification. \"\n",
              "                        + \"See the javascript console for the full traceback.</p>\"\n",
              "                        + '</div>');\n",
              "        throw error;\n",
              "    }\n",
              "    const el = document.getElementById('vis');\n",
              "    vegaEmbed(\"#vis\", spec, embed_opt)\n",
              "      .catch(error => showError(el, error));\n",
              "  </script>\n",
              "</body>\n",
              "</html>\n"
            ]
          },
          "metadata": {
            "tags": []
          },
          "execution_count": 1
        }
      ]
    },
    {
      "cell_type": "markdown",
      "metadata": {
        "id": "MsyK29c9qPwI",
        "colab_type": "text"
      },
      "source": [
        "##### Descripción del ejemplo\n",
        "\n",
        "Ahora procederemos a explicar línea a línea el código. \n",
        "-  **Línea 1 y 2**\n",
        "\n",
        "```\n",
        "import altair as alt\n",
        "import pandas as pd\n",
        "```\n",
        "Con estas 2 líneas estamos importanto la librería ``altair`` y la librería ``pandas``. Es de vitar importantia partir importando todo módulo o librería externa a Python que utilizarás para no generar error.\n",
        "\n",
        "- **Línea 4 a 7**\n",
        "\n",
        "```python\n",
        "data = pd.DataFrame({\n",
        "    'a': ['A', 'B', 'C', 'D', 'E', 'F', 'G', 'H', 'I'],\n",
        "    'b': [55, 48, 34, 21, 11, 73, 89, 97, 100]\n",
        "})\n",
        "```\n",
        "Con estas línea, se está creando un DataFrame de 2 columnas (`a` y `b`) en donde `a` serán datos categoricos y `b` serán datos numéricos.\n",
        "- **Línea 9**\n",
        "\n",
        "```python\n",
        "alt.Chart(data).mark_bar().encode(\n",
        "```\n",
        "En esta línea se hacen 2 acciones:\n",
        "1. Se entrega el  ``DataFrame``  `data` al objeto [`chart`](https://altair-viz.github.io/user_guide/API.html#altair.Chart). Así se le indica a la visualización de donde se obtendrán los datos.\n",
        "2. Se setea el tipo de marca para representar el _dataset_ con el método `mark_bar`. Este método indica que se representará mediante barras. Si quieres ver diferentes marcas, en esta [página](https://altair-viz.github.io/user_guide/marks.html) puedes encontrar más.\n",
        "    1. Todos los métodos de marcas pueden recibir argumentos para personalizar dichas marcas, uno que veremos más adelante es el _stroke_ para editar el borde de las barras.\n",
        "    \n",
        "Adicionalmente, se agrega el `.encode(` para indicar que ahora se comenzará a entregar líneas de código de como será el _encoding_ de los datos en el gráfico.\n",
        "\n",
        "- **Línea 10 y 11**\n",
        "\n",
        "```python\n",
        "    x='a',\n",
        "    y='b',\n",
        "```\n",
        "Con estas 2 líneas, se indica el _encoding_ de los ejes, en particular le estamos indicando las columna del `DataFrame` a utilizar para cada eje."
      ]
    },
    {
      "cell_type": "markdown",
      "metadata": {
        "id": "0mRjsG9VqRAx",
        "colab_type": "text"
      },
      "source": [
        "#### Actividad 5: _Bar chart_\n",
        "Seleccione 5 países e indique la cantidad de inmigrantes por pais mediante un gráfico de barras contruido con Altair. \n",
        "\n",
        "**Importante** Tenga precaución del número máximo de filas soportadas por Altair."
      ]
    },
    {
      "cell_type": "code",
      "metadata": {
        "id": "_zf4MhBSdUFo",
        "colab_type": "code",
        "colab": {}
      },
      "source": [
        ""
      ],
      "execution_count": 0,
      "outputs": []
    },
    {
      "cell_type": "markdown",
      "metadata": {
        "id": "mVX2dOUdRcAv",
        "colab_type": "text"
      },
      "source": [
        "#### [Grouped Bar Chart](https://altair-viz.github.io/gallery/grouped_bar_chart.html)"
      ]
    },
    {
      "cell_type": "code",
      "metadata": {
        "id": "wawbiEhD7P09",
        "colab_type": "code",
        "outputId": "b601af9c-d45c-4f08-e66b-55878d0bd753",
        "colab": {
          "base_uri": "https://localhost:8080/",
          "height": 475
        }
      },
      "source": [
        "import altair as alt\n",
        "from altair.expr import datum, if_\n",
        "from vega_datasets import data\n",
        "\n",
        "source = data.population.url\n",
        "\n",
        "alt.Chart(source).mark_bar(stroke='blue').encode(\n",
        "    alt.X('gender:N', scale=alt.Scale(rangeStep=12), axis=alt.Axis(title='')),\n",
        "    alt.Y('sum(people):Q', axis=alt.Axis(title='population', grid=True)),\n",
        "    color=alt.Color('gender:N', scale=alt.Scale(range=[\"#EA98D2\", \"#659CCA\"])),\n",
        "    column='age:O'\n",
        ").configure_view(stroke='transparent'\n",
        ").configure_axis(domainWidth=0.8\n",
        ").transform_filter(datum.year == 2000\n",
        ").transform_calculate('gender', if_(datum.sex == 2, 'Female', 'Male'))"
      ],
      "execution_count": 0,
      "outputs": [
        {
          "output_type": "execute_result",
          "data": {
            "text/plain": [
              "Chart({\n",
              "  config: Config({\n",
              "    axis: AxisConfig({\n",
              "      domainWidth: 0.8\n",
              "    }),\n",
              "    view: ViewConfig({\n",
              "      stroke: 'transparent'\n",
              "    })\n",
              "  }),\n",
              "  data: 'https://vega.github.io/vega-datasets/data/population.json',\n",
              "  encoding: EncodingWithFacet({\n",
              "    color: Color({\n",
              "      scale: Scale({\n",
              "        range: ['#EA98D2', '#659CCA']\n",
              "      }),\n",
              "      shorthand: 'gender:N'\n",
              "    }),\n",
              "    column: Column({\n",
              "      shorthand: 'age:O'\n",
              "    }),\n",
              "    x: X({\n",
              "      axis: Axis({\n",
              "        title: ''\n",
              "      }),\n",
              "      scale: Scale({\n",
              "        rangeStep: 12\n",
              "      }),\n",
              "      shorthand: 'gender:N'\n",
              "    }),\n",
              "    y: Y({\n",
              "      axis: Axis({\n",
              "        grid: True,\n",
              "        title: 'population'\n",
              "      }),\n",
              "      shorthand: 'sum(people):Q'\n",
              "    })\n",
              "  }),\n",
              "  mark: MarkDef({\n",
              "    stroke: 'blue',\n",
              "    type: 'bar'\n",
              "  }),\n",
              "  transform: [FilterTransform({\n",
              "    filter: (datum.year === 2000)\n",
              "  }), CalculateTransform({\n",
              "    as: 'gender',\n",
              "    calculate: if((datum.sex === 2),'Female','Male')\n",
              "  })]\n",
              "})"
            ],
            "text/html": [
              "\n",
              "<!DOCTYPE html>\n",
              "<html>\n",
              "<head>\n",
              "  <style>\n",
              "    .vega-actions a {\n",
              "        margin-right: 12px;\n",
              "        color: #757575;\n",
              "        font-weight: normal;\n",
              "        font-size: 13px;\n",
              "    }\n",
              "    .error {\n",
              "        color: red;\n",
              "    }\n",
              "  </style>\n",
              "\n",
              "<script src=\"https://cdn.jsdelivr.net/npm//vega@3.3.1\"></script>\n",
              "<script src=\"https://cdn.jsdelivr.net/npm//vega-lite@2.4.3\"></script>\n",
              "<script src=\"https://cdn.jsdelivr.net/npm//vega-embed@3.11\"></script>\n",
              "\n",
              "</head>\n",
              "<body>\n",
              "  <div id=\"vis\"></div>\n",
              "  <script type=\"text/javascript\">\n",
              "    var spec = {\"config\": {\"view\": {\"width\": 400, \"height\": 300, \"stroke\": \"transparent\"}, \"axis\": {\"domainWidth\": 0.8}}, \"data\": {\"url\": \"https://vega.github.io/vega-datasets/data/population.json\"}, \"mark\": {\"type\": \"bar\", \"stroke\": \"blue\"}, \"encoding\": {\"color\": {\"type\": \"nominal\", \"field\": \"gender\", \"scale\": {\"range\": [\"#EA98D2\", \"#659CCA\"]}}, \"column\": {\"type\": \"ordinal\", \"field\": \"age\"}, \"x\": {\"type\": \"nominal\", \"axis\": {\"title\": \"\"}, \"field\": \"gender\", \"scale\": {\"rangeStep\": 12}}, \"y\": {\"type\": \"quantitative\", \"aggregate\": \"sum\", \"axis\": {\"grid\": true, \"title\": \"population\"}, \"field\": \"people\"}}, \"transform\": [{\"filter\": \"(datum.year === 2000)\"}, {\"calculate\": \"if((datum.sex === 2),'Female','Male')\", \"as\": \"gender\"}], \"$schema\": \"https://vega.github.io/schema/vega-lite/v2.4.3.json\"};\n",
              "    var embed_opt = {\"mode\": \"vega-lite\"};\n",
              "\n",
              "    function showError(el, error){\n",
              "        el.innerHTML = ('<div class=\"error\">'\n",
              "                        + '<p>JavaScript Error: ' + error.message + '</p>'\n",
              "                        + \"<p>This usually means there's a typo in your chart specification. \"\n",
              "                        + \"See the javascript console for the full traceback.</p>\"\n",
              "                        + '</div>');\n",
              "        throw error;\n",
              "    }\n",
              "    const el = document.getElementById('vis');\n",
              "    vegaEmbed(\"#vis\", spec, embed_opt)\n",
              "      .catch(error => showError(el, error));\n",
              "  </script>\n",
              "</body>\n",
              "</html>\n"
            ]
          },
          "metadata": {
            "tags": []
          },
          "execution_count": 4
        }
      ]
    },
    {
      "cell_type": "markdown",
      "metadata": {
        "id": "M3eOJ-9YA14a",
        "colab_type": "text"
      },
      "source": [
        "##### Descripción del ejemplo\n",
        "\n",
        "Ahora procederemos a explicar línea a línea el código, si alguna ya fue explicada en un gráfico anterior, se omitirá su explicación\n",
        "-  **Línea 2 y 3**\n",
        "\n",
        "```\n",
        "from altair.expr import datum, if_\n",
        "from vega_datasets import data\n",
        "```\n",
        "Con estas 2 líneas estamos importanto algunas funciones de altair (`datum` e `if_`) y el módulo `data` el cual contiene diferentes _datasets_ para poder utilizar. \n",
        "\n",
        "----------------------------\n",
        "- **Línea 4**\n",
        "\n",
        "```python\n",
        "source = data.population.url\n",
        "```\n",
        "Con esta línea, se está guardando en la variable `source` el  _link_ a un archivo [JSON](https://www.json.org/). Precisamente estamos guardando el link al [siguiente archivo](https://vega.github.io/vega-datasets/data/population.json). Como podrás ver, es una lista de diccionario donde cada diccionario sigue el siguiente formato:\n",
        "\n",
        "``` {\"year\":número,\"age\":número,\"sex\":número (1 o 2),\"people\":número}, ```\n",
        "\n",
        "----------------\n",
        "- **Línea 7**\n",
        "\n",
        "```python\n",
        "alt.Chart(source).mark_bar(stroke='blue').encode(\n",
        "```\n",
        "En esta línea se hacen 2 acciones ya vistas (entregar el _dataset_ y setear el tipo de marca), pero se agrega el uso de argumentos dentro del método `mark_bar`. En este caso,  se está seteando una propiedad a la marca con `stroke='blue'`. Esto hace que el borde de las barras sean de un color en especifico, en particular, azul.\n",
        "\n",
        "----------------\n",
        "\n",
        "\n",
        "- **Línea 8**\n",
        "\n",
        "```python\n",
        "alt.X('gender:N', scale=alt.Scale(rangeStep=12), axis=alt.Axis(title='')),\n",
        "```\n",
        "En esta línea, se describe el _encoding_ del eje X, como queremos indicar más propiedades de dicho eje, ya no basta con hacer `x='gender'` como el caso anterior, sino que utilizar [`alt.X`](https://altair-viz.github.io/user_guide/API.html?#altair.X) para indicar más propiedades.\n",
        "\n",
        "Para este ejemplo, se indica que el eje X será la columna `gender` que es un dato nominal, eso justifica el `\":N\"`. Puedes revisar los otros típos de datos en el siguiente [link](https://altair-viz.github.io/user_guide/encoding.html#data-types). Se puede apreciar que `gender` no exista en el _dataset_ cargado, pero esto será explicado con la última línea del código que se encarga de crear dicha columna.\n",
        "\n",
        "Junto a indicar el _encoding_, tambien se setean 2 propiedades de dicho eje.\n",
        "- **`scale`**: este argumento permite indicar la escala a utilizar en dicho eje, en específico, con el `rangeStep` le estamos indicando el rango de espacio que ocupará cada barra.\n",
        "- **`axis`**: este argumento recibe un objeto [`Axis`](https://altair-viz.github.io/user_guide/API.html?#altair.Axis) que permite describir dicho eje, en este caso, este objeto solo está describiendo que el título del eje sea vacío.\n",
        "-------------\n",
        "- **Línea 9**\n",
        "\n",
        "```python\n",
        "alt.Y('sum(people):Q', axis=alt.Axis(title='population', grid=True)),\n",
        "```\n",
        "    \n",
        "En esta línea, se describe el _encoding_ del eje Y. En este caso se dice que será la sumatoria de la columna `people` el cual es un dato cuantitativo, eso justifica el `\":Q\"`. Es necesario destacar que estamos aplicando sumatoria, esto implica que el código en si está agrupando los datos y a cada grupo obtenido, le obtiene la sumatoria de dicha columna. Para este ejemplo estamos agrupando por género y por edad.\n",
        "\n",
        "Junto a indicar el _encoding_, tambien se setea propiedad de `axis`, que le está indicando al eje que su título será `'population'` y que existan grillas, es decir, que aparezcan líneas de fondo para poder ubicar más rápido el valor de alguna barra.\n",
        "\n",
        "-------------\n",
        "- **Línea 10**\n",
        "\n",
        "```python\n",
        "color=alt.Color('gender:N', scale=alt.Scale(range=[\"#EA98D2\", \"#659CCA\"])),\n",
        "```\n",
        "\n",
        "Esta línea indica que el color de las barras será representado bajo el objeto [`alt.Color`](https://altair-viz.github.io/user_guide/API.html#altair.Color) cuyo color  será definido según el valor  de la columna _gender_ y de _scale_ le indicamos que el rango de colores serán los 2 proporcionados (\"#EA98D2\" y \"#659CCA\")\n",
        "\n",
        "-------------\n",
        "- **Línea 11**\n",
        "\n",
        "```python\n",
        "column='age:O'\n",
        "```\n",
        "Esta última columna dentro de _encode_ indica que el parametro _age_ será el utilizado para separar cada grupo de columnas. En caso de omitir este dato, estaremos generando un gráfico de barra simple porque no estamos separando en diferentes grupos.\n",
        "\n",
        "-------------\n",
        "- **Línea 12**\n",
        "\n",
        "```python\n",
        ").configure_view(stroke='transparent'\n",
        "```\n",
        "El método [`configure_view`](https://altair-viz.github.io/user_guide/configuration.html#config-view) está personalizando la vista del gráfico, en este ejemplo le indica que los bordes de cada grupo de columnas sea transparente. Se recomienda cambiar el parametro a otro color (como _red_) para apreciar el efecto de dicho método.\n",
        "\n",
        "-------------\n",
        "- **Línea 13**\n",
        "\n",
        "```python\n",
        ").configure_axis(domainWidth=0.8\n",
        "```\n",
        "\n",
        "El método [`configure_axis`](https://altair-viz.github.io/user_guide/configuration.html#config-axis) está personalizando la vista de los ejes, en este caso le indica que tamaño de las líneas de los ejes sea de 0.8. Se recomienda cambiar el parametro a otro tamaño (como 10) para apreciar el efecto de dicho método.\n",
        "\n",
        "-------------\n",
        "- **Línea 14**\n",
        "\n",
        "```python\n",
        ").transform_filter(datum.year == 2000\n",
        "```\n",
        "Una de las acciones que usualmente se requiere en visualización, que es la [transformación de la información](https://altair-viz.github.io/user_guide/transform.html). En este caso, filtrar por uno o más valores.\n",
        "\n",
        "El método [`transform_filter`](https://altair-viz.github.io/user_guide/transform.html#filter-transform) permte que la visualizacion filtre por dichos valores. Para esta ocasión utilizamos el objeto `datum` que fue importado para darselo a `transform_filter` e indicar que filtre por la columna _year_ cuyo valor debe ser igual a 2000.\n",
        "\n",
        "En caso de querer filtrar por más de un atributo, se recomienda estudiar los [`Field Predicates\n",
        "`](https://altair-viz.github.io/user_guide/transform.html#field-predicates)\n",
        "                               \n",
        "\n",
        "-------------\n",
        "- **Línea 15**\n",
        "\n",
        "```python\n",
        ").transform_calculate('gender', if_(datum.sex == 2, 'Female', 'Male'))\n",
        "```\n",
        "\n",
        "`transform_calculate` es otro de los métodos dentro de la transformación de información. Este permite crear una nueva columna en base a una operación realizada a otras columnas ya existentes. Para este ejemplo, estamos creando la columna _gender_ que tomará 2 valores: _Female_ en caso de que _sex_ sea igual a 2 o _Male_ en otro caso.\n",
        "\n",
        "---------\n",
        "Podrás notar que en este ejemplo, no solo nos preocupamos de visualizar los datos, sino que de personalizar dicho gráfico con tamaños de línea, agregar grillas, color de los bordes, etc. Esto es muy importante para la percepción porque en caso de tener muchos datos,  los canales a usar y como presentarlos en el gráfico tendrán harta influencia en lo que el receptor entienda de tus datos."
      ]
    },
    {
      "cell_type": "markdown",
      "metadata": {
        "id": "qrzyiUIPojBy",
        "colab_type": "text"
      },
      "source": [
        "#### Actividad 6: _Grouped Bar Chart_\n",
        "\n",
        "¿Cual es la edad promedio de la gente que proviene de Japón, Haití, Cuba, África o Brasil y que fueron censados en Valdivia, Viña del mar o Puente Alto? Recuerde mostrar para cada combinación de país y comuna la edad promedio.\n"
      ]
    },
    {
      "cell_type": "code",
      "metadata": {
        "id": "Wel0ReA4qTOR",
        "colab_type": "code",
        "colab": {}
      },
      "source": [
        ""
      ],
      "execution_count": 0,
      "outputs": []
    },
    {
      "cell_type": "markdown",
      "metadata": {
        "id": "MBY1H13Czv60",
        "colab_type": "text"
      },
      "source": [
        "#### [Stacked Bar Chart](https://altair-viz.github.io/gallery/stacked_bar_chart.html)"
      ]
    },
    {
      "cell_type": "code",
      "metadata": {
        "id": "RnC1FfJo-bDY",
        "colab_type": "code",
        "outputId": "674ca4cf-f354-437e-c1fc-034bd5bdf31d",
        "colab": {
          "base_uri": "https://localhost:8080/",
          "height": 392
        }
      },
      "source": [
        "import altair as alt\n",
        "from vega_datasets import data\n",
        "\n",
        "weather = data.seattle_weather()\n",
        "\n",
        "alt.Chart(weather).mark_bar().encode(\n",
        "    alt.Color('weather:N',\n",
        "        legend=alt.Legend(title='Weather type'),\n",
        "        scale=alt.Scale(\n",
        "            domain=['sun', 'fog', 'drizzle', 'rain', 'snow'],\n",
        "            range=['#e7ba42', '#c7c7c7', '#aec7e8', '#1f77b4', '#9467bd']\n",
        "        ),\n",
        "    ),\n",
        "    alt.X('month(date):N', axis=alt.Axis(title='Month of the Year')),\n",
        "    y='count()',\n",
        ")"
      ],
      "execution_count": 0,
      "outputs": [
        {
          "output_type": "execute_result",
          "data": {
            "text/plain": [
              "Chart({\n",
              "  data:            date  precipitation  temp_max  temp_min  wind  weather\n",
              "  0    2012-01-01            0.0      12.8       5.0   4.7  drizzle\n",
              "  1    2012-01-02           10.9      10.6       2.8   4.5     rain\n",
              "  2    2012-01-03            0.8      11.7       7.2   2.3     rain\n",
              "  3    2012-01-04           20.3      12.2       5.6   4.7     rain\n",
              "  4    2012-01-05            1.3       8.9       2.8   6.1     rain\n",
              "  5    2012-01-06            2.5       4.4       2.2   2.2     rain\n",
              "  6    2012-01-07            0.0       7.2       2.8   2.3     rain\n",
              "  7    2012-01-08            0.0      10.0       2.8   2.0      sun\n",
              "  8    2012-01-09            4.3       9.4       5.0   3.4     rain\n",
              "  9    2012-01-10            1.0       6.1       0.6   3.4     rain\n",
              "  10   2012-01-11            0.0       6.1      -1.1   5.1      sun\n",
              "  11   2012-01-12            0.0       6.1      -1.7   1.9      sun\n",
              "  12   2012-01-13            0.0       5.0      -2.8   1.3      sun\n",
              "  13   2012-01-14            4.1       4.4       0.6   5.3     snow\n",
              "  14   2012-01-15            5.3       1.1      -3.3   3.2     snow\n",
              "  15   2012-01-16            2.5       1.7      -2.8   5.0     snow\n",
              "  16   2012-01-17            8.1       3.3       0.0   5.6     snow\n",
              "  17   2012-01-18           19.8       0.0      -2.8   5.0     snow\n",
              "  18   2012-01-19           15.2      -1.1      -2.8   1.6     snow\n",
              "  19   2012-01-20           13.5       7.2      -1.1   2.3     snow\n",
              "  20   2012-01-21            3.0       8.3       3.3   8.2     rain\n",
              "  21   2012-01-22            6.1       6.7       2.2   4.8     rain\n",
              "  22   2012-01-23            0.0       8.3       1.1   3.6     rain\n",
              "  23   2012-01-24            8.6      10.0       2.2   5.1     rain\n",
              "  24   2012-01-25            8.1       8.9       4.4   5.4     rain\n",
              "  25   2012-01-26            4.8       8.9       1.1   4.8     rain\n",
              "  26   2012-01-27            0.0       6.7      -2.2   1.4  drizzle\n",
              "  27   2012-01-28            0.0       6.7       0.6   2.2     rain\n",
              "  28   2012-01-29           27.7       9.4       3.9   4.5     rain\n",
              "  29   2012-01-30            3.6       8.3       6.1   5.1     rain\n",
              "  ...         ...            ...       ...       ...   ...      ...\n",
              "  1431 2015-12-02            2.5      10.6       4.4   5.0      fog\n",
              "  1432 2015-12-03           12.7      15.6       7.8   5.9      fog\n",
              "  1433 2015-12-04            2.0      10.6       6.1   4.7      fog\n",
              "  1434 2015-12-05           15.7      10.0       6.1   4.0      fog\n",
              "  1435 2015-12-06           11.2      12.8       7.2   5.9      fog\n",
              "  1436 2015-12-07           27.4      11.1       8.3   3.4      fog\n",
              "  1437 2015-12-08           54.1      15.6      10.0   6.2      fog\n",
              "  1438 2015-12-09           13.5      12.2       7.8   6.3      fog\n",
              "  1439 2015-12-10            9.4      11.7       6.1   7.5      fog\n",
              "  1440 2015-12-11            0.3       9.4       4.4   2.8      sun\n",
              "  1441 2015-12-12           16.0       8.9       5.6   5.6      fog\n",
              "  1442 2015-12-13            1.3       7.8       6.1   6.1      sun\n",
              "  1443 2015-12-14            0.0       7.8       1.7   1.7      sun\n",
              "  1444 2015-12-15            1.5       6.7       1.1   2.9      fog\n",
              "  1445 2015-12-16            3.6       6.1       2.8   2.3      fog\n",
              "  1446 2015-12-17           21.8       6.7       3.9   6.0      fog\n",
              "  1447 2015-12-18           18.5       8.9       4.4   5.1      fog\n",
              "  1448 2015-12-19            0.0       8.3       2.8   4.1      fog\n",
              "  1449 2015-12-20            4.3       7.8       4.4   6.7      fog\n",
              "  1450 2015-12-21           27.4       5.6       2.8   4.3      fog\n",
              "  1451 2015-12-22            4.6       7.8       2.8   5.0      fog\n",
              "  1452 2015-12-23            6.1       5.0       2.8   7.6      fog\n",
              "  1453 2015-12-24            2.5       5.6       2.2   4.3      fog\n",
              "  1454 2015-12-25            5.8       5.0       2.2   1.5      fog\n",
              "  1455 2015-12-26            0.0       4.4       0.0   2.5      sun\n",
              "  1456 2015-12-27            8.6       4.4       1.7   2.9      fog\n",
              "  1457 2015-12-28            1.5       5.0       1.7   1.3      fog\n",
              "  1458 2015-12-29            0.0       7.2       0.6   2.6      fog\n",
              "  1459 2015-12-30            0.0       5.6      -1.0   3.4      sun\n",
              "  1460 2015-12-31            0.0       5.6      -2.1   3.5      sun\n",
              "  \n",
              "  [1461 rows x 6 columns],\n",
              "  encoding: EncodingWithFacet({\n",
              "    color: Color({\n",
              "      legend: Legend({\n",
              "        title: 'Weather type'\n",
              "      }),\n",
              "      scale: Scale({\n",
              "        domain: ['sun', 'fog', 'drizzle', 'rain', 'snow'],\n",
              "        range: ['#e7ba42', '#c7c7c7', '#aec7e8', '#1f77b4', '#9467bd']\n",
              "      }),\n",
              "      shorthand: 'weather:N'\n",
              "    }),\n",
              "    x: X({\n",
              "      axis: Axis({\n",
              "        title: 'Month of the Year'\n",
              "      }),\n",
              "      shorthand: 'month(date):N'\n",
              "    }),\n",
              "    y: Y({\n",
              "      shorthand: 'count()'\n",
              "    })\n",
              "  }),\n",
              "  mark: 'bar'\n",
              "})"
            ],
            "text/html": [
              "\n",
              "<!DOCTYPE html>\n",
              "<html>\n",
              "<head>\n",
              "  <style>\n",
              "    .vega-actions a {\n",
              "        margin-right: 12px;\n",
              "        color: #757575;\n",
              "        font-weight: normal;\n",
              "        font-size: 13px;\n",
              "    }\n",
              "    .error {\n",
              "        color: red;\n",
              "    }\n",
              "  </style>\n",
              "\n",
              "<script src=\"https://cdn.jsdelivr.net/npm//vega@3.3.1\"></script>\n",
              "<script src=\"https://cdn.jsdelivr.net/npm//vega-lite@2.4.3\"></script>\n",
              "<script src=\"https://cdn.jsdelivr.net/npm//vega-embed@3.11\"></script>\n",
              "\n",
              "</head>\n",
              "<body>\n",
              "  <div id=\"vis\"></div>\n",
              "  <script type=\"text/javascript\">\n",
              "    var spec = {\"config\": {\"view\": {\"width\": 400, \"height\": 300}}, \"data\": {\"values\": [{\"date\": \"2012-01-01\", \"precipitation\": 0.0, \"temp_max\": 12.8, \"temp_min\": 5.0, \"wind\": 4.7, \"weather\": \"drizzle\"}, {\"date\": \"2012-01-02\", \"precipitation\": 10.9, \"temp_max\": 10.6, \"temp_min\": 2.8, \"wind\": 4.5, \"weather\": \"rain\"}, {\"date\": \"2012-01-03\", \"precipitation\": 0.8, \"temp_max\": 11.7, \"temp_min\": 7.2, \"wind\": 2.3, \"weather\": \"rain\"}, {\"date\": \"2012-01-04\", \"precipitation\": 20.3, \"temp_max\": 12.2, \"temp_min\": 5.6, \"wind\": 4.7, \"weather\": \"rain\"}, {\"date\": \"2012-01-05\", \"precipitation\": 1.3, \"temp_max\": 8.9, \"temp_min\": 2.8, \"wind\": 6.1, \"weather\": \"rain\"}, {\"date\": \"2012-01-06\", \"precipitation\": 2.5, \"temp_max\": 4.4, \"temp_min\": 2.2, \"wind\": 2.2, \"weather\": \"rain\"}, {\"date\": \"2012-01-07\", \"precipitation\": 0.0, \"temp_max\": 7.2, \"temp_min\": 2.8, \"wind\": 2.3, \"weather\": \"rain\"}, {\"date\": \"2012-01-08\", \"precipitation\": 0.0, \"temp_max\": 10.0, \"temp_min\": 2.8, \"wind\": 2.0, \"weather\": \"sun\"}, {\"date\": \"2012-01-09\", \"precipitation\": 4.3, \"temp_max\": 9.4, \"temp_min\": 5.0, \"wind\": 3.4, \"weather\": \"rain\"}, {\"date\": \"2012-01-10\", \"precipitation\": 1.0, \"temp_max\": 6.1, \"temp_min\": 0.6, \"wind\": 3.4, \"weather\": \"rain\"}, {\"date\": \"2012-01-11\", \"precipitation\": 0.0, \"temp_max\": 6.1, \"temp_min\": -1.1, \"wind\": 5.1, \"weather\": \"sun\"}, {\"date\": \"2012-01-12\", \"precipitation\": 0.0, \"temp_max\": 6.1, \"temp_min\": -1.7, \"wind\": 1.9, \"weather\": \"sun\"}, {\"date\": \"2012-01-13\", \"precipitation\": 0.0, \"temp_max\": 5.0, \"temp_min\": -2.8, \"wind\": 1.3, \"weather\": \"sun\"}, {\"date\": \"2012-01-14\", \"precipitation\": 4.1, \"temp_max\": 4.4, \"temp_min\": 0.6, \"wind\": 5.3, \"weather\": \"snow\"}, {\"date\": \"2012-01-15\", \"precipitation\": 5.3, \"temp_max\": 1.1, \"temp_min\": -3.3, \"wind\": 3.2, \"weather\": \"snow\"}, {\"date\": \"2012-01-16\", \"precipitation\": 2.5, \"temp_max\": 1.7, \"temp_min\": -2.8, \"wind\": 5.0, \"weather\": \"snow\"}, {\"date\": \"2012-01-17\", \"precipitation\": 8.1, \"temp_max\": 3.3, \"temp_min\": 0.0, \"wind\": 5.6, \"weather\": \"snow\"}, {\"date\": \"2012-01-18\", \"precipitation\": 19.8, \"temp_max\": 0.0, \"temp_min\": -2.8, \"wind\": 5.0, \"weather\": \"snow\"}, {\"date\": \"2012-01-19\", \"precipitation\": 15.2, \"temp_max\": -1.1, \"temp_min\": -2.8, \"wind\": 1.6, \"weather\": \"snow\"}, {\"date\": \"2012-01-20\", \"precipitation\": 13.5, \"temp_max\": 7.2, \"temp_min\": -1.1, \"wind\": 2.3, \"weather\": \"snow\"}, {\"date\": \"2012-01-21\", \"precipitation\": 3.0, \"temp_max\": 8.3, \"temp_min\": 3.3, \"wind\": 8.2, \"weather\": \"rain\"}, {\"date\": \"2012-01-22\", \"precipitation\": 6.1, \"temp_max\": 6.7, \"temp_min\": 2.2, \"wind\": 4.8, \"weather\": \"rain\"}, {\"date\": \"2012-01-23\", \"precipitation\": 0.0, \"temp_max\": 8.3, \"temp_min\": 1.1, \"wind\": 3.6, \"weather\": \"rain\"}, {\"date\": \"2012-01-24\", \"precipitation\": 8.6, \"temp_max\": 10.0, \"temp_min\": 2.2, \"wind\": 5.1, \"weather\": \"rain\"}, {\"date\": \"2012-01-25\", \"precipitation\": 8.1, \"temp_max\": 8.9, \"temp_min\": 4.4, \"wind\": 5.4, \"weather\": \"rain\"}, {\"date\": \"2012-01-26\", \"precipitation\": 4.8, \"temp_max\": 8.9, \"temp_min\": 1.1, \"wind\": 4.8, \"weather\": \"rain\"}, {\"date\": \"2012-01-27\", \"precipitation\": 0.0, \"temp_max\": 6.7, \"temp_min\": -2.2, \"wind\": 1.4, \"weather\": \"drizzle\"}, {\"date\": \"2012-01-28\", \"precipitation\": 0.0, \"temp_max\": 6.7, \"temp_min\": 0.6, \"wind\": 2.2, \"weather\": \"rain\"}, {\"date\": \"2012-01-29\", \"precipitation\": 27.7, \"temp_max\": 9.4, \"temp_min\": 3.9, \"wind\": 4.5, \"weather\": \"rain\"}, {\"date\": \"2012-01-30\", \"precipitation\": 3.6, \"temp_max\": 8.3, \"temp_min\": 6.1, \"wind\": 5.1, \"weather\": \"rain\"}, {\"date\": \"2012-01-31\", \"precipitation\": 1.8, \"temp_max\": 9.4, \"temp_min\": 6.1, \"wind\": 3.9, \"weather\": \"rain\"}, {\"date\": \"2012-02-01\", \"precipitation\": 13.5, \"temp_max\": 8.9, \"temp_min\": 3.3, \"wind\": 2.7, \"weather\": \"rain\"}, {\"date\": \"2012-02-02\", \"precipitation\": 0.0, \"temp_max\": 8.3, \"temp_min\": 1.7, \"wind\": 2.6, \"weather\": \"sun\"}, {\"date\": \"2012-02-03\", \"precipitation\": 0.0, \"temp_max\": 14.4, \"temp_min\": 2.2, \"wind\": 5.3, \"weather\": \"sun\"}, {\"date\": \"2012-02-04\", \"precipitation\": 0.0, \"temp_max\": 15.6, \"temp_min\": 5.0, \"wind\": 4.3, \"weather\": \"sun\"}, {\"date\": \"2012-02-05\", \"precipitation\": 0.0, \"temp_max\": 13.9, \"temp_min\": 1.7, \"wind\": 2.9, \"weather\": \"sun\"}, {\"date\": \"2012-02-06\", \"precipitation\": 0.0, \"temp_max\": 16.1, \"temp_min\": 1.7, \"wind\": 5.0, \"weather\": \"sun\"}, {\"date\": \"2012-02-07\", \"precipitation\": 0.3, \"temp_max\": 15.6, \"temp_min\": 7.8, \"wind\": 5.3, \"weather\": \"rain\"}, {\"date\": \"2012-02-08\", \"precipitation\": 2.8, \"temp_max\": 10.0, \"temp_min\": 5.0, \"wind\": 2.7, \"weather\": \"rain\"}, {\"date\": \"2012-02-09\", \"precipitation\": 2.5, \"temp_max\": 11.1, \"temp_min\": 7.8, \"wind\": 2.4, \"weather\": \"rain\"}, {\"date\": \"2012-02-10\", \"precipitation\": 2.5, \"temp_max\": 12.8, \"temp_min\": 6.7, \"wind\": 3.0, \"weather\": \"rain\"}, {\"date\": \"2012-02-11\", \"precipitation\": 0.8, \"temp_max\": 8.9, \"temp_min\": 5.6, \"wind\": 3.4, \"weather\": \"rain\"}, {\"date\": \"2012-02-12\", \"precipitation\": 1.0, \"temp_max\": 8.3, \"temp_min\": 5.0, \"wind\": 1.3, \"weather\": \"rain\"}, {\"date\": \"2012-02-13\", \"precipitation\": 11.4, \"temp_max\": 7.2, \"temp_min\": 4.4, \"wind\": 1.4, \"weather\": \"rain\"}, {\"date\": \"2012-02-14\", \"precipitation\": 2.5, \"temp_max\": 6.7, \"temp_min\": 1.1, \"wind\": 3.1, \"weather\": \"rain\"}, {\"date\": \"2012-02-15\", \"precipitation\": 0.0, \"temp_max\": 7.2, \"temp_min\": 0.6, \"wind\": 1.8, \"weather\": \"drizzle\"}, {\"date\": \"2012-02-16\", \"precipitation\": 1.8, \"temp_max\": 7.2, \"temp_min\": 3.3, \"wind\": 2.1, \"weather\": \"rain\"}, {\"date\": \"2012-02-17\", \"precipitation\": 17.3, \"temp_max\": 10.0, \"temp_min\": 4.4, \"wind\": 3.4, \"weather\": \"rain\"}, {\"date\": \"2012-02-18\", \"precipitation\": 6.4, \"temp_max\": 6.7, \"temp_min\": 3.9, \"wind\": 8.1, \"weather\": \"rain\"}, {\"date\": \"2012-02-19\", \"precipitation\": 0.0, \"temp_max\": 6.7, \"temp_min\": 2.2, \"wind\": 4.7, \"weather\": \"sun\"}, {\"date\": \"2012-02-20\", \"precipitation\": 3.0, \"temp_max\": 7.8, \"temp_min\": 1.7, \"wind\": 2.9, \"weather\": \"rain\"}, {\"date\": \"2012-02-21\", \"precipitation\": 0.8, \"temp_max\": 10.0, \"temp_min\": 7.8, \"wind\": 7.5, \"weather\": \"rain\"}, {\"date\": \"2012-02-22\", \"precipitation\": 8.6, \"temp_max\": 10.0, \"temp_min\": 2.8, \"wind\": 5.9, \"weather\": \"rain\"}, {\"date\": \"2012-02-23\", \"precipitation\": 0.0, \"temp_max\": 8.3, \"temp_min\": 2.8, \"wind\": 3.9, \"weather\": \"sun\"}, {\"date\": \"2012-02-24\", \"precipitation\": 11.4, \"temp_max\": 6.7, \"temp_min\": 4.4, \"wind\": 3.5, \"weather\": \"rain\"}, {\"date\": \"2012-02-25\", \"precipitation\": 0.0, \"temp_max\": 7.2, \"temp_min\": 2.8, \"wind\": 6.4, \"weather\": \"rain\"}, {\"date\": \"2012-02-26\", \"precipitation\": 1.3, \"temp_max\": 5.0, \"temp_min\": -1.1, \"wind\": 3.4, \"weather\": \"snow\"}, {\"date\": \"2012-02-27\", \"precipitation\": 0.0, \"temp_max\": 6.7, \"temp_min\": -2.2, \"wind\": 3.0, \"weather\": \"sun\"}, {\"date\": \"2012-02-28\", \"precipitation\": 3.6, \"temp_max\": 6.7, \"temp_min\": -0.6, \"wind\": 4.2, \"weather\": \"snow\"}, {\"date\": \"2012-02-29\", \"precipitation\": 0.8, \"temp_max\": 5.0, \"temp_min\": 1.1, \"wind\": 7.0, \"weather\": \"snow\"}, {\"date\": \"2012-03-01\", \"precipitation\": 0.0, \"temp_max\": 6.1, \"temp_min\": 1.1, \"wind\": 3.1, \"weather\": \"sun\"}, {\"date\": \"2012-03-02\", \"precipitation\": 2.0, \"temp_max\": 6.7, \"temp_min\": 3.9, \"wind\": 5.1, \"weather\": \"rain\"}, {\"date\": \"2012-03-03\", \"precipitation\": 0.0, \"temp_max\": 12.2, \"temp_min\": 6.7, \"wind\": 7.0, \"weather\": \"sun\"}, {\"date\": \"2012-03-04\", \"precipitation\": 0.0, \"temp_max\": 10.6, \"temp_min\": 6.7, \"wind\": 5.6, \"weather\": \"rain\"}, {\"date\": \"2012-03-05\", \"precipitation\": 6.9, \"temp_max\": 7.8, \"temp_min\": 1.1, \"wind\": 6.2, \"weather\": \"rain\"}, {\"date\": \"2012-03-06\", \"precipitation\": 0.5, \"temp_max\": 6.7, \"temp_min\": 0.0, \"wind\": 2.7, \"weather\": \"snow\"}, {\"date\": \"2012-03-07\", \"precipitation\": 0.0, \"temp_max\": 8.9, \"temp_min\": -1.7, \"wind\": 2.7, \"weather\": \"sun\"}, {\"date\": \"2012-03-08\", \"precipitation\": 0.0, \"temp_max\": 15.6, \"temp_min\": 0.6, \"wind\": 2.5, \"weather\": \"sun\"}, {\"date\": \"2012-03-09\", \"precipitation\": 3.6, \"temp_max\": 9.4, \"temp_min\": 5.0, \"wind\": 2.8, \"weather\": \"rain\"}, {\"date\": \"2012-03-10\", \"precipitation\": 10.4, \"temp_max\": 7.2, \"temp_min\": 6.1, \"wind\": 3.4, \"weather\": \"rain\"}, {\"date\": \"2012-03-11\", \"precipitation\": 13.7, \"temp_max\": 6.7, \"temp_min\": 2.8, \"wind\": 5.8, \"weather\": \"rain\"}, {\"date\": \"2012-03-12\", \"precipitation\": 19.3, \"temp_max\": 8.3, \"temp_min\": 0.6, \"wind\": 6.2, \"weather\": \"snow\"}, {\"date\": \"2012-03-13\", \"precipitation\": 9.4, \"temp_max\": 5.6, \"temp_min\": 0.6, \"wind\": 5.3, \"weather\": \"snow\"}, {\"date\": \"2012-03-14\", \"precipitation\": 8.6, \"temp_max\": 7.8, \"temp_min\": 1.1, \"wind\": 4.7, \"weather\": \"rain\"}, {\"date\": \"2012-03-15\", \"precipitation\": 23.9, \"temp_max\": 11.1, \"temp_min\": 5.6, \"wind\": 5.8, \"weather\": \"snow\"}, {\"date\": \"2012-03-16\", \"precipitation\": 8.4, \"temp_max\": 8.9, \"temp_min\": 3.9, \"wind\": 5.1, \"weather\": \"rain\"}, {\"date\": \"2012-03-17\", \"precipitation\": 9.4, \"temp_max\": 10.0, \"temp_min\": 0.6, \"wind\": 3.8, \"weather\": \"snow\"}, {\"date\": \"2012-03-18\", \"precipitation\": 3.6, \"temp_max\": 5.0, \"temp_min\": -0.6, \"wind\": 2.7, \"weather\": \"rain\"}, {\"date\": \"2012-03-19\", \"precipitation\": 2.0, \"temp_max\": 7.2, \"temp_min\": -1.1, \"wind\": 3.0, \"weather\": \"rain\"}, {\"date\": \"2012-03-20\", \"precipitation\": 3.6, \"temp_max\": 7.8, \"temp_min\": 2.2, \"wind\": 6.4, \"weather\": \"rain\"}, {\"date\": \"2012-03-21\", \"precipitation\": 1.3, \"temp_max\": 8.9, \"temp_min\": 1.1, \"wind\": 2.5, \"weather\": \"rain\"}, {\"date\": \"2012-03-22\", \"precipitation\": 4.1, \"temp_max\": 10.0, \"temp_min\": 1.7, \"wind\": 2.1, \"weather\": \"rain\"}, {\"date\": \"2012-03-23\", \"precipitation\": 0.0, \"temp_max\": 12.2, \"temp_min\": 0.6, \"wind\": 2.8, \"weather\": \"sun\"}, {\"date\": \"2012-03-24\", \"precipitation\": 0.0, \"temp_max\": 15.0, \"temp_min\": 3.3, \"wind\": 5.2, \"weather\": \"sun\"}, {\"date\": \"2012-03-25\", \"precipitation\": 0.0, \"temp_max\": 13.3, \"temp_min\": 2.2, \"wind\": 2.7, \"weather\": \"rain\"}, {\"date\": \"2012-03-26\", \"precipitation\": 0.0, \"temp_max\": 12.8, \"temp_min\": 6.1, \"wind\": 4.3, \"weather\": \"drizzle\"}, {\"date\": \"2012-03-27\", \"precipitation\": 4.8, \"temp_max\": 14.4, \"temp_min\": 6.7, \"wind\": 3.8, \"weather\": \"rain\"}, {\"date\": \"2012-03-28\", \"precipitation\": 1.3, \"temp_max\": 10.6, \"temp_min\": 7.2, \"wind\": 5.9, \"weather\": \"rain\"}, {\"date\": \"2012-03-29\", \"precipitation\": 27.4, \"temp_max\": 10.0, \"temp_min\": 6.1, \"wind\": 4.4, \"weather\": \"rain\"}, {\"date\": \"2012-03-30\", \"precipitation\": 5.6, \"temp_max\": 9.4, \"temp_min\": 5.0, \"wind\": 4.7, \"weather\": \"rain\"}, {\"date\": \"2012-03-31\", \"precipitation\": 13.2, \"temp_max\": 10.0, \"temp_min\": 2.8, \"wind\": 3.4, \"weather\": \"rain\"}, {\"date\": \"2012-04-01\", \"precipitation\": 1.5, \"temp_max\": 8.9, \"temp_min\": 4.4, \"wind\": 6.8, \"weather\": \"rain\"}, {\"date\": \"2012-04-02\", \"precipitation\": 0.0, \"temp_max\": 16.7, \"temp_min\": 4.4, \"wind\": 3.1, \"weather\": \"sun\"}, {\"date\": \"2012-04-03\", \"precipitation\": 1.5, \"temp_max\": 11.7, \"temp_min\": 3.3, \"wind\": 3.1, \"weather\": \"rain\"}, {\"date\": \"2012-04-04\", \"precipitation\": 0.0, \"temp_max\": 10.6, \"temp_min\": 2.8, \"wind\": 2.1, \"weather\": \"sun\"}, {\"date\": \"2012-04-05\", \"precipitation\": 4.6, \"temp_max\": 9.4, \"temp_min\": 2.8, \"wind\": 1.8, \"weather\": \"snow\"}, {\"date\": \"2012-04-06\", \"precipitation\": 0.3, \"temp_max\": 11.1, \"temp_min\": 3.3, \"wind\": 2.6, \"weather\": \"rain\"}, {\"date\": \"2012-04-07\", \"precipitation\": 0.0, \"temp_max\": 16.1, \"temp_min\": 1.7, \"wind\": 4.3, \"weather\": \"sun\"}, {\"date\": \"2012-04-08\", \"precipitation\": 0.0, \"temp_max\": 21.1, \"temp_min\": 7.2, \"wind\": 4.1, \"weather\": \"sun\"}, {\"date\": \"2012-04-09\", \"precipitation\": 0.0, \"temp_max\": 20.0, \"temp_min\": 6.1, \"wind\": 2.1, \"weather\": \"sun\"}, {\"date\": \"2012-04-10\", \"precipitation\": 0.0, \"temp_max\": 17.8, \"temp_min\": 8.9, \"wind\": 3.2, \"weather\": \"rain\"}, {\"date\": \"2012-04-11\", \"precipitation\": 2.3, \"temp_max\": 11.1, \"temp_min\": 7.2, \"wind\": 2.6, \"weather\": \"rain\"}, {\"date\": \"2012-04-12\", \"precipitation\": 0.5, \"temp_max\": 13.9, \"temp_min\": 5.6, \"wind\": 2.6, \"weather\": \"rain\"}, {\"date\": \"2012-04-13\", \"precipitation\": 0.0, \"temp_max\": 15.0, \"temp_min\": 3.9, \"wind\": 4.0, \"weather\": \"drizzle\"}, {\"date\": \"2012-04-14\", \"precipitation\": 0.0, \"temp_max\": 15.6, \"temp_min\": 3.3, \"wind\": 3.0, \"weather\": \"sun\"}, {\"date\": \"2012-04-15\", \"precipitation\": 0.0, \"temp_max\": 16.1, \"temp_min\": 7.2, \"wind\": 2.9, \"weather\": \"rain\"}, {\"date\": \"2012-04-16\", \"precipitation\": 8.1, \"temp_max\": 13.3, \"temp_min\": 6.7, \"wind\": 5.8, \"weather\": \"rain\"}, {\"date\": \"2012-04-17\", \"precipitation\": 1.8, \"temp_max\": 10.0, \"temp_min\": 4.4, \"wind\": 2.0, \"weather\": \"rain\"}, {\"date\": \"2012-04-18\", \"precipitation\": 1.8, \"temp_max\": 13.3, \"temp_min\": 7.2, \"wind\": 3.9, \"weather\": \"rain\"}, {\"date\": \"2012-04-19\", \"precipitation\": 10.9, \"temp_max\": 13.9, \"temp_min\": 5.0, \"wind\": 2.6, \"weather\": \"rain\"}, {\"date\": \"2012-04-20\", \"precipitation\": 6.6, \"temp_max\": 13.3, \"temp_min\": 6.7, \"wind\": 2.7, \"weather\": \"rain\"}, {\"date\": \"2012-04-21\", \"precipitation\": 0.0, \"temp_max\": 20.0, \"temp_min\": 4.4, \"wind\": 2.3, \"weather\": \"sun\"}, {\"date\": \"2012-04-22\", \"precipitation\": 0.0, \"temp_max\": 23.3, \"temp_min\": 8.3, \"wind\": 2.6, \"weather\": \"rain\"}, {\"date\": \"2012-04-23\", \"precipitation\": 0.0, \"temp_max\": 21.7, \"temp_min\": 8.9, \"wind\": 3.5, \"weather\": \"sun\"}, {\"date\": \"2012-04-24\", \"precipitation\": 4.3, \"temp_max\": 13.9, \"temp_min\": 10.0, \"wind\": 2.8, \"weather\": \"rain\"}, {\"date\": \"2012-04-25\", \"precipitation\": 10.7, \"temp_max\": 16.7, \"temp_min\": 8.9, \"wind\": 2.6, \"weather\": \"rain\"}, {\"date\": \"2012-04-26\", \"precipitation\": 3.8, \"temp_max\": 13.9, \"temp_min\": 6.7, \"wind\": 5.2, \"weather\": \"rain\"}, {\"date\": \"2012-04-27\", \"precipitation\": 0.8, \"temp_max\": 13.3, \"temp_min\": 6.1, \"wind\": 4.8, \"weather\": \"rain\"}, {\"date\": \"2012-04-28\", \"precipitation\": 0.0, \"temp_max\": 16.1, \"temp_min\": 8.3, \"wind\": 2.5, \"weather\": \"drizzle\"}, {\"date\": \"2012-04-29\", \"precipitation\": 4.3, \"temp_max\": 15.6, \"temp_min\": 8.9, \"wind\": 1.6, \"weather\": \"rain\"}, {\"date\": \"2012-04-30\", \"precipitation\": 4.3, \"temp_max\": 12.8, \"temp_min\": 7.2, \"wind\": 8.0, \"weather\": \"rain\"}, {\"date\": \"2012-05-01\", \"precipitation\": 0.5, \"temp_max\": 11.7, \"temp_min\": 6.1, \"wind\": 6.4, \"weather\": \"rain\"}, {\"date\": \"2012-05-02\", \"precipitation\": 0.5, \"temp_max\": 13.3, \"temp_min\": 5.6, \"wind\": 2.5, \"weather\": \"rain\"}, {\"date\": \"2012-05-03\", \"precipitation\": 18.5, \"temp_max\": 11.1, \"temp_min\": 7.2, \"wind\": 3.4, \"weather\": \"rain\"}, {\"date\": \"2012-05-04\", \"precipitation\": 1.8, \"temp_max\": 12.2, \"temp_min\": 6.1, \"wind\": 4.6, \"weather\": \"rain\"}, {\"date\": \"2012-05-05\", \"precipitation\": 0.0, \"temp_max\": 13.3, \"temp_min\": 5.0, \"wind\": 2.3, \"weather\": \"sun\"}, {\"date\": \"2012-05-06\", \"precipitation\": 0.0, \"temp_max\": 17.8, \"temp_min\": 5.0, \"wind\": 2.4, \"weather\": \"sun\"}, {\"date\": \"2012-05-07\", \"precipitation\": 0.0, \"temp_max\": 23.9, \"temp_min\": 6.1, \"wind\": 2.2, \"weather\": \"sun\"}, {\"date\": \"2012-05-08\", \"precipitation\": 0.0, \"temp_max\": 18.3, \"temp_min\": 9.4, \"wind\": 3.0, \"weather\": \"sun\"}, {\"date\": \"2012-05-09\", \"precipitation\": 0.0, \"temp_max\": 13.3, \"temp_min\": 6.7, \"wind\": 3.9, \"weather\": \"rain\"}, {\"date\": \"2012-05-10\", \"precipitation\": 0.0, \"temp_max\": 14.4, \"temp_min\": 3.9, \"wind\": 3.0, \"weather\": \"sun\"}, {\"date\": \"2012-05-11\", \"precipitation\": 0.0, \"temp_max\": 18.3, \"temp_min\": 4.4, \"wind\": 4.3, \"weather\": \"sun\"}, {\"date\": \"2012-05-12\", \"precipitation\": 0.0, \"temp_max\": 24.4, \"temp_min\": 6.7, \"wind\": 3.4, \"weather\": \"sun\"}, {\"date\": \"2012-05-13\", \"precipitation\": 0.0, \"temp_max\": 25.6, \"temp_min\": 9.4, \"wind\": 4.2, \"weather\": \"sun\"}, {\"date\": \"2012-05-14\", \"precipitation\": 0.0, \"temp_max\": 26.7, \"temp_min\": 12.8, \"wind\": 3.8, \"weather\": \"sun\"}, {\"date\": \"2012-05-15\", \"precipitation\": 0.0, \"temp_max\": 24.4, \"temp_min\": 9.4, \"wind\": 4.1, \"weather\": \"drizzle\"}, {\"date\": \"2012-05-16\", \"precipitation\": 0.0, \"temp_max\": 19.4, \"temp_min\": 9.4, \"wind\": 3.5, \"weather\": \"sun\"}, {\"date\": \"2012-05-17\", \"precipitation\": 0.0, \"temp_max\": 17.8, \"temp_min\": 6.7, \"wind\": 2.9, \"weather\": \"rain\"}, {\"date\": \"2012-05-18\", \"precipitation\": 0.0, \"temp_max\": 15.6, \"temp_min\": 7.8, \"wind\": 3.1, \"weather\": \"rain\"}, {\"date\": \"2012-05-19\", \"precipitation\": 0.0, \"temp_max\": 19.4, \"temp_min\": 7.2, \"wind\": 1.5, \"weather\": \"sun\"}, {\"date\": \"2012-05-20\", \"precipitation\": 6.4, \"temp_max\": 14.4, \"temp_min\": 11.7, \"wind\": 1.3, \"weather\": \"rain\"}, {\"date\": \"2012-05-21\", \"precipitation\": 14.0, \"temp_max\": 16.7, \"temp_min\": 10.0, \"wind\": 4.0, \"weather\": \"rain\"}, {\"date\": \"2012-05-22\", \"precipitation\": 6.1, \"temp_max\": 12.8, \"temp_min\": 8.9, \"wind\": 4.8, \"weather\": \"rain\"}, {\"date\": \"2012-05-23\", \"precipitation\": 0.3, \"temp_max\": 14.4, \"temp_min\": 8.9, \"wind\": 6.3, \"weather\": \"rain\"}, {\"date\": \"2012-05-24\", \"precipitation\": 0.0, \"temp_max\": 17.2, \"temp_min\": 8.9, \"wind\": 3.3, \"weather\": \"rain\"}, {\"date\": \"2012-05-25\", \"precipitation\": 0.0, \"temp_max\": 22.2, \"temp_min\": 8.9, \"wind\": 3.1, \"weather\": \"rain\"}, {\"date\": \"2012-05-26\", \"precipitation\": 0.0, \"temp_max\": 22.2, \"temp_min\": 8.9, \"wind\": 3.6, \"weather\": \"sun\"}, {\"date\": \"2012-05-27\", \"precipitation\": 0.0, \"temp_max\": 17.2, \"temp_min\": 11.7, \"wind\": 3.7, \"weather\": \"sun\"}, {\"date\": \"2012-05-28\", \"precipitation\": 0.0, \"temp_max\": 16.7, \"temp_min\": 10.0, \"wind\": 3.4, \"weather\": \"rain\"}, {\"date\": \"2012-05-29\", \"precipitation\": 0.0, \"temp_max\": 16.1, \"temp_min\": 7.8, \"wind\": 1.8, \"weather\": \"sun\"}, {\"date\": \"2012-05-30\", \"precipitation\": 0.3, \"temp_max\": 18.9, \"temp_min\": 11.1, \"wind\": 1.5, \"weather\": \"rain\"}, {\"date\": \"2012-05-31\", \"precipitation\": 3.8, \"temp_max\": 17.8, \"temp_min\": 12.2, \"wind\": 2.7, \"weather\": \"rain\"}, {\"date\": \"2012-06-01\", \"precipitation\": 6.6, \"temp_max\": 20.0, \"temp_min\": 12.8, \"wind\": 3.7, \"weather\": \"rain\"}, {\"date\": \"2012-06-02\", \"precipitation\": 0.3, \"temp_max\": 18.9, \"temp_min\": 10.6, \"wind\": 3.7, \"weather\": \"rain\"}, {\"date\": \"2012-06-03\", \"precipitation\": 0.0, \"temp_max\": 17.2, \"temp_min\": 9.4, \"wind\": 2.9, \"weather\": \"sun\"}, {\"date\": \"2012-06-04\", \"precipitation\": 1.3, \"temp_max\": 12.8, \"temp_min\": 8.9, \"wind\": 3.1, \"weather\": \"rain\"}, {\"date\": \"2012-06-05\", \"precipitation\": 16.0, \"temp_max\": 13.3, \"temp_min\": 8.3, \"wind\": 3.3, \"weather\": \"rain\"}, {\"date\": \"2012-06-06\", \"precipitation\": 0.0, \"temp_max\": 16.1, \"temp_min\": 6.1, \"wind\": 3.4, \"weather\": \"sun\"}, {\"date\": \"2012-06-07\", \"precipitation\": 16.5, \"temp_max\": 16.1, \"temp_min\": 8.9, \"wind\": 3.5, \"weather\": \"rain\"}, {\"date\": \"2012-06-08\", \"precipitation\": 1.5, \"temp_max\": 15.0, \"temp_min\": 8.3, \"wind\": 3.0, \"weather\": \"rain\"}, {\"date\": \"2012-06-09\", \"precipitation\": 0.0, \"temp_max\": 17.2, \"temp_min\": 8.3, \"wind\": 4.7, \"weather\": \"rain\"}, {\"date\": \"2012-06-10\", \"precipitation\": 0.0, \"temp_max\": 18.9, \"temp_min\": 10.0, \"wind\": 2.9, \"weather\": \"sun\"}, {\"date\": \"2012-06-11\", \"precipitation\": 0.0, \"temp_max\": 23.3, \"temp_min\": 10.0, \"wind\": 1.8, \"weather\": \"rain\"}, {\"date\": \"2012-06-12\", \"precipitation\": 0.8, \"temp_max\": 18.3, \"temp_min\": 12.8, \"wind\": 3.9, \"weather\": \"rain\"}, {\"date\": \"2012-06-13\", \"precipitation\": 0.0, \"temp_max\": 16.1, \"temp_min\": 11.1, \"wind\": 4.3, \"weather\": \"sun\"}, {\"date\": \"2012-06-14\", \"precipitation\": 0.0, \"temp_max\": 17.2, \"temp_min\": 10.0, \"wind\": 2.7, \"weather\": \"sun\"}, {\"date\": \"2012-06-15\", \"precipitation\": 0.0, \"temp_max\": 22.2, \"temp_min\": 9.4, \"wind\": 1.7, \"weather\": \"sun\"}, {\"date\": \"2012-06-16\", \"precipitation\": 0.0, \"temp_max\": 21.1, \"temp_min\": 15.0, \"wind\": 4.1, \"weather\": \"rain\"}, {\"date\": \"2012-06-17\", \"precipitation\": 0.0, \"temp_max\": 18.9, \"temp_min\": 11.7, \"wind\": 6.4, \"weather\": \"sun\"}, {\"date\": \"2012-06-18\", \"precipitation\": 3.0, \"temp_max\": 17.2, \"temp_min\": 10.0, \"wind\": 3.8, \"weather\": \"rain\"}, {\"date\": \"2012-06-19\", \"precipitation\": 1.0, \"temp_max\": 19.4, \"temp_min\": 10.0, \"wind\": 3.0, \"weather\": \"rain\"}, {\"date\": \"2012-06-20\", \"precipitation\": 0.0, \"temp_max\": 24.4, \"temp_min\": 10.0, \"wind\": 3.0, \"weather\": \"sun\"}, {\"date\": \"2012-06-21\", \"precipitation\": 0.0, \"temp_max\": 23.9, \"temp_min\": 11.7, \"wind\": 2.1, \"weather\": \"sun\"}, {\"date\": \"2012-06-22\", \"precipitation\": 15.7, \"temp_max\": 13.9, \"temp_min\": 11.7, \"wind\": 1.9, \"weather\": \"rain\"}, {\"date\": \"2012-06-23\", \"precipitation\": 8.6, \"temp_max\": 15.6, \"temp_min\": 9.4, \"wind\": 2.5, \"weather\": \"rain\"}, {\"date\": \"2012-06-24\", \"precipitation\": 0.0, \"temp_max\": 19.4, \"temp_min\": 9.4, \"wind\": 2.0, \"weather\": \"drizzle\"}, {\"date\": \"2012-06-25\", \"precipitation\": 0.5, \"temp_max\": 19.4, \"temp_min\": 11.1, \"wind\": 3.1, \"weather\": \"rain\"}, {\"date\": \"2012-06-26\", \"precipitation\": 0.0, \"temp_max\": 18.3, \"temp_min\": 10.6, \"wind\": 3.4, \"weather\": \"rain\"}, {\"date\": \"2012-06-27\", \"precipitation\": 0.0, \"temp_max\": 22.8, \"temp_min\": 8.9, \"wind\": 1.8, \"weather\": \"sun\"}, {\"date\": \"2012-06-28\", \"precipitation\": 0.0, \"temp_max\": 22.2, \"temp_min\": 11.7, \"wind\": 2.5, \"weather\": \"rain\"}, {\"date\": \"2012-06-29\", \"precipitation\": 0.3, \"temp_max\": 21.7, \"temp_min\": 15.0, \"wind\": 1.9, \"weather\": \"rain\"}, {\"date\": \"2012-06-30\", \"precipitation\": 3.0, \"temp_max\": 20.0, \"temp_min\": 13.3, \"wind\": 2.4, \"weather\": \"rain\"}, {\"date\": \"2012-07-01\", \"precipitation\": 0.0, \"temp_max\": 20.0, \"temp_min\": 12.2, \"wind\": 2.3, \"weather\": \"rain\"}, {\"date\": \"2012-07-02\", \"precipitation\": 2.0, \"temp_max\": 18.9, \"temp_min\": 11.7, \"wind\": 2.1, \"weather\": \"rain\"}, {\"date\": \"2012-07-03\", \"precipitation\": 5.8, \"temp_max\": 18.3, \"temp_min\": 10.6, \"wind\": 6.0, \"weather\": \"rain\"}, {\"date\": \"2012-07-04\", \"precipitation\": 0.0, \"temp_max\": 20.6, \"temp_min\": 9.4, \"wind\": 3.8, \"weather\": \"sun\"}, {\"date\": \"2012-07-05\", \"precipitation\": 0.0, \"temp_max\": 24.4, \"temp_min\": 10.6, \"wind\": 3.1, \"weather\": \"drizzle\"}, {\"date\": \"2012-07-06\", \"precipitation\": 0.0, \"temp_max\": 25.0, \"temp_min\": 11.1, \"wind\": 2.1, \"weather\": \"sun\"}, {\"date\": \"2012-07-07\", \"precipitation\": 0.0, \"temp_max\": 26.7, \"temp_min\": 12.8, \"wind\": 3.8, \"weather\": \"sun\"}, {\"date\": \"2012-07-08\", \"precipitation\": 0.0, \"temp_max\": 28.3, \"temp_min\": 14.4, \"wind\": 2.8, \"weather\": \"rain\"}, {\"date\": \"2012-07-09\", \"precipitation\": 1.5, \"temp_max\": 25.0, \"temp_min\": 12.8, \"wind\": 2.0, \"weather\": \"rain\"}, {\"date\": \"2012-07-10\", \"precipitation\": 0.0, \"temp_max\": 23.9, \"temp_min\": 11.1, \"wind\": 2.3, \"weather\": \"drizzle\"}, {\"date\": \"2012-07-11\", \"precipitation\": 0.0, \"temp_max\": 27.8, \"temp_min\": 13.3, \"wind\": 2.9, \"weather\": \"fog\"}, {\"date\": \"2012-07-12\", \"precipitation\": 0.0, \"temp_max\": 25.6, \"temp_min\": 13.3, \"wind\": 2.7, \"weather\": \"drizzle\"}, {\"date\": \"2012-07-13\", \"precipitation\": 0.5, \"temp_max\": 23.3, \"temp_min\": 13.9, \"wind\": 2.2, \"weather\": \"rain\"}, {\"date\": \"2012-07-14\", \"precipitation\": 0.0, \"temp_max\": 25.0, \"temp_min\": 15.0, \"wind\": 2.2, \"weather\": \"rain\"}, {\"date\": \"2012-07-15\", \"precipitation\": 0.0, \"temp_max\": 18.9, \"temp_min\": 13.3, \"wind\": 3.8, \"weather\": \"rain\"}, {\"date\": \"2012-07-16\", \"precipitation\": 0.3, \"temp_max\": 26.1, \"temp_min\": 13.3, \"wind\": 2.5, \"weather\": \"rain\"}, {\"date\": \"2012-07-17\", \"precipitation\": 0.0, \"temp_max\": 21.7, \"temp_min\": 15.0, \"wind\": 2.6, \"weather\": \"sun\"}, {\"date\": \"2012-07-18\", \"precipitation\": 0.0, \"temp_max\": 21.1, \"temp_min\": 14.4, \"wind\": 2.9, \"weather\": \"sun\"}, {\"date\": \"2012-07-19\", \"precipitation\": 0.0, \"temp_max\": 25.0, \"temp_min\": 14.4, \"wind\": 2.2, \"weather\": \"sun\"}, {\"date\": \"2012-07-20\", \"precipitation\": 15.2, \"temp_max\": 19.4, \"temp_min\": 13.9, \"wind\": 4.0, \"weather\": \"rain\"}, {\"date\": \"2012-07-21\", \"precipitation\": 0.0, \"temp_max\": 23.9, \"temp_min\": 13.9, \"wind\": 2.3, \"weather\": \"sun\"}, {\"date\": \"2012-07-22\", \"precipitation\": 1.0, \"temp_max\": 20.6, \"temp_min\": 12.2, \"wind\": 3.9, \"weather\": \"rain\"}, {\"date\": \"2012-07-23\", \"precipitation\": 0.0, \"temp_max\": 18.9, \"temp_min\": 11.1, \"wind\": 3.3, \"weather\": \"rain\"}, {\"date\": \"2012-07-24\", \"precipitation\": 0.0, \"temp_max\": 23.3, \"temp_min\": 12.2, \"wind\": 4.3, \"weather\": \"sun\"}, {\"date\": \"2012-07-25\", \"precipitation\": 0.0, \"temp_max\": 26.7, \"temp_min\": 12.8, \"wind\": 2.6, \"weather\": \"sun\"}, {\"date\": \"2012-07-26\", \"precipitation\": 0.0, \"temp_max\": 25.6, \"temp_min\": 12.8, \"wind\": 2.2, \"weather\": \"drizzle\"}, {\"date\": \"2012-07-27\", \"precipitation\": 0.0, \"temp_max\": 18.9, \"temp_min\": 13.9, \"wind\": 2.8, \"weather\": \"drizzle\"}, {\"date\": \"2012-07-28\", \"precipitation\": 0.0, \"temp_max\": 22.2, \"temp_min\": 13.3, \"wind\": 1.7, \"weather\": \"drizzle\"}, {\"date\": \"2012-07-29\", \"precipitation\": 0.0, \"temp_max\": 22.8, \"temp_min\": 15.0, \"wind\": 2.0, \"weather\": \"sun\"}, {\"date\": \"2012-07-30\", \"precipitation\": 0.0, \"temp_max\": 19.4, \"temp_min\": 13.3, \"wind\": 3.0, \"weather\": \"sun\"}, {\"date\": \"2012-07-31\", \"precipitation\": 0.0, \"temp_max\": 22.8, \"temp_min\": 13.9, \"wind\": 2.8, \"weather\": \"sun\"}, {\"date\": \"2012-08-01\", \"precipitation\": 0.0, \"temp_max\": 23.9, \"temp_min\": 13.3, \"wind\": 2.2, \"weather\": \"drizzle\"}, {\"date\": \"2012-08-02\", \"precipitation\": 0.0, \"temp_max\": 23.3, \"temp_min\": 12.2, \"wind\": 2.5, \"weather\": \"sun\"}, {\"date\": \"2012-08-03\", \"precipitation\": 0.0, \"temp_max\": 27.2, \"temp_min\": 12.8, \"wind\": 3.9, \"weather\": \"sun\"}, {\"date\": \"2012-08-04\", \"precipitation\": 0.0, \"temp_max\": 33.9, \"temp_min\": 16.7, \"wind\": 3.7, \"weather\": \"sun\"}, {\"date\": \"2012-08-05\", \"precipitation\": 0.0, \"temp_max\": 33.9, \"temp_min\": 17.8, \"wind\": 1.9, \"weather\": \"sun\"}, {\"date\": \"2012-08-06\", \"precipitation\": 0.0, \"temp_max\": 28.3, \"temp_min\": 15.6, \"wind\": 2.5, \"weather\": \"rain\"}, {\"date\": \"2012-08-07\", \"precipitation\": 0.0, \"temp_max\": 21.1, \"temp_min\": 15.0, \"wind\": 2.6, \"weather\": \"drizzle\"}, {\"date\": \"2012-08-08\", \"precipitation\": 0.0, \"temp_max\": 22.2, \"temp_min\": 15.0, \"wind\": 3.1, \"weather\": \"sun\"}, {\"date\": \"2012-08-09\", \"precipitation\": 0.0, \"temp_max\": 24.4, \"temp_min\": 14.4, \"wind\": 3.8, \"weather\": \"drizzle\"}, {\"date\": \"2012-08-10\", \"precipitation\": 0.0, \"temp_max\": 25.6, \"temp_min\": 12.2, \"wind\": 2.3, \"weather\": \"sun\"}, {\"date\": \"2012-08-11\", \"precipitation\": 0.0, \"temp_max\": 28.3, \"temp_min\": 13.3, \"wind\": 2.5, \"weather\": \"sun\"}, {\"date\": \"2012-08-12\", \"precipitation\": 0.0, \"temp_max\": 30.6, \"temp_min\": 15.0, \"wind\": 3.0, \"weather\": \"sun\"}, {\"date\": \"2012-08-13\", \"precipitation\": 0.0, \"temp_max\": 30.6, \"temp_min\": 15.0, \"wind\": 2.8, \"weather\": \"sun\"}, {\"date\": \"2012-08-14\", \"precipitation\": 0.0, \"temp_max\": 28.9, \"temp_min\": 13.9, \"wind\": 2.8, \"weather\": \"sun\"}, {\"date\": \"2012-08-15\", \"precipitation\": 0.0, \"temp_max\": 31.1, \"temp_min\": 16.7, \"wind\": 4.7, \"weather\": \"sun\"}, {\"date\": \"2012-08-16\", \"precipitation\": 0.0, \"temp_max\": 34.4, \"temp_min\": 18.3, \"wind\": 2.8, \"weather\": \"sun\"}, {\"date\": \"2012-08-17\", \"precipitation\": 0.0, \"temp_max\": 32.8, \"temp_min\": 16.1, \"wind\": 1.8, \"weather\": \"sun\"}, {\"date\": \"2012-08-18\", \"precipitation\": 0.0, \"temp_max\": 21.7, \"temp_min\": 14.4, \"wind\": 3.0, \"weather\": \"drizzle\"}, {\"date\": \"2012-08-19\", \"precipitation\": 0.0, \"temp_max\": 23.3, \"temp_min\": 15.0, \"wind\": 2.7, \"weather\": \"drizzle\"}, {\"date\": \"2012-08-20\", \"precipitation\": 0.0, \"temp_max\": 25.6, \"temp_min\": 15.0, \"wind\": 1.9, \"weather\": \"sun\"}, {\"date\": \"2012-08-21\", \"precipitation\": 0.0, \"temp_max\": 23.3, \"temp_min\": 13.3, \"wind\": 3.0, \"weather\": \"rain\"}, {\"date\": \"2012-08-22\", \"precipitation\": 0.0, \"temp_max\": 22.2, \"temp_min\": 13.3, \"wind\": 2.3, \"weather\": \"sun\"}, {\"date\": \"2012-08-23\", \"precipitation\": 0.0, \"temp_max\": 21.1, \"temp_min\": 13.9, \"wind\": 3.8, \"weather\": \"sun\"}, {\"date\": \"2012-08-24\", \"precipitation\": 0.0, \"temp_max\": 22.2, \"temp_min\": 10.0, \"wind\": 3.3, \"weather\": \"sun\"}, {\"date\": \"2012-08-25\", \"precipitation\": 0.0, \"temp_max\": 26.1, \"temp_min\": 11.7, \"wind\": 3.2, \"weather\": \"sun\"}, {\"date\": \"2012-08-26\", \"precipitation\": 0.0, \"temp_max\": 21.1, \"temp_min\": 12.2, \"wind\": 3.4, \"weather\": \"sun\"}, {\"date\": \"2012-08-27\", \"precipitation\": 0.0, \"temp_max\": 23.9, \"temp_min\": 13.3, \"wind\": 1.8, \"weather\": \"sun\"}, {\"date\": \"2012-08-28\", \"precipitation\": 0.0, \"temp_max\": 22.8, \"temp_min\": 12.2, \"wind\": 3.2, \"weather\": \"sun\"}, {\"date\": \"2012-08-29\", \"precipitation\": 0.0, \"temp_max\": 22.8, \"temp_min\": 13.3, \"wind\": 2.4, \"weather\": \"sun\"}, {\"date\": \"2012-08-30\", \"precipitation\": 0.0, \"temp_max\": 22.8, \"temp_min\": 12.8, \"wind\": 1.9, \"weather\": \"sun\"}, {\"date\": \"2012-08-31\", \"precipitation\": 0.0, \"temp_max\": 22.2, \"temp_min\": 10.6, \"wind\": 2.9, \"weather\": \"sun\"}, {\"date\": \"2012-09-01\", \"precipitation\": 0.0, \"temp_max\": 21.7, \"temp_min\": 10.6, \"wind\": 2.1, \"weather\": \"sun\"}, {\"date\": \"2012-09-02\", \"precipitation\": 0.0, \"temp_max\": 21.1, \"temp_min\": 10.0, \"wind\": 2.0, \"weather\": \"sun\"}, {\"date\": \"2012-09-03\", \"precipitation\": 0.0, \"temp_max\": 22.8, \"temp_min\": 12.8, \"wind\": 3.3, \"weather\": \"sun\"}, {\"date\": \"2012-09-04\", \"precipitation\": 0.0, \"temp_max\": 24.4, \"temp_min\": 11.1, \"wind\": 3.1, \"weather\": \"sun\"}, {\"date\": \"2012-09-05\", \"precipitation\": 0.0, \"temp_max\": 26.1, \"temp_min\": 11.7, \"wind\": 2.6, \"weather\": \"sun\"}, {\"date\": \"2012-09-06\", \"precipitation\": 0.0, \"temp_max\": 28.3, \"temp_min\": 14.4, \"wind\": 4.2, \"weather\": \"sun\"}, {\"date\": \"2012-09-07\", \"precipitation\": 0.0, \"temp_max\": 32.2, \"temp_min\": 13.3, \"wind\": 3.1, \"weather\": \"sun\"}, {\"date\": \"2012-09-08\", \"precipitation\": 0.0, \"temp_max\": 25.0, \"temp_min\": 13.3, \"wind\": 3.0, \"weather\": \"sun\"}, {\"date\": \"2012-09-09\", \"precipitation\": 0.3, \"temp_max\": 18.9, \"temp_min\": 13.9, \"wind\": 5.0, \"weather\": \"rain\"}, {\"date\": \"2012-09-10\", \"precipitation\": 0.3, \"temp_max\": 20.0, \"temp_min\": 11.7, \"wind\": 3.9, \"weather\": \"rain\"}, {\"date\": \"2012-09-11\", \"precipitation\": 0.0, \"temp_max\": 20.0, \"temp_min\": 8.9, \"wind\": 4.2, \"weather\": \"sun\"}, {\"date\": \"2012-09-12\", \"precipitation\": 0.0, \"temp_max\": 22.2, \"temp_min\": 10.0, \"wind\": 5.6, \"weather\": \"sun\"}, {\"date\": \"2012-09-13\", \"precipitation\": 0.0, \"temp_max\": 27.8, \"temp_min\": 11.7, \"wind\": 3.6, \"weather\": \"sun\"}, {\"date\": \"2012-09-14\", \"precipitation\": 0.0, \"temp_max\": 26.1, \"temp_min\": 11.1, \"wind\": 1.5, \"weather\": \"sun\"}, {\"date\": \"2012-09-15\", \"precipitation\": 0.0, \"temp_max\": 22.2, \"temp_min\": 11.1, \"wind\": 1.9, \"weather\": \"sun\"}, {\"date\": \"2012-09-16\", \"precipitation\": 0.0, \"temp_max\": 24.4, \"temp_min\": 9.4, \"wind\": 2.3, \"weather\": \"sun\"}, {\"date\": \"2012-09-17\", \"precipitation\": 0.0, \"temp_max\": 27.8, \"temp_min\": 11.7, \"wind\": 2.2, \"weather\": \"fog\"}, {\"date\": \"2012-09-18\", \"precipitation\": 0.0, \"temp_max\": 27.8, \"temp_min\": 11.7, \"wind\": 1.4, \"weather\": \"sun\"}, {\"date\": \"2012-09-19\", \"precipitation\": 0.0, \"temp_max\": 23.9, \"temp_min\": 11.7, \"wind\": 1.9, \"weather\": \"drizzle\"}, {\"date\": \"2012-09-20\", \"precipitation\": 0.0, \"temp_max\": 19.4, \"temp_min\": 10.0, \"wind\": 2.5, \"weather\": \"drizzle\"}, {\"date\": \"2012-09-21\", \"precipitation\": 0.0, \"temp_max\": 16.1, \"temp_min\": 12.8, \"wind\": 2.1, \"weather\": \"drizzle\"}, {\"date\": \"2012-09-22\", \"precipitation\": 0.3, \"temp_max\": 19.4, \"temp_min\": 11.7, \"wind\": 1.1, \"weather\": \"rain\"}, {\"date\": \"2012-09-23\", \"precipitation\": 0.0, \"temp_max\": 19.4, \"temp_min\": 10.0, \"wind\": 1.4, \"weather\": \"fog\"}, {\"date\": \"2012-09-24\", \"precipitation\": 0.0, \"temp_max\": 21.1, \"temp_min\": 10.0, \"wind\": 1.8, \"weather\": \"fog\"}, {\"date\": \"2012-09-25\", \"precipitation\": 0.0, \"temp_max\": 19.4, \"temp_min\": 11.1, \"wind\": 1.7, \"weather\": \"sun\"}, {\"date\": \"2012-09-26\", \"precipitation\": 0.0, \"temp_max\": 19.4, \"temp_min\": 9.4, \"wind\": 1.7, \"weather\": \"drizzle\"}, {\"date\": \"2012-09-27\", \"precipitation\": 0.0, \"temp_max\": 22.8, \"temp_min\": 10.0, \"wind\": 1.7, \"weather\": \"drizzle\"}, {\"date\": \"2012-09-28\", \"precipitation\": 0.0, \"temp_max\": 25.0, \"temp_min\": 12.2, \"wind\": 1.1, \"weather\": \"rain\"}, {\"date\": \"2012-09-29\", \"precipitation\": 0.0, \"temp_max\": 20.6, \"temp_min\": 12.2, \"wind\": 4.3, \"weather\": \"sun\"}, {\"date\": \"2012-09-30\", \"precipitation\": 0.0, \"temp_max\": 21.1, \"temp_min\": 7.8, \"wind\": 3.1, \"weather\": \"sun\"}, {\"date\": \"2012-10-01\", \"precipitation\": 0.0, \"temp_max\": 23.3, \"temp_min\": 8.9, \"wind\": 3.0, \"weather\": \"sun\"}, {\"date\": \"2012-10-02\", \"precipitation\": 0.0, \"temp_max\": 17.8, \"temp_min\": 10.0, \"wind\": 4.1, \"weather\": \"sun\"}, {\"date\": \"2012-10-03\", \"precipitation\": 0.0, \"temp_max\": 18.9, \"temp_min\": 7.8, \"wind\": 7.3, \"weather\": \"sun\"}, {\"date\": \"2012-10-04\", \"precipitation\": 0.0, \"temp_max\": 18.9, \"temp_min\": 8.3, \"wind\": 6.5, \"weather\": \"sun\"}, {\"date\": \"2012-10-05\", \"precipitation\": 0.0, \"temp_max\": 21.7, \"temp_min\": 8.9, \"wind\": 5.7, \"weather\": \"sun\"}, {\"date\": \"2012-10-06\", \"precipitation\": 0.0, \"temp_max\": 23.9, \"temp_min\": 7.8, \"wind\": 5.1, \"weather\": \"sun\"}, {\"date\": \"2012-10-07\", \"precipitation\": 0.0, \"temp_max\": 23.9, \"temp_min\": 7.8, \"wind\": 1.3, \"weather\": \"sun\"}, {\"date\": \"2012-10-08\", \"precipitation\": 0.0, \"temp_max\": 21.1, \"temp_min\": 7.8, \"wind\": 1.9, \"weather\": \"sun\"}, {\"date\": \"2012-10-09\", \"precipitation\": 0.0, \"temp_max\": 16.1, \"temp_min\": 8.9, \"wind\": 1.6, \"weather\": \"drizzle\"}, {\"date\": \"2012-10-10\", \"precipitation\": 0.0, \"temp_max\": 12.2, \"temp_min\": 8.3, \"wind\": 1.4, \"weather\": \"drizzle\"}, {\"date\": \"2012-10-11\", \"precipitation\": 0.0, \"temp_max\": 13.9, \"temp_min\": 7.2, \"wind\": 1.3, \"weather\": \"drizzle\"}, {\"date\": \"2012-10-12\", \"precipitation\": 2.0, \"temp_max\": 13.9, \"temp_min\": 8.9, \"wind\": 4.6, \"weather\": \"rain\"}, {\"date\": \"2012-10-13\", \"precipitation\": 4.8, \"temp_max\": 15.6, \"temp_min\": 12.2, \"wind\": 3.9, \"weather\": \"rain\"}, {\"date\": \"2012-10-14\", \"precipitation\": 16.5, \"temp_max\": 17.8, \"temp_min\": 13.3, \"wind\": 3.4, \"weather\": \"rain\"}, {\"date\": \"2012-10-15\", \"precipitation\": 7.9, \"temp_max\": 17.2, \"temp_min\": 11.1, \"wind\": 4.6, \"weather\": \"rain\"}, {\"date\": \"2012-10-16\", \"precipitation\": 0.0, \"temp_max\": 16.1, \"temp_min\": 8.3, \"wind\": 5.5, \"weather\": \"sun\"}, {\"date\": \"2012-10-17\", \"precipitation\": 0.0, \"temp_max\": 14.4, \"temp_min\": 6.1, \"wind\": 1.6, \"weather\": \"sun\"}, {\"date\": \"2012-10-18\", \"precipitation\": 20.8, \"temp_max\": 17.8, \"temp_min\": 6.7, \"wind\": 2.0, \"weather\": \"rain\"}, {\"date\": \"2012-10-19\", \"precipitation\": 4.8, \"temp_max\": 15.0, \"temp_min\": 9.4, \"wind\": 5.3, \"weather\": \"rain\"}, {\"date\": \"2012-10-20\", \"precipitation\": 0.5, \"temp_max\": 11.1, \"temp_min\": 6.1, \"wind\": 5.7, \"weather\": \"rain\"}, {\"date\": \"2012-10-21\", \"precipitation\": 6.4, \"temp_max\": 11.7, \"temp_min\": 4.4, \"wind\": 2.7, \"weather\": \"rain\"}, {\"date\": \"2012-10-22\", \"precipitation\": 8.9, \"temp_max\": 7.8, \"temp_min\": 3.3, \"wind\": 2.6, \"weather\": \"rain\"}, {\"date\": \"2012-10-23\", \"precipitation\": 0.0, \"temp_max\": 11.1, \"temp_min\": 5.6, \"wind\": 3.0, \"weather\": \"rain\"}, {\"date\": \"2012-10-24\", \"precipitation\": 7.1, \"temp_max\": 11.7, \"temp_min\": 6.1, \"wind\": 2.1, \"weather\": \"rain\"}, {\"date\": \"2012-10-25\", \"precipitation\": 0.0, \"temp_max\": 11.7, \"temp_min\": 6.7, \"wind\": 1.5, \"weather\": \"sun\"}, {\"date\": \"2012-10-26\", \"precipitation\": 1.5, \"temp_max\": 11.1, \"temp_min\": 7.2, \"wind\": 2.5, \"weather\": \"rain\"}, {\"date\": \"2012-10-27\", \"precipitation\": 23.1, \"temp_max\": 14.4, \"temp_min\": 9.4, \"wind\": 5.1, \"weather\": \"rain\"}, {\"date\": \"2012-10-28\", \"precipitation\": 6.1, \"temp_max\": 14.4, \"temp_min\": 10.0, \"wind\": 3.8, \"weather\": \"rain\"}, {\"date\": \"2012-10-29\", \"precipitation\": 10.9, \"temp_max\": 15.6, \"temp_min\": 10.0, \"wind\": 4.9, \"weather\": \"rain\"}, {\"date\": \"2012-10-30\", \"precipitation\": 34.5, \"temp_max\": 15.0, \"temp_min\": 12.2, \"wind\": 2.8, \"weather\": \"rain\"}, {\"date\": \"2012-10-31\", \"precipitation\": 14.5, \"temp_max\": 15.6, \"temp_min\": 11.1, \"wind\": 2.7, \"weather\": \"rain\"}, {\"date\": \"2012-11-01\", \"precipitation\": 9.7, \"temp_max\": 15.0, \"temp_min\": 10.6, \"wind\": 3.0, \"weather\": \"rain\"}, {\"date\": \"2012-11-02\", \"precipitation\": 5.6, \"temp_max\": 15.0, \"temp_min\": 10.6, \"wind\": 1.0, \"weather\": \"rain\"}, {\"date\": \"2012-11-03\", \"precipitation\": 0.5, \"temp_max\": 15.6, \"temp_min\": 11.1, \"wind\": 3.6, \"weather\": \"rain\"}, {\"date\": \"2012-11-04\", \"precipitation\": 8.1, \"temp_max\": 17.8, \"temp_min\": 12.8, \"wind\": 3.8, \"weather\": \"rain\"}, {\"date\": \"2012-11-05\", \"precipitation\": 0.8, \"temp_max\": 15.0, \"temp_min\": 7.8, \"wind\": 4.0, \"weather\": \"rain\"}, {\"date\": \"2012-11-06\", \"precipitation\": 0.3, \"temp_max\": 12.8, \"temp_min\": 6.7, \"wind\": 3.5, \"weather\": \"rain\"}, {\"date\": \"2012-11-07\", \"precipitation\": 0.0, \"temp_max\": 12.2, \"temp_min\": 3.9, \"wind\": 3.4, \"weather\": \"rain\"}, {\"date\": \"2012-11-08\", \"precipitation\": 0.0, \"temp_max\": 10.0, \"temp_min\": 1.1, \"wind\": 3.4, \"weather\": \"rain\"}, {\"date\": \"2012-11-09\", \"precipitation\": 0.0, \"temp_max\": 8.9, \"temp_min\": 1.1, \"wind\": 2.0, \"weather\": \"rain\"}, {\"date\": \"2012-11-10\", \"precipitation\": 0.0, \"temp_max\": 7.8, \"temp_min\": -0.6, \"wind\": 2.2, \"weather\": \"sun\"}, {\"date\": \"2012-11-11\", \"precipitation\": 15.2, \"temp_max\": 8.9, \"temp_min\": 1.1, \"wind\": 3.0, \"weather\": \"rain\"}, {\"date\": \"2012-11-12\", \"precipitation\": 3.6, \"temp_max\": 12.8, \"temp_min\": 6.1, \"wind\": 3.0, \"weather\": \"rain\"}, {\"date\": \"2012-11-13\", \"precipitation\": 5.3, \"temp_max\": 11.1, \"temp_min\": 7.8, \"wind\": 2.5, \"weather\": \"rain\"}, {\"date\": \"2012-11-14\", \"precipitation\": 0.8, \"temp_max\": 11.1, \"temp_min\": 5.0, \"wind\": 2.6, \"weather\": \"rain\"}, {\"date\": \"2012-11-15\", \"precipitation\": 0.0, \"temp_max\": 9.4, \"temp_min\": 2.8, \"wind\": 2.4, \"weather\": \"drizzle\"}, {\"date\": \"2012-11-16\", \"precipitation\": 5.6, \"temp_max\": 9.4, \"temp_min\": 2.2, \"wind\": 1.6, \"weather\": \"rain\"}, {\"date\": \"2012-11-17\", \"precipitation\": 6.1, \"temp_max\": 12.2, \"temp_min\": 6.1, \"wind\": 5.3, \"weather\": \"rain\"}, {\"date\": \"2012-11-18\", \"precipitation\": 7.9, \"temp_max\": 10.0, \"temp_min\": 6.1, \"wind\": 4.9, \"weather\": \"rain\"}, {\"date\": \"2012-11-19\", \"precipitation\": 54.1, \"temp_max\": 13.3, \"temp_min\": 8.3, \"wind\": 6.0, \"weather\": \"rain\"}, {\"date\": \"2012-11-20\", \"precipitation\": 3.8, \"temp_max\": 11.1, \"temp_min\": 7.2, \"wind\": 4.2, \"weather\": \"rain\"}, {\"date\": \"2012-11-21\", \"precipitation\": 11.2, \"temp_max\": 8.3, \"temp_min\": 3.9, \"wind\": 5.5, \"weather\": \"rain\"}, {\"date\": \"2012-11-22\", \"precipitation\": 0.0, \"temp_max\": 8.9, \"temp_min\": 2.8, \"wind\": 1.5, \"weather\": \"rain\"}, {\"date\": \"2012-11-23\", \"precipitation\": 32.0, \"temp_max\": 9.4, \"temp_min\": 6.1, \"wind\": 2.4, \"weather\": \"rain\"}, {\"date\": \"2012-11-24\", \"precipitation\": 0.0, \"temp_max\": 8.9, \"temp_min\": 3.9, \"wind\": 1.2, \"weather\": \"rain\"}, {\"date\": \"2012-11-25\", \"precipitation\": 0.0, \"temp_max\": 8.3, \"temp_min\": 1.1, \"wind\": 3.6, \"weather\": \"drizzle\"}, {\"date\": \"2012-11-26\", \"precipitation\": 0.0, \"temp_max\": 9.4, \"temp_min\": 1.7, \"wind\": 3.8, \"weather\": \"fog\"}, {\"date\": \"2012-11-27\", \"precipitation\": 0.0, \"temp_max\": 10.0, \"temp_min\": 1.7, \"wind\": 1.5, \"weather\": \"sun\"}, {\"date\": \"2012-11-28\", \"precipitation\": 2.8, \"temp_max\": 9.4, \"temp_min\": 2.2, \"wind\": 2.9, \"weather\": \"rain\"}, {\"date\": \"2012-11-29\", \"precipitation\": 1.5, \"temp_max\": 12.8, \"temp_min\": 7.8, \"wind\": 4.2, \"weather\": \"rain\"}, {\"date\": \"2012-11-30\", \"precipitation\": 35.6, \"temp_max\": 15.0, \"temp_min\": 7.8, \"wind\": 4.6, \"weather\": \"rain\"}, {\"date\": \"2012-12-01\", \"precipitation\": 4.1, \"temp_max\": 13.3, \"temp_min\": 8.3, \"wind\": 5.5, \"weather\": \"rain\"}, {\"date\": \"2012-12-02\", \"precipitation\": 19.6, \"temp_max\": 8.3, \"temp_min\": 7.2, \"wind\": 6.2, \"weather\": \"rain\"}, {\"date\": \"2012-12-03\", \"precipitation\": 13.0, \"temp_max\": 9.4, \"temp_min\": 7.2, \"wind\": 4.4, \"weather\": \"rain\"}, {\"date\": \"2012-12-04\", \"precipitation\": 14.2, \"temp_max\": 11.7, \"temp_min\": 7.2, \"wind\": 6.2, \"weather\": \"rain\"}, {\"date\": \"2012-12-05\", \"precipitation\": 1.5, \"temp_max\": 8.9, \"temp_min\": 4.4, \"wind\": 5.0, \"weather\": \"rain\"}, {\"date\": \"2012-12-06\", \"precipitation\": 1.5, \"temp_max\": 7.2, \"temp_min\": 6.1, \"wind\": 5.1, \"weather\": \"rain\"}, {\"date\": \"2012-12-07\", \"precipitation\": 1.0, \"temp_max\": 7.8, \"temp_min\": 3.3, \"wind\": 4.6, \"weather\": \"rain\"}, {\"date\": \"2012-12-08\", \"precipitation\": 0.0, \"temp_max\": 6.7, \"temp_min\": 3.3, \"wind\": 2.0, \"weather\": \"sun\"}, {\"date\": \"2012-12-09\", \"precipitation\": 1.5, \"temp_max\": 6.7, \"temp_min\": 2.8, \"wind\": 2.1, \"weather\": \"rain\"}, {\"date\": \"2012-12-10\", \"precipitation\": 0.5, \"temp_max\": 7.2, \"temp_min\": 5.6, \"wind\": 1.8, \"weather\": \"rain\"}, {\"date\": \"2012-12-11\", \"precipitation\": 3.0, \"temp_max\": 7.8, \"temp_min\": 5.6, \"wind\": 4.5, \"weather\": \"rain\"}, {\"date\": \"2012-12-12\", \"precipitation\": 8.1, \"temp_max\": 6.7, \"temp_min\": 4.4, \"wind\": 2.0, \"weather\": \"rain\"}, {\"date\": \"2012-12-13\", \"precipitation\": 2.3, \"temp_max\": 7.2, \"temp_min\": 3.3, \"wind\": 2.8, \"weather\": \"rain\"}, {\"date\": \"2012-12-14\", \"precipitation\": 7.9, \"temp_max\": 6.1, \"temp_min\": 1.1, \"wind\": 1.7, \"weather\": \"rain\"}, {\"date\": \"2012-12-15\", \"precipitation\": 5.3, \"temp_max\": 4.4, \"temp_min\": 0.6, \"wind\": 5.1, \"weather\": \"snow\"}, {\"date\": \"2012-12-16\", \"precipitation\": 22.6, \"temp_max\": 6.7, \"temp_min\": 3.3, \"wind\": 5.5, \"weather\": \"snow\"}, {\"date\": \"2012-12-17\", \"precipitation\": 2.0, \"temp_max\": 8.3, \"temp_min\": 1.7, \"wind\": 9.5, \"weather\": \"rain\"}, {\"date\": \"2012-12-18\", \"precipitation\": 3.3, \"temp_max\": 3.9, \"temp_min\": 0.6, \"wind\": 5.3, \"weather\": \"snow\"}, {\"date\": \"2012-12-19\", \"precipitation\": 13.7, \"temp_max\": 8.3, \"temp_min\": 1.7, \"wind\": 5.8, \"weather\": \"snow\"}, {\"date\": \"2012-12-20\", \"precipitation\": 13.2, \"temp_max\": 7.2, \"temp_min\": 0.6, \"wind\": 3.7, \"weather\": \"rain\"}, {\"date\": \"2012-12-21\", \"precipitation\": 1.8, \"temp_max\": 8.3, \"temp_min\": -1.7, \"wind\": 1.7, \"weather\": \"rain\"}, {\"date\": \"2012-12-22\", \"precipitation\": 3.3, \"temp_max\": 8.3, \"temp_min\": 3.9, \"wind\": 3.5, \"weather\": \"rain\"}, {\"date\": \"2012-12-23\", \"precipitation\": 6.6, \"temp_max\": 7.2, \"temp_min\": 3.3, \"wind\": 2.5, \"weather\": \"rain\"}, {\"date\": \"2012-12-24\", \"precipitation\": 0.3, \"temp_max\": 5.6, \"temp_min\": 2.8, \"wind\": 2.8, \"weather\": \"rain\"}, {\"date\": \"2012-12-25\", \"precipitation\": 13.5, \"temp_max\": 5.6, \"temp_min\": 2.8, \"wind\": 4.2, \"weather\": \"snow\"}, {\"date\": \"2012-12-26\", \"precipitation\": 4.6, \"temp_max\": 6.7, \"temp_min\": 3.3, \"wind\": 4.9, \"weather\": \"rain\"}, {\"date\": \"2012-12-27\", \"precipitation\": 4.1, \"temp_max\": 7.8, \"temp_min\": 3.3, \"wind\": 3.2, \"weather\": \"rain\"}, {\"date\": \"2012-12-28\", \"precipitation\": 0.0, \"temp_max\": 8.3, \"temp_min\": 3.9, \"wind\": 1.7, \"weather\": \"rain\"}, {\"date\": \"2012-12-29\", \"precipitation\": 1.5, \"temp_max\": 5.0, \"temp_min\": 3.3, \"wind\": 1.7, \"weather\": \"rain\"}, {\"date\": \"2012-12-30\", \"precipitation\": 0.0, \"temp_max\": 4.4, \"temp_min\": 0.0, \"wind\": 1.8, \"weather\": \"drizzle\"}, {\"date\": \"2012-12-31\", \"precipitation\": 0.0, \"temp_max\": 3.3, \"temp_min\": -1.1, \"wind\": 2.0, \"weather\": \"drizzle\"}, {\"date\": \"2013-01-01\", \"precipitation\": 0.0, \"temp_max\": 5.0, \"temp_min\": -2.8, \"wind\": 2.7, \"weather\": \"sun\"}, {\"date\": \"2013-01-02\", \"precipitation\": 0.0, \"temp_max\": 6.1, \"temp_min\": -1.1, \"wind\": 3.2, \"weather\": \"sun\"}, {\"date\": \"2013-01-03\", \"precipitation\": 4.1, \"temp_max\": 6.7, \"temp_min\": -1.7, \"wind\": 3.0, \"weather\": \"rain\"}, {\"date\": \"2013-01-04\", \"precipitation\": 2.5, \"temp_max\": 10.0, \"temp_min\": 2.2, \"wind\": 2.8, \"weather\": \"rain\"}, {\"date\": \"2013-01-05\", \"precipitation\": 3.0, \"temp_max\": 6.7, \"temp_min\": 4.4, \"wind\": 3.1, \"weather\": \"rain\"}, {\"date\": \"2013-01-06\", \"precipitation\": 2.0, \"temp_max\": 7.2, \"temp_min\": 2.8, \"wind\": 3.0, \"weather\": \"rain\"}, {\"date\": \"2013-01-07\", \"precipitation\": 2.3, \"temp_max\": 10.0, \"temp_min\": 4.4, \"wind\": 7.3, \"weather\": \"rain\"}, {\"date\": \"2013-01-08\", \"precipitation\": 16.3, \"temp_max\": 11.7, \"temp_min\": 5.6, \"wind\": 6.3, \"weather\": \"rain\"}, {\"date\": \"2013-01-09\", \"precipitation\": 38.4, \"temp_max\": 10.0, \"temp_min\": 1.7, \"wind\": 5.1, \"weather\": \"rain\"}, {\"date\": \"2013-01-10\", \"precipitation\": 0.3, \"temp_max\": 3.3, \"temp_min\": -0.6, \"wind\": 2.1, \"weather\": \"snow\"}, {\"date\": \"2013-01-11\", \"precipitation\": 0.0, \"temp_max\": 2.8, \"temp_min\": -2.8, \"wind\": 1.9, \"weather\": \"drizzle\"}, {\"date\": \"2013-01-12\", \"precipitation\": 0.0, \"temp_max\": 2.8, \"temp_min\": -3.9, \"wind\": 2.0, \"weather\": \"sun\"}, {\"date\": \"2013-01-13\", \"precipitation\": 0.0, \"temp_max\": 2.2, \"temp_min\": -4.4, \"wind\": 1.5, \"weather\": \"sun\"}, {\"date\": \"2013-01-14\", \"precipitation\": 0.0, \"temp_max\": 3.3, \"temp_min\": -2.2, \"wind\": 1.3, \"weather\": \"sun\"}, {\"date\": \"2013-01-15\", \"precipitation\": 0.0, \"temp_max\": 6.7, \"temp_min\": -0.6, \"wind\": 2.3, \"weather\": \"sun\"}, {\"date\": \"2013-01-16\", \"precipitation\": 0.0, \"temp_max\": 6.1, \"temp_min\": -3.9, \"wind\": 1.8, \"weather\": \"drizzle\"}, {\"date\": \"2013-01-17\", \"precipitation\": 0.0, \"temp_max\": 3.9, \"temp_min\": -2.8, \"wind\": 1.0, \"weather\": \"drizzle\"}, {\"date\": \"2013-01-18\", \"precipitation\": 0.0, \"temp_max\": 3.3, \"temp_min\": -1.1, \"wind\": 1.3, \"weather\": \"drizzle\"}, {\"date\": \"2013-01-19\", \"precipitation\": 0.0, \"temp_max\": 1.1, \"temp_min\": -0.6, \"wind\": 1.9, \"weather\": \"drizzle\"}, {\"date\": \"2013-01-20\", \"precipitation\": 0.0, \"temp_max\": 3.3, \"temp_min\": -0.6, \"wind\": 2.1, \"weather\": \"drizzle\"}, {\"date\": \"2013-01-21\", \"precipitation\": 0.0, \"temp_max\": 2.2, \"temp_min\": -1.7, \"wind\": 1.1, \"weather\": \"drizzle\"}, {\"date\": \"2013-01-22\", \"precipitation\": 0.0, \"temp_max\": 3.3, \"temp_min\": -1.7, \"wind\": 0.6, \"weather\": \"drizzle\"}, {\"date\": \"2013-01-23\", \"precipitation\": 5.1, \"temp_max\": 7.2, \"temp_min\": 2.2, \"wind\": 3.1, \"weather\": \"rain\"}, {\"date\": \"2013-01-24\", \"precipitation\": 5.8, \"temp_max\": 7.2, \"temp_min\": 1.1, \"wind\": 2.6, \"weather\": \"rain\"}, {\"date\": \"2013-01-25\", \"precipitation\": 3.0, \"temp_max\": 10.6, \"temp_min\": 2.8, \"wind\": 2.1, \"weather\": \"rain\"}, {\"date\": \"2013-01-26\", \"precipitation\": 2.3, \"temp_max\": 8.3, \"temp_min\": 3.9, \"wind\": 4.5, \"weather\": \"rain\"}, {\"date\": \"2013-01-27\", \"precipitation\": 1.8, \"temp_max\": 5.6, \"temp_min\": 3.9, \"wind\": 4.5, \"weather\": \"rain\"}, {\"date\": \"2013-01-28\", \"precipitation\": 7.9, \"temp_max\": 6.1, \"temp_min\": 3.3, \"wind\": 3.2, \"weather\": \"rain\"}, {\"date\": \"2013-01-29\", \"precipitation\": 4.3, \"temp_max\": 8.3, \"temp_min\": 5.0, \"wind\": 3.9, \"weather\": \"rain\"}, {\"date\": \"2013-01-30\", \"precipitation\": 3.6, \"temp_max\": 8.9, \"temp_min\": 6.7, \"wind\": 3.9, \"weather\": \"rain\"}, {\"date\": \"2013-01-31\", \"precipitation\": 3.0, \"temp_max\": 9.4, \"temp_min\": 7.2, \"wind\": 4.0, \"weather\": \"rain\"}, {\"date\": \"2013-02-01\", \"precipitation\": 0.3, \"temp_max\": 11.7, \"temp_min\": 5.0, \"wind\": 2.9, \"weather\": \"rain\"}, {\"date\": \"2013-02-02\", \"precipitation\": 0.0, \"temp_max\": 6.1, \"temp_min\": 2.8, \"wind\": 2.0, \"weather\": \"drizzle\"}, {\"date\": \"2013-02-03\", \"precipitation\": 2.3, \"temp_max\": 8.9, \"temp_min\": 2.8, \"wind\": 2.9, \"weather\": \"rain\"}, {\"date\": \"2013-02-04\", \"precipitation\": 0.0, \"temp_max\": 10.6, \"temp_min\": 6.7, \"wind\": 2.6, \"weather\": \"rain\"}, {\"date\": \"2013-02-05\", \"precipitation\": 3.3, \"temp_max\": 10.0, \"temp_min\": 6.7, \"wind\": 5.1, \"weather\": \"rain\"}, {\"date\": \"2013-02-06\", \"precipitation\": 1.0, \"temp_max\": 10.6, \"temp_min\": 6.1, \"wind\": 4.5, \"weather\": \"rain\"}, {\"date\": \"2013-02-07\", \"precipitation\": 1.3, \"temp_max\": 9.4, \"temp_min\": 3.3, \"wind\": 4.1, \"weather\": \"rain\"}, {\"date\": \"2013-02-08\", \"precipitation\": 0.0, \"temp_max\": 7.8, \"temp_min\": 2.2, \"wind\": 1.3, \"weather\": \"sun\"}, {\"date\": \"2013-02-09\", \"precipitation\": 0.3, \"temp_max\": 8.3, \"temp_min\": 4.4, \"wind\": 1.3, \"weather\": \"rain\"}, {\"date\": \"2013-02-10\", \"precipitation\": 0.0, \"temp_max\": 8.9, \"temp_min\": 1.7, \"wind\": 2.0, \"weather\": \"drizzle\"}, {\"date\": \"2013-02-11\", \"precipitation\": 0.3, \"temp_max\": 8.3, \"temp_min\": 4.4, \"wind\": 1.4, \"weather\": \"rain\"}, {\"date\": \"2013-02-12\", \"precipitation\": 1.0, \"temp_max\": 11.1, \"temp_min\": 7.2, \"wind\": 5.6, \"weather\": \"rain\"}, {\"date\": \"2013-02-13\", \"precipitation\": 2.3, \"temp_max\": 9.4, \"temp_min\": 7.2, \"wind\": 4.1, \"weather\": \"rain\"}, {\"date\": \"2013-02-14\", \"precipitation\": 1.0, \"temp_max\": 9.4, \"temp_min\": 5.6, \"wind\": 2.2, \"weather\": \"rain\"}, {\"date\": \"2013-02-15\", \"precipitation\": 0.0, \"temp_max\": 13.3, \"temp_min\": 5.0, \"wind\": 2.4, \"weather\": \"drizzle\"}, {\"date\": \"2013-02-16\", \"precipitation\": 0.0, \"temp_max\": 11.1, \"temp_min\": 3.9, \"wind\": 5.6, \"weather\": \"rain\"}, {\"date\": \"2013-02-17\", \"precipitation\": 0.0, \"temp_max\": 9.4, \"temp_min\": 4.4, \"wind\": 3.4, \"weather\": \"rain\"}, {\"date\": \"2013-02-18\", \"precipitation\": 0.0, \"temp_max\": 7.8, \"temp_min\": 3.9, \"wind\": 1.9, \"weather\": \"rain\"}, {\"date\": \"2013-02-19\", \"precipitation\": 0.0, \"temp_max\": 10.6, \"temp_min\": 1.7, \"wind\": 3.4, \"weather\": \"sun\"}, {\"date\": \"2013-02-20\", \"precipitation\": 1.5, \"temp_max\": 7.8, \"temp_min\": 1.1, \"wind\": 2.1, \"weather\": \"rain\"}, {\"date\": \"2013-02-21\", \"precipitation\": 0.5, \"temp_max\": 6.7, \"temp_min\": 3.9, \"wind\": 6.2, \"weather\": \"rain\"}, {\"date\": \"2013-02-22\", \"precipitation\": 9.4, \"temp_max\": 7.8, \"temp_min\": 3.9, \"wind\": 8.1, \"weather\": \"rain\"}, {\"date\": \"2013-02-23\", \"precipitation\": 0.3, \"temp_max\": 10.0, \"temp_min\": 3.9, \"wind\": 4.6, \"weather\": \"rain\"}, {\"date\": \"2013-02-24\", \"precipitation\": 0.0, \"temp_max\": 8.9, \"temp_min\": 5.0, \"wind\": 5.5, \"weather\": \"rain\"}, {\"date\": \"2013-02-25\", \"precipitation\": 2.3, \"temp_max\": 10.6, \"temp_min\": 3.3, \"wind\": 7.1, \"weather\": \"rain\"}, {\"date\": \"2013-02-26\", \"precipitation\": 0.5, \"temp_max\": 8.9, \"temp_min\": 3.9, \"wind\": 3.8, \"weather\": \"rain\"}, {\"date\": \"2013-02-27\", \"precipitation\": 4.6, \"temp_max\": 10.0, \"temp_min\": 4.4, \"wind\": 1.8, \"weather\": \"rain\"}, {\"date\": \"2013-02-28\", \"precipitation\": 8.1, \"temp_max\": 11.7, \"temp_min\": 6.7, \"wind\": 3.8, \"weather\": \"rain\"}, {\"date\": \"2013-03-01\", \"precipitation\": 4.1, \"temp_max\": 15.0, \"temp_min\": 11.1, \"wind\": 5.4, \"weather\": \"rain\"}, {\"date\": \"2013-03-02\", \"precipitation\": 0.8, \"temp_max\": 13.9, \"temp_min\": 5.0, \"wind\": 4.5, \"weather\": \"rain\"}, {\"date\": \"2013-03-03\", \"precipitation\": 0.0, \"temp_max\": 11.1, \"temp_min\": 2.2, \"wind\": 2.8, \"weather\": \"sun\"}, {\"date\": \"2013-03-04\", \"precipitation\": 0.0, \"temp_max\": 13.3, \"temp_min\": 0.0, \"wind\": 3.9, \"weather\": \"sun\"}, {\"date\": \"2013-03-05\", \"precipitation\": 0.0, \"temp_max\": 9.4, \"temp_min\": 6.1, \"wind\": 2.4, \"weather\": \"rain\"}, {\"date\": \"2013-03-06\", \"precipitation\": 11.9, \"temp_max\": 7.2, \"temp_min\": 5.0, \"wind\": 4.1, \"weather\": \"rain\"}, {\"date\": \"2013-03-07\", \"precipitation\": 7.4, \"temp_max\": 12.2, \"temp_min\": 5.0, \"wind\": 2.5, \"weather\": \"rain\"}, {\"date\": \"2013-03-08\", \"precipitation\": 0.0, \"temp_max\": 11.7, \"temp_min\": 2.2, \"wind\": 2.6, \"weather\": \"drizzle\"}, {\"date\": \"2013-03-09\", \"precipitation\": 0.0, \"temp_max\": 12.8, \"temp_min\": 1.1, \"wind\": 1.3, \"weather\": \"fog\"}, {\"date\": \"2013-03-10\", \"precipitation\": 0.8, \"temp_max\": 7.8, \"temp_min\": 3.9, \"wind\": 1.6, \"weather\": \"rain\"}, {\"date\": \"2013-03-11\", \"precipitation\": 1.3, \"temp_max\": 10.6, \"temp_min\": 6.1, \"wind\": 1.1, \"weather\": \"rain\"}, {\"date\": \"2013-03-12\", \"precipitation\": 2.0, \"temp_max\": 12.8, \"temp_min\": 10.0, \"wind\": 5.7, \"weather\": \"rain\"}, {\"date\": \"2013-03-13\", \"precipitation\": 2.3, \"temp_max\": 11.7, \"temp_min\": 9.4, \"wind\": 3.7, \"weather\": \"rain\"}, {\"date\": \"2013-03-14\", \"precipitation\": 2.8, \"temp_max\": 11.7, \"temp_min\": 9.4, \"wind\": 3.0, \"weather\": \"rain\"}, {\"date\": \"2013-03-15\", \"precipitation\": 0.0, \"temp_max\": 14.4, \"temp_min\": 8.9, \"wind\": 4.3, \"weather\": \"rain\"}, {\"date\": \"2013-03-16\", \"precipitation\": 4.3, \"temp_max\": 10.6, \"temp_min\": 4.4, \"wind\": 6.4, \"weather\": \"rain\"}, {\"date\": \"2013-03-17\", \"precipitation\": 0.0, \"temp_max\": 8.9, \"temp_min\": 3.9, \"wind\": 6.1, \"weather\": \"sun\"}, {\"date\": \"2013-03-18\", \"precipitation\": 0.0, \"temp_max\": 11.7, \"temp_min\": 3.9, \"wind\": 5.9, \"weather\": \"rain\"}, {\"date\": \"2013-03-19\", \"precipitation\": 11.7, \"temp_max\": 12.8, \"temp_min\": 1.7, \"wind\": 3.4, \"weather\": \"rain\"}, {\"date\": \"2013-03-20\", \"precipitation\": 9.9, \"temp_max\": 11.1, \"temp_min\": 4.4, \"wind\": 7.6, \"weather\": \"rain\"}, {\"date\": \"2013-03-21\", \"precipitation\": 8.1, \"temp_max\": 10.0, \"temp_min\": 2.2, \"wind\": 4.9, \"weather\": \"snow\"}, {\"date\": \"2013-03-22\", \"precipitation\": 0.0, \"temp_max\": 9.4, \"temp_min\": 0.6, \"wind\": 2.2, \"weather\": \"sun\"}, {\"date\": \"2013-03-23\", \"precipitation\": 0.0, \"temp_max\": 10.0, \"temp_min\": 1.1, \"wind\": 2.6, \"weather\": \"sun\"}, {\"date\": \"2013-03-24\", \"precipitation\": 0.0, \"temp_max\": 12.2, \"temp_min\": 0.6, \"wind\": 2.1, \"weather\": \"sun\"}, {\"date\": \"2013-03-25\", \"precipitation\": 0.0, \"temp_max\": 16.7, \"temp_min\": 4.4, \"wind\": 2.8, \"weather\": \"sun\"}, {\"date\": \"2013-03-26\", \"precipitation\": 0.0, \"temp_max\": 16.7, \"temp_min\": 6.1, \"wind\": 1.7, \"weather\": \"sun\"}, {\"date\": \"2013-03-27\", \"precipitation\": 0.3, \"temp_max\": 13.3, \"temp_min\": 7.2, \"wind\": 1.6, \"weather\": \"rain\"}, {\"date\": \"2013-03-28\", \"precipitation\": 2.0, \"temp_max\": 16.1, \"temp_min\": 8.3, \"wind\": 1.3, \"weather\": \"rain\"}, {\"date\": \"2013-03-29\", \"precipitation\": 0.0, \"temp_max\": 18.3, \"temp_min\": 7.8, \"wind\": 2.5, \"weather\": \"rain\"}, {\"date\": \"2013-03-30\", \"precipitation\": 0.0, \"temp_max\": 20.0, \"temp_min\": 5.6, \"wind\": 4.4, \"weather\": \"drizzle\"}, {\"date\": \"2013-03-31\", \"precipitation\": 0.0, \"temp_max\": 20.6, \"temp_min\": 6.7, \"wind\": 2.9, \"weather\": \"sun\"}, {\"date\": \"2013-04-01\", \"precipitation\": 0.0, \"temp_max\": 17.2, \"temp_min\": 8.3, \"wind\": 3.6, \"weather\": \"sun\"}, {\"date\": \"2013-04-02\", \"precipitation\": 0.0, \"temp_max\": 13.9, \"temp_min\": 8.9, \"wind\": 2.2, \"weather\": \"sun\"}, {\"date\": \"2013-04-03\", \"precipitation\": 0.0, \"temp_max\": 16.7, \"temp_min\": 7.8, \"wind\": 1.6, \"weather\": \"sun\"}, {\"date\": \"2013-04-04\", \"precipitation\": 8.4, \"temp_max\": 14.4, \"temp_min\": 10.0, \"wind\": 3.0, \"weather\": \"fog\"}, {\"date\": \"2013-04-05\", \"precipitation\": 18.5, \"temp_max\": 13.9, \"temp_min\": 10.0, \"wind\": 5.6, \"weather\": \"fog\"}, {\"date\": \"2013-04-06\", \"precipitation\": 12.7, \"temp_max\": 12.2, \"temp_min\": 7.2, \"wind\": 5.0, \"weather\": \"fog\"}, {\"date\": \"2013-04-07\", \"precipitation\": 39.1, \"temp_max\": 8.3, \"temp_min\": 5.0, \"wind\": 3.9, \"weather\": \"fog\"}, {\"date\": \"2013-04-08\", \"precipitation\": 0.8, \"temp_max\": 13.3, \"temp_min\": 6.1, \"wind\": 3.1, \"weather\": \"fog\"}, {\"date\": \"2013-04-09\", \"precipitation\": 0.0, \"temp_max\": 12.2, \"temp_min\": 6.1, \"wind\": 2.4, \"weather\": \"sun\"}, {\"date\": \"2013-04-10\", \"precipitation\": 9.4, \"temp_max\": 15.0, \"temp_min\": 8.9, \"wind\": 6.4, \"weather\": \"sun\"}, {\"date\": \"2013-04-11\", \"precipitation\": 1.5, \"temp_max\": 12.2, \"temp_min\": 6.7, \"wind\": 3.8, \"weather\": \"fog\"}, {\"date\": \"2013-04-12\", \"precipitation\": 9.7, \"temp_max\": 7.8, \"temp_min\": 4.4, \"wind\": 4.6, \"weather\": \"fog\"}, {\"date\": \"2013-04-13\", \"precipitation\": 9.4, \"temp_max\": 10.6, \"temp_min\": 3.3, \"wind\": 5.7, \"weather\": \"fog\"}, {\"date\": \"2013-04-14\", \"precipitation\": 5.8, \"temp_max\": 12.8, \"temp_min\": 4.4, \"wind\": 2.3, \"weather\": \"fog\"}, {\"date\": \"2013-04-15\", \"precipitation\": 0.0, \"temp_max\": 13.9, \"temp_min\": 4.4, \"wind\": 2.4, \"weather\": \"fog\"}, {\"date\": \"2013-04-16\", \"precipitation\": 0.3, \"temp_max\": 13.9, \"temp_min\": 3.3, \"wind\": 2.6, \"weather\": \"sun\"}, {\"date\": \"2013-04-17\", \"precipitation\": 0.0, \"temp_max\": 15.0, \"temp_min\": 3.9, \"wind\": 3.3, \"weather\": \"drizzle\"}, {\"date\": \"2013-04-18\", \"precipitation\": 5.3, \"temp_max\": 11.7, \"temp_min\": 6.7, \"wind\": 4.0, \"weather\": \"fog\"}, {\"date\": \"2013-04-19\", \"precipitation\": 20.6, \"temp_max\": 13.3, \"temp_min\": 9.4, \"wind\": 4.9, \"weather\": \"fog\"}, {\"date\": \"2013-04-20\", \"precipitation\": 0.0, \"temp_max\": 13.9, \"temp_min\": 8.3, \"wind\": 5.8, \"weather\": \"sun\"}, {\"date\": \"2013-04-21\", \"precipitation\": 3.3, \"temp_max\": 12.2, \"temp_min\": 6.7, \"wind\": 4.1, \"weather\": \"sun\"}, {\"date\": \"2013-04-22\", \"precipitation\": 0.0, \"temp_max\": 16.1, \"temp_min\": 5.0, \"wind\": 4.3, \"weather\": \"sun\"}, {\"date\": \"2013-04-23\", \"precipitation\": 0.0, \"temp_max\": 17.8, \"temp_min\": 3.9, \"wind\": 2.8, \"weather\": \"sun\"}, {\"date\": \"2013-04-24\", \"precipitation\": 0.0, \"temp_max\": 21.1, \"temp_min\": 6.1, \"wind\": 3.0, \"weather\": \"sun\"}, {\"date\": \"2013-04-25\", \"precipitation\": 0.0, \"temp_max\": 21.7, \"temp_min\": 6.7, \"wind\": 1.1, \"weather\": \"sun\"}, {\"date\": \"2013-04-26\", \"precipitation\": 0.0, \"temp_max\": 20.6, \"temp_min\": 8.3, \"wind\": 2.2, \"weather\": \"fog\"}, {\"date\": \"2013-04-27\", \"precipitation\": 0.0, \"temp_max\": 13.9, \"temp_min\": 10.6, \"wind\": 5.9, \"weather\": \"sun\"}, {\"date\": \"2013-04-28\", \"precipitation\": 1.0, \"temp_max\": 15.0, \"temp_min\": 9.4, \"wind\": 5.2, \"weather\": \"drizzle\"}, {\"date\": \"2013-04-29\", \"precipitation\": 3.8, \"temp_max\": 13.9, \"temp_min\": 6.7, \"wind\": 4.2, \"weather\": \"fog\"}, {\"date\": \"2013-04-30\", \"precipitation\": 0.0, \"temp_max\": 12.8, \"temp_min\": 4.4, \"wind\": 2.4, \"weather\": \"sun\"}, {\"date\": \"2013-05-01\", \"precipitation\": 0.0, \"temp_max\": 18.3, \"temp_min\": 3.3, \"wind\": 3.1, \"weather\": \"sun\"}, {\"date\": \"2013-05-02\", \"precipitation\": 0.0, \"temp_max\": 20.6, \"temp_min\": 6.7, \"wind\": 4.0, \"weather\": \"sun\"}, {\"date\": \"2013-05-03\", \"precipitation\": 0.0, \"temp_max\": 21.7, \"temp_min\": 9.4, \"wind\": 4.9, \"weather\": \"sun\"}, {\"date\": \"2013-05-04\", \"precipitation\": 0.0, \"temp_max\": 25.0, \"temp_min\": 11.1, \"wind\": 6.5, \"weather\": \"sun\"}, {\"date\": \"2013-05-05\", \"precipitation\": 0.0, \"temp_max\": 28.9, \"temp_min\": 11.7, \"wind\": 5.3, \"weather\": \"sun\"}, {\"date\": \"2013-05-06\", \"precipitation\": 0.0, \"temp_max\": 30.6, \"temp_min\": 12.2, \"wind\": 2.0, \"weather\": \"sun\"}, {\"date\": \"2013-05-07\", \"precipitation\": 0.0, \"temp_max\": 20.6, \"temp_min\": 11.1, \"wind\": 3.3, \"weather\": \"sun\"}, {\"date\": \"2013-05-08\", \"precipitation\": 0.0, \"temp_max\": 19.4, \"temp_min\": 11.1, \"wind\": 1.9, \"weather\": \"sun\"}, {\"date\": \"2013-05-09\", \"precipitation\": 0.0, \"temp_max\": 22.8, \"temp_min\": 10.0, \"wind\": 1.3, \"weather\": \"sun\"}, {\"date\": \"2013-05-10\", \"precipitation\": 0.0, \"temp_max\": 26.1, \"temp_min\": 9.4, \"wind\": 1.0, \"weather\": \"sun\"}, {\"date\": \"2013-05-11\", \"precipitation\": 0.0, \"temp_max\": 27.2, \"temp_min\": 12.2, \"wind\": 2.6, \"weather\": \"sun\"}, {\"date\": \"2013-05-12\", \"precipitation\": 6.6, \"temp_max\": 21.7, \"temp_min\": 13.9, \"wind\": 3.9, \"weather\": \"fog\"}, {\"date\": \"2013-05-13\", \"precipitation\": 3.3, \"temp_max\": 18.9, \"temp_min\": 9.4, \"wind\": 5.0, \"weather\": \"sun\"}, {\"date\": \"2013-05-14\", \"precipitation\": 0.0, \"temp_max\": 18.3, \"temp_min\": 7.8, \"wind\": 2.4, \"weather\": \"sun\"}, {\"date\": \"2013-05-15\", \"precipitation\": 1.0, \"temp_max\": 17.2, \"temp_min\": 8.9, \"wind\": 2.3, \"weather\": \"fog\"}, {\"date\": \"2013-05-16\", \"precipitation\": 0.0, \"temp_max\": 21.7, \"temp_min\": 12.2, \"wind\": 2.7, \"weather\": \"fog\"}, {\"date\": \"2013-05-17\", \"precipitation\": 0.5, \"temp_max\": 17.2, \"temp_min\": 11.7, \"wind\": 3.7, \"weather\": \"sun\"}, {\"date\": \"2013-05-18\", \"precipitation\": 0.0, \"temp_max\": 16.7, \"temp_min\": 11.1, \"wind\": 2.9, \"weather\": \"sun\"}, {\"date\": \"2013-05-19\", \"precipitation\": 0.0, \"temp_max\": 18.3, \"temp_min\": 10.6, \"wind\": 2.3, \"weather\": \"sun\"}, {\"date\": \"2013-05-20\", \"precipitation\": 0.0, \"temp_max\": 19.4, \"temp_min\": 9.4, \"wind\": 1.8, \"weather\": \"sun\"}, {\"date\": \"2013-05-21\", \"precipitation\": 13.7, \"temp_max\": 15.6, \"temp_min\": 8.3, \"wind\": 4.8, \"weather\": \"fog\"}, {\"date\": \"2013-05-22\", \"precipitation\": 13.7, \"temp_max\": 11.1, \"temp_min\": 7.2, \"wind\": 3.0, \"weather\": \"fog\"}, {\"date\": \"2013-05-23\", \"precipitation\": 4.1, \"temp_max\": 12.2, \"temp_min\": 6.7, \"wind\": 1.9, \"weather\": \"fog\"}, {\"date\": \"2013-05-24\", \"precipitation\": 0.3, \"temp_max\": 16.7, \"temp_min\": 8.9, \"wind\": 2.7, \"weather\": \"sun\"}, {\"date\": \"2013-05-25\", \"precipitation\": 0.0, \"temp_max\": 17.8, \"temp_min\": 10.0, \"wind\": 2.7, \"weather\": \"sun\"}, {\"date\": \"2013-05-26\", \"precipitation\": 1.5, \"temp_max\": 18.3, \"temp_min\": 10.6, \"wind\": 2.2, \"weather\": \"fog\"}, {\"date\": \"2013-05-27\", \"precipitation\": 9.7, \"temp_max\": 16.7, \"temp_min\": 11.1, \"wind\": 3.1, \"weather\": \"fog\"}, {\"date\": \"2013-05-28\", \"precipitation\": 0.5, \"temp_max\": 17.2, \"temp_min\": 11.7, \"wind\": 2.8, \"weather\": \"fog\"}, {\"date\": \"2013-05-29\", \"precipitation\": 5.6, \"temp_max\": 16.1, \"temp_min\": 9.4, \"wind\": 4.0, \"weather\": \"fog\"}, {\"date\": \"2013-05-30\", \"precipitation\": 0.0, \"temp_max\": 16.7, \"temp_min\": 9.4, \"wind\": 5.3, \"weather\": \"sun\"}, {\"date\": \"2013-05-31\", \"precipitation\": 0.0, \"temp_max\": 19.4, \"temp_min\": 11.1, \"wind\": 2.5, \"weather\": \"sun\"}, {\"date\": \"2013-06-01\", \"precipitation\": 0.0, \"temp_max\": 22.8, \"temp_min\": 12.2, \"wind\": 2.5, \"weather\": \"sun\"}, {\"date\": \"2013-06-02\", \"precipitation\": 1.0, \"temp_max\": 20.6, \"temp_min\": 12.2, \"wind\": 3.1, \"weather\": \"sun\"}, {\"date\": \"2013-06-03\", \"precipitation\": 0.0, \"temp_max\": 22.2, \"temp_min\": 11.1, \"wind\": 2.9, \"weather\": \"sun\"}, {\"date\": \"2013-06-04\", \"precipitation\": 0.0, \"temp_max\": 26.1, \"temp_min\": 12.2, \"wind\": 3.4, \"weather\": \"sun\"}, {\"date\": \"2013-06-05\", \"precipitation\": 0.0, \"temp_max\": 26.7, \"temp_min\": 14.4, \"wind\": 3.1, \"weather\": \"sun\"}, {\"date\": \"2013-06-06\", \"precipitation\": 0.0, \"temp_max\": 26.7, \"temp_min\": 12.2, \"wind\": 2.5, \"weather\": \"sun\"}, {\"date\": \"2013-06-07\", \"precipitation\": 0.0, \"temp_max\": 21.7, \"temp_min\": 13.3, \"wind\": 3.2, \"weather\": \"sun\"}, {\"date\": \"2013-06-08\", \"precipitation\": 0.0, \"temp_max\": 20.6, \"temp_min\": 12.8, \"wind\": 3.1, \"weather\": \"sun\"}, {\"date\": \"2013-06-09\", \"precipitation\": 0.0, \"temp_max\": 20.6, \"temp_min\": 11.1, \"wind\": 3.7, \"weather\": \"sun\"}, {\"date\": \"2013-06-10\", \"precipitation\": 0.0, \"temp_max\": 21.7, \"temp_min\": 11.7, \"wind\": 3.2, \"weather\": \"sun\"}, {\"date\": \"2013-06-11\", \"precipitation\": 0.0, \"temp_max\": 20.0, \"temp_min\": 10.0, \"wind\": 5.7, \"weather\": \"sun\"}, {\"date\": \"2013-06-12\", \"precipitation\": 0.3, \"temp_max\": 20.6, \"temp_min\": 11.7, \"wind\": 4.2, \"weather\": \"sun\"}, {\"date\": \"2013-06-13\", \"precipitation\": 0.0, \"temp_max\": 21.1, \"temp_min\": 11.7, \"wind\": 2.6, \"weather\": \"sun\"}, {\"date\": \"2013-06-14\", \"precipitation\": 0.0, \"temp_max\": 20.0, \"temp_min\": 12.2, \"wind\": 3.7, \"weather\": \"sun\"}, {\"date\": \"2013-06-15\", \"precipitation\": 0.0, \"temp_max\": 25.6, \"temp_min\": 10.0, \"wind\": 2.9, \"weather\": \"sun\"}, {\"date\": \"2013-06-16\", \"precipitation\": 0.0, \"temp_max\": 23.9, \"temp_min\": 12.8, \"wind\": 3.4, \"weather\": \"sun\"}, {\"date\": \"2013-06-17\", \"precipitation\": 0.0, \"temp_max\": 25.6, \"temp_min\": 13.9, \"wind\": 3.0, \"weather\": \"sun\"}, {\"date\": \"2013-06-18\", \"precipitation\": 0.3, \"temp_max\": 23.3, \"temp_min\": 13.3, \"wind\": 3.4, \"weather\": \"fog\"}, {\"date\": \"2013-06-19\", \"precipitation\": 0.0, \"temp_max\": 20.0, \"temp_min\": 12.8, \"wind\": 3.7, \"weather\": \"sun\"}, {\"date\": \"2013-06-20\", \"precipitation\": 3.0, \"temp_max\": 17.2, \"temp_min\": 12.8, \"wind\": 5.0, \"weather\": \"sun\"}, {\"date\": \"2013-06-21\", \"precipitation\": 0.3, \"temp_max\": 20.6, \"temp_min\": 12.2, \"wind\": 1.5, \"weather\": \"sun\"}, {\"date\": \"2013-06-22\", \"precipitation\": 0.0, \"temp_max\": 25.6, \"temp_min\": 11.7, \"wind\": 1.7, \"weather\": \"sun\"}, {\"date\": \"2013-06-23\", \"precipitation\": 7.9, \"temp_max\": 22.2, \"temp_min\": 15.0, \"wind\": 2.1, \"weather\": \"fog\"}, {\"date\": \"2013-06-24\", \"precipitation\": 4.8, \"temp_max\": 21.1, \"temp_min\": 13.9, \"wind\": 3.7, \"weather\": \"fog\"}, {\"date\": \"2013-06-25\", \"precipitation\": 9.9, \"temp_max\": 23.3, \"temp_min\": 14.4, \"wind\": 2.8, \"weather\": \"sun\"}, {\"date\": \"2013-06-26\", \"precipitation\": 2.0, \"temp_max\": 22.2, \"temp_min\": 15.0, \"wind\": 2.3, \"weather\": \"fog\"}, {\"date\": \"2013-06-27\", \"precipitation\": 3.6, \"temp_max\": 21.1, \"temp_min\": 16.7, \"wind\": 1.3, \"weather\": \"fog\"}, {\"date\": \"2013-06-28\", \"precipitation\": 0.0, \"temp_max\": 30.6, \"temp_min\": 16.1, \"wind\": 2.2, \"weather\": \"sun\"}, {\"date\": \"2013-06-29\", \"precipitation\": 0.0, \"temp_max\": 30.0, \"temp_min\": 18.3, \"wind\": 1.7, \"weather\": \"sun\"}, {\"date\": \"2013-06-30\", \"precipitation\": 0.0, \"temp_max\": 33.9, \"temp_min\": 17.2, \"wind\": 2.5, \"weather\": \"sun\"}, {\"date\": \"2013-07-01\", \"precipitation\": 0.0, \"temp_max\": 31.7, \"temp_min\": 18.3, \"wind\": 2.3, \"weather\": \"sun\"}, {\"date\": \"2013-07-02\", \"precipitation\": 0.0, \"temp_max\": 28.3, \"temp_min\": 15.6, \"wind\": 3.0, \"weather\": \"sun\"}, {\"date\": \"2013-07-03\", \"precipitation\": 0.0, \"temp_max\": 26.1, \"temp_min\": 16.7, \"wind\": 3.2, \"weather\": \"sun\"}, {\"date\": \"2013-07-04\", \"precipitation\": 0.0, \"temp_max\": 21.7, \"temp_min\": 13.9, \"wind\": 2.2, \"weather\": \"fog\"}, {\"date\": \"2013-07-05\", \"precipitation\": 0.0, \"temp_max\": 23.3, \"temp_min\": 13.9, \"wind\": 2.6, \"weather\": \"sun\"}, {\"date\": \"2013-07-06\", \"precipitation\": 0.0, \"temp_max\": 26.1, \"temp_min\": 13.3, \"wind\": 2.2, \"weather\": \"sun\"}, {\"date\": \"2013-07-07\", \"precipitation\": 0.0, \"temp_max\": 23.9, \"temp_min\": 13.9, \"wind\": 2.9, \"weather\": \"sun\"}, {\"date\": \"2013-07-08\", \"precipitation\": 0.0, \"temp_max\": 26.7, \"temp_min\": 13.3, \"wind\": 2.8, \"weather\": \"sun\"}, {\"date\": \"2013-07-09\", \"precipitation\": 0.0, \"temp_max\": 30.0, \"temp_min\": 15.0, \"wind\": 2.5, \"weather\": \"sun\"}, {\"date\": \"2013-07-10\", \"precipitation\": 0.0, \"temp_max\": 22.2, \"temp_min\": 13.9, \"wind\": 2.6, \"weather\": \"sun\"}, {\"date\": \"2013-07-11\", \"precipitation\": 0.0, \"temp_max\": 22.8, \"temp_min\": 12.2, \"wind\": 3.0, \"weather\": \"sun\"}, {\"date\": \"2013-07-12\", \"precipitation\": 0.0, \"temp_max\": 19.4, \"temp_min\": 13.3, \"wind\": 2.2, \"weather\": \"sun\"}, {\"date\": \"2013-07-13\", \"precipitation\": 0.0, \"temp_max\": 26.1, \"temp_min\": 11.1, \"wind\": 3.1, \"weather\": \"sun\"}, {\"date\": \"2013-07-14\", \"precipitation\": 0.0, \"temp_max\": 27.8, \"temp_min\": 12.8, \"wind\": 3.0, \"weather\": \"sun\"}, {\"date\": \"2013-07-15\", \"precipitation\": 0.0, \"temp_max\": 27.8, \"temp_min\": 14.4, \"wind\": 4.6, \"weather\": \"sun\"}, {\"date\": \"2013-07-16\", \"precipitation\": 0.0, \"temp_max\": 31.1, \"temp_min\": 18.3, \"wind\": 4.1, \"weather\": \"sun\"}, {\"date\": \"2013-07-17\", \"precipitation\": 0.0, \"temp_max\": 22.2, \"temp_min\": 15.0, \"wind\": 3.7, \"weather\": \"rain\"}, {\"date\": \"2013-07-18\", \"precipitation\": 0.0, \"temp_max\": 26.1, \"temp_min\": 13.9, \"wind\": 2.0, \"weather\": \"sun\"}, {\"date\": \"2013-07-19\", \"precipitation\": 0.0, \"temp_max\": 27.8, \"temp_min\": 13.3, \"wind\": 1.9, \"weather\": \"sun\"}, {\"date\": \"2013-07-20\", \"precipitation\": 0.0, \"temp_max\": 25.0, \"temp_min\": 13.3, \"wind\": 2.0, \"weather\": \"sun\"}, {\"date\": \"2013-07-21\", \"precipitation\": 0.0, \"temp_max\": 23.9, \"temp_min\": 12.8, \"wind\": 2.3, \"weather\": \"sun\"}, {\"date\": \"2013-07-22\", \"precipitation\": 0.0, \"temp_max\": 26.1, \"temp_min\": 13.3, \"wind\": 2.4, \"weather\": \"fog\"}, {\"date\": \"2013-07-23\", \"precipitation\": 0.0, \"temp_max\": 31.1, \"temp_min\": 13.9, \"wind\": 3.0, \"weather\": \"sun\"}, {\"date\": \"2013-07-24\", \"precipitation\": 0.0, \"temp_max\": 31.1, \"temp_min\": 14.4, \"wind\": 2.5, \"weather\": \"sun\"}, {\"date\": \"2013-07-25\", \"precipitation\": 0.0, \"temp_max\": 31.1, \"temp_min\": 12.8, \"wind\": 2.3, \"weather\": \"sun\"}, {\"date\": \"2013-07-26\", \"precipitation\": 0.0, \"temp_max\": 31.1, \"temp_min\": 14.4, \"wind\": 2.9, \"weather\": \"sun\"}, {\"date\": \"2013-07-27\", \"precipitation\": 0.0, \"temp_max\": 25.6, \"temp_min\": 12.8, \"wind\": 2.6, \"weather\": \"sun\"}, {\"date\": \"2013-07-28\", \"precipitation\": 0.0, \"temp_max\": 21.1, \"temp_min\": 12.2, \"wind\": 3.4, \"weather\": \"fog\"}, {\"date\": \"2013-07-29\", \"precipitation\": 0.0, \"temp_max\": 25.0, \"temp_min\": 13.3, \"wind\": 1.4, \"weather\": \"sun\"}, {\"date\": \"2013-07-30\", \"precipitation\": 0.0, \"temp_max\": 25.0, \"temp_min\": 13.3, \"wind\": 2.8, \"weather\": \"sun\"}, {\"date\": \"2013-07-31\", \"precipitation\": 0.0, \"temp_max\": 21.7, \"temp_min\": 13.3, \"wind\": 1.8, \"weather\": \"sun\"}, {\"date\": \"2013-08-01\", \"precipitation\": 0.0, \"temp_max\": 20.6, \"temp_min\": 13.3, \"wind\": 3.9, \"weather\": \"sun\"}, {\"date\": \"2013-08-02\", \"precipitation\": 2.0, \"temp_max\": 17.2, \"temp_min\": 15.0, \"wind\": 2.0, \"weather\": \"sun\"}, {\"date\": \"2013-08-03\", \"precipitation\": 0.0, \"temp_max\": 25.0, \"temp_min\": 15.6, \"wind\": 2.4, \"weather\": \"fog\"}, {\"date\": \"2013-08-04\", \"precipitation\": 0.0, \"temp_max\": 28.9, \"temp_min\": 15.0, \"wind\": 3.4, \"weather\": \"sun\"}, {\"date\": \"2013-08-05\", \"precipitation\": 0.0, \"temp_max\": 30.0, \"temp_min\": 15.0, \"wind\": 2.1, \"weather\": \"sun\"}, {\"date\": \"2013-08-06\", \"precipitation\": 0.0, \"temp_max\": 30.6, \"temp_min\": 13.9, \"wind\": 1.4, \"weather\": \"sun\"}, {\"date\": \"2013-08-07\", \"precipitation\": 0.0, \"temp_max\": 31.1, \"temp_min\": 13.9, \"wind\": 1.9, \"weather\": \"sun\"}, {\"date\": \"2013-08-08\", \"precipitation\": 0.0, \"temp_max\": 28.3, \"temp_min\": 14.4, \"wind\": 2.5, \"weather\": \"sun\"}, {\"date\": \"2013-08-09\", \"precipitation\": 0.0, \"temp_max\": 28.3, \"temp_min\": 14.4, \"wind\": 2.1, \"weather\": \"rain\"}, {\"date\": \"2013-08-10\", \"precipitation\": 2.3, \"temp_max\": 25.6, \"temp_min\": 15.0, \"wind\": 2.9, \"weather\": \"sun\"}, {\"date\": \"2013-08-11\", \"precipitation\": 0.0, \"temp_max\": 25.0, \"temp_min\": 14.4, \"wind\": 2.9, \"weather\": \"sun\"}, {\"date\": \"2013-08-12\", \"precipitation\": 0.0, \"temp_max\": 25.6, \"temp_min\": 16.1, \"wind\": 1.9, \"weather\": \"sun\"}, {\"date\": \"2013-08-13\", \"precipitation\": 0.0, \"temp_max\": 27.8, \"temp_min\": 15.0, \"wind\": 1.8, \"weather\": \"sun\"}, {\"date\": \"2013-08-14\", \"precipitation\": 0.8, \"temp_max\": 27.2, \"temp_min\": 15.0, \"wind\": 2.0, \"weather\": \"sun\"}, {\"date\": \"2013-08-15\", \"precipitation\": 1.8, \"temp_max\": 21.1, \"temp_min\": 17.2, \"wind\": 1.0, \"weather\": \"sun\"}, {\"date\": \"2013-08-16\", \"precipitation\": 0.0, \"temp_max\": 28.9, \"temp_min\": 16.1, \"wind\": 2.2, \"weather\": \"fog\"}, {\"date\": \"2013-08-17\", \"precipitation\": 0.0, \"temp_max\": 25.6, \"temp_min\": 17.2, \"wind\": 3.0, \"weather\": \"sun\"}, {\"date\": \"2013-08-18\", \"precipitation\": 0.0, \"temp_max\": 26.1, \"temp_min\": 15.6, \"wind\": 3.1, \"weather\": \"sun\"}, {\"date\": \"2013-08-19\", \"precipitation\": 0.0, \"temp_max\": 26.7, \"temp_min\": 15.6, \"wind\": 3.0, \"weather\": \"sun\"}, {\"date\": \"2013-08-20\", \"precipitation\": 0.0, \"temp_max\": 25.6, \"temp_min\": 16.1, \"wind\": 4.6, \"weather\": \"sun\"}, {\"date\": \"2013-08-21\", \"precipitation\": 0.0, \"temp_max\": 27.8, \"temp_min\": 15.0, \"wind\": 4.3, \"weather\": \"sun\"}, {\"date\": \"2013-08-22\", \"precipitation\": 0.0, \"temp_max\": 28.9, \"temp_min\": 15.0, \"wind\": 1.9, \"weather\": \"sun\"}, {\"date\": \"2013-08-23\", \"precipitation\": 0.0, \"temp_max\": 25.0, \"temp_min\": 16.1, \"wind\": 4.1, \"weather\": \"sun\"}, {\"date\": \"2013-08-24\", \"precipitation\": 0.0, \"temp_max\": 25.0, \"temp_min\": 16.7, \"wind\": 2.7, \"weather\": \"sun\"}, {\"date\": \"2013-08-25\", \"precipitation\": 0.3, \"temp_max\": 22.2, \"temp_min\": 16.1, \"wind\": 2.6, \"weather\": \"sun\"}, {\"date\": \"2013-08-26\", \"precipitation\": 1.0, \"temp_max\": 24.4, \"temp_min\": 16.1, \"wind\": 1.9, \"weather\": \"sun\"}, {\"date\": \"2013-08-27\", \"precipitation\": 1.3, \"temp_max\": 26.7, \"temp_min\": 17.2, \"wind\": 1.4, \"weather\": \"sun\"}, {\"date\": \"2013-08-28\", \"precipitation\": 5.6, \"temp_max\": 26.7, \"temp_min\": 15.6, \"wind\": 1.3, \"weather\": \"fog\"}, {\"date\": \"2013-08-29\", \"precipitation\": 19.3, \"temp_max\": 23.9, \"temp_min\": 18.3, \"wind\": 3.0, \"weather\": \"sun\"}, {\"date\": \"2013-08-30\", \"precipitation\": 0.0, \"temp_max\": 26.1, \"temp_min\": 16.1, \"wind\": 2.9, \"weather\": \"sun\"}, {\"date\": \"2013-08-31\", \"precipitation\": 0.0, \"temp_max\": 27.8, \"temp_min\": 13.9, \"wind\": 2.6, \"weather\": \"sun\"}, {\"date\": \"2013-09-01\", \"precipitation\": 0.0, \"temp_max\": 27.8, \"temp_min\": 15.6, \"wind\": 2.5, \"weather\": \"sun\"}, {\"date\": \"2013-09-02\", \"precipitation\": 0.0, \"temp_max\": 27.8, \"temp_min\": 17.2, \"wind\": 2.1, \"weather\": \"sun\"}, {\"date\": \"2013-09-03\", \"precipitation\": 2.3, \"temp_max\": 25.0, \"temp_min\": 16.7, \"wind\": 1.7, \"weather\": \"fog\"}, {\"date\": \"2013-09-04\", \"precipitation\": 0.3, \"temp_max\": 22.8, \"temp_min\": 16.1, \"wind\": 2.4, \"weather\": \"fog\"}, {\"date\": \"2013-09-05\", \"precipitation\": 27.7, \"temp_max\": 20.0, \"temp_min\": 15.6, \"wind\": 2.5, \"weather\": \"sun\"}, {\"date\": \"2013-09-06\", \"precipitation\": 21.3, \"temp_max\": 21.7, \"temp_min\": 16.1, \"wind\": 2.6, \"weather\": \"fog\"}, {\"date\": \"2013-09-07\", \"precipitation\": 0.0, \"temp_max\": 23.3, \"temp_min\": 17.2, \"wind\": 2.0, \"weather\": \"sun\"}, {\"date\": \"2013-09-08\", \"precipitation\": 0.0, \"temp_max\": 26.7, \"temp_min\": 14.4, \"wind\": 1.5, \"weather\": \"fog\"}, {\"date\": \"2013-09-09\", \"precipitation\": 0.0, \"temp_max\": 26.1, \"temp_min\": 13.9, \"wind\": 2.1, \"weather\": \"sun\"}, {\"date\": \"2013-09-10\", \"precipitation\": 0.0, \"temp_max\": 26.7, \"temp_min\": 15.0, \"wind\": 3.7, \"weather\": \"sun\"}, {\"date\": \"2013-09-11\", \"precipitation\": 0.0, \"temp_max\": 33.9, \"temp_min\": 16.1, \"wind\": 2.4, \"weather\": \"sun\"}, {\"date\": \"2013-09-12\", \"precipitation\": 0.0, \"temp_max\": 25.6, \"temp_min\": 15.0, \"wind\": 1.7, \"weather\": \"sun\"}, {\"date\": \"2013-09-13\", \"precipitation\": 0.0, \"temp_max\": 18.9, \"temp_min\": 15.6, \"wind\": 2.0, \"weather\": \"sun\"}, {\"date\": \"2013-09-14\", \"precipitation\": 0.0, \"temp_max\": 21.7, \"temp_min\": 15.6, \"wind\": 1.4, \"weather\": \"fog\"}, {\"date\": \"2013-09-15\", \"precipitation\": 3.3, \"temp_max\": 18.9, \"temp_min\": 14.4, \"wind\": 2.2, \"weather\": \"sun\"}, {\"date\": \"2013-09-16\", \"precipitation\": 0.3, \"temp_max\": 21.7, \"temp_min\": 15.0, \"wind\": 4.3, \"weather\": \"fog\"}, {\"date\": \"2013-09-17\", \"precipitation\": 0.0, \"temp_max\": 17.8, \"temp_min\": 13.9, \"wind\": 2.3, \"weather\": \"sun\"}, {\"date\": \"2013-09-18\", \"precipitation\": 0.0, \"temp_max\": 21.1, \"temp_min\": 13.3, \"wind\": 2.5, \"weather\": \"sun\"}, {\"date\": \"2013-09-19\", \"precipitation\": 0.0, \"temp_max\": 25.6, \"temp_min\": 10.0, \"wind\": 1.5, \"weather\": \"sun\"}, {\"date\": \"2013-09-20\", \"precipitation\": 3.6, \"temp_max\": 23.3, \"temp_min\": 13.3, \"wind\": 3.0, \"weather\": \"fog\"}, {\"date\": \"2013-09-21\", \"precipitation\": 0.0, \"temp_max\": 21.1, \"temp_min\": 13.3, \"wind\": 2.5, \"weather\": \"sun\"}, {\"date\": \"2013-09-22\", \"precipitation\": 13.5, \"temp_max\": 17.2, \"temp_min\": 13.3, \"wind\": 5.5, \"weather\": \"fog\"}, {\"date\": \"2013-09-23\", \"precipitation\": 2.8, \"temp_max\": 16.1, \"temp_min\": 11.1, \"wind\": 4.5, \"weather\": \"fog\"}, {\"date\": \"2013-09-24\", \"precipitation\": 0.0, \"temp_max\": 17.8, \"temp_min\": 10.0, \"wind\": 2.6, \"weather\": \"sun\"}, {\"date\": \"2013-09-25\", \"precipitation\": 2.0, \"temp_max\": 16.1, \"temp_min\": 9.4, \"wind\": 3.0, \"weather\": \"fog\"}, {\"date\": \"2013-09-26\", \"precipitation\": 0.0, \"temp_max\": 17.2, \"temp_min\": 7.2, \"wind\": 2.2, \"weather\": \"sun\"}, {\"date\": \"2013-09-27\", \"precipitation\": 1.0, \"temp_max\": 13.9, \"temp_min\": 10.6, \"wind\": 4.3, \"weather\": \"fog\"}, {\"date\": \"2013-09-28\", \"precipitation\": 43.4, \"temp_max\": 16.7, \"temp_min\": 11.7, \"wind\": 6.0, \"weather\": \"fog\"}, {\"date\": \"2013-09-29\", \"precipitation\": 16.8, \"temp_max\": 14.4, \"temp_min\": 11.1, \"wind\": 7.1, \"weather\": \"sun\"}, {\"date\": \"2013-09-30\", \"precipitation\": 18.5, \"temp_max\": 13.9, \"temp_min\": 10.0, \"wind\": 6.3, \"weather\": \"fog\"}, {\"date\": \"2013-10-01\", \"precipitation\": 7.9, \"temp_max\": 14.4, \"temp_min\": 8.9, \"wind\": 4.7, \"weather\": \"fog\"}, {\"date\": \"2013-10-02\", \"precipitation\": 5.3, \"temp_max\": 12.8, \"temp_min\": 9.4, \"wind\": 2.4, \"weather\": \"fog\"}, {\"date\": \"2013-10-03\", \"precipitation\": 0.8, \"temp_max\": 14.4, \"temp_min\": 8.9, \"wind\": 0.9, \"weather\": \"fog\"}, {\"date\": \"2013-10-04\", \"precipitation\": 0.0, \"temp_max\": 17.8, \"temp_min\": 5.6, \"wind\": 1.1, \"weather\": \"sun\"}, {\"date\": \"2013-10-05\", \"precipitation\": 0.0, \"temp_max\": 20.0, \"temp_min\": 8.3, \"wind\": 1.6, \"weather\": \"sun\"}, {\"date\": \"2013-10-06\", \"precipitation\": 4.1, \"temp_max\": 22.8, \"temp_min\": 7.8, \"wind\": 2.6, \"weather\": \"fog\"}, {\"date\": \"2013-10-07\", \"precipitation\": 0.5, \"temp_max\": 16.1, \"temp_min\": 11.7, \"wind\": 6.3, \"weather\": \"fog\"}, {\"date\": \"2013-10-08\", \"precipitation\": 6.9, \"temp_max\": 13.9, \"temp_min\": 7.8, \"wind\": 3.0, \"weather\": \"rain\"}, {\"date\": \"2013-10-09\", \"precipitation\": 0.0, \"temp_max\": 15.0, \"temp_min\": 5.6, \"wind\": 1.6, \"weather\": \"sun\"}, {\"date\": \"2013-10-10\", \"precipitation\": 1.0, \"temp_max\": 14.4, \"temp_min\": 8.3, \"wind\": 1.7, \"weather\": \"fog\"}, {\"date\": \"2013-10-11\", \"precipitation\": 9.1, \"temp_max\": 13.9, \"temp_min\": 10.6, \"wind\": 1.0, \"weather\": \"sun\"}, {\"date\": \"2013-10-12\", \"precipitation\": 1.0, \"temp_max\": 14.4, \"temp_min\": 8.9, \"wind\": 2.2, \"weather\": \"fog\"}, {\"date\": \"2013-10-13\", \"precipitation\": 0.0, \"temp_max\": 15.0, \"temp_min\": 6.7, \"wind\": 1.8, \"weather\": \"fog\"}, {\"date\": \"2013-10-14\", \"precipitation\": 0.0, \"temp_max\": 15.6, \"temp_min\": 3.9, \"wind\": 1.6, \"weather\": \"sun\"}, {\"date\": \"2013-10-15\", \"precipitation\": 0.0, \"temp_max\": 15.6, \"temp_min\": 5.0, \"wind\": 0.9, \"weather\": \"sun\"}, {\"date\": \"2013-10-16\", \"precipitation\": 0.0, \"temp_max\": 12.8, \"temp_min\": 8.9, \"wind\": 2.7, \"weather\": \"fog\"}, {\"date\": \"2013-10-17\", \"precipitation\": 0.0, \"temp_max\": 14.4, \"temp_min\": 8.9, \"wind\": 1.7, \"weather\": \"fog\"}, {\"date\": \"2013-10-18\", \"precipitation\": 0.0, \"temp_max\": 12.8, \"temp_min\": 7.2, \"wind\": 1.2, \"weather\": \"sun\"}, {\"date\": \"2013-10-19\", \"precipitation\": 0.0, \"temp_max\": 10.6, \"temp_min\": 7.8, \"wind\": 1.4, \"weather\": \"sun\"}, {\"date\": \"2013-10-20\", \"precipitation\": 0.0, \"temp_max\": 10.6, \"temp_min\": 7.8, \"wind\": 2.4, \"weather\": \"sun\"}, {\"date\": \"2013-10-21\", \"precipitation\": 0.0, \"temp_max\": 11.7, \"temp_min\": 8.3, \"wind\": 2.5, \"weather\": \"sun\"}, {\"date\": \"2013-10-22\", \"precipitation\": 0.0, \"temp_max\": 14.4, \"temp_min\": 7.2, \"wind\": 1.9, \"weather\": \"sun\"}, {\"date\": \"2013-10-23\", \"precipitation\": 0.0, \"temp_max\": 12.8, \"temp_min\": 6.1, \"wind\": 0.4, \"weather\": \"sun\"}, {\"date\": \"2013-10-24\", \"precipitation\": 0.0, \"temp_max\": 10.0, \"temp_min\": 6.1, \"wind\": 0.6, \"weather\": \"sun\"}, {\"date\": \"2013-10-25\", \"precipitation\": 0.0, \"temp_max\": 12.2, \"temp_min\": 7.8, \"wind\": 1.8, \"weather\": \"sun\"}, {\"date\": \"2013-10-26\", \"precipitation\": 0.0, \"temp_max\": 11.7, \"temp_min\": 8.3, \"wind\": 2.7, \"weather\": \"sun\"}, {\"date\": \"2013-10-27\", \"precipitation\": 1.8, \"temp_max\": 13.9, \"temp_min\": 8.3, \"wind\": 4.4, \"weather\": \"fog\"}, {\"date\": \"2013-10-28\", \"precipitation\": 0.0, \"temp_max\": 14.4, \"temp_min\": 7.2, \"wind\": 5.1, \"weather\": \"sun\"}, {\"date\": \"2013-10-29\", \"precipitation\": 0.0, \"temp_max\": 13.3, \"temp_min\": 3.3, \"wind\": 2.2, \"weather\": \"sun\"}, {\"date\": \"2013-10-30\", \"precipitation\": 0.5, \"temp_max\": 15.0, \"temp_min\": 5.6, \"wind\": 3.9, \"weather\": \"sun\"}, {\"date\": \"2013-10-31\", \"precipitation\": 0.3, \"temp_max\": 14.4, \"temp_min\": 10.6, \"wind\": 2.2, \"weather\": \"fog\"}, {\"date\": \"2013-11-01\", \"precipitation\": 1.3, \"temp_max\": 17.8, \"temp_min\": 11.7, \"wind\": 1.4, \"weather\": \"sun\"}, {\"date\": \"2013-11-02\", \"precipitation\": 12.7, \"temp_max\": 14.4, \"temp_min\": 8.3, \"wind\": 7.9, \"weather\": \"fog\"}, {\"date\": \"2013-11-03\", \"precipitation\": 0.5, \"temp_max\": 12.2, \"temp_min\": 4.4, \"wind\": 2.4, \"weather\": \"sun\"}, {\"date\": \"2013-11-04\", \"precipitation\": 0.0, \"temp_max\": 10.6, \"temp_min\": 3.9, \"wind\": 1.6, \"weather\": \"drizzle\"}, {\"date\": \"2013-11-05\", \"precipitation\": 2.5, \"temp_max\": 13.3, \"temp_min\": 7.2, \"wind\": 3.1, \"weather\": \"fog\"}, {\"date\": \"2013-11-06\", \"precipitation\": 3.8, \"temp_max\": 12.8, \"temp_min\": 7.8, \"wind\": 1.7, \"weather\": \"sun\"}, {\"date\": \"2013-11-07\", \"precipitation\": 30.0, \"temp_max\": 11.1, \"temp_min\": 10.0, \"wind\": 7.2, \"weather\": \"fog\"}, {\"date\": \"2013-11-08\", \"precipitation\": 0.0, \"temp_max\": 13.3, \"temp_min\": 7.2, \"wind\": 4.1, \"weather\": \"sun\"}, {\"date\": \"2013-11-09\", \"precipitation\": 1.8, \"temp_max\": 11.1, \"temp_min\": 5.0, \"wind\": 1.4, \"weather\": \"sun\"}, {\"date\": \"2013-11-10\", \"precipitation\": 0.0, \"temp_max\": 11.1, \"temp_min\": 8.3, \"wind\": 4.4, \"weather\": \"sun\"}, {\"date\": \"2013-11-11\", \"precipitation\": 0.0, \"temp_max\": 16.1, \"temp_min\": 6.1, \"wind\": 2.6, \"weather\": \"fog\"}, {\"date\": \"2013-11-12\", \"precipitation\": 4.1, \"temp_max\": 15.6, \"temp_min\": 8.9, \"wind\": 2.2, \"weather\": \"fog\"}, {\"date\": \"2013-11-13\", \"precipitation\": 0.0, \"temp_max\": 13.9, \"temp_min\": 10.6, \"wind\": 3.8, \"weather\": \"sun\"}, {\"date\": \"2013-11-14\", \"precipitation\": 1.3, \"temp_max\": 11.1, \"temp_min\": 6.1, \"wind\": 1.1, \"weather\": \"fog\"}, {\"date\": \"2013-11-15\", \"precipitation\": 3.0, \"temp_max\": 10.6, \"temp_min\": 7.2, \"wind\": 6.0, \"weather\": \"sun\"}, {\"date\": \"2013-11-16\", \"precipitation\": 0.0, \"temp_max\": 10.0, \"temp_min\": 5.0, \"wind\": 4.6, \"weather\": \"sun\"}, {\"date\": \"2013-11-17\", \"precipitation\": 5.3, \"temp_max\": 11.7, \"temp_min\": 7.2, \"wind\": 5.4, \"weather\": \"fog\"}, {\"date\": \"2013-11-18\", \"precipitation\": 26.2, \"temp_max\": 12.8, \"temp_min\": 9.4, \"wind\": 3.9, \"weather\": \"fog\"}, {\"date\": \"2013-11-19\", \"precipitation\": 1.0, \"temp_max\": 13.3, \"temp_min\": 4.4, \"wind\": 5.1, \"weather\": \"fog\"}, {\"date\": \"2013-11-20\", \"precipitation\": 0.0, \"temp_max\": 7.8, \"temp_min\": 1.7, \"wind\": 4.3, \"weather\": \"sun\"}, {\"date\": \"2013-11-21\", \"precipitation\": 0.0, \"temp_max\": 7.8, \"temp_min\": -0.5, \"wind\": 3.6, \"weather\": \"sun\"}, {\"date\": \"2013-11-22\", \"precipitation\": 0.0, \"temp_max\": 9.4, \"temp_min\": 0.0, \"wind\": 4.6, \"weather\": \"sun\"}, {\"date\": \"2013-11-23\", \"precipitation\": 0.0, \"temp_max\": 11.1, \"temp_min\": 1.1, \"wind\": 2.6, \"weather\": \"sun\"}, {\"date\": \"2013-11-24\", \"precipitation\": 0.0, \"temp_max\": 11.7, \"temp_min\": 0.6, \"wind\": 0.9, \"weather\": \"fog\"}, {\"date\": \"2013-11-25\", \"precipitation\": 0.0, \"temp_max\": 12.2, \"temp_min\": 2.2, \"wind\": 0.5, \"weather\": \"sun\"}, {\"date\": \"2013-11-26\", \"precipitation\": 0.0, \"temp_max\": 12.2, \"temp_min\": 2.8, \"wind\": 1.0, \"weather\": \"sun\"}, {\"date\": \"2013-11-27\", \"precipitation\": 0.0, \"temp_max\": 14.4, \"temp_min\": 5.6, \"wind\": 1.3, \"weather\": \"sun\"}, {\"date\": \"2013-11-28\", \"precipitation\": 0.0, \"temp_max\": 11.7, \"temp_min\": 3.3, \"wind\": 0.7, \"weather\": \"sun\"}, {\"date\": \"2013-11-29\", \"precipitation\": 0.5, \"temp_max\": 9.4, \"temp_min\": 5.0, \"wind\": 2.1, \"weather\": \"fog\"}, {\"date\": \"2013-11-30\", \"precipitation\": 2.3, \"temp_max\": 11.1, \"temp_min\": 7.2, \"wind\": 3.9, \"weather\": \"fog\"}, {\"date\": \"2013-12-01\", \"precipitation\": 3.0, \"temp_max\": 13.3, \"temp_min\": 7.8, \"wind\": 8.8, \"weather\": \"fog\"}, {\"date\": \"2013-12-02\", \"precipitation\": 4.6, \"temp_max\": 7.8, \"temp_min\": 1.7, \"wind\": 3.5, \"weather\": \"sun\"}, {\"date\": \"2013-12-03\", \"precipitation\": 0.0, \"temp_max\": 5.0, \"temp_min\": -0.5, \"wind\": 5.6, \"weather\": \"sun\"}, {\"date\": \"2013-12-04\", \"precipitation\": 0.0, \"temp_max\": 4.4, \"temp_min\": -2.1, \"wind\": 1.6, \"weather\": \"sun\"}, {\"date\": \"2013-12-05\", \"precipitation\": 0.0, \"temp_max\": 1.1, \"temp_min\": -4.9, \"wind\": 2.6, \"weather\": \"sun\"}, {\"date\": \"2013-12-06\", \"precipitation\": 0.0, \"temp_max\": 1.1, \"temp_min\": -4.3, \"wind\": 4.7, \"weather\": \"sun\"}, {\"date\": \"2013-12-07\", \"precipitation\": 0.0, \"temp_max\": 0.0, \"temp_min\": -7.1, \"wind\": 3.1, \"weather\": \"sun\"}, {\"date\": \"2013-12-08\", \"precipitation\": 0.0, \"temp_max\": 2.2, \"temp_min\": -6.6, \"wind\": 2.2, \"weather\": \"sun\"}, {\"date\": \"2013-12-09\", \"precipitation\": 0.0, \"temp_max\": 1.1, \"temp_min\": -4.9, \"wind\": 1.3, \"weather\": \"sun\"}, {\"date\": \"2013-12-10\", \"precipitation\": 0.0, \"temp_max\": 5.6, \"temp_min\": 0.6, \"wind\": 1.5, \"weather\": \"sun\"}, {\"date\": \"2013-12-11\", \"precipitation\": 0.0, \"temp_max\": 5.0, \"temp_min\": -1.6, \"wind\": 0.8, \"weather\": \"sun\"}, {\"date\": \"2013-12-12\", \"precipitation\": 6.9, \"temp_max\": 5.6, \"temp_min\": -0.5, \"wind\": 2.3, \"weather\": \"sun\"}, {\"date\": \"2013-12-13\", \"precipitation\": 0.5, \"temp_max\": 9.4, \"temp_min\": 5.6, \"wind\": 2.9, \"weather\": \"fog\"}, {\"date\": \"2013-12-14\", \"precipitation\": 0.0, \"temp_max\": 9.4, \"temp_min\": 6.1, \"wind\": 3.7, \"weather\": \"sun\"}, {\"date\": \"2013-12-15\", \"precipitation\": 1.3, \"temp_max\": 11.7, \"temp_min\": 8.3, \"wind\": 3.9, \"weather\": \"fog\"}, {\"date\": \"2013-12-16\", \"precipitation\": 0.3, \"temp_max\": 10.0, \"temp_min\": 4.4, \"wind\": 1.0, \"weather\": \"sun\"}, {\"date\": \"2013-12-17\", \"precipitation\": 0.0, \"temp_max\": 8.3, \"temp_min\": 4.4, \"wind\": 2.7, \"weather\": \"sun\"}, {\"date\": \"2013-12-18\", \"precipitation\": 1.3, \"temp_max\": 7.8, \"temp_min\": 2.2, \"wind\": 2.8, \"weather\": \"fog\"}, {\"date\": \"2013-12-19\", \"precipitation\": 0.0, \"temp_max\": 5.0, \"temp_min\": 0.0, \"wind\": 2.1, \"weather\": \"sun\"}, {\"date\": \"2013-12-20\", \"precipitation\": 5.6, \"temp_max\": 8.3, \"temp_min\": 0.6, \"wind\": 3.7, \"weather\": \"fog\"}, {\"date\": \"2013-12-21\", \"precipitation\": 5.6, \"temp_max\": 8.9, \"temp_min\": 5.6, \"wind\": 2.3, \"weather\": \"fog\"}, {\"date\": \"2013-12-22\", \"precipitation\": 10.7, \"temp_max\": 10.6, \"temp_min\": 8.3, \"wind\": 4.0, \"weather\": \"fog\"}, {\"date\": \"2013-12-23\", \"precipitation\": 1.5, \"temp_max\": 11.7, \"temp_min\": 6.1, \"wind\": 5.9, \"weather\": \"fog\"}, {\"date\": \"2013-12-24\", \"precipitation\": 0.0, \"temp_max\": 8.3, \"temp_min\": 2.8, \"wind\": 1.7, \"weather\": \"sun\"}, {\"date\": \"2013-12-25\", \"precipitation\": 0.0, \"temp_max\": 6.7, \"temp_min\": 1.7, \"wind\": 0.8, \"weather\": \"sun\"}, {\"date\": \"2013-12-26\", \"precipitation\": 0.0, \"temp_max\": 6.7, \"temp_min\": 0.6, \"wind\": 0.5, \"weather\": \"sun\"}, {\"date\": \"2013-12-27\", \"precipitation\": 0.3, \"temp_max\": 8.9, \"temp_min\": 0.0, \"wind\": 2.1, \"weather\": \"fog\"}, {\"date\": \"2013-12-28\", \"precipitation\": 0.0, \"temp_max\": 9.4, \"temp_min\": 3.3, \"wind\": 1.3, \"weather\": \"sun\"}, {\"date\": \"2013-12-29\", \"precipitation\": 0.0, \"temp_max\": 7.2, \"temp_min\": 1.7, \"wind\": 1.1, \"weather\": \"sun\"}, {\"date\": \"2013-12-30\", \"precipitation\": 0.3, \"temp_max\": 8.9, \"temp_min\": 4.4, \"wind\": 2.6, \"weather\": \"sun\"}, {\"date\": \"2013-12-31\", \"precipitation\": 0.5, \"temp_max\": 8.3, \"temp_min\": 5.0, \"wind\": 1.7, \"weather\": \"sun\"}, {\"date\": \"2014-01-01\", \"precipitation\": 0.0, \"temp_max\": 7.2, \"temp_min\": 3.3, \"wind\": 1.2, \"weather\": \"sun\"}, {\"date\": \"2014-01-02\", \"precipitation\": 4.1, \"temp_max\": 10.6, \"temp_min\": 6.1, \"wind\": 3.2, \"weather\": \"sun\"}, {\"date\": \"2014-01-03\", \"precipitation\": 1.5, \"temp_max\": 8.9, \"temp_min\": 2.8, \"wind\": 2.6, \"weather\": \"fog\"}, {\"date\": \"2014-01-04\", \"precipitation\": 0.0, \"temp_max\": 7.8, \"temp_min\": 0.6, \"wind\": 2.7, \"weather\": \"fog\"}, {\"date\": \"2014-01-05\", \"precipitation\": 0.0, \"temp_max\": 8.3, \"temp_min\": -0.5, \"wind\": 3.7, \"weather\": \"sun\"}, {\"date\": \"2014-01-06\", \"precipitation\": 0.3, \"temp_max\": 7.8, \"temp_min\": -0.5, \"wind\": 2.6, \"weather\": \"fog\"}, {\"date\": \"2014-01-07\", \"precipitation\": 12.2, \"temp_max\": 8.3, \"temp_min\": 5.0, \"wind\": 1.6, \"weather\": \"sun\"}, {\"date\": \"2014-01-08\", \"precipitation\": 9.7, \"temp_max\": 10.0, \"temp_min\": 7.2, \"wind\": 4.6, \"weather\": \"fog\"}, {\"date\": \"2014-01-09\", \"precipitation\": 5.8, \"temp_max\": 9.4, \"temp_min\": 5.6, \"wind\": 6.3, \"weather\": \"fog\"}, {\"date\": \"2014-01-10\", \"precipitation\": 4.3, \"temp_max\": 12.8, \"temp_min\": 8.3, \"wind\": 7.0, \"weather\": \"sun\"}, {\"date\": \"2014-01-11\", \"precipitation\": 21.3, \"temp_max\": 14.4, \"temp_min\": 7.2, \"wind\": 8.8, \"weather\": \"fog\"}, {\"date\": \"2014-01-12\", \"precipitation\": 1.5, \"temp_max\": 11.1, \"temp_min\": 5.6, \"wind\": 8.1, \"weather\": \"fog\"}, {\"date\": \"2014-01-13\", \"precipitation\": 0.0, \"temp_max\": 10.6, \"temp_min\": 10.0, \"wind\": 7.1, \"weather\": \"sun\"}, {\"date\": \"2014-01-14\", \"precipitation\": 0.0, \"temp_max\": 11.1, \"temp_min\": 7.2, \"wind\": 1.3, \"weather\": \"sun\"}, {\"date\": \"2014-01-15\", \"precipitation\": 0.0, \"temp_max\": 11.1, \"temp_min\": 5.6, \"wind\": 2.5, \"weather\": \"sun\"}, {\"date\": \"2014-01-16\", \"precipitation\": 0.0, \"temp_max\": 6.7, \"temp_min\": 4.4, \"wind\": 2.7, \"weather\": \"sun\"}, {\"date\": \"2014-01-17\", \"precipitation\": 0.0, \"temp_max\": 5.6, \"temp_min\": 2.8, \"wind\": 2.3, \"weather\": \"sun\"}, {\"date\": \"2014-01-18\", \"precipitation\": 0.0, \"temp_max\": 9.4, \"temp_min\": 0.6, \"wind\": 2.2, \"weather\": \"sun\"}, {\"date\": \"2014-01-19\", \"precipitation\": 0.0, \"temp_max\": 6.1, \"temp_min\": 3.3, \"wind\": 2.5, \"weather\": \"sun\"}, {\"date\": \"2014-01-20\", \"precipitation\": 0.0, \"temp_max\": 10.0, \"temp_min\": 2.8, \"wind\": 2.2, \"weather\": \"sun\"}, {\"date\": \"2014-01-21\", \"precipitation\": 0.0, \"temp_max\": 10.0, \"temp_min\": 1.7, \"wind\": 1.5, \"weather\": \"sun\"}, {\"date\": \"2014-01-22\", \"precipitation\": 0.5, \"temp_max\": 9.4, \"temp_min\": 5.6, \"wind\": 2.6, \"weather\": \"sun\"}, {\"date\": \"2014-01-23\", \"precipitation\": 0.0, \"temp_max\": 10.0, \"temp_min\": 2.8, \"wind\": 5.2, \"weather\": \"fog\"}, {\"date\": \"2014-01-24\", \"precipitation\": 0.0, \"temp_max\": 12.8, \"temp_min\": 1.1, \"wind\": 1.9, \"weather\": \"sun\"}, {\"date\": \"2014-01-25\", \"precipitation\": 0.0, \"temp_max\": 12.2, \"temp_min\": 1.1, \"wind\": 0.8, \"weather\": \"sun\"}, {\"date\": \"2014-01-26\", \"precipitation\": 0.0, \"temp_max\": 8.3, \"temp_min\": 0.6, \"wind\": 1.3, \"weather\": \"sun\"}, {\"date\": \"2014-01-27\", \"precipitation\": 0.0, \"temp_max\": 9.4, \"temp_min\": 1.7, \"wind\": 1.3, \"weather\": \"sun\"}, {\"date\": \"2014-01-28\", \"precipitation\": 8.9, \"temp_max\": 11.1, \"temp_min\": 6.1, \"wind\": 1.6, \"weather\": \"fog\"}, {\"date\": \"2014-01-29\", \"precipitation\": 21.6, \"temp_max\": 11.1, \"temp_min\": 7.2, \"wind\": 3.4, \"weather\": \"fog\"}, {\"date\": \"2014-01-30\", \"precipitation\": 0.0, \"temp_max\": 8.3, \"temp_min\": 6.1, \"wind\": 6.4, \"weather\": \"sun\"}, {\"date\": \"2014-01-31\", \"precipitation\": 2.3, \"temp_max\": 7.8, \"temp_min\": 5.6, \"wind\": 2.6, \"weather\": \"fog\"}, {\"date\": \"2014-02-01\", \"precipitation\": 2.0, \"temp_max\": 7.8, \"temp_min\": 2.8, \"wind\": 0.8, \"weather\": \"sun\"}, {\"date\": \"2014-02-02\", \"precipitation\": 0.0, \"temp_max\": 8.9, \"temp_min\": 1.1, \"wind\": 2.5, \"weather\": \"sun\"}, {\"date\": \"2014-02-03\", \"precipitation\": 0.0, \"temp_max\": 5.0, \"temp_min\": 0.0, \"wind\": 4.3, \"weather\": \"sun\"}, {\"date\": \"2014-02-04\", \"precipitation\": 0.0, \"temp_max\": 2.8, \"temp_min\": -2.1, \"wind\": 4.7, \"weather\": \"sun\"}, {\"date\": \"2014-02-05\", \"precipitation\": 0.0, \"temp_max\": -0.5, \"temp_min\": -5.5, \"wind\": 6.6, \"weather\": \"sun\"}, {\"date\": \"2014-02-06\", \"precipitation\": 0.0, \"temp_max\": -1.6, \"temp_min\": -6.0, \"wind\": 4.5, \"weather\": \"sun\"}, {\"date\": \"2014-02-07\", \"precipitation\": 0.0, \"temp_max\": 3.3, \"temp_min\": -4.9, \"wind\": 4.2, \"weather\": \"sun\"}, {\"date\": \"2014-02-08\", \"precipitation\": 5.1, \"temp_max\": 5.6, \"temp_min\": -0.5, \"wind\": 4.6, \"weather\": \"fog\"}, {\"date\": \"2014-02-09\", \"precipitation\": 0.5, \"temp_max\": 3.9, \"temp_min\": 0.0, \"wind\": 2.4, \"weather\": \"fog\"}, {\"date\": \"2014-02-10\", \"precipitation\": 18.3, \"temp_max\": 10.0, \"temp_min\": 2.2, \"wind\": 4.7, \"weather\": \"fog\"}, {\"date\": \"2014-02-11\", \"precipitation\": 17.0, \"temp_max\": 12.2, \"temp_min\": 5.6, \"wind\": 3.8, \"weather\": \"fog\"}, {\"date\": \"2014-02-12\", \"precipitation\": 4.6, \"temp_max\": 12.2, \"temp_min\": 7.2, \"wind\": 6.4, \"weather\": \"fog\"}, {\"date\": \"2014-02-13\", \"precipitation\": 1.8, \"temp_max\": 12.8, \"temp_min\": 7.8, \"wind\": 6.3, \"weather\": \"fog\"}, {\"date\": \"2014-02-14\", \"precipitation\": 9.4, \"temp_max\": 11.7, \"temp_min\": 6.1, \"wind\": 6.4, \"weather\": \"fog\"}, {\"date\": \"2014-02-15\", \"precipitation\": 11.7, \"temp_max\": 11.1, \"temp_min\": 5.0, \"wind\": 5.1, \"weather\": \"fog\"}, {\"date\": \"2014-02-16\", \"precipitation\": 26.4, \"temp_max\": 9.4, \"temp_min\": 3.9, \"wind\": 7.9, \"weather\": \"fog\"}, {\"date\": \"2014-02-17\", \"precipitation\": 14.5, \"temp_max\": 8.3, \"temp_min\": 4.4, \"wind\": 5.5, \"weather\": \"fog\"}, {\"date\": \"2014-02-18\", \"precipitation\": 15.2, \"temp_max\": 8.9, \"temp_min\": 5.0, \"wind\": 6.2, \"weather\": \"fog\"}, {\"date\": \"2014-02-19\", \"precipitation\": 1.0, \"temp_max\": 8.3, \"temp_min\": 3.9, \"wind\": 6.0, \"weather\": \"sun\"}, {\"date\": \"2014-02-20\", \"precipitation\": 3.0, \"temp_max\": 10.0, \"temp_min\": 5.6, \"wind\": 6.9, \"weather\": \"fog\"}, {\"date\": \"2014-02-21\", \"precipitation\": 2.8, \"temp_max\": 6.7, \"temp_min\": 3.9, \"wind\": 2.9, \"weather\": \"fog\"}, {\"date\": \"2014-02-22\", \"precipitation\": 2.5, \"temp_max\": 5.6, \"temp_min\": 2.8, \"wind\": 3.1, \"weather\": \"fog\"}, {\"date\": \"2014-02-23\", \"precipitation\": 6.1, \"temp_max\": 7.2, \"temp_min\": 3.9, \"wind\": 2.6, \"weather\": \"fog\"}, {\"date\": \"2014-02-24\", \"precipitation\": 13.0, \"temp_max\": 6.7, \"temp_min\": 3.3, \"wind\": 3.2, \"weather\": \"fog\"}, {\"date\": \"2014-02-25\", \"precipitation\": 0.3, \"temp_max\": 12.2, \"temp_min\": 3.9, \"wind\": 4.5, \"weather\": \"fog\"}, {\"date\": \"2014-02-26\", \"precipitation\": 0.0, \"temp_max\": 13.9, \"temp_min\": 5.6, \"wind\": 2.5, \"weather\": \"sun\"}, {\"date\": \"2014-02-27\", \"precipitation\": 0.0, \"temp_max\": 12.8, \"temp_min\": 4.4, \"wind\": 2.3, \"weather\": \"sun\"}, {\"date\": \"2014-02-28\", \"precipitation\": 0.0, \"temp_max\": 14.4, \"temp_min\": 4.4, \"wind\": 5.9, \"weather\": \"sun\"}, {\"date\": \"2014-03-01\", \"precipitation\": 0.5, \"temp_max\": 7.2, \"temp_min\": 4.4, \"wind\": 4.7, \"weather\": \"sun\"}, {\"date\": \"2014-03-02\", \"precipitation\": 19.1, \"temp_max\": 11.1, \"temp_min\": 2.8, \"wind\": 5.7, \"weather\": \"fog\"}, {\"date\": \"2014-03-03\", \"precipitation\": 10.7, \"temp_max\": 14.4, \"temp_min\": 8.9, \"wind\": 5.1, \"weather\": \"fog\"}, {\"date\": \"2014-03-04\", \"precipitation\": 16.5, \"temp_max\": 13.9, \"temp_min\": 7.8, \"wind\": 3.9, \"weather\": \"fog\"}, {\"date\": \"2014-03-05\", \"precipitation\": 46.7, \"temp_max\": 15.6, \"temp_min\": 10.6, \"wind\": 3.9, \"weather\": \"fog\"}, {\"date\": \"2014-03-06\", \"precipitation\": 3.0, \"temp_max\": 13.3, \"temp_min\": 10.0, \"wind\": 6.2, \"weather\": \"fog\"}, {\"date\": \"2014-03-07\", \"precipitation\": 0.0, \"temp_max\": 15.6, \"temp_min\": 8.9, \"wind\": 4.2, \"weather\": \"sun\"}, {\"date\": \"2014-03-08\", \"precipitation\": 32.3, \"temp_max\": 12.8, \"temp_min\": 6.7, \"wind\": 2.7, \"weather\": \"fog\"}, {\"date\": \"2014-03-09\", \"precipitation\": 4.3, \"temp_max\": 15.0, \"temp_min\": 9.4, \"wind\": 4.3, \"weather\": \"fog\"}, {\"date\": \"2014-03-10\", \"precipitation\": 18.8, \"temp_max\": 12.2, \"temp_min\": 6.1, \"wind\": 2.2, \"weather\": \"fog\"}, {\"date\": \"2014-03-11\", \"precipitation\": 0.0, \"temp_max\": 14.4, \"temp_min\": 4.4, \"wind\": 2.3, \"weather\": \"fog\"}, {\"date\": \"2014-03-12\", \"precipitation\": 0.0, \"temp_max\": 16.1, \"temp_min\": 3.3, \"wind\": 1.9, \"weather\": \"fog\"}, {\"date\": \"2014-03-13\", \"precipitation\": 0.5, \"temp_max\": 13.9, \"temp_min\": 5.0, \"wind\": 2.5, \"weather\": \"fog\"}, {\"date\": \"2014-03-14\", \"precipitation\": 6.9, \"temp_max\": 14.4, \"temp_min\": 8.3, \"wind\": 6.1, \"weather\": \"fog\"}, {\"date\": \"2014-03-15\", \"precipitation\": 8.1, \"temp_max\": 16.7, \"temp_min\": 4.4, \"wind\": 3.0, \"weather\": \"fog\"}, {\"date\": \"2014-03-16\", \"precipitation\": 27.7, \"temp_max\": 10.6, \"temp_min\": 4.4, \"wind\": 3.8, \"weather\": \"fog\"}, {\"date\": \"2014-03-17\", \"precipitation\": 0.3, \"temp_max\": 10.0, \"temp_min\": 2.8, \"wind\": 3.2, \"weather\": \"fog\"}, {\"date\": \"2014-03-18\", \"precipitation\": 0.0, \"temp_max\": 10.0, \"temp_min\": 3.3, \"wind\": 1.6, \"weather\": \"sun\"}, {\"date\": \"2014-03-19\", \"precipitation\": 0.5, \"temp_max\": 11.1, \"temp_min\": 3.3, \"wind\": 5.1, \"weather\": \"sun\"}, {\"date\": \"2014-03-20\", \"precipitation\": 0.0, \"temp_max\": 11.1, \"temp_min\": 1.7, \"wind\": 3.0, \"weather\": \"sun\"}, {\"date\": \"2014-03-21\", \"precipitation\": 0.0, \"temp_max\": 10.6, \"temp_min\": 2.8, \"wind\": 3.8, \"weather\": \"sun\"}, {\"date\": \"2014-03-22\", \"precipitation\": 0.0, \"temp_max\": 11.1, \"temp_min\": 1.1, \"wind\": 1.8, \"weather\": \"sun\"}, {\"date\": \"2014-03-23\", \"precipitation\": 0.0, \"temp_max\": 12.8, \"temp_min\": 4.4, \"wind\": 3.3, \"weather\": \"sun\"}, {\"date\": \"2014-03-24\", \"precipitation\": 0.0, \"temp_max\": 18.9, \"temp_min\": 2.8, \"wind\": 2.2, \"weather\": \"sun\"}, {\"date\": \"2014-03-25\", \"precipitation\": 4.1, \"temp_max\": 13.9, \"temp_min\": 6.7, \"wind\": 4.4, \"weather\": \"fog\"}, {\"date\": \"2014-03-26\", \"precipitation\": 3.6, \"temp_max\": 11.1, \"temp_min\": 5.6, \"wind\": 2.4, \"weather\": \"fog\"}, {\"date\": \"2014-03-27\", \"precipitation\": 0.3, \"temp_max\": 12.2, \"temp_min\": 6.7, \"wind\": 2.8, \"weather\": \"fog\"}, {\"date\": \"2014-03-28\", \"precipitation\": 22.1, \"temp_max\": 11.7, \"temp_min\": 7.2, \"wind\": 3.9, \"weather\": \"fog\"}, {\"date\": \"2014-03-29\", \"precipitation\": 14.0, \"temp_max\": 11.7, \"temp_min\": 7.2, \"wind\": 5.1, \"weather\": \"fog\"}, {\"date\": \"2014-03-30\", \"precipitation\": 0.0, \"temp_max\": 11.1, \"temp_min\": 5.0, \"wind\": 5.1, \"weather\": \"sun\"}, {\"date\": \"2014-03-31\", \"precipitation\": 0.0, \"temp_max\": 15.6, \"temp_min\": 2.2, \"wind\": 3.8, \"weather\": \"sun\"}, {\"date\": \"2014-04-01\", \"precipitation\": 0.0, \"temp_max\": 14.4, \"temp_min\": 6.7, \"wind\": 2.8, \"weather\": \"sun\"}, {\"date\": \"2014-04-02\", \"precipitation\": 0.0, \"temp_max\": 14.4, \"temp_min\": 5.6, \"wind\": 4.2, \"weather\": \"sun\"}, {\"date\": \"2014-04-03\", \"precipitation\": 2.5, \"temp_max\": 13.3, \"temp_min\": 6.1, \"wind\": 3.9, \"weather\": \"sun\"}, {\"date\": \"2014-04-04\", \"precipitation\": 0.0, \"temp_max\": 12.8, \"temp_min\": 6.1, \"wind\": 4.7, \"weather\": \"sun\"}, {\"date\": \"2014-04-05\", \"precipitation\": 4.6, \"temp_max\": 11.7, \"temp_min\": 7.8, \"wind\": 4.3, \"weather\": \"fog\"}, {\"date\": \"2014-04-06\", \"precipitation\": 0.0, \"temp_max\": 13.9, \"temp_min\": 8.3, \"wind\": 2.6, \"weather\": \"sun\"}, {\"date\": \"2014-04-07\", \"precipitation\": 0.0, \"temp_max\": 21.1, \"temp_min\": 9.4, \"wind\": 2.5, \"weather\": \"sun\"}, {\"date\": \"2014-04-08\", \"precipitation\": 4.6, \"temp_max\": 15.6, \"temp_min\": 8.3, \"wind\": 4.2, \"weather\": \"fog\"}, {\"date\": \"2014-04-09\", \"precipitation\": 0.0, \"temp_max\": 14.4, \"temp_min\": 6.7, \"wind\": 2.9, \"weather\": \"sun\"}, {\"date\": \"2014-04-10\", \"precipitation\": 0.0, \"temp_max\": 15.0, \"temp_min\": 6.7, \"wind\": 3.6, \"weather\": \"sun\"}, {\"date\": \"2014-04-11\", \"precipitation\": 0.0, \"temp_max\": 17.2, \"temp_min\": 5.0, \"wind\": 2.8, \"weather\": \"sun\"}, {\"date\": \"2014-04-12\", \"precipitation\": 0.0, \"temp_max\": 16.1, \"temp_min\": 7.8, \"wind\": 4.4, \"weather\": \"sun\"}, {\"date\": \"2014-04-13\", \"precipitation\": 0.0, \"temp_max\": 20.6, \"temp_min\": 5.6, \"wind\": 3.1, \"weather\": \"sun\"}, {\"date\": \"2014-04-14\", \"precipitation\": 0.0, \"temp_max\": 20.0, \"temp_min\": 5.6, \"wind\": 2.6, \"weather\": \"sun\"}, {\"date\": \"2014-04-15\", \"precipitation\": 0.5, \"temp_max\": 14.4, \"temp_min\": 7.8, \"wind\": 4.0, \"weather\": \"sun\"}, {\"date\": \"2014-04-16\", \"precipitation\": 10.9, \"temp_max\": 11.1, \"temp_min\": 8.9, \"wind\": 4.6, \"weather\": \"fog\"}, {\"date\": \"2014-04-17\", \"precipitation\": 18.5, \"temp_max\": 11.7, \"temp_min\": 7.2, \"wind\": 4.7, \"weather\": \"fog\"}, {\"date\": \"2014-04-18\", \"precipitation\": 0.0, \"temp_max\": 14.4, \"temp_min\": 5.6, \"wind\": 3.8, \"weather\": \"sun\"}, {\"date\": \"2014-04-19\", \"precipitation\": 13.7, \"temp_max\": 11.7, \"temp_min\": 5.6, \"wind\": 4.7, \"weather\": \"fog\"}, {\"date\": \"2014-04-20\", \"precipitation\": 0.0, \"temp_max\": 15.6, \"temp_min\": 5.6, \"wind\": 2.7, \"weather\": \"sun\"}, {\"date\": \"2014-04-21\", \"precipitation\": 5.1, \"temp_max\": 17.2, \"temp_min\": 7.8, \"wind\": 2.5, \"weather\": \"fog\"}, {\"date\": \"2014-04-22\", \"precipitation\": 14.2, \"temp_max\": 12.2, \"temp_min\": 5.0, \"wind\": 4.2, \"weather\": \"fog\"}, {\"date\": \"2014-04-23\", \"precipitation\": 8.9, \"temp_max\": 11.7, \"temp_min\": 6.1, \"wind\": 5.0, \"weather\": \"fog\"}, {\"date\": \"2014-04-24\", \"precipitation\": 12.4, \"temp_max\": 13.9, \"temp_min\": 6.1, \"wind\": 5.3, \"weather\": \"fog\"}, {\"date\": \"2014-04-25\", \"precipitation\": 0.0, \"temp_max\": 14.4, \"temp_min\": 5.6, \"wind\": 2.3, \"weather\": \"sun\"}, {\"date\": \"2014-04-26\", \"precipitation\": 3.3, \"temp_max\": 15.0, \"temp_min\": 5.6, \"wind\": 3.9, \"weather\": \"sun\"}, {\"date\": \"2014-04-27\", \"precipitation\": 6.9, \"temp_max\": 11.1, \"temp_min\": 6.1, \"wind\": 5.8, \"weather\": \"fog\"}, {\"date\": \"2014-04-28\", \"precipitation\": 0.0, \"temp_max\": 16.1, \"temp_min\": 4.4, \"wind\": 2.6, \"weather\": \"sun\"}, {\"date\": \"2014-04-29\", \"precipitation\": 0.0, \"temp_max\": 25.0, \"temp_min\": 9.4, \"wind\": 2.3, \"weather\": \"sun\"}, {\"date\": \"2014-04-30\", \"precipitation\": 0.0, \"temp_max\": 27.8, \"temp_min\": 9.4, \"wind\": 3.9, \"weather\": \"sun\"}, {\"date\": \"2014-05-01\", \"precipitation\": 0.0, \"temp_max\": 29.4, \"temp_min\": 11.1, \"wind\": 3.0, \"weather\": \"sun\"}, {\"date\": \"2014-05-02\", \"precipitation\": 0.0, \"temp_max\": 18.3, \"temp_min\": 10.6, \"wind\": 4.7, \"weather\": \"sun\"}, {\"date\": \"2014-05-03\", \"precipitation\": 33.3, \"temp_max\": 15.0, \"temp_min\": 8.9, \"wind\": 3.4, \"weather\": \"fog\"}, {\"date\": \"2014-05-04\", \"precipitation\": 16.0, \"temp_max\": 14.4, \"temp_min\": 8.9, \"wind\": 4.2, \"weather\": \"fog\"}, {\"date\": \"2014-05-05\", \"precipitation\": 5.1, \"temp_max\": 15.6, \"temp_min\": 9.4, \"wind\": 3.8, \"weather\": \"fog\"}, {\"date\": \"2014-05-06\", \"precipitation\": 0.0, \"temp_max\": 16.7, \"temp_min\": 8.3, \"wind\": 2.6, \"weather\": \"sun\"}, {\"date\": \"2014-05-07\", \"precipitation\": 0.0, \"temp_max\": 18.3, \"temp_min\": 7.2, \"wind\": 1.7, \"weather\": \"sun\"}, {\"date\": \"2014-05-08\", \"precipitation\": 13.7, \"temp_max\": 13.9, \"temp_min\": 9.4, \"wind\": 3.4, \"weather\": \"fog\"}, {\"date\": \"2014-05-09\", \"precipitation\": 2.0, \"temp_max\": 13.3, \"temp_min\": 7.2, \"wind\": 5.6, \"weather\": \"sun\"}, {\"date\": \"2014-05-10\", \"precipitation\": 0.5, \"temp_max\": 15.6, \"temp_min\": 7.2, \"wind\": 2.1, \"weather\": \"fog\"}, {\"date\": \"2014-05-11\", \"precipitation\": 0.0, \"temp_max\": 18.9, \"temp_min\": 8.3, \"wind\": 1.7, \"weather\": \"sun\"}, {\"date\": \"2014-05-12\", \"precipitation\": 0.0, \"temp_max\": 24.4, \"temp_min\": 9.4, \"wind\": 2.7, \"weather\": \"sun\"}, {\"date\": \"2014-05-13\", \"precipitation\": 0.0, \"temp_max\": 26.7, \"temp_min\": 12.8, \"wind\": 3.8, \"weather\": \"sun\"}, {\"date\": \"2014-05-14\", \"precipitation\": 0.0, \"temp_max\": 27.8, \"temp_min\": 13.3, \"wind\": 3.3, \"weather\": \"sun\"}, {\"date\": \"2014-05-15\", \"precipitation\": 0.0, \"temp_max\": 26.7, \"temp_min\": 12.8, \"wind\": 3.0, \"weather\": \"sun\"}, {\"date\": \"2014-05-16\", \"precipitation\": 0.0, \"temp_max\": 20.0, \"temp_min\": 11.7, \"wind\": 4.1, \"weather\": \"sun\"}, {\"date\": \"2014-05-17\", \"precipitation\": 0.0, \"temp_max\": 20.0, \"temp_min\": 11.7, \"wind\": 3.2, \"weather\": \"sun\"}, {\"date\": \"2014-05-18\", \"precipitation\": 0.0, \"temp_max\": 20.0, \"temp_min\": 10.6, \"wind\": 3.2, \"weather\": \"sun\"}, {\"date\": \"2014-05-19\", \"precipitation\": 0.0, \"temp_max\": 21.1, \"temp_min\": 10.0, \"wind\": 2.2, \"weather\": \"sun\"}, {\"date\": \"2014-05-20\", \"precipitation\": 0.0, \"temp_max\": 22.2, \"temp_min\": 10.0, \"wind\": 2.7, \"weather\": \"sun\"}, {\"date\": \"2014-05-21\", \"precipitation\": 0.0, \"temp_max\": 20.0, \"temp_min\": 10.6, \"wind\": 1.7, \"weather\": \"sun\"}, {\"date\": \"2014-05-22\", \"precipitation\": 0.0, \"temp_max\": 24.4, \"temp_min\": 11.7, \"wind\": 2.5, \"weather\": \"sun\"}, {\"date\": \"2014-05-23\", \"precipitation\": 3.8, \"temp_max\": 20.0, \"temp_min\": 12.8, \"wind\": 4.0, \"weather\": \"fog\"}, {\"date\": \"2014-05-24\", \"precipitation\": 0.0, \"temp_max\": 18.3, \"temp_min\": 11.1, \"wind\": 2.4, \"weather\": \"sun\"}, {\"date\": \"2014-05-25\", \"precipitation\": 5.6, \"temp_max\": 15.0, \"temp_min\": 10.6, \"wind\": 1.4, \"weather\": \"fog\"}, {\"date\": \"2014-05-26\", \"precipitation\": 0.0, \"temp_max\": 18.3, \"temp_min\": 11.1, \"wind\": 4.5, \"weather\": \"sun\"}, {\"date\": \"2014-05-27\", \"precipitation\": 0.0, \"temp_max\": 20.0, \"temp_min\": 10.0, \"wind\": 2.5, \"weather\": \"sun\"}, {\"date\": \"2014-05-28\", \"precipitation\": 0.0, \"temp_max\": 18.9, \"temp_min\": 10.0, \"wind\": 3.4, \"weather\": \"sun\"}, {\"date\": \"2014-05-29\", \"precipitation\": 0.0, \"temp_max\": 18.9, \"temp_min\": 11.1, \"wind\": 4.3, \"weather\": \"sun\"}, {\"date\": \"2014-05-30\", \"precipitation\": 0.0, \"temp_max\": 20.6, \"temp_min\": 8.9, \"wind\": 4.5, \"weather\": \"sun\"}, {\"date\": \"2014-05-31\", \"precipitation\": 0.0, \"temp_max\": 23.3, \"temp_min\": 10.0, \"wind\": 2.2, \"weather\": \"sun\"}, {\"date\": \"2014-06-01\", \"precipitation\": 0.0, \"temp_max\": 22.2, \"temp_min\": 10.6, \"wind\": 2.3, \"weather\": \"sun\"}, {\"date\": \"2014-06-02\", \"precipitation\": 0.0, \"temp_max\": 23.3, \"temp_min\": 11.1, \"wind\": 2.4, \"weather\": \"sun\"}, {\"date\": \"2014-06-03\", \"precipitation\": 0.0, \"temp_max\": 18.3, \"temp_min\": 11.1, \"wind\": 3.2, \"weather\": \"sun\"}, {\"date\": \"2014-06-04\", \"precipitation\": 0.0, \"temp_max\": 19.4, \"temp_min\": 10.0, \"wind\": 2.6, \"weather\": \"sun\"}, {\"date\": \"2014-06-05\", \"precipitation\": 0.0, \"temp_max\": 22.2, \"temp_min\": 10.0, \"wind\": 2.4, \"weather\": \"sun\"}, {\"date\": \"2014-06-06\", \"precipitation\": 0.0, \"temp_max\": 25.0, \"temp_min\": 10.6, \"wind\": 3.2, \"weather\": \"sun\"}, {\"date\": \"2014-06-07\", \"precipitation\": 0.0, \"temp_max\": 24.4, \"temp_min\": 13.3, \"wind\": 3.1, \"weather\": \"sun\"}, {\"date\": \"2014-06-08\", \"precipitation\": 0.0, \"temp_max\": 23.3, \"temp_min\": 12.2, \"wind\": 2.1, \"weather\": \"sun\"}, {\"date\": \"2014-06-09\", \"precipitation\": 0.0, \"temp_max\": 21.1, \"temp_min\": 13.3, \"wind\": 3.6, \"weather\": \"sun\"}, {\"date\": \"2014-06-10\", \"precipitation\": 0.0, \"temp_max\": 20.0, \"temp_min\": 12.2, \"wind\": 2.9, \"weather\": \"sun\"}, {\"date\": \"2014-06-11\", \"precipitation\": 0.0, \"temp_max\": 23.9, \"temp_min\": 11.1, \"wind\": 2.7, \"weather\": \"sun\"}, {\"date\": \"2014-06-12\", \"precipitation\": 1.8, \"temp_max\": 21.7, \"temp_min\": 12.2, \"wind\": 4.0, \"weather\": \"sun\"}, {\"date\": \"2014-06-13\", \"precipitation\": 6.4, \"temp_max\": 15.6, \"temp_min\": 11.1, \"wind\": 5.0, \"weather\": \"fog\"}, {\"date\": \"2014-06-14\", \"precipitation\": 0.0, \"temp_max\": 17.8, \"temp_min\": 11.7, \"wind\": 3.2, \"weather\": \"sun\"}, {\"date\": \"2014-06-15\", \"precipitation\": 0.5, \"temp_max\": 18.3, \"temp_min\": 10.0, \"wind\": 3.6, \"weather\": \"fog\"}, {\"date\": \"2014-06-16\", \"precipitation\": 3.6, \"temp_max\": 17.8, \"temp_min\": 8.9, \"wind\": 2.4, \"weather\": \"fog\"}, {\"date\": \"2014-06-17\", \"precipitation\": 1.3, \"temp_max\": 17.8, \"temp_min\": 10.0, \"wind\": 3.0, \"weather\": \"fog\"}, {\"date\": \"2014-06-18\", \"precipitation\": 0.0, \"temp_max\": 18.9, \"temp_min\": 11.1, \"wind\": 2.7, \"weather\": \"sun\"}, {\"date\": \"2014-06-19\", \"precipitation\": 0.8, \"temp_max\": 25.6, \"temp_min\": 11.7, \"wind\": 3.7, \"weather\": \"sun\"}, {\"date\": \"2014-06-20\", \"precipitation\": 0.3, \"temp_max\": 20.0, \"temp_min\": 10.0, \"wind\": 3.4, \"weather\": \"sun\"}, {\"date\": \"2014-06-21\", \"precipitation\": 0.0, \"temp_max\": 22.2, \"temp_min\": 10.6, \"wind\": 3.6, \"weather\": \"sun\"}, {\"date\": \"2014-06-22\", \"precipitation\": 0.0, \"temp_max\": 25.0, \"temp_min\": 11.1, \"wind\": 2.7, \"weather\": \"sun\"}, {\"date\": \"2014-06-23\", \"precipitation\": 0.0, \"temp_max\": 25.0, \"temp_min\": 13.3, \"wind\": 2.5, \"weather\": \"sun\"}, {\"date\": \"2014-06-24\", \"precipitation\": 0.0, \"temp_max\": 24.4, \"temp_min\": 14.4, \"wind\": 2.5, \"weather\": \"sun\"}, {\"date\": \"2014-06-25\", \"precipitation\": 0.0, \"temp_max\": 26.1, \"temp_min\": 13.9, \"wind\": 2.4, \"weather\": \"sun\"}, {\"date\": \"2014-06-26\", \"precipitation\": 0.0, \"temp_max\": 21.1, \"temp_min\": 14.4, \"wind\": 4.1, \"weather\": \"sun\"}, {\"date\": \"2014-06-27\", \"precipitation\": 1.8, \"temp_max\": 21.1, \"temp_min\": 13.9, \"wind\": 4.5, \"weather\": \"fog\"}, {\"date\": \"2014-06-28\", \"precipitation\": 2.3, \"temp_max\": 20.0, \"temp_min\": 13.3, \"wind\": 4.3, \"weather\": \"fog\"}, {\"date\": \"2014-06-29\", \"precipitation\": 0.0, \"temp_max\": 20.6, \"temp_min\": 12.8, \"wind\": 3.2, \"weather\": \"sun\"}, {\"date\": \"2014-06-30\", \"precipitation\": 0.0, \"temp_max\": 25.6, \"temp_min\": 12.8, \"wind\": 4.4, \"weather\": \"sun\"}, {\"date\": \"2014-07-01\", \"precipitation\": 0.0, \"temp_max\": 34.4, \"temp_min\": 15.6, \"wind\": 3.5, \"weather\": \"sun\"}, {\"date\": \"2014-07-02\", \"precipitation\": 0.0, \"temp_max\": 27.2, \"temp_min\": 14.4, \"wind\": 3.6, \"weather\": \"sun\"}, {\"date\": \"2014-07-03\", \"precipitation\": 0.0, \"temp_max\": 21.7, \"temp_min\": 13.9, \"wind\": 3.1, \"weather\": \"sun\"}, {\"date\": \"2014-07-04\", \"precipitation\": 0.0, \"temp_max\": 23.9, \"temp_min\": 13.9, \"wind\": 3.6, \"weather\": \"sun\"}, {\"date\": \"2014-07-05\", \"precipitation\": 0.0, \"temp_max\": 24.4, \"temp_min\": 13.3, \"wind\": 2.2, \"weather\": \"fog\"}, {\"date\": \"2014-07-06\", \"precipitation\": 0.0, \"temp_max\": 28.9, \"temp_min\": 15.0, \"wind\": 3.0, \"weather\": \"sun\"}, {\"date\": \"2014-07-07\", \"precipitation\": 0.0, \"temp_max\": 27.2, \"temp_min\": 17.8, \"wind\": 4.1, \"weather\": \"fog\"}, {\"date\": \"2014-07-08\", \"precipitation\": 0.0, \"temp_max\": 30.0, \"temp_min\": 15.6, \"wind\": 3.5, \"weather\": \"sun\"}, {\"date\": \"2014-07-09\", \"precipitation\": 0.0, \"temp_max\": 26.7, \"temp_min\": 13.9, \"wind\": 2.3, \"weather\": \"sun\"}, {\"date\": \"2014-07-10\", \"precipitation\": 0.0, \"temp_max\": 28.9, \"temp_min\": 12.8, \"wind\": 2.2, \"weather\": \"fog\"}, {\"date\": \"2014-07-11\", \"precipitation\": 0.0, \"temp_max\": 31.1, \"temp_min\": 15.0, \"wind\": 2.2, \"weather\": \"sun\"}, {\"date\": \"2014-07-12\", \"precipitation\": 0.0, \"temp_max\": 32.2, \"temp_min\": 16.7, \"wind\": 2.2, \"weather\": \"sun\"}, {\"date\": \"2014-07-13\", \"precipitation\": 0.0, \"temp_max\": 29.4, \"temp_min\": 15.0, \"wind\": 2.6, \"weather\": \"rain\"}, {\"date\": \"2014-07-14\", \"precipitation\": 0.0, \"temp_max\": 27.8, \"temp_min\": 15.0, \"wind\": 2.8, \"weather\": \"sun\"}, {\"date\": \"2014-07-15\", \"precipitation\": 0.0, \"temp_max\": 31.1, \"temp_min\": 13.9, \"wind\": 2.3, \"weather\": \"sun\"}, {\"date\": \"2014-07-16\", \"precipitation\": 0.0, \"temp_max\": 31.1, \"temp_min\": 14.4, \"wind\": 2.4, \"weather\": \"sun\"}, {\"date\": \"2014-07-17\", \"precipitation\": 0.0, \"temp_max\": 26.7, \"temp_min\": 13.9, \"wind\": 3.7, \"weather\": \"sun\"}, {\"date\": \"2014-07-18\", \"precipitation\": 0.0, \"temp_max\": 23.9, \"temp_min\": 11.7, \"wind\": 2.8, \"weather\": \"sun\"}, {\"date\": \"2014-07-19\", \"precipitation\": 0.0, \"temp_max\": 25.6, \"temp_min\": 15.0, \"wind\": 5.4, \"weather\": \"fog\"}, {\"date\": \"2014-07-20\", \"precipitation\": 0.0, \"temp_max\": 19.4, \"temp_min\": 14.4, \"wind\": 2.8, \"weather\": \"sun\"}, {\"date\": \"2014-07-21\", \"precipitation\": 0.0, \"temp_max\": 23.9, \"temp_min\": 13.3, \"wind\": 2.2, \"weather\": \"sun\"}, {\"date\": \"2014-07-22\", \"precipitation\": 0.3, \"temp_max\": 21.1, \"temp_min\": 13.3, \"wind\": 1.1, \"weather\": \"fog\"}, {\"date\": \"2014-07-23\", \"precipitation\": 19.3, \"temp_max\": 18.9, \"temp_min\": 13.3, \"wind\": 3.3, \"weather\": \"sun\"}, {\"date\": \"2014-07-24\", \"precipitation\": 0.0, \"temp_max\": 20.6, \"temp_min\": 12.8, \"wind\": 4.7, \"weather\": \"sun\"}, {\"date\": \"2014-07-25\", \"precipitation\": 0.0, \"temp_max\": 22.8, \"temp_min\": 12.2, \"wind\": 2.7, \"weather\": \"sun\"}, {\"date\": \"2014-07-26\", \"precipitation\": 0.0, \"temp_max\": 26.1, \"temp_min\": 13.3, \"wind\": 3.6, \"weather\": \"sun\"}, {\"date\": \"2014-07-27\", \"precipitation\": 0.0, \"temp_max\": 28.3, \"temp_min\": 15.0, \"wind\": 4.1, \"weather\": \"sun\"}, {\"date\": \"2014-07-28\", \"precipitation\": 0.0, \"temp_max\": 30.6, \"temp_min\": 15.0, \"wind\": 3.7, \"weather\": \"sun\"}, {\"date\": \"2014-07-29\", \"precipitation\": 0.0, \"temp_max\": 30.0, \"temp_min\": 15.6, \"wind\": 2.8, \"weather\": \"sun\"}, {\"date\": \"2014-07-30\", \"precipitation\": 0.0, \"temp_max\": 29.4, \"temp_min\": 14.4, \"wind\": 3.4, \"weather\": \"sun\"}, {\"date\": \"2014-07-31\", \"precipitation\": 0.0, \"temp_max\": 30.6, \"temp_min\": 17.8, \"wind\": 4.1, \"weather\": \"sun\"}, {\"date\": \"2014-08-01\", \"precipitation\": 0.0, \"temp_max\": 28.9, \"temp_min\": 15.0, \"wind\": 3.3, \"weather\": \"sun\"}, {\"date\": \"2014-08-02\", \"precipitation\": 0.5, \"temp_max\": 29.4, \"temp_min\": 15.6, \"wind\": 1.7, \"weather\": \"sun\"}, {\"date\": \"2014-08-03\", \"precipitation\": 0.0, \"temp_max\": 31.7, \"temp_min\": 14.4, \"wind\": 2.6, \"weather\": \"sun\"}, {\"date\": \"2014-08-04\", \"precipitation\": 0.0, \"temp_max\": 32.8, \"temp_min\": 16.1, \"wind\": 2.6, \"weather\": \"sun\"}, {\"date\": \"2014-08-05\", \"precipitation\": 0.0, \"temp_max\": 25.0, \"temp_min\": 13.9, \"wind\": 2.7, \"weather\": \"sun\"}, {\"date\": \"2014-08-06\", \"precipitation\": 0.0, \"temp_max\": 26.1, \"temp_min\": 15.0, \"wind\": 2.2, \"weather\": \"fog\"}, {\"date\": \"2014-08-07\", \"precipitation\": 0.0, \"temp_max\": 25.6, \"temp_min\": 13.3, \"wind\": 2.4, \"weather\": \"fog\"}, {\"date\": \"2014-08-08\", \"precipitation\": 0.0, \"temp_max\": 25.6, \"temp_min\": 13.3, \"wind\": 2.9, \"weather\": \"sun\"}, {\"date\": \"2014-08-09\", \"precipitation\": 0.0, \"temp_max\": 27.2, \"temp_min\": 15.6, \"wind\": 4.1, \"weather\": \"sun\"}, {\"date\": \"2014-08-10\", \"precipitation\": 0.0, \"temp_max\": 30.6, \"temp_min\": 13.9, \"wind\": 3.4, \"weather\": \"sun\"}, {\"date\": \"2014-08-11\", \"precipitation\": 0.5, \"temp_max\": 35.6, \"temp_min\": 17.8, \"wind\": 2.6, \"weather\": \"rain\"}, {\"date\": \"2014-08-12\", \"precipitation\": 12.7, \"temp_max\": 27.2, \"temp_min\": 17.2, \"wind\": 3.1, \"weather\": \"fog\"}, {\"date\": \"2014-08-13\", \"precipitation\": 21.6, \"temp_max\": 23.3, \"temp_min\": 15.0, \"wind\": 2.7, \"weather\": \"fog\"}, {\"date\": \"2014-08-14\", \"precipitation\": 0.0, \"temp_max\": 21.1, \"temp_min\": 17.2, \"wind\": 0.6, \"weather\": \"sun\"}, {\"date\": \"2014-08-15\", \"precipitation\": 1.0, \"temp_max\": 24.4, \"temp_min\": 16.7, \"wind\": 1.5, \"weather\": \"fog\"}, {\"date\": \"2014-08-16\", \"precipitation\": 0.0, \"temp_max\": 25.6, \"temp_min\": 15.6, \"wind\": 2.2, \"weather\": \"sun\"}, {\"date\": \"2014-08-17\", \"precipitation\": 0.0, \"temp_max\": 27.8, \"temp_min\": 15.0, \"wind\": 2.8, \"weather\": \"sun\"}, {\"date\": \"2014-08-18\", \"precipitation\": 0.0, \"temp_max\": 29.4, \"temp_min\": 15.6, \"wind\": 3.3, \"weather\": \"sun\"}, {\"date\": \"2014-08-19\", \"precipitation\": 0.0, \"temp_max\": 27.2, \"temp_min\": 15.6, \"wind\": 2.4, \"weather\": \"sun\"}, {\"date\": \"2014-08-20\", \"precipitation\": 0.0, \"temp_max\": 21.7, \"temp_min\": 13.9, \"wind\": 3.6, \"weather\": \"sun\"}, {\"date\": \"2014-08-21\", \"precipitation\": 0.0, \"temp_max\": 21.1, \"temp_min\": 11.1, \"wind\": 1.7, \"weather\": \"sun\"}, {\"date\": \"2014-08-22\", \"precipitation\": 0.0, \"temp_max\": 23.9, \"temp_min\": 13.3, \"wind\": 2.9, \"weather\": \"sun\"}, {\"date\": \"2014-08-23\", \"precipitation\": 0.0, \"temp_max\": 27.8, \"temp_min\": 13.9, \"wind\": 2.0, \"weather\": \"sun\"}, {\"date\": \"2014-08-24\", \"precipitation\": 0.0, \"temp_max\": 25.0, \"temp_min\": 13.3, \"wind\": 2.3, \"weather\": \"sun\"}, {\"date\": \"2014-08-25\", \"precipitation\": 0.0, \"temp_max\": 28.9, \"temp_min\": 14.4, \"wind\": 2.0, \"weather\": \"sun\"}, {\"date\": \"2014-08-26\", \"precipitation\": 0.0, \"temp_max\": 31.1, \"temp_min\": 15.6, \"wind\": 1.8, \"weather\": \"sun\"}, {\"date\": \"2014-08-27\", \"precipitation\": 0.0, \"temp_max\": 28.9, \"temp_min\": 16.1, \"wind\": 1.6, \"weather\": \"sun\"}, {\"date\": \"2014-08-28\", \"precipitation\": 0.0, \"temp_max\": 23.3, \"temp_min\": 14.4, \"wind\": 2.3, \"weather\": \"sun\"}, {\"date\": \"2014-08-29\", \"precipitation\": 0.0, \"temp_max\": 22.8, \"temp_min\": 15.0, \"wind\": 3.4, \"weather\": \"sun\"}, {\"date\": \"2014-08-30\", \"precipitation\": 8.4, \"temp_max\": 17.8, \"temp_min\": 15.0, \"wind\": 2.2, \"weather\": \"fog\"}, {\"date\": \"2014-08-31\", \"precipitation\": 1.3, \"temp_max\": 21.1, \"temp_min\": 13.9, \"wind\": 1.9, \"weather\": \"fog\"}, {\"date\": \"2014-09-01\", \"precipitation\": 0.0, \"temp_max\": 23.3, \"temp_min\": 12.8, \"wind\": 2.5, \"weather\": \"sun\"}, {\"date\": \"2014-09-02\", \"precipitation\": 3.0, \"temp_max\": 20.0, \"temp_min\": 13.9, \"wind\": 4.3, \"weather\": \"fog\"}, {\"date\": \"2014-09-03\", \"precipitation\": 0.0, \"temp_max\": 20.6, \"temp_min\": 12.8, \"wind\": 2.7, \"weather\": \"sun\"}, {\"date\": \"2014-09-04\", \"precipitation\": 0.0, \"temp_max\": 23.9, \"temp_min\": 11.1, \"wind\": 3.1, \"weather\": \"fog\"}, {\"date\": \"2014-09-05\", \"precipitation\": 0.0, \"temp_max\": 27.8, \"temp_min\": 13.9, \"wind\": 6.5, \"weather\": \"fog\"}, {\"date\": \"2014-09-06\", \"precipitation\": 0.0, \"temp_max\": 32.2, \"temp_min\": 15.0, \"wind\": 2.9, \"weather\": \"sun\"}, {\"date\": \"2014-09-07\", \"precipitation\": 0.0, \"temp_max\": 28.3, \"temp_min\": 13.3, \"wind\": 2.1, \"weather\": \"sun\"}, {\"date\": \"2014-09-08\", \"precipitation\": 0.0, \"temp_max\": 21.1, \"temp_min\": 13.3, \"wind\": 2.8, \"weather\": \"sun\"}, {\"date\": \"2014-09-09\", \"precipitation\": 0.0, \"temp_max\": 21.7, \"temp_min\": 13.3, \"wind\": 2.3, \"weather\": \"sun\"}, {\"date\": \"2014-09-10\", \"precipitation\": 0.0, \"temp_max\": 22.2, \"temp_min\": 12.2, \"wind\": 3.9, \"weather\": \"sun\"}, {\"date\": \"2014-09-11\", \"precipitation\": 0.0, \"temp_max\": 24.4, \"temp_min\": 12.8, \"wind\": 5.3, \"weather\": \"sun\"}, {\"date\": \"2014-09-12\", \"precipitation\": 0.0, \"temp_max\": 24.4, \"temp_min\": 12.8, \"wind\": 5.9, \"weather\": \"sun\"}, {\"date\": \"2014-09-13\", \"precipitation\": 0.0, \"temp_max\": 28.3, \"temp_min\": 10.0, \"wind\": 4.2, \"weather\": \"sun\"}, {\"date\": \"2014-09-14\", \"precipitation\": 0.0, \"temp_max\": 30.0, \"temp_min\": 11.7, \"wind\": 1.8, \"weather\": \"sun\"}, {\"date\": \"2014-09-15\", \"precipitation\": 0.0, \"temp_max\": 30.6, \"temp_min\": 12.2, \"wind\": 1.2, \"weather\": \"sun\"}, {\"date\": \"2014-09-16\", \"precipitation\": 0.0, \"temp_max\": 22.2, \"temp_min\": 13.9, \"wind\": 2.8, \"weather\": \"sun\"}, {\"date\": \"2014-09-17\", \"precipitation\": 0.5, \"temp_max\": 22.8, \"temp_min\": 14.4, \"wind\": 2.3, \"weather\": \"sun\"}, {\"date\": \"2014-09-18\", \"precipitation\": 0.3, \"temp_max\": 19.4, \"temp_min\": 15.0, \"wind\": 3.1, \"weather\": \"fog\"}, {\"date\": \"2014-09-19\", \"precipitation\": 0.0, \"temp_max\": 23.9, \"temp_min\": 16.1, \"wind\": 2.8, \"weather\": \"sun\"}, {\"date\": \"2014-09-20\", \"precipitation\": 0.0, \"temp_max\": 24.4, \"temp_min\": 14.4, \"wind\": 4.4, \"weather\": \"fog\"}, {\"date\": \"2014-09-21\", \"precipitation\": 0.0, \"temp_max\": 26.1, \"temp_min\": 12.8, \"wind\": 3.0, \"weather\": \"sun\"}, {\"date\": \"2014-09-22\", \"precipitation\": 0.3, \"temp_max\": 22.2, \"temp_min\": 15.0, \"wind\": 2.1, \"weather\": \"fog\"}, {\"date\": \"2014-09-23\", \"precipitation\": 18.3, \"temp_max\": 18.9, \"temp_min\": 14.4, \"wind\": 2.5, \"weather\": \"fog\"}, {\"date\": \"2014-09-24\", \"precipitation\": 20.3, \"temp_max\": 18.9, \"temp_min\": 14.4, \"wind\": 2.7, \"weather\": \"fog\"}, {\"date\": \"2014-09-25\", \"precipitation\": 4.3, \"temp_max\": 21.7, \"temp_min\": 14.4, \"wind\": 2.5, \"weather\": \"fog\"}, {\"date\": \"2014-09-26\", \"precipitation\": 8.9, \"temp_max\": 20.0, \"temp_min\": 13.9, \"wind\": 3.3, \"weather\": \"fog\"}, {\"date\": \"2014-09-27\", \"precipitation\": 0.0, \"temp_max\": 20.6, \"temp_min\": 11.7, \"wind\": 3.2, \"weather\": \"fog\"}, {\"date\": \"2014-09-28\", \"precipitation\": 0.0, \"temp_max\": 18.9, \"temp_min\": 12.2, \"wind\": 2.0, \"weather\": \"fog\"}, {\"date\": \"2014-09-29\", \"precipitation\": 0.8, \"temp_max\": 16.7, \"temp_min\": 11.1, \"wind\": 3.5, \"weather\": \"fog\"}, {\"date\": \"2014-09-30\", \"precipitation\": 0.0, \"temp_max\": 19.4, \"temp_min\": 12.2, \"wind\": 2.6, \"weather\": \"sun\"}, {\"date\": \"2014-10-01\", \"precipitation\": 0.0, \"temp_max\": 18.3, \"temp_min\": 11.1, \"wind\": 2.1, \"weather\": \"sun\"}, {\"date\": \"2014-10-02\", \"precipitation\": 0.0, \"temp_max\": 19.4, \"temp_min\": 10.0, \"wind\": 2.0, \"weather\": \"sun\"}, {\"date\": \"2014-10-03\", \"precipitation\": 0.0, \"temp_max\": 22.2, \"temp_min\": 8.9, \"wind\": 1.0, \"weather\": \"sun\"}, {\"date\": \"2014-10-04\", \"precipitation\": 0.0, \"temp_max\": 21.7, \"temp_min\": 12.2, \"wind\": 1.2, \"weather\": \"sun\"}, {\"date\": \"2014-10-05\", \"precipitation\": 0.0, \"temp_max\": 23.9, \"temp_min\": 11.7, \"wind\": 1.4, \"weather\": \"fog\"}, {\"date\": \"2014-10-06\", \"precipitation\": 0.0, \"temp_max\": 25.6, \"temp_min\": 13.3, \"wind\": 2.5, \"weather\": \"fog\"}, {\"date\": \"2014-10-07\", \"precipitation\": 0.0, \"temp_max\": 18.9, \"temp_min\": 13.9, \"wind\": 1.0, \"weather\": \"fog\"}, {\"date\": \"2014-10-08\", \"precipitation\": 0.0, \"temp_max\": 20.6, \"temp_min\": 12.8, \"wind\": 1.8, \"weather\": \"fog\"}, {\"date\": \"2014-10-09\", \"precipitation\": 0.0, \"temp_max\": 17.2, \"temp_min\": 11.1, \"wind\": 1.0, \"weather\": \"fog\"}, {\"date\": \"2014-10-10\", \"precipitation\": 0.3, \"temp_max\": 18.3, \"temp_min\": 10.0, \"wind\": 3.8, \"weather\": \"fog\"}, {\"date\": \"2014-10-11\", \"precipitation\": 7.4, \"temp_max\": 18.3, \"temp_min\": 11.7, \"wind\": 3.5, \"weather\": \"rain\"}, {\"date\": \"2014-10-12\", \"precipitation\": 0.0, \"temp_max\": 17.8, \"temp_min\": 11.7, \"wind\": 2.1, \"weather\": \"sun\"}, {\"date\": \"2014-10-13\", \"precipitation\": 7.6, \"temp_max\": 21.1, \"temp_min\": 10.0, \"wind\": 3.1, \"weather\": \"fog\"}, {\"date\": \"2014-10-14\", \"precipitation\": 7.1, \"temp_max\": 16.7, \"temp_min\": 11.7, \"wind\": 2.2, \"weather\": \"fog\"}, {\"date\": \"2014-10-15\", \"precipitation\": 8.6, \"temp_max\": 16.1, \"temp_min\": 11.7, \"wind\": 4.7, \"weather\": \"fog\"}, {\"date\": \"2014-10-16\", \"precipitation\": 0.0, \"temp_max\": 20.6, \"temp_min\": 11.1, \"wind\": 3.3, \"weather\": \"sun\"}, {\"date\": \"2014-10-17\", \"precipitation\": 3.3, \"temp_max\": 16.7, \"temp_min\": 11.7, \"wind\": 3.0, \"weather\": \"fog\"}, {\"date\": \"2014-10-18\", \"precipitation\": 15.0, \"temp_max\": 19.4, \"temp_min\": 13.9, \"wind\": 1.9, \"weather\": \"fog\"}, {\"date\": \"2014-10-19\", \"precipitation\": 0.0, \"temp_max\": 22.2, \"temp_min\": 12.8, \"wind\": 3.2, \"weather\": \"sun\"}, {\"date\": \"2014-10-20\", \"precipitation\": 11.7, \"temp_max\": 16.1, \"temp_min\": 12.2, \"wind\": 3.1, \"weather\": \"fog\"}, {\"date\": \"2014-10-21\", \"precipitation\": 1.0, \"temp_max\": 16.1, \"temp_min\": 11.7, \"wind\": 4.7, \"weather\": \"sun\"}, {\"date\": \"2014-10-22\", \"precipitation\": 32.0, \"temp_max\": 15.6, \"temp_min\": 11.7, \"wind\": 5.0, \"weather\": \"fog\"}, {\"date\": \"2014-10-23\", \"precipitation\": 9.4, \"temp_max\": 14.4, \"temp_min\": 8.3, \"wind\": 4.6, \"weather\": \"sun\"}, {\"date\": \"2014-10-24\", \"precipitation\": 4.1, \"temp_max\": 14.4, \"temp_min\": 8.9, \"wind\": 3.2, \"weather\": \"sun\"}, {\"date\": \"2014-10-25\", \"precipitation\": 6.1, \"temp_max\": 16.7, \"temp_min\": 8.3, \"wind\": 5.4, \"weather\": \"fog\"}, {\"date\": \"2014-10-26\", \"precipitation\": 1.5, \"temp_max\": 12.8, \"temp_min\": 7.8, \"wind\": 5.0, \"weather\": \"fog\"}, {\"date\": \"2014-10-27\", \"precipitation\": 0.8, \"temp_max\": 15.6, \"temp_min\": 6.7, \"wind\": 2.4, \"weather\": \"sun\"}, {\"date\": \"2014-10-28\", \"precipitation\": 12.7, \"temp_max\": 15.0, \"temp_min\": 9.4, \"wind\": 3.9, \"weather\": \"fog\"}, {\"date\": \"2014-10-29\", \"precipitation\": 0.5, \"temp_max\": 16.7, \"temp_min\": 11.7, \"wind\": 3.1, \"weather\": \"fog\"}, {\"date\": \"2014-10-30\", \"precipitation\": 25.4, \"temp_max\": 15.6, \"temp_min\": 11.1, \"wind\": 3.2, \"weather\": \"fog\"}, {\"date\": \"2014-10-31\", \"precipitation\": 17.0, \"temp_max\": 12.8, \"temp_min\": 8.3, \"wind\": 2.0, \"weather\": \"fog\"}, {\"date\": \"2014-11-01\", \"precipitation\": 0.0, \"temp_max\": 11.1, \"temp_min\": 7.2, \"wind\": 1.2, \"weather\": \"fog\"}, {\"date\": \"2014-11-02\", \"precipitation\": 1.8, \"temp_max\": 13.3, \"temp_min\": 7.2, \"wind\": 2.9, \"weather\": \"fog\"}, {\"date\": \"2014-11-03\", \"precipitation\": 10.9, \"temp_max\": 13.9, \"temp_min\": 11.1, \"wind\": 4.8, \"weather\": \"fog\"}, {\"date\": \"2014-11-04\", \"precipitation\": 4.1, \"temp_max\": 14.4, \"temp_min\": 10.6, \"wind\": 3.3, \"weather\": \"fog\"}, {\"date\": \"2014-11-05\", \"precipitation\": 4.8, \"temp_max\": 15.0, \"temp_min\": 10.6, \"wind\": 2.1, \"weather\": \"fog\"}, {\"date\": \"2014-11-06\", \"precipitation\": 4.1, \"temp_max\": 16.7, \"temp_min\": 10.6, \"wind\": 6.7, \"weather\": \"fog\"}, {\"date\": \"2014-11-07\", \"precipitation\": 0.0, \"temp_max\": 14.4, \"temp_min\": 7.2, \"wind\": 2.3, \"weather\": \"sun\"}, {\"date\": \"2014-11-08\", \"precipitation\": 0.0, \"temp_max\": 12.8, \"temp_min\": 3.9, \"wind\": 0.8, \"weather\": \"fog\"}, {\"date\": \"2014-11-09\", \"precipitation\": 5.1, \"temp_max\": 13.3, \"temp_min\": 7.8, \"wind\": 3.0, \"weather\": \"fog\"}, {\"date\": \"2014-11-10\", \"precipitation\": 0.0, \"temp_max\": 11.1, \"temp_min\": 5.6, \"wind\": 3.9, \"weather\": \"sun\"}, {\"date\": \"2014-11-11\", \"precipitation\": 0.0, \"temp_max\": 7.8, \"temp_min\": 1.1, \"wind\": 7.7, \"weather\": \"sun\"}, {\"date\": \"2014-11-12\", \"precipitation\": 0.0, \"temp_max\": 6.7, \"temp_min\": 0.0, \"wind\": 7.6, \"weather\": \"sun\"}, {\"date\": \"2014-11-13\", \"precipitation\": 0.0, \"temp_max\": 7.2, \"temp_min\": 0.6, \"wind\": 4.7, \"weather\": \"sun\"}, {\"date\": \"2014-11-14\", \"precipitation\": 0.0, \"temp_max\": 7.2, \"temp_min\": -2.1, \"wind\": 4.5, \"weather\": \"sun\"}, {\"date\": \"2014-11-15\", \"precipitation\": 0.0, \"temp_max\": 8.3, \"temp_min\": -1.6, \"wind\": 4.2, \"weather\": \"sun\"}, {\"date\": \"2014-11-16\", \"precipitation\": 0.0, \"temp_max\": 9.4, \"temp_min\": -2.1, \"wind\": 4.2, \"weather\": \"sun\"}, {\"date\": \"2014-11-17\", \"precipitation\": 0.0, \"temp_max\": 10.6, \"temp_min\": -2.1, \"wind\": 1.9, \"weather\": \"sun\"}, {\"date\": \"2014-11-18\", \"precipitation\": 0.0, \"temp_max\": 7.2, \"temp_min\": -0.5, \"wind\": 0.9, \"weather\": \"sun\"}, {\"date\": \"2014-11-19\", \"precipitation\": 0.0, \"temp_max\": 11.1, \"temp_min\": 2.2, \"wind\": 1.9, \"weather\": \"sun\"}, {\"date\": \"2014-11-20\", \"precipitation\": 3.6, \"temp_max\": 11.1, \"temp_min\": 5.6, \"wind\": 2.1, \"weather\": \"fog\"}, {\"date\": \"2014-11-21\", \"precipitation\": 15.2, \"temp_max\": 11.1, \"temp_min\": 8.3, \"wind\": 4.7, \"weather\": \"fog\"}, {\"date\": \"2014-11-22\", \"precipitation\": 0.5, \"temp_max\": 9.4, \"temp_min\": 6.7, \"wind\": 4.7, \"weather\": \"sun\"}, {\"date\": \"2014-11-23\", \"precipitation\": 11.9, \"temp_max\": 12.8, \"temp_min\": 5.6, \"wind\": 5.1, \"weather\": \"fog\"}, {\"date\": \"2014-11-24\", \"precipitation\": 1.3, \"temp_max\": 11.7, \"temp_min\": 4.4, \"wind\": 3.8, \"weather\": \"fog\"}, {\"date\": \"2014-11-25\", \"precipitation\": 18.3, \"temp_max\": 13.9, \"temp_min\": 9.4, \"wind\": 4.5, \"weather\": \"fog\"}, {\"date\": \"2014-11-26\", \"precipitation\": 0.3, \"temp_max\": 15.0, \"temp_min\": 12.2, \"wind\": 3.9, \"weather\": \"sun\"}, {\"date\": \"2014-11-27\", \"precipitation\": 3.3, \"temp_max\": 14.4, \"temp_min\": 11.7, \"wind\": 6.6, \"weather\": \"fog\"}, {\"date\": \"2014-11-28\", \"precipitation\": 34.3, \"temp_max\": 12.8, \"temp_min\": 3.3, \"wind\": 5.8, \"weather\": \"fog\"}, {\"date\": \"2014-11-29\", \"precipitation\": 3.6, \"temp_max\": 4.4, \"temp_min\": -4.3, \"wind\": 5.3, \"weather\": \"fog\"}, {\"date\": \"2014-11-30\", \"precipitation\": 0.0, \"temp_max\": 2.8, \"temp_min\": -4.9, \"wind\": 4.4, \"weather\": \"sun\"}, {\"date\": \"2014-12-01\", \"precipitation\": 0.0, \"temp_max\": 4.4, \"temp_min\": -3.2, \"wind\": 2.2, \"weather\": \"sun\"}, {\"date\": \"2014-12-02\", \"precipitation\": 0.0, \"temp_max\": 5.6, \"temp_min\": -3.2, \"wind\": 5.7, \"weather\": \"fog\"}, {\"date\": \"2014-12-03\", \"precipitation\": 0.0, \"temp_max\": 10.0, \"temp_min\": 0.0, \"wind\": 3.6, \"weather\": \"sun\"}, {\"date\": \"2014-12-04\", \"precipitation\": 0.8, \"temp_max\": 8.3, \"temp_min\": 3.9, \"wind\": 1.1, \"weather\": \"fog\"}, {\"date\": \"2014-12-05\", \"precipitation\": 3.0, \"temp_max\": 12.8, \"temp_min\": 6.7, \"wind\": 3.1, \"weather\": \"fog\"}, {\"date\": \"2014-12-06\", \"precipitation\": 7.4, \"temp_max\": 11.7, \"temp_min\": 7.8, \"wind\": 3.6, \"weather\": \"fog\"}, {\"date\": \"2014-12-07\", \"precipitation\": 0.0, \"temp_max\": 14.4, \"temp_min\": 6.1, \"wind\": 2.8, \"weather\": \"sun\"}, {\"date\": \"2014-12-08\", \"precipitation\": 9.1, \"temp_max\": 14.4, \"temp_min\": 8.9, \"wind\": 4.2, \"weather\": \"fog\"}, {\"date\": \"2014-12-09\", \"precipitation\": 9.9, \"temp_max\": 16.1, \"temp_min\": 10.6, \"wind\": 5.1, \"weather\": \"fog\"}, {\"date\": \"2014-12-10\", \"precipitation\": 13.0, \"temp_max\": 18.9, \"temp_min\": 10.0, \"wind\": 6.7, \"weather\": \"fog\"}, {\"date\": \"2014-12-11\", \"precipitation\": 6.9, \"temp_max\": 14.4, \"temp_min\": 8.3, \"wind\": 6.4, \"weather\": \"fog\"}, {\"date\": \"2014-12-12\", \"precipitation\": 0.0, \"temp_max\": 11.1, \"temp_min\": 7.2, \"wind\": 3.7, \"weather\": \"sun\"}, {\"date\": \"2014-12-13\", \"precipitation\": 0.0, \"temp_max\": 10.0, \"temp_min\": 3.9, \"wind\": 1.1, \"weather\": \"fog\"}, {\"date\": \"2014-12-14\", \"precipitation\": 0.0, \"temp_max\": 12.8, \"temp_min\": 1.7, \"wind\": 3.5, \"weather\": \"fog\"}, {\"date\": \"2014-12-15\", \"precipitation\": 0.0, \"temp_max\": 12.2, \"temp_min\": 6.7, \"wind\": 5.9, \"weather\": \"sun\"}, {\"date\": \"2014-12-16\", \"precipitation\": 0.0, \"temp_max\": 10.0, \"temp_min\": 8.3, \"wind\": 4.0, \"weather\": \"sun\"}, {\"date\": \"2014-12-17\", \"precipitation\": 2.8, \"temp_max\": 8.9, \"temp_min\": 6.1, \"wind\": 1.6, \"weather\": \"fog\"}, {\"date\": \"2014-12-18\", \"precipitation\": 13.0, \"temp_max\": 9.4, \"temp_min\": 6.7, \"wind\": 3.1, \"weather\": \"fog\"}, {\"date\": \"2014-12-19\", \"precipitation\": 3.0, \"temp_max\": 11.1, \"temp_min\": 7.2, \"wind\": 4.3, \"weather\": \"sun\"}, {\"date\": \"2014-12-20\", \"precipitation\": 19.6, \"temp_max\": 12.8, \"temp_min\": 6.7, \"wind\": 5.5, \"weather\": \"fog\"}, {\"date\": \"2014-12-21\", \"precipitation\": 0.0, \"temp_max\": 12.8, \"temp_min\": 10.0, \"wind\": 5.2, \"weather\": \"sun\"}, {\"date\": \"2014-12-22\", \"precipitation\": 0.0, \"temp_max\": 10.6, \"temp_min\": 6.1, \"wind\": 1.5, \"weather\": \"sun\"}, {\"date\": \"2014-12-23\", \"precipitation\": 20.6, \"temp_max\": 12.2, \"temp_min\": 5.0, \"wind\": 3.8, \"weather\": \"fog\"}, {\"date\": \"2014-12-24\", \"precipitation\": 5.3, \"temp_max\": 7.2, \"temp_min\": 3.9, \"wind\": 1.8, \"weather\": \"fog\"}, {\"date\": \"2014-12-25\", \"precipitation\": 0.0, \"temp_max\": 7.8, \"temp_min\": 2.8, \"wind\": 2.2, \"weather\": \"fog\"}, {\"date\": \"2014-12-26\", \"precipitation\": 0.0, \"temp_max\": 5.6, \"temp_min\": 1.7, \"wind\": 1.2, \"weather\": \"fog\"}, {\"date\": \"2014-12-27\", \"precipitation\": 3.3, \"temp_max\": 9.4, \"temp_min\": 4.4, \"wind\": 4.9, \"weather\": \"fog\"}, {\"date\": \"2014-12-28\", \"precipitation\": 4.1, \"temp_max\": 6.7, \"temp_min\": 2.8, \"wind\": 1.8, \"weather\": \"fog\"}, {\"date\": \"2014-12-29\", \"precipitation\": 0.0, \"temp_max\": 6.1, \"temp_min\": 0.6, \"wind\": 4.3, \"weather\": \"fog\"}, {\"date\": \"2014-12-30\", \"precipitation\": 0.0, \"temp_max\": 3.3, \"temp_min\": -2.1, \"wind\": 3.6, \"weather\": \"sun\"}, {\"date\": \"2014-12-31\", \"precipitation\": 0.0, \"temp_max\": 3.3, \"temp_min\": -2.7, \"wind\": 3.0, \"weather\": \"sun\"}, {\"date\": \"2015-01-01\", \"precipitation\": 0.0, \"temp_max\": 5.6, \"temp_min\": -3.2, \"wind\": 1.2, \"weather\": \"sun\"}, {\"date\": \"2015-01-02\", \"precipitation\": 1.5, \"temp_max\": 5.6, \"temp_min\": 0.0, \"wind\": 2.3, \"weather\": \"fog\"}, {\"date\": \"2015-01-03\", \"precipitation\": 0.0, \"temp_max\": 5.0, \"temp_min\": 1.7, \"wind\": 1.7, \"weather\": \"fog\"}, {\"date\": \"2015-01-04\", \"precipitation\": 10.2, \"temp_max\": 10.6, \"temp_min\": 3.3, \"wind\": 4.5, \"weather\": \"fog\"}, {\"date\": \"2015-01-05\", \"precipitation\": 8.1, \"temp_max\": 12.2, \"temp_min\": 9.4, \"wind\": 6.4, \"weather\": \"fog\"}, {\"date\": \"2015-01-06\", \"precipitation\": 0.0, \"temp_max\": 12.2, \"temp_min\": 6.1, \"wind\": 1.3, \"weather\": \"fog\"}, {\"date\": \"2015-01-07\", \"precipitation\": 0.0, \"temp_max\": 7.8, \"temp_min\": 5.6, \"wind\": 1.6, \"weather\": \"fog\"}, {\"date\": \"2015-01-08\", \"precipitation\": 0.0, \"temp_max\": 7.8, \"temp_min\": 1.7, \"wind\": 2.6, \"weather\": \"fog\"}, {\"date\": \"2015-01-09\", \"precipitation\": 0.3, \"temp_max\": 10.0, \"temp_min\": 3.3, \"wind\": 0.6, \"weather\": \"fog\"}, {\"date\": \"2015-01-10\", \"precipitation\": 5.8, \"temp_max\": 7.8, \"temp_min\": 6.1, \"wind\": 0.5, \"weather\": \"fog\"}, {\"date\": \"2015-01-11\", \"precipitation\": 1.5, \"temp_max\": 9.4, \"temp_min\": 7.2, \"wind\": 1.1, \"weather\": \"fog\"}, {\"date\": \"2015-01-12\", \"precipitation\": 0.0, \"temp_max\": 11.1, \"temp_min\": 4.4, \"wind\": 1.6, \"weather\": \"fog\"}, {\"date\": \"2015-01-13\", \"precipitation\": 0.0, \"temp_max\": 9.4, \"temp_min\": 2.8, \"wind\": 2.7, \"weather\": \"fog\"}, {\"date\": \"2015-01-14\", \"precipitation\": 0.0, \"temp_max\": 6.1, \"temp_min\": 0.6, \"wind\": 2.8, \"weather\": \"fog\"}, {\"date\": \"2015-01-15\", \"precipitation\": 9.7, \"temp_max\": 7.8, \"temp_min\": 1.1, \"wind\": 3.2, \"weather\": \"fog\"}, {\"date\": \"2015-01-16\", \"precipitation\": 0.0, \"temp_max\": 11.7, \"temp_min\": 5.6, \"wind\": 4.5, \"weather\": \"fog\"}, {\"date\": \"2015-01-17\", \"precipitation\": 26.2, \"temp_max\": 13.3, \"temp_min\": 3.3, \"wind\": 2.8, \"weather\": \"fog\"}, {\"date\": \"2015-01-18\", \"precipitation\": 21.3, \"temp_max\": 13.9, \"temp_min\": 7.2, \"wind\": 6.6, \"weather\": \"rain\"}, {\"date\": \"2015-01-19\", \"precipitation\": 0.5, \"temp_max\": 10.0, \"temp_min\": 6.1, \"wind\": 2.8, \"weather\": \"sun\"}, {\"date\": \"2015-01-20\", \"precipitation\": 0.0, \"temp_max\": 10.0, \"temp_min\": 3.3, \"wind\": 3.0, \"weather\": \"fog\"}, {\"date\": \"2015-01-21\", \"precipitation\": 0.0, \"temp_max\": 7.2, \"temp_min\": -0.5, \"wind\": 1.3, \"weather\": \"fog\"}, {\"date\": \"2015-01-22\", \"precipitation\": 0.8, \"temp_max\": 9.4, \"temp_min\": 6.1, \"wind\": 1.3, \"weather\": \"fog\"}, {\"date\": \"2015-01-23\", \"precipitation\": 5.8, \"temp_max\": 12.2, \"temp_min\": 8.3, \"wind\": 2.6, \"weather\": \"fog\"}, {\"date\": \"2015-01-24\", \"precipitation\": 0.5, \"temp_max\": 14.4, \"temp_min\": 11.1, \"wind\": 3.3, \"weather\": \"fog\"}, {\"date\": \"2015-01-25\", \"precipitation\": 0.0, \"temp_max\": 17.2, \"temp_min\": 7.2, \"wind\": 1.4, \"weather\": \"fog\"}, {\"date\": \"2015-01-26\", \"precipitation\": 0.0, \"temp_max\": 16.1, \"temp_min\": 6.1, \"wind\": 2.2, \"weather\": \"fog\"}, {\"date\": \"2015-01-27\", \"precipitation\": 0.8, \"temp_max\": 11.1, \"temp_min\": 8.3, \"wind\": 2.0, \"weather\": \"fog\"}, {\"date\": \"2015-01-28\", \"precipitation\": 0.0, \"temp_max\": 12.2, \"temp_min\": 5.0, \"wind\": 1.8, \"weather\": \"fog\"}, {\"date\": \"2015-01-29\", \"precipitation\": 0.0, \"temp_max\": 12.2, \"temp_min\": 3.3, \"wind\": 2.9, \"weather\": \"sun\"}, {\"date\": \"2015-01-30\", \"precipitation\": 0.0, \"temp_max\": 8.3, \"temp_min\": 1.1, \"wind\": 0.8, \"weather\": \"fog\"}, {\"date\": \"2015-01-31\", \"precipitation\": 0.0, \"temp_max\": 7.2, \"temp_min\": 3.3, \"wind\": 1.9, \"weather\": \"fog\"}, {\"date\": \"2015-02-01\", \"precipitation\": 1.5, \"temp_max\": 9.4, \"temp_min\": 4.4, \"wind\": 2.6, \"weather\": \"fog\"}, {\"date\": \"2015-02-02\", \"precipitation\": 7.4, \"temp_max\": 11.1, \"temp_min\": 5.0, \"wind\": 4.0, \"weather\": \"fog\"}, {\"date\": \"2015-02-03\", \"precipitation\": 1.3, \"temp_max\": 10.0, \"temp_min\": 5.6, \"wind\": 1.9, \"weather\": \"fog\"}, {\"date\": \"2015-02-04\", \"precipitation\": 8.4, \"temp_max\": 10.6, \"temp_min\": 4.4, \"wind\": 1.7, \"weather\": \"fog\"}, {\"date\": \"2015-02-05\", \"precipitation\": 26.2, \"temp_max\": 13.3, \"temp_min\": 8.3, \"wind\": 4.6, \"weather\": \"fog\"}, {\"date\": \"2015-02-06\", \"precipitation\": 17.3, \"temp_max\": 14.4, \"temp_min\": 10.0, \"wind\": 4.5, \"weather\": \"fog\"}, {\"date\": \"2015-02-07\", \"precipitation\": 23.6, \"temp_max\": 12.2, \"temp_min\": 9.4, \"wind\": 4.6, \"weather\": \"fog\"}, {\"date\": \"2015-02-08\", \"precipitation\": 3.6, \"temp_max\": 15.0, \"temp_min\": 8.3, \"wind\": 3.9, \"weather\": \"fog\"}, {\"date\": \"2015-02-09\", \"precipitation\": 6.1, \"temp_max\": 13.3, \"temp_min\": 8.3, \"wind\": 2.5, \"weather\": \"fog\"}, {\"date\": \"2015-02-10\", \"precipitation\": 0.3, \"temp_max\": 12.8, \"temp_min\": 8.3, \"wind\": 4.0, \"weather\": \"fog\"}, {\"date\": \"2015-02-11\", \"precipitation\": 0.0, \"temp_max\": 12.8, \"temp_min\": 5.6, \"wind\": 1.0, \"weather\": \"fog\"}, {\"date\": \"2015-02-12\", \"precipitation\": 1.0, \"temp_max\": 16.7, \"temp_min\": 9.4, \"wind\": 2.1, \"weather\": \"sun\"}, {\"date\": \"2015-02-13\", \"precipitation\": 0.0, \"temp_max\": 15.6, \"temp_min\": 6.7, \"wind\": 1.7, \"weather\": \"fog\"}, {\"date\": \"2015-02-14\", \"precipitation\": 0.3, \"temp_max\": 14.4, \"temp_min\": 6.7, \"wind\": 2.9, \"weather\": \"fog\"}, {\"date\": \"2015-02-15\", \"precipitation\": 0.0, \"temp_max\": 12.2, \"temp_min\": 3.9, \"wind\": 4.8, \"weather\": \"sun\"}, {\"date\": \"2015-02-16\", \"precipitation\": 0.0, \"temp_max\": 15.0, \"temp_min\": 5.6, \"wind\": 6.6, \"weather\": \"fog\"}, {\"date\": \"2015-02-17\", \"precipitation\": 0.0, \"temp_max\": 16.1, \"temp_min\": 4.4, \"wind\": 4.0, \"weather\": \"sun\"}, {\"date\": \"2015-02-18\", \"precipitation\": 0.0, \"temp_max\": 12.2, \"temp_min\": 4.4, \"wind\": 2.6, \"weather\": \"sun\"}, {\"date\": \"2015-02-19\", \"precipitation\": 4.6, \"temp_max\": 10.6, \"temp_min\": 8.3, \"wind\": 2.2, \"weather\": \"fog\"}, {\"date\": \"2015-02-20\", \"precipitation\": 0.8, \"temp_max\": 11.1, \"temp_min\": 7.2, \"wind\": 0.9, \"weather\": \"fog\"}, {\"date\": \"2015-02-21\", \"precipitation\": 0.0, \"temp_max\": 12.2, \"temp_min\": 5.6, \"wind\": 4.5, \"weather\": \"sun\"}, {\"date\": \"2015-02-22\", \"precipitation\": 0.0, \"temp_max\": 11.7, \"temp_min\": 3.3, \"wind\": 4.2, \"weather\": \"sun\"}, {\"date\": \"2015-02-23\", \"precipitation\": 0.0, \"temp_max\": 12.8, \"temp_min\": 0.6, \"wind\": 1.4, \"weather\": \"sun\"}, {\"date\": \"2015-02-24\", \"precipitation\": 0.0, \"temp_max\": 11.1, \"temp_min\": 2.2, \"wind\": 1.5, \"weather\": \"sun\"}, {\"date\": \"2015-02-25\", \"precipitation\": 4.1, \"temp_max\": 10.0, \"temp_min\": 6.7, \"wind\": 1.0, \"weather\": \"fog\"}, {\"date\": \"2015-02-26\", \"precipitation\": 9.4, \"temp_max\": 11.7, \"temp_min\": 7.8, \"wind\": 1.4, \"weather\": \"fog\"}, {\"date\": \"2015-02-27\", \"precipitation\": 18.3, \"temp_max\": 10.0, \"temp_min\": 6.7, \"wind\": 4.0, \"weather\": \"fog\"}, {\"date\": \"2015-02-28\", \"precipitation\": 0.0, \"temp_max\": 12.2, \"temp_min\": 3.3, \"wind\": 5.1, \"weather\": \"sun\"}, {\"date\": \"2015-03-01\", \"precipitation\": 0.0, \"temp_max\": 11.1, \"temp_min\": 1.1, \"wind\": 2.2, \"weather\": \"sun\"}, {\"date\": \"2015-03-02\", \"precipitation\": 0.0, \"temp_max\": 11.1, \"temp_min\": 4.4, \"wind\": 4.8, \"weather\": \"sun\"}, {\"date\": \"2015-03-03\", \"precipitation\": 0.0, \"temp_max\": 10.6, \"temp_min\": 0.0, \"wind\": 2.1, \"weather\": \"sun\"}, {\"date\": \"2015-03-04\", \"precipitation\": 0.0, \"temp_max\": 12.8, \"temp_min\": -0.5, \"wind\": 1.8, \"weather\": \"sun\"}, {\"date\": \"2015-03-05\", \"precipitation\": 0.0, \"temp_max\": 13.3, \"temp_min\": 2.8, \"wind\": 1.3, \"weather\": \"sun\"}, {\"date\": \"2015-03-06\", \"precipitation\": 0.0, \"temp_max\": 15.0, \"temp_min\": 3.3, \"wind\": 1.4, \"weather\": \"sun\"}, {\"date\": \"2015-03-07\", \"precipitation\": 0.0, \"temp_max\": 16.7, \"temp_min\": 3.9, \"wind\": 2.7, \"weather\": \"fog\"}, {\"date\": \"2015-03-08\", \"precipitation\": 0.0, \"temp_max\": 17.2, \"temp_min\": 3.9, \"wind\": 1.7, \"weather\": \"fog\"}, {\"date\": \"2015-03-09\", \"precipitation\": 0.0, \"temp_max\": 14.4, \"temp_min\": 4.4, \"wind\": 1.8, \"weather\": \"fog\"}, {\"date\": \"2015-03-10\", \"precipitation\": 0.8, \"temp_max\": 13.3, \"temp_min\": 5.0, \"wind\": 2.6, \"weather\": \"fog\"}, {\"date\": \"2015-03-11\", \"precipitation\": 2.5, \"temp_max\": 14.4, \"temp_min\": 8.9, \"wind\": 3.1, \"weather\": \"fog\"}, {\"date\": \"2015-03-12\", \"precipitation\": 0.0, \"temp_max\": 17.8, \"temp_min\": 9.4, \"wind\": 3.2, \"weather\": \"sun\"}, {\"date\": \"2015-03-13\", \"precipitation\": 2.0, \"temp_max\": 17.2, \"temp_min\": 7.8, \"wind\": 2.2, \"weather\": \"sun\"}, {\"date\": \"2015-03-14\", \"precipitation\": 17.0, \"temp_max\": 13.9, \"temp_min\": 9.4, \"wind\": 3.8, \"weather\": \"fog\"}, {\"date\": \"2015-03-15\", \"precipitation\": 55.9, \"temp_max\": 10.6, \"temp_min\": 6.1, \"wind\": 4.2, \"weather\": \"fog\"}, {\"date\": \"2015-03-16\", \"precipitation\": 1.0, \"temp_max\": 13.9, \"temp_min\": 6.1, \"wind\": 3.0, \"weather\": \"fog\"}, {\"date\": \"2015-03-17\", \"precipitation\": 0.8, \"temp_max\": 13.3, \"temp_min\": 4.4, \"wind\": 2.6, \"weather\": \"sun\"}, {\"date\": \"2015-03-18\", \"precipitation\": 0.0, \"temp_max\": 15.6, \"temp_min\": 7.2, \"wind\": 2.5, \"weather\": \"sun\"}, {\"date\": \"2015-03-19\", \"precipitation\": 0.0, \"temp_max\": 15.6, \"temp_min\": 8.3, \"wind\": 1.9, \"weather\": \"sun\"}, {\"date\": \"2015-03-20\", \"precipitation\": 4.1, \"temp_max\": 13.9, \"temp_min\": 8.9, \"wind\": 1.9, \"weather\": \"sun\"}, {\"date\": \"2015-03-21\", \"precipitation\": 3.8, \"temp_max\": 13.3, \"temp_min\": 8.3, \"wind\": 4.7, \"weather\": \"fog\"}, {\"date\": \"2015-03-22\", \"precipitation\": 1.0, \"temp_max\": 11.7, \"temp_min\": 6.1, \"wind\": 2.3, \"weather\": \"sun\"}, {\"date\": \"2015-03-23\", \"precipitation\": 8.1, \"temp_max\": 11.1, \"temp_min\": 5.6, \"wind\": 2.8, \"weather\": \"fog\"}, {\"date\": \"2015-03-24\", \"precipitation\": 7.6, \"temp_max\": 12.8, \"temp_min\": 6.1, \"wind\": 3.9, \"weather\": \"fog\"}, {\"date\": \"2015-03-25\", \"precipitation\": 5.1, \"temp_max\": 14.4, \"temp_min\": 7.2, \"wind\": 4.4, \"weather\": \"fog\"}, {\"date\": \"2015-03-26\", \"precipitation\": 0.0, \"temp_max\": 20.6, \"temp_min\": 10.0, \"wind\": 2.2, \"weather\": \"sun\"}, {\"date\": \"2015-03-27\", \"precipitation\": 1.0, \"temp_max\": 18.3, \"temp_min\": 8.9, \"wind\": 4.0, \"weather\": \"fog\"}, {\"date\": \"2015-03-28\", \"precipitation\": 0.0, \"temp_max\": 15.6, \"temp_min\": 9.4, \"wind\": 5.7, \"weather\": \"sun\"}, {\"date\": \"2015-03-29\", \"precipitation\": 0.0, \"temp_max\": 15.6, \"temp_min\": 8.9, \"wind\": 3.0, \"weather\": \"sun\"}, {\"date\": \"2015-03-30\", \"precipitation\": 1.8, \"temp_max\": 17.8, \"temp_min\": 10.6, \"wind\": 2.9, \"weather\": \"fog\"}, {\"date\": \"2015-03-31\", \"precipitation\": 1.0, \"temp_max\": 12.8, \"temp_min\": 6.1, \"wind\": 4.2, \"weather\": \"fog\"}, {\"date\": \"2015-04-01\", \"precipitation\": 5.1, \"temp_max\": 12.8, \"temp_min\": 5.6, \"wind\": 3.2, \"weather\": \"rain\"}, {\"date\": \"2015-04-02\", \"precipitation\": 0.0, \"temp_max\": 13.3, \"temp_min\": 5.6, \"wind\": 2.4, \"weather\": \"sun\"}, {\"date\": \"2015-04-03\", \"precipitation\": 1.5, \"temp_max\": 11.1, \"temp_min\": 5.0, \"wind\": 3.6, \"weather\": \"fog\"}, {\"date\": \"2015-04-04\", \"precipitation\": 0.0, \"temp_max\": 12.8, \"temp_min\": 3.9, \"wind\": 1.7, \"weather\": \"sun\"}, {\"date\": \"2015-04-05\", \"precipitation\": 0.0, \"temp_max\": 16.7, \"temp_min\": 2.8, \"wind\": 2.4, \"weather\": \"sun\"}, {\"date\": \"2015-04-06\", \"precipitation\": 1.0, \"temp_max\": 13.9, \"temp_min\": 6.7, \"wind\": 3.5, \"weather\": \"sun\"}, {\"date\": \"2015-04-07\", \"precipitation\": 0.5, \"temp_max\": 14.4, \"temp_min\": 6.7, \"wind\": 3.9, \"weather\": \"sun\"}, {\"date\": \"2015-04-08\", \"precipitation\": 0.0, \"temp_max\": 17.2, \"temp_min\": 6.1, \"wind\": 1.7, \"weather\": \"sun\"}, {\"date\": \"2015-04-09\", \"precipitation\": 0.0, \"temp_max\": 17.2, \"temp_min\": 6.1, \"wind\": 2.3, \"weather\": \"sun\"}, {\"date\": \"2015-04-10\", \"precipitation\": 10.9, \"temp_max\": 13.9, \"temp_min\": 7.8, \"wind\": 4.6, \"weather\": \"fog\"}, {\"date\": \"2015-04-11\", \"precipitation\": 0.0, \"temp_max\": 11.7, \"temp_min\": 5.6, \"wind\": 6.5, \"weather\": \"sun\"}, {\"date\": \"2015-04-12\", \"precipitation\": 0.0, \"temp_max\": 13.3, \"temp_min\": 5.6, \"wind\": 3.6, \"weather\": \"sun\"}, {\"date\": \"2015-04-13\", \"precipitation\": 14.0, \"temp_max\": 11.7, \"temp_min\": 3.9, \"wind\": 3.6, \"weather\": \"fog\"}, {\"date\": \"2015-04-14\", \"precipitation\": 3.3, \"temp_max\": 11.7, \"temp_min\": 2.8, \"wind\": 3.3, \"weather\": \"sun\"}, {\"date\": \"2015-04-15\", \"precipitation\": 0.0, \"temp_max\": 13.9, \"temp_min\": 3.3, \"wind\": 2.4, \"weather\": \"sun\"}, {\"date\": \"2015-04-16\", \"precipitation\": 0.0, \"temp_max\": 17.8, \"temp_min\": 3.9, \"wind\": 3.1, \"weather\": \"sun\"}, {\"date\": \"2015-04-17\", \"precipitation\": 0.0, \"temp_max\": 18.9, \"temp_min\": 6.1, \"wind\": 3.6, \"weather\": \"sun\"}, {\"date\": \"2015-04-18\", \"precipitation\": 0.0, \"temp_max\": 18.9, \"temp_min\": 8.3, \"wind\": 3.9, \"weather\": \"sun\"}, {\"date\": \"2015-04-19\", \"precipitation\": 0.0, \"temp_max\": 21.1, \"temp_min\": 8.3, \"wind\": 3.6, \"weather\": \"sun\"}, {\"date\": \"2015-04-20\", \"precipitation\": 0.0, \"temp_max\": 22.8, \"temp_min\": 7.8, \"wind\": 2.6, \"weather\": \"sun\"}, {\"date\": \"2015-04-21\", \"precipitation\": 5.6, \"temp_max\": 17.2, \"temp_min\": 6.7, \"wind\": 3.4, \"weather\": \"fog\"}, {\"date\": \"2015-04-22\", \"precipitation\": 0.0, \"temp_max\": 15.6, \"temp_min\": 5.0, \"wind\": 2.3, \"weather\": \"sun\"}, {\"date\": \"2015-04-23\", \"precipitation\": 3.0, \"temp_max\": 12.2, \"temp_min\": 6.7, \"wind\": 4.1, \"weather\": \"fog\"}, {\"date\": \"2015-04-24\", \"precipitation\": 3.3, \"temp_max\": 12.2, \"temp_min\": 6.1, \"wind\": 5.0, \"weather\": \"fog\"}, {\"date\": \"2015-04-25\", \"precipitation\": 1.3, \"temp_max\": 13.3, \"temp_min\": 5.6, \"wind\": 3.0, \"weather\": \"fog\"}, {\"date\": \"2015-04-26\", \"precipitation\": 0.0, \"temp_max\": 15.6, \"temp_min\": 4.4, \"wind\": 2.7, \"weather\": \"fog\"}, {\"date\": \"2015-04-27\", \"precipitation\": 0.3, \"temp_max\": 25.0, \"temp_min\": 10.6, \"wind\": 2.3, \"weather\": \"fog\"}, {\"date\": \"2015-04-28\", \"precipitation\": 1.8, \"temp_max\": 15.6, \"temp_min\": 8.9, \"wind\": 4.3, \"weather\": \"fog\"}, {\"date\": \"2015-04-29\", \"precipitation\": 0.0, \"temp_max\": 16.1, \"temp_min\": 7.2, \"wind\": 4.7, \"weather\": \"sun\"}, {\"date\": \"2015-04-30\", \"precipitation\": 0.0, \"temp_max\": 17.2, \"temp_min\": 7.8, \"wind\": 2.1, \"weather\": \"sun\"}, {\"date\": \"2015-05-01\", \"precipitation\": 0.0, \"temp_max\": 18.3, \"temp_min\": 8.9, \"wind\": 3.7, \"weather\": \"sun\"}, {\"date\": \"2015-05-02\", \"precipitation\": 0.0, \"temp_max\": 18.3, \"temp_min\": 7.8, \"wind\": 3.7, \"weather\": \"sun\"}, {\"date\": \"2015-05-03\", \"precipitation\": 0.0, \"temp_max\": 20.6, \"temp_min\": 7.8, \"wind\": 2.6, \"weather\": \"sun\"}, {\"date\": \"2015-05-04\", \"precipitation\": 0.0, \"temp_max\": 17.2, \"temp_min\": 7.2, \"wind\": 5.2, \"weather\": \"sun\"}, {\"date\": \"2015-05-05\", \"precipitation\": 6.1, \"temp_max\": 14.4, \"temp_min\": 7.2, \"wind\": 5.1, \"weather\": \"fog\"}, {\"date\": \"2015-05-06\", \"precipitation\": 0.0, \"temp_max\": 16.7, \"temp_min\": 7.2, \"wind\": 2.6, \"weather\": \"fog\"}, {\"date\": \"2015-05-07\", \"precipitation\": 0.0, \"temp_max\": 20.6, \"temp_min\": 6.1, \"wind\": 3.0, \"weather\": \"sun\"}, {\"date\": \"2015-05-08\", \"precipitation\": 0.0, \"temp_max\": 23.9, \"temp_min\": 8.3, \"wind\": 3.0, \"weather\": \"sun\"}, {\"date\": \"2015-05-09\", \"precipitation\": 0.0, \"temp_max\": 26.7, \"temp_min\": 9.4, \"wind\": 2.6, \"weather\": \"sun\"}, {\"date\": \"2015-05-10\", \"precipitation\": 0.0, \"temp_max\": 19.4, \"temp_min\": 11.1, \"wind\": 2.8, \"weather\": \"sun\"}, {\"date\": \"2015-05-11\", \"precipitation\": 0.0, \"temp_max\": 13.9, \"temp_min\": 10.0, \"wind\": 2.5, \"weather\": \"fog\"}, {\"date\": \"2015-05-12\", \"precipitation\": 4.3, \"temp_max\": 15.6, \"temp_min\": 10.6, \"wind\": 3.3, \"weather\": \"fog\"}, {\"date\": \"2015-05-13\", \"precipitation\": 4.1, \"temp_max\": 12.2, \"temp_min\": 10.0, \"wind\": 2.8, \"weather\": \"fog\"}, {\"date\": \"2015-05-14\", \"precipitation\": 0.3, \"temp_max\": 17.8, \"temp_min\": 9.4, \"wind\": 2.0, \"weather\": \"fog\"}, {\"date\": \"2015-05-15\", \"precipitation\": 0.0, \"temp_max\": 20.0, \"temp_min\": 9.4, \"wind\": 2.8, \"weather\": \"fog\"}, {\"date\": \"2015-05-16\", \"precipitation\": 0.0, \"temp_max\": 15.6, \"temp_min\": 11.1, \"wind\": 3.0, \"weather\": \"sun\"}, {\"date\": \"2015-05-17\", \"precipitation\": 0.0, \"temp_max\": 19.4, \"temp_min\": 10.6, \"wind\": 2.1, \"weather\": \"sun\"}, {\"date\": \"2015-05-18\", \"precipitation\": 0.0, \"temp_max\": 25.6, \"temp_min\": 12.2, \"wind\": 3.0, \"weather\": \"sun\"}, {\"date\": \"2015-05-19\", \"precipitation\": 0.0, \"temp_max\": 21.7, \"temp_min\": 11.7, \"wind\": 2.6, \"weather\": \"sun\"}, {\"date\": \"2015-05-20\", \"precipitation\": 0.0, \"temp_max\": 23.3, \"temp_min\": 10.6, \"wind\": 1.8, \"weather\": \"fog\"}, {\"date\": \"2015-05-21\", \"precipitation\": 0.0, \"temp_max\": 25.6, \"temp_min\": 11.7, \"wind\": 2.1, \"weather\": \"sun\"}, {\"date\": \"2015-05-22\", \"precipitation\": 0.0, \"temp_max\": 16.7, \"temp_min\": 11.7, \"wind\": 3.7, \"weather\": \"sun\"}, {\"date\": \"2015-05-23\", \"precipitation\": 0.0, \"temp_max\": 16.1, \"temp_min\": 11.7, \"wind\": 2.6, \"weather\": \"sun\"}, {\"date\": \"2015-05-24\", \"precipitation\": 0.0, \"temp_max\": 17.8, \"temp_min\": 11.1, \"wind\": 2.7, \"weather\": \"sun\"}, {\"date\": \"2015-05-25\", \"precipitation\": 0.0, \"temp_max\": 15.6, \"temp_min\": 11.1, \"wind\": 2.7, \"weather\": \"sun\"}, {\"date\": \"2015-05-26\", \"precipitation\": 0.0, \"temp_max\": 21.7, \"temp_min\": 11.7, \"wind\": 2.1, \"weather\": \"sun\"}, {\"date\": \"2015-05-27\", \"precipitation\": 0.0, \"temp_max\": 24.4, \"temp_min\": 11.7, \"wind\": 1.8, \"weather\": \"sun\"}, {\"date\": \"2015-05-28\", \"precipitation\": 0.0, \"temp_max\": 27.8, \"temp_min\": 12.2, \"wind\": 2.1, \"weather\": \"sun\"}, {\"date\": \"2015-05-29\", \"precipitation\": 0.0, \"temp_max\": 26.1, \"temp_min\": 12.8, \"wind\": 2.5, \"weather\": \"sun\"}, {\"date\": \"2015-05-30\", \"precipitation\": 0.0, \"temp_max\": 22.8, \"temp_min\": 10.0, \"wind\": 2.5, \"weather\": \"sun\"}, {\"date\": \"2015-05-31\", \"precipitation\": 0.0, \"temp_max\": 25.0, \"temp_min\": 11.7, \"wind\": 2.2, \"weather\": \"sun\"}, {\"date\": \"2015-06-01\", \"precipitation\": 4.6, \"temp_max\": 16.1, \"temp_min\": 11.7, \"wind\": 3.4, \"weather\": \"fog\"}, {\"date\": \"2015-06-02\", \"precipitation\": 0.5, \"temp_max\": 17.8, \"temp_min\": 12.8, \"wind\": 5.0, \"weather\": \"sun\"}, {\"date\": \"2015-06-03\", \"precipitation\": 0.0, \"temp_max\": 20.0, \"temp_min\": 11.7, \"wind\": 3.0, \"weather\": \"sun\"}, {\"date\": \"2015-06-04\", \"precipitation\": 0.0, \"temp_max\": 22.8, \"temp_min\": 11.7, \"wind\": 3.9, \"weather\": \"sun\"}, {\"date\": \"2015-06-05\", \"precipitation\": 0.0, \"temp_max\": 26.7, \"temp_min\": 12.8, \"wind\": 4.3, \"weather\": \"sun\"}, {\"date\": \"2015-06-06\", \"precipitation\": 0.0, \"temp_max\": 29.4, \"temp_min\": 13.3, \"wind\": 2.6, \"weather\": \"sun\"}, {\"date\": \"2015-06-07\", \"precipitation\": 0.0, \"temp_max\": 31.1, \"temp_min\": 15.6, \"wind\": 3.2, \"weather\": \"sun\"}, {\"date\": \"2015-06-08\", \"precipitation\": 0.0, \"temp_max\": 30.6, \"temp_min\": 14.4, \"wind\": 3.5, \"weather\": \"sun\"}, {\"date\": \"2015-06-09\", \"precipitation\": 0.0, \"temp_max\": 28.9, \"temp_min\": 14.4, \"wind\": 2.7, \"weather\": \"sun\"}, {\"date\": \"2015-06-10\", \"precipitation\": 0.0, \"temp_max\": 25.6, \"temp_min\": 11.1, \"wind\": 3.0, \"weather\": \"sun\"}, {\"date\": \"2015-06-11\", \"precipitation\": 0.0, \"temp_max\": 24.4, \"temp_min\": 11.1, \"wind\": 3.5, \"weather\": \"sun\"}, {\"date\": \"2015-06-12\", \"precipitation\": 0.0, \"temp_max\": 20.0, \"temp_min\": 11.7, \"wind\": 2.3, \"weather\": \"sun\"}, {\"date\": \"2015-06-13\", \"precipitation\": 0.0, \"temp_max\": 23.9, \"temp_min\": 9.4, \"wind\": 2.6, \"weather\": \"sun\"}, {\"date\": \"2015-06-14\", \"precipitation\": 0.0, \"temp_max\": 27.8, \"temp_min\": 11.7, \"wind\": 3.7, \"weather\": \"sun\"}, {\"date\": \"2015-06-15\", \"precipitation\": 0.0, \"temp_max\": 30.0, \"temp_min\": 16.1, \"wind\": 3.5, \"weather\": \"drizzle\"}, {\"date\": \"2015-06-16\", \"precipitation\": 0.0, \"temp_max\": 22.8, \"temp_min\": 11.1, \"wind\": 3.0, \"weather\": \"sun\"}, {\"date\": \"2015-06-17\", \"precipitation\": 0.0, \"temp_max\": 25.0, \"temp_min\": 11.1, \"wind\": 3.1, \"weather\": \"sun\"}, {\"date\": \"2015-06-18\", \"precipitation\": 0.0, \"temp_max\": 24.4, \"temp_min\": 13.9, \"wind\": 3.0, \"weather\": \"sun\"}, {\"date\": \"2015-06-19\", \"precipitation\": 0.5, \"temp_max\": 23.9, \"temp_min\": 13.3, \"wind\": 3.2, \"weather\": \"fog\"}, {\"date\": \"2015-06-20\", \"precipitation\": 0.0, \"temp_max\": 25.0, \"temp_min\": 12.8, \"wind\": 4.3, \"weather\": \"sun\"}, {\"date\": \"2015-06-21\", \"precipitation\": 0.0, \"temp_max\": 25.6, \"temp_min\": 13.9, \"wind\": 3.4, \"weather\": \"sun\"}, {\"date\": \"2015-06-22\", \"precipitation\": 0.0, \"temp_max\": 25.0, \"temp_min\": 12.8, \"wind\": 2.4, \"weather\": \"sun\"}, {\"date\": \"2015-06-23\", \"precipitation\": 0.0, \"temp_max\": 26.1, \"temp_min\": 11.7, \"wind\": 2.4, \"weather\": \"sun\"}, {\"date\": \"2015-06-24\", \"precipitation\": 0.0, \"temp_max\": 25.6, \"temp_min\": 16.1, \"wind\": 2.6, \"weather\": \"sun\"}, {\"date\": \"2015-06-25\", \"precipitation\": 0.0, \"temp_max\": 30.6, \"temp_min\": 15.6, \"wind\": 3.0, \"weather\": \"sun\"}, {\"date\": \"2015-06-26\", \"precipitation\": 0.0, \"temp_max\": 31.7, \"temp_min\": 17.8, \"wind\": 4.7, \"weather\": \"sun\"}, {\"date\": \"2015-06-27\", \"precipitation\": 0.0, \"temp_max\": 33.3, \"temp_min\": 17.2, \"wind\": 3.9, \"weather\": \"sun\"}, {\"date\": \"2015-06-28\", \"precipitation\": 0.3, \"temp_max\": 28.3, \"temp_min\": 18.3, \"wind\": 2.1, \"weather\": \"sun\"}, {\"date\": \"2015-06-29\", \"precipitation\": 0.0, \"temp_max\": 28.9, \"temp_min\": 17.2, \"wind\": 2.7, \"weather\": \"sun\"}, {\"date\": \"2015-06-30\", \"precipitation\": 0.0, \"temp_max\": 30.6, \"temp_min\": 15.0, \"wind\": 3.4, \"weather\": \"fog\"}, {\"date\": \"2015-07-01\", \"precipitation\": 0.0, \"temp_max\": 32.2, \"temp_min\": 17.2, \"wind\": 4.3, \"weather\": \"sun\"}, {\"date\": \"2015-07-02\", \"precipitation\": 0.0, \"temp_max\": 33.9, \"temp_min\": 17.8, \"wind\": 3.4, \"weather\": \"sun\"}, {\"date\": \"2015-07-03\", \"precipitation\": 0.0, \"temp_max\": 33.3, \"temp_min\": 17.8, \"wind\": 2.6, \"weather\": \"sun\"}, {\"date\": \"2015-07-04\", \"precipitation\": 0.0, \"temp_max\": 33.3, \"temp_min\": 15.0, \"wind\": 2.9, \"weather\": \"sun\"}, {\"date\": \"2015-07-05\", \"precipitation\": 0.0, \"temp_max\": 32.8, \"temp_min\": 16.7, \"wind\": 2.1, \"weather\": \"sun\"}, {\"date\": \"2015-07-06\", \"precipitation\": 0.0, \"temp_max\": 29.4, \"temp_min\": 15.6, \"wind\": 3.2, \"weather\": \"drizzle\"}, {\"date\": \"2015-07-07\", \"precipitation\": 0.0, \"temp_max\": 27.2, \"temp_min\": 13.9, \"wind\": 2.4, \"weather\": \"sun\"}, {\"date\": \"2015-07-08\", \"precipitation\": 0.0, \"temp_max\": 30.0, \"temp_min\": 14.4, \"wind\": 1.9, \"weather\": \"drizzle\"}, {\"date\": \"2015-07-09\", \"precipitation\": 0.0, \"temp_max\": 28.9, \"temp_min\": 14.4, \"wind\": 3.4, \"weather\": \"sun\"}, {\"date\": \"2015-07-10\", \"precipitation\": 0.0, \"temp_max\": 21.1, \"temp_min\": 16.7, \"wind\": 3.7, \"weather\": \"sun\"}, {\"date\": \"2015-07-11\", \"precipitation\": 0.0, \"temp_max\": 22.2, \"temp_min\": 16.7, \"wind\": 3.0, \"weather\": \"sun\"}, {\"date\": \"2015-07-12\", \"precipitation\": 0.0, \"temp_max\": 26.1, \"temp_min\": 16.7, \"wind\": 2.2, \"weather\": \"sun\"}, {\"date\": \"2015-07-13\", \"precipitation\": 0.0, \"temp_max\": 25.6, \"temp_min\": 16.1, \"wind\": 3.1, \"weather\": \"sun\"}, {\"date\": \"2015-07-14\", \"precipitation\": 0.0, \"temp_max\": 27.8, \"temp_min\": 16.1, \"wind\": 3.3, \"weather\": \"sun\"}, {\"date\": \"2015-07-15\", \"precipitation\": 0.0, \"temp_max\": 26.1, \"temp_min\": 14.4, \"wind\": 3.2, \"weather\": \"sun\"}, {\"date\": \"2015-07-16\", \"precipitation\": 0.0, \"temp_max\": 26.1, \"temp_min\": 15.0, \"wind\": 2.8, \"weather\": \"sun\"}, {\"date\": \"2015-07-17\", \"precipitation\": 0.0, \"temp_max\": 27.8, \"temp_min\": 13.9, \"wind\": 3.3, \"weather\": \"sun\"}, {\"date\": \"2015-07-18\", \"precipitation\": 0.0, \"temp_max\": 33.3, \"temp_min\": 17.8, \"wind\": 3.4, \"weather\": \"sun\"}, {\"date\": \"2015-07-19\", \"precipitation\": 0.0, \"temp_max\": 35.0, \"temp_min\": 17.2, \"wind\": 3.3, \"weather\": \"sun\"}, {\"date\": \"2015-07-20\", \"precipitation\": 0.0, \"temp_max\": 26.7, \"temp_min\": 16.7, \"wind\": 3.9, \"weather\": \"sun\"}, {\"date\": \"2015-07-21\", \"precipitation\": 0.0, \"temp_max\": 23.9, \"temp_min\": 15.0, \"wind\": 2.4, \"weather\": \"sun\"}, {\"date\": \"2015-07-22\", \"precipitation\": 0.0, \"temp_max\": 23.9, \"temp_min\": 13.9, \"wind\": 2.8, \"weather\": \"sun\"}, {\"date\": \"2015-07-23\", \"precipitation\": 0.0, \"temp_max\": 26.1, \"temp_min\": 14.4, \"wind\": 1.9, \"weather\": \"sun\"}, {\"date\": \"2015-07-24\", \"precipitation\": 0.3, \"temp_max\": 22.8, \"temp_min\": 13.3, \"wind\": 3.8, \"weather\": \"fog\"}, {\"date\": \"2015-07-25\", \"precipitation\": 0.0, \"temp_max\": 21.1, \"temp_min\": 14.4, \"wind\": 2.4, \"weather\": \"fog\"}, {\"date\": \"2015-07-26\", \"precipitation\": 2.0, \"temp_max\": 22.2, \"temp_min\": 13.9, \"wind\": 2.6, \"weather\": \"fog\"}, {\"date\": \"2015-07-27\", \"precipitation\": 0.0, \"temp_max\": 23.3, \"temp_min\": 12.2, \"wind\": 1.9, \"weather\": \"fog\"}, {\"date\": \"2015-07-28\", \"precipitation\": 0.0, \"temp_max\": 27.8, \"temp_min\": 13.9, \"wind\": 3.4, \"weather\": \"sun\"}, {\"date\": \"2015-07-29\", \"precipitation\": 0.0, \"temp_max\": 32.2, \"temp_min\": 14.4, \"wind\": 3.8, \"weather\": \"sun\"}, {\"date\": \"2015-07-30\", \"precipitation\": 0.0, \"temp_max\": 34.4, \"temp_min\": 17.2, \"wind\": 3.5, \"weather\": \"sun\"}, {\"date\": \"2015-07-31\", \"precipitation\": 0.0, \"temp_max\": 34.4, \"temp_min\": 17.8, \"wind\": 2.6, \"weather\": \"sun\"}, {\"date\": \"2015-08-01\", \"precipitation\": 0.0, \"temp_max\": 33.3, \"temp_min\": 15.6, \"wind\": 3.1, \"weather\": \"sun\"}, {\"date\": \"2015-08-02\", \"precipitation\": 0.0, \"temp_max\": 30.6, \"temp_min\": 16.1, \"wind\": 2.0, \"weather\": \"sun\"}, {\"date\": \"2015-08-03\", \"precipitation\": 0.0, \"temp_max\": 28.3, \"temp_min\": 17.2, \"wind\": 2.3, \"weather\": \"sun\"}, {\"date\": \"2015-08-04\", \"precipitation\": 0.0, \"temp_max\": 26.1, \"temp_min\": 14.4, \"wind\": 2.6, \"weather\": \"fog\"}, {\"date\": \"2015-08-05\", \"precipitation\": 0.0, \"temp_max\": 23.3, \"temp_min\": 12.2, \"wind\": 3.5, \"weather\": \"sun\"}, {\"date\": \"2015-08-06\", \"precipitation\": 0.0, \"temp_max\": 25.0, \"temp_min\": 15.0, \"wind\": 2.9, \"weather\": \"sun\"}, {\"date\": \"2015-08-07\", \"precipitation\": 0.0, \"temp_max\": 28.3, \"temp_min\": 15.6, \"wind\": 3.7, \"weather\": \"sun\"}, {\"date\": \"2015-08-08\", \"precipitation\": 0.0, \"temp_max\": 25.0, \"temp_min\": 15.6, \"wind\": 3.6, \"weather\": \"fog\"}, {\"date\": \"2015-08-09\", \"precipitation\": 0.0, \"temp_max\": 28.3, \"temp_min\": 15.0, \"wind\": 2.2, \"weather\": \"sun\"}, {\"date\": \"2015-08-10\", \"precipitation\": 0.0, \"temp_max\": 28.9, \"temp_min\": 16.1, \"wind\": 2.4, \"weather\": \"sun\"}, {\"date\": \"2015-08-11\", \"precipitation\": 0.0, \"temp_max\": 30.0, \"temp_min\": 16.7, \"wind\": 4.4, \"weather\": \"sun\"}, {\"date\": \"2015-08-12\", \"precipitation\": 7.6, \"temp_max\": 28.3, \"temp_min\": 16.7, \"wind\": 2.7, \"weather\": \"rain\"}, {\"date\": \"2015-08-13\", \"precipitation\": 0.0, \"temp_max\": 28.3, \"temp_min\": 15.6, \"wind\": 2.2, \"weather\": \"sun\"}, {\"date\": \"2015-08-14\", \"precipitation\": 30.5, \"temp_max\": 18.3, \"temp_min\": 15.0, \"wind\": 5.2, \"weather\": \"rain\"}, {\"date\": \"2015-08-15\", \"precipitation\": 0.0, \"temp_max\": 21.7, \"temp_min\": 13.9, \"wind\": 3.7, \"weather\": \"sun\"}, {\"date\": \"2015-08-16\", \"precipitation\": 0.0, \"temp_max\": 25.0, \"temp_min\": 14.4, \"wind\": 3.7, \"weather\": \"sun\"}, {\"date\": \"2015-08-17\", \"precipitation\": 0.0, \"temp_max\": 27.2, \"temp_min\": 13.9, \"wind\": 3.0, \"weather\": \"sun\"}, {\"date\": \"2015-08-18\", \"precipitation\": 0.0, \"temp_max\": 30.0, \"temp_min\": 15.0, \"wind\": 3.0, \"weather\": \"sun\"}, {\"date\": \"2015-08-19\", \"precipitation\": 0.0, \"temp_max\": 31.7, \"temp_min\": 16.1, \"wind\": 2.1, \"weather\": \"drizzle\"}, {\"date\": \"2015-08-20\", \"precipitation\": 2.0, \"temp_max\": 22.8, \"temp_min\": 14.4, \"wind\": 4.2, \"weather\": \"fog\"}, {\"date\": \"2015-08-21\", \"precipitation\": 0.0, \"temp_max\": 22.2, \"temp_min\": 14.4, \"wind\": 2.6, \"weather\": \"sun\"}, {\"date\": \"2015-08-22\", \"precipitation\": 0.0, \"temp_max\": 26.7, \"temp_min\": 12.2, \"wind\": 2.5, \"weather\": \"drizzle\"}, {\"date\": \"2015-08-23\", \"precipitation\": 0.0, \"temp_max\": 27.8, \"temp_min\": 13.9, \"wind\": 1.8, \"weather\": \"drizzle\"}, {\"date\": \"2015-08-24\", \"precipitation\": 0.0, \"temp_max\": 23.9, \"temp_min\": 12.2, \"wind\": 2.3, \"weather\": \"sun\"}, {\"date\": \"2015-08-25\", \"precipitation\": 0.0, \"temp_max\": 25.6, \"temp_min\": 12.2, \"wind\": 3.4, \"weather\": \"sun\"}, {\"date\": \"2015-08-26\", \"precipitation\": 0.0, \"temp_max\": 28.3, \"temp_min\": 13.9, \"wind\": 1.7, \"weather\": \"sun\"}, {\"date\": \"2015-08-27\", \"precipitation\": 0.0, \"temp_max\": 29.4, \"temp_min\": 14.4, \"wind\": 2.1, \"weather\": \"sun\"}, {\"date\": \"2015-08-28\", \"precipitation\": 0.5, \"temp_max\": 23.3, \"temp_min\": 15.6, \"wind\": 2.6, \"weather\": \"fog\"}, {\"date\": \"2015-08-29\", \"precipitation\": 32.5, \"temp_max\": 22.2, \"temp_min\": 13.3, \"wind\": 5.8, \"weather\": \"fog\"}, {\"date\": \"2015-08-30\", \"precipitation\": 10.2, \"temp_max\": 20.0, \"temp_min\": 12.8, \"wind\": 4.7, \"weather\": \"fog\"}, {\"date\": \"2015-08-31\", \"precipitation\": 0.0, \"temp_max\": 18.9, \"temp_min\": 16.1, \"wind\": 5.8, \"weather\": \"sun\"}, {\"date\": \"2015-09-01\", \"precipitation\": 5.8, \"temp_max\": 19.4, \"temp_min\": 13.9, \"wind\": 5.0, \"weather\": \"fog\"}, {\"date\": \"2015-09-02\", \"precipitation\": 0.0, \"temp_max\": 19.4, \"temp_min\": 11.1, \"wind\": 3.8, \"weather\": \"sun\"}, {\"date\": \"2015-09-03\", \"precipitation\": 0.0, \"temp_max\": 18.3, \"temp_min\": 10.6, \"wind\": 2.9, \"weather\": \"sun\"}, {\"date\": \"2015-09-04\", \"precipitation\": 0.0, \"temp_max\": 18.3, \"temp_min\": 10.0, \"wind\": 2.9, \"weather\": \"sun\"}, {\"date\": \"2015-09-05\", \"precipitation\": 0.3, \"temp_max\": 20.6, \"temp_min\": 8.9, \"wind\": 3.5, \"weather\": \"sun\"}, {\"date\": \"2015-09-06\", \"precipitation\": 5.3, \"temp_max\": 16.1, \"temp_min\": 11.7, \"wind\": 2.4, \"weather\": \"fog\"}, {\"date\": \"2015-09-07\", \"precipitation\": 0.3, \"temp_max\": 21.1, \"temp_min\": 13.3, \"wind\": 1.5, \"weather\": \"fog\"}, {\"date\": \"2015-09-08\", \"precipitation\": 0.0, \"temp_max\": 22.8, \"temp_min\": 13.3, \"wind\": 2.4, \"weather\": \"sun\"}, {\"date\": \"2015-09-09\", \"precipitation\": 0.0, \"temp_max\": 24.4, \"temp_min\": 13.9, \"wind\": 3.3, \"weather\": \"sun\"}, {\"date\": \"2015-09-10\", \"precipitation\": 0.0, \"temp_max\": 25.0, \"temp_min\": 14.4, \"wind\": 3.6, \"weather\": \"fog\"}, {\"date\": \"2015-09-11\", \"precipitation\": 0.0, \"temp_max\": 27.2, \"temp_min\": 15.0, \"wind\": 3.1, \"weather\": \"sun\"}, {\"date\": \"2015-09-12\", \"precipitation\": 0.0, \"temp_max\": 26.7, \"temp_min\": 14.4, \"wind\": 2.1, \"weather\": \"sun\"}, {\"date\": \"2015-09-13\", \"precipitation\": 0.5, \"temp_max\": 20.6, \"temp_min\": 12.8, \"wind\": 3.0, \"weather\": \"fog\"}, {\"date\": \"2015-09-14\", \"precipitation\": 0.0, \"temp_max\": 16.7, \"temp_min\": 10.6, \"wind\": 3.4, \"weather\": \"sun\"}, {\"date\": \"2015-09-15\", \"precipitation\": 0.0, \"temp_max\": 17.8, \"temp_min\": 10.0, \"wind\": 2.8, \"weather\": \"sun\"}, {\"date\": \"2015-09-16\", \"precipitation\": 1.0, \"temp_max\": 20.0, \"temp_min\": 10.0, \"wind\": 1.9, \"weather\": \"sun\"}, {\"date\": \"2015-09-17\", \"precipitation\": 1.8, \"temp_max\": 18.3, \"temp_min\": 12.8, \"wind\": 3.8, \"weather\": \"fog\"}, {\"date\": \"2015-09-18\", \"precipitation\": 0.0, \"temp_max\": 19.4, \"temp_min\": 12.8, \"wind\": 2.6, \"weather\": \"sun\"}, {\"date\": \"2015-09-19\", \"precipitation\": 0.0, \"temp_max\": 21.1, \"temp_min\": 14.4, \"wind\": 4.3, \"weather\": \"sun\"}, {\"date\": \"2015-09-20\", \"precipitation\": 4.1, \"temp_max\": 22.8, \"temp_min\": 12.2, \"wind\": 6.8, \"weather\": \"fog\"}, {\"date\": \"2015-09-21\", \"precipitation\": 0.0, \"temp_max\": 18.3, \"temp_min\": 9.4, \"wind\": 2.7, \"weather\": \"fog\"}, {\"date\": \"2015-09-22\", \"precipitation\": 0.0, \"temp_max\": 18.9, \"temp_min\": 7.8, \"wind\": 2.0, \"weather\": \"sun\"}, {\"date\": \"2015-09-23\", \"precipitation\": 0.0, \"temp_max\": 20.6, \"temp_min\": 8.3, \"wind\": 1.8, \"weather\": \"sun\"}, {\"date\": \"2015-09-24\", \"precipitation\": 0.0, \"temp_max\": 22.2, \"temp_min\": 11.1, \"wind\": 2.5, \"weather\": \"fog\"}, {\"date\": \"2015-09-25\", \"precipitation\": 2.0, \"temp_max\": 15.6, \"temp_min\": 12.8, \"wind\": 2.6, \"weather\": \"fog\"}, {\"date\": \"2015-09-26\", \"precipitation\": 0.0, \"temp_max\": 18.3, \"temp_min\": 10.0, \"wind\": 2.7, \"weather\": \"sun\"}, {\"date\": \"2015-09-27\", \"precipitation\": 0.0, \"temp_max\": 17.8, \"temp_min\": 7.2, \"wind\": 3.8, \"weather\": \"sun\"}, {\"date\": \"2015-09-28\", \"precipitation\": 0.0, \"temp_max\": 21.1, \"temp_min\": 9.4, \"wind\": 5.1, \"weather\": \"sun\"}, {\"date\": \"2015-09-29\", \"precipitation\": 0.0, \"temp_max\": 21.7, \"temp_min\": 8.9, \"wind\": 1.9, \"weather\": \"sun\"}, {\"date\": \"2015-09-30\", \"precipitation\": 0.0, \"temp_max\": 18.3, \"temp_min\": 10.0, \"wind\": 1.3, \"weather\": \"fog\"}, {\"date\": \"2015-10-01\", \"precipitation\": 0.0, \"temp_max\": 21.1, \"temp_min\": 9.4, \"wind\": 1.3, \"weather\": \"fog\"}, {\"date\": \"2015-10-02\", \"precipitation\": 0.0, \"temp_max\": 15.6, \"temp_min\": 10.0, \"wind\": 2.9, \"weather\": \"fog\"}, {\"date\": \"2015-10-03\", \"precipitation\": 0.0, \"temp_max\": 19.4, \"temp_min\": 11.1, \"wind\": 4.8, \"weather\": \"sun\"}, {\"date\": \"2015-10-04\", \"precipitation\": 0.0, \"temp_max\": 22.8, \"temp_min\": 10.0, \"wind\": 3.7, \"weather\": \"sun\"}, {\"date\": \"2015-10-05\", \"precipitation\": 0.0, \"temp_max\": 23.3, \"temp_min\": 9.4, \"wind\": 1.6, \"weather\": \"sun\"}, {\"date\": \"2015-10-06\", \"precipitation\": 0.0, \"temp_max\": 18.3, \"temp_min\": 10.0, \"wind\": 2.6, \"weather\": \"drizzle\"}, {\"date\": \"2015-10-07\", \"precipitation\": 9.9, \"temp_max\": 16.1, \"temp_min\": 13.9, \"wind\": 2.2, \"weather\": \"fog\"}, {\"date\": \"2015-10-08\", \"precipitation\": 0.0, \"temp_max\": 18.9, \"temp_min\": 13.3, \"wind\": 1.1, \"weather\": \"fog\"}, {\"date\": \"2015-10-09\", \"precipitation\": 0.3, \"temp_max\": 19.4, \"temp_min\": 12.2, \"wind\": 2.6, \"weather\": \"fog\"}, {\"date\": \"2015-10-10\", \"precipitation\": 28.7, \"temp_max\": 21.1, \"temp_min\": 13.3, \"wind\": 4.7, \"weather\": \"fog\"}, {\"date\": \"2015-10-11\", \"precipitation\": 0.0, \"temp_max\": 17.8, \"temp_min\": 10.6, \"wind\": 2.6, \"weather\": \"sun\"}, {\"date\": \"2015-10-12\", \"precipitation\": 4.6, \"temp_max\": 18.3, \"temp_min\": 10.6, \"wind\": 2.8, \"weather\": \"fog\"}, {\"date\": \"2015-10-13\", \"precipitation\": 1.3, \"temp_max\": 16.7, \"temp_min\": 9.4, \"wind\": 3.2, \"weather\": \"fog\"}, {\"date\": \"2015-10-14\", \"precipitation\": 0.0, \"temp_max\": 15.0, \"temp_min\": 10.0, \"wind\": 5.0, \"weather\": \"fog\"}, {\"date\": \"2015-10-15\", \"precipitation\": 0.0, \"temp_max\": 21.1, \"temp_min\": 9.4, \"wind\": 3.4, \"weather\": \"fog\"}, {\"date\": \"2015-10-16\", \"precipitation\": 0.0, \"temp_max\": 20.0, \"temp_min\": 8.9, \"wind\": 1.3, \"weather\": \"sun\"}, {\"date\": \"2015-10-17\", \"precipitation\": 0.3, \"temp_max\": 19.4, \"temp_min\": 11.7, \"wind\": 1.3, \"weather\": \"fog\"}, {\"date\": \"2015-10-18\", \"precipitation\": 3.8, \"temp_max\": 15.0, \"temp_min\": 12.8, \"wind\": 2.0, \"weather\": \"fog\"}, {\"date\": \"2015-10-19\", \"precipitation\": 0.3, \"temp_max\": 17.2, \"temp_min\": 12.2, \"wind\": 2.6, \"weather\": \"fog\"}, {\"date\": \"2015-10-20\", \"precipitation\": 0.0, \"temp_max\": 17.8, \"temp_min\": 10.6, \"wind\": 1.8, \"weather\": \"fog\"}, {\"date\": \"2015-10-21\", \"precipitation\": 0.0, \"temp_max\": 16.1, \"temp_min\": 8.3, \"wind\": 1.3, \"weather\": \"fog\"}, {\"date\": \"2015-10-22\", \"precipitation\": 0.0, \"temp_max\": 16.1, \"temp_min\": 8.9, \"wind\": 2.7, \"weather\": \"fog\"}, {\"date\": \"2015-10-23\", \"precipitation\": 0.0, \"temp_max\": 12.8, \"temp_min\": 7.2, \"wind\": 2.6, \"weather\": \"fog\"}, {\"date\": \"2015-10-24\", \"precipitation\": 0.0, \"temp_max\": 15.0, \"temp_min\": 8.9, \"wind\": 2.9, \"weather\": \"fog\"}, {\"date\": \"2015-10-25\", \"precipitation\": 8.9, \"temp_max\": 19.4, \"temp_min\": 8.9, \"wind\": 3.4, \"weather\": \"rain\"}, {\"date\": \"2015-10-26\", \"precipitation\": 6.9, \"temp_max\": 12.2, \"temp_min\": 10.0, \"wind\": 4.6, \"weather\": \"fog\"}, {\"date\": \"2015-10-27\", \"precipitation\": 0.0, \"temp_max\": 16.1, \"temp_min\": 7.8, \"wind\": 1.7, \"weather\": \"fog\"}, {\"date\": \"2015-10-28\", \"precipitation\": 3.3, \"temp_max\": 13.9, \"temp_min\": 11.1, \"wind\": 2.8, \"weather\": \"fog\"}, {\"date\": \"2015-10-29\", \"precipitation\": 1.8, \"temp_max\": 15.0, \"temp_min\": 12.2, \"wind\": 4.7, \"weather\": \"fog\"}, {\"date\": \"2015-10-30\", \"precipitation\": 19.3, \"temp_max\": 17.2, \"temp_min\": 11.7, \"wind\": 6.7, \"weather\": \"fog\"}, {\"date\": \"2015-10-31\", \"precipitation\": 33.0, \"temp_max\": 15.6, \"temp_min\": 11.7, \"wind\": 7.2, \"weather\": \"fog\"}, {\"date\": \"2015-11-01\", \"precipitation\": 26.2, \"temp_max\": 12.2, \"temp_min\": 8.9, \"wind\": 6.0, \"weather\": \"fog\"}, {\"date\": \"2015-11-02\", \"precipitation\": 0.3, \"temp_max\": 11.1, \"temp_min\": 7.2, \"wind\": 2.8, \"weather\": \"fog\"}, {\"date\": \"2015-11-03\", \"precipitation\": 0.8, \"temp_max\": 10.6, \"temp_min\": 5.0, \"wind\": 1.4, \"weather\": \"fog\"}, {\"date\": \"2015-11-04\", \"precipitation\": 0.0, \"temp_max\": 10.0, \"temp_min\": 3.3, \"wind\": 2.2, \"weather\": \"sun\"}, {\"date\": \"2015-11-05\", \"precipitation\": 1.3, \"temp_max\": 11.7, \"temp_min\": 7.8, \"wind\": 2.3, \"weather\": \"fog\"}, {\"date\": \"2015-11-06\", \"precipitation\": 0.0, \"temp_max\": 15.6, \"temp_min\": 8.3, \"wind\": 2.7, \"weather\": \"fog\"}, {\"date\": \"2015-11-07\", \"precipitation\": 12.7, \"temp_max\": 12.2, \"temp_min\": 9.4, \"wind\": 3.0, \"weather\": \"fog\"}, {\"date\": \"2015-11-08\", \"precipitation\": 6.6, \"temp_max\": 11.1, \"temp_min\": 7.8, \"wind\": 1.8, \"weather\": \"fog\"}, {\"date\": \"2015-11-09\", \"precipitation\": 3.3, \"temp_max\": 10.0, \"temp_min\": 5.0, \"wind\": 1.3, \"weather\": \"fog\"}, {\"date\": \"2015-11-10\", \"precipitation\": 1.3, \"temp_max\": 11.1, \"temp_min\": 3.9, \"wind\": 3.9, \"weather\": \"fog\"}, {\"date\": \"2015-11-11\", \"precipitation\": 1.5, \"temp_max\": 11.1, \"temp_min\": 6.1, \"wind\": 4.6, \"weather\": \"sun\"}, {\"date\": \"2015-11-12\", \"precipitation\": 9.9, \"temp_max\": 11.1, \"temp_min\": 5.0, \"wind\": 5.1, \"weather\": \"fog\"}, {\"date\": \"2015-11-13\", \"precipitation\": 33.5, \"temp_max\": 13.3, \"temp_min\": 9.4, \"wind\": 6.5, \"weather\": \"fog\"}, {\"date\": \"2015-11-14\", \"precipitation\": 47.2, \"temp_max\": 9.4, \"temp_min\": 6.1, \"wind\": 4.5, \"weather\": \"fog\"}, {\"date\": \"2015-11-15\", \"precipitation\": 22.4, \"temp_max\": 8.9, \"temp_min\": 2.2, \"wind\": 4.1, \"weather\": \"fog\"}, {\"date\": \"2015-11-16\", \"precipitation\": 2.0, \"temp_max\": 8.9, \"temp_min\": 1.7, \"wind\": 4.0, \"weather\": \"fog\"}, {\"date\": \"2015-11-17\", \"precipitation\": 29.5, \"temp_max\": 13.3, \"temp_min\": 6.7, \"wind\": 8.0, \"weather\": \"fog\"}, {\"date\": \"2015-11-18\", \"precipitation\": 1.5, \"temp_max\": 8.9, \"temp_min\": 3.3, \"wind\": 3.8, \"weather\": \"sun\"}, {\"date\": \"2015-11-19\", \"precipitation\": 2.0, \"temp_max\": 8.9, \"temp_min\": 2.8, \"wind\": 4.2, \"weather\": \"sun\"}, {\"date\": \"2015-11-20\", \"precipitation\": 0.0, \"temp_max\": 8.3, \"temp_min\": 0.6, \"wind\": 4.0, \"weather\": \"fog\"}, {\"date\": \"2015-11-21\", \"precipitation\": 0.0, \"temp_max\": 8.9, \"temp_min\": 0.6, \"wind\": 4.7, \"weather\": \"sun\"}, {\"date\": \"2015-11-22\", \"precipitation\": 0.0, \"temp_max\": 10.0, \"temp_min\": 1.7, \"wind\": 3.1, \"weather\": \"fog\"}, {\"date\": \"2015-11-23\", \"precipitation\": 3.0, \"temp_max\": 6.7, \"temp_min\": 0.0, \"wind\": 1.3, \"weather\": \"fog\"}, {\"date\": \"2015-11-24\", \"precipitation\": 7.1, \"temp_max\": 6.7, \"temp_min\": 2.8, \"wind\": 4.5, \"weather\": \"fog\"}, {\"date\": \"2015-11-25\", \"precipitation\": 0.0, \"temp_max\": 7.2, \"temp_min\": 0.0, \"wind\": 5.7, \"weather\": \"sun\"}, {\"date\": \"2015-11-26\", \"precipitation\": 0.0, \"temp_max\": 9.4, \"temp_min\": -1.0, \"wind\": 4.3, \"weather\": \"sun\"}, {\"date\": \"2015-11-27\", \"precipitation\": 0.0, \"temp_max\": 9.4, \"temp_min\": -1.6, \"wind\": 3.0, \"weather\": \"sun\"}, {\"date\": \"2015-11-28\", \"precipitation\": 0.0, \"temp_max\": 7.2, \"temp_min\": -2.7, \"wind\": 1.0, \"weather\": \"sun\"}, {\"date\": \"2015-11-29\", \"precipitation\": 0.0, \"temp_max\": 1.7, \"temp_min\": -2.1, \"wind\": 0.9, \"weather\": \"fog\"}, {\"date\": \"2015-11-30\", \"precipitation\": 0.5, \"temp_max\": 5.6, \"temp_min\": -3.8, \"wind\": 1.7, \"weather\": \"fog\"}, {\"date\": \"2015-12-01\", \"precipitation\": 12.2, \"temp_max\": 10.0, \"temp_min\": 3.9, \"wind\": 3.5, \"weather\": \"fog\"}, {\"date\": \"2015-12-02\", \"precipitation\": 2.5, \"temp_max\": 10.6, \"temp_min\": 4.4, \"wind\": 5.0, \"weather\": \"fog\"}, {\"date\": \"2015-12-03\", \"precipitation\": 12.7, \"temp_max\": 15.6, \"temp_min\": 7.8, \"wind\": 5.9, \"weather\": \"fog\"}, {\"date\": \"2015-12-04\", \"precipitation\": 2.0, \"temp_max\": 10.6, \"temp_min\": 6.1, \"wind\": 4.7, \"weather\": \"fog\"}, {\"date\": \"2015-12-05\", \"precipitation\": 15.7, \"temp_max\": 10.0, \"temp_min\": 6.1, \"wind\": 4.0, \"weather\": \"fog\"}, {\"date\": \"2015-12-06\", \"precipitation\": 11.2, \"temp_max\": 12.8, \"temp_min\": 7.2, \"wind\": 5.9, \"weather\": \"fog\"}, {\"date\": \"2015-12-07\", \"precipitation\": 27.4, \"temp_max\": 11.1, \"temp_min\": 8.3, \"wind\": 3.4, \"weather\": \"fog\"}, {\"date\": \"2015-12-08\", \"precipitation\": 54.1, \"temp_max\": 15.6, \"temp_min\": 10.0, \"wind\": 6.2, \"weather\": \"fog\"}, {\"date\": \"2015-12-09\", \"precipitation\": 13.5, \"temp_max\": 12.2, \"temp_min\": 7.8, \"wind\": 6.3, \"weather\": \"fog\"}, {\"date\": \"2015-12-10\", \"precipitation\": 9.4, \"temp_max\": 11.7, \"temp_min\": 6.1, \"wind\": 7.5, \"weather\": \"fog\"}, {\"date\": \"2015-12-11\", \"precipitation\": 0.3, \"temp_max\": 9.4, \"temp_min\": 4.4, \"wind\": 2.8, \"weather\": \"sun\"}, {\"date\": \"2015-12-12\", \"precipitation\": 16.0, \"temp_max\": 8.9, \"temp_min\": 5.6, \"wind\": 5.6, \"weather\": \"fog\"}, {\"date\": \"2015-12-13\", \"precipitation\": 1.3, \"temp_max\": 7.8, \"temp_min\": 6.1, \"wind\": 6.1, \"weather\": \"sun\"}, {\"date\": \"2015-12-14\", \"precipitation\": 0.0, \"temp_max\": 7.8, \"temp_min\": 1.7, \"wind\": 1.7, \"weather\": \"sun\"}, {\"date\": \"2015-12-15\", \"precipitation\": 1.5, \"temp_max\": 6.7, \"temp_min\": 1.1, \"wind\": 2.9, \"weather\": \"fog\"}, {\"date\": \"2015-12-16\", \"precipitation\": 3.6, \"temp_max\": 6.1, \"temp_min\": 2.8, \"wind\": 2.3, \"weather\": \"fog\"}, {\"date\": \"2015-12-17\", \"precipitation\": 21.8, \"temp_max\": 6.7, \"temp_min\": 3.9, \"wind\": 6.0, \"weather\": \"fog\"}, {\"date\": \"2015-12-18\", \"precipitation\": 18.5, \"temp_max\": 8.9, \"temp_min\": 4.4, \"wind\": 5.1, \"weather\": \"fog\"}, {\"date\": \"2015-12-19\", \"precipitation\": 0.0, \"temp_max\": 8.3, \"temp_min\": 2.8, \"wind\": 4.1, \"weather\": \"fog\"}, {\"date\": \"2015-12-20\", \"precipitation\": 4.3, \"temp_max\": 7.8, \"temp_min\": 4.4, \"wind\": 6.7, \"weather\": \"fog\"}, {\"date\": \"2015-12-21\", \"precipitation\": 27.4, \"temp_max\": 5.6, \"temp_min\": 2.8, \"wind\": 4.3, \"weather\": \"fog\"}, {\"date\": \"2015-12-22\", \"precipitation\": 4.6, \"temp_max\": 7.8, \"temp_min\": 2.8, \"wind\": 5.0, \"weather\": \"fog\"}, {\"date\": \"2015-12-23\", \"precipitation\": 6.1, \"temp_max\": 5.0, \"temp_min\": 2.8, \"wind\": 7.6, \"weather\": \"fog\"}, {\"date\": \"2015-12-24\", \"precipitation\": 2.5, \"temp_max\": 5.6, \"temp_min\": 2.2, \"wind\": 4.3, \"weather\": \"fog\"}, {\"date\": \"2015-12-25\", \"precipitation\": 5.8, \"temp_max\": 5.0, \"temp_min\": 2.2, \"wind\": 1.5, \"weather\": \"fog\"}, {\"date\": \"2015-12-26\", \"precipitation\": 0.0, \"temp_max\": 4.4, \"temp_min\": 0.0, \"wind\": 2.5, \"weather\": \"sun\"}, {\"date\": \"2015-12-27\", \"precipitation\": 8.6, \"temp_max\": 4.4, \"temp_min\": 1.7, \"wind\": 2.9, \"weather\": \"fog\"}, {\"date\": \"2015-12-28\", \"precipitation\": 1.5, \"temp_max\": 5.0, \"temp_min\": 1.7, \"wind\": 1.3, \"weather\": \"fog\"}, {\"date\": \"2015-12-29\", \"precipitation\": 0.0, \"temp_max\": 7.2, \"temp_min\": 0.6, \"wind\": 2.6, \"weather\": \"fog\"}, {\"date\": \"2015-12-30\", \"precipitation\": 0.0, \"temp_max\": 5.6, \"temp_min\": -1.0, \"wind\": 3.4, \"weather\": \"sun\"}, {\"date\": \"2015-12-31\", \"precipitation\": 0.0, \"temp_max\": 5.6, \"temp_min\": -2.1, \"wind\": 3.5, \"weather\": \"sun\"}]}, \"mark\": \"bar\", \"encoding\": {\"color\": {\"type\": \"nominal\", \"field\": \"weather\", \"legend\": {\"title\": \"Weather type\"}, \"scale\": {\"domain\": [\"sun\", \"fog\", \"drizzle\", \"rain\", \"snow\"], \"range\": [\"#e7ba42\", \"#c7c7c7\", \"#aec7e8\", \"#1f77b4\", \"#9467bd\"]}}, \"x\": {\"type\": \"nominal\", \"axis\": {\"title\": \"Month of the Year\"}, \"field\": \"date\", \"timeUnit\": \"month\"}, \"y\": {\"type\": \"quantitative\", \"aggregate\": \"count\"}}, \"$schema\": \"https://vega.github.io/schema/vega-lite/v2.4.3.json\"};\n",
              "    var embed_opt = {\"mode\": \"vega-lite\"};\n",
              "\n",
              "    function showError(el, error){\n",
              "        el.innerHTML = ('<div class=\"error\">'\n",
              "                        + '<p>JavaScript Error: ' + error.message + '</p>'\n",
              "                        + \"<p>This usually means there's a typo in your chart specification. \"\n",
              "                        + \"See the javascript console for the full traceback.</p>\"\n",
              "                        + '</div>');\n",
              "        throw error;\n",
              "    }\n",
              "    const el = document.getElementById('vis');\n",
              "    vegaEmbed(\"#vis\", spec, embed_opt)\n",
              "      .catch(error => showError(el, error));\n",
              "  </script>\n",
              "</body>\n",
              "</html>\n"
            ]
          },
          "metadata": {
            "tags": []
          },
          "execution_count": 12
        }
      ]
    },
    {
      "cell_type": "markdown",
      "metadata": {
        "id": "8RXnojZAqXJG",
        "colab_type": "text"
      },
      "source": [
        "##### Descripción del ejemplo\n",
        "\n",
        "Ahora procederemos a explicar línea a línea el código, si alguna ya fue explicada en un gráfico \n",
        "\n",
        "- **Línea 4**\n",
        "\n",
        "```python\n",
        "weather = data.seattle_weather()\n",
        "```\n",
        "Con esta línea, se está guardando en la variable `weather` un DataFrame con datos del clima.\n",
        "\n",
        "----------------\n",
        "- **Línea 6 al 13**\n",
        "\n",
        "```python\n",
        "alt.Color('weather:N',\n",
        "        legend=alt.Legend(title='Weather type'),\n",
        "        scale=alt.Scale(\n",
        "            domain=['sun', 'fog', 'drizzle', 'rain', 'snow'],\n",
        "            range=['#e7ba42', '#c7c7c7', '#aec7e8', '#1f77b4', '#9467bd']\n",
        "        ),\n",
        "    ),```\n",
        "En esta líneas se setea el color del gráfico.\n",
        "1. `weather:N'` : aquí se indica que el color será definido según el valor de la columna_weather_ que es un dato nominal.\n",
        "2. legend=alt.Legend(title='Weather type'): aquí se utiliza un objeto [`legend`](https://altair-viz.github.io/user_guide/API.html#altair.Legend) para definir el título de la leyenda del gráfico.\n",
        "3. scale=alt.Scale(...): aquí se está seteando la escala de colores, en particular, se indica cuales son los valores que serán el dominio (`['sun', 'fog', 'drizzle', 'rain', 'snow']`) y para cada uno, con que color será representado.\n",
        "\n",
        "En caso de omitir el objeto `Color`, estaríamos construyendo un gráfico de barra simple.\n",
        "\n",
        "----------------\n",
        "\n",
        "\n",
        "- **Línea 14 y 15**\n",
        "\n",
        "```python\n",
        "alt.X('month(date):N', axis=alt.Axis(title='Month of the Year')),\n",
        "y='count()',\n",
        "\n",
        "```\n",
        "Estas lineas están seteando cada eje. En la primera se indica que tome el mes de cada fecha (`month(date)`) y que el nombre de ese eje sea _Month of the Year_. En la segunda línea se utiliza una [función de agregación (`count`)](https://altair-viz.github.io/user_guide/encoding.html?#encoding-channel-options) para indicar que tome la cantidad de filas que coindicen con el mes."
      ]
    },
    {
      "cell_type": "markdown",
      "metadata": {
        "id": "J3tqoNKtpNkY",
        "colab_type": "text"
      },
      "source": [
        "#### Actividad 7: _Grouped Bar Chart_\n",
        "Para los inmigrantes de Japón, Haití, Cuba, África o Brasil que fueron censados en: Valdivia, Viña del mar o Puente Alto, indique el total de hijos que tiene cada padre. Utilice la columna _descendencia_."
      ]
    },
    {
      "cell_type": "code",
      "metadata": {
        "id": "_x45dCY5qXg1",
        "colab_type": "code",
        "colab": {}
      },
      "source": [
        ""
      ],
      "execution_count": 0,
      "outputs": []
    },
    {
      "cell_type": "markdown",
      "metadata": {
        "id": "Mb0GiAvoqbaf",
        "colab_type": "text"
      },
      "source": [
        "### Gráficos de línea"
      ]
    },
    {
      "cell_type": "markdown",
      "metadata": {
        "id": "atN_Qyn9qjAb",
        "colab_type": "text"
      },
      "source": [
        "#### Gráfico de línea simple (de barra a línea)\n"
      ]
    },
    {
      "cell_type": "code",
      "metadata": {
        "id": "_jvGGeD6qjS3",
        "colab_type": "code",
        "outputId": "bd3e6455-2932-485d-bde3-ae381b30f3ce",
        "colab": {
          "base_uri": "https://localhost:8080/",
          "height": 387
        }
      },
      "source": [
        "import altair as alt\n",
        "import pandas as pd\n",
        "\n",
        "data = pd.DataFrame({\n",
        "    'a': ['A', 'B', 'C', 'D', 'E', 'F', 'G', 'H', 'I'],\n",
        "    'b': [55, 48, 34, 21, 11, 73, 89, 97, 100]\n",
        "})\n",
        "\n",
        "alt.Chart(data).mark_line().encode(\n",
        "    x='a',\n",
        "    y='b'\n",
        ")"
      ],
      "execution_count": 0,
      "outputs": [
        {
          "output_type": "execute_result",
          "data": {
            "text/plain": [
              "Chart({\n",
              "  data:    a    b\n",
              "  0  A   55\n",
              "  1  B   48\n",
              "  2  C   34\n",
              "  3  D   21\n",
              "  4  E   11\n",
              "  5  F   73\n",
              "  6  G   89\n",
              "  7  H   97\n",
              "  8  I  100,\n",
              "  encoding: EncodingWithFacet({\n",
              "    x: X({\n",
              "      shorthand: 'a'\n",
              "    }),\n",
              "    y: Y({\n",
              "      shorthand: 'b'\n",
              "    })\n",
              "  }),\n",
              "  mark: 'line'\n",
              "})"
            ],
            "text/html": [
              "\n",
              "<!DOCTYPE html>\n",
              "<html>\n",
              "<head>\n",
              "  <style>\n",
              "    .vega-actions a {\n",
              "        margin-right: 12px;\n",
              "        color: #757575;\n",
              "        font-weight: normal;\n",
              "        font-size: 13px;\n",
              "    }\n",
              "    .error {\n",
              "        color: red;\n",
              "    }\n",
              "  </style>\n",
              "\n",
              "<script src=\"https://cdn.jsdelivr.net/npm//vega@3.3.1\"></script>\n",
              "<script src=\"https://cdn.jsdelivr.net/npm//vega-lite@2.4.3\"></script>\n",
              "<script src=\"https://cdn.jsdelivr.net/npm//vega-embed@3.11\"></script>\n",
              "\n",
              "</head>\n",
              "<body>\n",
              "  <div id=\"vis\"></div>\n",
              "  <script type=\"text/javascript\">\n",
              "    var spec = {\"config\": {\"view\": {\"width\": 400, \"height\": 300}}, \"data\": {\"values\": [{\"a\": \"A\", \"b\": 55}, {\"a\": \"B\", \"b\": 48}, {\"a\": \"C\", \"b\": 34}, {\"a\": \"D\", \"b\": 21}, {\"a\": \"E\", \"b\": 11}, {\"a\": \"F\", \"b\": 73}, {\"a\": \"G\", \"b\": 89}, {\"a\": \"H\", \"b\": 97}, {\"a\": \"I\", \"b\": 100}]}, \"mark\": \"line\", \"encoding\": {\"x\": {\"type\": \"nominal\", \"field\": \"a\"}, \"y\": {\"type\": \"quantitative\", \"field\": \"b\"}}, \"$schema\": \"https://vega.github.io/schema/vega-lite/v2.4.3.json\"};\n",
              "    var embed_opt = {\"mode\": \"vega-lite\"};\n",
              "\n",
              "    function showError(el, error){\n",
              "        el.innerHTML = ('<div class=\"error\">'\n",
              "                        + '<p>JavaScript Error: ' + error.message + '</p>'\n",
              "                        + \"<p>This usually means there's a typo in your chart specification. \"\n",
              "                        + \"See the javascript console for the full traceback.</p>\"\n",
              "                        + '</div>');\n",
              "        throw error;\n",
              "    }\n",
              "    const el = document.getElementById('vis');\n",
              "    vegaEmbed(\"#vis\", spec, embed_opt)\n",
              "      .catch(error => showError(el, error));\n",
              "  </script>\n",
              "</body>\n",
              "</html>\n"
            ]
          },
          "metadata": {
            "tags": []
          },
          "execution_count": 13
        }
      ]
    },
    {
      "cell_type": "markdown",
      "metadata": {
        "id": "J3x5zibZqjh0",
        "colab_type": "text"
      },
      "source": [
        "##### Descripción del ejemplo\n",
        "\n",
        "En algunos casos, es útil observar los valores del eje Y en forma de línea y no como barras. Para este ejemplo, se tomó el mismo del _bar chart_, pero se modificó la línea 9 para cambiar el tipo de marca. Para eso se cambió el método `mark_bar` por `mark_line`."
      ]
    },
    {
      "cell_type": "markdown",
      "metadata": {
        "id": "Mz6VxzdtqlLI",
        "colab_type": "text"
      },
      "source": [
        "#### Series de tiempo"
      ]
    },
    {
      "cell_type": "code",
      "metadata": {
        "id": "pYf5c79dqlXH",
        "colab_type": "code",
        "outputId": "9c5a5baa-b77f-4ff0-cc63-081e689a7a6c",
        "colab": {
          "base_uri": "https://localhost:8080/",
          "height": 389
        }
      },
      "source": [
        "import altair as alt\n",
        "from vega_datasets import data\n",
        "\n",
        "stocks = data.stocks()\n",
        "\n",
        "alt.Chart(stocks).mark_line().encode(\n",
        "    x='date',\n",
        "    y='price',\n",
        "    color='symbol'\n",
        ").interactive()"
      ],
      "execution_count": 0,
      "outputs": [
        {
          "output_type": "execute_result",
          "data": {
            "text/plain": [
              "Chart({\n",
              "  data:     symbol       date   price\n",
              "  0     MSFT 2000-01-01   39.81\n",
              "  1     MSFT 2000-02-01   36.35\n",
              "  2     MSFT 2000-03-01   43.22\n",
              "  3     MSFT 2000-04-01   28.37\n",
              "  4     MSFT 2000-05-01   25.45\n",
              "  5     MSFT 2000-06-01   32.54\n",
              "  6     MSFT 2000-07-01   28.40\n",
              "  7     MSFT 2000-08-01   28.40\n",
              "  8     MSFT 2000-09-01   24.53\n",
              "  9     MSFT 2000-10-01   28.02\n",
              "  10    MSFT 2000-11-01   23.34\n",
              "  11    MSFT 2000-12-01   17.65\n",
              "  12    MSFT 2001-01-01   24.84\n",
              "  13    MSFT 2001-02-01   24.00\n",
              "  14    MSFT 2001-03-01   22.25\n",
              "  15    MSFT 2001-04-01   27.56\n",
              "  16    MSFT 2001-05-01   28.14\n",
              "  17    MSFT 2001-06-01   29.70\n",
              "  18    MSFT 2001-07-01   26.93\n",
              "  19    MSFT 2001-08-01   23.21\n",
              "  20    MSFT 2001-09-01   20.82\n",
              "  21    MSFT 2001-10-01   23.65\n",
              "  22    MSFT 2001-11-01   26.12\n",
              "  23    MSFT 2001-12-01   26.95\n",
              "  24    MSFT 2002-01-01   25.92\n",
              "  25    MSFT 2002-02-01   23.73\n",
              "  26    MSFT 2002-03-01   24.53\n",
              "  27    MSFT 2002-04-01   21.26\n",
              "  28    MSFT 2002-05-01   20.71\n",
              "  29    MSFT 2002-06-01   22.25\n",
              "  ..     ...        ...     ...\n",
              "  530   AAPL 2007-10-01  189.95\n",
              "  531   AAPL 2007-11-01  182.22\n",
              "  532   AAPL 2007-12-01  198.08\n",
              "  533   AAPL 2008-01-01  135.36\n",
              "  534   AAPL 2008-02-01  125.02\n",
              "  535   AAPL 2008-03-01  143.50\n",
              "  536   AAPL 2008-04-01  173.95\n",
              "  537   AAPL 2008-05-01  188.75\n",
              "  538   AAPL 2008-06-01  167.44\n",
              "  539   AAPL 2008-07-01  158.95\n",
              "  540   AAPL 2008-08-01  169.53\n",
              "  541   AAPL 2008-09-01  113.66\n",
              "  542   AAPL 2008-10-01  107.59\n",
              "  543   AAPL 2008-11-01   92.67\n",
              "  544   AAPL 2008-12-01   85.35\n",
              "  545   AAPL 2009-01-01   90.13\n",
              "  546   AAPL 2009-02-01   89.31\n",
              "  547   AAPL 2009-03-01  105.12\n",
              "  548   AAPL 2009-04-01  125.83\n",
              "  549   AAPL 2009-05-01  135.81\n",
              "  550   AAPL 2009-06-01  142.43\n",
              "  551   AAPL 2009-07-01  163.39\n",
              "  552   AAPL 2009-08-01  168.21\n",
              "  553   AAPL 2009-09-01  185.35\n",
              "  554   AAPL 2009-10-01  188.50\n",
              "  555   AAPL 2009-11-01  199.91\n",
              "  556   AAPL 2009-12-01  210.73\n",
              "  557   AAPL 2010-01-01  192.06\n",
              "  558   AAPL 2010-02-01  204.62\n",
              "  559   AAPL 2010-03-01  223.02\n",
              "  \n",
              "  [560 rows x 3 columns],\n",
              "  encoding: EncodingWithFacet({\n",
              "    color: Color({\n",
              "      shorthand: 'symbol'\n",
              "    }),\n",
              "    x: X({\n",
              "      shorthand: 'date'\n",
              "    }),\n",
              "    y: Y({\n",
              "      shorthand: 'price'\n",
              "    })\n",
              "  }),\n",
              "  mark: 'line',\n",
              "  selection: SelectionMapping({\n",
              "    selector001: SelectionDef({\n",
              "      bind: 'scales',\n",
              "      encodings: ['x', 'y'],\n",
              "      type: 'interval'\n",
              "    })\n",
              "  })\n",
              "})"
            ],
            "text/html": [
              "\n",
              "<!DOCTYPE html>\n",
              "<html>\n",
              "<head>\n",
              "  <style>\n",
              "    .vega-actions a {\n",
              "        margin-right: 12px;\n",
              "        color: #757575;\n",
              "        font-weight: normal;\n",
              "        font-size: 13px;\n",
              "    }\n",
              "    .error {\n",
              "        color: red;\n",
              "    }\n",
              "  </style>\n",
              "\n",
              "<script src=\"https://cdn.jsdelivr.net/npm//vega@3.3.1\"></script>\n",
              "<script src=\"https://cdn.jsdelivr.net/npm//vega-lite@2.4.3\"></script>\n",
              "<script src=\"https://cdn.jsdelivr.net/npm//vega-embed@3.11\"></script>\n",
              "\n",
              "</head>\n",
              "<body>\n",
              "  <div id=\"vis\"></div>\n",
              "  <script type=\"text/javascript\">\n",
              "    var spec = {\"config\": {\"view\": {\"width\": 400, \"height\": 300}}, \"data\": {\"values\": [{\"symbol\": \"MSFT\", \"date\": \"2000-01-01\", \"price\": 39.81}, {\"symbol\": \"MSFT\", \"date\": \"2000-02-01\", \"price\": 36.35}, {\"symbol\": \"MSFT\", \"date\": \"2000-03-01\", \"price\": 43.22}, {\"symbol\": \"MSFT\", \"date\": \"2000-04-01\", \"price\": 28.37}, {\"symbol\": \"MSFT\", \"date\": \"2000-05-01\", \"price\": 25.45}, {\"symbol\": \"MSFT\", \"date\": \"2000-06-01\", \"price\": 32.54}, {\"symbol\": \"MSFT\", \"date\": \"2000-07-01\", \"price\": 28.4}, {\"symbol\": \"MSFT\", \"date\": \"2000-08-01\", \"price\": 28.4}, {\"symbol\": \"MSFT\", \"date\": \"2000-09-01\", \"price\": 24.53}, {\"symbol\": \"MSFT\", \"date\": \"2000-10-01\", \"price\": 28.02}, {\"symbol\": \"MSFT\", \"date\": \"2000-11-01\", \"price\": 23.34}, {\"symbol\": \"MSFT\", \"date\": \"2000-12-01\", \"price\": 17.65}, {\"symbol\": \"MSFT\", \"date\": \"2001-01-01\", \"price\": 24.84}, {\"symbol\": \"MSFT\", \"date\": \"2001-02-01\", \"price\": 24.0}, {\"symbol\": \"MSFT\", \"date\": \"2001-03-01\", \"price\": 22.25}, {\"symbol\": \"MSFT\", \"date\": \"2001-04-01\", \"price\": 27.56}, {\"symbol\": \"MSFT\", \"date\": \"2001-05-01\", \"price\": 28.14}, {\"symbol\": \"MSFT\", \"date\": \"2001-06-01\", \"price\": 29.7}, {\"symbol\": \"MSFT\", \"date\": \"2001-07-01\", \"price\": 26.93}, {\"symbol\": \"MSFT\", \"date\": \"2001-08-01\", \"price\": 23.21}, {\"symbol\": \"MSFT\", \"date\": \"2001-09-01\", \"price\": 20.82}, {\"symbol\": \"MSFT\", \"date\": \"2001-10-01\", \"price\": 23.65}, {\"symbol\": \"MSFT\", \"date\": \"2001-11-01\", \"price\": 26.12}, {\"symbol\": \"MSFT\", \"date\": \"2001-12-01\", \"price\": 26.95}, {\"symbol\": \"MSFT\", \"date\": \"2002-01-01\", \"price\": 25.92}, {\"symbol\": \"MSFT\", \"date\": \"2002-02-01\", \"price\": 23.73}, {\"symbol\": \"MSFT\", \"date\": \"2002-03-01\", \"price\": 24.53}, {\"symbol\": \"MSFT\", \"date\": \"2002-04-01\", \"price\": 21.26}, {\"symbol\": \"MSFT\", \"date\": \"2002-05-01\", \"price\": 20.71}, {\"symbol\": \"MSFT\", \"date\": \"2002-06-01\", \"price\": 22.25}, {\"symbol\": \"MSFT\", \"date\": \"2002-07-01\", \"price\": 19.52}, {\"symbol\": \"MSFT\", \"date\": \"2002-08-01\", \"price\": 19.97}, {\"symbol\": \"MSFT\", \"date\": \"2002-09-01\", \"price\": 17.79}, {\"symbol\": \"MSFT\", \"date\": \"2002-10-01\", \"price\": 21.75}, {\"symbol\": \"MSFT\", \"date\": \"2002-11-01\", \"price\": 23.46}, {\"symbol\": \"MSFT\", \"date\": \"2002-12-01\", \"price\": 21.03}, {\"symbol\": \"MSFT\", \"date\": \"2003-01-01\", \"price\": 19.31}, {\"symbol\": \"MSFT\", \"date\": \"2003-02-01\", \"price\": 19.34}, {\"symbol\": \"MSFT\", \"date\": \"2003-03-01\", \"price\": 19.76}, {\"symbol\": \"MSFT\", \"date\": \"2003-04-01\", \"price\": 20.87}, {\"symbol\": \"MSFT\", \"date\": \"2003-05-01\", \"price\": 20.09}, {\"symbol\": \"MSFT\", \"date\": \"2003-06-01\", \"price\": 20.93}, {\"symbol\": \"MSFT\", \"date\": \"2003-07-01\", \"price\": 21.56}, {\"symbol\": \"MSFT\", \"date\": \"2003-08-01\", \"price\": 21.65}, {\"symbol\": \"MSFT\", \"date\": \"2003-09-01\", \"price\": 22.69}, {\"symbol\": \"MSFT\", \"date\": \"2003-10-01\", \"price\": 21.45}, {\"symbol\": \"MSFT\", \"date\": \"2003-11-01\", \"price\": 21.1}, {\"symbol\": \"MSFT\", \"date\": \"2003-12-01\", \"price\": 22.46}, {\"symbol\": \"MSFT\", \"date\": \"2004-01-01\", \"price\": 22.69}, {\"symbol\": \"MSFT\", \"date\": \"2004-02-01\", \"price\": 21.77}, {\"symbol\": \"MSFT\", \"date\": \"2004-03-01\", \"price\": 20.46}, {\"symbol\": \"MSFT\", \"date\": \"2004-04-01\", \"price\": 21.45}, {\"symbol\": \"MSFT\", \"date\": \"2004-05-01\", \"price\": 21.53}, {\"symbol\": \"MSFT\", \"date\": \"2004-06-01\", \"price\": 23.44}, {\"symbol\": \"MSFT\", \"date\": \"2004-07-01\", \"price\": 23.38}, {\"symbol\": \"MSFT\", \"date\": \"2004-08-01\", \"price\": 22.47}, {\"symbol\": \"MSFT\", \"date\": \"2004-09-01\", \"price\": 22.76}, {\"symbol\": \"MSFT\", \"date\": \"2004-10-01\", \"price\": 23.02}, {\"symbol\": \"MSFT\", \"date\": \"2004-11-01\", \"price\": 24.6}, {\"symbol\": \"MSFT\", \"date\": \"2004-12-01\", \"price\": 24.52}, {\"symbol\": \"MSFT\", \"date\": \"2005-01-01\", \"price\": 24.11}, {\"symbol\": \"MSFT\", \"date\": \"2005-02-01\", \"price\": 23.15}, {\"symbol\": \"MSFT\", \"date\": \"2005-03-01\", \"price\": 22.24}, {\"symbol\": \"MSFT\", \"date\": \"2005-04-01\", \"price\": 23.28}, {\"symbol\": \"MSFT\", \"date\": \"2005-05-01\", \"price\": 23.82}, {\"symbol\": \"MSFT\", \"date\": \"2005-06-01\", \"price\": 22.93}, {\"symbol\": \"MSFT\", \"date\": \"2005-07-01\", \"price\": 23.64}, {\"symbol\": \"MSFT\", \"date\": \"2005-08-01\", \"price\": 25.35}, {\"symbol\": \"MSFT\", \"date\": \"2005-09-01\", \"price\": 23.83}, {\"symbol\": \"MSFT\", \"date\": \"2005-10-01\", \"price\": 23.8}, {\"symbol\": \"MSFT\", \"date\": \"2005-11-01\", \"price\": 25.71}, {\"symbol\": \"MSFT\", \"date\": \"2005-12-01\", \"price\": 24.29}, {\"symbol\": \"MSFT\", \"date\": \"2006-01-01\", \"price\": 26.14}, {\"symbol\": \"MSFT\", \"date\": \"2006-02-01\", \"price\": 25.04}, {\"symbol\": \"MSFT\", \"date\": \"2006-03-01\", \"price\": 25.36}, {\"symbol\": \"MSFT\", \"date\": \"2006-04-01\", \"price\": 22.5}, {\"symbol\": \"MSFT\", \"date\": \"2006-05-01\", \"price\": 21.19}, {\"symbol\": \"MSFT\", \"date\": \"2006-06-01\", \"price\": 21.8}, {\"symbol\": \"MSFT\", \"date\": \"2006-07-01\", \"price\": 22.51}, {\"symbol\": \"MSFT\", \"date\": \"2006-08-01\", \"price\": 24.13}, {\"symbol\": \"MSFT\", \"date\": \"2006-09-01\", \"price\": 25.68}, {\"symbol\": \"MSFT\", \"date\": \"2006-10-01\", \"price\": 26.96}, {\"symbol\": \"MSFT\", \"date\": \"2006-11-01\", \"price\": 27.66}, {\"symbol\": \"MSFT\", \"date\": \"2006-12-01\", \"price\": 28.13}, {\"symbol\": \"MSFT\", \"date\": \"2007-01-01\", \"price\": 29.07}, {\"symbol\": \"MSFT\", \"date\": \"2007-02-01\", \"price\": 26.63}, {\"symbol\": \"MSFT\", \"date\": \"2007-03-01\", \"price\": 26.35}, {\"symbol\": \"MSFT\", \"date\": \"2007-04-01\", \"price\": 28.3}, {\"symbol\": \"MSFT\", \"date\": \"2007-05-01\", \"price\": 29.11}, {\"symbol\": \"MSFT\", \"date\": \"2007-06-01\", \"price\": 27.95}, {\"symbol\": \"MSFT\", \"date\": \"2007-07-01\", \"price\": 27.5}, {\"symbol\": \"MSFT\", \"date\": \"2007-08-01\", \"price\": 27.34}, {\"symbol\": \"MSFT\", \"date\": \"2007-09-01\", \"price\": 28.04}, {\"symbol\": \"MSFT\", \"date\": \"2007-10-01\", \"price\": 35.03}, {\"symbol\": \"MSFT\", \"date\": \"2007-11-01\", \"price\": 32.09}, {\"symbol\": \"MSFT\", \"date\": \"2007-12-01\", \"price\": 34.0}, {\"symbol\": \"MSFT\", \"date\": \"2008-01-01\", \"price\": 31.13}, {\"symbol\": \"MSFT\", \"date\": \"2008-02-01\", \"price\": 26.07}, {\"symbol\": \"MSFT\", \"date\": \"2008-03-01\", \"price\": 27.21}, {\"symbol\": \"MSFT\", \"date\": \"2008-04-01\", \"price\": 27.34}, {\"symbol\": \"MSFT\", \"date\": \"2008-05-01\", \"price\": 27.25}, {\"symbol\": \"MSFT\", \"date\": \"2008-06-01\", \"price\": 26.47}, {\"symbol\": \"MSFT\", \"date\": \"2008-07-01\", \"price\": 24.75}, {\"symbol\": \"MSFT\", \"date\": \"2008-08-01\", \"price\": 26.36}, {\"symbol\": \"MSFT\", \"date\": \"2008-09-01\", \"price\": 25.78}, {\"symbol\": \"MSFT\", \"date\": \"2008-10-01\", \"price\": 21.57}, {\"symbol\": \"MSFT\", \"date\": \"2008-11-01\", \"price\": 19.66}, {\"symbol\": \"MSFT\", \"date\": \"2008-12-01\", \"price\": 18.91}, {\"symbol\": \"MSFT\", \"date\": \"2009-01-01\", \"price\": 16.63}, {\"symbol\": \"MSFT\", \"date\": \"2009-02-01\", \"price\": 15.81}, {\"symbol\": \"MSFT\", \"date\": \"2009-03-01\", \"price\": 17.99}, {\"symbol\": \"MSFT\", \"date\": \"2009-04-01\", \"price\": 19.84}, {\"symbol\": \"MSFT\", \"date\": \"2009-05-01\", \"price\": 20.59}, {\"symbol\": \"MSFT\", \"date\": \"2009-06-01\", \"price\": 23.42}, {\"symbol\": \"MSFT\", \"date\": \"2009-07-01\", \"price\": 23.18}, {\"symbol\": \"MSFT\", \"date\": \"2009-08-01\", \"price\": 24.43}, {\"symbol\": \"MSFT\", \"date\": \"2009-09-01\", \"price\": 25.49}, {\"symbol\": \"MSFT\", \"date\": \"2009-10-01\", \"price\": 27.48}, {\"symbol\": \"MSFT\", \"date\": \"2009-11-01\", \"price\": 29.27}, {\"symbol\": \"MSFT\", \"date\": \"2009-12-01\", \"price\": 30.34}, {\"symbol\": \"MSFT\", \"date\": \"2010-01-01\", \"price\": 28.05}, {\"symbol\": \"MSFT\", \"date\": \"2010-02-01\", \"price\": 28.67}, {\"symbol\": \"MSFT\", \"date\": \"2010-03-01\", \"price\": 28.8}, {\"symbol\": \"AMZN\", \"date\": \"2000-01-01\", \"price\": 64.56}, {\"symbol\": \"AMZN\", \"date\": \"2000-02-01\", \"price\": 68.87}, {\"symbol\": \"AMZN\", \"date\": \"2000-03-01\", \"price\": 67.0}, {\"symbol\": \"AMZN\", \"date\": \"2000-04-01\", \"price\": 55.19}, {\"symbol\": \"AMZN\", \"date\": \"2000-05-01\", \"price\": 48.31}, {\"symbol\": \"AMZN\", \"date\": \"2000-06-01\", \"price\": 36.31}, {\"symbol\": \"AMZN\", \"date\": \"2000-07-01\", \"price\": 30.12}, {\"symbol\": \"AMZN\", \"date\": \"2000-08-01\", \"price\": 41.5}, {\"symbol\": \"AMZN\", \"date\": \"2000-09-01\", \"price\": 38.44}, {\"symbol\": \"AMZN\", \"date\": \"2000-10-01\", \"price\": 36.62}, {\"symbol\": \"AMZN\", \"date\": \"2000-11-01\", \"price\": 24.69}, {\"symbol\": \"AMZN\", \"date\": \"2000-12-01\", \"price\": 15.56}, {\"symbol\": \"AMZN\", \"date\": \"2001-01-01\", \"price\": 17.31}, {\"symbol\": \"AMZN\", \"date\": \"2001-02-01\", \"price\": 10.19}, {\"symbol\": \"AMZN\", \"date\": \"2001-03-01\", \"price\": 10.23}, {\"symbol\": \"AMZN\", \"date\": \"2001-04-01\", \"price\": 15.78}, {\"symbol\": \"AMZN\", \"date\": \"2001-05-01\", \"price\": 16.69}, {\"symbol\": \"AMZN\", \"date\": \"2001-06-01\", \"price\": 14.15}, {\"symbol\": \"AMZN\", \"date\": \"2001-07-01\", \"price\": 12.49}, {\"symbol\": \"AMZN\", \"date\": \"2001-08-01\", \"price\": 8.94}, {\"symbol\": \"AMZN\", \"date\": \"2001-09-01\", \"price\": 5.97}, {\"symbol\": \"AMZN\", \"date\": \"2001-10-01\", \"price\": 6.98}, {\"symbol\": \"AMZN\", \"date\": \"2001-11-01\", \"price\": 11.32}, {\"symbol\": \"AMZN\", \"date\": \"2001-12-01\", \"price\": 10.82}, {\"symbol\": \"AMZN\", \"date\": \"2002-01-01\", \"price\": 14.19}, {\"symbol\": \"AMZN\", \"date\": \"2002-02-01\", \"price\": 14.1}, {\"symbol\": \"AMZN\", \"date\": \"2002-03-01\", \"price\": 14.3}, {\"symbol\": \"AMZN\", \"date\": \"2002-04-01\", \"price\": 16.69}, {\"symbol\": \"AMZN\", \"date\": \"2002-05-01\", \"price\": 18.23}, {\"symbol\": \"AMZN\", \"date\": \"2002-06-01\", \"price\": 16.25}, {\"symbol\": \"AMZN\", \"date\": \"2002-07-01\", \"price\": 14.45}, {\"symbol\": \"AMZN\", \"date\": \"2002-08-01\", \"price\": 14.94}, {\"symbol\": \"AMZN\", \"date\": \"2002-09-01\", \"price\": 15.93}, {\"symbol\": \"AMZN\", \"date\": \"2002-10-01\", \"price\": 19.36}, {\"symbol\": \"AMZN\", \"date\": \"2002-11-01\", \"price\": 23.35}, {\"symbol\": \"AMZN\", \"date\": \"2002-12-01\", \"price\": 18.89}, {\"symbol\": \"AMZN\", \"date\": \"2003-01-01\", \"price\": 21.85}, {\"symbol\": \"AMZN\", \"date\": \"2003-02-01\", \"price\": 22.01}, {\"symbol\": \"AMZN\", \"date\": \"2003-03-01\", \"price\": 26.03}, {\"symbol\": \"AMZN\", \"date\": \"2003-04-01\", \"price\": 28.69}, {\"symbol\": \"AMZN\", \"date\": \"2003-05-01\", \"price\": 35.89}, {\"symbol\": \"AMZN\", \"date\": \"2003-06-01\", \"price\": 36.32}, {\"symbol\": \"AMZN\", \"date\": \"2003-07-01\", \"price\": 41.64}, {\"symbol\": \"AMZN\", \"date\": \"2003-08-01\", \"price\": 46.32}, {\"symbol\": \"AMZN\", \"date\": \"2003-09-01\", \"price\": 48.43}, {\"symbol\": \"AMZN\", \"date\": \"2003-10-01\", \"price\": 54.43}, {\"symbol\": \"AMZN\", \"date\": \"2003-11-01\", \"price\": 53.97}, {\"symbol\": \"AMZN\", \"date\": \"2003-12-01\", \"price\": 52.62}, {\"symbol\": \"AMZN\", \"date\": \"2004-01-01\", \"price\": 50.4}, {\"symbol\": \"AMZN\", \"date\": \"2004-02-01\", \"price\": 43.01}, {\"symbol\": \"AMZN\", \"date\": \"2004-03-01\", \"price\": 43.28}, {\"symbol\": \"AMZN\", \"date\": \"2004-04-01\", \"price\": 43.6}, {\"symbol\": \"AMZN\", \"date\": \"2004-05-01\", \"price\": 48.5}, {\"symbol\": \"AMZN\", \"date\": \"2004-06-01\", \"price\": 54.4}, {\"symbol\": \"AMZN\", \"date\": \"2004-07-01\", \"price\": 38.92}, {\"symbol\": \"AMZN\", \"date\": \"2004-08-01\", \"price\": 38.14}, {\"symbol\": \"AMZN\", \"date\": \"2004-09-01\", \"price\": 40.86}, {\"symbol\": \"AMZN\", \"date\": \"2004-10-01\", \"price\": 34.13}, {\"symbol\": \"AMZN\", \"date\": \"2004-11-01\", \"price\": 39.68}, {\"symbol\": \"AMZN\", \"date\": \"2004-12-01\", \"price\": 44.29}, {\"symbol\": \"AMZN\", \"date\": \"2005-01-01\", \"price\": 43.22}, {\"symbol\": \"AMZN\", \"date\": \"2005-02-01\", \"price\": 35.18}, {\"symbol\": \"AMZN\", \"date\": \"2005-03-01\", \"price\": 34.27}, {\"symbol\": \"AMZN\", \"date\": \"2005-04-01\", \"price\": 32.36}, {\"symbol\": \"AMZN\", \"date\": \"2005-05-01\", \"price\": 35.51}, {\"symbol\": \"AMZN\", \"date\": \"2005-06-01\", \"price\": 33.09}, {\"symbol\": \"AMZN\", \"date\": \"2005-07-01\", \"price\": 45.15}, {\"symbol\": \"AMZN\", \"date\": \"2005-08-01\", \"price\": 42.7}, {\"symbol\": \"AMZN\", \"date\": \"2005-09-01\", \"price\": 45.3}, {\"symbol\": \"AMZN\", \"date\": \"2005-10-01\", \"price\": 39.86}, {\"symbol\": \"AMZN\", \"date\": \"2005-11-01\", \"price\": 48.46}, {\"symbol\": \"AMZN\", \"date\": \"2005-12-01\", \"price\": 47.15}, {\"symbol\": \"AMZN\", \"date\": \"2006-01-01\", \"price\": 44.82}, {\"symbol\": \"AMZN\", \"date\": \"2006-02-01\", \"price\": 37.44}, {\"symbol\": \"AMZN\", \"date\": \"2006-03-01\", \"price\": 36.53}, {\"symbol\": \"AMZN\", \"date\": \"2006-04-01\", \"price\": 35.21}, {\"symbol\": \"AMZN\", \"date\": \"2006-05-01\", \"price\": 34.61}, {\"symbol\": \"AMZN\", \"date\": \"2006-06-01\", \"price\": 38.68}, {\"symbol\": \"AMZN\", \"date\": \"2006-07-01\", \"price\": 26.89}, {\"symbol\": \"AMZN\", \"date\": \"2006-08-01\", \"price\": 30.83}, {\"symbol\": \"AMZN\", \"date\": \"2006-09-01\", \"price\": 32.12}, {\"symbol\": \"AMZN\", \"date\": \"2006-10-01\", \"price\": 38.09}, {\"symbol\": \"AMZN\", \"date\": \"2006-11-01\", \"price\": 40.34}, {\"symbol\": \"AMZN\", \"date\": \"2006-12-01\", \"price\": 39.46}, {\"symbol\": \"AMZN\", \"date\": \"2007-01-01\", \"price\": 37.67}, {\"symbol\": \"AMZN\", \"date\": \"2007-02-01\", \"price\": 39.14}, {\"symbol\": \"AMZN\", \"date\": \"2007-03-01\", \"price\": 39.79}, {\"symbol\": \"AMZN\", \"date\": \"2007-04-01\", \"price\": 61.33}, {\"symbol\": \"AMZN\", \"date\": \"2007-05-01\", \"price\": 69.14}, {\"symbol\": \"AMZN\", \"date\": \"2007-06-01\", \"price\": 68.41}, {\"symbol\": \"AMZN\", \"date\": \"2007-07-01\", \"price\": 78.54}, {\"symbol\": \"AMZN\", \"date\": \"2007-08-01\", \"price\": 79.91}, {\"symbol\": \"AMZN\", \"date\": \"2007-09-01\", \"price\": 93.15}, {\"symbol\": \"AMZN\", \"date\": \"2007-10-01\", \"price\": 89.15}, {\"symbol\": \"AMZN\", \"date\": \"2007-11-01\", \"price\": 90.56}, {\"symbol\": \"AMZN\", \"date\": \"2007-12-01\", \"price\": 92.64}, {\"symbol\": \"AMZN\", \"date\": \"2008-01-01\", \"price\": 77.7}, {\"symbol\": \"AMZN\", \"date\": \"2008-02-01\", \"price\": 64.47}, {\"symbol\": \"AMZN\", \"date\": \"2008-03-01\", \"price\": 71.3}, {\"symbol\": \"AMZN\", \"date\": \"2008-04-01\", \"price\": 78.63}, {\"symbol\": \"AMZN\", \"date\": \"2008-05-01\", \"price\": 81.62}, {\"symbol\": \"AMZN\", \"date\": \"2008-06-01\", \"price\": 73.33}, {\"symbol\": \"AMZN\", \"date\": \"2008-07-01\", \"price\": 76.34}, {\"symbol\": \"AMZN\", \"date\": \"2008-08-01\", \"price\": 80.81}, {\"symbol\": \"AMZN\", \"date\": \"2008-09-01\", \"price\": 72.76}, {\"symbol\": \"AMZN\", \"date\": \"2008-10-01\", \"price\": 57.24}, {\"symbol\": \"AMZN\", \"date\": \"2008-11-01\", \"price\": 42.7}, {\"symbol\": \"AMZN\", \"date\": \"2008-12-01\", \"price\": 51.28}, {\"symbol\": \"AMZN\", \"date\": \"2009-01-01\", \"price\": 58.82}, {\"symbol\": \"AMZN\", \"date\": \"2009-02-01\", \"price\": 64.79}, {\"symbol\": \"AMZN\", \"date\": \"2009-03-01\", \"price\": 73.44}, {\"symbol\": \"AMZN\", \"date\": \"2009-04-01\", \"price\": 80.52}, {\"symbol\": \"AMZN\", \"date\": \"2009-05-01\", \"price\": 77.99}, {\"symbol\": \"AMZN\", \"date\": \"2009-06-01\", \"price\": 83.66}, {\"symbol\": \"AMZN\", \"date\": \"2009-07-01\", \"price\": 85.76}, {\"symbol\": \"AMZN\", \"date\": \"2009-08-01\", \"price\": 81.19}, {\"symbol\": \"AMZN\", \"date\": \"2009-09-01\", \"price\": 93.36}, {\"symbol\": \"AMZN\", \"date\": \"2009-10-01\", \"price\": 118.81}, {\"symbol\": \"AMZN\", \"date\": \"2009-11-01\", \"price\": 135.91}, {\"symbol\": \"AMZN\", \"date\": \"2009-12-01\", \"price\": 134.52}, {\"symbol\": \"AMZN\", \"date\": \"2010-01-01\", \"price\": 125.41}, {\"symbol\": \"AMZN\", \"date\": \"2010-02-01\", \"price\": 118.4}, {\"symbol\": \"AMZN\", \"date\": \"2010-03-01\", \"price\": 128.82}, {\"symbol\": \"IBM\", \"date\": \"2000-01-01\", \"price\": 100.52}, {\"symbol\": \"IBM\", \"date\": \"2000-02-01\", \"price\": 92.11}, {\"symbol\": \"IBM\", \"date\": \"2000-03-01\", \"price\": 106.11}, {\"symbol\": \"IBM\", \"date\": \"2000-04-01\", \"price\": 99.95}, {\"symbol\": \"IBM\", \"date\": \"2000-05-01\", \"price\": 96.31}, {\"symbol\": \"IBM\", \"date\": \"2000-06-01\", \"price\": 98.33}, {\"symbol\": \"IBM\", \"date\": \"2000-07-01\", \"price\": 100.74}, {\"symbol\": \"IBM\", \"date\": \"2000-08-01\", \"price\": 118.62}, {\"symbol\": \"IBM\", \"date\": \"2000-09-01\", \"price\": 101.19}, {\"symbol\": \"IBM\", \"date\": \"2000-10-01\", \"price\": 88.5}, {\"symbol\": \"IBM\", \"date\": \"2000-11-01\", \"price\": 84.12}, {\"symbol\": \"IBM\", \"date\": \"2000-12-01\", \"price\": 76.47}, {\"symbol\": \"IBM\", \"date\": \"2001-01-01\", \"price\": 100.76}, {\"symbol\": \"IBM\", \"date\": \"2001-02-01\", \"price\": 89.98}, {\"symbol\": \"IBM\", \"date\": \"2001-03-01\", \"price\": 86.63}, {\"symbol\": \"IBM\", \"date\": \"2001-04-01\", \"price\": 103.7}, {\"symbol\": \"IBM\", \"date\": \"2001-05-01\", \"price\": 100.82}, {\"symbol\": \"IBM\", \"date\": \"2001-06-01\", \"price\": 102.35}, {\"symbol\": \"IBM\", \"date\": \"2001-07-01\", \"price\": 94.87}, {\"symbol\": \"IBM\", \"date\": \"2001-08-01\", \"price\": 90.25}, {\"symbol\": \"IBM\", \"date\": \"2001-09-01\", \"price\": 82.82}, {\"symbol\": \"IBM\", \"date\": \"2001-10-01\", \"price\": 97.58}, {\"symbol\": \"IBM\", \"date\": \"2001-11-01\", \"price\": 104.5}, {\"symbol\": \"IBM\", \"date\": \"2001-12-01\", \"price\": 109.36}, {\"symbol\": \"IBM\", \"date\": \"2002-01-01\", \"price\": 97.54}, {\"symbol\": \"IBM\", \"date\": \"2002-02-01\", \"price\": 88.82}, {\"symbol\": \"IBM\", \"date\": \"2002-03-01\", \"price\": 94.15}, {\"symbol\": \"IBM\", \"date\": \"2002-04-01\", \"price\": 75.82}, {\"symbol\": \"IBM\", \"date\": \"2002-05-01\", \"price\": 72.97}, {\"symbol\": \"IBM\", \"date\": \"2002-06-01\", \"price\": 65.31}, {\"symbol\": \"IBM\", \"date\": \"2002-07-01\", \"price\": 63.86}, {\"symbol\": \"IBM\", \"date\": \"2002-08-01\", \"price\": 68.52}, {\"symbol\": \"IBM\", \"date\": \"2002-09-01\", \"price\": 53.01}, {\"symbol\": \"IBM\", \"date\": \"2002-10-01\", \"price\": 71.76}, {\"symbol\": \"IBM\", \"date\": \"2002-11-01\", \"price\": 79.16}, {\"symbol\": \"IBM\", \"date\": \"2002-12-01\", \"price\": 70.58}, {\"symbol\": \"IBM\", \"date\": \"2003-01-01\", \"price\": 71.22}, {\"symbol\": \"IBM\", \"date\": \"2003-02-01\", \"price\": 71.13}, {\"symbol\": \"IBM\", \"date\": \"2003-03-01\", \"price\": 71.57}, {\"symbol\": \"IBM\", \"date\": \"2003-04-01\", \"price\": 77.47}, {\"symbol\": \"IBM\", \"date\": \"2003-05-01\", \"price\": 80.48}, {\"symbol\": \"IBM\", \"date\": \"2003-06-01\", \"price\": 75.42}, {\"symbol\": \"IBM\", \"date\": \"2003-07-01\", \"price\": 74.28}, {\"symbol\": \"IBM\", \"date\": \"2003-08-01\", \"price\": 75.12}, {\"symbol\": \"IBM\", \"date\": \"2003-09-01\", \"price\": 80.91}, {\"symbol\": \"IBM\", \"date\": \"2003-10-01\", \"price\": 81.96}, {\"symbol\": \"IBM\", \"date\": \"2003-11-01\", \"price\": 83.08}, {\"symbol\": \"IBM\", \"date\": \"2003-12-01\", \"price\": 85.05}, {\"symbol\": \"IBM\", \"date\": \"2004-01-01\", \"price\": 91.06}, {\"symbol\": \"IBM\", \"date\": \"2004-02-01\", \"price\": 88.7}, {\"symbol\": \"IBM\", \"date\": \"2004-03-01\", \"price\": 84.41}, {\"symbol\": \"IBM\", \"date\": \"2004-04-01\", \"price\": 81.04}, {\"symbol\": \"IBM\", \"date\": \"2004-05-01\", \"price\": 81.59}, {\"symbol\": \"IBM\", \"date\": \"2004-06-01\", \"price\": 81.19}, {\"symbol\": \"IBM\", \"date\": \"2004-07-01\", \"price\": 80.19}, {\"symbol\": \"IBM\", \"date\": \"2004-08-01\", \"price\": 78.17}, {\"symbol\": \"IBM\", \"date\": \"2004-09-01\", \"price\": 79.13}, {\"symbol\": \"IBM\", \"date\": \"2004-10-01\", \"price\": 82.84}, {\"symbol\": \"IBM\", \"date\": \"2004-11-01\", \"price\": 87.15}, {\"symbol\": \"IBM\", \"date\": \"2004-12-01\", \"price\": 91.16}, {\"symbol\": \"IBM\", \"date\": \"2005-01-01\", \"price\": 86.39}, {\"symbol\": \"IBM\", \"date\": \"2005-02-01\", \"price\": 85.78}, {\"symbol\": \"IBM\", \"date\": \"2005-03-01\", \"price\": 84.66}, {\"symbol\": \"IBM\", \"date\": \"2005-04-01\", \"price\": 70.77}, {\"symbol\": \"IBM\", \"date\": \"2005-05-01\", \"price\": 70.18}, {\"symbol\": \"IBM\", \"date\": \"2005-06-01\", \"price\": 68.93}, {\"symbol\": \"IBM\", \"date\": \"2005-07-01\", \"price\": 77.53}, {\"symbol\": \"IBM\", \"date\": \"2005-08-01\", \"price\": 75.07}, {\"symbol\": \"IBM\", \"date\": \"2005-09-01\", \"price\": 74.7}, {\"symbol\": \"IBM\", \"date\": \"2005-10-01\", \"price\": 76.25}, {\"symbol\": \"IBM\", \"date\": \"2005-11-01\", \"price\": 82.98}, {\"symbol\": \"IBM\", \"date\": \"2005-12-01\", \"price\": 76.73}, {\"symbol\": \"IBM\", \"date\": \"2006-01-01\", \"price\": 75.89}, {\"symbol\": \"IBM\", \"date\": \"2006-02-01\", \"price\": 75.09}, {\"symbol\": \"IBM\", \"date\": \"2006-03-01\", \"price\": 77.17}, {\"symbol\": \"IBM\", \"date\": \"2006-04-01\", \"price\": 77.05}, {\"symbol\": \"IBM\", \"date\": \"2006-05-01\", \"price\": 75.04}, {\"symbol\": \"IBM\", \"date\": \"2006-06-01\", \"price\": 72.15}, {\"symbol\": \"IBM\", \"date\": \"2006-07-01\", \"price\": 72.7}, {\"symbol\": \"IBM\", \"date\": \"2006-08-01\", \"price\": 76.35}, {\"symbol\": \"IBM\", \"date\": \"2006-09-01\", \"price\": 77.26}, {\"symbol\": \"IBM\", \"date\": \"2006-10-01\", \"price\": 87.06}, {\"symbol\": \"IBM\", \"date\": \"2006-11-01\", \"price\": 86.95}, {\"symbol\": \"IBM\", \"date\": \"2006-12-01\", \"price\": 91.9}, {\"symbol\": \"IBM\", \"date\": \"2007-01-01\", \"price\": 93.79}, {\"symbol\": \"IBM\", \"date\": \"2007-02-01\", \"price\": 88.18}, {\"symbol\": \"IBM\", \"date\": \"2007-03-01\", \"price\": 89.44}, {\"symbol\": \"IBM\", \"date\": \"2007-04-01\", \"price\": 96.98}, {\"symbol\": \"IBM\", \"date\": \"2007-05-01\", \"price\": 101.54}, {\"symbol\": \"IBM\", \"date\": \"2007-06-01\", \"price\": 100.25}, {\"symbol\": \"IBM\", \"date\": \"2007-07-01\", \"price\": 105.4}, {\"symbol\": \"IBM\", \"date\": \"2007-08-01\", \"price\": 111.54}, {\"symbol\": \"IBM\", \"date\": \"2007-09-01\", \"price\": 112.6}, {\"symbol\": \"IBM\", \"date\": \"2007-10-01\", \"price\": 111.0}, {\"symbol\": \"IBM\", \"date\": \"2007-11-01\", \"price\": 100.9}, {\"symbol\": \"IBM\", \"date\": \"2007-12-01\", \"price\": 103.7}, {\"symbol\": \"IBM\", \"date\": \"2008-01-01\", \"price\": 102.75}, {\"symbol\": \"IBM\", \"date\": \"2008-02-01\", \"price\": 109.64}, {\"symbol\": \"IBM\", \"date\": \"2008-03-01\", \"price\": 110.87}, {\"symbol\": \"IBM\", \"date\": \"2008-04-01\", \"price\": 116.23}, {\"symbol\": \"IBM\", \"date\": \"2008-05-01\", \"price\": 125.14}, {\"symbol\": \"IBM\", \"date\": \"2008-06-01\", \"price\": 114.6}, {\"symbol\": \"IBM\", \"date\": \"2008-07-01\", \"price\": 123.74}, {\"symbol\": \"IBM\", \"date\": \"2008-08-01\", \"price\": 118.16}, {\"symbol\": \"IBM\", \"date\": \"2008-09-01\", \"price\": 113.53}, {\"symbol\": \"IBM\", \"date\": \"2008-10-01\", \"price\": 90.24}, {\"symbol\": \"IBM\", \"date\": \"2008-11-01\", \"price\": 79.65}, {\"symbol\": \"IBM\", \"date\": \"2008-12-01\", \"price\": 82.15}, {\"symbol\": \"IBM\", \"date\": \"2009-01-01\", \"price\": 89.46}, {\"symbol\": \"IBM\", \"date\": \"2009-02-01\", \"price\": 90.32}, {\"symbol\": \"IBM\", \"date\": \"2009-03-01\", \"price\": 95.09}, {\"symbol\": \"IBM\", \"date\": \"2009-04-01\", \"price\": 101.29}, {\"symbol\": \"IBM\", \"date\": \"2009-05-01\", \"price\": 104.85}, {\"symbol\": \"IBM\", \"date\": \"2009-06-01\", \"price\": 103.01}, {\"symbol\": \"IBM\", \"date\": \"2009-07-01\", \"price\": 116.34}, {\"symbol\": \"IBM\", \"date\": \"2009-08-01\", \"price\": 117.0}, {\"symbol\": \"IBM\", \"date\": \"2009-09-01\", \"price\": 118.55}, {\"symbol\": \"IBM\", \"date\": \"2009-10-01\", \"price\": 119.54}, {\"symbol\": \"IBM\", \"date\": \"2009-11-01\", \"price\": 125.79}, {\"symbol\": \"IBM\", \"date\": \"2009-12-01\", \"price\": 130.32}, {\"symbol\": \"IBM\", \"date\": \"2010-01-01\", \"price\": 121.85}, {\"symbol\": \"IBM\", \"date\": \"2010-02-01\", \"price\": 127.16}, {\"symbol\": \"IBM\", \"date\": \"2010-03-01\", \"price\": 125.55}, {\"symbol\": \"GOOG\", \"date\": \"2004-08-01\", \"price\": 102.37}, {\"symbol\": \"GOOG\", \"date\": \"2004-09-01\", \"price\": 129.6}, {\"symbol\": \"GOOG\", \"date\": \"2004-10-01\", \"price\": 190.64}, {\"symbol\": \"GOOG\", \"date\": \"2004-11-01\", \"price\": 181.98}, {\"symbol\": \"GOOG\", \"date\": \"2004-12-01\", \"price\": 192.79}, {\"symbol\": \"GOOG\", \"date\": \"2005-01-01\", \"price\": 195.62}, {\"symbol\": \"GOOG\", \"date\": \"2005-02-01\", \"price\": 187.99}, {\"symbol\": \"GOOG\", \"date\": \"2005-03-01\", \"price\": 180.51}, {\"symbol\": \"GOOG\", \"date\": \"2005-04-01\", \"price\": 220.0}, {\"symbol\": \"GOOG\", \"date\": \"2005-05-01\", \"price\": 277.27}, {\"symbol\": \"GOOG\", \"date\": \"2005-06-01\", \"price\": 294.15}, {\"symbol\": \"GOOG\", \"date\": \"2005-07-01\", \"price\": 287.76}, {\"symbol\": \"GOOG\", \"date\": \"2005-08-01\", \"price\": 286.0}, {\"symbol\": \"GOOG\", \"date\": \"2005-09-01\", \"price\": 316.46}, {\"symbol\": \"GOOG\", \"date\": \"2005-10-01\", \"price\": 372.14}, {\"symbol\": \"GOOG\", \"date\": \"2005-11-01\", \"price\": 404.91}, {\"symbol\": \"GOOG\", \"date\": \"2005-12-01\", \"price\": 414.86}, {\"symbol\": \"GOOG\", \"date\": \"2006-01-01\", \"price\": 432.66}, {\"symbol\": \"GOOG\", \"date\": \"2006-02-01\", \"price\": 362.62}, {\"symbol\": \"GOOG\", \"date\": \"2006-03-01\", \"price\": 390.0}, {\"symbol\": \"GOOG\", \"date\": \"2006-04-01\", \"price\": 417.94}, {\"symbol\": \"GOOG\", \"date\": \"2006-05-01\", \"price\": 371.82}, {\"symbol\": \"GOOG\", \"date\": \"2006-06-01\", \"price\": 419.33}, {\"symbol\": \"GOOG\", \"date\": \"2006-07-01\", \"price\": 386.6}, {\"symbol\": \"GOOG\", \"date\": \"2006-08-01\", \"price\": 378.53}, {\"symbol\": \"GOOG\", \"date\": \"2006-09-01\", \"price\": 401.9}, {\"symbol\": \"GOOG\", \"date\": \"2006-10-01\", \"price\": 476.39}, {\"symbol\": \"GOOG\", \"date\": \"2006-11-01\", \"price\": 484.81}, {\"symbol\": \"GOOG\", \"date\": \"2006-12-01\", \"price\": 460.48}, {\"symbol\": \"GOOG\", \"date\": \"2007-01-01\", \"price\": 501.5}, {\"symbol\": \"GOOG\", \"date\": \"2007-02-01\", \"price\": 449.45}, {\"symbol\": \"GOOG\", \"date\": \"2007-03-01\", \"price\": 458.16}, {\"symbol\": \"GOOG\", \"date\": \"2007-04-01\", \"price\": 471.38}, {\"symbol\": \"GOOG\", \"date\": \"2007-05-01\", \"price\": 497.91}, {\"symbol\": \"GOOG\", \"date\": \"2007-06-01\", \"price\": 522.7}, {\"symbol\": \"GOOG\", \"date\": \"2007-07-01\", \"price\": 510.0}, {\"symbol\": \"GOOG\", \"date\": \"2007-08-01\", \"price\": 515.25}, {\"symbol\": \"GOOG\", \"date\": \"2007-09-01\", \"price\": 567.27}, {\"symbol\": \"GOOG\", \"date\": \"2007-10-01\", \"price\": 707.0}, {\"symbol\": \"GOOG\", \"date\": \"2007-11-01\", \"price\": 693.0}, {\"symbol\": \"GOOG\", \"date\": \"2007-12-01\", \"price\": 691.48}, {\"symbol\": \"GOOG\", \"date\": \"2008-01-01\", \"price\": 564.3}, {\"symbol\": \"GOOG\", \"date\": \"2008-02-01\", \"price\": 471.18}, {\"symbol\": \"GOOG\", \"date\": \"2008-03-01\", \"price\": 440.47}, {\"symbol\": \"GOOG\", \"date\": \"2008-04-01\", \"price\": 574.29}, {\"symbol\": \"GOOG\", \"date\": \"2008-05-01\", \"price\": 585.8}, {\"symbol\": \"GOOG\", \"date\": \"2008-06-01\", \"price\": 526.42}, {\"symbol\": \"GOOG\", \"date\": \"2008-07-01\", \"price\": 473.75}, {\"symbol\": \"GOOG\", \"date\": \"2008-08-01\", \"price\": 463.29}, {\"symbol\": \"GOOG\", \"date\": \"2008-09-01\", \"price\": 400.52}, {\"symbol\": \"GOOG\", \"date\": \"2008-10-01\", \"price\": 359.36}, {\"symbol\": \"GOOG\", \"date\": \"2008-11-01\", \"price\": 292.96}, {\"symbol\": \"GOOG\", \"date\": \"2008-12-01\", \"price\": 307.65}, {\"symbol\": \"GOOG\", \"date\": \"2009-01-01\", \"price\": 338.53}, {\"symbol\": \"GOOG\", \"date\": \"2009-02-01\", \"price\": 337.99}, {\"symbol\": \"GOOG\", \"date\": \"2009-03-01\", \"price\": 348.06}, {\"symbol\": \"GOOG\", \"date\": \"2009-04-01\", \"price\": 395.97}, {\"symbol\": \"GOOG\", \"date\": \"2009-05-01\", \"price\": 417.23}, {\"symbol\": \"GOOG\", \"date\": \"2009-06-01\", \"price\": 421.59}, {\"symbol\": \"GOOG\", \"date\": \"2009-07-01\", \"price\": 443.05}, {\"symbol\": \"GOOG\", \"date\": \"2009-08-01\", \"price\": 461.67}, {\"symbol\": \"GOOG\", \"date\": \"2009-09-01\", \"price\": 495.85}, {\"symbol\": \"GOOG\", \"date\": \"2009-10-01\", \"price\": 536.12}, {\"symbol\": \"GOOG\", \"date\": \"2009-11-01\", \"price\": 583.0}, {\"symbol\": \"GOOG\", \"date\": \"2009-12-01\", \"price\": 619.98}, {\"symbol\": \"GOOG\", \"date\": \"2010-01-01\", \"price\": 529.94}, {\"symbol\": \"GOOG\", \"date\": \"2010-02-01\", \"price\": 526.8}, {\"symbol\": \"GOOG\", \"date\": \"2010-03-01\", \"price\": 560.19}, {\"symbol\": \"AAPL\", \"date\": \"2000-01-01\", \"price\": 25.94}, {\"symbol\": \"AAPL\", \"date\": \"2000-02-01\", \"price\": 28.66}, {\"symbol\": \"AAPL\", \"date\": \"2000-03-01\", \"price\": 33.95}, {\"symbol\": \"AAPL\", \"date\": \"2000-04-01\", \"price\": 31.01}, {\"symbol\": \"AAPL\", \"date\": \"2000-05-01\", \"price\": 21.0}, {\"symbol\": \"AAPL\", \"date\": \"2000-06-01\", \"price\": 26.19}, {\"symbol\": \"AAPL\", \"date\": \"2000-07-01\", \"price\": 25.41}, {\"symbol\": \"AAPL\", \"date\": \"2000-08-01\", \"price\": 30.47}, {\"symbol\": \"AAPL\", \"date\": \"2000-09-01\", \"price\": 12.88}, {\"symbol\": \"AAPL\", \"date\": \"2000-10-01\", \"price\": 9.78}, {\"symbol\": \"AAPL\", \"date\": \"2000-11-01\", \"price\": 8.25}, {\"symbol\": \"AAPL\", \"date\": \"2000-12-01\", \"price\": 7.44}, {\"symbol\": \"AAPL\", \"date\": \"2001-01-01\", \"price\": 10.81}, {\"symbol\": \"AAPL\", \"date\": \"2001-02-01\", \"price\": 9.12}, {\"symbol\": \"AAPL\", \"date\": \"2001-03-01\", \"price\": 11.03}, {\"symbol\": \"AAPL\", \"date\": \"2001-04-01\", \"price\": 12.74}, {\"symbol\": \"AAPL\", \"date\": \"2001-05-01\", \"price\": 9.98}, {\"symbol\": \"AAPL\", \"date\": \"2001-06-01\", \"price\": 11.62}, {\"symbol\": \"AAPL\", \"date\": \"2001-07-01\", \"price\": 9.4}, {\"symbol\": \"AAPL\", \"date\": \"2001-08-01\", \"price\": 9.27}, {\"symbol\": \"AAPL\", \"date\": \"2001-09-01\", \"price\": 7.76}, {\"symbol\": \"AAPL\", \"date\": \"2001-10-01\", \"price\": 8.78}, {\"symbol\": \"AAPL\", \"date\": \"2001-11-01\", \"price\": 10.65}, {\"symbol\": \"AAPL\", \"date\": \"2001-12-01\", \"price\": 10.95}, {\"symbol\": \"AAPL\", \"date\": \"2002-01-01\", \"price\": 12.36}, {\"symbol\": \"AAPL\", \"date\": \"2002-02-01\", \"price\": 10.85}, {\"symbol\": \"AAPL\", \"date\": \"2002-03-01\", \"price\": 11.84}, {\"symbol\": \"AAPL\", \"date\": \"2002-04-01\", \"price\": 12.14}, {\"symbol\": \"AAPL\", \"date\": \"2002-05-01\", \"price\": 11.65}, {\"symbol\": \"AAPL\", \"date\": \"2002-06-01\", \"price\": 8.86}, {\"symbol\": \"AAPL\", \"date\": \"2002-07-01\", \"price\": 7.63}, {\"symbol\": \"AAPL\", \"date\": \"2002-08-01\", \"price\": 7.38}, {\"symbol\": \"AAPL\", \"date\": \"2002-09-01\", \"price\": 7.25}, {\"symbol\": \"AAPL\", \"date\": \"2002-10-01\", \"price\": 8.03}, {\"symbol\": \"AAPL\", \"date\": \"2002-11-01\", \"price\": 7.75}, {\"symbol\": \"AAPL\", \"date\": \"2002-12-01\", \"price\": 7.16}, {\"symbol\": \"AAPL\", \"date\": \"2003-01-01\", \"price\": 7.18}, {\"symbol\": \"AAPL\", \"date\": \"2003-02-01\", \"price\": 7.51}, {\"symbol\": \"AAPL\", \"date\": \"2003-03-01\", \"price\": 7.07}, {\"symbol\": \"AAPL\", \"date\": \"2003-04-01\", \"price\": 7.11}, {\"symbol\": \"AAPL\", \"date\": \"2003-05-01\", \"price\": 8.98}, {\"symbol\": \"AAPL\", \"date\": \"2003-06-01\", \"price\": 9.53}, {\"symbol\": \"AAPL\", \"date\": \"2003-07-01\", \"price\": 10.54}, {\"symbol\": \"AAPL\", \"date\": \"2003-08-01\", \"price\": 11.31}, {\"symbol\": \"AAPL\", \"date\": \"2003-09-01\", \"price\": 10.36}, {\"symbol\": \"AAPL\", \"date\": \"2003-10-01\", \"price\": 11.44}, {\"symbol\": \"AAPL\", \"date\": \"2003-11-01\", \"price\": 10.45}, {\"symbol\": \"AAPL\", \"date\": \"2003-12-01\", \"price\": 10.69}, {\"symbol\": \"AAPL\", \"date\": \"2004-01-01\", \"price\": 11.28}, {\"symbol\": \"AAPL\", \"date\": \"2004-02-01\", \"price\": 11.96}, {\"symbol\": \"AAPL\", \"date\": \"2004-03-01\", \"price\": 13.52}, {\"symbol\": \"AAPL\", \"date\": \"2004-04-01\", \"price\": 12.89}, {\"symbol\": \"AAPL\", \"date\": \"2004-05-01\", \"price\": 14.03}, {\"symbol\": \"AAPL\", \"date\": \"2004-06-01\", \"price\": 16.27}, {\"symbol\": \"AAPL\", \"date\": \"2004-07-01\", \"price\": 16.17}, {\"symbol\": \"AAPL\", \"date\": \"2004-08-01\", \"price\": 17.25}, {\"symbol\": \"AAPL\", \"date\": \"2004-09-01\", \"price\": 19.38}, {\"symbol\": \"AAPL\", \"date\": \"2004-10-01\", \"price\": 26.2}, {\"symbol\": \"AAPL\", \"date\": \"2004-11-01\", \"price\": 33.53}, {\"symbol\": \"AAPL\", \"date\": \"2004-12-01\", \"price\": 32.2}, {\"symbol\": \"AAPL\", \"date\": \"2005-01-01\", \"price\": 38.45}, {\"symbol\": \"AAPL\", \"date\": \"2005-02-01\", \"price\": 44.86}, {\"symbol\": \"AAPL\", \"date\": \"2005-03-01\", \"price\": 41.67}, {\"symbol\": \"AAPL\", \"date\": \"2005-04-01\", \"price\": 36.06}, {\"symbol\": \"AAPL\", \"date\": \"2005-05-01\", \"price\": 39.76}, {\"symbol\": \"AAPL\", \"date\": \"2005-06-01\", \"price\": 36.81}, {\"symbol\": \"AAPL\", \"date\": \"2005-07-01\", \"price\": 42.65}, {\"symbol\": \"AAPL\", \"date\": \"2005-08-01\", \"price\": 46.89}, {\"symbol\": \"AAPL\", \"date\": \"2005-09-01\", \"price\": 53.61}, {\"symbol\": \"AAPL\", \"date\": \"2005-10-01\", \"price\": 57.59}, {\"symbol\": \"AAPL\", \"date\": \"2005-11-01\", \"price\": 67.82}, {\"symbol\": \"AAPL\", \"date\": \"2005-12-01\", \"price\": 71.89}, {\"symbol\": \"AAPL\", \"date\": \"2006-01-01\", \"price\": 75.51}, {\"symbol\": \"AAPL\", \"date\": \"2006-02-01\", \"price\": 68.49}, {\"symbol\": \"AAPL\", \"date\": \"2006-03-01\", \"price\": 62.72}, {\"symbol\": \"AAPL\", \"date\": \"2006-04-01\", \"price\": 70.39}, {\"symbol\": \"AAPL\", \"date\": \"2006-05-01\", \"price\": 59.77}, {\"symbol\": \"AAPL\", \"date\": \"2006-06-01\", \"price\": 57.27}, {\"symbol\": \"AAPL\", \"date\": \"2006-07-01\", \"price\": 67.96}, {\"symbol\": \"AAPL\", \"date\": \"2006-08-01\", \"price\": 67.85}, {\"symbol\": \"AAPL\", \"date\": \"2006-09-01\", \"price\": 76.98}, {\"symbol\": \"AAPL\", \"date\": \"2006-10-01\", \"price\": 81.08}, {\"symbol\": \"AAPL\", \"date\": \"2006-11-01\", \"price\": 91.66}, {\"symbol\": \"AAPL\", \"date\": \"2006-12-01\", \"price\": 84.84}, {\"symbol\": \"AAPL\", \"date\": \"2007-01-01\", \"price\": 85.73}, {\"symbol\": \"AAPL\", \"date\": \"2007-02-01\", \"price\": 84.61}, {\"symbol\": \"AAPL\", \"date\": \"2007-03-01\", \"price\": 92.91}, {\"symbol\": \"AAPL\", \"date\": \"2007-04-01\", \"price\": 99.8}, {\"symbol\": \"AAPL\", \"date\": \"2007-05-01\", \"price\": 121.19}, {\"symbol\": \"AAPL\", \"date\": \"2007-06-01\", \"price\": 122.04}, {\"symbol\": \"AAPL\", \"date\": \"2007-07-01\", \"price\": 131.76}, {\"symbol\": \"AAPL\", \"date\": \"2007-08-01\", \"price\": 138.48}, {\"symbol\": \"AAPL\", \"date\": \"2007-09-01\", \"price\": 153.47}, {\"symbol\": \"AAPL\", \"date\": \"2007-10-01\", \"price\": 189.95}, {\"symbol\": \"AAPL\", \"date\": \"2007-11-01\", \"price\": 182.22}, {\"symbol\": \"AAPL\", \"date\": \"2007-12-01\", \"price\": 198.08}, {\"symbol\": \"AAPL\", \"date\": \"2008-01-01\", \"price\": 135.36}, {\"symbol\": \"AAPL\", \"date\": \"2008-02-01\", \"price\": 125.02}, {\"symbol\": \"AAPL\", \"date\": \"2008-03-01\", \"price\": 143.5}, {\"symbol\": \"AAPL\", \"date\": \"2008-04-01\", \"price\": 173.95}, {\"symbol\": \"AAPL\", \"date\": \"2008-05-01\", \"price\": 188.75}, {\"symbol\": \"AAPL\", \"date\": \"2008-06-01\", \"price\": 167.44}, {\"symbol\": \"AAPL\", \"date\": \"2008-07-01\", \"price\": 158.95}, {\"symbol\": \"AAPL\", \"date\": \"2008-08-01\", \"price\": 169.53}, {\"symbol\": \"AAPL\", \"date\": \"2008-09-01\", \"price\": 113.66}, {\"symbol\": \"AAPL\", \"date\": \"2008-10-01\", \"price\": 107.59}, {\"symbol\": \"AAPL\", \"date\": \"2008-11-01\", \"price\": 92.67}, {\"symbol\": \"AAPL\", \"date\": \"2008-12-01\", \"price\": 85.35}, {\"symbol\": \"AAPL\", \"date\": \"2009-01-01\", \"price\": 90.13}, {\"symbol\": \"AAPL\", \"date\": \"2009-02-01\", \"price\": 89.31}, {\"symbol\": \"AAPL\", \"date\": \"2009-03-01\", \"price\": 105.12}, {\"symbol\": \"AAPL\", \"date\": \"2009-04-01\", \"price\": 125.83}, {\"symbol\": \"AAPL\", \"date\": \"2009-05-01\", \"price\": 135.81}, {\"symbol\": \"AAPL\", \"date\": \"2009-06-01\", \"price\": 142.43}, {\"symbol\": \"AAPL\", \"date\": \"2009-07-01\", \"price\": 163.39}, {\"symbol\": \"AAPL\", \"date\": \"2009-08-01\", \"price\": 168.21}, {\"symbol\": \"AAPL\", \"date\": \"2009-09-01\", \"price\": 185.35}, {\"symbol\": \"AAPL\", \"date\": \"2009-10-01\", \"price\": 188.5}, {\"symbol\": \"AAPL\", \"date\": \"2009-11-01\", \"price\": 199.91}, {\"symbol\": \"AAPL\", \"date\": \"2009-12-01\", \"price\": 210.73}, {\"symbol\": \"AAPL\", \"date\": \"2010-01-01\", \"price\": 192.06}, {\"symbol\": \"AAPL\", \"date\": \"2010-02-01\", \"price\": 204.62}, {\"symbol\": \"AAPL\", \"date\": \"2010-03-01\", \"price\": 223.02}]}, \"mark\": \"line\", \"encoding\": {\"color\": {\"type\": \"nominal\", \"field\": \"symbol\"}, \"x\": {\"type\": \"temporal\", \"field\": \"date\"}, \"y\": {\"type\": \"quantitative\", \"field\": \"price\"}}, \"selection\": {\"selector001\": {\"type\": \"interval\", \"bind\": \"scales\", \"encodings\": [\"x\", \"y\"]}}, \"$schema\": \"https://vega.github.io/schema/vega-lite/v2.4.3.json\"};\n",
              "    var embed_opt = {\"mode\": \"vega-lite\"};\n",
              "\n",
              "    function showError(el, error){\n",
              "        el.innerHTML = ('<div class=\"error\">'\n",
              "                        + '<p>JavaScript Error: ' + error.message + '</p>'\n",
              "                        + \"<p>This usually means there's a typo in your chart specification. \"\n",
              "                        + \"See the javascript console for the full traceback.</p>\"\n",
              "                        + '</div>');\n",
              "        throw error;\n",
              "    }\n",
              "    const el = document.getElementById('vis');\n",
              "    vegaEmbed(\"#vis\", spec, embed_opt)\n",
              "      .catch(error => showError(el, error));\n",
              "  </script>\n",
              "</body>\n",
              "</html>\n"
            ]
          },
          "metadata": {
            "tags": []
          },
          "execution_count": 14
        }
      ]
    },
    {
      "cell_type": "markdown",
      "metadata": {
        "id": "rTyJxIkaqlhK",
        "colab_type": "text"
      },
      "source": [
        "##### Descripción del ejemplo\n",
        "Un caso comun para los graficos de línea es las series de tiempo para describir algún dato en el tiempo. Para generar la serie de tiempo, solo es necesario asegurar que al eje X se le asigne una columna con fechas.\n",
        "\n",
        "- **Línea 4**\n",
        "\n",
        "```python\n",
        "stocks = data.stocks()\n",
        "```\n",
        "Se guarda en la variable `stock` un DataFrame con los datos del precio de diferentes empresas durante los años.\n",
        "\n",
        "----------------\n",
        "\n",
        "- **Línea 9**\n",
        "\n",
        "```python\n",
        "color='symbol'\n",
        "```\n",
        "Utilizar el argumento `color` bajo esta marca permite  agregar multiples líneas a la visualización según el valor que tenga la columna señalada. En este caso le indicamos que le otorge un color distinto en función de la columna _symbol_.\n",
        "\n",
        "-----------\n",
        "- **Linea10**\n",
        "\n",
        "```python\n",
        ".interactive()\n",
        "```\n",
        "Este método transforma el gráfico estático en uno interactivo, que permite hacer _zoom_ y moverse en él. De este modo podemos observar con mayor detalle alguna zona del gráfico."
      ]
    },
    {
      "cell_type": "markdown",
      "metadata": {
        "id": "Z0E1x_xiqln1",
        "colab_type": "text"
      },
      "source": [
        "#### Actividad 8: series de tiempo\n",
        "\n",
        "Seleccione 3 paises e indique en 1 gráfico la cantidad de inmigrantes de dichos paises por años de llegada.\n"
      ]
    },
    {
      "cell_type": "code",
      "metadata": {
        "id": "KmkIze0bql34",
        "colab_type": "code",
        "colab": {}
      },
      "source": [
        ""
      ],
      "execution_count": 0,
      "outputs": []
    },
    {
      "cell_type": "markdown",
      "metadata": {
        "id": "Mx40iYuxrOKR",
        "colab_type": "text"
      },
      "source": [
        "### Gráficos de dispersión"
      ]
    },
    {
      "cell_type": "markdown",
      "metadata": {
        "id": "ttVoaHiGrOKV",
        "colab_type": "text"
      },
      "source": [
        "#### Scatterplot"
      ]
    },
    {
      "cell_type": "code",
      "metadata": {
        "id": "Tkxb6rBzrOKX",
        "colab_type": "code",
        "outputId": "80b817e0-2537-4da7-8874-cec52682b789",
        "colab": {
          "base_uri": "https://localhost:8080/",
          "height": 389
        }
      },
      "source": [
        "import altair as alt\n",
        "from vega_datasets import data\n",
        "\n",
        "source = data.cars()\n",
        "\n",
        "alt.Chart(source).mark_circle().encode(\n",
        "    x='Horsepower',\n",
        "    y='Miles_per_Gallon',\n",
        ")"
      ],
      "execution_count": 0,
      "outputs": [
        {
          "output_type": "execute_result",
          "data": {
            "text/plain": [
              "Chart({\n",
              "  data:      Acceleration  Cylinders  Displacement  Horsepower  Miles_per_Gallon  \\\n",
              "  0            12.0          8         307.0       130.0              18.0   \n",
              "  1            11.5          8         350.0       165.0              15.0   \n",
              "  2            11.0          8         318.0       150.0              18.0   \n",
              "  3            12.0          8         304.0       150.0              16.0   \n",
              "  4            10.5          8         302.0       140.0              17.0   \n",
              "  5            10.0          8         429.0       198.0              15.0   \n",
              "  6             9.0          8         454.0       220.0              14.0   \n",
              "  7             8.5          8         440.0       215.0              14.0   \n",
              "  8            10.0          8         455.0       225.0              14.0   \n",
              "  9             8.5          8         390.0       190.0              15.0   \n",
              "  10           17.5          4         133.0       115.0               NaN   \n",
              "  11           11.5          8         350.0       165.0               NaN   \n",
              "  12           11.0          8         351.0       153.0               NaN   \n",
              "  13           10.5          8         383.0       175.0               NaN   \n",
              "  14           11.0          8         360.0       175.0               NaN   \n",
              "  15           10.0          8         383.0       170.0              15.0   \n",
              "  16            8.0          8         340.0       160.0              14.0   \n",
              "  17            8.0          8         302.0       140.0               NaN   \n",
              "  18            9.5          8         400.0       150.0              15.0   \n",
              "  19           10.0          8         455.0       225.0              14.0   \n",
              "  20           15.0          4         113.0        95.0              24.0   \n",
              "  21           15.5          6         198.0        95.0              22.0   \n",
              "  22           15.5          6         199.0        97.0              18.0   \n",
              "  23           16.0          6         200.0        85.0              21.0   \n",
              "  24           14.5          4          97.0        88.0              27.0   \n",
              "  25           20.5          4          97.0        46.0              26.0   \n",
              "  26           17.5          4         110.0        87.0              25.0   \n",
              "  27           14.5          4         107.0        90.0              24.0   \n",
              "  28           17.5          4         104.0        95.0              25.0   \n",
              "  29           12.5          4         121.0       113.0              26.0   \n",
              "  ..            ...        ...           ...         ...               ...   \n",
              "  376          18.6          4         112.0        88.0              27.0   \n",
              "  377          18.0          4         112.0        88.0              34.0   \n",
              "  378          16.2          4         112.0        85.0              31.0   \n",
              "  379          16.0          4         135.0        84.0              29.0   \n",
              "  380          18.0          4         151.0        90.0              27.0   \n",
              "  381          16.4          4         140.0        92.0              24.0   \n",
              "  382          20.5          4         151.0         NaN              23.0   \n",
              "  383          15.3          4         105.0        74.0              36.0   \n",
              "  384          18.2          4          91.0        68.0              37.0   \n",
              "  385          17.6          4          91.0        68.0              31.0   \n",
              "  386          14.7          4         105.0        63.0              38.0   \n",
              "  387          17.3          4          98.0        70.0              36.0   \n",
              "  388          14.5          4         120.0        88.0              36.0   \n",
              "  389          14.5          4         107.0        75.0              36.0   \n",
              "  390          16.9          4         108.0        70.0              34.0   \n",
              "  391          15.0          4          91.0        67.0              38.0   \n",
              "  392          15.7          4          91.0        67.0              32.0   \n",
              "  393          16.2          4          91.0        67.0              38.0   \n",
              "  394          16.4          6         181.0       110.0              25.0   \n",
              "  395          17.0          6         262.0        85.0              38.0   \n",
              "  396          14.5          4         156.0        92.0              26.0   \n",
              "  397          14.7          6         232.0       112.0              22.0   \n",
              "  398          13.9          4         144.0        96.0              32.0   \n",
              "  399          13.0          4         135.0        84.0              36.0   \n",
              "  400          17.3          4         151.0        90.0              27.0   \n",
              "  401          15.6          4         140.0        86.0              27.0   \n",
              "  402          24.6          4          97.0        52.0              44.0   \n",
              "  403          11.6          4         135.0        84.0              32.0   \n",
              "  404          18.6          4         120.0        79.0              28.0   \n",
              "  405          19.4          4         119.0        82.0              31.0   \n",
              "  \n",
              "                                    Name  Origin  Weight_in_lbs       Year  \n",
              "  0            chevrolet chevelle malibu     USA           3504 1970-01-01  \n",
              "  1                    buick skylark 320     USA           3693 1970-01-01  \n",
              "  2                   plymouth satellite     USA           3436 1970-01-01  \n",
              "  3                        amc rebel sst     USA           3433 1970-01-01  \n",
              "  4                          ford torino     USA           3449 1970-01-01  \n",
              "  5                     ford galaxie 500     USA           4341 1970-01-01  \n",
              "  6                     chevrolet impala     USA           4354 1970-01-01  \n",
              "  7                    plymouth fury iii     USA           4312 1970-01-01  \n",
              "  8                     pontiac catalina     USA           4425 1970-01-01  \n",
              "  9                   amc ambassador dpl     USA           3850 1970-01-01  \n",
              "  10                citroen ds-21 pallas  Europe           3090 1970-01-01  \n",
              "  11    chevrolet chevelle concours (sw)     USA           4142 1970-01-01  \n",
              "  12                    ford torino (sw)     USA           4034 1970-01-01  \n",
              "  13             plymouth satellite (sw)     USA           4166 1970-01-01  \n",
              "  14                  amc rebel sst (sw)     USA           3850 1970-01-01  \n",
              "  15                 dodge challenger se     USA           3563 1970-01-01  \n",
              "  16                  plymouth 'cuda 340     USA           3609 1970-01-01  \n",
              "  17               ford mustang boss 302     USA           3353 1970-01-01  \n",
              "  18               chevrolet monte carlo     USA           3761 1970-01-01  \n",
              "  19             buick estate wagon (sw)     USA           3086 1970-01-01  \n",
              "  20               toyota corona mark ii   Japan           2372 1970-01-01  \n",
              "  21                     plymouth duster     USA           2833 1970-01-01  \n",
              "  22                          amc hornet     USA           2774 1970-01-01  \n",
              "  23                       ford maverick     USA           2587 1970-01-01  \n",
              "  24                        datsun pl510   Japan           2130 1970-01-01  \n",
              "  25        volkswagen 1131 deluxe sedan  Europe           1835 1970-01-01  \n",
              "  26                         peugeot 504  Europe           2672 1970-01-01  \n",
              "  27                         audi 100 ls  Europe           2430 1970-01-01  \n",
              "  28                            saab 99e  Europe           2375 1970-01-01  \n",
              "  29                            bmw 2002  Europe           2234 1970-01-01  \n",
              "  ..                                 ...     ...            ...        ...  \n",
              "  376           chevrolet cavalier wagon     USA           2640 1982-01-01  \n",
              "  377          chevrolet cavalier 2-door     USA           2395 1982-01-01  \n",
              "  378         pontiac j2000 se hatchback     USA           2575 1982-01-01  \n",
              "  379                     dodge aries se     USA           2525 1982-01-01  \n",
              "  380                    pontiac phoenix     USA           2735 1982-01-01  \n",
              "  381               ford fairmont futura     USA           2865 1982-01-01  \n",
              "  382                     amc concord dl     USA           3035 1982-01-01  \n",
              "  383                volkswagen rabbit l  Europe           1980 1982-01-01  \n",
              "  384                 mazda glc custom l   Japan           2025 1982-01-01  \n",
              "  385                   mazda glc custom   Japan           1970 1982-01-01  \n",
              "  386             plymouth horizon miser     USA           2125 1982-01-01  \n",
              "  387                     mercury lynx l     USA           2125 1982-01-01  \n",
              "  388                   nissan stanza xe   Japan           2160 1982-01-01  \n",
              "  389              honda Accelerationord   Japan           2205 1982-01-01  \n",
              "  390                     toyota corolla   Japan           2245 1982-01-01  \n",
              "  391                        honda civic   Japan           1965 1982-01-01  \n",
              "  392                 honda civic (auto)   Japan           1965 1982-01-01  \n",
              "  393                      datsun 310 gx   Japan           1995 1982-01-01  \n",
              "  394              buick century limited     USA           2945 1982-01-01  \n",
              "  395  oldsmobile cutlass ciera (diesel)     USA           3015 1982-01-01  \n",
              "  396         chrysler lebaron medallion     USA           2585 1982-01-01  \n",
              "  397                     ford granada l     USA           2835 1982-01-01  \n",
              "  398                   toyota celica gt   Japan           2665 1982-01-01  \n",
              "  399                  dodge charger 2.2     USA           2370 1982-01-01  \n",
              "  400                   chevrolet camaro     USA           2950 1982-01-01  \n",
              "  401                    ford mustang gl     USA           2790 1982-01-01  \n",
              "  402                          vw pickup  Europe           2130 1982-01-01  \n",
              "  403                      dodge rampage     USA           2295 1982-01-01  \n",
              "  404                        ford ranger     USA           2625 1982-01-01  \n",
              "  405                         chevy s-10     USA           2720 1982-01-01  \n",
              "  \n",
              "  [406 rows x 9 columns],\n",
              "  encoding: EncodingWithFacet({\n",
              "    x: X({\n",
              "      shorthand: 'Horsepower'\n",
              "    }),\n",
              "    y: Y({\n",
              "      shorthand: 'Miles_per_Gallon'\n",
              "    })\n",
              "  }),\n",
              "  mark: 'circle'\n",
              "})"
            ],
            "text/html": [
              "\n",
              "<!DOCTYPE html>\n",
              "<html>\n",
              "<head>\n",
              "  <style>\n",
              "    .vega-actions a {\n",
              "        margin-right: 12px;\n",
              "        color: #757575;\n",
              "        font-weight: normal;\n",
              "        font-size: 13px;\n",
              "    }\n",
              "    .error {\n",
              "        color: red;\n",
              "    }\n",
              "  </style>\n",
              "\n",
              "<script src=\"https://cdn.jsdelivr.net/npm//vega@3.3.1\"></script>\n",
              "<script src=\"https://cdn.jsdelivr.net/npm//vega-lite@2.4.3\"></script>\n",
              "<script src=\"https://cdn.jsdelivr.net/npm//vega-embed@3.11\"></script>\n",
              "\n",
              "</head>\n",
              "<body>\n",
              "  <div id=\"vis\"></div>\n",
              "  <script type=\"text/javascript\">\n",
              "    var spec = {\"config\": {\"view\": {\"width\": 400, \"height\": 300}}, \"data\": {\"values\": [{\"Acceleration\": 12.0, \"Cylinders\": 8, \"Displacement\": 307.0, \"Horsepower\": 130.0, \"Miles_per_Gallon\": 18.0, \"Name\": \"chevrolet chevelle malibu\", \"Origin\": \"USA\", \"Weight_in_lbs\": 3504, \"Year\": \"1970-01-01\"}, {\"Acceleration\": 11.5, \"Cylinders\": 8, \"Displacement\": 350.0, \"Horsepower\": 165.0, \"Miles_per_Gallon\": 15.0, \"Name\": \"buick skylark 320\", \"Origin\": \"USA\", \"Weight_in_lbs\": 3693, \"Year\": \"1970-01-01\"}, {\"Acceleration\": 11.0, \"Cylinders\": 8, \"Displacement\": 318.0, \"Horsepower\": 150.0, \"Miles_per_Gallon\": 18.0, \"Name\": \"plymouth satellite\", \"Origin\": \"USA\", \"Weight_in_lbs\": 3436, \"Year\": \"1970-01-01\"}, {\"Acceleration\": 12.0, \"Cylinders\": 8, \"Displacement\": 304.0, \"Horsepower\": 150.0, \"Miles_per_Gallon\": 16.0, \"Name\": \"amc rebel sst\", \"Origin\": \"USA\", \"Weight_in_lbs\": 3433, \"Year\": \"1970-01-01\"}, {\"Acceleration\": 10.5, \"Cylinders\": 8, \"Displacement\": 302.0, \"Horsepower\": 140.0, \"Miles_per_Gallon\": 17.0, \"Name\": \"ford torino\", \"Origin\": \"USA\", \"Weight_in_lbs\": 3449, \"Year\": \"1970-01-01\"}, {\"Acceleration\": 10.0, \"Cylinders\": 8, \"Displacement\": 429.0, \"Horsepower\": 198.0, \"Miles_per_Gallon\": 15.0, \"Name\": \"ford galaxie 500\", \"Origin\": \"USA\", \"Weight_in_lbs\": 4341, \"Year\": \"1970-01-01\"}, {\"Acceleration\": 9.0, \"Cylinders\": 8, \"Displacement\": 454.0, \"Horsepower\": 220.0, \"Miles_per_Gallon\": 14.0, \"Name\": \"chevrolet impala\", \"Origin\": \"USA\", \"Weight_in_lbs\": 4354, \"Year\": \"1970-01-01\"}, {\"Acceleration\": 8.5, \"Cylinders\": 8, \"Displacement\": 440.0, \"Horsepower\": 215.0, \"Miles_per_Gallon\": 14.0, \"Name\": \"plymouth fury iii\", \"Origin\": \"USA\", \"Weight_in_lbs\": 4312, \"Year\": \"1970-01-01\"}, {\"Acceleration\": 10.0, \"Cylinders\": 8, \"Displacement\": 455.0, \"Horsepower\": 225.0, \"Miles_per_Gallon\": 14.0, \"Name\": \"pontiac catalina\", \"Origin\": \"USA\", \"Weight_in_lbs\": 4425, \"Year\": \"1970-01-01\"}, {\"Acceleration\": 8.5, \"Cylinders\": 8, \"Displacement\": 390.0, \"Horsepower\": 190.0, \"Miles_per_Gallon\": 15.0, \"Name\": \"amc ambassador dpl\", \"Origin\": \"USA\", \"Weight_in_lbs\": 3850, \"Year\": \"1970-01-01\"}, {\"Acceleration\": 17.5, \"Cylinders\": 4, \"Displacement\": 133.0, \"Horsepower\": 115.0, \"Miles_per_Gallon\": null, \"Name\": \"citroen ds-21 pallas\", \"Origin\": \"Europe\", \"Weight_in_lbs\": 3090, \"Year\": \"1970-01-01\"}, {\"Acceleration\": 11.5, \"Cylinders\": 8, \"Displacement\": 350.0, \"Horsepower\": 165.0, \"Miles_per_Gallon\": null, \"Name\": \"chevrolet chevelle concours (sw)\", \"Origin\": \"USA\", \"Weight_in_lbs\": 4142, \"Year\": \"1970-01-01\"}, {\"Acceleration\": 11.0, \"Cylinders\": 8, \"Displacement\": 351.0, \"Horsepower\": 153.0, \"Miles_per_Gallon\": null, \"Name\": \"ford torino (sw)\", \"Origin\": \"USA\", \"Weight_in_lbs\": 4034, \"Year\": \"1970-01-01\"}, {\"Acceleration\": 10.5, \"Cylinders\": 8, \"Displacement\": 383.0, \"Horsepower\": 175.0, \"Miles_per_Gallon\": null, \"Name\": \"plymouth satellite (sw)\", \"Origin\": \"USA\", \"Weight_in_lbs\": 4166, \"Year\": \"1970-01-01\"}, {\"Acceleration\": 11.0, \"Cylinders\": 8, \"Displacement\": 360.0, \"Horsepower\": 175.0, \"Miles_per_Gallon\": null, \"Name\": \"amc rebel sst (sw)\", \"Origin\": \"USA\", \"Weight_in_lbs\": 3850, \"Year\": \"1970-01-01\"}, {\"Acceleration\": 10.0, \"Cylinders\": 8, \"Displacement\": 383.0, \"Horsepower\": 170.0, \"Miles_per_Gallon\": 15.0, \"Name\": \"dodge challenger se\", \"Origin\": \"USA\", \"Weight_in_lbs\": 3563, \"Year\": \"1970-01-01\"}, {\"Acceleration\": 8.0, \"Cylinders\": 8, \"Displacement\": 340.0, \"Horsepower\": 160.0, \"Miles_per_Gallon\": 14.0, \"Name\": \"plymouth 'cuda 340\", \"Origin\": \"USA\", \"Weight_in_lbs\": 3609, \"Year\": \"1970-01-01\"}, {\"Acceleration\": 8.0, \"Cylinders\": 8, \"Displacement\": 302.0, \"Horsepower\": 140.0, \"Miles_per_Gallon\": null, \"Name\": \"ford mustang boss 302\", \"Origin\": \"USA\", \"Weight_in_lbs\": 3353, \"Year\": \"1970-01-01\"}, {\"Acceleration\": 9.5, \"Cylinders\": 8, \"Displacement\": 400.0, \"Horsepower\": 150.0, \"Miles_per_Gallon\": 15.0, \"Name\": \"chevrolet monte carlo\", \"Origin\": \"USA\", \"Weight_in_lbs\": 3761, \"Year\": \"1970-01-01\"}, {\"Acceleration\": 10.0, \"Cylinders\": 8, \"Displacement\": 455.0, \"Horsepower\": 225.0, \"Miles_per_Gallon\": 14.0, \"Name\": \"buick estate wagon (sw)\", \"Origin\": \"USA\", \"Weight_in_lbs\": 3086, \"Year\": \"1970-01-01\"}, {\"Acceleration\": 15.0, \"Cylinders\": 4, \"Displacement\": 113.0, \"Horsepower\": 95.0, \"Miles_per_Gallon\": 24.0, \"Name\": \"toyota corona mark ii\", \"Origin\": \"Japan\", \"Weight_in_lbs\": 2372, \"Year\": \"1970-01-01\"}, {\"Acceleration\": 15.5, \"Cylinders\": 6, \"Displacement\": 198.0, \"Horsepower\": 95.0, \"Miles_per_Gallon\": 22.0, \"Name\": \"plymouth duster\", \"Origin\": \"USA\", \"Weight_in_lbs\": 2833, \"Year\": \"1970-01-01\"}, {\"Acceleration\": 15.5, \"Cylinders\": 6, \"Displacement\": 199.0, \"Horsepower\": 97.0, \"Miles_per_Gallon\": 18.0, \"Name\": \"amc hornet\", \"Origin\": \"USA\", \"Weight_in_lbs\": 2774, \"Year\": \"1970-01-01\"}, {\"Acceleration\": 16.0, \"Cylinders\": 6, \"Displacement\": 200.0, \"Horsepower\": 85.0, \"Miles_per_Gallon\": 21.0, \"Name\": \"ford maverick\", \"Origin\": \"USA\", \"Weight_in_lbs\": 2587, \"Year\": \"1970-01-01\"}, {\"Acceleration\": 14.5, \"Cylinders\": 4, \"Displacement\": 97.0, \"Horsepower\": 88.0, \"Miles_per_Gallon\": 27.0, \"Name\": \"datsun pl510\", \"Origin\": \"Japan\", \"Weight_in_lbs\": 2130, \"Year\": \"1970-01-01\"}, {\"Acceleration\": 20.5, \"Cylinders\": 4, \"Displacement\": 97.0, \"Horsepower\": 46.0, \"Miles_per_Gallon\": 26.0, \"Name\": \"volkswagen 1131 deluxe sedan\", \"Origin\": \"Europe\", \"Weight_in_lbs\": 1835, \"Year\": \"1970-01-01\"}, {\"Acceleration\": 17.5, \"Cylinders\": 4, \"Displacement\": 110.0, \"Horsepower\": 87.0, \"Miles_per_Gallon\": 25.0, \"Name\": \"peugeot 504\", \"Origin\": \"Europe\", \"Weight_in_lbs\": 2672, \"Year\": \"1970-01-01\"}, {\"Acceleration\": 14.5, \"Cylinders\": 4, \"Displacement\": 107.0, \"Horsepower\": 90.0, \"Miles_per_Gallon\": 24.0, \"Name\": \"audi 100 ls\", \"Origin\": \"Europe\", \"Weight_in_lbs\": 2430, \"Year\": \"1970-01-01\"}, {\"Acceleration\": 17.5, \"Cylinders\": 4, \"Displacement\": 104.0, \"Horsepower\": 95.0, \"Miles_per_Gallon\": 25.0, \"Name\": \"saab 99e\", \"Origin\": \"Europe\", \"Weight_in_lbs\": 2375, \"Year\": \"1970-01-01\"}, {\"Acceleration\": 12.5, \"Cylinders\": 4, \"Displacement\": 121.0, \"Horsepower\": 113.0, \"Miles_per_Gallon\": 26.0, \"Name\": \"bmw 2002\", \"Origin\": \"Europe\", \"Weight_in_lbs\": 2234, \"Year\": \"1970-01-01\"}, {\"Acceleration\": 15.0, \"Cylinders\": 6, \"Displacement\": 199.0, \"Horsepower\": 90.0, \"Miles_per_Gallon\": 21.0, \"Name\": \"amc gremlin\", \"Origin\": \"USA\", \"Weight_in_lbs\": 2648, \"Year\": \"1970-01-01\"}, {\"Acceleration\": 14.0, \"Cylinders\": 8, \"Displacement\": 360.0, \"Horsepower\": 215.0, \"Miles_per_Gallon\": 10.0, \"Name\": \"ford f250\", \"Origin\": \"USA\", \"Weight_in_lbs\": 4615, \"Year\": \"1970-01-01\"}, {\"Acceleration\": 15.0, \"Cylinders\": 8, \"Displacement\": 307.0, \"Horsepower\": 200.0, \"Miles_per_Gallon\": 10.0, \"Name\": \"chevy c20\", \"Origin\": \"USA\", \"Weight_in_lbs\": 4376, \"Year\": \"1970-01-01\"}, {\"Acceleration\": 13.5, \"Cylinders\": 8, \"Displacement\": 318.0, \"Horsepower\": 210.0, \"Miles_per_Gallon\": 11.0, \"Name\": \"dodge d200\", \"Origin\": \"USA\", \"Weight_in_lbs\": 4382, \"Year\": \"1970-01-01\"}, {\"Acceleration\": 18.5, \"Cylinders\": 8, \"Displacement\": 304.0, \"Horsepower\": 193.0, \"Miles_per_Gallon\": 9.0, \"Name\": \"hi 1200d\", \"Origin\": \"USA\", \"Weight_in_lbs\": 4732, \"Year\": \"1970-01-01\"}, {\"Acceleration\": 14.5, \"Cylinders\": 4, \"Displacement\": 97.0, \"Horsepower\": 88.0, \"Miles_per_Gallon\": 27.0, \"Name\": \"datsun pl510\", \"Origin\": \"Japan\", \"Weight_in_lbs\": 2130, \"Year\": \"1971-01-01\"}, {\"Acceleration\": 15.5, \"Cylinders\": 4, \"Displacement\": 140.0, \"Horsepower\": 90.0, \"Miles_per_Gallon\": 28.0, \"Name\": \"chevrolet vega 2300\", \"Origin\": \"USA\", \"Weight_in_lbs\": 2264, \"Year\": \"1971-01-01\"}, {\"Acceleration\": 14.0, \"Cylinders\": 4, \"Displacement\": 113.0, \"Horsepower\": 95.0, \"Miles_per_Gallon\": 25.0, \"Name\": \"toyota corona\", \"Origin\": \"Japan\", \"Weight_in_lbs\": 2228, \"Year\": \"1971-01-01\"}, {\"Acceleration\": 19.0, \"Cylinders\": 4, \"Displacement\": 98.0, \"Horsepower\": null, \"Miles_per_Gallon\": 25.0, \"Name\": \"ford pinto\", \"Origin\": \"USA\", \"Weight_in_lbs\": 2046, \"Year\": \"1971-01-01\"}, {\"Acceleration\": 20.0, \"Cylinders\": 4, \"Displacement\": 97.0, \"Horsepower\": 48.0, \"Miles_per_Gallon\": null, \"Name\": \"volkswagen super beetle 117\", \"Origin\": \"Europe\", \"Weight_in_lbs\": 1978, \"Year\": \"1971-01-01\"}, {\"Acceleration\": 13.0, \"Cylinders\": 6, \"Displacement\": 232.0, \"Horsepower\": 100.0, \"Miles_per_Gallon\": 19.0, \"Name\": \"amc gremlin\", \"Origin\": \"USA\", \"Weight_in_lbs\": 2634, \"Year\": \"1971-01-01\"}, {\"Acceleration\": 15.5, \"Cylinders\": 6, \"Displacement\": 225.0, \"Horsepower\": 105.0, \"Miles_per_Gallon\": 16.0, \"Name\": \"plymouth satellite custom\", \"Origin\": \"USA\", \"Weight_in_lbs\": 3439, \"Year\": \"1971-01-01\"}, {\"Acceleration\": 15.5, \"Cylinders\": 6, \"Displacement\": 250.0, \"Horsepower\": 100.0, \"Miles_per_Gallon\": 17.0, \"Name\": \"chevrolet chevelle malibu\", \"Origin\": \"USA\", \"Weight_in_lbs\": 3329, \"Year\": \"1971-01-01\"}, {\"Acceleration\": 15.5, \"Cylinders\": 6, \"Displacement\": 250.0, \"Horsepower\": 88.0, \"Miles_per_Gallon\": 19.0, \"Name\": \"ford torino 500\", \"Origin\": \"USA\", \"Weight_in_lbs\": 3302, \"Year\": \"1971-01-01\"}, {\"Acceleration\": 15.5, \"Cylinders\": 6, \"Displacement\": 232.0, \"Horsepower\": 100.0, \"Miles_per_Gallon\": 18.0, \"Name\": \"amc matador\", \"Origin\": \"USA\", \"Weight_in_lbs\": 3288, \"Year\": \"1971-01-01\"}, {\"Acceleration\": 12.0, \"Cylinders\": 8, \"Displacement\": 350.0, \"Horsepower\": 165.0, \"Miles_per_Gallon\": 14.0, \"Name\": \"chevrolet impala\", \"Origin\": \"USA\", \"Weight_in_lbs\": 4209, \"Year\": \"1971-01-01\"}, {\"Acceleration\": 11.5, \"Cylinders\": 8, \"Displacement\": 400.0, \"Horsepower\": 175.0, \"Miles_per_Gallon\": 14.0, \"Name\": \"pontiac catalina brougham\", \"Origin\": \"USA\", \"Weight_in_lbs\": 4464, \"Year\": \"1971-01-01\"}, {\"Acceleration\": 13.5, \"Cylinders\": 8, \"Displacement\": 351.0, \"Horsepower\": 153.0, \"Miles_per_Gallon\": 14.0, \"Name\": \"ford galaxie 500\", \"Origin\": \"USA\", \"Weight_in_lbs\": 4154, \"Year\": \"1971-01-01\"}, {\"Acceleration\": 13.0, \"Cylinders\": 8, \"Displacement\": 318.0, \"Horsepower\": 150.0, \"Miles_per_Gallon\": 14.0, \"Name\": \"plymouth fury iii\", \"Origin\": \"USA\", \"Weight_in_lbs\": 4096, \"Year\": \"1971-01-01\"}, {\"Acceleration\": 11.5, \"Cylinders\": 8, \"Displacement\": 383.0, \"Horsepower\": 180.0, \"Miles_per_Gallon\": 12.0, \"Name\": \"dodge monaco (sw)\", \"Origin\": \"USA\", \"Weight_in_lbs\": 4955, \"Year\": \"1971-01-01\"}, {\"Acceleration\": 12.0, \"Cylinders\": 8, \"Displacement\": 400.0, \"Horsepower\": 170.0, \"Miles_per_Gallon\": 13.0, \"Name\": \"ford country squire (sw)\", \"Origin\": \"USA\", \"Weight_in_lbs\": 4746, \"Year\": \"1971-01-01\"}, {\"Acceleration\": 12.0, \"Cylinders\": 8, \"Displacement\": 400.0, \"Horsepower\": 175.0, \"Miles_per_Gallon\": 13.0, \"Name\": \"pontiac safari (sw)\", \"Origin\": \"USA\", \"Weight_in_lbs\": 5140, \"Year\": \"1971-01-01\"}, {\"Acceleration\": 13.5, \"Cylinders\": 6, \"Displacement\": 258.0, \"Horsepower\": 110.0, \"Miles_per_Gallon\": 18.0, \"Name\": \"amc hornet sportabout (sw)\", \"Origin\": \"USA\", \"Weight_in_lbs\": 2962, \"Year\": \"1971-01-01\"}, {\"Acceleration\": 19.0, \"Cylinders\": 4, \"Displacement\": 140.0, \"Horsepower\": 72.0, \"Miles_per_Gallon\": 22.0, \"Name\": \"chevrolet vega (sw)\", \"Origin\": \"USA\", \"Weight_in_lbs\": 2408, \"Year\": \"1971-01-01\"}, {\"Acceleration\": 15.0, \"Cylinders\": 6, \"Displacement\": 250.0, \"Horsepower\": 100.0, \"Miles_per_Gallon\": 19.0, \"Name\": \"pontiac firebird\", \"Origin\": \"USA\", \"Weight_in_lbs\": 3282, \"Year\": \"1971-01-01\"}, {\"Acceleration\": 14.5, \"Cylinders\": 6, \"Displacement\": 250.0, \"Horsepower\": 88.0, \"Miles_per_Gallon\": 18.0, \"Name\": \"ford mustang\", \"Origin\": \"USA\", \"Weight_in_lbs\": 3139, \"Year\": \"1971-01-01\"}, {\"Acceleration\": 14.0, \"Cylinders\": 4, \"Displacement\": 122.0, \"Horsepower\": 86.0, \"Miles_per_Gallon\": 23.0, \"Name\": \"mercury capri 2000\", \"Origin\": \"USA\", \"Weight_in_lbs\": 2220, \"Year\": \"1971-01-01\"}, {\"Acceleration\": 14.0, \"Cylinders\": 4, \"Displacement\": 116.0, \"Horsepower\": 90.0, \"Miles_per_Gallon\": 28.0, \"Name\": \"opel 1900\", \"Origin\": \"Europe\", \"Weight_in_lbs\": 2123, \"Year\": \"1971-01-01\"}, {\"Acceleration\": 19.5, \"Cylinders\": 4, \"Displacement\": 79.0, \"Horsepower\": 70.0, \"Miles_per_Gallon\": 30.0, \"Name\": \"peugeot 304\", \"Origin\": \"Europe\", \"Weight_in_lbs\": 2074, \"Year\": \"1971-01-01\"}, {\"Acceleration\": 14.5, \"Cylinders\": 4, \"Displacement\": 88.0, \"Horsepower\": 76.0, \"Miles_per_Gallon\": 30.0, \"Name\": \"fiat 124b\", \"Origin\": \"Europe\", \"Weight_in_lbs\": 2065, \"Year\": \"1971-01-01\"}, {\"Acceleration\": 19.0, \"Cylinders\": 4, \"Displacement\": 71.0, \"Horsepower\": 65.0, \"Miles_per_Gallon\": 31.0, \"Name\": \"toyota corolla 1200\", \"Origin\": \"Japan\", \"Weight_in_lbs\": 1773, \"Year\": \"1971-01-01\"}, {\"Acceleration\": 18.0, \"Cylinders\": 4, \"Displacement\": 72.0, \"Horsepower\": 69.0, \"Miles_per_Gallon\": 35.0, \"Name\": \"datsun 1200\", \"Origin\": \"Japan\", \"Weight_in_lbs\": 1613, \"Year\": \"1971-01-01\"}, {\"Acceleration\": 19.0, \"Cylinders\": 4, \"Displacement\": 97.0, \"Horsepower\": 60.0, \"Miles_per_Gallon\": 27.0, \"Name\": \"volkswagen model 111\", \"Origin\": \"Europe\", \"Weight_in_lbs\": 1834, \"Year\": \"1971-01-01\"}, {\"Acceleration\": 20.5, \"Cylinders\": 4, \"Displacement\": 91.0, \"Horsepower\": 70.0, \"Miles_per_Gallon\": 26.0, \"Name\": \"plymouth cricket\", \"Origin\": \"USA\", \"Weight_in_lbs\": 1955, \"Year\": \"1971-01-01\"}, {\"Acceleration\": 15.5, \"Cylinders\": 4, \"Displacement\": 113.0, \"Horsepower\": 95.0, \"Miles_per_Gallon\": 24.0, \"Name\": \"toyota corona hardtop\", \"Origin\": \"Japan\", \"Weight_in_lbs\": 2278, \"Year\": \"1972-01-01\"}, {\"Acceleration\": 17.0, \"Cylinders\": 4, \"Displacement\": 97.5, \"Horsepower\": 80.0, \"Miles_per_Gallon\": 25.0, \"Name\": \"dodge colt hardtop\", \"Origin\": \"USA\", \"Weight_in_lbs\": 2126, \"Year\": \"1972-01-01\"}, {\"Acceleration\": 23.5, \"Cylinders\": 4, \"Displacement\": 97.0, \"Horsepower\": 54.0, \"Miles_per_Gallon\": 23.0, \"Name\": \"volkswagen type 3\", \"Origin\": \"Europe\", \"Weight_in_lbs\": 2254, \"Year\": \"1972-01-01\"}, {\"Acceleration\": 19.5, \"Cylinders\": 4, \"Displacement\": 140.0, \"Horsepower\": 90.0, \"Miles_per_Gallon\": 20.0, \"Name\": \"chevrolet vega\", \"Origin\": \"USA\", \"Weight_in_lbs\": 2408, \"Year\": \"1972-01-01\"}, {\"Acceleration\": 16.5, \"Cylinders\": 4, \"Displacement\": 122.0, \"Horsepower\": 86.0, \"Miles_per_Gallon\": 21.0, \"Name\": \"ford pinto runabout\", \"Origin\": \"USA\", \"Weight_in_lbs\": 2226, \"Year\": \"1972-01-01\"}, {\"Acceleration\": 12.0, \"Cylinders\": 8, \"Displacement\": 350.0, \"Horsepower\": 165.0, \"Miles_per_Gallon\": 13.0, \"Name\": \"chevrolet impala\", \"Origin\": \"USA\", \"Weight_in_lbs\": 4274, \"Year\": \"1972-01-01\"}, {\"Acceleration\": 12.0, \"Cylinders\": 8, \"Displacement\": 400.0, \"Horsepower\": 175.0, \"Miles_per_Gallon\": 14.0, \"Name\": \"pontiac catalina\", \"Origin\": \"USA\", \"Weight_in_lbs\": 4385, \"Year\": \"1972-01-01\"}, {\"Acceleration\": 13.5, \"Cylinders\": 8, \"Displacement\": 318.0, \"Horsepower\": 150.0, \"Miles_per_Gallon\": 15.0, \"Name\": \"plymouth fury iii\", \"Origin\": \"USA\", \"Weight_in_lbs\": 4135, \"Year\": \"1972-01-01\"}, {\"Acceleration\": 13.0, \"Cylinders\": 8, \"Displacement\": 351.0, \"Horsepower\": 153.0, \"Miles_per_Gallon\": 14.0, \"Name\": \"ford galaxie 500\", \"Origin\": \"USA\", \"Weight_in_lbs\": 4129, \"Year\": \"1972-01-01\"}, {\"Acceleration\": 11.5, \"Cylinders\": 8, \"Displacement\": 304.0, \"Horsepower\": 150.0, \"Miles_per_Gallon\": 17.0, \"Name\": \"amc ambassador sst\", \"Origin\": \"USA\", \"Weight_in_lbs\": 3672, \"Year\": \"1972-01-01\"}, {\"Acceleration\": 11.0, \"Cylinders\": 8, \"Displacement\": 429.0, \"Horsepower\": 208.0, \"Miles_per_Gallon\": 11.0, \"Name\": \"mercury marquis\", \"Origin\": \"USA\", \"Weight_in_lbs\": 4633, \"Year\": \"1972-01-01\"}, {\"Acceleration\": 13.5, \"Cylinders\": 8, \"Displacement\": 350.0, \"Horsepower\": 155.0, \"Miles_per_Gallon\": 13.0, \"Name\": \"buick lesabre custom\", \"Origin\": \"USA\", \"Weight_in_lbs\": 4502, \"Year\": \"1972-01-01\"}, {\"Acceleration\": 13.5, \"Cylinders\": 8, \"Displacement\": 350.0, \"Horsepower\": 160.0, \"Miles_per_Gallon\": 12.0, \"Name\": \"oldsmobile delta 88 royale\", \"Origin\": \"USA\", \"Weight_in_lbs\": 4456, \"Year\": \"1972-01-01\"}, {\"Acceleration\": 12.5, \"Cylinders\": 8, \"Displacement\": 400.0, \"Horsepower\": 190.0, \"Miles_per_Gallon\": 13.0, \"Name\": \"chrysler newport royal\", \"Origin\": \"USA\", \"Weight_in_lbs\": 4422, \"Year\": \"1972-01-01\"}, {\"Acceleration\": 13.5, \"Cylinders\": 3, \"Displacement\": 70.0, \"Horsepower\": 97.0, \"Miles_per_Gallon\": 19.0, \"Name\": \"mazda rx2 coupe\", \"Origin\": \"Japan\", \"Weight_in_lbs\": 2330, \"Year\": \"1972-01-01\"}, {\"Acceleration\": 12.5, \"Cylinders\": 8, \"Displacement\": 304.0, \"Horsepower\": 150.0, \"Miles_per_Gallon\": 15.0, \"Name\": \"amc matador (sw)\", \"Origin\": \"USA\", \"Weight_in_lbs\": 3892, \"Year\": \"1972-01-01\"}, {\"Acceleration\": 14.0, \"Cylinders\": 8, \"Displacement\": 307.0, \"Horsepower\": 130.0, \"Miles_per_Gallon\": 13.0, \"Name\": \"chevrolet chevelle concours (sw)\", \"Origin\": \"USA\", \"Weight_in_lbs\": 4098, \"Year\": \"1972-01-01\"}, {\"Acceleration\": 16.0, \"Cylinders\": 8, \"Displacement\": 302.0, \"Horsepower\": 140.0, \"Miles_per_Gallon\": 13.0, \"Name\": \"ford gran torino (sw)\", \"Origin\": \"USA\", \"Weight_in_lbs\": 4294, \"Year\": \"1972-01-01\"}, {\"Acceleration\": 14.0, \"Cylinders\": 8, \"Displacement\": 318.0, \"Horsepower\": 150.0, \"Miles_per_Gallon\": 14.0, \"Name\": \"plymouth satellite custom (sw)\", \"Origin\": \"USA\", \"Weight_in_lbs\": 4077, \"Year\": \"1972-01-01\"}, {\"Acceleration\": 14.5, \"Cylinders\": 4, \"Displacement\": 121.0, \"Horsepower\": 112.0, \"Miles_per_Gallon\": 18.0, \"Name\": \"volvo 145e (sw)\", \"Origin\": \"Europe\", \"Weight_in_lbs\": 2933, \"Year\": \"1972-01-01\"}, {\"Acceleration\": 18.0, \"Cylinders\": 4, \"Displacement\": 121.0, \"Horsepower\": 76.0, \"Miles_per_Gallon\": 22.0, \"Name\": \"volkswagen 411 (sw)\", \"Origin\": \"Europe\", \"Weight_in_lbs\": 2511, \"Year\": \"1972-01-01\"}, {\"Acceleration\": 19.5, \"Cylinders\": 4, \"Displacement\": 120.0, \"Horsepower\": 87.0, \"Miles_per_Gallon\": 21.0, \"Name\": \"peugeot 504 (sw)\", \"Origin\": \"Europe\", \"Weight_in_lbs\": 2979, \"Year\": \"1972-01-01\"}, {\"Acceleration\": 18.0, \"Cylinders\": 4, \"Displacement\": 96.0, \"Horsepower\": 69.0, \"Miles_per_Gallon\": 26.0, \"Name\": \"renault 12 (sw)\", \"Origin\": \"Europe\", \"Weight_in_lbs\": 2189, \"Year\": \"1972-01-01\"}, {\"Acceleration\": 16.0, \"Cylinders\": 4, \"Displacement\": 122.0, \"Horsepower\": 86.0, \"Miles_per_Gallon\": 22.0, \"Name\": \"ford pinto (sw)\", \"Origin\": \"USA\", \"Weight_in_lbs\": 2395, \"Year\": \"1972-01-01\"}, {\"Acceleration\": 17.0, \"Cylinders\": 4, \"Displacement\": 97.0, \"Horsepower\": 92.0, \"Miles_per_Gallon\": 28.0, \"Name\": \"datsun 510 (sw)\", \"Origin\": \"Japan\", \"Weight_in_lbs\": 2288, \"Year\": \"1972-01-01\"}, {\"Acceleration\": 14.5, \"Cylinders\": 4, \"Displacement\": 120.0, \"Horsepower\": 97.0, \"Miles_per_Gallon\": 23.0, \"Name\": \"toyouta corona mark ii (sw)\", \"Origin\": \"Japan\", \"Weight_in_lbs\": 2506, \"Year\": \"1972-01-01\"}, {\"Acceleration\": 15.0, \"Cylinders\": 4, \"Displacement\": 98.0, \"Horsepower\": 80.0, \"Miles_per_Gallon\": 28.0, \"Name\": \"dodge colt (sw)\", \"Origin\": \"USA\", \"Weight_in_lbs\": 2164, \"Year\": \"1972-01-01\"}, {\"Acceleration\": 16.5, \"Cylinders\": 4, \"Displacement\": 97.0, \"Horsepower\": 88.0, \"Miles_per_Gallon\": 27.0, \"Name\": \"toyota corolla 1600 (sw)\", \"Origin\": \"Japan\", \"Weight_in_lbs\": 2100, \"Year\": \"1972-01-01\"}, {\"Acceleration\": 13.0, \"Cylinders\": 8, \"Displacement\": 350.0, \"Horsepower\": 175.0, \"Miles_per_Gallon\": 13.0, \"Name\": \"buick century 350\", \"Origin\": \"USA\", \"Weight_in_lbs\": 4100, \"Year\": \"1973-01-01\"}, {\"Acceleration\": 11.5, \"Cylinders\": 8, \"Displacement\": 304.0, \"Horsepower\": 150.0, \"Miles_per_Gallon\": 14.0, \"Name\": \"amc matador\", \"Origin\": \"USA\", \"Weight_in_lbs\": 3672, \"Year\": \"1973-01-01\"}, {\"Acceleration\": 13.0, \"Cylinders\": 8, \"Displacement\": 350.0, \"Horsepower\": 145.0, \"Miles_per_Gallon\": 13.0, \"Name\": \"chevrolet malibu\", \"Origin\": \"USA\", \"Weight_in_lbs\": 3988, \"Year\": \"1973-01-01\"}, {\"Acceleration\": 14.5, \"Cylinders\": 8, \"Displacement\": 302.0, \"Horsepower\": 137.0, \"Miles_per_Gallon\": 14.0, \"Name\": \"ford gran torino\", \"Origin\": \"USA\", \"Weight_in_lbs\": 4042, \"Year\": \"1973-01-01\"}, {\"Acceleration\": 12.5, \"Cylinders\": 8, \"Displacement\": 318.0, \"Horsepower\": 150.0, \"Miles_per_Gallon\": 15.0, \"Name\": \"dodge coronet custom\", \"Origin\": \"USA\", \"Weight_in_lbs\": 3777, \"Year\": \"1973-01-01\"}, {\"Acceleration\": 11.5, \"Cylinders\": 8, \"Displacement\": 429.0, \"Horsepower\": 198.0, \"Miles_per_Gallon\": 12.0, \"Name\": \"mercury marquis brougham\", \"Origin\": \"USA\", \"Weight_in_lbs\": 4952, \"Year\": \"1973-01-01\"}, {\"Acceleration\": 12.0, \"Cylinders\": 8, \"Displacement\": 400.0, \"Horsepower\": 150.0, \"Miles_per_Gallon\": 13.0, \"Name\": \"chevrolet caprice classic\", \"Origin\": \"USA\", \"Weight_in_lbs\": 4464, \"Year\": \"1973-01-01\"}, {\"Acceleration\": 13.0, \"Cylinders\": 8, \"Displacement\": 351.0, \"Horsepower\": 158.0, \"Miles_per_Gallon\": 13.0, \"Name\": \"ford ltd\", \"Origin\": \"USA\", \"Weight_in_lbs\": 4363, \"Year\": \"1973-01-01\"}, {\"Acceleration\": 14.5, \"Cylinders\": 8, \"Displacement\": 318.0, \"Horsepower\": 150.0, \"Miles_per_Gallon\": 14.0, \"Name\": \"plymouth fury gran sedan\", \"Origin\": \"USA\", \"Weight_in_lbs\": 4237, \"Year\": \"1973-01-01\"}, {\"Acceleration\": 11.0, \"Cylinders\": 8, \"Displacement\": 440.0, \"Horsepower\": 215.0, \"Miles_per_Gallon\": 13.0, \"Name\": \"chrysler new yorker brougham\", \"Origin\": \"USA\", \"Weight_in_lbs\": 4735, \"Year\": \"1973-01-01\"}, {\"Acceleration\": 11.0, \"Cylinders\": 8, \"Displacement\": 455.0, \"Horsepower\": 225.0, \"Miles_per_Gallon\": 12.0, \"Name\": \"buick electra 225 custom\", \"Origin\": \"USA\", \"Weight_in_lbs\": 4951, \"Year\": \"1973-01-01\"}, {\"Acceleration\": 11.0, \"Cylinders\": 8, \"Displacement\": 360.0, \"Horsepower\": 175.0, \"Miles_per_Gallon\": 13.0, \"Name\": \"amc ambassador brougham\", \"Origin\": \"USA\", \"Weight_in_lbs\": 3821, \"Year\": \"1973-01-01\"}, {\"Acceleration\": 16.5, \"Cylinders\": 6, \"Displacement\": 225.0, \"Horsepower\": 105.0, \"Miles_per_Gallon\": 18.0, \"Name\": \"plymouth valiant\", \"Origin\": \"USA\", \"Weight_in_lbs\": 3121, \"Year\": \"1973-01-01\"}, {\"Acceleration\": 18.0, \"Cylinders\": 6, \"Displacement\": 250.0, \"Horsepower\": 100.0, \"Miles_per_Gallon\": 16.0, \"Name\": \"chevrolet nova custom\", \"Origin\": \"USA\", \"Weight_in_lbs\": 3278, \"Year\": \"1973-01-01\"}, {\"Acceleration\": 16.0, \"Cylinders\": 6, \"Displacement\": 232.0, \"Horsepower\": 100.0, \"Miles_per_Gallon\": 18.0, \"Name\": \"amc hornet\", \"Origin\": \"USA\", \"Weight_in_lbs\": 2945, \"Year\": \"1973-01-01\"}, {\"Acceleration\": 16.5, \"Cylinders\": 6, \"Displacement\": 250.0, \"Horsepower\": 88.0, \"Miles_per_Gallon\": 18.0, \"Name\": \"ford maverick\", \"Origin\": \"USA\", \"Weight_in_lbs\": 3021, \"Year\": \"1973-01-01\"}, {\"Acceleration\": 16.0, \"Cylinders\": 6, \"Displacement\": 198.0, \"Horsepower\": 95.0, \"Miles_per_Gallon\": 23.0, \"Name\": \"plymouth duster\", \"Origin\": \"USA\", \"Weight_in_lbs\": 2904, \"Year\": \"1973-01-01\"}, {\"Acceleration\": 21.0, \"Cylinders\": 4, \"Displacement\": 97.0, \"Horsepower\": 46.0, \"Miles_per_Gallon\": 26.0, \"Name\": \"volkswagen super beetle\", \"Origin\": \"Europe\", \"Weight_in_lbs\": 1950, \"Year\": \"1973-01-01\"}, {\"Acceleration\": 14.0, \"Cylinders\": 8, \"Displacement\": 400.0, \"Horsepower\": 150.0, \"Miles_per_Gallon\": 11.0, \"Name\": \"chevrolet impala\", \"Origin\": \"USA\", \"Weight_in_lbs\": 4997, \"Year\": \"1973-01-01\"}, {\"Acceleration\": 12.5, \"Cylinders\": 8, \"Displacement\": 400.0, \"Horsepower\": 167.0, \"Miles_per_Gallon\": 12.0, \"Name\": \"ford country\", \"Origin\": \"USA\", \"Weight_in_lbs\": 4906, \"Year\": \"1973-01-01\"}, {\"Acceleration\": 13.0, \"Cylinders\": 8, \"Displacement\": 360.0, \"Horsepower\": 170.0, \"Miles_per_Gallon\": 13.0, \"Name\": \"plymouth custom suburb\", \"Origin\": \"USA\", \"Weight_in_lbs\": 4654, \"Year\": \"1973-01-01\"}, {\"Acceleration\": 12.5, \"Cylinders\": 8, \"Displacement\": 350.0, \"Horsepower\": 180.0, \"Miles_per_Gallon\": 12.0, \"Name\": \"oldsmobile vista cruiser\", \"Origin\": \"USA\", \"Weight_in_lbs\": 4499, \"Year\": \"1973-01-01\"}, {\"Acceleration\": 15.0, \"Cylinders\": 6, \"Displacement\": 232.0, \"Horsepower\": 100.0, \"Miles_per_Gallon\": 18.0, \"Name\": \"amc gremlin\", \"Origin\": \"USA\", \"Weight_in_lbs\": 2789, \"Year\": \"1973-01-01\"}, {\"Acceleration\": 19.0, \"Cylinders\": 4, \"Displacement\": 97.0, \"Horsepower\": 88.0, \"Miles_per_Gallon\": 20.0, \"Name\": \"toyota carina\", \"Origin\": \"Japan\", \"Weight_in_lbs\": 2279, \"Year\": \"1973-01-01\"}, {\"Acceleration\": 19.5, \"Cylinders\": 4, \"Displacement\": 140.0, \"Horsepower\": 72.0, \"Miles_per_Gallon\": 21.0, \"Name\": \"chevrolet vega\", \"Origin\": \"USA\", \"Weight_in_lbs\": 2401, \"Year\": \"1973-01-01\"}, {\"Acceleration\": 16.5, \"Cylinders\": 4, \"Displacement\": 108.0, \"Horsepower\": 94.0, \"Miles_per_Gallon\": 22.0, \"Name\": \"datsun 610\", \"Origin\": \"Japan\", \"Weight_in_lbs\": 2379, \"Year\": \"1973-01-01\"}, {\"Acceleration\": 13.5, \"Cylinders\": 3, \"Displacement\": 70.0, \"Horsepower\": 90.0, \"Miles_per_Gallon\": 18.0, \"Name\": \"maxda rx3\", \"Origin\": \"Japan\", \"Weight_in_lbs\": 2124, \"Year\": \"1973-01-01\"}, {\"Acceleration\": 18.5, \"Cylinders\": 4, \"Displacement\": 122.0, \"Horsepower\": 85.0, \"Miles_per_Gallon\": 19.0, \"Name\": \"ford pinto\", \"Origin\": \"USA\", \"Weight_in_lbs\": 2310, \"Year\": \"1973-01-01\"}, {\"Acceleration\": 14.0, \"Cylinders\": 6, \"Displacement\": 155.0, \"Horsepower\": 107.0, \"Miles_per_Gallon\": 21.0, \"Name\": \"mercury capri v6\", \"Origin\": \"USA\", \"Weight_in_lbs\": 2472, \"Year\": \"1973-01-01\"}, {\"Acceleration\": 15.5, \"Cylinders\": 4, \"Displacement\": 98.0, \"Horsepower\": 90.0, \"Miles_per_Gallon\": 26.0, \"Name\": \"fiat 124 sport coupe\", \"Origin\": \"Europe\", \"Weight_in_lbs\": 2265, \"Year\": \"1973-01-01\"}, {\"Acceleration\": 13.0, \"Cylinders\": 8, \"Displacement\": 350.0, \"Horsepower\": 145.0, \"Miles_per_Gallon\": 15.0, \"Name\": \"chevrolet monte carlo s\", \"Origin\": \"USA\", \"Weight_in_lbs\": 4082, \"Year\": \"1973-01-01\"}, {\"Acceleration\": 9.5, \"Cylinders\": 8, \"Displacement\": 400.0, \"Horsepower\": 230.0, \"Miles_per_Gallon\": 16.0, \"Name\": \"pontiac grand prix\", \"Origin\": \"USA\", \"Weight_in_lbs\": 4278, \"Year\": \"1973-01-01\"}, {\"Acceleration\": 19.5, \"Cylinders\": 4, \"Displacement\": 68.0, \"Horsepower\": 49.0, \"Miles_per_Gallon\": 29.0, \"Name\": \"fiat 128\", \"Origin\": \"Europe\", \"Weight_in_lbs\": 1867, \"Year\": \"1973-01-01\"}, {\"Acceleration\": 15.5, \"Cylinders\": 4, \"Displacement\": 116.0, \"Horsepower\": 75.0, \"Miles_per_Gallon\": 24.0, \"Name\": \"opel manta\", \"Origin\": \"Europe\", \"Weight_in_lbs\": 2158, \"Year\": \"1973-01-01\"}, {\"Acceleration\": 14.0, \"Cylinders\": 4, \"Displacement\": 114.0, \"Horsepower\": 91.0, \"Miles_per_Gallon\": 20.0, \"Name\": \"audi 100ls\", \"Origin\": \"Europe\", \"Weight_in_lbs\": 2582, \"Year\": \"1973-01-01\"}, {\"Acceleration\": 15.5, \"Cylinders\": 4, \"Displacement\": 121.0, \"Horsepower\": 112.0, \"Miles_per_Gallon\": 19.0, \"Name\": \"volvo 144ea\", \"Origin\": \"Europe\", \"Weight_in_lbs\": 2868, \"Year\": \"1973-01-01\"}, {\"Acceleration\": 11.0, \"Cylinders\": 8, \"Displacement\": 318.0, \"Horsepower\": 150.0, \"Miles_per_Gallon\": 15.0, \"Name\": \"dodge dart custom\", \"Origin\": \"USA\", \"Weight_in_lbs\": 3399, \"Year\": \"1973-01-01\"}, {\"Acceleration\": 14.0, \"Cylinders\": 4, \"Displacement\": 121.0, \"Horsepower\": 110.0, \"Miles_per_Gallon\": 24.0, \"Name\": \"saab 99le\", \"Origin\": \"Europe\", \"Weight_in_lbs\": 2660, \"Year\": \"1973-01-01\"}, {\"Acceleration\": 13.5, \"Cylinders\": 6, \"Displacement\": 156.0, \"Horsepower\": 122.0, \"Miles_per_Gallon\": 20.0, \"Name\": \"toyota mark ii\", \"Origin\": \"Japan\", \"Weight_in_lbs\": 2807, \"Year\": \"1973-01-01\"}, {\"Acceleration\": 11.0, \"Cylinders\": 8, \"Displacement\": 350.0, \"Horsepower\": 180.0, \"Miles_per_Gallon\": 11.0, \"Name\": \"oldsmobile omega\", \"Origin\": \"USA\", \"Weight_in_lbs\": 3664, \"Year\": \"1973-01-01\"}, {\"Acceleration\": 16.5, \"Cylinders\": 6, \"Displacement\": 198.0, \"Horsepower\": 95.0, \"Miles_per_Gallon\": 20.0, \"Name\": \"plymouth duster\", \"Origin\": \"USA\", \"Weight_in_lbs\": 3102, \"Year\": \"1974-01-01\"}, {\"Acceleration\": 17.0, \"Cylinders\": 6, \"Displacement\": 200.0, \"Horsepower\": null, \"Miles_per_Gallon\": 21.0, \"Name\": \"ford maverick\", \"Origin\": \"USA\", \"Weight_in_lbs\": 2875, \"Year\": \"1974-01-01\"}, {\"Acceleration\": 16.0, \"Cylinders\": 6, \"Displacement\": 232.0, \"Horsepower\": 100.0, \"Miles_per_Gallon\": 19.0, \"Name\": \"amc hornet\", \"Origin\": \"USA\", \"Weight_in_lbs\": 2901, \"Year\": \"1974-01-01\"}, {\"Acceleration\": 17.0, \"Cylinders\": 6, \"Displacement\": 250.0, \"Horsepower\": 100.0, \"Miles_per_Gallon\": 15.0, \"Name\": \"chevrolet nova\", \"Origin\": \"USA\", \"Weight_in_lbs\": 3336, \"Year\": \"1974-01-01\"}, {\"Acceleration\": 19.0, \"Cylinders\": 4, \"Displacement\": 79.0, \"Horsepower\": 67.0, \"Miles_per_Gallon\": 31.0, \"Name\": \"datsun b210\", \"Origin\": \"Japan\", \"Weight_in_lbs\": 1950, \"Year\": \"1974-01-01\"}, {\"Acceleration\": 16.5, \"Cylinders\": 4, \"Displacement\": 122.0, \"Horsepower\": 80.0, \"Miles_per_Gallon\": 26.0, \"Name\": \"ford pinto\", \"Origin\": \"USA\", \"Weight_in_lbs\": 2451, \"Year\": \"1974-01-01\"}, {\"Acceleration\": 21.0, \"Cylinders\": 4, \"Displacement\": 71.0, \"Horsepower\": 65.0, \"Miles_per_Gallon\": 32.0, \"Name\": \"toyota corolla 1200\", \"Origin\": \"Japan\", \"Weight_in_lbs\": 1836, \"Year\": \"1974-01-01\"}, {\"Acceleration\": 17.0, \"Cylinders\": 4, \"Displacement\": 140.0, \"Horsepower\": 75.0, \"Miles_per_Gallon\": 25.0, \"Name\": \"chevrolet vega\", \"Origin\": \"USA\", \"Weight_in_lbs\": 2542, \"Year\": \"1974-01-01\"}, {\"Acceleration\": 17.0, \"Cylinders\": 6, \"Displacement\": 250.0, \"Horsepower\": 100.0, \"Miles_per_Gallon\": 16.0, \"Name\": \"chevrolet chevelle malibu classic\", \"Origin\": \"USA\", \"Weight_in_lbs\": 3781, \"Year\": \"1974-01-01\"}, {\"Acceleration\": 18.0, \"Cylinders\": 6, \"Displacement\": 258.0, \"Horsepower\": 110.0, \"Miles_per_Gallon\": 16.0, \"Name\": \"amc matador\", \"Origin\": \"USA\", \"Weight_in_lbs\": 3632, \"Year\": \"1974-01-01\"}, {\"Acceleration\": 16.5, \"Cylinders\": 6, \"Displacement\": 225.0, \"Horsepower\": 105.0, \"Miles_per_Gallon\": 18.0, \"Name\": \"plymouth satellite sebring\", \"Origin\": \"USA\", \"Weight_in_lbs\": 3613, \"Year\": \"1974-01-01\"}, {\"Acceleration\": 14.0, \"Cylinders\": 8, \"Displacement\": 302.0, \"Horsepower\": 140.0, \"Miles_per_Gallon\": 16.0, \"Name\": \"ford gran torino\", \"Origin\": \"USA\", \"Weight_in_lbs\": 4141, \"Year\": \"1974-01-01\"}, {\"Acceleration\": 14.5, \"Cylinders\": 8, \"Displacement\": 350.0, \"Horsepower\": 150.0, \"Miles_per_Gallon\": 13.0, \"Name\": \"buick century luxus (sw)\", \"Origin\": \"USA\", \"Weight_in_lbs\": 4699, \"Year\": \"1974-01-01\"}, {\"Acceleration\": 13.5, \"Cylinders\": 8, \"Displacement\": 318.0, \"Horsepower\": 150.0, \"Miles_per_Gallon\": 14.0, \"Name\": \"dodge coronet custom (sw)\", \"Origin\": \"USA\", \"Weight_in_lbs\": 4457, \"Year\": \"1974-01-01\"}, {\"Acceleration\": 16.0, \"Cylinders\": 8, \"Displacement\": 302.0, \"Horsepower\": 140.0, \"Miles_per_Gallon\": 14.0, \"Name\": \"ford gran torino (sw)\", \"Origin\": \"USA\", \"Weight_in_lbs\": 4638, \"Year\": \"1974-01-01\"}, {\"Acceleration\": 15.5, \"Cylinders\": 8, \"Displacement\": 304.0, \"Horsepower\": 150.0, \"Miles_per_Gallon\": 14.0, \"Name\": \"amc matador (sw)\", \"Origin\": \"USA\", \"Weight_in_lbs\": 4257, \"Year\": \"1974-01-01\"}, {\"Acceleration\": 16.5, \"Cylinders\": 4, \"Displacement\": 98.0, \"Horsepower\": 83.0, \"Miles_per_Gallon\": 29.0, \"Name\": \"audi fox\", \"Origin\": \"Europe\", \"Weight_in_lbs\": 2219, \"Year\": \"1974-01-01\"}, {\"Acceleration\": 15.5, \"Cylinders\": 4, \"Displacement\": 79.0, \"Horsepower\": 67.0, \"Miles_per_Gallon\": 26.0, \"Name\": \"volkswagen dasher\", \"Origin\": \"Europe\", \"Weight_in_lbs\": 1963, \"Year\": \"1974-01-01\"}, {\"Acceleration\": 14.5, \"Cylinders\": 4, \"Displacement\": 97.0, \"Horsepower\": 78.0, \"Miles_per_Gallon\": 26.0, \"Name\": \"opel manta\", \"Origin\": \"Europe\", \"Weight_in_lbs\": 2300, \"Year\": \"1974-01-01\"}, {\"Acceleration\": 16.5, \"Cylinders\": 4, \"Displacement\": 76.0, \"Horsepower\": 52.0, \"Miles_per_Gallon\": 31.0, \"Name\": \"toyota corona\", \"Origin\": \"Japan\", \"Weight_in_lbs\": 1649, \"Year\": \"1974-01-01\"}, {\"Acceleration\": 19.0, \"Cylinders\": 4, \"Displacement\": 83.0, \"Horsepower\": 61.0, \"Miles_per_Gallon\": 32.0, \"Name\": \"datsun 710\", \"Origin\": \"Japan\", \"Weight_in_lbs\": 2003, \"Year\": \"1974-01-01\"}, {\"Acceleration\": 14.5, \"Cylinders\": 4, \"Displacement\": 90.0, \"Horsepower\": 75.0, \"Miles_per_Gallon\": 28.0, \"Name\": \"dodge colt\", \"Origin\": \"USA\", \"Weight_in_lbs\": 2125, \"Year\": \"1974-01-01\"}, {\"Acceleration\": 15.5, \"Cylinders\": 4, \"Displacement\": 90.0, \"Horsepower\": 75.0, \"Miles_per_Gallon\": 24.0, \"Name\": \"fiat 128\", \"Origin\": \"Europe\", \"Weight_in_lbs\": 2108, \"Year\": \"1974-01-01\"}, {\"Acceleration\": 14.0, \"Cylinders\": 4, \"Displacement\": 116.0, \"Horsepower\": 75.0, \"Miles_per_Gallon\": 26.0, \"Name\": \"fiat 124 tc\", \"Origin\": \"Europe\", \"Weight_in_lbs\": 2246, \"Year\": \"1974-01-01\"}, {\"Acceleration\": 15.0, \"Cylinders\": 4, \"Displacement\": 120.0, \"Horsepower\": 97.0, \"Miles_per_Gallon\": 24.0, \"Name\": \"honda civic\", \"Origin\": \"Japan\", \"Weight_in_lbs\": 2489, \"Year\": \"1974-01-01\"}, {\"Acceleration\": 15.5, \"Cylinders\": 4, \"Displacement\": 108.0, \"Horsepower\": 93.0, \"Miles_per_Gallon\": 26.0, \"Name\": \"subaru\", \"Origin\": \"Japan\", \"Weight_in_lbs\": 2391, \"Year\": \"1974-01-01\"}, {\"Acceleration\": 16.0, \"Cylinders\": 4, \"Displacement\": 79.0, \"Horsepower\": 67.0, \"Miles_per_Gallon\": 31.0, \"Name\": \"fiat x1.9\", \"Origin\": \"Europe\", \"Weight_in_lbs\": 2000, \"Year\": \"1974-01-01\"}, {\"Acceleration\": 16.0, \"Cylinders\": 6, \"Displacement\": 225.0, \"Horsepower\": 95.0, \"Miles_per_Gallon\": 19.0, \"Name\": \"plymouth valiant custom\", \"Origin\": \"USA\", \"Weight_in_lbs\": 3264, \"Year\": \"1975-01-01\"}, {\"Acceleration\": 16.0, \"Cylinders\": 6, \"Displacement\": 250.0, \"Horsepower\": 105.0, \"Miles_per_Gallon\": 18.0, \"Name\": \"chevrolet nova\", \"Origin\": \"USA\", \"Weight_in_lbs\": 3459, \"Year\": \"1975-01-01\"}, {\"Acceleration\": 21.0, \"Cylinders\": 6, \"Displacement\": 250.0, \"Horsepower\": 72.0, \"Miles_per_Gallon\": 15.0, \"Name\": \"mercury monarch\", \"Origin\": \"USA\", \"Weight_in_lbs\": 3432, \"Year\": \"1975-01-01\"}, {\"Acceleration\": 19.5, \"Cylinders\": 6, \"Displacement\": 250.0, \"Horsepower\": 72.0, \"Miles_per_Gallon\": 15.0, \"Name\": \"ford maverick\", \"Origin\": \"USA\", \"Weight_in_lbs\": 3158, \"Year\": \"1975-01-01\"}, {\"Acceleration\": 11.5, \"Cylinders\": 8, \"Displacement\": 400.0, \"Horsepower\": 170.0, \"Miles_per_Gallon\": 16.0, \"Name\": \"pontiac catalina\", \"Origin\": \"USA\", \"Weight_in_lbs\": 4668, \"Year\": \"1975-01-01\"}, {\"Acceleration\": 14.0, \"Cylinders\": 8, \"Displacement\": 350.0, \"Horsepower\": 145.0, \"Miles_per_Gallon\": 15.0, \"Name\": \"chevrolet bel air\", \"Origin\": \"USA\", \"Weight_in_lbs\": 4440, \"Year\": \"1975-01-01\"}, {\"Acceleration\": 14.5, \"Cylinders\": 8, \"Displacement\": 318.0, \"Horsepower\": 150.0, \"Miles_per_Gallon\": 16.0, \"Name\": \"plymouth grand fury\", \"Origin\": \"USA\", \"Weight_in_lbs\": 4498, \"Year\": \"1975-01-01\"}, {\"Acceleration\": 13.5, \"Cylinders\": 8, \"Displacement\": 351.0, \"Horsepower\": 148.0, \"Miles_per_Gallon\": 14.0, \"Name\": \"ford ltd\", \"Origin\": \"USA\", \"Weight_in_lbs\": 4657, \"Year\": \"1975-01-01\"}, {\"Acceleration\": 21.0, \"Cylinders\": 6, \"Displacement\": 231.0, \"Horsepower\": 110.0, \"Miles_per_Gallon\": 17.0, \"Name\": \"buick century\", \"Origin\": \"USA\", \"Weight_in_lbs\": 3907, \"Year\": \"1975-01-01\"}, {\"Acceleration\": 18.5, \"Cylinders\": 6, \"Displacement\": 250.0, \"Horsepower\": 105.0, \"Miles_per_Gallon\": 16.0, \"Name\": \"chevroelt chevelle malibu\", \"Origin\": \"USA\", \"Weight_in_lbs\": 3897, \"Year\": \"1975-01-01\"}, {\"Acceleration\": 19.0, \"Cylinders\": 6, \"Displacement\": 258.0, \"Horsepower\": 110.0, \"Miles_per_Gallon\": 15.0, \"Name\": \"amc matador\", \"Origin\": \"USA\", \"Weight_in_lbs\": 3730, \"Year\": \"1975-01-01\"}, {\"Acceleration\": 19.0, \"Cylinders\": 6, \"Displacement\": 225.0, \"Horsepower\": 95.0, \"Miles_per_Gallon\": 18.0, \"Name\": \"plymouth fury\", \"Origin\": \"USA\", \"Weight_in_lbs\": 3785, \"Year\": \"1975-01-01\"}, {\"Acceleration\": 15.0, \"Cylinders\": 6, \"Displacement\": 231.0, \"Horsepower\": 110.0, \"Miles_per_Gallon\": 21.0, \"Name\": \"buick skyhawk\", \"Origin\": \"USA\", \"Weight_in_lbs\": 3039, \"Year\": \"1975-01-01\"}, {\"Acceleration\": 13.5, \"Cylinders\": 8, \"Displacement\": 262.0, \"Horsepower\": 110.0, \"Miles_per_Gallon\": 20.0, \"Name\": \"chevrolet monza 2+2\", \"Origin\": \"USA\", \"Weight_in_lbs\": 3221, \"Year\": \"1975-01-01\"}, {\"Acceleration\": 12.0, \"Cylinders\": 8, \"Displacement\": 302.0, \"Horsepower\": 129.0, \"Miles_per_Gallon\": 13.0, \"Name\": \"ford mustang ii\", \"Origin\": \"USA\", \"Weight_in_lbs\": 3169, \"Year\": \"1975-01-01\"}, {\"Acceleration\": 16.0, \"Cylinders\": 4, \"Displacement\": 97.0, \"Horsepower\": 75.0, \"Miles_per_Gallon\": 29.0, \"Name\": \"toyota corolla\", \"Origin\": \"Japan\", \"Weight_in_lbs\": 2171, \"Year\": \"1975-01-01\"}, {\"Acceleration\": 17.0, \"Cylinders\": 4, \"Displacement\": 140.0, \"Horsepower\": 83.0, \"Miles_per_Gallon\": 23.0, \"Name\": \"ford pinto\", \"Origin\": \"USA\", \"Weight_in_lbs\": 2639, \"Year\": \"1975-01-01\"}, {\"Acceleration\": 16.0, \"Cylinders\": 6, \"Displacement\": 232.0, \"Horsepower\": 100.0, \"Miles_per_Gallon\": 20.0, \"Name\": \"amc gremlin\", \"Origin\": \"USA\", \"Weight_in_lbs\": 2914, \"Year\": \"1975-01-01\"}, {\"Acceleration\": 18.5, \"Cylinders\": 4, \"Displacement\": 140.0, \"Horsepower\": 78.0, \"Miles_per_Gallon\": 23.0, \"Name\": \"pontiac astro\", \"Origin\": \"USA\", \"Weight_in_lbs\": 2592, \"Year\": \"1975-01-01\"}, {\"Acceleration\": 13.5, \"Cylinders\": 4, \"Displacement\": 134.0, \"Horsepower\": 96.0, \"Miles_per_Gallon\": 24.0, \"Name\": \"toyota corona\", \"Origin\": \"Japan\", \"Weight_in_lbs\": 2702, \"Year\": \"1975-01-01\"}, {\"Acceleration\": 16.5, \"Cylinders\": 4, \"Displacement\": 90.0, \"Horsepower\": 71.0, \"Miles_per_Gallon\": 25.0, \"Name\": \"volkswagen dasher\", \"Origin\": \"Europe\", \"Weight_in_lbs\": 2223, \"Year\": \"1975-01-01\"}, {\"Acceleration\": 17.0, \"Cylinders\": 4, \"Displacement\": 119.0, \"Horsepower\": 97.0, \"Miles_per_Gallon\": 24.0, \"Name\": \"datsun 710\", \"Origin\": \"Japan\", \"Weight_in_lbs\": 2545, \"Year\": \"1975-01-01\"}, {\"Acceleration\": 14.5, \"Cylinders\": 6, \"Displacement\": 171.0, \"Horsepower\": 97.0, \"Miles_per_Gallon\": 18.0, \"Name\": \"ford pinto\", \"Origin\": \"USA\", \"Weight_in_lbs\": 2984, \"Year\": \"1975-01-01\"}, {\"Acceleration\": 14.0, \"Cylinders\": 4, \"Displacement\": 90.0, \"Horsepower\": 70.0, \"Miles_per_Gallon\": 29.0, \"Name\": \"volkswagen rabbit\", \"Origin\": \"Europe\", \"Weight_in_lbs\": 1937, \"Year\": \"1975-01-01\"}, {\"Acceleration\": 17.0, \"Cylinders\": 6, \"Displacement\": 232.0, \"Horsepower\": 90.0, \"Miles_per_Gallon\": 19.0, \"Name\": \"amc pacer\", \"Origin\": \"USA\", \"Weight_in_lbs\": 3211, \"Year\": \"1975-01-01\"}, {\"Acceleration\": 15.0, \"Cylinders\": 4, \"Displacement\": 115.0, \"Horsepower\": 95.0, \"Miles_per_Gallon\": 23.0, \"Name\": \"audi 100ls\", \"Origin\": \"Europe\", \"Weight_in_lbs\": 2694, \"Year\": \"1975-01-01\"}, {\"Acceleration\": 17.0, \"Cylinders\": 4, \"Displacement\": 120.0, \"Horsepower\": 88.0, \"Miles_per_Gallon\": 23.0, \"Name\": \"peugeot 504\", \"Origin\": \"Europe\", \"Weight_in_lbs\": 2957, \"Year\": \"1975-01-01\"}, {\"Acceleration\": 14.5, \"Cylinders\": 4, \"Displacement\": 121.0, \"Horsepower\": 98.0, \"Miles_per_Gallon\": 22.0, \"Name\": \"volvo 244dl\", \"Origin\": \"Europe\", \"Weight_in_lbs\": 2945, \"Year\": \"1975-01-01\"}, {\"Acceleration\": 13.5, \"Cylinders\": 4, \"Displacement\": 121.0, \"Horsepower\": 115.0, \"Miles_per_Gallon\": 25.0, \"Name\": \"saab 99le\", \"Origin\": \"Europe\", \"Weight_in_lbs\": 2671, \"Year\": \"1975-01-01\"}, {\"Acceleration\": 17.5, \"Cylinders\": 4, \"Displacement\": 91.0, \"Horsepower\": 53.0, \"Miles_per_Gallon\": 33.0, \"Name\": \"honda civic cvcc\", \"Origin\": \"Japan\", \"Weight_in_lbs\": 1795, \"Year\": \"1975-01-01\"}, {\"Acceleration\": 15.5, \"Cylinders\": 4, \"Displacement\": 107.0, \"Horsepower\": 86.0, \"Miles_per_Gallon\": 28.0, \"Name\": \"fiat 131\", \"Origin\": \"Europe\", \"Weight_in_lbs\": 2464, \"Year\": \"1976-01-01\"}, {\"Acceleration\": 16.9, \"Cylinders\": 4, \"Displacement\": 116.0, \"Horsepower\": 81.0, \"Miles_per_Gallon\": 25.0, \"Name\": \"opel 1900\", \"Origin\": \"Europe\", \"Weight_in_lbs\": 2220, \"Year\": \"1976-01-01\"}, {\"Acceleration\": 14.9, \"Cylinders\": 4, \"Displacement\": 140.0, \"Horsepower\": 92.0, \"Miles_per_Gallon\": 25.0, \"Name\": \"capri ii\", \"Origin\": \"USA\", \"Weight_in_lbs\": 2572, \"Year\": \"1976-01-01\"}, {\"Acceleration\": 17.7, \"Cylinders\": 4, \"Displacement\": 98.0, \"Horsepower\": 79.0, \"Miles_per_Gallon\": 26.0, \"Name\": \"dodge colt\", \"Origin\": \"USA\", \"Weight_in_lbs\": 2255, \"Year\": \"1976-01-01\"}, {\"Acceleration\": 15.3, \"Cylinders\": 4, \"Displacement\": 101.0, \"Horsepower\": 83.0, \"Miles_per_Gallon\": 27.0, \"Name\": \"renault 12tl\", \"Origin\": \"Europe\", \"Weight_in_lbs\": 2202, \"Year\": \"1976-01-01\"}, {\"Acceleration\": 13.0, \"Cylinders\": 8, \"Displacement\": 305.0, \"Horsepower\": 140.0, \"Miles_per_Gallon\": 17.5, \"Name\": \"chevrolet chevelle malibu classic\", \"Origin\": \"USA\", \"Weight_in_lbs\": 4215, \"Year\": \"1976-01-01\"}, {\"Acceleration\": 13.0, \"Cylinders\": 8, \"Displacement\": 318.0, \"Horsepower\": 150.0, \"Miles_per_Gallon\": 16.0, \"Name\": \"dodge coronet brougham\", \"Origin\": \"USA\", \"Weight_in_lbs\": 4190, \"Year\": \"1976-01-01\"}, {\"Acceleration\": 13.9, \"Cylinders\": 8, \"Displacement\": 304.0, \"Horsepower\": 120.0, \"Miles_per_Gallon\": 15.5, \"Name\": \"amc matador\", \"Origin\": \"USA\", \"Weight_in_lbs\": 3962, \"Year\": \"1976-01-01\"}, {\"Acceleration\": 12.8, \"Cylinders\": 8, \"Displacement\": 351.0, \"Horsepower\": 152.0, \"Miles_per_Gallon\": 14.5, \"Name\": \"ford gran torino\", \"Origin\": \"USA\", \"Weight_in_lbs\": 4215, \"Year\": \"1976-01-01\"}, {\"Acceleration\": 15.4, \"Cylinders\": 6, \"Displacement\": 225.0, \"Horsepower\": 100.0, \"Miles_per_Gallon\": 22.0, \"Name\": \"plymouth valiant\", \"Origin\": \"USA\", \"Weight_in_lbs\": 3233, \"Year\": \"1976-01-01\"}, {\"Acceleration\": 14.5, \"Cylinders\": 6, \"Displacement\": 250.0, \"Horsepower\": 105.0, \"Miles_per_Gallon\": 22.0, \"Name\": \"chevrolet nova\", \"Origin\": \"USA\", \"Weight_in_lbs\": 3353, \"Year\": \"1976-01-01\"}, {\"Acceleration\": 17.6, \"Cylinders\": 6, \"Displacement\": 200.0, \"Horsepower\": 81.0, \"Miles_per_Gallon\": 24.0, \"Name\": \"ford maverick\", \"Origin\": \"USA\", \"Weight_in_lbs\": 3012, \"Year\": \"1976-01-01\"}, {\"Acceleration\": 17.6, \"Cylinders\": 6, \"Displacement\": 232.0, \"Horsepower\": 90.0, \"Miles_per_Gallon\": 22.5, \"Name\": \"amc hornet\", \"Origin\": \"USA\", \"Weight_in_lbs\": 3085, \"Year\": \"1976-01-01\"}, {\"Acceleration\": 22.2, \"Cylinders\": 4, \"Displacement\": 85.0, \"Horsepower\": 52.0, \"Miles_per_Gallon\": 29.0, \"Name\": \"chevrolet chevette\", \"Origin\": \"USA\", \"Weight_in_lbs\": 2035, \"Year\": \"1976-01-01\"}, {\"Acceleration\": 22.1, \"Cylinders\": 4, \"Displacement\": 98.0, \"Horsepower\": 60.0, \"Miles_per_Gallon\": 24.5, \"Name\": \"chevrolet woody\", \"Origin\": \"USA\", \"Weight_in_lbs\": 2164, \"Year\": \"1976-01-01\"}, {\"Acceleration\": 14.2, \"Cylinders\": 4, \"Displacement\": 90.0, \"Horsepower\": 70.0, \"Miles_per_Gallon\": 29.0, \"Name\": \"vw rabbit\", \"Origin\": \"Europe\", \"Weight_in_lbs\": 1937, \"Year\": \"1976-01-01\"}, {\"Acceleration\": 17.4, \"Cylinders\": 4, \"Displacement\": 91.0, \"Horsepower\": 53.0, \"Miles_per_Gallon\": 33.0, \"Name\": \"honda civic\", \"Origin\": \"Japan\", \"Weight_in_lbs\": 1795, \"Year\": \"1976-01-01\"}, {\"Acceleration\": 17.7, \"Cylinders\": 6, \"Displacement\": 225.0, \"Horsepower\": 100.0, \"Miles_per_Gallon\": 20.0, \"Name\": \"dodge aspen se\", \"Origin\": \"USA\", \"Weight_in_lbs\": 3651, \"Year\": \"1976-01-01\"}, {\"Acceleration\": 21.0, \"Cylinders\": 6, \"Displacement\": 250.0, \"Horsepower\": 78.0, \"Miles_per_Gallon\": 18.0, \"Name\": \"ford granada ghia\", \"Origin\": \"USA\", \"Weight_in_lbs\": 3574, \"Year\": \"1976-01-01\"}, {\"Acceleration\": 16.2, \"Cylinders\": 6, \"Displacement\": 250.0, \"Horsepower\": 110.0, \"Miles_per_Gallon\": 18.5, \"Name\": \"pontiac ventura sj\", \"Origin\": \"USA\", \"Weight_in_lbs\": 3645, \"Year\": \"1976-01-01\"}, {\"Acceleration\": 17.8, \"Cylinders\": 6, \"Displacement\": 258.0, \"Horsepower\": 95.0, \"Miles_per_Gallon\": 17.5, \"Name\": \"amc pacer d/l\", \"Origin\": \"USA\", \"Weight_in_lbs\": 3193, \"Year\": \"1976-01-01\"}, {\"Acceleration\": 12.2, \"Cylinders\": 4, \"Displacement\": 97.0, \"Horsepower\": 71.0, \"Miles_per_Gallon\": 29.5, \"Name\": \"volkswagen rabbit\", \"Origin\": \"Europe\", \"Weight_in_lbs\": 1825, \"Year\": \"1976-01-01\"}, {\"Acceleration\": 17.0, \"Cylinders\": 4, \"Displacement\": 85.0, \"Horsepower\": 70.0, \"Miles_per_Gallon\": 32.0, \"Name\": \"datsun b-210\", \"Origin\": \"Japan\", \"Weight_in_lbs\": 1990, \"Year\": \"1976-01-01\"}, {\"Acceleration\": 16.4, \"Cylinders\": 4, \"Displacement\": 97.0, \"Horsepower\": 75.0, \"Miles_per_Gallon\": 28.0, \"Name\": \"toyota corolla\", \"Origin\": \"Japan\", \"Weight_in_lbs\": 2155, \"Year\": \"1976-01-01\"}, {\"Acceleration\": 13.6, \"Cylinders\": 4, \"Displacement\": 140.0, \"Horsepower\": 72.0, \"Miles_per_Gallon\": 26.5, \"Name\": \"ford pinto\", \"Origin\": \"USA\", \"Weight_in_lbs\": 2565, \"Year\": \"1976-01-01\"}, {\"Acceleration\": 15.7, \"Cylinders\": 4, \"Displacement\": 130.0, \"Horsepower\": 102.0, \"Miles_per_Gallon\": 20.0, \"Name\": \"volvo 245\", \"Origin\": \"Europe\", \"Weight_in_lbs\": 3150, \"Year\": \"1976-01-01\"}, {\"Acceleration\": 13.2, \"Cylinders\": 8, \"Displacement\": 318.0, \"Horsepower\": 150.0, \"Miles_per_Gallon\": 13.0, \"Name\": \"plymouth volare premier v8\", \"Origin\": \"USA\", \"Weight_in_lbs\": 3940, \"Year\": \"1976-01-01\"}, {\"Acceleration\": 21.9, \"Cylinders\": 4, \"Displacement\": 120.0, \"Horsepower\": 88.0, \"Miles_per_Gallon\": 19.0, \"Name\": \"peugeot 504\", \"Origin\": \"Europe\", \"Weight_in_lbs\": 3270, \"Year\": \"1976-01-01\"}, {\"Acceleration\": 15.5, \"Cylinders\": 6, \"Displacement\": 156.0, \"Horsepower\": 108.0, \"Miles_per_Gallon\": 19.0, \"Name\": \"toyota mark ii\", \"Origin\": \"Japan\", \"Weight_in_lbs\": 2930, \"Year\": \"1976-01-01\"}, {\"Acceleration\": 16.7, \"Cylinders\": 6, \"Displacement\": 168.0, \"Horsepower\": 120.0, \"Miles_per_Gallon\": 16.5, \"Name\": \"mercedes-benz 280s\", \"Origin\": \"Europe\", \"Weight_in_lbs\": 3820, \"Year\": \"1976-01-01\"}, {\"Acceleration\": 12.1, \"Cylinders\": 8, \"Displacement\": 350.0, \"Horsepower\": 180.0, \"Miles_per_Gallon\": 16.5, \"Name\": \"cadillac seville\", \"Origin\": \"USA\", \"Weight_in_lbs\": 4380, \"Year\": \"1976-01-01\"}, {\"Acceleration\": 12.0, \"Cylinders\": 8, \"Displacement\": 350.0, \"Horsepower\": 145.0, \"Miles_per_Gallon\": 13.0, \"Name\": \"chevy c10\", \"Origin\": \"USA\", \"Weight_in_lbs\": 4055, \"Year\": \"1976-01-01\"}, {\"Acceleration\": 15.0, \"Cylinders\": 8, \"Displacement\": 302.0, \"Horsepower\": 130.0, \"Miles_per_Gallon\": 13.0, \"Name\": \"ford f108\", \"Origin\": \"USA\", \"Weight_in_lbs\": 3870, \"Year\": \"1976-01-01\"}, {\"Acceleration\": 14.0, \"Cylinders\": 8, \"Displacement\": 318.0, \"Horsepower\": 150.0, \"Miles_per_Gallon\": 13.0, \"Name\": \"dodge d100\", \"Origin\": \"USA\", \"Weight_in_lbs\": 3755, \"Year\": \"1976-01-01\"}, {\"Acceleration\": 18.5, \"Cylinders\": 4, \"Displacement\": 98.0, \"Horsepower\": 68.0, \"Miles_per_Gallon\": 31.5, \"Name\": \"honda Accelerationord cvcc\", \"Origin\": \"Japan\", \"Weight_in_lbs\": 2045, \"Year\": \"1977-01-01\"}, {\"Acceleration\": 14.8, \"Cylinders\": 4, \"Displacement\": 111.0, \"Horsepower\": 80.0, \"Miles_per_Gallon\": 30.0, \"Name\": \"buick opel isuzu deluxe\", \"Origin\": \"USA\", \"Weight_in_lbs\": 2155, \"Year\": \"1977-01-01\"}, {\"Acceleration\": 18.6, \"Cylinders\": 4, \"Displacement\": 79.0, \"Horsepower\": 58.0, \"Miles_per_Gallon\": 36.0, \"Name\": \"renault 5 gtl\", \"Origin\": \"Europe\", \"Weight_in_lbs\": 1825, \"Year\": \"1977-01-01\"}, {\"Acceleration\": 15.5, \"Cylinders\": 4, \"Displacement\": 122.0, \"Horsepower\": 96.0, \"Miles_per_Gallon\": 25.5, \"Name\": \"plymouth arrow gs\", \"Origin\": \"USA\", \"Weight_in_lbs\": 2300, \"Year\": \"1977-01-01\"}, {\"Acceleration\": 16.8, \"Cylinders\": 4, \"Displacement\": 85.0, \"Horsepower\": 70.0, \"Miles_per_Gallon\": 33.5, \"Name\": \"datsun f-10 hatchback\", \"Origin\": \"Japan\", \"Weight_in_lbs\": 1945, \"Year\": \"1977-01-01\"}, {\"Acceleration\": 12.5, \"Cylinders\": 8, \"Displacement\": 305.0, \"Horsepower\": 145.0, \"Miles_per_Gallon\": 17.5, \"Name\": \"chevrolet caprice classic\", \"Origin\": \"USA\", \"Weight_in_lbs\": 3880, \"Year\": \"1977-01-01\"}, {\"Acceleration\": 19.0, \"Cylinders\": 8, \"Displacement\": 260.0, \"Horsepower\": 110.0, \"Miles_per_Gallon\": 17.0, \"Name\": \"oldsmobile cutlass supreme\", \"Origin\": \"USA\", \"Weight_in_lbs\": 4060, \"Year\": \"1977-01-01\"}, {\"Acceleration\": 13.7, \"Cylinders\": 8, \"Displacement\": 318.0, \"Horsepower\": 145.0, \"Miles_per_Gallon\": 15.5, \"Name\": \"dodge monaco brougham\", \"Origin\": \"USA\", \"Weight_in_lbs\": 4140, \"Year\": \"1977-01-01\"}, {\"Acceleration\": 14.9, \"Cylinders\": 8, \"Displacement\": 302.0, \"Horsepower\": 130.0, \"Miles_per_Gallon\": 15.0, \"Name\": \"mercury cougar brougham\", \"Origin\": \"USA\", \"Weight_in_lbs\": 4295, \"Year\": \"1977-01-01\"}, {\"Acceleration\": 16.4, \"Cylinders\": 6, \"Displacement\": 250.0, \"Horsepower\": 110.0, \"Miles_per_Gallon\": 17.5, \"Name\": \"chevrolet concours\", \"Origin\": \"USA\", \"Weight_in_lbs\": 3520, \"Year\": \"1977-01-01\"}, {\"Acceleration\": 16.9, \"Cylinders\": 6, \"Displacement\": 231.0, \"Horsepower\": 105.0, \"Miles_per_Gallon\": 20.5, \"Name\": \"buick skylark\", \"Origin\": \"USA\", \"Weight_in_lbs\": 3425, \"Year\": \"1977-01-01\"}, {\"Acceleration\": 17.7, \"Cylinders\": 6, \"Displacement\": 225.0, \"Horsepower\": 100.0, \"Miles_per_Gallon\": 19.0, \"Name\": \"plymouth volare custom\", \"Origin\": \"USA\", \"Weight_in_lbs\": 3630, \"Year\": \"1977-01-01\"}, {\"Acceleration\": 19.0, \"Cylinders\": 6, \"Displacement\": 250.0, \"Horsepower\": 98.0, \"Miles_per_Gallon\": 18.5, \"Name\": \"ford granada\", \"Origin\": \"USA\", \"Weight_in_lbs\": 3525, \"Year\": \"1977-01-01\"}, {\"Acceleration\": 11.1, \"Cylinders\": 8, \"Displacement\": 400.0, \"Horsepower\": 180.0, \"Miles_per_Gallon\": 16.0, \"Name\": \"pontiac grand prix lj\", \"Origin\": \"USA\", \"Weight_in_lbs\": 4220, \"Year\": \"1977-01-01\"}, {\"Acceleration\": 11.4, \"Cylinders\": 8, \"Displacement\": 350.0, \"Horsepower\": 170.0, \"Miles_per_Gallon\": 15.5, \"Name\": \"chevrolet monte carlo landau\", \"Origin\": \"USA\", \"Weight_in_lbs\": 4165, \"Year\": \"1977-01-01\"}, {\"Acceleration\": 12.2, \"Cylinders\": 8, \"Displacement\": 400.0, \"Horsepower\": 190.0, \"Miles_per_Gallon\": 15.5, \"Name\": \"chrysler cordoba\", \"Origin\": \"USA\", \"Weight_in_lbs\": 4325, \"Year\": \"1977-01-01\"}, {\"Acceleration\": 14.5, \"Cylinders\": 8, \"Displacement\": 351.0, \"Horsepower\": 149.0, \"Miles_per_Gallon\": 16.0, \"Name\": \"ford thunderbird\", \"Origin\": \"USA\", \"Weight_in_lbs\": 4335, \"Year\": \"1977-01-01\"}, {\"Acceleration\": 14.5, \"Cylinders\": 4, \"Displacement\": 97.0, \"Horsepower\": 78.0, \"Miles_per_Gallon\": 29.0, \"Name\": \"volkswagen rabbit custom\", \"Origin\": \"Europe\", \"Weight_in_lbs\": 1940, \"Year\": \"1977-01-01\"}, {\"Acceleration\": 16.0, \"Cylinders\": 4, \"Displacement\": 151.0, \"Horsepower\": 88.0, \"Miles_per_Gallon\": 24.5, \"Name\": \"pontiac sunbird coupe\", \"Origin\": \"USA\", \"Weight_in_lbs\": 2740, \"Year\": \"1977-01-01\"}, {\"Acceleration\": 18.2, \"Cylinders\": 4, \"Displacement\": 97.0, \"Horsepower\": 75.0, \"Miles_per_Gallon\": 26.0, \"Name\": \"toyota corolla liftback\", \"Origin\": \"Japan\", \"Weight_in_lbs\": 2265, \"Year\": \"1977-01-01\"}, {\"Acceleration\": 15.8, \"Cylinders\": 4, \"Displacement\": 140.0, \"Horsepower\": 89.0, \"Miles_per_Gallon\": 25.5, \"Name\": \"ford mustang ii 2+2\", \"Origin\": \"USA\", \"Weight_in_lbs\": 2755, \"Year\": \"1977-01-01\"}, {\"Acceleration\": 17.0, \"Cylinders\": 4, \"Displacement\": 98.0, \"Horsepower\": 63.0, \"Miles_per_Gallon\": 30.5, \"Name\": \"chevrolet chevette\", \"Origin\": \"USA\", \"Weight_in_lbs\": 2051, \"Year\": \"1977-01-01\"}, {\"Acceleration\": 15.9, \"Cylinders\": 4, \"Displacement\": 98.0, \"Horsepower\": 83.0, \"Miles_per_Gallon\": 33.5, \"Name\": \"dodge colt m/m\", \"Origin\": \"USA\", \"Weight_in_lbs\": 2075, \"Year\": \"1977-01-01\"}, {\"Acceleration\": 16.4, \"Cylinders\": 4, \"Displacement\": 97.0, \"Horsepower\": 67.0, \"Miles_per_Gallon\": 30.0, \"Name\": \"subaru dl\", \"Origin\": \"Japan\", \"Weight_in_lbs\": 1985, \"Year\": \"1977-01-01\"}, {\"Acceleration\": 14.1, \"Cylinders\": 4, \"Displacement\": 97.0, \"Horsepower\": 78.0, \"Miles_per_Gallon\": 30.5, \"Name\": \"volkswagen dasher\", \"Origin\": \"Europe\", \"Weight_in_lbs\": 2190, \"Year\": \"1977-01-01\"}, {\"Acceleration\": 14.5, \"Cylinders\": 6, \"Displacement\": 146.0, \"Horsepower\": 97.0, \"Miles_per_Gallon\": 22.0, \"Name\": \"datsun 810\", \"Origin\": \"Japan\", \"Weight_in_lbs\": 2815, \"Year\": \"1977-01-01\"}, {\"Acceleration\": 12.8, \"Cylinders\": 4, \"Displacement\": 121.0, \"Horsepower\": 110.0, \"Miles_per_Gallon\": 21.5, \"Name\": \"bmw 320i\", \"Origin\": \"Europe\", \"Weight_in_lbs\": 2600, \"Year\": \"1977-01-01\"}, {\"Acceleration\": 13.5, \"Cylinders\": 3, \"Displacement\": 80.0, \"Horsepower\": 110.0, \"Miles_per_Gallon\": 21.5, \"Name\": \"mazda rx-4\", \"Origin\": \"Japan\", \"Weight_in_lbs\": 2720, \"Year\": \"1977-01-01\"}, {\"Acceleration\": 21.5, \"Cylinders\": 4, \"Displacement\": 90.0, \"Horsepower\": 48.0, \"Miles_per_Gallon\": 43.1, \"Name\": \"volkswagen rabbit custom diesel\", \"Origin\": \"Europe\", \"Weight_in_lbs\": 1985, \"Year\": \"1978-01-01\"}, {\"Acceleration\": 14.4, \"Cylinders\": 4, \"Displacement\": 98.0, \"Horsepower\": 66.0, \"Miles_per_Gallon\": 36.1, \"Name\": \"ford fiesta\", \"Origin\": \"USA\", \"Weight_in_lbs\": 1800, \"Year\": \"1978-01-01\"}, {\"Acceleration\": 19.4, \"Cylinders\": 4, \"Displacement\": 78.0, \"Horsepower\": 52.0, \"Miles_per_Gallon\": 32.8, \"Name\": \"mazda glc deluxe\", \"Origin\": \"Japan\", \"Weight_in_lbs\": 1985, \"Year\": \"1978-01-01\"}, {\"Acceleration\": 18.6, \"Cylinders\": 4, \"Displacement\": 85.0, \"Horsepower\": 70.0, \"Miles_per_Gallon\": 39.4, \"Name\": \"datsun b210 gx\", \"Origin\": \"Japan\", \"Weight_in_lbs\": 2070, \"Year\": \"1978-01-01\"}, {\"Acceleration\": 16.4, \"Cylinders\": 4, \"Displacement\": 91.0, \"Horsepower\": 60.0, \"Miles_per_Gallon\": 36.1, \"Name\": \"honda civic cvcc\", \"Origin\": \"Japan\", \"Weight_in_lbs\": 1800, \"Year\": \"1978-01-01\"}, {\"Acceleration\": 15.5, \"Cylinders\": 8, \"Displacement\": 260.0, \"Horsepower\": 110.0, \"Miles_per_Gallon\": 19.9, \"Name\": \"oldsmobile cutlass salon brougham\", \"Origin\": \"USA\", \"Weight_in_lbs\": 3365, \"Year\": \"1978-01-01\"}, {\"Acceleration\": 13.2, \"Cylinders\": 8, \"Displacement\": 318.0, \"Horsepower\": 140.0, \"Miles_per_Gallon\": 19.4, \"Name\": \"dodge diplomat\", \"Origin\": \"USA\", \"Weight_in_lbs\": 3735, \"Year\": \"1978-01-01\"}, {\"Acceleration\": 12.8, \"Cylinders\": 8, \"Displacement\": 302.0, \"Horsepower\": 139.0, \"Miles_per_Gallon\": 20.2, \"Name\": \"mercury monarch ghia\", \"Origin\": \"USA\", \"Weight_in_lbs\": 3570, \"Year\": \"1978-01-01\"}, {\"Acceleration\": 19.2, \"Cylinders\": 6, \"Displacement\": 231.0, \"Horsepower\": 105.0, \"Miles_per_Gallon\": 19.2, \"Name\": \"pontiac phoenix lj\", \"Origin\": \"USA\", \"Weight_in_lbs\": 3535, \"Year\": \"1978-01-01\"}, {\"Acceleration\": 18.2, \"Cylinders\": 6, \"Displacement\": 200.0, \"Horsepower\": 95.0, \"Miles_per_Gallon\": 20.5, \"Name\": \"chevrolet malibu\", \"Origin\": \"USA\", \"Weight_in_lbs\": 3155, \"Year\": \"1978-01-01\"}, {\"Acceleration\": 15.8, \"Cylinders\": 6, \"Displacement\": 200.0, \"Horsepower\": 85.0, \"Miles_per_Gallon\": 20.2, \"Name\": \"ford fairmont (auto)\", \"Origin\": \"USA\", \"Weight_in_lbs\": 2965, \"Year\": \"1978-01-01\"}, {\"Acceleration\": 15.4, \"Cylinders\": 4, \"Displacement\": 140.0, \"Horsepower\": 88.0, \"Miles_per_Gallon\": 25.1, \"Name\": \"ford fairmont (man)\", \"Origin\": \"USA\", \"Weight_in_lbs\": 2720, \"Year\": \"1978-01-01\"}, {\"Acceleration\": 17.2, \"Cylinders\": 6, \"Displacement\": 225.0, \"Horsepower\": 100.0, \"Miles_per_Gallon\": 20.5, \"Name\": \"plymouth volare\", \"Origin\": \"USA\", \"Weight_in_lbs\": 3430, \"Year\": \"1978-01-01\"}, {\"Acceleration\": 17.2, \"Cylinders\": 6, \"Displacement\": 232.0, \"Horsepower\": 90.0, \"Miles_per_Gallon\": 19.4, \"Name\": \"amc concord\", \"Origin\": \"USA\", \"Weight_in_lbs\": 3210, \"Year\": \"1978-01-01\"}, {\"Acceleration\": 15.8, \"Cylinders\": 6, \"Displacement\": 231.0, \"Horsepower\": 105.0, \"Miles_per_Gallon\": 20.6, \"Name\": \"buick century special\", \"Origin\": \"USA\", \"Weight_in_lbs\": 3380, \"Year\": \"1978-01-01\"}, {\"Acceleration\": 16.7, \"Cylinders\": 6, \"Displacement\": 200.0, \"Horsepower\": 85.0, \"Miles_per_Gallon\": 20.8, \"Name\": \"mercury zephyr\", \"Origin\": \"USA\", \"Weight_in_lbs\": 3070, \"Year\": \"1978-01-01\"}, {\"Acceleration\": 18.7, \"Cylinders\": 6, \"Displacement\": 225.0, \"Horsepower\": 110.0, \"Miles_per_Gallon\": 18.6, \"Name\": \"dodge aspen\", \"Origin\": \"USA\", \"Weight_in_lbs\": 3620, \"Year\": \"1978-01-01\"}, {\"Acceleration\": 15.1, \"Cylinders\": 6, \"Displacement\": 258.0, \"Horsepower\": 120.0, \"Miles_per_Gallon\": 18.1, \"Name\": \"amc concord d/l\", \"Origin\": \"USA\", \"Weight_in_lbs\": 3410, \"Year\": \"1978-01-01\"}, {\"Acceleration\": 13.2, \"Cylinders\": 8, \"Displacement\": 305.0, \"Horsepower\": 145.0, \"Miles_per_Gallon\": 19.2, \"Name\": \"chevrolet monte carlo landau\", \"Origin\": \"USA\", \"Weight_in_lbs\": 3425, \"Year\": \"1978-01-01\"}, {\"Acceleration\": 13.4, \"Cylinders\": 6, \"Displacement\": 231.0, \"Horsepower\": 165.0, \"Miles_per_Gallon\": 17.7, \"Name\": \"buick regal sport coupe (turbo)\", \"Origin\": \"USA\", \"Weight_in_lbs\": 3445, \"Year\": \"1978-01-01\"}, {\"Acceleration\": 11.2, \"Cylinders\": 8, \"Displacement\": 302.0, \"Horsepower\": 139.0, \"Miles_per_Gallon\": 18.1, \"Name\": \"ford futura\", \"Origin\": \"USA\", \"Weight_in_lbs\": 3205, \"Year\": \"1978-01-01\"}, {\"Acceleration\": 13.7, \"Cylinders\": 8, \"Displacement\": 318.0, \"Horsepower\": 140.0, \"Miles_per_Gallon\": 17.5, \"Name\": \"dodge magnum xe\", \"Origin\": \"USA\", \"Weight_in_lbs\": 4080, \"Year\": \"1978-01-01\"}, {\"Acceleration\": 16.5, \"Cylinders\": 4, \"Displacement\": 98.0, \"Horsepower\": 68.0, \"Miles_per_Gallon\": 30.0, \"Name\": \"chevrolet chevette\", \"Origin\": \"USA\", \"Weight_in_lbs\": 2155, \"Year\": \"1978-01-01\"}, {\"Acceleration\": 14.2, \"Cylinders\": 4, \"Displacement\": 134.0, \"Horsepower\": 95.0, \"Miles_per_Gallon\": 27.5, \"Name\": \"toyota corona\", \"Origin\": \"Japan\", \"Weight_in_lbs\": 2560, \"Year\": \"1978-01-01\"}, {\"Acceleration\": 14.7, \"Cylinders\": 4, \"Displacement\": 119.0, \"Horsepower\": 97.0, \"Miles_per_Gallon\": 27.2, \"Name\": \"datsun 510\", \"Origin\": \"Japan\", \"Weight_in_lbs\": 2300, \"Year\": \"1978-01-01\"}, {\"Acceleration\": 14.5, \"Cylinders\": 4, \"Displacement\": 105.0, \"Horsepower\": 75.0, \"Miles_per_Gallon\": 30.9, \"Name\": \"dodge omni\", \"Origin\": \"USA\", \"Weight_in_lbs\": 2230, \"Year\": \"1978-01-01\"}, {\"Acceleration\": 14.8, \"Cylinders\": 4, \"Displacement\": 134.0, \"Horsepower\": 95.0, \"Miles_per_Gallon\": 21.1, \"Name\": \"toyota celica gt liftback\", \"Origin\": \"Japan\", \"Weight_in_lbs\": 2515, \"Year\": \"1978-01-01\"}, {\"Acceleration\": 16.7, \"Cylinders\": 4, \"Displacement\": 156.0, \"Horsepower\": 105.0, \"Miles_per_Gallon\": 23.2, \"Name\": \"plymouth sapporo\", \"Origin\": \"USA\", \"Weight_in_lbs\": 2745, \"Year\": \"1978-01-01\"}, {\"Acceleration\": 17.6, \"Cylinders\": 4, \"Displacement\": 151.0, \"Horsepower\": 85.0, \"Miles_per_Gallon\": 23.8, \"Name\": \"oldsmobile starfire sx\", \"Origin\": \"USA\", \"Weight_in_lbs\": 2855, \"Year\": \"1978-01-01\"}, {\"Acceleration\": 14.9, \"Cylinders\": 4, \"Displacement\": 119.0, \"Horsepower\": 97.0, \"Miles_per_Gallon\": 23.9, \"Name\": \"datsun 200-sx\", \"Origin\": \"Japan\", \"Weight_in_lbs\": 2405, \"Year\": \"1978-01-01\"}, {\"Acceleration\": 15.9, \"Cylinders\": 5, \"Displacement\": 131.0, \"Horsepower\": 103.0, \"Miles_per_Gallon\": 20.3, \"Name\": \"audi 5000\", \"Origin\": \"Europe\", \"Weight_in_lbs\": 2830, \"Year\": \"1978-01-01\"}, {\"Acceleration\": 13.6, \"Cylinders\": 6, \"Displacement\": 163.0, \"Horsepower\": 125.0, \"Miles_per_Gallon\": 17.0, \"Name\": \"volvo 264gl\", \"Origin\": \"Europe\", \"Weight_in_lbs\": 3140, \"Year\": \"1978-01-01\"}, {\"Acceleration\": 15.7, \"Cylinders\": 4, \"Displacement\": 121.0, \"Horsepower\": 115.0, \"Miles_per_Gallon\": 21.6, \"Name\": \"saab 99gle\", \"Origin\": \"Europe\", \"Weight_in_lbs\": 2795, \"Year\": \"1978-01-01\"}, {\"Acceleration\": 15.8, \"Cylinders\": 6, \"Displacement\": 163.0, \"Horsepower\": 133.0, \"Miles_per_Gallon\": 16.2, \"Name\": \"peugeot 604sl\", \"Origin\": \"Europe\", \"Weight_in_lbs\": 3410, \"Year\": \"1978-01-01\"}, {\"Acceleration\": 14.9, \"Cylinders\": 4, \"Displacement\": 89.0, \"Horsepower\": 71.0, \"Miles_per_Gallon\": 31.5, \"Name\": \"volkswagen scirocco\", \"Origin\": \"Europe\", \"Weight_in_lbs\": 1990, \"Year\": \"1978-01-01\"}, {\"Acceleration\": 16.6, \"Cylinders\": 4, \"Displacement\": 98.0, \"Horsepower\": 68.0, \"Miles_per_Gallon\": 29.5, \"Name\": \"honda Accelerationord lx\", \"Origin\": \"Japan\", \"Weight_in_lbs\": 2135, \"Year\": \"1978-01-01\"}, {\"Acceleration\": 15.4, \"Cylinders\": 6, \"Displacement\": 231.0, \"Horsepower\": 115.0, \"Miles_per_Gallon\": 21.5, \"Name\": \"pontiac lemans v6\", \"Origin\": \"USA\", \"Weight_in_lbs\": 3245, \"Year\": \"1979-01-01\"}, {\"Acceleration\": 18.2, \"Cylinders\": 6, \"Displacement\": 200.0, \"Horsepower\": 85.0, \"Miles_per_Gallon\": 19.8, \"Name\": \"mercury zephyr 6\", \"Origin\": \"USA\", \"Weight_in_lbs\": 2990, \"Year\": \"1979-01-01\"}, {\"Acceleration\": 17.3, \"Cylinders\": 4, \"Displacement\": 140.0, \"Horsepower\": 88.0, \"Miles_per_Gallon\": 22.3, \"Name\": \"ford fairmont 4\", \"Origin\": \"USA\", \"Weight_in_lbs\": 2890, \"Year\": \"1979-01-01\"}, {\"Acceleration\": 18.2, \"Cylinders\": 6, \"Displacement\": 232.0, \"Horsepower\": 90.0, \"Miles_per_Gallon\": 20.2, \"Name\": \"amc concord dl 6\", \"Origin\": \"USA\", \"Weight_in_lbs\": 3265, \"Year\": \"1979-01-01\"}, {\"Acceleration\": 16.6, \"Cylinders\": 6, \"Displacement\": 225.0, \"Horsepower\": 110.0, \"Miles_per_Gallon\": 20.6, \"Name\": \"dodge aspen 6\", \"Origin\": \"USA\", \"Weight_in_lbs\": 3360, \"Year\": \"1979-01-01\"}, {\"Acceleration\": 15.4, \"Cylinders\": 8, \"Displacement\": 305.0, \"Horsepower\": 130.0, \"Miles_per_Gallon\": 17.0, \"Name\": \"chevrolet caprice classic\", \"Origin\": \"USA\", \"Weight_in_lbs\": 3840, \"Year\": \"1979-01-01\"}, {\"Acceleration\": 13.4, \"Cylinders\": 8, \"Displacement\": 302.0, \"Horsepower\": 129.0, \"Miles_per_Gallon\": 17.6, \"Name\": \"ford ltd landau\", \"Origin\": \"USA\", \"Weight_in_lbs\": 3725, \"Year\": \"1979-01-01\"}, {\"Acceleration\": 13.2, \"Cylinders\": 8, \"Displacement\": 351.0, \"Horsepower\": 138.0, \"Miles_per_Gallon\": 16.5, \"Name\": \"mercury grand marquis\", \"Origin\": \"USA\", \"Weight_in_lbs\": 3955, \"Year\": \"1979-01-01\"}, {\"Acceleration\": 15.2, \"Cylinders\": 8, \"Displacement\": 318.0, \"Horsepower\": 135.0, \"Miles_per_Gallon\": 18.2, \"Name\": \"dodge st. regis\", \"Origin\": \"USA\", \"Weight_in_lbs\": 3830, \"Year\": \"1979-01-01\"}, {\"Acceleration\": 14.9, \"Cylinders\": 8, \"Displacement\": 350.0, \"Horsepower\": 155.0, \"Miles_per_Gallon\": 16.9, \"Name\": \"buick estate wagon (sw)\", \"Origin\": \"USA\", \"Weight_in_lbs\": 4360, \"Year\": \"1979-01-01\"}, {\"Acceleration\": 14.3, \"Cylinders\": 8, \"Displacement\": 351.0, \"Horsepower\": 142.0, \"Miles_per_Gallon\": 15.5, \"Name\": \"ford country squire (sw)\", \"Origin\": \"USA\", \"Weight_in_lbs\": 4054, \"Year\": \"1979-01-01\"}, {\"Acceleration\": 15.0, \"Cylinders\": 8, \"Displacement\": 267.0, \"Horsepower\": 125.0, \"Miles_per_Gallon\": 19.2, \"Name\": \"chevrolet malibu classic (sw)\", \"Origin\": \"USA\", \"Weight_in_lbs\": 3605, \"Year\": \"1979-01-01\"}, {\"Acceleration\": 13.0, \"Cylinders\": 8, \"Displacement\": 360.0, \"Horsepower\": 150.0, \"Miles_per_Gallon\": 18.5, \"Name\": \"chrysler lebaron town @ country (sw)\", \"Origin\": \"USA\", \"Weight_in_lbs\": 3940, \"Year\": \"1979-01-01\"}, {\"Acceleration\": 14.0, \"Cylinders\": 4, \"Displacement\": 89.0, \"Horsepower\": 71.0, \"Miles_per_Gallon\": 31.9, \"Name\": \"vw rabbit custom\", \"Origin\": \"Europe\", \"Weight_in_lbs\": 1925, \"Year\": \"1979-01-01\"}, {\"Acceleration\": 15.2, \"Cylinders\": 4, \"Displacement\": 86.0, \"Horsepower\": 65.0, \"Miles_per_Gallon\": 34.1, \"Name\": \"maxda glc deluxe\", \"Origin\": \"Japan\", \"Weight_in_lbs\": 1975, \"Year\": \"1979-01-01\"}, {\"Acceleration\": 14.4, \"Cylinders\": 4, \"Displacement\": 98.0, \"Horsepower\": 80.0, \"Miles_per_Gallon\": 35.7, \"Name\": \"dodge colt hatchback custom\", \"Origin\": \"USA\", \"Weight_in_lbs\": 1915, \"Year\": \"1979-01-01\"}, {\"Acceleration\": 15.0, \"Cylinders\": 4, \"Displacement\": 121.0, \"Horsepower\": 80.0, \"Miles_per_Gallon\": 27.4, \"Name\": \"amc spirit dl\", \"Origin\": \"USA\", \"Weight_in_lbs\": 2670, \"Year\": \"1979-01-01\"}, {\"Acceleration\": 20.1, \"Cylinders\": 5, \"Displacement\": 183.0, \"Horsepower\": 77.0, \"Miles_per_Gallon\": 25.4, \"Name\": \"mercedes benz 300d\", \"Origin\": \"Europe\", \"Weight_in_lbs\": 3530, \"Year\": \"1979-01-01\"}, {\"Acceleration\": 17.4, \"Cylinders\": 8, \"Displacement\": 350.0, \"Horsepower\": 125.0, \"Miles_per_Gallon\": 23.0, \"Name\": \"cadillac eldorado\", \"Origin\": \"USA\", \"Weight_in_lbs\": 3900, \"Year\": \"1979-01-01\"}, {\"Acceleration\": 24.8, \"Cylinders\": 4, \"Displacement\": 141.0, \"Horsepower\": 71.0, \"Miles_per_Gallon\": 27.2, \"Name\": \"peugeot 504\", \"Origin\": \"Europe\", \"Weight_in_lbs\": 3190, \"Year\": \"1979-01-01\"}, {\"Acceleration\": 22.2, \"Cylinders\": 8, \"Displacement\": 260.0, \"Horsepower\": 90.0, \"Miles_per_Gallon\": 23.9, \"Name\": \"oldsmobile cutlass salon brougham\", \"Origin\": \"USA\", \"Weight_in_lbs\": 3420, \"Year\": \"1979-01-01\"}, {\"Acceleration\": 13.2, \"Cylinders\": 4, \"Displacement\": 105.0, \"Horsepower\": 70.0, \"Miles_per_Gallon\": 34.2, \"Name\": \"plymouth horizon\", \"Origin\": \"USA\", \"Weight_in_lbs\": 2200, \"Year\": \"1979-01-01\"}, {\"Acceleration\": 14.9, \"Cylinders\": 4, \"Displacement\": 105.0, \"Horsepower\": 70.0, \"Miles_per_Gallon\": 34.5, \"Name\": \"plymouth horizon tc3\", \"Origin\": \"USA\", \"Weight_in_lbs\": 2150, \"Year\": \"1979-01-01\"}, {\"Acceleration\": 19.2, \"Cylinders\": 4, \"Displacement\": 85.0, \"Horsepower\": 65.0, \"Miles_per_Gallon\": 31.8, \"Name\": \"datsun 210\", \"Origin\": \"Japan\", \"Weight_in_lbs\": 2020, \"Year\": \"1979-01-01\"}, {\"Acceleration\": 14.7, \"Cylinders\": 4, \"Displacement\": 91.0, \"Horsepower\": 69.0, \"Miles_per_Gallon\": 37.3, \"Name\": \"fiat strada custom\", \"Origin\": \"Europe\", \"Weight_in_lbs\": 2130, \"Year\": \"1979-01-01\"}, {\"Acceleration\": 16.0, \"Cylinders\": 4, \"Displacement\": 151.0, \"Horsepower\": 90.0, \"Miles_per_Gallon\": 28.4, \"Name\": \"buick skylark limited\", \"Origin\": \"USA\", \"Weight_in_lbs\": 2670, \"Year\": \"1979-01-01\"}, {\"Acceleration\": 11.3, \"Cylinders\": 6, \"Displacement\": 173.0, \"Horsepower\": 115.0, \"Miles_per_Gallon\": 28.8, \"Name\": \"chevrolet citation\", \"Origin\": \"USA\", \"Weight_in_lbs\": 2595, \"Year\": \"1979-01-01\"}, {\"Acceleration\": 12.9, \"Cylinders\": 6, \"Displacement\": 173.0, \"Horsepower\": 115.0, \"Miles_per_Gallon\": 26.8, \"Name\": \"oldsmobile omega brougham\", \"Origin\": \"USA\", \"Weight_in_lbs\": 2700, \"Year\": \"1979-01-01\"}, {\"Acceleration\": 13.2, \"Cylinders\": 4, \"Displacement\": 151.0, \"Horsepower\": 90.0, \"Miles_per_Gallon\": 33.5, \"Name\": \"pontiac phoenix\", \"Origin\": \"USA\", \"Weight_in_lbs\": 2556, \"Year\": \"1979-01-01\"}, {\"Acceleration\": 14.7, \"Cylinders\": 4, \"Displacement\": 98.0, \"Horsepower\": 76.0, \"Miles_per_Gallon\": 41.5, \"Name\": \"vw rabbit\", \"Origin\": \"Europe\", \"Weight_in_lbs\": 2144, \"Year\": \"1980-01-01\"}, {\"Acceleration\": 18.8, \"Cylinders\": 4, \"Displacement\": 89.0, \"Horsepower\": 60.0, \"Miles_per_Gallon\": 38.1, \"Name\": \"toyota corolla tercel\", \"Origin\": \"Japan\", \"Weight_in_lbs\": 1968, \"Year\": \"1980-01-01\"}, {\"Acceleration\": 15.5, \"Cylinders\": 4, \"Displacement\": 98.0, \"Horsepower\": 70.0, \"Miles_per_Gallon\": 32.1, \"Name\": \"chevrolet chevette\", \"Origin\": \"USA\", \"Weight_in_lbs\": 2120, \"Year\": \"1980-01-01\"}, {\"Acceleration\": 16.4, \"Cylinders\": 4, \"Displacement\": 86.0, \"Horsepower\": 65.0, \"Miles_per_Gallon\": 37.2, \"Name\": \"datsun 310\", \"Origin\": \"Japan\", \"Weight_in_lbs\": 2019, \"Year\": \"1980-01-01\"}, {\"Acceleration\": 16.5, \"Cylinders\": 4, \"Displacement\": 151.0, \"Horsepower\": 90.0, \"Miles_per_Gallon\": 28.0, \"Name\": \"chevrolet citation\", \"Origin\": \"USA\", \"Weight_in_lbs\": 2678, \"Year\": \"1980-01-01\"}, {\"Acceleration\": 18.1, \"Cylinders\": 4, \"Displacement\": 140.0, \"Horsepower\": 88.0, \"Miles_per_Gallon\": 26.4, \"Name\": \"ford fairmont\", \"Origin\": \"USA\", \"Weight_in_lbs\": 2870, \"Year\": \"1980-01-01\"}, {\"Acceleration\": 20.1, \"Cylinders\": 4, \"Displacement\": 151.0, \"Horsepower\": 90.0, \"Miles_per_Gallon\": 24.3, \"Name\": \"amc concord\", \"Origin\": \"USA\", \"Weight_in_lbs\": 3003, \"Year\": \"1980-01-01\"}, {\"Acceleration\": 18.7, \"Cylinders\": 6, \"Displacement\": 225.0, \"Horsepower\": 90.0, \"Miles_per_Gallon\": 19.1, \"Name\": \"dodge aspen\", \"Origin\": \"USA\", \"Weight_in_lbs\": 3381, \"Year\": \"1980-01-01\"}, {\"Acceleration\": 15.8, \"Cylinders\": 4, \"Displacement\": 97.0, \"Horsepower\": 78.0, \"Miles_per_Gallon\": 34.3, \"Name\": \"audi 4000\", \"Origin\": \"Europe\", \"Weight_in_lbs\": 2188, \"Year\": \"1980-01-01\"}, {\"Acceleration\": 15.5, \"Cylinders\": 4, \"Displacement\": 134.0, \"Horsepower\": 90.0, \"Miles_per_Gallon\": 29.8, \"Name\": \"toyota corona liftback\", \"Origin\": \"Japan\", \"Weight_in_lbs\": 2711, \"Year\": \"1980-01-01\"}, {\"Acceleration\": 17.5, \"Cylinders\": 4, \"Displacement\": 120.0, \"Horsepower\": 75.0, \"Miles_per_Gallon\": 31.3, \"Name\": \"mazda 626\", \"Origin\": \"Japan\", \"Weight_in_lbs\": 2542, \"Year\": \"1980-01-01\"}, {\"Acceleration\": 15.0, \"Cylinders\": 4, \"Displacement\": 119.0, \"Horsepower\": 92.0, \"Miles_per_Gallon\": 37.0, \"Name\": \"datsun 510 hatchback\", \"Origin\": \"Japan\", \"Weight_in_lbs\": 2434, \"Year\": \"1980-01-01\"}, {\"Acceleration\": 15.2, \"Cylinders\": 4, \"Displacement\": 108.0, \"Horsepower\": 75.0, \"Miles_per_Gallon\": 32.2, \"Name\": \"toyota corolla\", \"Origin\": \"Japan\", \"Weight_in_lbs\": 2265, \"Year\": \"1980-01-01\"}, {\"Acceleration\": 17.9, \"Cylinders\": 4, \"Displacement\": 86.0, \"Horsepower\": 65.0, \"Miles_per_Gallon\": 46.6, \"Name\": \"mazda glc\", \"Origin\": \"Japan\", \"Weight_in_lbs\": 2110, \"Year\": \"1980-01-01\"}, {\"Acceleration\": 14.4, \"Cylinders\": 4, \"Displacement\": 156.0, \"Horsepower\": 105.0, \"Miles_per_Gallon\": 27.9, \"Name\": \"dodge colt\", \"Origin\": \"USA\", \"Weight_in_lbs\": 2800, \"Year\": \"1980-01-01\"}, {\"Acceleration\": 19.2, \"Cylinders\": 4, \"Displacement\": 85.0, \"Horsepower\": 65.0, \"Miles_per_Gallon\": 40.8, \"Name\": \"datsun 210\", \"Origin\": \"Japan\", \"Weight_in_lbs\": 2110, \"Year\": \"1980-01-01\"}, {\"Acceleration\": 21.7, \"Cylinders\": 4, \"Displacement\": 90.0, \"Horsepower\": 48.0, \"Miles_per_Gallon\": 44.3, \"Name\": \"vw rabbit c (diesel)\", \"Origin\": \"Europe\", \"Weight_in_lbs\": 2085, \"Year\": \"1980-01-01\"}, {\"Acceleration\": 23.7, \"Cylinders\": 4, \"Displacement\": 90.0, \"Horsepower\": 48.0, \"Miles_per_Gallon\": 43.4, \"Name\": \"vw dasher (diesel)\", \"Origin\": \"Europe\", \"Weight_in_lbs\": 2335, \"Year\": \"1980-01-01\"}, {\"Acceleration\": 19.9, \"Cylinders\": 5, \"Displacement\": 121.0, \"Horsepower\": 67.0, \"Miles_per_Gallon\": 36.4, \"Name\": \"audi 5000s (diesel)\", \"Origin\": \"Europe\", \"Weight_in_lbs\": 2950, \"Year\": \"1980-01-01\"}, {\"Acceleration\": 21.8, \"Cylinders\": 4, \"Displacement\": 146.0, \"Horsepower\": 67.0, \"Miles_per_Gallon\": 30.0, \"Name\": \"mercedes-benz 240d\", \"Origin\": \"Europe\", \"Weight_in_lbs\": 3250, \"Year\": \"1980-01-01\"}, {\"Acceleration\": 13.8, \"Cylinders\": 4, \"Displacement\": 91.0, \"Horsepower\": 67.0, \"Miles_per_Gallon\": 44.6, \"Name\": \"honda civic 1500 gl\", \"Origin\": \"Japan\", \"Weight_in_lbs\": 1850, \"Year\": \"1980-01-01\"}, {\"Acceleration\": 17.3, \"Cylinders\": 4, \"Displacement\": 85.0, \"Horsepower\": null, \"Miles_per_Gallon\": 40.9, \"Name\": \"renault lecar deluxe\", \"Origin\": \"Europe\", \"Weight_in_lbs\": 1835, \"Year\": \"1980-01-01\"}, {\"Acceleration\": 18.0, \"Cylinders\": 4, \"Displacement\": 97.0, \"Horsepower\": 67.0, \"Miles_per_Gallon\": 33.8, \"Name\": \"subaru dl\", \"Origin\": \"Japan\", \"Weight_in_lbs\": 2145, \"Year\": \"1980-01-01\"}, {\"Acceleration\": 15.3, \"Cylinders\": 4, \"Displacement\": 89.0, \"Horsepower\": 62.0, \"Miles_per_Gallon\": 29.8, \"Name\": \"vokswagen rabbit\", \"Origin\": \"Europe\", \"Weight_in_lbs\": 1845, \"Year\": \"1980-01-01\"}, {\"Acceleration\": 11.4, \"Cylinders\": 6, \"Displacement\": 168.0, \"Horsepower\": 132.0, \"Miles_per_Gallon\": 32.7, \"Name\": \"datsun 280-zx\", \"Origin\": \"Japan\", \"Weight_in_lbs\": 2910, \"Year\": \"1980-01-01\"}, {\"Acceleration\": 12.5, \"Cylinders\": 3, \"Displacement\": 70.0, \"Horsepower\": 100.0, \"Miles_per_Gallon\": 23.7, \"Name\": \"mazda rx-7 gs\", \"Origin\": \"Japan\", \"Weight_in_lbs\": 2420, \"Year\": \"1980-01-01\"}, {\"Acceleration\": 15.1, \"Cylinders\": 4, \"Displacement\": 122.0, \"Horsepower\": 88.0, \"Miles_per_Gallon\": 35.0, \"Name\": \"triumph tr7 coupe\", \"Origin\": \"Europe\", \"Weight_in_lbs\": 2500, \"Year\": \"1980-01-01\"}, {\"Acceleration\": 14.3, \"Cylinders\": 4, \"Displacement\": 140.0, \"Horsepower\": null, \"Miles_per_Gallon\": 23.6, \"Name\": \"ford mustang cobra\", \"Origin\": \"USA\", \"Weight_in_lbs\": 2905, \"Year\": \"1980-01-01\"}, {\"Acceleration\": 17.0, \"Cylinders\": 4, \"Displacement\": 107.0, \"Horsepower\": 72.0, \"Miles_per_Gallon\": 32.4, \"Name\": \"honda Accelerationord\", \"Origin\": \"Japan\", \"Weight_in_lbs\": 2290, \"Year\": \"1980-01-01\"}, {\"Acceleration\": 15.7, \"Cylinders\": 4, \"Displacement\": 135.0, \"Horsepower\": 84.0, \"Miles_per_Gallon\": 27.2, \"Name\": \"plymouth reliant\", \"Origin\": \"USA\", \"Weight_in_lbs\": 2490, \"Year\": \"1982-01-01\"}, {\"Acceleration\": 16.4, \"Cylinders\": 4, \"Displacement\": 151.0, \"Horsepower\": 84.0, \"Miles_per_Gallon\": 26.6, \"Name\": \"buick skylark\", \"Origin\": \"USA\", \"Weight_in_lbs\": 2635, \"Year\": \"1982-01-01\"}, {\"Acceleration\": 14.4, \"Cylinders\": 4, \"Displacement\": 156.0, \"Horsepower\": 92.0, \"Miles_per_Gallon\": 25.8, \"Name\": \"dodge aries wagon (sw)\", \"Origin\": \"USA\", \"Weight_in_lbs\": 2620, \"Year\": \"1982-01-01\"}, {\"Acceleration\": 12.6, \"Cylinders\": 6, \"Displacement\": 173.0, \"Horsepower\": 110.0, \"Miles_per_Gallon\": 23.5, \"Name\": \"chevrolet citation\", \"Origin\": \"USA\", \"Weight_in_lbs\": 2725, \"Year\": \"1982-01-01\"}, {\"Acceleration\": 12.9, \"Cylinders\": 4, \"Displacement\": 135.0, \"Horsepower\": 84.0, \"Miles_per_Gallon\": 30.0, \"Name\": \"plymouth reliant\", \"Origin\": \"USA\", \"Weight_in_lbs\": 2385, \"Year\": \"1982-01-01\"}, {\"Acceleration\": 16.9, \"Cylinders\": 4, \"Displacement\": 79.0, \"Horsepower\": 58.0, \"Miles_per_Gallon\": 39.1, \"Name\": \"toyota starlet\", \"Origin\": \"Japan\", \"Weight_in_lbs\": 1755, \"Year\": \"1982-01-01\"}, {\"Acceleration\": 16.4, \"Cylinders\": 4, \"Displacement\": 86.0, \"Horsepower\": 64.0, \"Miles_per_Gallon\": 39.0, \"Name\": \"plymouth champ\", \"Origin\": \"USA\", \"Weight_in_lbs\": 1875, \"Year\": \"1982-01-01\"}, {\"Acceleration\": 16.1, \"Cylinders\": 4, \"Displacement\": 81.0, \"Horsepower\": 60.0, \"Miles_per_Gallon\": 35.1, \"Name\": \"honda civic 1300\", \"Origin\": \"Japan\", \"Weight_in_lbs\": 1760, \"Year\": \"1982-01-01\"}, {\"Acceleration\": 17.8, \"Cylinders\": 4, \"Displacement\": 97.0, \"Horsepower\": 67.0, \"Miles_per_Gallon\": 32.3, \"Name\": \"subaru\", \"Origin\": \"Japan\", \"Weight_in_lbs\": 2065, \"Year\": \"1982-01-01\"}, {\"Acceleration\": 19.4, \"Cylinders\": 4, \"Displacement\": 85.0, \"Horsepower\": 65.0, \"Miles_per_Gallon\": 37.0, \"Name\": \"datsun 210\", \"Origin\": \"Japan\", \"Weight_in_lbs\": 1975, \"Year\": \"1982-01-01\"}, {\"Acceleration\": 17.3, \"Cylinders\": 4, \"Displacement\": 89.0, \"Horsepower\": 62.0, \"Miles_per_Gallon\": 37.7, \"Name\": \"toyota tercel\", \"Origin\": \"Japan\", \"Weight_in_lbs\": 2050, \"Year\": \"1982-01-01\"}, {\"Acceleration\": 16.0, \"Cylinders\": 4, \"Displacement\": 91.0, \"Horsepower\": 68.0, \"Miles_per_Gallon\": 34.1, \"Name\": \"mazda glc 4\", \"Origin\": \"Japan\", \"Weight_in_lbs\": 1985, \"Year\": \"1982-01-01\"}, {\"Acceleration\": 14.9, \"Cylinders\": 4, \"Displacement\": 105.0, \"Horsepower\": 63.0, \"Miles_per_Gallon\": 34.7, \"Name\": \"plymouth horizon 4\", \"Origin\": \"USA\", \"Weight_in_lbs\": 2215, \"Year\": \"1982-01-01\"}, {\"Acceleration\": 16.2, \"Cylinders\": 4, \"Displacement\": 98.0, \"Horsepower\": 65.0, \"Miles_per_Gallon\": 34.4, \"Name\": \"ford escort 4w\", \"Origin\": \"USA\", \"Weight_in_lbs\": 2045, \"Year\": \"1982-01-01\"}, {\"Acceleration\": 20.7, \"Cylinders\": 4, \"Displacement\": 98.0, \"Horsepower\": 65.0, \"Miles_per_Gallon\": 29.9, \"Name\": \"ford escort 2h\", \"Origin\": \"USA\", \"Weight_in_lbs\": 2380, \"Year\": \"1982-01-01\"}, {\"Acceleration\": 14.2, \"Cylinders\": 4, \"Displacement\": 105.0, \"Horsepower\": 74.0, \"Miles_per_Gallon\": 33.0, \"Name\": \"volkswagen jetta\", \"Origin\": \"Europe\", \"Weight_in_lbs\": 2190, \"Year\": \"1982-01-01\"}, {\"Acceleration\": 15.8, \"Cylinders\": 4, \"Displacement\": 100.0, \"Horsepower\": null, \"Miles_per_Gallon\": 34.5, \"Name\": \"renault 18i\", \"Origin\": \"Europe\", \"Weight_in_lbs\": 2320, \"Year\": \"1982-01-01\"}, {\"Acceleration\": 14.4, \"Cylinders\": 4, \"Displacement\": 107.0, \"Horsepower\": 75.0, \"Miles_per_Gallon\": 33.7, \"Name\": \"honda prelude\", \"Origin\": \"Japan\", \"Weight_in_lbs\": 2210, \"Year\": \"1982-01-01\"}, {\"Acceleration\": 16.8, \"Cylinders\": 4, \"Displacement\": 108.0, \"Horsepower\": 75.0, \"Miles_per_Gallon\": 32.4, \"Name\": \"toyota corolla\", \"Origin\": \"Japan\", \"Weight_in_lbs\": 2350, \"Year\": \"1982-01-01\"}, {\"Acceleration\": 14.8, \"Cylinders\": 4, \"Displacement\": 119.0, \"Horsepower\": 100.0, \"Miles_per_Gallon\": 32.9, \"Name\": \"datsun 200sx\", \"Origin\": \"Japan\", \"Weight_in_lbs\": 2615, \"Year\": \"1982-01-01\"}, {\"Acceleration\": 18.3, \"Cylinders\": 4, \"Displacement\": 120.0, \"Horsepower\": 74.0, \"Miles_per_Gallon\": 31.6, \"Name\": \"mazda 626\", \"Origin\": \"Japan\", \"Weight_in_lbs\": 2635, \"Year\": \"1982-01-01\"}, {\"Acceleration\": 20.4, \"Cylinders\": 4, \"Displacement\": 141.0, \"Horsepower\": 80.0, \"Miles_per_Gallon\": 28.1, \"Name\": \"peugeot 505s turbo diesel\", \"Origin\": \"Europe\", \"Weight_in_lbs\": 3230, \"Year\": \"1982-01-01\"}, {\"Acceleration\": 15.4, \"Cylinders\": 4, \"Displacement\": 121.0, \"Horsepower\": 110.0, \"Miles_per_Gallon\": null, \"Name\": \"saab 900s\", \"Origin\": \"Europe\", \"Weight_in_lbs\": 2800, \"Year\": \"1982-01-01\"}, {\"Acceleration\": 19.6, \"Cylinders\": 6, \"Displacement\": 145.0, \"Horsepower\": 76.0, \"Miles_per_Gallon\": 30.7, \"Name\": \"volvo diesel\", \"Origin\": \"Europe\", \"Weight_in_lbs\": 3160, \"Year\": \"1982-01-01\"}, {\"Acceleration\": 12.6, \"Cylinders\": 6, \"Displacement\": 168.0, \"Horsepower\": 116.0, \"Miles_per_Gallon\": 25.4, \"Name\": \"toyota cressida\", \"Origin\": \"Japan\", \"Weight_in_lbs\": 2900, \"Year\": \"1982-01-01\"}, {\"Acceleration\": 13.8, \"Cylinders\": 6, \"Displacement\": 146.0, \"Horsepower\": 120.0, \"Miles_per_Gallon\": 24.2, \"Name\": \"datsun 810 maxima\", \"Origin\": \"Japan\", \"Weight_in_lbs\": 2930, \"Year\": \"1982-01-01\"}, {\"Acceleration\": 15.8, \"Cylinders\": 6, \"Displacement\": 231.0, \"Horsepower\": 110.0, \"Miles_per_Gallon\": 22.4, \"Name\": \"buick century\", \"Origin\": \"USA\", \"Weight_in_lbs\": 3415, \"Year\": \"1982-01-01\"}, {\"Acceleration\": 19.0, \"Cylinders\": 8, \"Displacement\": 350.0, \"Horsepower\": 105.0, \"Miles_per_Gallon\": 26.6, \"Name\": \"oldsmobile cutlass ls\", \"Origin\": \"USA\", \"Weight_in_lbs\": 3725, \"Year\": \"1982-01-01\"}, {\"Acceleration\": 17.1, \"Cylinders\": 6, \"Displacement\": 200.0, \"Horsepower\": 88.0, \"Miles_per_Gallon\": 20.2, \"Name\": \"ford granada gl\", \"Origin\": \"USA\", \"Weight_in_lbs\": 3060, \"Year\": \"1982-01-01\"}, {\"Acceleration\": 16.6, \"Cylinders\": 6, \"Displacement\": 225.0, \"Horsepower\": 85.0, \"Miles_per_Gallon\": 17.6, \"Name\": \"chrysler lebaron salon\", \"Origin\": \"USA\", \"Weight_in_lbs\": 3465, \"Year\": \"1982-01-01\"}, {\"Acceleration\": 19.6, \"Cylinders\": 4, \"Displacement\": 112.0, \"Horsepower\": 88.0, \"Miles_per_Gallon\": 28.0, \"Name\": \"chevrolet cavalier\", \"Origin\": \"USA\", \"Weight_in_lbs\": 2605, \"Year\": \"1982-01-01\"}, {\"Acceleration\": 18.6, \"Cylinders\": 4, \"Displacement\": 112.0, \"Horsepower\": 88.0, \"Miles_per_Gallon\": 27.0, \"Name\": \"chevrolet cavalier wagon\", \"Origin\": \"USA\", \"Weight_in_lbs\": 2640, \"Year\": \"1982-01-01\"}, {\"Acceleration\": 18.0, \"Cylinders\": 4, \"Displacement\": 112.0, \"Horsepower\": 88.0, \"Miles_per_Gallon\": 34.0, \"Name\": \"chevrolet cavalier 2-door\", \"Origin\": \"USA\", \"Weight_in_lbs\": 2395, \"Year\": \"1982-01-01\"}, {\"Acceleration\": 16.2, \"Cylinders\": 4, \"Displacement\": 112.0, \"Horsepower\": 85.0, \"Miles_per_Gallon\": 31.0, \"Name\": \"pontiac j2000 se hatchback\", \"Origin\": \"USA\", \"Weight_in_lbs\": 2575, \"Year\": \"1982-01-01\"}, {\"Acceleration\": 16.0, \"Cylinders\": 4, \"Displacement\": 135.0, \"Horsepower\": 84.0, \"Miles_per_Gallon\": 29.0, \"Name\": \"dodge aries se\", \"Origin\": \"USA\", \"Weight_in_lbs\": 2525, \"Year\": \"1982-01-01\"}, {\"Acceleration\": 18.0, \"Cylinders\": 4, \"Displacement\": 151.0, \"Horsepower\": 90.0, \"Miles_per_Gallon\": 27.0, \"Name\": \"pontiac phoenix\", \"Origin\": \"USA\", \"Weight_in_lbs\": 2735, \"Year\": \"1982-01-01\"}, {\"Acceleration\": 16.4, \"Cylinders\": 4, \"Displacement\": 140.0, \"Horsepower\": 92.0, \"Miles_per_Gallon\": 24.0, \"Name\": \"ford fairmont futura\", \"Origin\": \"USA\", \"Weight_in_lbs\": 2865, \"Year\": \"1982-01-01\"}, {\"Acceleration\": 20.5, \"Cylinders\": 4, \"Displacement\": 151.0, \"Horsepower\": null, \"Miles_per_Gallon\": 23.0, \"Name\": \"amc concord dl\", \"Origin\": \"USA\", \"Weight_in_lbs\": 3035, \"Year\": \"1982-01-01\"}, {\"Acceleration\": 15.3, \"Cylinders\": 4, \"Displacement\": 105.0, \"Horsepower\": 74.0, \"Miles_per_Gallon\": 36.0, \"Name\": \"volkswagen rabbit l\", \"Origin\": \"Europe\", \"Weight_in_lbs\": 1980, \"Year\": \"1982-01-01\"}, {\"Acceleration\": 18.2, \"Cylinders\": 4, \"Displacement\": 91.0, \"Horsepower\": 68.0, \"Miles_per_Gallon\": 37.0, \"Name\": \"mazda glc custom l\", \"Origin\": \"Japan\", \"Weight_in_lbs\": 2025, \"Year\": \"1982-01-01\"}, {\"Acceleration\": 17.6, \"Cylinders\": 4, \"Displacement\": 91.0, \"Horsepower\": 68.0, \"Miles_per_Gallon\": 31.0, \"Name\": \"mazda glc custom\", \"Origin\": \"Japan\", \"Weight_in_lbs\": 1970, \"Year\": \"1982-01-01\"}, {\"Acceleration\": 14.7, \"Cylinders\": 4, \"Displacement\": 105.0, \"Horsepower\": 63.0, \"Miles_per_Gallon\": 38.0, \"Name\": \"plymouth horizon miser\", \"Origin\": \"USA\", \"Weight_in_lbs\": 2125, \"Year\": \"1982-01-01\"}, {\"Acceleration\": 17.3, \"Cylinders\": 4, \"Displacement\": 98.0, \"Horsepower\": 70.0, \"Miles_per_Gallon\": 36.0, \"Name\": \"mercury lynx l\", \"Origin\": \"USA\", \"Weight_in_lbs\": 2125, \"Year\": \"1982-01-01\"}, {\"Acceleration\": 14.5, \"Cylinders\": 4, \"Displacement\": 120.0, \"Horsepower\": 88.0, \"Miles_per_Gallon\": 36.0, \"Name\": \"nissan stanza xe\", \"Origin\": \"Japan\", \"Weight_in_lbs\": 2160, \"Year\": \"1982-01-01\"}, {\"Acceleration\": 14.5, \"Cylinders\": 4, \"Displacement\": 107.0, \"Horsepower\": 75.0, \"Miles_per_Gallon\": 36.0, \"Name\": \"honda Accelerationord\", \"Origin\": \"Japan\", \"Weight_in_lbs\": 2205, \"Year\": \"1982-01-01\"}, {\"Acceleration\": 16.9, \"Cylinders\": 4, \"Displacement\": 108.0, \"Horsepower\": 70.0, \"Miles_per_Gallon\": 34.0, \"Name\": \"toyota corolla\", \"Origin\": \"Japan\", \"Weight_in_lbs\": 2245, \"Year\": \"1982-01-01\"}, {\"Acceleration\": 15.0, \"Cylinders\": 4, \"Displacement\": 91.0, \"Horsepower\": 67.0, \"Miles_per_Gallon\": 38.0, \"Name\": \"honda civic\", \"Origin\": \"Japan\", \"Weight_in_lbs\": 1965, \"Year\": \"1982-01-01\"}, {\"Acceleration\": 15.7, \"Cylinders\": 4, \"Displacement\": 91.0, \"Horsepower\": 67.0, \"Miles_per_Gallon\": 32.0, \"Name\": \"honda civic (auto)\", \"Origin\": \"Japan\", \"Weight_in_lbs\": 1965, \"Year\": \"1982-01-01\"}, {\"Acceleration\": 16.2, \"Cylinders\": 4, \"Displacement\": 91.0, \"Horsepower\": 67.0, \"Miles_per_Gallon\": 38.0, \"Name\": \"datsun 310 gx\", \"Origin\": \"Japan\", \"Weight_in_lbs\": 1995, \"Year\": \"1982-01-01\"}, {\"Acceleration\": 16.4, \"Cylinders\": 6, \"Displacement\": 181.0, \"Horsepower\": 110.0, \"Miles_per_Gallon\": 25.0, \"Name\": \"buick century limited\", \"Origin\": \"USA\", \"Weight_in_lbs\": 2945, \"Year\": \"1982-01-01\"}, {\"Acceleration\": 17.0, \"Cylinders\": 6, \"Displacement\": 262.0, \"Horsepower\": 85.0, \"Miles_per_Gallon\": 38.0, \"Name\": \"oldsmobile cutlass ciera (diesel)\", \"Origin\": \"USA\", \"Weight_in_lbs\": 3015, \"Year\": \"1982-01-01\"}, {\"Acceleration\": 14.5, \"Cylinders\": 4, \"Displacement\": 156.0, \"Horsepower\": 92.0, \"Miles_per_Gallon\": 26.0, \"Name\": \"chrysler lebaron medallion\", \"Origin\": \"USA\", \"Weight_in_lbs\": 2585, \"Year\": \"1982-01-01\"}, {\"Acceleration\": 14.7, \"Cylinders\": 6, \"Displacement\": 232.0, \"Horsepower\": 112.0, \"Miles_per_Gallon\": 22.0, \"Name\": \"ford granada l\", \"Origin\": \"USA\", \"Weight_in_lbs\": 2835, \"Year\": \"1982-01-01\"}, {\"Acceleration\": 13.9, \"Cylinders\": 4, \"Displacement\": 144.0, \"Horsepower\": 96.0, \"Miles_per_Gallon\": 32.0, \"Name\": \"toyota celica gt\", \"Origin\": \"Japan\", \"Weight_in_lbs\": 2665, \"Year\": \"1982-01-01\"}, {\"Acceleration\": 13.0, \"Cylinders\": 4, \"Displacement\": 135.0, \"Horsepower\": 84.0, \"Miles_per_Gallon\": 36.0, \"Name\": \"dodge charger 2.2\", \"Origin\": \"USA\", \"Weight_in_lbs\": 2370, \"Year\": \"1982-01-01\"}, {\"Acceleration\": 17.3, \"Cylinders\": 4, \"Displacement\": 151.0, \"Horsepower\": 90.0, \"Miles_per_Gallon\": 27.0, \"Name\": \"chevrolet camaro\", \"Origin\": \"USA\", \"Weight_in_lbs\": 2950, \"Year\": \"1982-01-01\"}, {\"Acceleration\": 15.6, \"Cylinders\": 4, \"Displacement\": 140.0, \"Horsepower\": 86.0, \"Miles_per_Gallon\": 27.0, \"Name\": \"ford mustang gl\", \"Origin\": \"USA\", \"Weight_in_lbs\": 2790, \"Year\": \"1982-01-01\"}, {\"Acceleration\": 24.6, \"Cylinders\": 4, \"Displacement\": 97.0, \"Horsepower\": 52.0, \"Miles_per_Gallon\": 44.0, \"Name\": \"vw pickup\", \"Origin\": \"Europe\", \"Weight_in_lbs\": 2130, \"Year\": \"1982-01-01\"}, {\"Acceleration\": 11.6, \"Cylinders\": 4, \"Displacement\": 135.0, \"Horsepower\": 84.0, \"Miles_per_Gallon\": 32.0, \"Name\": \"dodge rampage\", \"Origin\": \"USA\", \"Weight_in_lbs\": 2295, \"Year\": \"1982-01-01\"}, {\"Acceleration\": 18.6, \"Cylinders\": 4, \"Displacement\": 120.0, \"Horsepower\": 79.0, \"Miles_per_Gallon\": 28.0, \"Name\": \"ford ranger\", \"Origin\": \"USA\", \"Weight_in_lbs\": 2625, \"Year\": \"1982-01-01\"}, {\"Acceleration\": 19.4, \"Cylinders\": 4, \"Displacement\": 119.0, \"Horsepower\": 82.0, \"Miles_per_Gallon\": 31.0, \"Name\": \"chevy s-10\", \"Origin\": \"USA\", \"Weight_in_lbs\": 2720, \"Year\": \"1982-01-01\"}]}, \"mark\": \"circle\", \"encoding\": {\"x\": {\"type\": \"quantitative\", \"field\": \"Horsepower\"}, \"y\": {\"type\": \"quantitative\", \"field\": \"Miles_per_Gallon\"}}, \"$schema\": \"https://vega.github.io/schema/vega-lite/v2.4.3.json\"};\n",
              "    var embed_opt = {\"mode\": \"vega-lite\"};\n",
              "\n",
              "    function showError(el, error){\n",
              "        el.innerHTML = ('<div class=\"error\">'\n",
              "                        + '<p>JavaScript Error: ' + error.message + '</p>'\n",
              "                        + \"<p>This usually means there's a typo in your chart specification. \"\n",
              "                        + \"See the javascript console for the full traceback.</p>\"\n",
              "                        + '</div>');\n",
              "        throw error;\n",
              "    }\n",
              "    const el = document.getElementById('vis');\n",
              "    vegaEmbed(\"#vis\", spec, embed_opt)\n",
              "      .catch(error => showError(el, error));\n",
              "  </script>\n",
              "</body>\n",
              "</html>\n"
            ]
          },
          "metadata": {
            "tags": []
          },
          "execution_count": 15
        }
      ]
    },
    {
      "cell_type": "markdown",
      "metadata": {
        "id": "HLfifzcLrOKd",
        "colab_type": "text"
      },
      "source": [
        "##### Descripción del ejemplo\n",
        "Al igual que el gráfico de línea, solo es necesario cambiar el tipo de marca y asegurar que los ejes posean columnas con variables adecuadas para este gráfico. \n",
        "\n",
        "- **Línea 6**\n",
        "\n",
        "```python\n",
        "alt.Chart(source).mark_circle().encode(\n",
        "```\n",
        "\n",
        "En esta línea, lo importante es el método `mark_circle` el cual indica que los datos deben ser representados mediante circulos."
      ]
    },
    {
      "cell_type": "markdown",
      "metadata": {
        "id": "KbEJFUFHrOKi",
        "colab_type": "text"
      },
      "source": [
        "#### Actividad 9: _scatter plot_\n",
        "Construya un scatterplot donde se muetren  los primeros 4000 jefes de hogares del _dataset_, cuyos ejes sean la edad  y el año de llegada. Agrege el método `interactive` al final para poder realizar _zoom_."
      ]
    },
    {
      "cell_type": "code",
      "metadata": {
        "id": "Qhf8TAuZrOKj",
        "colab_type": "code",
        "colab": {}
      },
      "source": [
        ""
      ],
      "execution_count": 0,
      "outputs": []
    },
    {
      "cell_type": "markdown",
      "metadata": {
        "id": "WyOgpQXMrOKo",
        "colab_type": "text"
      },
      "source": [
        "#### BubbleChart"
      ]
    },
    {
      "cell_type": "code",
      "metadata": {
        "id": "eUXX2xwbrOKq",
        "colab_type": "code",
        "outputId": "37672846-3fbc-4137-a51c-b60537b9775d",
        "colab": {
          "base_uri": "https://localhost:8080/",
          "height": 383
        }
      },
      "source": [
        "import altair as alt\n",
        "from vega_datasets import data\n",
        "\n",
        "source = data.cars()\n",
        "\n",
        "alt.Chart(source).mark_circle().encode(\n",
        "    x='Horsepower',\n",
        "    y='Acceleration',\n",
        "    size='Miles_per_Gallon',\n",
        "    color='Origin'\n",
        ").interactive()"
      ],
      "execution_count": 0,
      "outputs": [
        {
          "output_type": "execute_result",
          "data": {
            "text/plain": [
              "Chart({\n",
              "  data:      Acceleration  Cylinders  Displacement  Horsepower  Miles_per_Gallon  \\\n",
              "  0            12.0          8         307.0       130.0              18.0   \n",
              "  1            11.5          8         350.0       165.0              15.0   \n",
              "  2            11.0          8         318.0       150.0              18.0   \n",
              "  3            12.0          8         304.0       150.0              16.0   \n",
              "  4            10.5          8         302.0       140.0              17.0   \n",
              "  5            10.0          8         429.0       198.0              15.0   \n",
              "  6             9.0          8         454.0       220.0              14.0   \n",
              "  7             8.5          8         440.0       215.0              14.0   \n",
              "  8            10.0          8         455.0       225.0              14.0   \n",
              "  9             8.5          8         390.0       190.0              15.0   \n",
              "  10           17.5          4         133.0       115.0               NaN   \n",
              "  11           11.5          8         350.0       165.0               NaN   \n",
              "  12           11.0          8         351.0       153.0               NaN   \n",
              "  13           10.5          8         383.0       175.0               NaN   \n",
              "  14           11.0          8         360.0       175.0               NaN   \n",
              "  15           10.0          8         383.0       170.0              15.0   \n",
              "  16            8.0          8         340.0       160.0              14.0   \n",
              "  17            8.0          8         302.0       140.0               NaN   \n",
              "  18            9.5          8         400.0       150.0              15.0   \n",
              "  19           10.0          8         455.0       225.0              14.0   \n",
              "  20           15.0          4         113.0        95.0              24.0   \n",
              "  21           15.5          6         198.0        95.0              22.0   \n",
              "  22           15.5          6         199.0        97.0              18.0   \n",
              "  23           16.0          6         200.0        85.0              21.0   \n",
              "  24           14.5          4          97.0        88.0              27.0   \n",
              "  25           20.5          4          97.0        46.0              26.0   \n",
              "  26           17.5          4         110.0        87.0              25.0   \n",
              "  27           14.5          4         107.0        90.0              24.0   \n",
              "  28           17.5          4         104.0        95.0              25.0   \n",
              "  29           12.5          4         121.0       113.0              26.0   \n",
              "  ..            ...        ...           ...         ...               ...   \n",
              "  376          18.6          4         112.0        88.0              27.0   \n",
              "  377          18.0          4         112.0        88.0              34.0   \n",
              "  378          16.2          4         112.0        85.0              31.0   \n",
              "  379          16.0          4         135.0        84.0              29.0   \n",
              "  380          18.0          4         151.0        90.0              27.0   \n",
              "  381          16.4          4         140.0        92.0              24.0   \n",
              "  382          20.5          4         151.0         NaN              23.0   \n",
              "  383          15.3          4         105.0        74.0              36.0   \n",
              "  384          18.2          4          91.0        68.0              37.0   \n",
              "  385          17.6          4          91.0        68.0              31.0   \n",
              "  386          14.7          4         105.0        63.0              38.0   \n",
              "  387          17.3          4          98.0        70.0              36.0   \n",
              "  388          14.5          4         120.0        88.0              36.0   \n",
              "  389          14.5          4         107.0        75.0              36.0   \n",
              "  390          16.9          4         108.0        70.0              34.0   \n",
              "  391          15.0          4          91.0        67.0              38.0   \n",
              "  392          15.7          4          91.0        67.0              32.0   \n",
              "  393          16.2          4          91.0        67.0              38.0   \n",
              "  394          16.4          6         181.0       110.0              25.0   \n",
              "  395          17.0          6         262.0        85.0              38.0   \n",
              "  396          14.5          4         156.0        92.0              26.0   \n",
              "  397          14.7          6         232.0       112.0              22.0   \n",
              "  398          13.9          4         144.0        96.0              32.0   \n",
              "  399          13.0          4         135.0        84.0              36.0   \n",
              "  400          17.3          4         151.0        90.0              27.0   \n",
              "  401          15.6          4         140.0        86.0              27.0   \n",
              "  402          24.6          4          97.0        52.0              44.0   \n",
              "  403          11.6          4         135.0        84.0              32.0   \n",
              "  404          18.6          4         120.0        79.0              28.0   \n",
              "  405          19.4          4         119.0        82.0              31.0   \n",
              "  \n",
              "                                    Name  Origin  Weight_in_lbs       Year  \n",
              "  0            chevrolet chevelle malibu     USA           3504 1970-01-01  \n",
              "  1                    buick skylark 320     USA           3693 1970-01-01  \n",
              "  2                   plymouth satellite     USA           3436 1970-01-01  \n",
              "  3                        amc rebel sst     USA           3433 1970-01-01  \n",
              "  4                          ford torino     USA           3449 1970-01-01  \n",
              "  5                     ford galaxie 500     USA           4341 1970-01-01  \n",
              "  6                     chevrolet impala     USA           4354 1970-01-01  \n",
              "  7                    plymouth fury iii     USA           4312 1970-01-01  \n",
              "  8                     pontiac catalina     USA           4425 1970-01-01  \n",
              "  9                   amc ambassador dpl     USA           3850 1970-01-01  \n",
              "  10                citroen ds-21 pallas  Europe           3090 1970-01-01  \n",
              "  11    chevrolet chevelle concours (sw)     USA           4142 1970-01-01  \n",
              "  12                    ford torino (sw)     USA           4034 1970-01-01  \n",
              "  13             plymouth satellite (sw)     USA           4166 1970-01-01  \n",
              "  14                  amc rebel sst (sw)     USA           3850 1970-01-01  \n",
              "  15                 dodge challenger se     USA           3563 1970-01-01  \n",
              "  16                  plymouth 'cuda 340     USA           3609 1970-01-01  \n",
              "  17               ford mustang boss 302     USA           3353 1970-01-01  \n",
              "  18               chevrolet monte carlo     USA           3761 1970-01-01  \n",
              "  19             buick estate wagon (sw)     USA           3086 1970-01-01  \n",
              "  20               toyota corona mark ii   Japan           2372 1970-01-01  \n",
              "  21                     plymouth duster     USA           2833 1970-01-01  \n",
              "  22                          amc hornet     USA           2774 1970-01-01  \n",
              "  23                       ford maverick     USA           2587 1970-01-01  \n",
              "  24                        datsun pl510   Japan           2130 1970-01-01  \n",
              "  25        volkswagen 1131 deluxe sedan  Europe           1835 1970-01-01  \n",
              "  26                         peugeot 504  Europe           2672 1970-01-01  \n",
              "  27                         audi 100 ls  Europe           2430 1970-01-01  \n",
              "  28                            saab 99e  Europe           2375 1970-01-01  \n",
              "  29                            bmw 2002  Europe           2234 1970-01-01  \n",
              "  ..                                 ...     ...            ...        ...  \n",
              "  376           chevrolet cavalier wagon     USA           2640 1982-01-01  \n",
              "  377          chevrolet cavalier 2-door     USA           2395 1982-01-01  \n",
              "  378         pontiac j2000 se hatchback     USA           2575 1982-01-01  \n",
              "  379                     dodge aries se     USA           2525 1982-01-01  \n",
              "  380                    pontiac phoenix     USA           2735 1982-01-01  \n",
              "  381               ford fairmont futura     USA           2865 1982-01-01  \n",
              "  382                     amc concord dl     USA           3035 1982-01-01  \n",
              "  383                volkswagen rabbit l  Europe           1980 1982-01-01  \n",
              "  384                 mazda glc custom l   Japan           2025 1982-01-01  \n",
              "  385                   mazda glc custom   Japan           1970 1982-01-01  \n",
              "  386             plymouth horizon miser     USA           2125 1982-01-01  \n",
              "  387                     mercury lynx l     USA           2125 1982-01-01  \n",
              "  388                   nissan stanza xe   Japan           2160 1982-01-01  \n",
              "  389              honda Accelerationord   Japan           2205 1982-01-01  \n",
              "  390                     toyota corolla   Japan           2245 1982-01-01  \n",
              "  391                        honda civic   Japan           1965 1982-01-01  \n",
              "  392                 honda civic (auto)   Japan           1965 1982-01-01  \n",
              "  393                      datsun 310 gx   Japan           1995 1982-01-01  \n",
              "  394              buick century limited     USA           2945 1982-01-01  \n",
              "  395  oldsmobile cutlass ciera (diesel)     USA           3015 1982-01-01  \n",
              "  396         chrysler lebaron medallion     USA           2585 1982-01-01  \n",
              "  397                     ford granada l     USA           2835 1982-01-01  \n",
              "  398                   toyota celica gt   Japan           2665 1982-01-01  \n",
              "  399                  dodge charger 2.2     USA           2370 1982-01-01  \n",
              "  400                   chevrolet camaro     USA           2950 1982-01-01  \n",
              "  401                    ford mustang gl     USA           2790 1982-01-01  \n",
              "  402                          vw pickup  Europe           2130 1982-01-01  \n",
              "  403                      dodge rampage     USA           2295 1982-01-01  \n",
              "  404                        ford ranger     USA           2625 1982-01-01  \n",
              "  405                         chevy s-10     USA           2720 1982-01-01  \n",
              "  \n",
              "  [406 rows x 9 columns],\n",
              "  encoding: EncodingWithFacet({\n",
              "    color: Color({\n",
              "      shorthand: 'Origin'\n",
              "    }),\n",
              "    size: Size({\n",
              "      shorthand: 'Miles_per_Gallon'\n",
              "    }),\n",
              "    x: X({\n",
              "      shorthand: 'Horsepower'\n",
              "    }),\n",
              "    y: Y({\n",
              "      shorthand: 'Acceleration'\n",
              "    })\n",
              "  }),\n",
              "  mark: 'circle',\n",
              "  selection: SelectionMapping({\n",
              "    selector003: SelectionDef({\n",
              "      bind: 'scales',\n",
              "      encodings: ['x', 'y'],\n",
              "      type: 'interval'\n",
              "    })\n",
              "  })\n",
              "})"
            ],
            "text/html": [
              "\n",
              "<!DOCTYPE html>\n",
              "<html>\n",
              "<head>\n",
              "  <style>\n",
              "    .vega-actions a {\n",
              "        margin-right: 12px;\n",
              "        color: #757575;\n",
              "        font-weight: normal;\n",
              "        font-size: 13px;\n",
              "    }\n",
              "    .error {\n",
              "        color: red;\n",
              "    }\n",
              "  </style>\n",
              "\n",
              "<script src=\"https://cdn.jsdelivr.net/npm//vega@3.3.1\"></script>\n",
              "<script src=\"https://cdn.jsdelivr.net/npm//vega-lite@2.4.3\"></script>\n",
              "<script src=\"https://cdn.jsdelivr.net/npm//vega-embed@3.11\"></script>\n",
              "\n",
              "</head>\n",
              "<body>\n",
              "  <div id=\"vis\"></div>\n",
              "  <script type=\"text/javascript\">\n",
              "    var spec = {\"config\": {\"view\": {\"width\": 400, \"height\": 300}}, \"data\": {\"values\": [{\"Acceleration\": 12.0, \"Cylinders\": 8, \"Displacement\": 307.0, \"Horsepower\": 130.0, \"Miles_per_Gallon\": 18.0, \"Name\": \"chevrolet chevelle malibu\", \"Origin\": \"USA\", \"Weight_in_lbs\": 3504, \"Year\": \"1970-01-01\"}, {\"Acceleration\": 11.5, \"Cylinders\": 8, \"Displacement\": 350.0, \"Horsepower\": 165.0, \"Miles_per_Gallon\": 15.0, \"Name\": \"buick skylark 320\", \"Origin\": \"USA\", \"Weight_in_lbs\": 3693, \"Year\": \"1970-01-01\"}, {\"Acceleration\": 11.0, \"Cylinders\": 8, \"Displacement\": 318.0, \"Horsepower\": 150.0, \"Miles_per_Gallon\": 18.0, \"Name\": \"plymouth satellite\", \"Origin\": \"USA\", \"Weight_in_lbs\": 3436, \"Year\": \"1970-01-01\"}, {\"Acceleration\": 12.0, \"Cylinders\": 8, \"Displacement\": 304.0, \"Horsepower\": 150.0, \"Miles_per_Gallon\": 16.0, \"Name\": \"amc rebel sst\", \"Origin\": \"USA\", \"Weight_in_lbs\": 3433, \"Year\": \"1970-01-01\"}, {\"Acceleration\": 10.5, \"Cylinders\": 8, \"Displacement\": 302.0, \"Horsepower\": 140.0, \"Miles_per_Gallon\": 17.0, \"Name\": \"ford torino\", \"Origin\": \"USA\", \"Weight_in_lbs\": 3449, \"Year\": \"1970-01-01\"}, {\"Acceleration\": 10.0, \"Cylinders\": 8, \"Displacement\": 429.0, \"Horsepower\": 198.0, \"Miles_per_Gallon\": 15.0, \"Name\": \"ford galaxie 500\", \"Origin\": \"USA\", \"Weight_in_lbs\": 4341, \"Year\": \"1970-01-01\"}, {\"Acceleration\": 9.0, \"Cylinders\": 8, \"Displacement\": 454.0, \"Horsepower\": 220.0, \"Miles_per_Gallon\": 14.0, \"Name\": \"chevrolet impala\", \"Origin\": \"USA\", \"Weight_in_lbs\": 4354, \"Year\": \"1970-01-01\"}, {\"Acceleration\": 8.5, \"Cylinders\": 8, \"Displacement\": 440.0, \"Horsepower\": 215.0, \"Miles_per_Gallon\": 14.0, \"Name\": \"plymouth fury iii\", \"Origin\": \"USA\", \"Weight_in_lbs\": 4312, \"Year\": \"1970-01-01\"}, {\"Acceleration\": 10.0, \"Cylinders\": 8, \"Displacement\": 455.0, \"Horsepower\": 225.0, \"Miles_per_Gallon\": 14.0, \"Name\": \"pontiac catalina\", \"Origin\": \"USA\", \"Weight_in_lbs\": 4425, \"Year\": \"1970-01-01\"}, {\"Acceleration\": 8.5, \"Cylinders\": 8, \"Displacement\": 390.0, \"Horsepower\": 190.0, \"Miles_per_Gallon\": 15.0, \"Name\": \"amc ambassador dpl\", \"Origin\": \"USA\", \"Weight_in_lbs\": 3850, \"Year\": \"1970-01-01\"}, {\"Acceleration\": 17.5, \"Cylinders\": 4, \"Displacement\": 133.0, \"Horsepower\": 115.0, \"Miles_per_Gallon\": null, \"Name\": \"citroen ds-21 pallas\", \"Origin\": \"Europe\", \"Weight_in_lbs\": 3090, \"Year\": \"1970-01-01\"}, {\"Acceleration\": 11.5, \"Cylinders\": 8, \"Displacement\": 350.0, \"Horsepower\": 165.0, \"Miles_per_Gallon\": null, \"Name\": \"chevrolet chevelle concours (sw)\", \"Origin\": \"USA\", \"Weight_in_lbs\": 4142, \"Year\": \"1970-01-01\"}, {\"Acceleration\": 11.0, \"Cylinders\": 8, \"Displacement\": 351.0, \"Horsepower\": 153.0, \"Miles_per_Gallon\": null, \"Name\": \"ford torino (sw)\", \"Origin\": \"USA\", \"Weight_in_lbs\": 4034, \"Year\": \"1970-01-01\"}, {\"Acceleration\": 10.5, \"Cylinders\": 8, \"Displacement\": 383.0, \"Horsepower\": 175.0, \"Miles_per_Gallon\": null, \"Name\": \"plymouth satellite (sw)\", \"Origin\": \"USA\", \"Weight_in_lbs\": 4166, \"Year\": \"1970-01-01\"}, {\"Acceleration\": 11.0, \"Cylinders\": 8, \"Displacement\": 360.0, \"Horsepower\": 175.0, \"Miles_per_Gallon\": null, \"Name\": \"amc rebel sst (sw)\", \"Origin\": \"USA\", \"Weight_in_lbs\": 3850, \"Year\": \"1970-01-01\"}, {\"Acceleration\": 10.0, \"Cylinders\": 8, \"Displacement\": 383.0, \"Horsepower\": 170.0, \"Miles_per_Gallon\": 15.0, \"Name\": \"dodge challenger se\", \"Origin\": \"USA\", \"Weight_in_lbs\": 3563, \"Year\": \"1970-01-01\"}, {\"Acceleration\": 8.0, \"Cylinders\": 8, \"Displacement\": 340.0, \"Horsepower\": 160.0, \"Miles_per_Gallon\": 14.0, \"Name\": \"plymouth 'cuda 340\", \"Origin\": \"USA\", \"Weight_in_lbs\": 3609, \"Year\": \"1970-01-01\"}, {\"Acceleration\": 8.0, \"Cylinders\": 8, \"Displacement\": 302.0, \"Horsepower\": 140.0, \"Miles_per_Gallon\": null, \"Name\": \"ford mustang boss 302\", \"Origin\": \"USA\", \"Weight_in_lbs\": 3353, \"Year\": \"1970-01-01\"}, {\"Acceleration\": 9.5, \"Cylinders\": 8, \"Displacement\": 400.0, \"Horsepower\": 150.0, \"Miles_per_Gallon\": 15.0, \"Name\": \"chevrolet monte carlo\", \"Origin\": \"USA\", \"Weight_in_lbs\": 3761, \"Year\": \"1970-01-01\"}, {\"Acceleration\": 10.0, \"Cylinders\": 8, \"Displacement\": 455.0, \"Horsepower\": 225.0, \"Miles_per_Gallon\": 14.0, \"Name\": \"buick estate wagon (sw)\", \"Origin\": \"USA\", \"Weight_in_lbs\": 3086, \"Year\": \"1970-01-01\"}, {\"Acceleration\": 15.0, \"Cylinders\": 4, \"Displacement\": 113.0, \"Horsepower\": 95.0, \"Miles_per_Gallon\": 24.0, \"Name\": \"toyota corona mark ii\", \"Origin\": \"Japan\", \"Weight_in_lbs\": 2372, \"Year\": \"1970-01-01\"}, {\"Acceleration\": 15.5, \"Cylinders\": 6, \"Displacement\": 198.0, \"Horsepower\": 95.0, \"Miles_per_Gallon\": 22.0, \"Name\": \"plymouth duster\", \"Origin\": \"USA\", \"Weight_in_lbs\": 2833, \"Year\": \"1970-01-01\"}, {\"Acceleration\": 15.5, \"Cylinders\": 6, \"Displacement\": 199.0, \"Horsepower\": 97.0, \"Miles_per_Gallon\": 18.0, \"Name\": \"amc hornet\", \"Origin\": \"USA\", \"Weight_in_lbs\": 2774, \"Year\": \"1970-01-01\"}, {\"Acceleration\": 16.0, \"Cylinders\": 6, \"Displacement\": 200.0, \"Horsepower\": 85.0, \"Miles_per_Gallon\": 21.0, \"Name\": \"ford maverick\", \"Origin\": \"USA\", \"Weight_in_lbs\": 2587, \"Year\": \"1970-01-01\"}, {\"Acceleration\": 14.5, \"Cylinders\": 4, \"Displacement\": 97.0, \"Horsepower\": 88.0, \"Miles_per_Gallon\": 27.0, \"Name\": \"datsun pl510\", \"Origin\": \"Japan\", \"Weight_in_lbs\": 2130, \"Year\": \"1970-01-01\"}, {\"Acceleration\": 20.5, \"Cylinders\": 4, \"Displacement\": 97.0, \"Horsepower\": 46.0, \"Miles_per_Gallon\": 26.0, \"Name\": \"volkswagen 1131 deluxe sedan\", \"Origin\": \"Europe\", \"Weight_in_lbs\": 1835, \"Year\": \"1970-01-01\"}, {\"Acceleration\": 17.5, \"Cylinders\": 4, \"Displacement\": 110.0, \"Horsepower\": 87.0, \"Miles_per_Gallon\": 25.0, \"Name\": \"peugeot 504\", \"Origin\": \"Europe\", \"Weight_in_lbs\": 2672, \"Year\": \"1970-01-01\"}, {\"Acceleration\": 14.5, \"Cylinders\": 4, \"Displacement\": 107.0, \"Horsepower\": 90.0, \"Miles_per_Gallon\": 24.0, \"Name\": \"audi 100 ls\", \"Origin\": \"Europe\", \"Weight_in_lbs\": 2430, \"Year\": \"1970-01-01\"}, {\"Acceleration\": 17.5, \"Cylinders\": 4, \"Displacement\": 104.0, \"Horsepower\": 95.0, \"Miles_per_Gallon\": 25.0, \"Name\": \"saab 99e\", \"Origin\": \"Europe\", \"Weight_in_lbs\": 2375, \"Year\": \"1970-01-01\"}, {\"Acceleration\": 12.5, \"Cylinders\": 4, \"Displacement\": 121.0, \"Horsepower\": 113.0, \"Miles_per_Gallon\": 26.0, \"Name\": \"bmw 2002\", \"Origin\": \"Europe\", \"Weight_in_lbs\": 2234, \"Year\": \"1970-01-01\"}, {\"Acceleration\": 15.0, \"Cylinders\": 6, \"Displacement\": 199.0, \"Horsepower\": 90.0, \"Miles_per_Gallon\": 21.0, \"Name\": \"amc gremlin\", \"Origin\": \"USA\", \"Weight_in_lbs\": 2648, \"Year\": \"1970-01-01\"}, {\"Acceleration\": 14.0, \"Cylinders\": 8, \"Displacement\": 360.0, \"Horsepower\": 215.0, \"Miles_per_Gallon\": 10.0, \"Name\": \"ford f250\", \"Origin\": \"USA\", \"Weight_in_lbs\": 4615, \"Year\": \"1970-01-01\"}, {\"Acceleration\": 15.0, \"Cylinders\": 8, \"Displacement\": 307.0, \"Horsepower\": 200.0, \"Miles_per_Gallon\": 10.0, \"Name\": \"chevy c20\", \"Origin\": \"USA\", \"Weight_in_lbs\": 4376, \"Year\": \"1970-01-01\"}, {\"Acceleration\": 13.5, \"Cylinders\": 8, \"Displacement\": 318.0, \"Horsepower\": 210.0, \"Miles_per_Gallon\": 11.0, \"Name\": \"dodge d200\", \"Origin\": \"USA\", \"Weight_in_lbs\": 4382, \"Year\": \"1970-01-01\"}, {\"Acceleration\": 18.5, \"Cylinders\": 8, \"Displacement\": 304.0, \"Horsepower\": 193.0, \"Miles_per_Gallon\": 9.0, \"Name\": \"hi 1200d\", \"Origin\": \"USA\", \"Weight_in_lbs\": 4732, \"Year\": \"1970-01-01\"}, {\"Acceleration\": 14.5, \"Cylinders\": 4, \"Displacement\": 97.0, \"Horsepower\": 88.0, \"Miles_per_Gallon\": 27.0, \"Name\": \"datsun pl510\", \"Origin\": \"Japan\", \"Weight_in_lbs\": 2130, \"Year\": \"1971-01-01\"}, {\"Acceleration\": 15.5, \"Cylinders\": 4, \"Displacement\": 140.0, \"Horsepower\": 90.0, \"Miles_per_Gallon\": 28.0, \"Name\": \"chevrolet vega 2300\", \"Origin\": \"USA\", \"Weight_in_lbs\": 2264, \"Year\": \"1971-01-01\"}, {\"Acceleration\": 14.0, \"Cylinders\": 4, \"Displacement\": 113.0, \"Horsepower\": 95.0, \"Miles_per_Gallon\": 25.0, \"Name\": \"toyota corona\", \"Origin\": \"Japan\", \"Weight_in_lbs\": 2228, \"Year\": \"1971-01-01\"}, {\"Acceleration\": 19.0, \"Cylinders\": 4, \"Displacement\": 98.0, \"Horsepower\": null, \"Miles_per_Gallon\": 25.0, \"Name\": \"ford pinto\", \"Origin\": \"USA\", \"Weight_in_lbs\": 2046, \"Year\": \"1971-01-01\"}, {\"Acceleration\": 20.0, \"Cylinders\": 4, \"Displacement\": 97.0, \"Horsepower\": 48.0, \"Miles_per_Gallon\": null, \"Name\": \"volkswagen super beetle 117\", \"Origin\": \"Europe\", \"Weight_in_lbs\": 1978, \"Year\": \"1971-01-01\"}, {\"Acceleration\": 13.0, \"Cylinders\": 6, \"Displacement\": 232.0, \"Horsepower\": 100.0, \"Miles_per_Gallon\": 19.0, \"Name\": \"amc gremlin\", \"Origin\": \"USA\", \"Weight_in_lbs\": 2634, \"Year\": \"1971-01-01\"}, {\"Acceleration\": 15.5, \"Cylinders\": 6, \"Displacement\": 225.0, \"Horsepower\": 105.0, \"Miles_per_Gallon\": 16.0, \"Name\": \"plymouth satellite custom\", \"Origin\": \"USA\", \"Weight_in_lbs\": 3439, \"Year\": \"1971-01-01\"}, {\"Acceleration\": 15.5, \"Cylinders\": 6, \"Displacement\": 250.0, \"Horsepower\": 100.0, \"Miles_per_Gallon\": 17.0, \"Name\": \"chevrolet chevelle malibu\", \"Origin\": \"USA\", \"Weight_in_lbs\": 3329, \"Year\": \"1971-01-01\"}, {\"Acceleration\": 15.5, \"Cylinders\": 6, \"Displacement\": 250.0, \"Horsepower\": 88.0, \"Miles_per_Gallon\": 19.0, \"Name\": \"ford torino 500\", \"Origin\": \"USA\", \"Weight_in_lbs\": 3302, \"Year\": \"1971-01-01\"}, {\"Acceleration\": 15.5, \"Cylinders\": 6, \"Displacement\": 232.0, \"Horsepower\": 100.0, \"Miles_per_Gallon\": 18.0, \"Name\": \"amc matador\", \"Origin\": \"USA\", \"Weight_in_lbs\": 3288, \"Year\": \"1971-01-01\"}, {\"Acceleration\": 12.0, \"Cylinders\": 8, \"Displacement\": 350.0, \"Horsepower\": 165.0, \"Miles_per_Gallon\": 14.0, \"Name\": \"chevrolet impala\", \"Origin\": \"USA\", \"Weight_in_lbs\": 4209, \"Year\": \"1971-01-01\"}, {\"Acceleration\": 11.5, \"Cylinders\": 8, \"Displacement\": 400.0, \"Horsepower\": 175.0, \"Miles_per_Gallon\": 14.0, \"Name\": \"pontiac catalina brougham\", \"Origin\": \"USA\", \"Weight_in_lbs\": 4464, \"Year\": \"1971-01-01\"}, {\"Acceleration\": 13.5, \"Cylinders\": 8, \"Displacement\": 351.0, \"Horsepower\": 153.0, \"Miles_per_Gallon\": 14.0, \"Name\": \"ford galaxie 500\", \"Origin\": \"USA\", \"Weight_in_lbs\": 4154, \"Year\": \"1971-01-01\"}, {\"Acceleration\": 13.0, \"Cylinders\": 8, \"Displacement\": 318.0, \"Horsepower\": 150.0, \"Miles_per_Gallon\": 14.0, \"Name\": \"plymouth fury iii\", \"Origin\": \"USA\", \"Weight_in_lbs\": 4096, \"Year\": \"1971-01-01\"}, {\"Acceleration\": 11.5, \"Cylinders\": 8, \"Displacement\": 383.0, \"Horsepower\": 180.0, \"Miles_per_Gallon\": 12.0, \"Name\": \"dodge monaco (sw)\", \"Origin\": \"USA\", \"Weight_in_lbs\": 4955, \"Year\": \"1971-01-01\"}, {\"Acceleration\": 12.0, \"Cylinders\": 8, \"Displacement\": 400.0, \"Horsepower\": 170.0, \"Miles_per_Gallon\": 13.0, \"Name\": \"ford country squire (sw)\", \"Origin\": \"USA\", \"Weight_in_lbs\": 4746, \"Year\": \"1971-01-01\"}, {\"Acceleration\": 12.0, \"Cylinders\": 8, \"Displacement\": 400.0, \"Horsepower\": 175.0, \"Miles_per_Gallon\": 13.0, \"Name\": \"pontiac safari (sw)\", \"Origin\": \"USA\", \"Weight_in_lbs\": 5140, \"Year\": \"1971-01-01\"}, {\"Acceleration\": 13.5, \"Cylinders\": 6, \"Displacement\": 258.0, \"Horsepower\": 110.0, \"Miles_per_Gallon\": 18.0, \"Name\": \"amc hornet sportabout (sw)\", \"Origin\": \"USA\", \"Weight_in_lbs\": 2962, \"Year\": \"1971-01-01\"}, {\"Acceleration\": 19.0, \"Cylinders\": 4, \"Displacement\": 140.0, \"Horsepower\": 72.0, \"Miles_per_Gallon\": 22.0, \"Name\": \"chevrolet vega (sw)\", \"Origin\": \"USA\", \"Weight_in_lbs\": 2408, \"Year\": \"1971-01-01\"}, {\"Acceleration\": 15.0, \"Cylinders\": 6, \"Displacement\": 250.0, \"Horsepower\": 100.0, \"Miles_per_Gallon\": 19.0, \"Name\": \"pontiac firebird\", \"Origin\": \"USA\", \"Weight_in_lbs\": 3282, \"Year\": \"1971-01-01\"}, {\"Acceleration\": 14.5, \"Cylinders\": 6, \"Displacement\": 250.0, \"Horsepower\": 88.0, \"Miles_per_Gallon\": 18.0, \"Name\": \"ford mustang\", \"Origin\": \"USA\", \"Weight_in_lbs\": 3139, \"Year\": \"1971-01-01\"}, {\"Acceleration\": 14.0, \"Cylinders\": 4, \"Displacement\": 122.0, \"Horsepower\": 86.0, \"Miles_per_Gallon\": 23.0, \"Name\": \"mercury capri 2000\", \"Origin\": \"USA\", \"Weight_in_lbs\": 2220, \"Year\": \"1971-01-01\"}, {\"Acceleration\": 14.0, \"Cylinders\": 4, \"Displacement\": 116.0, \"Horsepower\": 90.0, \"Miles_per_Gallon\": 28.0, \"Name\": \"opel 1900\", \"Origin\": \"Europe\", \"Weight_in_lbs\": 2123, \"Year\": \"1971-01-01\"}, {\"Acceleration\": 19.5, \"Cylinders\": 4, \"Displacement\": 79.0, \"Horsepower\": 70.0, \"Miles_per_Gallon\": 30.0, \"Name\": \"peugeot 304\", \"Origin\": \"Europe\", \"Weight_in_lbs\": 2074, \"Year\": \"1971-01-01\"}, {\"Acceleration\": 14.5, \"Cylinders\": 4, \"Displacement\": 88.0, \"Horsepower\": 76.0, \"Miles_per_Gallon\": 30.0, \"Name\": \"fiat 124b\", \"Origin\": \"Europe\", \"Weight_in_lbs\": 2065, \"Year\": \"1971-01-01\"}, {\"Acceleration\": 19.0, \"Cylinders\": 4, \"Displacement\": 71.0, \"Horsepower\": 65.0, \"Miles_per_Gallon\": 31.0, \"Name\": \"toyota corolla 1200\", \"Origin\": \"Japan\", \"Weight_in_lbs\": 1773, \"Year\": \"1971-01-01\"}, {\"Acceleration\": 18.0, \"Cylinders\": 4, \"Displacement\": 72.0, \"Horsepower\": 69.0, \"Miles_per_Gallon\": 35.0, \"Name\": \"datsun 1200\", \"Origin\": \"Japan\", \"Weight_in_lbs\": 1613, \"Year\": \"1971-01-01\"}, {\"Acceleration\": 19.0, \"Cylinders\": 4, \"Displacement\": 97.0, \"Horsepower\": 60.0, \"Miles_per_Gallon\": 27.0, \"Name\": \"volkswagen model 111\", \"Origin\": \"Europe\", \"Weight_in_lbs\": 1834, \"Year\": \"1971-01-01\"}, {\"Acceleration\": 20.5, \"Cylinders\": 4, \"Displacement\": 91.0, \"Horsepower\": 70.0, \"Miles_per_Gallon\": 26.0, \"Name\": \"plymouth cricket\", \"Origin\": \"USA\", \"Weight_in_lbs\": 1955, \"Year\": \"1971-01-01\"}, {\"Acceleration\": 15.5, \"Cylinders\": 4, \"Displacement\": 113.0, \"Horsepower\": 95.0, \"Miles_per_Gallon\": 24.0, \"Name\": \"toyota corona hardtop\", \"Origin\": \"Japan\", \"Weight_in_lbs\": 2278, \"Year\": \"1972-01-01\"}, {\"Acceleration\": 17.0, \"Cylinders\": 4, \"Displacement\": 97.5, \"Horsepower\": 80.0, \"Miles_per_Gallon\": 25.0, \"Name\": \"dodge colt hardtop\", \"Origin\": \"USA\", \"Weight_in_lbs\": 2126, \"Year\": \"1972-01-01\"}, {\"Acceleration\": 23.5, \"Cylinders\": 4, \"Displacement\": 97.0, \"Horsepower\": 54.0, \"Miles_per_Gallon\": 23.0, \"Name\": \"volkswagen type 3\", \"Origin\": \"Europe\", \"Weight_in_lbs\": 2254, \"Year\": \"1972-01-01\"}, {\"Acceleration\": 19.5, \"Cylinders\": 4, \"Displacement\": 140.0, \"Horsepower\": 90.0, \"Miles_per_Gallon\": 20.0, \"Name\": \"chevrolet vega\", \"Origin\": \"USA\", \"Weight_in_lbs\": 2408, \"Year\": \"1972-01-01\"}, {\"Acceleration\": 16.5, \"Cylinders\": 4, \"Displacement\": 122.0, \"Horsepower\": 86.0, \"Miles_per_Gallon\": 21.0, \"Name\": \"ford pinto runabout\", \"Origin\": \"USA\", \"Weight_in_lbs\": 2226, \"Year\": \"1972-01-01\"}, {\"Acceleration\": 12.0, \"Cylinders\": 8, \"Displacement\": 350.0, \"Horsepower\": 165.0, \"Miles_per_Gallon\": 13.0, \"Name\": \"chevrolet impala\", \"Origin\": \"USA\", \"Weight_in_lbs\": 4274, \"Year\": \"1972-01-01\"}, {\"Acceleration\": 12.0, \"Cylinders\": 8, \"Displacement\": 400.0, \"Horsepower\": 175.0, \"Miles_per_Gallon\": 14.0, \"Name\": \"pontiac catalina\", \"Origin\": \"USA\", \"Weight_in_lbs\": 4385, \"Year\": \"1972-01-01\"}, {\"Acceleration\": 13.5, \"Cylinders\": 8, \"Displacement\": 318.0, \"Horsepower\": 150.0, \"Miles_per_Gallon\": 15.0, \"Name\": \"plymouth fury iii\", \"Origin\": \"USA\", \"Weight_in_lbs\": 4135, \"Year\": \"1972-01-01\"}, {\"Acceleration\": 13.0, \"Cylinders\": 8, \"Displacement\": 351.0, \"Horsepower\": 153.0, \"Miles_per_Gallon\": 14.0, \"Name\": \"ford galaxie 500\", \"Origin\": \"USA\", \"Weight_in_lbs\": 4129, \"Year\": \"1972-01-01\"}, {\"Acceleration\": 11.5, \"Cylinders\": 8, \"Displacement\": 304.0, \"Horsepower\": 150.0, \"Miles_per_Gallon\": 17.0, \"Name\": \"amc ambassador sst\", \"Origin\": \"USA\", \"Weight_in_lbs\": 3672, \"Year\": \"1972-01-01\"}, {\"Acceleration\": 11.0, \"Cylinders\": 8, \"Displacement\": 429.0, \"Horsepower\": 208.0, \"Miles_per_Gallon\": 11.0, \"Name\": \"mercury marquis\", \"Origin\": \"USA\", \"Weight_in_lbs\": 4633, \"Year\": \"1972-01-01\"}, {\"Acceleration\": 13.5, \"Cylinders\": 8, \"Displacement\": 350.0, \"Horsepower\": 155.0, \"Miles_per_Gallon\": 13.0, \"Name\": \"buick lesabre custom\", \"Origin\": \"USA\", \"Weight_in_lbs\": 4502, \"Year\": \"1972-01-01\"}, {\"Acceleration\": 13.5, \"Cylinders\": 8, \"Displacement\": 350.0, \"Horsepower\": 160.0, \"Miles_per_Gallon\": 12.0, \"Name\": \"oldsmobile delta 88 royale\", \"Origin\": \"USA\", \"Weight_in_lbs\": 4456, \"Year\": \"1972-01-01\"}, {\"Acceleration\": 12.5, \"Cylinders\": 8, \"Displacement\": 400.0, \"Horsepower\": 190.0, \"Miles_per_Gallon\": 13.0, \"Name\": \"chrysler newport royal\", \"Origin\": \"USA\", \"Weight_in_lbs\": 4422, \"Year\": \"1972-01-01\"}, {\"Acceleration\": 13.5, \"Cylinders\": 3, \"Displacement\": 70.0, \"Horsepower\": 97.0, \"Miles_per_Gallon\": 19.0, \"Name\": \"mazda rx2 coupe\", \"Origin\": \"Japan\", \"Weight_in_lbs\": 2330, \"Year\": \"1972-01-01\"}, {\"Acceleration\": 12.5, \"Cylinders\": 8, \"Displacement\": 304.0, \"Horsepower\": 150.0, \"Miles_per_Gallon\": 15.0, \"Name\": \"amc matador (sw)\", \"Origin\": \"USA\", \"Weight_in_lbs\": 3892, \"Year\": \"1972-01-01\"}, {\"Acceleration\": 14.0, \"Cylinders\": 8, \"Displacement\": 307.0, \"Horsepower\": 130.0, \"Miles_per_Gallon\": 13.0, \"Name\": \"chevrolet chevelle concours (sw)\", \"Origin\": \"USA\", \"Weight_in_lbs\": 4098, \"Year\": \"1972-01-01\"}, {\"Acceleration\": 16.0, \"Cylinders\": 8, \"Displacement\": 302.0, \"Horsepower\": 140.0, \"Miles_per_Gallon\": 13.0, \"Name\": \"ford gran torino (sw)\", \"Origin\": \"USA\", \"Weight_in_lbs\": 4294, \"Year\": \"1972-01-01\"}, {\"Acceleration\": 14.0, \"Cylinders\": 8, \"Displacement\": 318.0, \"Horsepower\": 150.0, \"Miles_per_Gallon\": 14.0, \"Name\": \"plymouth satellite custom (sw)\", \"Origin\": \"USA\", \"Weight_in_lbs\": 4077, \"Year\": \"1972-01-01\"}, {\"Acceleration\": 14.5, \"Cylinders\": 4, \"Displacement\": 121.0, \"Horsepower\": 112.0, \"Miles_per_Gallon\": 18.0, \"Name\": \"volvo 145e (sw)\", \"Origin\": \"Europe\", \"Weight_in_lbs\": 2933, \"Year\": \"1972-01-01\"}, {\"Acceleration\": 18.0, \"Cylinders\": 4, \"Displacement\": 121.0, \"Horsepower\": 76.0, \"Miles_per_Gallon\": 22.0, \"Name\": \"volkswagen 411 (sw)\", \"Origin\": \"Europe\", \"Weight_in_lbs\": 2511, \"Year\": \"1972-01-01\"}, {\"Acceleration\": 19.5, \"Cylinders\": 4, \"Displacement\": 120.0, \"Horsepower\": 87.0, \"Miles_per_Gallon\": 21.0, \"Name\": \"peugeot 504 (sw)\", \"Origin\": \"Europe\", \"Weight_in_lbs\": 2979, \"Year\": \"1972-01-01\"}, {\"Acceleration\": 18.0, \"Cylinders\": 4, \"Displacement\": 96.0, \"Horsepower\": 69.0, \"Miles_per_Gallon\": 26.0, \"Name\": \"renault 12 (sw)\", \"Origin\": \"Europe\", \"Weight_in_lbs\": 2189, \"Year\": \"1972-01-01\"}, {\"Acceleration\": 16.0, \"Cylinders\": 4, \"Displacement\": 122.0, \"Horsepower\": 86.0, \"Miles_per_Gallon\": 22.0, \"Name\": \"ford pinto (sw)\", \"Origin\": \"USA\", \"Weight_in_lbs\": 2395, \"Year\": \"1972-01-01\"}, {\"Acceleration\": 17.0, \"Cylinders\": 4, \"Displacement\": 97.0, \"Horsepower\": 92.0, \"Miles_per_Gallon\": 28.0, \"Name\": \"datsun 510 (sw)\", \"Origin\": \"Japan\", \"Weight_in_lbs\": 2288, \"Year\": \"1972-01-01\"}, {\"Acceleration\": 14.5, \"Cylinders\": 4, \"Displacement\": 120.0, \"Horsepower\": 97.0, \"Miles_per_Gallon\": 23.0, \"Name\": \"toyouta corona mark ii (sw)\", \"Origin\": \"Japan\", \"Weight_in_lbs\": 2506, \"Year\": \"1972-01-01\"}, {\"Acceleration\": 15.0, \"Cylinders\": 4, \"Displacement\": 98.0, \"Horsepower\": 80.0, \"Miles_per_Gallon\": 28.0, \"Name\": \"dodge colt (sw)\", \"Origin\": \"USA\", \"Weight_in_lbs\": 2164, \"Year\": \"1972-01-01\"}, {\"Acceleration\": 16.5, \"Cylinders\": 4, \"Displacement\": 97.0, \"Horsepower\": 88.0, \"Miles_per_Gallon\": 27.0, \"Name\": \"toyota corolla 1600 (sw)\", \"Origin\": \"Japan\", \"Weight_in_lbs\": 2100, \"Year\": \"1972-01-01\"}, {\"Acceleration\": 13.0, \"Cylinders\": 8, \"Displacement\": 350.0, \"Horsepower\": 175.0, \"Miles_per_Gallon\": 13.0, \"Name\": \"buick century 350\", \"Origin\": \"USA\", \"Weight_in_lbs\": 4100, \"Year\": \"1973-01-01\"}, {\"Acceleration\": 11.5, \"Cylinders\": 8, \"Displacement\": 304.0, \"Horsepower\": 150.0, \"Miles_per_Gallon\": 14.0, \"Name\": \"amc matador\", \"Origin\": \"USA\", \"Weight_in_lbs\": 3672, \"Year\": \"1973-01-01\"}, {\"Acceleration\": 13.0, \"Cylinders\": 8, \"Displacement\": 350.0, \"Horsepower\": 145.0, \"Miles_per_Gallon\": 13.0, \"Name\": \"chevrolet malibu\", \"Origin\": \"USA\", \"Weight_in_lbs\": 3988, \"Year\": \"1973-01-01\"}, {\"Acceleration\": 14.5, \"Cylinders\": 8, \"Displacement\": 302.0, \"Horsepower\": 137.0, \"Miles_per_Gallon\": 14.0, \"Name\": \"ford gran torino\", \"Origin\": \"USA\", \"Weight_in_lbs\": 4042, \"Year\": \"1973-01-01\"}, {\"Acceleration\": 12.5, \"Cylinders\": 8, \"Displacement\": 318.0, \"Horsepower\": 150.0, \"Miles_per_Gallon\": 15.0, \"Name\": \"dodge coronet custom\", \"Origin\": \"USA\", \"Weight_in_lbs\": 3777, \"Year\": \"1973-01-01\"}, {\"Acceleration\": 11.5, \"Cylinders\": 8, \"Displacement\": 429.0, \"Horsepower\": 198.0, \"Miles_per_Gallon\": 12.0, \"Name\": \"mercury marquis brougham\", \"Origin\": \"USA\", \"Weight_in_lbs\": 4952, \"Year\": \"1973-01-01\"}, {\"Acceleration\": 12.0, \"Cylinders\": 8, \"Displacement\": 400.0, \"Horsepower\": 150.0, \"Miles_per_Gallon\": 13.0, \"Name\": \"chevrolet caprice classic\", \"Origin\": \"USA\", \"Weight_in_lbs\": 4464, \"Year\": \"1973-01-01\"}, {\"Acceleration\": 13.0, \"Cylinders\": 8, \"Displacement\": 351.0, \"Horsepower\": 158.0, \"Miles_per_Gallon\": 13.0, \"Name\": \"ford ltd\", \"Origin\": \"USA\", \"Weight_in_lbs\": 4363, \"Year\": \"1973-01-01\"}, {\"Acceleration\": 14.5, \"Cylinders\": 8, \"Displacement\": 318.0, \"Horsepower\": 150.0, \"Miles_per_Gallon\": 14.0, \"Name\": \"plymouth fury gran sedan\", \"Origin\": \"USA\", \"Weight_in_lbs\": 4237, \"Year\": \"1973-01-01\"}, {\"Acceleration\": 11.0, \"Cylinders\": 8, \"Displacement\": 440.0, \"Horsepower\": 215.0, \"Miles_per_Gallon\": 13.0, \"Name\": \"chrysler new yorker brougham\", \"Origin\": \"USA\", \"Weight_in_lbs\": 4735, \"Year\": \"1973-01-01\"}, {\"Acceleration\": 11.0, \"Cylinders\": 8, \"Displacement\": 455.0, \"Horsepower\": 225.0, \"Miles_per_Gallon\": 12.0, \"Name\": \"buick electra 225 custom\", \"Origin\": \"USA\", \"Weight_in_lbs\": 4951, \"Year\": \"1973-01-01\"}, {\"Acceleration\": 11.0, \"Cylinders\": 8, \"Displacement\": 360.0, \"Horsepower\": 175.0, \"Miles_per_Gallon\": 13.0, \"Name\": \"amc ambassador brougham\", \"Origin\": \"USA\", \"Weight_in_lbs\": 3821, \"Year\": \"1973-01-01\"}, {\"Acceleration\": 16.5, \"Cylinders\": 6, \"Displacement\": 225.0, \"Horsepower\": 105.0, \"Miles_per_Gallon\": 18.0, \"Name\": \"plymouth valiant\", \"Origin\": \"USA\", \"Weight_in_lbs\": 3121, \"Year\": \"1973-01-01\"}, {\"Acceleration\": 18.0, \"Cylinders\": 6, \"Displacement\": 250.0, \"Horsepower\": 100.0, \"Miles_per_Gallon\": 16.0, \"Name\": \"chevrolet nova custom\", \"Origin\": \"USA\", \"Weight_in_lbs\": 3278, \"Year\": \"1973-01-01\"}, {\"Acceleration\": 16.0, \"Cylinders\": 6, \"Displacement\": 232.0, \"Horsepower\": 100.0, \"Miles_per_Gallon\": 18.0, \"Name\": \"amc hornet\", \"Origin\": \"USA\", \"Weight_in_lbs\": 2945, \"Year\": \"1973-01-01\"}, {\"Acceleration\": 16.5, \"Cylinders\": 6, \"Displacement\": 250.0, \"Horsepower\": 88.0, \"Miles_per_Gallon\": 18.0, \"Name\": \"ford maverick\", \"Origin\": \"USA\", \"Weight_in_lbs\": 3021, \"Year\": \"1973-01-01\"}, {\"Acceleration\": 16.0, \"Cylinders\": 6, \"Displacement\": 198.0, \"Horsepower\": 95.0, \"Miles_per_Gallon\": 23.0, \"Name\": \"plymouth duster\", \"Origin\": \"USA\", \"Weight_in_lbs\": 2904, \"Year\": \"1973-01-01\"}, {\"Acceleration\": 21.0, \"Cylinders\": 4, \"Displacement\": 97.0, \"Horsepower\": 46.0, \"Miles_per_Gallon\": 26.0, \"Name\": \"volkswagen super beetle\", \"Origin\": \"Europe\", \"Weight_in_lbs\": 1950, \"Year\": \"1973-01-01\"}, {\"Acceleration\": 14.0, \"Cylinders\": 8, \"Displacement\": 400.0, \"Horsepower\": 150.0, \"Miles_per_Gallon\": 11.0, \"Name\": \"chevrolet impala\", \"Origin\": \"USA\", \"Weight_in_lbs\": 4997, \"Year\": \"1973-01-01\"}, {\"Acceleration\": 12.5, \"Cylinders\": 8, \"Displacement\": 400.0, \"Horsepower\": 167.0, \"Miles_per_Gallon\": 12.0, \"Name\": \"ford country\", \"Origin\": \"USA\", \"Weight_in_lbs\": 4906, \"Year\": \"1973-01-01\"}, {\"Acceleration\": 13.0, \"Cylinders\": 8, \"Displacement\": 360.0, \"Horsepower\": 170.0, \"Miles_per_Gallon\": 13.0, \"Name\": \"plymouth custom suburb\", \"Origin\": \"USA\", \"Weight_in_lbs\": 4654, \"Year\": \"1973-01-01\"}, {\"Acceleration\": 12.5, \"Cylinders\": 8, \"Displacement\": 350.0, \"Horsepower\": 180.0, \"Miles_per_Gallon\": 12.0, \"Name\": \"oldsmobile vista cruiser\", \"Origin\": \"USA\", \"Weight_in_lbs\": 4499, \"Year\": \"1973-01-01\"}, {\"Acceleration\": 15.0, \"Cylinders\": 6, \"Displacement\": 232.0, \"Horsepower\": 100.0, \"Miles_per_Gallon\": 18.0, \"Name\": \"amc gremlin\", \"Origin\": \"USA\", \"Weight_in_lbs\": 2789, \"Year\": \"1973-01-01\"}, {\"Acceleration\": 19.0, \"Cylinders\": 4, \"Displacement\": 97.0, \"Horsepower\": 88.0, \"Miles_per_Gallon\": 20.0, \"Name\": \"toyota carina\", \"Origin\": \"Japan\", \"Weight_in_lbs\": 2279, \"Year\": \"1973-01-01\"}, {\"Acceleration\": 19.5, \"Cylinders\": 4, \"Displacement\": 140.0, \"Horsepower\": 72.0, \"Miles_per_Gallon\": 21.0, \"Name\": \"chevrolet vega\", \"Origin\": \"USA\", \"Weight_in_lbs\": 2401, \"Year\": \"1973-01-01\"}, {\"Acceleration\": 16.5, \"Cylinders\": 4, \"Displacement\": 108.0, \"Horsepower\": 94.0, \"Miles_per_Gallon\": 22.0, \"Name\": \"datsun 610\", \"Origin\": \"Japan\", \"Weight_in_lbs\": 2379, \"Year\": \"1973-01-01\"}, {\"Acceleration\": 13.5, \"Cylinders\": 3, \"Displacement\": 70.0, \"Horsepower\": 90.0, \"Miles_per_Gallon\": 18.0, \"Name\": \"maxda rx3\", \"Origin\": \"Japan\", \"Weight_in_lbs\": 2124, \"Year\": \"1973-01-01\"}, {\"Acceleration\": 18.5, \"Cylinders\": 4, \"Displacement\": 122.0, \"Horsepower\": 85.0, \"Miles_per_Gallon\": 19.0, \"Name\": \"ford pinto\", \"Origin\": \"USA\", \"Weight_in_lbs\": 2310, \"Year\": \"1973-01-01\"}, {\"Acceleration\": 14.0, \"Cylinders\": 6, \"Displacement\": 155.0, \"Horsepower\": 107.0, \"Miles_per_Gallon\": 21.0, \"Name\": \"mercury capri v6\", \"Origin\": \"USA\", \"Weight_in_lbs\": 2472, \"Year\": \"1973-01-01\"}, {\"Acceleration\": 15.5, \"Cylinders\": 4, \"Displacement\": 98.0, \"Horsepower\": 90.0, \"Miles_per_Gallon\": 26.0, \"Name\": \"fiat 124 sport coupe\", \"Origin\": \"Europe\", \"Weight_in_lbs\": 2265, \"Year\": \"1973-01-01\"}, {\"Acceleration\": 13.0, \"Cylinders\": 8, \"Displacement\": 350.0, \"Horsepower\": 145.0, \"Miles_per_Gallon\": 15.0, \"Name\": \"chevrolet monte carlo s\", \"Origin\": \"USA\", \"Weight_in_lbs\": 4082, \"Year\": \"1973-01-01\"}, {\"Acceleration\": 9.5, \"Cylinders\": 8, \"Displacement\": 400.0, \"Horsepower\": 230.0, \"Miles_per_Gallon\": 16.0, \"Name\": \"pontiac grand prix\", \"Origin\": \"USA\", \"Weight_in_lbs\": 4278, \"Year\": \"1973-01-01\"}, {\"Acceleration\": 19.5, \"Cylinders\": 4, \"Displacement\": 68.0, \"Horsepower\": 49.0, \"Miles_per_Gallon\": 29.0, \"Name\": \"fiat 128\", \"Origin\": \"Europe\", \"Weight_in_lbs\": 1867, \"Year\": \"1973-01-01\"}, {\"Acceleration\": 15.5, \"Cylinders\": 4, \"Displacement\": 116.0, \"Horsepower\": 75.0, \"Miles_per_Gallon\": 24.0, \"Name\": \"opel manta\", \"Origin\": \"Europe\", \"Weight_in_lbs\": 2158, \"Year\": \"1973-01-01\"}, {\"Acceleration\": 14.0, \"Cylinders\": 4, \"Displacement\": 114.0, \"Horsepower\": 91.0, \"Miles_per_Gallon\": 20.0, \"Name\": \"audi 100ls\", \"Origin\": \"Europe\", \"Weight_in_lbs\": 2582, \"Year\": \"1973-01-01\"}, {\"Acceleration\": 15.5, \"Cylinders\": 4, \"Displacement\": 121.0, \"Horsepower\": 112.0, \"Miles_per_Gallon\": 19.0, \"Name\": \"volvo 144ea\", \"Origin\": \"Europe\", \"Weight_in_lbs\": 2868, \"Year\": \"1973-01-01\"}, {\"Acceleration\": 11.0, \"Cylinders\": 8, \"Displacement\": 318.0, \"Horsepower\": 150.0, \"Miles_per_Gallon\": 15.0, \"Name\": \"dodge dart custom\", \"Origin\": \"USA\", \"Weight_in_lbs\": 3399, \"Year\": \"1973-01-01\"}, {\"Acceleration\": 14.0, \"Cylinders\": 4, \"Displacement\": 121.0, \"Horsepower\": 110.0, \"Miles_per_Gallon\": 24.0, \"Name\": \"saab 99le\", \"Origin\": \"Europe\", \"Weight_in_lbs\": 2660, \"Year\": \"1973-01-01\"}, {\"Acceleration\": 13.5, \"Cylinders\": 6, \"Displacement\": 156.0, \"Horsepower\": 122.0, \"Miles_per_Gallon\": 20.0, \"Name\": \"toyota mark ii\", \"Origin\": \"Japan\", \"Weight_in_lbs\": 2807, \"Year\": \"1973-01-01\"}, {\"Acceleration\": 11.0, \"Cylinders\": 8, \"Displacement\": 350.0, \"Horsepower\": 180.0, \"Miles_per_Gallon\": 11.0, \"Name\": \"oldsmobile omega\", \"Origin\": \"USA\", \"Weight_in_lbs\": 3664, \"Year\": \"1973-01-01\"}, {\"Acceleration\": 16.5, \"Cylinders\": 6, \"Displacement\": 198.0, \"Horsepower\": 95.0, \"Miles_per_Gallon\": 20.0, \"Name\": \"plymouth duster\", \"Origin\": \"USA\", \"Weight_in_lbs\": 3102, \"Year\": \"1974-01-01\"}, {\"Acceleration\": 17.0, \"Cylinders\": 6, \"Displacement\": 200.0, \"Horsepower\": null, \"Miles_per_Gallon\": 21.0, \"Name\": \"ford maverick\", \"Origin\": \"USA\", \"Weight_in_lbs\": 2875, \"Year\": \"1974-01-01\"}, {\"Acceleration\": 16.0, \"Cylinders\": 6, \"Displacement\": 232.0, \"Horsepower\": 100.0, \"Miles_per_Gallon\": 19.0, \"Name\": \"amc hornet\", \"Origin\": \"USA\", \"Weight_in_lbs\": 2901, \"Year\": \"1974-01-01\"}, {\"Acceleration\": 17.0, \"Cylinders\": 6, \"Displacement\": 250.0, \"Horsepower\": 100.0, \"Miles_per_Gallon\": 15.0, \"Name\": \"chevrolet nova\", \"Origin\": \"USA\", \"Weight_in_lbs\": 3336, \"Year\": \"1974-01-01\"}, {\"Acceleration\": 19.0, \"Cylinders\": 4, \"Displacement\": 79.0, \"Horsepower\": 67.0, \"Miles_per_Gallon\": 31.0, \"Name\": \"datsun b210\", \"Origin\": \"Japan\", \"Weight_in_lbs\": 1950, \"Year\": \"1974-01-01\"}, {\"Acceleration\": 16.5, \"Cylinders\": 4, \"Displacement\": 122.0, \"Horsepower\": 80.0, \"Miles_per_Gallon\": 26.0, \"Name\": \"ford pinto\", \"Origin\": \"USA\", \"Weight_in_lbs\": 2451, \"Year\": \"1974-01-01\"}, {\"Acceleration\": 21.0, \"Cylinders\": 4, \"Displacement\": 71.0, \"Horsepower\": 65.0, \"Miles_per_Gallon\": 32.0, \"Name\": \"toyota corolla 1200\", \"Origin\": \"Japan\", \"Weight_in_lbs\": 1836, \"Year\": \"1974-01-01\"}, {\"Acceleration\": 17.0, \"Cylinders\": 4, \"Displacement\": 140.0, \"Horsepower\": 75.0, \"Miles_per_Gallon\": 25.0, \"Name\": \"chevrolet vega\", \"Origin\": \"USA\", \"Weight_in_lbs\": 2542, \"Year\": \"1974-01-01\"}, {\"Acceleration\": 17.0, \"Cylinders\": 6, \"Displacement\": 250.0, \"Horsepower\": 100.0, \"Miles_per_Gallon\": 16.0, \"Name\": \"chevrolet chevelle malibu classic\", \"Origin\": \"USA\", \"Weight_in_lbs\": 3781, \"Year\": \"1974-01-01\"}, {\"Acceleration\": 18.0, \"Cylinders\": 6, \"Displacement\": 258.0, \"Horsepower\": 110.0, \"Miles_per_Gallon\": 16.0, \"Name\": \"amc matador\", \"Origin\": \"USA\", \"Weight_in_lbs\": 3632, \"Year\": \"1974-01-01\"}, {\"Acceleration\": 16.5, \"Cylinders\": 6, \"Displacement\": 225.0, \"Horsepower\": 105.0, \"Miles_per_Gallon\": 18.0, \"Name\": \"plymouth satellite sebring\", \"Origin\": \"USA\", \"Weight_in_lbs\": 3613, \"Year\": \"1974-01-01\"}, {\"Acceleration\": 14.0, \"Cylinders\": 8, \"Displacement\": 302.0, \"Horsepower\": 140.0, \"Miles_per_Gallon\": 16.0, \"Name\": \"ford gran torino\", \"Origin\": \"USA\", \"Weight_in_lbs\": 4141, \"Year\": \"1974-01-01\"}, {\"Acceleration\": 14.5, \"Cylinders\": 8, \"Displacement\": 350.0, \"Horsepower\": 150.0, \"Miles_per_Gallon\": 13.0, \"Name\": \"buick century luxus (sw)\", \"Origin\": \"USA\", \"Weight_in_lbs\": 4699, \"Year\": \"1974-01-01\"}, {\"Acceleration\": 13.5, \"Cylinders\": 8, \"Displacement\": 318.0, \"Horsepower\": 150.0, \"Miles_per_Gallon\": 14.0, \"Name\": \"dodge coronet custom (sw)\", \"Origin\": \"USA\", \"Weight_in_lbs\": 4457, \"Year\": \"1974-01-01\"}, {\"Acceleration\": 16.0, \"Cylinders\": 8, \"Displacement\": 302.0, \"Horsepower\": 140.0, \"Miles_per_Gallon\": 14.0, \"Name\": \"ford gran torino (sw)\", \"Origin\": \"USA\", \"Weight_in_lbs\": 4638, \"Year\": \"1974-01-01\"}, {\"Acceleration\": 15.5, \"Cylinders\": 8, \"Displacement\": 304.0, \"Horsepower\": 150.0, \"Miles_per_Gallon\": 14.0, \"Name\": \"amc matador (sw)\", \"Origin\": \"USA\", \"Weight_in_lbs\": 4257, \"Year\": \"1974-01-01\"}, {\"Acceleration\": 16.5, \"Cylinders\": 4, \"Displacement\": 98.0, \"Horsepower\": 83.0, \"Miles_per_Gallon\": 29.0, \"Name\": \"audi fox\", \"Origin\": \"Europe\", \"Weight_in_lbs\": 2219, \"Year\": \"1974-01-01\"}, {\"Acceleration\": 15.5, \"Cylinders\": 4, \"Displacement\": 79.0, \"Horsepower\": 67.0, \"Miles_per_Gallon\": 26.0, \"Name\": \"volkswagen dasher\", \"Origin\": \"Europe\", \"Weight_in_lbs\": 1963, \"Year\": \"1974-01-01\"}, {\"Acceleration\": 14.5, \"Cylinders\": 4, \"Displacement\": 97.0, \"Horsepower\": 78.0, \"Miles_per_Gallon\": 26.0, \"Name\": \"opel manta\", \"Origin\": \"Europe\", \"Weight_in_lbs\": 2300, \"Year\": \"1974-01-01\"}, {\"Acceleration\": 16.5, \"Cylinders\": 4, \"Displacement\": 76.0, \"Horsepower\": 52.0, \"Miles_per_Gallon\": 31.0, \"Name\": \"toyota corona\", \"Origin\": \"Japan\", \"Weight_in_lbs\": 1649, \"Year\": \"1974-01-01\"}, {\"Acceleration\": 19.0, \"Cylinders\": 4, \"Displacement\": 83.0, \"Horsepower\": 61.0, \"Miles_per_Gallon\": 32.0, \"Name\": \"datsun 710\", \"Origin\": \"Japan\", \"Weight_in_lbs\": 2003, \"Year\": \"1974-01-01\"}, {\"Acceleration\": 14.5, \"Cylinders\": 4, \"Displacement\": 90.0, \"Horsepower\": 75.0, \"Miles_per_Gallon\": 28.0, \"Name\": \"dodge colt\", \"Origin\": \"USA\", \"Weight_in_lbs\": 2125, \"Year\": \"1974-01-01\"}, {\"Acceleration\": 15.5, \"Cylinders\": 4, \"Displacement\": 90.0, \"Horsepower\": 75.0, \"Miles_per_Gallon\": 24.0, \"Name\": \"fiat 128\", \"Origin\": \"Europe\", \"Weight_in_lbs\": 2108, \"Year\": \"1974-01-01\"}, {\"Acceleration\": 14.0, \"Cylinders\": 4, \"Displacement\": 116.0, \"Horsepower\": 75.0, \"Miles_per_Gallon\": 26.0, \"Name\": \"fiat 124 tc\", \"Origin\": \"Europe\", \"Weight_in_lbs\": 2246, \"Year\": \"1974-01-01\"}, {\"Acceleration\": 15.0, \"Cylinders\": 4, \"Displacement\": 120.0, \"Horsepower\": 97.0, \"Miles_per_Gallon\": 24.0, \"Name\": \"honda civic\", \"Origin\": \"Japan\", \"Weight_in_lbs\": 2489, \"Year\": \"1974-01-01\"}, {\"Acceleration\": 15.5, \"Cylinders\": 4, \"Displacement\": 108.0, \"Horsepower\": 93.0, \"Miles_per_Gallon\": 26.0, \"Name\": \"subaru\", \"Origin\": \"Japan\", \"Weight_in_lbs\": 2391, \"Year\": \"1974-01-01\"}, {\"Acceleration\": 16.0, \"Cylinders\": 4, \"Displacement\": 79.0, \"Horsepower\": 67.0, \"Miles_per_Gallon\": 31.0, \"Name\": \"fiat x1.9\", \"Origin\": \"Europe\", \"Weight_in_lbs\": 2000, \"Year\": \"1974-01-01\"}, {\"Acceleration\": 16.0, \"Cylinders\": 6, \"Displacement\": 225.0, \"Horsepower\": 95.0, \"Miles_per_Gallon\": 19.0, \"Name\": \"plymouth valiant custom\", \"Origin\": \"USA\", \"Weight_in_lbs\": 3264, \"Year\": \"1975-01-01\"}, {\"Acceleration\": 16.0, \"Cylinders\": 6, \"Displacement\": 250.0, \"Horsepower\": 105.0, \"Miles_per_Gallon\": 18.0, \"Name\": \"chevrolet nova\", \"Origin\": \"USA\", \"Weight_in_lbs\": 3459, \"Year\": \"1975-01-01\"}, {\"Acceleration\": 21.0, \"Cylinders\": 6, \"Displacement\": 250.0, \"Horsepower\": 72.0, \"Miles_per_Gallon\": 15.0, \"Name\": \"mercury monarch\", \"Origin\": \"USA\", \"Weight_in_lbs\": 3432, \"Year\": \"1975-01-01\"}, {\"Acceleration\": 19.5, \"Cylinders\": 6, \"Displacement\": 250.0, \"Horsepower\": 72.0, \"Miles_per_Gallon\": 15.0, \"Name\": \"ford maverick\", \"Origin\": \"USA\", \"Weight_in_lbs\": 3158, \"Year\": \"1975-01-01\"}, {\"Acceleration\": 11.5, \"Cylinders\": 8, \"Displacement\": 400.0, \"Horsepower\": 170.0, \"Miles_per_Gallon\": 16.0, \"Name\": \"pontiac catalina\", \"Origin\": \"USA\", \"Weight_in_lbs\": 4668, \"Year\": \"1975-01-01\"}, {\"Acceleration\": 14.0, \"Cylinders\": 8, \"Displacement\": 350.0, \"Horsepower\": 145.0, \"Miles_per_Gallon\": 15.0, \"Name\": \"chevrolet bel air\", \"Origin\": \"USA\", \"Weight_in_lbs\": 4440, \"Year\": \"1975-01-01\"}, {\"Acceleration\": 14.5, \"Cylinders\": 8, \"Displacement\": 318.0, \"Horsepower\": 150.0, \"Miles_per_Gallon\": 16.0, \"Name\": \"plymouth grand fury\", \"Origin\": \"USA\", \"Weight_in_lbs\": 4498, \"Year\": \"1975-01-01\"}, {\"Acceleration\": 13.5, \"Cylinders\": 8, \"Displacement\": 351.0, \"Horsepower\": 148.0, \"Miles_per_Gallon\": 14.0, \"Name\": \"ford ltd\", \"Origin\": \"USA\", \"Weight_in_lbs\": 4657, \"Year\": \"1975-01-01\"}, {\"Acceleration\": 21.0, \"Cylinders\": 6, \"Displacement\": 231.0, \"Horsepower\": 110.0, \"Miles_per_Gallon\": 17.0, \"Name\": \"buick century\", \"Origin\": \"USA\", \"Weight_in_lbs\": 3907, \"Year\": \"1975-01-01\"}, {\"Acceleration\": 18.5, \"Cylinders\": 6, \"Displacement\": 250.0, \"Horsepower\": 105.0, \"Miles_per_Gallon\": 16.0, \"Name\": \"chevroelt chevelle malibu\", \"Origin\": \"USA\", \"Weight_in_lbs\": 3897, \"Year\": \"1975-01-01\"}, {\"Acceleration\": 19.0, \"Cylinders\": 6, \"Displacement\": 258.0, \"Horsepower\": 110.0, \"Miles_per_Gallon\": 15.0, \"Name\": \"amc matador\", \"Origin\": \"USA\", \"Weight_in_lbs\": 3730, \"Year\": \"1975-01-01\"}, {\"Acceleration\": 19.0, \"Cylinders\": 6, \"Displacement\": 225.0, \"Horsepower\": 95.0, \"Miles_per_Gallon\": 18.0, \"Name\": \"plymouth fury\", \"Origin\": \"USA\", \"Weight_in_lbs\": 3785, \"Year\": \"1975-01-01\"}, {\"Acceleration\": 15.0, \"Cylinders\": 6, \"Displacement\": 231.0, \"Horsepower\": 110.0, \"Miles_per_Gallon\": 21.0, \"Name\": \"buick skyhawk\", \"Origin\": \"USA\", \"Weight_in_lbs\": 3039, \"Year\": \"1975-01-01\"}, {\"Acceleration\": 13.5, \"Cylinders\": 8, \"Displacement\": 262.0, \"Horsepower\": 110.0, \"Miles_per_Gallon\": 20.0, \"Name\": \"chevrolet monza 2+2\", \"Origin\": \"USA\", \"Weight_in_lbs\": 3221, \"Year\": \"1975-01-01\"}, {\"Acceleration\": 12.0, \"Cylinders\": 8, \"Displacement\": 302.0, \"Horsepower\": 129.0, \"Miles_per_Gallon\": 13.0, \"Name\": \"ford mustang ii\", \"Origin\": \"USA\", \"Weight_in_lbs\": 3169, \"Year\": \"1975-01-01\"}, {\"Acceleration\": 16.0, \"Cylinders\": 4, \"Displacement\": 97.0, \"Horsepower\": 75.0, \"Miles_per_Gallon\": 29.0, \"Name\": \"toyota corolla\", \"Origin\": \"Japan\", \"Weight_in_lbs\": 2171, \"Year\": \"1975-01-01\"}, {\"Acceleration\": 17.0, \"Cylinders\": 4, \"Displacement\": 140.0, \"Horsepower\": 83.0, \"Miles_per_Gallon\": 23.0, \"Name\": \"ford pinto\", \"Origin\": \"USA\", \"Weight_in_lbs\": 2639, \"Year\": \"1975-01-01\"}, {\"Acceleration\": 16.0, \"Cylinders\": 6, \"Displacement\": 232.0, \"Horsepower\": 100.0, \"Miles_per_Gallon\": 20.0, \"Name\": \"amc gremlin\", \"Origin\": \"USA\", \"Weight_in_lbs\": 2914, \"Year\": \"1975-01-01\"}, {\"Acceleration\": 18.5, \"Cylinders\": 4, \"Displacement\": 140.0, \"Horsepower\": 78.0, \"Miles_per_Gallon\": 23.0, \"Name\": \"pontiac astro\", \"Origin\": \"USA\", \"Weight_in_lbs\": 2592, \"Year\": \"1975-01-01\"}, {\"Acceleration\": 13.5, \"Cylinders\": 4, \"Displacement\": 134.0, \"Horsepower\": 96.0, \"Miles_per_Gallon\": 24.0, \"Name\": \"toyota corona\", \"Origin\": \"Japan\", \"Weight_in_lbs\": 2702, \"Year\": \"1975-01-01\"}, {\"Acceleration\": 16.5, \"Cylinders\": 4, \"Displacement\": 90.0, \"Horsepower\": 71.0, \"Miles_per_Gallon\": 25.0, \"Name\": \"volkswagen dasher\", \"Origin\": \"Europe\", \"Weight_in_lbs\": 2223, \"Year\": \"1975-01-01\"}, {\"Acceleration\": 17.0, \"Cylinders\": 4, \"Displacement\": 119.0, \"Horsepower\": 97.0, \"Miles_per_Gallon\": 24.0, \"Name\": \"datsun 710\", \"Origin\": \"Japan\", \"Weight_in_lbs\": 2545, \"Year\": \"1975-01-01\"}, {\"Acceleration\": 14.5, \"Cylinders\": 6, \"Displacement\": 171.0, \"Horsepower\": 97.0, \"Miles_per_Gallon\": 18.0, \"Name\": \"ford pinto\", \"Origin\": \"USA\", \"Weight_in_lbs\": 2984, \"Year\": \"1975-01-01\"}, {\"Acceleration\": 14.0, \"Cylinders\": 4, \"Displacement\": 90.0, \"Horsepower\": 70.0, \"Miles_per_Gallon\": 29.0, \"Name\": \"volkswagen rabbit\", \"Origin\": \"Europe\", \"Weight_in_lbs\": 1937, \"Year\": \"1975-01-01\"}, {\"Acceleration\": 17.0, \"Cylinders\": 6, \"Displacement\": 232.0, \"Horsepower\": 90.0, \"Miles_per_Gallon\": 19.0, \"Name\": \"amc pacer\", \"Origin\": \"USA\", \"Weight_in_lbs\": 3211, \"Year\": \"1975-01-01\"}, {\"Acceleration\": 15.0, \"Cylinders\": 4, \"Displacement\": 115.0, \"Horsepower\": 95.0, \"Miles_per_Gallon\": 23.0, \"Name\": \"audi 100ls\", \"Origin\": \"Europe\", \"Weight_in_lbs\": 2694, \"Year\": \"1975-01-01\"}, {\"Acceleration\": 17.0, \"Cylinders\": 4, \"Displacement\": 120.0, \"Horsepower\": 88.0, \"Miles_per_Gallon\": 23.0, \"Name\": \"peugeot 504\", \"Origin\": \"Europe\", \"Weight_in_lbs\": 2957, \"Year\": \"1975-01-01\"}, {\"Acceleration\": 14.5, \"Cylinders\": 4, \"Displacement\": 121.0, \"Horsepower\": 98.0, \"Miles_per_Gallon\": 22.0, \"Name\": \"volvo 244dl\", \"Origin\": \"Europe\", \"Weight_in_lbs\": 2945, \"Year\": \"1975-01-01\"}, {\"Acceleration\": 13.5, \"Cylinders\": 4, \"Displacement\": 121.0, \"Horsepower\": 115.0, \"Miles_per_Gallon\": 25.0, \"Name\": \"saab 99le\", \"Origin\": \"Europe\", \"Weight_in_lbs\": 2671, \"Year\": \"1975-01-01\"}, {\"Acceleration\": 17.5, \"Cylinders\": 4, \"Displacement\": 91.0, \"Horsepower\": 53.0, \"Miles_per_Gallon\": 33.0, \"Name\": \"honda civic cvcc\", \"Origin\": \"Japan\", \"Weight_in_lbs\": 1795, \"Year\": \"1975-01-01\"}, {\"Acceleration\": 15.5, \"Cylinders\": 4, \"Displacement\": 107.0, \"Horsepower\": 86.0, \"Miles_per_Gallon\": 28.0, \"Name\": \"fiat 131\", \"Origin\": \"Europe\", \"Weight_in_lbs\": 2464, \"Year\": \"1976-01-01\"}, {\"Acceleration\": 16.9, \"Cylinders\": 4, \"Displacement\": 116.0, \"Horsepower\": 81.0, \"Miles_per_Gallon\": 25.0, \"Name\": \"opel 1900\", \"Origin\": \"Europe\", \"Weight_in_lbs\": 2220, \"Year\": \"1976-01-01\"}, {\"Acceleration\": 14.9, \"Cylinders\": 4, \"Displacement\": 140.0, \"Horsepower\": 92.0, \"Miles_per_Gallon\": 25.0, \"Name\": \"capri ii\", \"Origin\": \"USA\", \"Weight_in_lbs\": 2572, \"Year\": \"1976-01-01\"}, {\"Acceleration\": 17.7, \"Cylinders\": 4, \"Displacement\": 98.0, \"Horsepower\": 79.0, \"Miles_per_Gallon\": 26.0, \"Name\": \"dodge colt\", \"Origin\": \"USA\", \"Weight_in_lbs\": 2255, \"Year\": \"1976-01-01\"}, {\"Acceleration\": 15.3, \"Cylinders\": 4, \"Displacement\": 101.0, \"Horsepower\": 83.0, \"Miles_per_Gallon\": 27.0, \"Name\": \"renault 12tl\", \"Origin\": \"Europe\", \"Weight_in_lbs\": 2202, \"Year\": \"1976-01-01\"}, {\"Acceleration\": 13.0, \"Cylinders\": 8, \"Displacement\": 305.0, \"Horsepower\": 140.0, \"Miles_per_Gallon\": 17.5, \"Name\": \"chevrolet chevelle malibu classic\", \"Origin\": \"USA\", \"Weight_in_lbs\": 4215, \"Year\": \"1976-01-01\"}, {\"Acceleration\": 13.0, \"Cylinders\": 8, \"Displacement\": 318.0, \"Horsepower\": 150.0, \"Miles_per_Gallon\": 16.0, \"Name\": \"dodge coronet brougham\", \"Origin\": \"USA\", \"Weight_in_lbs\": 4190, \"Year\": \"1976-01-01\"}, {\"Acceleration\": 13.9, \"Cylinders\": 8, \"Displacement\": 304.0, \"Horsepower\": 120.0, \"Miles_per_Gallon\": 15.5, \"Name\": \"amc matador\", \"Origin\": \"USA\", \"Weight_in_lbs\": 3962, \"Year\": \"1976-01-01\"}, {\"Acceleration\": 12.8, \"Cylinders\": 8, \"Displacement\": 351.0, \"Horsepower\": 152.0, \"Miles_per_Gallon\": 14.5, \"Name\": \"ford gran torino\", \"Origin\": \"USA\", \"Weight_in_lbs\": 4215, \"Year\": \"1976-01-01\"}, {\"Acceleration\": 15.4, \"Cylinders\": 6, \"Displacement\": 225.0, \"Horsepower\": 100.0, \"Miles_per_Gallon\": 22.0, \"Name\": \"plymouth valiant\", \"Origin\": \"USA\", \"Weight_in_lbs\": 3233, \"Year\": \"1976-01-01\"}, {\"Acceleration\": 14.5, \"Cylinders\": 6, \"Displacement\": 250.0, \"Horsepower\": 105.0, \"Miles_per_Gallon\": 22.0, \"Name\": \"chevrolet nova\", \"Origin\": \"USA\", \"Weight_in_lbs\": 3353, \"Year\": \"1976-01-01\"}, {\"Acceleration\": 17.6, \"Cylinders\": 6, \"Displacement\": 200.0, \"Horsepower\": 81.0, \"Miles_per_Gallon\": 24.0, \"Name\": \"ford maverick\", \"Origin\": \"USA\", \"Weight_in_lbs\": 3012, \"Year\": \"1976-01-01\"}, {\"Acceleration\": 17.6, \"Cylinders\": 6, \"Displacement\": 232.0, \"Horsepower\": 90.0, \"Miles_per_Gallon\": 22.5, \"Name\": \"amc hornet\", \"Origin\": \"USA\", \"Weight_in_lbs\": 3085, \"Year\": \"1976-01-01\"}, {\"Acceleration\": 22.2, \"Cylinders\": 4, \"Displacement\": 85.0, \"Horsepower\": 52.0, \"Miles_per_Gallon\": 29.0, \"Name\": \"chevrolet chevette\", \"Origin\": \"USA\", \"Weight_in_lbs\": 2035, \"Year\": \"1976-01-01\"}, {\"Acceleration\": 22.1, \"Cylinders\": 4, \"Displacement\": 98.0, \"Horsepower\": 60.0, \"Miles_per_Gallon\": 24.5, \"Name\": \"chevrolet woody\", \"Origin\": \"USA\", \"Weight_in_lbs\": 2164, \"Year\": \"1976-01-01\"}, {\"Acceleration\": 14.2, \"Cylinders\": 4, \"Displacement\": 90.0, \"Horsepower\": 70.0, \"Miles_per_Gallon\": 29.0, \"Name\": \"vw rabbit\", \"Origin\": \"Europe\", \"Weight_in_lbs\": 1937, \"Year\": \"1976-01-01\"}, {\"Acceleration\": 17.4, \"Cylinders\": 4, \"Displacement\": 91.0, \"Horsepower\": 53.0, \"Miles_per_Gallon\": 33.0, \"Name\": \"honda civic\", \"Origin\": \"Japan\", \"Weight_in_lbs\": 1795, \"Year\": \"1976-01-01\"}, {\"Acceleration\": 17.7, \"Cylinders\": 6, \"Displacement\": 225.0, \"Horsepower\": 100.0, \"Miles_per_Gallon\": 20.0, \"Name\": \"dodge aspen se\", \"Origin\": \"USA\", \"Weight_in_lbs\": 3651, \"Year\": \"1976-01-01\"}, {\"Acceleration\": 21.0, \"Cylinders\": 6, \"Displacement\": 250.0, \"Horsepower\": 78.0, \"Miles_per_Gallon\": 18.0, \"Name\": \"ford granada ghia\", \"Origin\": \"USA\", \"Weight_in_lbs\": 3574, \"Year\": \"1976-01-01\"}, {\"Acceleration\": 16.2, \"Cylinders\": 6, \"Displacement\": 250.0, \"Horsepower\": 110.0, \"Miles_per_Gallon\": 18.5, \"Name\": \"pontiac ventura sj\", \"Origin\": \"USA\", \"Weight_in_lbs\": 3645, \"Year\": \"1976-01-01\"}, {\"Acceleration\": 17.8, \"Cylinders\": 6, \"Displacement\": 258.0, \"Horsepower\": 95.0, \"Miles_per_Gallon\": 17.5, \"Name\": \"amc pacer d/l\", \"Origin\": \"USA\", \"Weight_in_lbs\": 3193, \"Year\": \"1976-01-01\"}, {\"Acceleration\": 12.2, \"Cylinders\": 4, \"Displacement\": 97.0, \"Horsepower\": 71.0, \"Miles_per_Gallon\": 29.5, \"Name\": \"volkswagen rabbit\", \"Origin\": \"Europe\", \"Weight_in_lbs\": 1825, \"Year\": \"1976-01-01\"}, {\"Acceleration\": 17.0, \"Cylinders\": 4, \"Displacement\": 85.0, \"Horsepower\": 70.0, \"Miles_per_Gallon\": 32.0, \"Name\": \"datsun b-210\", \"Origin\": \"Japan\", \"Weight_in_lbs\": 1990, \"Year\": \"1976-01-01\"}, {\"Acceleration\": 16.4, \"Cylinders\": 4, \"Displacement\": 97.0, \"Horsepower\": 75.0, \"Miles_per_Gallon\": 28.0, \"Name\": \"toyota corolla\", \"Origin\": \"Japan\", \"Weight_in_lbs\": 2155, \"Year\": \"1976-01-01\"}, {\"Acceleration\": 13.6, \"Cylinders\": 4, \"Displacement\": 140.0, \"Horsepower\": 72.0, \"Miles_per_Gallon\": 26.5, \"Name\": \"ford pinto\", \"Origin\": \"USA\", \"Weight_in_lbs\": 2565, \"Year\": \"1976-01-01\"}, {\"Acceleration\": 15.7, \"Cylinders\": 4, \"Displacement\": 130.0, \"Horsepower\": 102.0, \"Miles_per_Gallon\": 20.0, \"Name\": \"volvo 245\", \"Origin\": \"Europe\", \"Weight_in_lbs\": 3150, \"Year\": \"1976-01-01\"}, {\"Acceleration\": 13.2, \"Cylinders\": 8, \"Displacement\": 318.0, \"Horsepower\": 150.0, \"Miles_per_Gallon\": 13.0, \"Name\": \"plymouth volare premier v8\", \"Origin\": \"USA\", \"Weight_in_lbs\": 3940, \"Year\": \"1976-01-01\"}, {\"Acceleration\": 21.9, \"Cylinders\": 4, \"Displacement\": 120.0, \"Horsepower\": 88.0, \"Miles_per_Gallon\": 19.0, \"Name\": \"peugeot 504\", \"Origin\": \"Europe\", \"Weight_in_lbs\": 3270, \"Year\": \"1976-01-01\"}, {\"Acceleration\": 15.5, \"Cylinders\": 6, \"Displacement\": 156.0, \"Horsepower\": 108.0, \"Miles_per_Gallon\": 19.0, \"Name\": \"toyota mark ii\", \"Origin\": \"Japan\", \"Weight_in_lbs\": 2930, \"Year\": \"1976-01-01\"}, {\"Acceleration\": 16.7, \"Cylinders\": 6, \"Displacement\": 168.0, \"Horsepower\": 120.0, \"Miles_per_Gallon\": 16.5, \"Name\": \"mercedes-benz 280s\", \"Origin\": \"Europe\", \"Weight_in_lbs\": 3820, \"Year\": \"1976-01-01\"}, {\"Acceleration\": 12.1, \"Cylinders\": 8, \"Displacement\": 350.0, \"Horsepower\": 180.0, \"Miles_per_Gallon\": 16.5, \"Name\": \"cadillac seville\", \"Origin\": \"USA\", \"Weight_in_lbs\": 4380, \"Year\": \"1976-01-01\"}, {\"Acceleration\": 12.0, \"Cylinders\": 8, \"Displacement\": 350.0, \"Horsepower\": 145.0, \"Miles_per_Gallon\": 13.0, \"Name\": \"chevy c10\", \"Origin\": \"USA\", \"Weight_in_lbs\": 4055, \"Year\": \"1976-01-01\"}, {\"Acceleration\": 15.0, \"Cylinders\": 8, \"Displacement\": 302.0, \"Horsepower\": 130.0, \"Miles_per_Gallon\": 13.0, \"Name\": \"ford f108\", \"Origin\": \"USA\", \"Weight_in_lbs\": 3870, \"Year\": \"1976-01-01\"}, {\"Acceleration\": 14.0, \"Cylinders\": 8, \"Displacement\": 318.0, \"Horsepower\": 150.0, \"Miles_per_Gallon\": 13.0, \"Name\": \"dodge d100\", \"Origin\": \"USA\", \"Weight_in_lbs\": 3755, \"Year\": \"1976-01-01\"}, {\"Acceleration\": 18.5, \"Cylinders\": 4, \"Displacement\": 98.0, \"Horsepower\": 68.0, \"Miles_per_Gallon\": 31.5, \"Name\": \"honda Accelerationord cvcc\", \"Origin\": \"Japan\", \"Weight_in_lbs\": 2045, \"Year\": \"1977-01-01\"}, {\"Acceleration\": 14.8, \"Cylinders\": 4, \"Displacement\": 111.0, \"Horsepower\": 80.0, \"Miles_per_Gallon\": 30.0, \"Name\": \"buick opel isuzu deluxe\", \"Origin\": \"USA\", \"Weight_in_lbs\": 2155, \"Year\": \"1977-01-01\"}, {\"Acceleration\": 18.6, \"Cylinders\": 4, \"Displacement\": 79.0, \"Horsepower\": 58.0, \"Miles_per_Gallon\": 36.0, \"Name\": \"renault 5 gtl\", \"Origin\": \"Europe\", \"Weight_in_lbs\": 1825, \"Year\": \"1977-01-01\"}, {\"Acceleration\": 15.5, \"Cylinders\": 4, \"Displacement\": 122.0, \"Horsepower\": 96.0, \"Miles_per_Gallon\": 25.5, \"Name\": \"plymouth arrow gs\", \"Origin\": \"USA\", \"Weight_in_lbs\": 2300, \"Year\": \"1977-01-01\"}, {\"Acceleration\": 16.8, \"Cylinders\": 4, \"Displacement\": 85.0, \"Horsepower\": 70.0, \"Miles_per_Gallon\": 33.5, \"Name\": \"datsun f-10 hatchback\", \"Origin\": \"Japan\", \"Weight_in_lbs\": 1945, \"Year\": \"1977-01-01\"}, {\"Acceleration\": 12.5, \"Cylinders\": 8, \"Displacement\": 305.0, \"Horsepower\": 145.0, \"Miles_per_Gallon\": 17.5, \"Name\": \"chevrolet caprice classic\", \"Origin\": \"USA\", \"Weight_in_lbs\": 3880, \"Year\": \"1977-01-01\"}, {\"Acceleration\": 19.0, \"Cylinders\": 8, \"Displacement\": 260.0, \"Horsepower\": 110.0, \"Miles_per_Gallon\": 17.0, \"Name\": \"oldsmobile cutlass supreme\", \"Origin\": \"USA\", \"Weight_in_lbs\": 4060, \"Year\": \"1977-01-01\"}, {\"Acceleration\": 13.7, \"Cylinders\": 8, \"Displacement\": 318.0, \"Horsepower\": 145.0, \"Miles_per_Gallon\": 15.5, \"Name\": \"dodge monaco brougham\", \"Origin\": \"USA\", \"Weight_in_lbs\": 4140, \"Year\": \"1977-01-01\"}, {\"Acceleration\": 14.9, \"Cylinders\": 8, \"Displacement\": 302.0, \"Horsepower\": 130.0, \"Miles_per_Gallon\": 15.0, \"Name\": \"mercury cougar brougham\", \"Origin\": \"USA\", \"Weight_in_lbs\": 4295, \"Year\": \"1977-01-01\"}, {\"Acceleration\": 16.4, \"Cylinders\": 6, \"Displacement\": 250.0, \"Horsepower\": 110.0, \"Miles_per_Gallon\": 17.5, \"Name\": \"chevrolet concours\", \"Origin\": \"USA\", \"Weight_in_lbs\": 3520, \"Year\": \"1977-01-01\"}, {\"Acceleration\": 16.9, \"Cylinders\": 6, \"Displacement\": 231.0, \"Horsepower\": 105.0, \"Miles_per_Gallon\": 20.5, \"Name\": \"buick skylark\", \"Origin\": \"USA\", \"Weight_in_lbs\": 3425, \"Year\": \"1977-01-01\"}, {\"Acceleration\": 17.7, \"Cylinders\": 6, \"Displacement\": 225.0, \"Horsepower\": 100.0, \"Miles_per_Gallon\": 19.0, \"Name\": \"plymouth volare custom\", \"Origin\": \"USA\", \"Weight_in_lbs\": 3630, \"Year\": \"1977-01-01\"}, {\"Acceleration\": 19.0, \"Cylinders\": 6, \"Displacement\": 250.0, \"Horsepower\": 98.0, \"Miles_per_Gallon\": 18.5, \"Name\": \"ford granada\", \"Origin\": \"USA\", \"Weight_in_lbs\": 3525, \"Year\": \"1977-01-01\"}, {\"Acceleration\": 11.1, \"Cylinders\": 8, \"Displacement\": 400.0, \"Horsepower\": 180.0, \"Miles_per_Gallon\": 16.0, \"Name\": \"pontiac grand prix lj\", \"Origin\": \"USA\", \"Weight_in_lbs\": 4220, \"Year\": \"1977-01-01\"}, {\"Acceleration\": 11.4, \"Cylinders\": 8, \"Displacement\": 350.0, \"Horsepower\": 170.0, \"Miles_per_Gallon\": 15.5, \"Name\": \"chevrolet monte carlo landau\", \"Origin\": \"USA\", \"Weight_in_lbs\": 4165, \"Year\": \"1977-01-01\"}, {\"Acceleration\": 12.2, \"Cylinders\": 8, \"Displacement\": 400.0, \"Horsepower\": 190.0, \"Miles_per_Gallon\": 15.5, \"Name\": \"chrysler cordoba\", \"Origin\": \"USA\", \"Weight_in_lbs\": 4325, \"Year\": \"1977-01-01\"}, {\"Acceleration\": 14.5, \"Cylinders\": 8, \"Displacement\": 351.0, \"Horsepower\": 149.0, \"Miles_per_Gallon\": 16.0, \"Name\": \"ford thunderbird\", \"Origin\": \"USA\", \"Weight_in_lbs\": 4335, \"Year\": \"1977-01-01\"}, {\"Acceleration\": 14.5, \"Cylinders\": 4, \"Displacement\": 97.0, \"Horsepower\": 78.0, \"Miles_per_Gallon\": 29.0, \"Name\": \"volkswagen rabbit custom\", \"Origin\": \"Europe\", \"Weight_in_lbs\": 1940, \"Year\": \"1977-01-01\"}, {\"Acceleration\": 16.0, \"Cylinders\": 4, \"Displacement\": 151.0, \"Horsepower\": 88.0, \"Miles_per_Gallon\": 24.5, \"Name\": \"pontiac sunbird coupe\", \"Origin\": \"USA\", \"Weight_in_lbs\": 2740, \"Year\": \"1977-01-01\"}, {\"Acceleration\": 18.2, \"Cylinders\": 4, \"Displacement\": 97.0, \"Horsepower\": 75.0, \"Miles_per_Gallon\": 26.0, \"Name\": \"toyota corolla liftback\", \"Origin\": \"Japan\", \"Weight_in_lbs\": 2265, \"Year\": \"1977-01-01\"}, {\"Acceleration\": 15.8, \"Cylinders\": 4, \"Displacement\": 140.0, \"Horsepower\": 89.0, \"Miles_per_Gallon\": 25.5, \"Name\": \"ford mustang ii 2+2\", \"Origin\": \"USA\", \"Weight_in_lbs\": 2755, \"Year\": \"1977-01-01\"}, {\"Acceleration\": 17.0, \"Cylinders\": 4, \"Displacement\": 98.0, \"Horsepower\": 63.0, \"Miles_per_Gallon\": 30.5, \"Name\": \"chevrolet chevette\", \"Origin\": \"USA\", \"Weight_in_lbs\": 2051, \"Year\": \"1977-01-01\"}, {\"Acceleration\": 15.9, \"Cylinders\": 4, \"Displacement\": 98.0, \"Horsepower\": 83.0, \"Miles_per_Gallon\": 33.5, \"Name\": \"dodge colt m/m\", \"Origin\": \"USA\", \"Weight_in_lbs\": 2075, \"Year\": \"1977-01-01\"}, {\"Acceleration\": 16.4, \"Cylinders\": 4, \"Displacement\": 97.0, \"Horsepower\": 67.0, \"Miles_per_Gallon\": 30.0, \"Name\": \"subaru dl\", \"Origin\": \"Japan\", \"Weight_in_lbs\": 1985, \"Year\": \"1977-01-01\"}, {\"Acceleration\": 14.1, \"Cylinders\": 4, \"Displacement\": 97.0, \"Horsepower\": 78.0, \"Miles_per_Gallon\": 30.5, \"Name\": \"volkswagen dasher\", \"Origin\": \"Europe\", \"Weight_in_lbs\": 2190, \"Year\": \"1977-01-01\"}, {\"Acceleration\": 14.5, \"Cylinders\": 6, \"Displacement\": 146.0, \"Horsepower\": 97.0, \"Miles_per_Gallon\": 22.0, \"Name\": \"datsun 810\", \"Origin\": \"Japan\", \"Weight_in_lbs\": 2815, \"Year\": \"1977-01-01\"}, {\"Acceleration\": 12.8, \"Cylinders\": 4, \"Displacement\": 121.0, \"Horsepower\": 110.0, \"Miles_per_Gallon\": 21.5, \"Name\": \"bmw 320i\", \"Origin\": \"Europe\", \"Weight_in_lbs\": 2600, \"Year\": \"1977-01-01\"}, {\"Acceleration\": 13.5, \"Cylinders\": 3, \"Displacement\": 80.0, \"Horsepower\": 110.0, \"Miles_per_Gallon\": 21.5, \"Name\": \"mazda rx-4\", \"Origin\": \"Japan\", \"Weight_in_lbs\": 2720, \"Year\": \"1977-01-01\"}, {\"Acceleration\": 21.5, \"Cylinders\": 4, \"Displacement\": 90.0, \"Horsepower\": 48.0, \"Miles_per_Gallon\": 43.1, \"Name\": \"volkswagen rabbit custom diesel\", \"Origin\": \"Europe\", \"Weight_in_lbs\": 1985, \"Year\": \"1978-01-01\"}, {\"Acceleration\": 14.4, \"Cylinders\": 4, \"Displacement\": 98.0, \"Horsepower\": 66.0, \"Miles_per_Gallon\": 36.1, \"Name\": \"ford fiesta\", \"Origin\": \"USA\", \"Weight_in_lbs\": 1800, \"Year\": \"1978-01-01\"}, {\"Acceleration\": 19.4, \"Cylinders\": 4, \"Displacement\": 78.0, \"Horsepower\": 52.0, \"Miles_per_Gallon\": 32.8, \"Name\": \"mazda glc deluxe\", \"Origin\": \"Japan\", \"Weight_in_lbs\": 1985, \"Year\": \"1978-01-01\"}, {\"Acceleration\": 18.6, \"Cylinders\": 4, \"Displacement\": 85.0, \"Horsepower\": 70.0, \"Miles_per_Gallon\": 39.4, \"Name\": \"datsun b210 gx\", \"Origin\": \"Japan\", \"Weight_in_lbs\": 2070, \"Year\": \"1978-01-01\"}, {\"Acceleration\": 16.4, \"Cylinders\": 4, \"Displacement\": 91.0, \"Horsepower\": 60.0, \"Miles_per_Gallon\": 36.1, \"Name\": \"honda civic cvcc\", \"Origin\": \"Japan\", \"Weight_in_lbs\": 1800, \"Year\": \"1978-01-01\"}, {\"Acceleration\": 15.5, \"Cylinders\": 8, \"Displacement\": 260.0, \"Horsepower\": 110.0, \"Miles_per_Gallon\": 19.9, \"Name\": \"oldsmobile cutlass salon brougham\", \"Origin\": \"USA\", \"Weight_in_lbs\": 3365, \"Year\": \"1978-01-01\"}, {\"Acceleration\": 13.2, \"Cylinders\": 8, \"Displacement\": 318.0, \"Horsepower\": 140.0, \"Miles_per_Gallon\": 19.4, \"Name\": \"dodge diplomat\", \"Origin\": \"USA\", \"Weight_in_lbs\": 3735, \"Year\": \"1978-01-01\"}, {\"Acceleration\": 12.8, \"Cylinders\": 8, \"Displacement\": 302.0, \"Horsepower\": 139.0, \"Miles_per_Gallon\": 20.2, \"Name\": \"mercury monarch ghia\", \"Origin\": \"USA\", \"Weight_in_lbs\": 3570, \"Year\": \"1978-01-01\"}, {\"Acceleration\": 19.2, \"Cylinders\": 6, \"Displacement\": 231.0, \"Horsepower\": 105.0, \"Miles_per_Gallon\": 19.2, \"Name\": \"pontiac phoenix lj\", \"Origin\": \"USA\", \"Weight_in_lbs\": 3535, \"Year\": \"1978-01-01\"}, {\"Acceleration\": 18.2, \"Cylinders\": 6, \"Displacement\": 200.0, \"Horsepower\": 95.0, \"Miles_per_Gallon\": 20.5, \"Name\": \"chevrolet malibu\", \"Origin\": \"USA\", \"Weight_in_lbs\": 3155, \"Year\": \"1978-01-01\"}, {\"Acceleration\": 15.8, \"Cylinders\": 6, \"Displacement\": 200.0, \"Horsepower\": 85.0, \"Miles_per_Gallon\": 20.2, \"Name\": \"ford fairmont (auto)\", \"Origin\": \"USA\", \"Weight_in_lbs\": 2965, \"Year\": \"1978-01-01\"}, {\"Acceleration\": 15.4, \"Cylinders\": 4, \"Displacement\": 140.0, \"Horsepower\": 88.0, \"Miles_per_Gallon\": 25.1, \"Name\": \"ford fairmont (man)\", \"Origin\": \"USA\", \"Weight_in_lbs\": 2720, \"Year\": \"1978-01-01\"}, {\"Acceleration\": 17.2, \"Cylinders\": 6, \"Displacement\": 225.0, \"Horsepower\": 100.0, \"Miles_per_Gallon\": 20.5, \"Name\": \"plymouth volare\", \"Origin\": \"USA\", \"Weight_in_lbs\": 3430, \"Year\": \"1978-01-01\"}, {\"Acceleration\": 17.2, \"Cylinders\": 6, \"Displacement\": 232.0, \"Horsepower\": 90.0, \"Miles_per_Gallon\": 19.4, \"Name\": \"amc concord\", \"Origin\": \"USA\", \"Weight_in_lbs\": 3210, \"Year\": \"1978-01-01\"}, {\"Acceleration\": 15.8, \"Cylinders\": 6, \"Displacement\": 231.0, \"Horsepower\": 105.0, \"Miles_per_Gallon\": 20.6, \"Name\": \"buick century special\", \"Origin\": \"USA\", \"Weight_in_lbs\": 3380, \"Year\": \"1978-01-01\"}, {\"Acceleration\": 16.7, \"Cylinders\": 6, \"Displacement\": 200.0, \"Horsepower\": 85.0, \"Miles_per_Gallon\": 20.8, \"Name\": \"mercury zephyr\", \"Origin\": \"USA\", \"Weight_in_lbs\": 3070, \"Year\": \"1978-01-01\"}, {\"Acceleration\": 18.7, \"Cylinders\": 6, \"Displacement\": 225.0, \"Horsepower\": 110.0, \"Miles_per_Gallon\": 18.6, \"Name\": \"dodge aspen\", \"Origin\": \"USA\", \"Weight_in_lbs\": 3620, \"Year\": \"1978-01-01\"}, {\"Acceleration\": 15.1, \"Cylinders\": 6, \"Displacement\": 258.0, \"Horsepower\": 120.0, \"Miles_per_Gallon\": 18.1, \"Name\": \"amc concord d/l\", \"Origin\": \"USA\", \"Weight_in_lbs\": 3410, \"Year\": \"1978-01-01\"}, {\"Acceleration\": 13.2, \"Cylinders\": 8, \"Displacement\": 305.0, \"Horsepower\": 145.0, \"Miles_per_Gallon\": 19.2, \"Name\": \"chevrolet monte carlo landau\", \"Origin\": \"USA\", \"Weight_in_lbs\": 3425, \"Year\": \"1978-01-01\"}, {\"Acceleration\": 13.4, \"Cylinders\": 6, \"Displacement\": 231.0, \"Horsepower\": 165.0, \"Miles_per_Gallon\": 17.7, \"Name\": \"buick regal sport coupe (turbo)\", \"Origin\": \"USA\", \"Weight_in_lbs\": 3445, \"Year\": \"1978-01-01\"}, {\"Acceleration\": 11.2, \"Cylinders\": 8, \"Displacement\": 302.0, \"Horsepower\": 139.0, \"Miles_per_Gallon\": 18.1, \"Name\": \"ford futura\", \"Origin\": \"USA\", \"Weight_in_lbs\": 3205, \"Year\": \"1978-01-01\"}, {\"Acceleration\": 13.7, \"Cylinders\": 8, \"Displacement\": 318.0, \"Horsepower\": 140.0, \"Miles_per_Gallon\": 17.5, \"Name\": \"dodge magnum xe\", \"Origin\": \"USA\", \"Weight_in_lbs\": 4080, \"Year\": \"1978-01-01\"}, {\"Acceleration\": 16.5, \"Cylinders\": 4, \"Displacement\": 98.0, \"Horsepower\": 68.0, \"Miles_per_Gallon\": 30.0, \"Name\": \"chevrolet chevette\", \"Origin\": \"USA\", \"Weight_in_lbs\": 2155, \"Year\": \"1978-01-01\"}, {\"Acceleration\": 14.2, \"Cylinders\": 4, \"Displacement\": 134.0, \"Horsepower\": 95.0, \"Miles_per_Gallon\": 27.5, \"Name\": \"toyota corona\", \"Origin\": \"Japan\", \"Weight_in_lbs\": 2560, \"Year\": \"1978-01-01\"}, {\"Acceleration\": 14.7, \"Cylinders\": 4, \"Displacement\": 119.0, \"Horsepower\": 97.0, \"Miles_per_Gallon\": 27.2, \"Name\": \"datsun 510\", \"Origin\": \"Japan\", \"Weight_in_lbs\": 2300, \"Year\": \"1978-01-01\"}, {\"Acceleration\": 14.5, \"Cylinders\": 4, \"Displacement\": 105.0, \"Horsepower\": 75.0, \"Miles_per_Gallon\": 30.9, \"Name\": \"dodge omni\", \"Origin\": \"USA\", \"Weight_in_lbs\": 2230, \"Year\": \"1978-01-01\"}, {\"Acceleration\": 14.8, \"Cylinders\": 4, \"Displacement\": 134.0, \"Horsepower\": 95.0, \"Miles_per_Gallon\": 21.1, \"Name\": \"toyota celica gt liftback\", \"Origin\": \"Japan\", \"Weight_in_lbs\": 2515, \"Year\": \"1978-01-01\"}, {\"Acceleration\": 16.7, \"Cylinders\": 4, \"Displacement\": 156.0, \"Horsepower\": 105.0, \"Miles_per_Gallon\": 23.2, \"Name\": \"plymouth sapporo\", \"Origin\": \"USA\", \"Weight_in_lbs\": 2745, \"Year\": \"1978-01-01\"}, {\"Acceleration\": 17.6, \"Cylinders\": 4, \"Displacement\": 151.0, \"Horsepower\": 85.0, \"Miles_per_Gallon\": 23.8, \"Name\": \"oldsmobile starfire sx\", \"Origin\": \"USA\", \"Weight_in_lbs\": 2855, \"Year\": \"1978-01-01\"}, {\"Acceleration\": 14.9, \"Cylinders\": 4, \"Displacement\": 119.0, \"Horsepower\": 97.0, \"Miles_per_Gallon\": 23.9, \"Name\": \"datsun 200-sx\", \"Origin\": \"Japan\", \"Weight_in_lbs\": 2405, \"Year\": \"1978-01-01\"}, {\"Acceleration\": 15.9, \"Cylinders\": 5, \"Displacement\": 131.0, \"Horsepower\": 103.0, \"Miles_per_Gallon\": 20.3, \"Name\": \"audi 5000\", \"Origin\": \"Europe\", \"Weight_in_lbs\": 2830, \"Year\": \"1978-01-01\"}, {\"Acceleration\": 13.6, \"Cylinders\": 6, \"Displacement\": 163.0, \"Horsepower\": 125.0, \"Miles_per_Gallon\": 17.0, \"Name\": \"volvo 264gl\", \"Origin\": \"Europe\", \"Weight_in_lbs\": 3140, \"Year\": \"1978-01-01\"}, {\"Acceleration\": 15.7, \"Cylinders\": 4, \"Displacement\": 121.0, \"Horsepower\": 115.0, \"Miles_per_Gallon\": 21.6, \"Name\": \"saab 99gle\", \"Origin\": \"Europe\", \"Weight_in_lbs\": 2795, \"Year\": \"1978-01-01\"}, {\"Acceleration\": 15.8, \"Cylinders\": 6, \"Displacement\": 163.0, \"Horsepower\": 133.0, \"Miles_per_Gallon\": 16.2, \"Name\": \"peugeot 604sl\", \"Origin\": \"Europe\", \"Weight_in_lbs\": 3410, \"Year\": \"1978-01-01\"}, {\"Acceleration\": 14.9, \"Cylinders\": 4, \"Displacement\": 89.0, \"Horsepower\": 71.0, \"Miles_per_Gallon\": 31.5, \"Name\": \"volkswagen scirocco\", \"Origin\": \"Europe\", \"Weight_in_lbs\": 1990, \"Year\": \"1978-01-01\"}, {\"Acceleration\": 16.6, \"Cylinders\": 4, \"Displacement\": 98.0, \"Horsepower\": 68.0, \"Miles_per_Gallon\": 29.5, \"Name\": \"honda Accelerationord lx\", \"Origin\": \"Japan\", \"Weight_in_lbs\": 2135, \"Year\": \"1978-01-01\"}, {\"Acceleration\": 15.4, \"Cylinders\": 6, \"Displacement\": 231.0, \"Horsepower\": 115.0, \"Miles_per_Gallon\": 21.5, \"Name\": \"pontiac lemans v6\", \"Origin\": \"USA\", \"Weight_in_lbs\": 3245, \"Year\": \"1979-01-01\"}, {\"Acceleration\": 18.2, \"Cylinders\": 6, \"Displacement\": 200.0, \"Horsepower\": 85.0, \"Miles_per_Gallon\": 19.8, \"Name\": \"mercury zephyr 6\", \"Origin\": \"USA\", \"Weight_in_lbs\": 2990, \"Year\": \"1979-01-01\"}, {\"Acceleration\": 17.3, \"Cylinders\": 4, \"Displacement\": 140.0, \"Horsepower\": 88.0, \"Miles_per_Gallon\": 22.3, \"Name\": \"ford fairmont 4\", \"Origin\": \"USA\", \"Weight_in_lbs\": 2890, \"Year\": \"1979-01-01\"}, {\"Acceleration\": 18.2, \"Cylinders\": 6, \"Displacement\": 232.0, \"Horsepower\": 90.0, \"Miles_per_Gallon\": 20.2, \"Name\": \"amc concord dl 6\", \"Origin\": \"USA\", \"Weight_in_lbs\": 3265, \"Year\": \"1979-01-01\"}, {\"Acceleration\": 16.6, \"Cylinders\": 6, \"Displacement\": 225.0, \"Horsepower\": 110.0, \"Miles_per_Gallon\": 20.6, \"Name\": \"dodge aspen 6\", \"Origin\": \"USA\", \"Weight_in_lbs\": 3360, \"Year\": \"1979-01-01\"}, {\"Acceleration\": 15.4, \"Cylinders\": 8, \"Displacement\": 305.0, \"Horsepower\": 130.0, \"Miles_per_Gallon\": 17.0, \"Name\": \"chevrolet caprice classic\", \"Origin\": \"USA\", \"Weight_in_lbs\": 3840, \"Year\": \"1979-01-01\"}, {\"Acceleration\": 13.4, \"Cylinders\": 8, \"Displacement\": 302.0, \"Horsepower\": 129.0, \"Miles_per_Gallon\": 17.6, \"Name\": \"ford ltd landau\", \"Origin\": \"USA\", \"Weight_in_lbs\": 3725, \"Year\": \"1979-01-01\"}, {\"Acceleration\": 13.2, \"Cylinders\": 8, \"Displacement\": 351.0, \"Horsepower\": 138.0, \"Miles_per_Gallon\": 16.5, \"Name\": \"mercury grand marquis\", \"Origin\": \"USA\", \"Weight_in_lbs\": 3955, \"Year\": \"1979-01-01\"}, {\"Acceleration\": 15.2, \"Cylinders\": 8, \"Displacement\": 318.0, \"Horsepower\": 135.0, \"Miles_per_Gallon\": 18.2, \"Name\": \"dodge st. regis\", \"Origin\": \"USA\", \"Weight_in_lbs\": 3830, \"Year\": \"1979-01-01\"}, {\"Acceleration\": 14.9, \"Cylinders\": 8, \"Displacement\": 350.0, \"Horsepower\": 155.0, \"Miles_per_Gallon\": 16.9, \"Name\": \"buick estate wagon (sw)\", \"Origin\": \"USA\", \"Weight_in_lbs\": 4360, \"Year\": \"1979-01-01\"}, {\"Acceleration\": 14.3, \"Cylinders\": 8, \"Displacement\": 351.0, \"Horsepower\": 142.0, \"Miles_per_Gallon\": 15.5, \"Name\": \"ford country squire (sw)\", \"Origin\": \"USA\", \"Weight_in_lbs\": 4054, \"Year\": \"1979-01-01\"}, {\"Acceleration\": 15.0, \"Cylinders\": 8, \"Displacement\": 267.0, \"Horsepower\": 125.0, \"Miles_per_Gallon\": 19.2, \"Name\": \"chevrolet malibu classic (sw)\", \"Origin\": \"USA\", \"Weight_in_lbs\": 3605, \"Year\": \"1979-01-01\"}, {\"Acceleration\": 13.0, \"Cylinders\": 8, \"Displacement\": 360.0, \"Horsepower\": 150.0, \"Miles_per_Gallon\": 18.5, \"Name\": \"chrysler lebaron town @ country (sw)\", \"Origin\": \"USA\", \"Weight_in_lbs\": 3940, \"Year\": \"1979-01-01\"}, {\"Acceleration\": 14.0, \"Cylinders\": 4, \"Displacement\": 89.0, \"Horsepower\": 71.0, \"Miles_per_Gallon\": 31.9, \"Name\": \"vw rabbit custom\", \"Origin\": \"Europe\", \"Weight_in_lbs\": 1925, \"Year\": \"1979-01-01\"}, {\"Acceleration\": 15.2, \"Cylinders\": 4, \"Displacement\": 86.0, \"Horsepower\": 65.0, \"Miles_per_Gallon\": 34.1, \"Name\": \"maxda glc deluxe\", \"Origin\": \"Japan\", \"Weight_in_lbs\": 1975, \"Year\": \"1979-01-01\"}, {\"Acceleration\": 14.4, \"Cylinders\": 4, \"Displacement\": 98.0, \"Horsepower\": 80.0, \"Miles_per_Gallon\": 35.7, \"Name\": \"dodge colt hatchback custom\", \"Origin\": \"USA\", \"Weight_in_lbs\": 1915, \"Year\": \"1979-01-01\"}, {\"Acceleration\": 15.0, \"Cylinders\": 4, \"Displacement\": 121.0, \"Horsepower\": 80.0, \"Miles_per_Gallon\": 27.4, \"Name\": \"amc spirit dl\", \"Origin\": \"USA\", \"Weight_in_lbs\": 2670, \"Year\": \"1979-01-01\"}, {\"Acceleration\": 20.1, \"Cylinders\": 5, \"Displacement\": 183.0, \"Horsepower\": 77.0, \"Miles_per_Gallon\": 25.4, \"Name\": \"mercedes benz 300d\", \"Origin\": \"Europe\", \"Weight_in_lbs\": 3530, \"Year\": \"1979-01-01\"}, {\"Acceleration\": 17.4, \"Cylinders\": 8, \"Displacement\": 350.0, \"Horsepower\": 125.0, \"Miles_per_Gallon\": 23.0, \"Name\": \"cadillac eldorado\", \"Origin\": \"USA\", \"Weight_in_lbs\": 3900, \"Year\": \"1979-01-01\"}, {\"Acceleration\": 24.8, \"Cylinders\": 4, \"Displacement\": 141.0, \"Horsepower\": 71.0, \"Miles_per_Gallon\": 27.2, \"Name\": \"peugeot 504\", \"Origin\": \"Europe\", \"Weight_in_lbs\": 3190, \"Year\": \"1979-01-01\"}, {\"Acceleration\": 22.2, \"Cylinders\": 8, \"Displacement\": 260.0, \"Horsepower\": 90.0, \"Miles_per_Gallon\": 23.9, \"Name\": \"oldsmobile cutlass salon brougham\", \"Origin\": \"USA\", \"Weight_in_lbs\": 3420, \"Year\": \"1979-01-01\"}, {\"Acceleration\": 13.2, \"Cylinders\": 4, \"Displacement\": 105.0, \"Horsepower\": 70.0, \"Miles_per_Gallon\": 34.2, \"Name\": \"plymouth horizon\", \"Origin\": \"USA\", \"Weight_in_lbs\": 2200, \"Year\": \"1979-01-01\"}, {\"Acceleration\": 14.9, \"Cylinders\": 4, \"Displacement\": 105.0, \"Horsepower\": 70.0, \"Miles_per_Gallon\": 34.5, \"Name\": \"plymouth horizon tc3\", \"Origin\": \"USA\", \"Weight_in_lbs\": 2150, \"Year\": \"1979-01-01\"}, {\"Acceleration\": 19.2, \"Cylinders\": 4, \"Displacement\": 85.0, \"Horsepower\": 65.0, \"Miles_per_Gallon\": 31.8, \"Name\": \"datsun 210\", \"Origin\": \"Japan\", \"Weight_in_lbs\": 2020, \"Year\": \"1979-01-01\"}, {\"Acceleration\": 14.7, \"Cylinders\": 4, \"Displacement\": 91.0, \"Horsepower\": 69.0, \"Miles_per_Gallon\": 37.3, \"Name\": \"fiat strada custom\", \"Origin\": \"Europe\", \"Weight_in_lbs\": 2130, \"Year\": \"1979-01-01\"}, {\"Acceleration\": 16.0, \"Cylinders\": 4, \"Displacement\": 151.0, \"Horsepower\": 90.0, \"Miles_per_Gallon\": 28.4, \"Name\": \"buick skylark limited\", \"Origin\": \"USA\", \"Weight_in_lbs\": 2670, \"Year\": \"1979-01-01\"}, {\"Acceleration\": 11.3, \"Cylinders\": 6, \"Displacement\": 173.0, \"Horsepower\": 115.0, \"Miles_per_Gallon\": 28.8, \"Name\": \"chevrolet citation\", \"Origin\": \"USA\", \"Weight_in_lbs\": 2595, \"Year\": \"1979-01-01\"}, {\"Acceleration\": 12.9, \"Cylinders\": 6, \"Displacement\": 173.0, \"Horsepower\": 115.0, \"Miles_per_Gallon\": 26.8, \"Name\": \"oldsmobile omega brougham\", \"Origin\": \"USA\", \"Weight_in_lbs\": 2700, \"Year\": \"1979-01-01\"}, {\"Acceleration\": 13.2, \"Cylinders\": 4, \"Displacement\": 151.0, \"Horsepower\": 90.0, \"Miles_per_Gallon\": 33.5, \"Name\": \"pontiac phoenix\", \"Origin\": \"USA\", \"Weight_in_lbs\": 2556, \"Year\": \"1979-01-01\"}, {\"Acceleration\": 14.7, \"Cylinders\": 4, \"Displacement\": 98.0, \"Horsepower\": 76.0, \"Miles_per_Gallon\": 41.5, \"Name\": \"vw rabbit\", \"Origin\": \"Europe\", \"Weight_in_lbs\": 2144, \"Year\": \"1980-01-01\"}, {\"Acceleration\": 18.8, \"Cylinders\": 4, \"Displacement\": 89.0, \"Horsepower\": 60.0, \"Miles_per_Gallon\": 38.1, \"Name\": \"toyota corolla tercel\", \"Origin\": \"Japan\", \"Weight_in_lbs\": 1968, \"Year\": \"1980-01-01\"}, {\"Acceleration\": 15.5, \"Cylinders\": 4, \"Displacement\": 98.0, \"Horsepower\": 70.0, \"Miles_per_Gallon\": 32.1, \"Name\": \"chevrolet chevette\", \"Origin\": \"USA\", \"Weight_in_lbs\": 2120, \"Year\": \"1980-01-01\"}, {\"Acceleration\": 16.4, \"Cylinders\": 4, \"Displacement\": 86.0, \"Horsepower\": 65.0, \"Miles_per_Gallon\": 37.2, \"Name\": \"datsun 310\", \"Origin\": \"Japan\", \"Weight_in_lbs\": 2019, \"Year\": \"1980-01-01\"}, {\"Acceleration\": 16.5, \"Cylinders\": 4, \"Displacement\": 151.0, \"Horsepower\": 90.0, \"Miles_per_Gallon\": 28.0, \"Name\": \"chevrolet citation\", \"Origin\": \"USA\", \"Weight_in_lbs\": 2678, \"Year\": \"1980-01-01\"}, {\"Acceleration\": 18.1, \"Cylinders\": 4, \"Displacement\": 140.0, \"Horsepower\": 88.0, \"Miles_per_Gallon\": 26.4, \"Name\": \"ford fairmont\", \"Origin\": \"USA\", \"Weight_in_lbs\": 2870, \"Year\": \"1980-01-01\"}, {\"Acceleration\": 20.1, \"Cylinders\": 4, \"Displacement\": 151.0, \"Horsepower\": 90.0, \"Miles_per_Gallon\": 24.3, \"Name\": \"amc concord\", \"Origin\": \"USA\", \"Weight_in_lbs\": 3003, \"Year\": \"1980-01-01\"}, {\"Acceleration\": 18.7, \"Cylinders\": 6, \"Displacement\": 225.0, \"Horsepower\": 90.0, \"Miles_per_Gallon\": 19.1, \"Name\": \"dodge aspen\", \"Origin\": \"USA\", \"Weight_in_lbs\": 3381, \"Year\": \"1980-01-01\"}, {\"Acceleration\": 15.8, \"Cylinders\": 4, \"Displacement\": 97.0, \"Horsepower\": 78.0, \"Miles_per_Gallon\": 34.3, \"Name\": \"audi 4000\", \"Origin\": \"Europe\", \"Weight_in_lbs\": 2188, \"Year\": \"1980-01-01\"}, {\"Acceleration\": 15.5, \"Cylinders\": 4, \"Displacement\": 134.0, \"Horsepower\": 90.0, \"Miles_per_Gallon\": 29.8, \"Name\": \"toyota corona liftback\", \"Origin\": \"Japan\", \"Weight_in_lbs\": 2711, \"Year\": \"1980-01-01\"}, {\"Acceleration\": 17.5, \"Cylinders\": 4, \"Displacement\": 120.0, \"Horsepower\": 75.0, \"Miles_per_Gallon\": 31.3, \"Name\": \"mazda 626\", \"Origin\": \"Japan\", \"Weight_in_lbs\": 2542, \"Year\": \"1980-01-01\"}, {\"Acceleration\": 15.0, \"Cylinders\": 4, \"Displacement\": 119.0, \"Horsepower\": 92.0, \"Miles_per_Gallon\": 37.0, \"Name\": \"datsun 510 hatchback\", \"Origin\": \"Japan\", \"Weight_in_lbs\": 2434, \"Year\": \"1980-01-01\"}, {\"Acceleration\": 15.2, \"Cylinders\": 4, \"Displacement\": 108.0, \"Horsepower\": 75.0, \"Miles_per_Gallon\": 32.2, \"Name\": \"toyota corolla\", \"Origin\": \"Japan\", \"Weight_in_lbs\": 2265, \"Year\": \"1980-01-01\"}, {\"Acceleration\": 17.9, \"Cylinders\": 4, \"Displacement\": 86.0, \"Horsepower\": 65.0, \"Miles_per_Gallon\": 46.6, \"Name\": \"mazda glc\", \"Origin\": \"Japan\", \"Weight_in_lbs\": 2110, \"Year\": \"1980-01-01\"}, {\"Acceleration\": 14.4, \"Cylinders\": 4, \"Displacement\": 156.0, \"Horsepower\": 105.0, \"Miles_per_Gallon\": 27.9, \"Name\": \"dodge colt\", \"Origin\": \"USA\", \"Weight_in_lbs\": 2800, \"Year\": \"1980-01-01\"}, {\"Acceleration\": 19.2, \"Cylinders\": 4, \"Displacement\": 85.0, \"Horsepower\": 65.0, \"Miles_per_Gallon\": 40.8, \"Name\": \"datsun 210\", \"Origin\": \"Japan\", \"Weight_in_lbs\": 2110, \"Year\": \"1980-01-01\"}, {\"Acceleration\": 21.7, \"Cylinders\": 4, \"Displacement\": 90.0, \"Horsepower\": 48.0, \"Miles_per_Gallon\": 44.3, \"Name\": \"vw rabbit c (diesel)\", \"Origin\": \"Europe\", \"Weight_in_lbs\": 2085, \"Year\": \"1980-01-01\"}, {\"Acceleration\": 23.7, \"Cylinders\": 4, \"Displacement\": 90.0, \"Horsepower\": 48.0, \"Miles_per_Gallon\": 43.4, \"Name\": \"vw dasher (diesel)\", \"Origin\": \"Europe\", \"Weight_in_lbs\": 2335, \"Year\": \"1980-01-01\"}, {\"Acceleration\": 19.9, \"Cylinders\": 5, \"Displacement\": 121.0, \"Horsepower\": 67.0, \"Miles_per_Gallon\": 36.4, \"Name\": \"audi 5000s (diesel)\", \"Origin\": \"Europe\", \"Weight_in_lbs\": 2950, \"Year\": \"1980-01-01\"}, {\"Acceleration\": 21.8, \"Cylinders\": 4, \"Displacement\": 146.0, \"Horsepower\": 67.0, \"Miles_per_Gallon\": 30.0, \"Name\": \"mercedes-benz 240d\", \"Origin\": \"Europe\", \"Weight_in_lbs\": 3250, \"Year\": \"1980-01-01\"}, {\"Acceleration\": 13.8, \"Cylinders\": 4, \"Displacement\": 91.0, \"Horsepower\": 67.0, \"Miles_per_Gallon\": 44.6, \"Name\": \"honda civic 1500 gl\", \"Origin\": \"Japan\", \"Weight_in_lbs\": 1850, \"Year\": \"1980-01-01\"}, {\"Acceleration\": 17.3, \"Cylinders\": 4, \"Displacement\": 85.0, \"Horsepower\": null, \"Miles_per_Gallon\": 40.9, \"Name\": \"renault lecar deluxe\", \"Origin\": \"Europe\", \"Weight_in_lbs\": 1835, \"Year\": \"1980-01-01\"}, {\"Acceleration\": 18.0, \"Cylinders\": 4, \"Displacement\": 97.0, \"Horsepower\": 67.0, \"Miles_per_Gallon\": 33.8, \"Name\": \"subaru dl\", \"Origin\": \"Japan\", \"Weight_in_lbs\": 2145, \"Year\": \"1980-01-01\"}, {\"Acceleration\": 15.3, \"Cylinders\": 4, \"Displacement\": 89.0, \"Horsepower\": 62.0, \"Miles_per_Gallon\": 29.8, \"Name\": \"vokswagen rabbit\", \"Origin\": \"Europe\", \"Weight_in_lbs\": 1845, \"Year\": \"1980-01-01\"}, {\"Acceleration\": 11.4, \"Cylinders\": 6, \"Displacement\": 168.0, \"Horsepower\": 132.0, \"Miles_per_Gallon\": 32.7, \"Name\": \"datsun 280-zx\", \"Origin\": \"Japan\", \"Weight_in_lbs\": 2910, \"Year\": \"1980-01-01\"}, {\"Acceleration\": 12.5, \"Cylinders\": 3, \"Displacement\": 70.0, \"Horsepower\": 100.0, \"Miles_per_Gallon\": 23.7, \"Name\": \"mazda rx-7 gs\", \"Origin\": \"Japan\", \"Weight_in_lbs\": 2420, \"Year\": \"1980-01-01\"}, {\"Acceleration\": 15.1, \"Cylinders\": 4, \"Displacement\": 122.0, \"Horsepower\": 88.0, \"Miles_per_Gallon\": 35.0, \"Name\": \"triumph tr7 coupe\", \"Origin\": \"Europe\", \"Weight_in_lbs\": 2500, \"Year\": \"1980-01-01\"}, {\"Acceleration\": 14.3, \"Cylinders\": 4, \"Displacement\": 140.0, \"Horsepower\": null, \"Miles_per_Gallon\": 23.6, \"Name\": \"ford mustang cobra\", \"Origin\": \"USA\", \"Weight_in_lbs\": 2905, \"Year\": \"1980-01-01\"}, {\"Acceleration\": 17.0, \"Cylinders\": 4, \"Displacement\": 107.0, \"Horsepower\": 72.0, \"Miles_per_Gallon\": 32.4, \"Name\": \"honda Accelerationord\", \"Origin\": \"Japan\", \"Weight_in_lbs\": 2290, \"Year\": \"1980-01-01\"}, {\"Acceleration\": 15.7, \"Cylinders\": 4, \"Displacement\": 135.0, \"Horsepower\": 84.0, \"Miles_per_Gallon\": 27.2, \"Name\": \"plymouth reliant\", \"Origin\": \"USA\", \"Weight_in_lbs\": 2490, \"Year\": \"1982-01-01\"}, {\"Acceleration\": 16.4, \"Cylinders\": 4, \"Displacement\": 151.0, \"Horsepower\": 84.0, \"Miles_per_Gallon\": 26.6, \"Name\": \"buick skylark\", \"Origin\": \"USA\", \"Weight_in_lbs\": 2635, \"Year\": \"1982-01-01\"}, {\"Acceleration\": 14.4, \"Cylinders\": 4, \"Displacement\": 156.0, \"Horsepower\": 92.0, \"Miles_per_Gallon\": 25.8, \"Name\": \"dodge aries wagon (sw)\", \"Origin\": \"USA\", \"Weight_in_lbs\": 2620, \"Year\": \"1982-01-01\"}, {\"Acceleration\": 12.6, \"Cylinders\": 6, \"Displacement\": 173.0, \"Horsepower\": 110.0, \"Miles_per_Gallon\": 23.5, \"Name\": \"chevrolet citation\", \"Origin\": \"USA\", \"Weight_in_lbs\": 2725, \"Year\": \"1982-01-01\"}, {\"Acceleration\": 12.9, \"Cylinders\": 4, \"Displacement\": 135.0, \"Horsepower\": 84.0, \"Miles_per_Gallon\": 30.0, \"Name\": \"plymouth reliant\", \"Origin\": \"USA\", \"Weight_in_lbs\": 2385, \"Year\": \"1982-01-01\"}, {\"Acceleration\": 16.9, \"Cylinders\": 4, \"Displacement\": 79.0, \"Horsepower\": 58.0, \"Miles_per_Gallon\": 39.1, \"Name\": \"toyota starlet\", \"Origin\": \"Japan\", \"Weight_in_lbs\": 1755, \"Year\": \"1982-01-01\"}, {\"Acceleration\": 16.4, \"Cylinders\": 4, \"Displacement\": 86.0, \"Horsepower\": 64.0, \"Miles_per_Gallon\": 39.0, \"Name\": \"plymouth champ\", \"Origin\": \"USA\", \"Weight_in_lbs\": 1875, \"Year\": \"1982-01-01\"}, {\"Acceleration\": 16.1, \"Cylinders\": 4, \"Displacement\": 81.0, \"Horsepower\": 60.0, \"Miles_per_Gallon\": 35.1, \"Name\": \"honda civic 1300\", \"Origin\": \"Japan\", \"Weight_in_lbs\": 1760, \"Year\": \"1982-01-01\"}, {\"Acceleration\": 17.8, \"Cylinders\": 4, \"Displacement\": 97.0, \"Horsepower\": 67.0, \"Miles_per_Gallon\": 32.3, \"Name\": \"subaru\", \"Origin\": \"Japan\", \"Weight_in_lbs\": 2065, \"Year\": \"1982-01-01\"}, {\"Acceleration\": 19.4, \"Cylinders\": 4, \"Displacement\": 85.0, \"Horsepower\": 65.0, \"Miles_per_Gallon\": 37.0, \"Name\": \"datsun 210\", \"Origin\": \"Japan\", \"Weight_in_lbs\": 1975, \"Year\": \"1982-01-01\"}, {\"Acceleration\": 17.3, \"Cylinders\": 4, \"Displacement\": 89.0, \"Horsepower\": 62.0, \"Miles_per_Gallon\": 37.7, \"Name\": \"toyota tercel\", \"Origin\": \"Japan\", \"Weight_in_lbs\": 2050, \"Year\": \"1982-01-01\"}, {\"Acceleration\": 16.0, \"Cylinders\": 4, \"Displacement\": 91.0, \"Horsepower\": 68.0, \"Miles_per_Gallon\": 34.1, \"Name\": \"mazda glc 4\", \"Origin\": \"Japan\", \"Weight_in_lbs\": 1985, \"Year\": \"1982-01-01\"}, {\"Acceleration\": 14.9, \"Cylinders\": 4, \"Displacement\": 105.0, \"Horsepower\": 63.0, \"Miles_per_Gallon\": 34.7, \"Name\": \"plymouth horizon 4\", \"Origin\": \"USA\", \"Weight_in_lbs\": 2215, \"Year\": \"1982-01-01\"}, {\"Acceleration\": 16.2, \"Cylinders\": 4, \"Displacement\": 98.0, \"Horsepower\": 65.0, \"Miles_per_Gallon\": 34.4, \"Name\": \"ford escort 4w\", \"Origin\": \"USA\", \"Weight_in_lbs\": 2045, \"Year\": \"1982-01-01\"}, {\"Acceleration\": 20.7, \"Cylinders\": 4, \"Displacement\": 98.0, \"Horsepower\": 65.0, \"Miles_per_Gallon\": 29.9, \"Name\": \"ford escort 2h\", \"Origin\": \"USA\", \"Weight_in_lbs\": 2380, \"Year\": \"1982-01-01\"}, {\"Acceleration\": 14.2, \"Cylinders\": 4, \"Displacement\": 105.0, \"Horsepower\": 74.0, \"Miles_per_Gallon\": 33.0, \"Name\": \"volkswagen jetta\", \"Origin\": \"Europe\", \"Weight_in_lbs\": 2190, \"Year\": \"1982-01-01\"}, {\"Acceleration\": 15.8, \"Cylinders\": 4, \"Displacement\": 100.0, \"Horsepower\": null, \"Miles_per_Gallon\": 34.5, \"Name\": \"renault 18i\", \"Origin\": \"Europe\", \"Weight_in_lbs\": 2320, \"Year\": \"1982-01-01\"}, {\"Acceleration\": 14.4, \"Cylinders\": 4, \"Displacement\": 107.0, \"Horsepower\": 75.0, \"Miles_per_Gallon\": 33.7, \"Name\": \"honda prelude\", \"Origin\": \"Japan\", \"Weight_in_lbs\": 2210, \"Year\": \"1982-01-01\"}, {\"Acceleration\": 16.8, \"Cylinders\": 4, \"Displacement\": 108.0, \"Horsepower\": 75.0, \"Miles_per_Gallon\": 32.4, \"Name\": \"toyota corolla\", \"Origin\": \"Japan\", \"Weight_in_lbs\": 2350, \"Year\": \"1982-01-01\"}, {\"Acceleration\": 14.8, \"Cylinders\": 4, \"Displacement\": 119.0, \"Horsepower\": 100.0, \"Miles_per_Gallon\": 32.9, \"Name\": \"datsun 200sx\", \"Origin\": \"Japan\", \"Weight_in_lbs\": 2615, \"Year\": \"1982-01-01\"}, {\"Acceleration\": 18.3, \"Cylinders\": 4, \"Displacement\": 120.0, \"Horsepower\": 74.0, \"Miles_per_Gallon\": 31.6, \"Name\": \"mazda 626\", \"Origin\": \"Japan\", \"Weight_in_lbs\": 2635, \"Year\": \"1982-01-01\"}, {\"Acceleration\": 20.4, \"Cylinders\": 4, \"Displacement\": 141.0, \"Horsepower\": 80.0, \"Miles_per_Gallon\": 28.1, \"Name\": \"peugeot 505s turbo diesel\", \"Origin\": \"Europe\", \"Weight_in_lbs\": 3230, \"Year\": \"1982-01-01\"}, {\"Acceleration\": 15.4, \"Cylinders\": 4, \"Displacement\": 121.0, \"Horsepower\": 110.0, \"Miles_per_Gallon\": null, \"Name\": \"saab 900s\", \"Origin\": \"Europe\", \"Weight_in_lbs\": 2800, \"Year\": \"1982-01-01\"}, {\"Acceleration\": 19.6, \"Cylinders\": 6, \"Displacement\": 145.0, \"Horsepower\": 76.0, \"Miles_per_Gallon\": 30.7, \"Name\": \"volvo diesel\", \"Origin\": \"Europe\", \"Weight_in_lbs\": 3160, \"Year\": \"1982-01-01\"}, {\"Acceleration\": 12.6, \"Cylinders\": 6, \"Displacement\": 168.0, \"Horsepower\": 116.0, \"Miles_per_Gallon\": 25.4, \"Name\": \"toyota cressida\", \"Origin\": \"Japan\", \"Weight_in_lbs\": 2900, \"Year\": \"1982-01-01\"}, {\"Acceleration\": 13.8, \"Cylinders\": 6, \"Displacement\": 146.0, \"Horsepower\": 120.0, \"Miles_per_Gallon\": 24.2, \"Name\": \"datsun 810 maxima\", \"Origin\": \"Japan\", \"Weight_in_lbs\": 2930, \"Year\": \"1982-01-01\"}, {\"Acceleration\": 15.8, \"Cylinders\": 6, \"Displacement\": 231.0, \"Horsepower\": 110.0, \"Miles_per_Gallon\": 22.4, \"Name\": \"buick century\", \"Origin\": \"USA\", \"Weight_in_lbs\": 3415, \"Year\": \"1982-01-01\"}, {\"Acceleration\": 19.0, \"Cylinders\": 8, \"Displacement\": 350.0, \"Horsepower\": 105.0, \"Miles_per_Gallon\": 26.6, \"Name\": \"oldsmobile cutlass ls\", \"Origin\": \"USA\", \"Weight_in_lbs\": 3725, \"Year\": \"1982-01-01\"}, {\"Acceleration\": 17.1, \"Cylinders\": 6, \"Displacement\": 200.0, \"Horsepower\": 88.0, \"Miles_per_Gallon\": 20.2, \"Name\": \"ford granada gl\", \"Origin\": \"USA\", \"Weight_in_lbs\": 3060, \"Year\": \"1982-01-01\"}, {\"Acceleration\": 16.6, \"Cylinders\": 6, \"Displacement\": 225.0, \"Horsepower\": 85.0, \"Miles_per_Gallon\": 17.6, \"Name\": \"chrysler lebaron salon\", \"Origin\": \"USA\", \"Weight_in_lbs\": 3465, \"Year\": \"1982-01-01\"}, {\"Acceleration\": 19.6, \"Cylinders\": 4, \"Displacement\": 112.0, \"Horsepower\": 88.0, \"Miles_per_Gallon\": 28.0, \"Name\": \"chevrolet cavalier\", \"Origin\": \"USA\", \"Weight_in_lbs\": 2605, \"Year\": \"1982-01-01\"}, {\"Acceleration\": 18.6, \"Cylinders\": 4, \"Displacement\": 112.0, \"Horsepower\": 88.0, \"Miles_per_Gallon\": 27.0, \"Name\": \"chevrolet cavalier wagon\", \"Origin\": \"USA\", \"Weight_in_lbs\": 2640, \"Year\": \"1982-01-01\"}, {\"Acceleration\": 18.0, \"Cylinders\": 4, \"Displacement\": 112.0, \"Horsepower\": 88.0, \"Miles_per_Gallon\": 34.0, \"Name\": \"chevrolet cavalier 2-door\", \"Origin\": \"USA\", \"Weight_in_lbs\": 2395, \"Year\": \"1982-01-01\"}, {\"Acceleration\": 16.2, \"Cylinders\": 4, \"Displacement\": 112.0, \"Horsepower\": 85.0, \"Miles_per_Gallon\": 31.0, \"Name\": \"pontiac j2000 se hatchback\", \"Origin\": \"USA\", \"Weight_in_lbs\": 2575, \"Year\": \"1982-01-01\"}, {\"Acceleration\": 16.0, \"Cylinders\": 4, \"Displacement\": 135.0, \"Horsepower\": 84.0, \"Miles_per_Gallon\": 29.0, \"Name\": \"dodge aries se\", \"Origin\": \"USA\", \"Weight_in_lbs\": 2525, \"Year\": \"1982-01-01\"}, {\"Acceleration\": 18.0, \"Cylinders\": 4, \"Displacement\": 151.0, \"Horsepower\": 90.0, \"Miles_per_Gallon\": 27.0, \"Name\": \"pontiac phoenix\", \"Origin\": \"USA\", \"Weight_in_lbs\": 2735, \"Year\": \"1982-01-01\"}, {\"Acceleration\": 16.4, \"Cylinders\": 4, \"Displacement\": 140.0, \"Horsepower\": 92.0, \"Miles_per_Gallon\": 24.0, \"Name\": \"ford fairmont futura\", \"Origin\": \"USA\", \"Weight_in_lbs\": 2865, \"Year\": \"1982-01-01\"}, {\"Acceleration\": 20.5, \"Cylinders\": 4, \"Displacement\": 151.0, \"Horsepower\": null, \"Miles_per_Gallon\": 23.0, \"Name\": \"amc concord dl\", \"Origin\": \"USA\", \"Weight_in_lbs\": 3035, \"Year\": \"1982-01-01\"}, {\"Acceleration\": 15.3, \"Cylinders\": 4, \"Displacement\": 105.0, \"Horsepower\": 74.0, \"Miles_per_Gallon\": 36.0, \"Name\": \"volkswagen rabbit l\", \"Origin\": \"Europe\", \"Weight_in_lbs\": 1980, \"Year\": \"1982-01-01\"}, {\"Acceleration\": 18.2, \"Cylinders\": 4, \"Displacement\": 91.0, \"Horsepower\": 68.0, \"Miles_per_Gallon\": 37.0, \"Name\": \"mazda glc custom l\", \"Origin\": \"Japan\", \"Weight_in_lbs\": 2025, \"Year\": \"1982-01-01\"}, {\"Acceleration\": 17.6, \"Cylinders\": 4, \"Displacement\": 91.0, \"Horsepower\": 68.0, \"Miles_per_Gallon\": 31.0, \"Name\": \"mazda glc custom\", \"Origin\": \"Japan\", \"Weight_in_lbs\": 1970, \"Year\": \"1982-01-01\"}, {\"Acceleration\": 14.7, \"Cylinders\": 4, \"Displacement\": 105.0, \"Horsepower\": 63.0, \"Miles_per_Gallon\": 38.0, \"Name\": \"plymouth horizon miser\", \"Origin\": \"USA\", \"Weight_in_lbs\": 2125, \"Year\": \"1982-01-01\"}, {\"Acceleration\": 17.3, \"Cylinders\": 4, \"Displacement\": 98.0, \"Horsepower\": 70.0, \"Miles_per_Gallon\": 36.0, \"Name\": \"mercury lynx l\", \"Origin\": \"USA\", \"Weight_in_lbs\": 2125, \"Year\": \"1982-01-01\"}, {\"Acceleration\": 14.5, \"Cylinders\": 4, \"Displacement\": 120.0, \"Horsepower\": 88.0, \"Miles_per_Gallon\": 36.0, \"Name\": \"nissan stanza xe\", \"Origin\": \"Japan\", \"Weight_in_lbs\": 2160, \"Year\": \"1982-01-01\"}, {\"Acceleration\": 14.5, \"Cylinders\": 4, \"Displacement\": 107.0, \"Horsepower\": 75.0, \"Miles_per_Gallon\": 36.0, \"Name\": \"honda Accelerationord\", \"Origin\": \"Japan\", \"Weight_in_lbs\": 2205, \"Year\": \"1982-01-01\"}, {\"Acceleration\": 16.9, \"Cylinders\": 4, \"Displacement\": 108.0, \"Horsepower\": 70.0, \"Miles_per_Gallon\": 34.0, \"Name\": \"toyota corolla\", \"Origin\": \"Japan\", \"Weight_in_lbs\": 2245, \"Year\": \"1982-01-01\"}, {\"Acceleration\": 15.0, \"Cylinders\": 4, \"Displacement\": 91.0, \"Horsepower\": 67.0, \"Miles_per_Gallon\": 38.0, \"Name\": \"honda civic\", \"Origin\": \"Japan\", \"Weight_in_lbs\": 1965, \"Year\": \"1982-01-01\"}, {\"Acceleration\": 15.7, \"Cylinders\": 4, \"Displacement\": 91.0, \"Horsepower\": 67.0, \"Miles_per_Gallon\": 32.0, \"Name\": \"honda civic (auto)\", \"Origin\": \"Japan\", \"Weight_in_lbs\": 1965, \"Year\": \"1982-01-01\"}, {\"Acceleration\": 16.2, \"Cylinders\": 4, \"Displacement\": 91.0, \"Horsepower\": 67.0, \"Miles_per_Gallon\": 38.0, \"Name\": \"datsun 310 gx\", \"Origin\": \"Japan\", \"Weight_in_lbs\": 1995, \"Year\": \"1982-01-01\"}, {\"Acceleration\": 16.4, \"Cylinders\": 6, \"Displacement\": 181.0, \"Horsepower\": 110.0, \"Miles_per_Gallon\": 25.0, \"Name\": \"buick century limited\", \"Origin\": \"USA\", \"Weight_in_lbs\": 2945, \"Year\": \"1982-01-01\"}, {\"Acceleration\": 17.0, \"Cylinders\": 6, \"Displacement\": 262.0, \"Horsepower\": 85.0, \"Miles_per_Gallon\": 38.0, \"Name\": \"oldsmobile cutlass ciera (diesel)\", \"Origin\": \"USA\", \"Weight_in_lbs\": 3015, \"Year\": \"1982-01-01\"}, {\"Acceleration\": 14.5, \"Cylinders\": 4, \"Displacement\": 156.0, \"Horsepower\": 92.0, \"Miles_per_Gallon\": 26.0, \"Name\": \"chrysler lebaron medallion\", \"Origin\": \"USA\", \"Weight_in_lbs\": 2585, \"Year\": \"1982-01-01\"}, {\"Acceleration\": 14.7, \"Cylinders\": 6, \"Displacement\": 232.0, \"Horsepower\": 112.0, \"Miles_per_Gallon\": 22.0, \"Name\": \"ford granada l\", \"Origin\": \"USA\", \"Weight_in_lbs\": 2835, \"Year\": \"1982-01-01\"}, {\"Acceleration\": 13.9, \"Cylinders\": 4, \"Displacement\": 144.0, \"Horsepower\": 96.0, \"Miles_per_Gallon\": 32.0, \"Name\": \"toyota celica gt\", \"Origin\": \"Japan\", \"Weight_in_lbs\": 2665, \"Year\": \"1982-01-01\"}, {\"Acceleration\": 13.0, \"Cylinders\": 4, \"Displacement\": 135.0, \"Horsepower\": 84.0, \"Miles_per_Gallon\": 36.0, \"Name\": \"dodge charger 2.2\", \"Origin\": \"USA\", \"Weight_in_lbs\": 2370, \"Year\": \"1982-01-01\"}, {\"Acceleration\": 17.3, \"Cylinders\": 4, \"Displacement\": 151.0, \"Horsepower\": 90.0, \"Miles_per_Gallon\": 27.0, \"Name\": \"chevrolet camaro\", \"Origin\": \"USA\", \"Weight_in_lbs\": 2950, \"Year\": \"1982-01-01\"}, {\"Acceleration\": 15.6, \"Cylinders\": 4, \"Displacement\": 140.0, \"Horsepower\": 86.0, \"Miles_per_Gallon\": 27.0, \"Name\": \"ford mustang gl\", \"Origin\": \"USA\", \"Weight_in_lbs\": 2790, \"Year\": \"1982-01-01\"}, {\"Acceleration\": 24.6, \"Cylinders\": 4, \"Displacement\": 97.0, \"Horsepower\": 52.0, \"Miles_per_Gallon\": 44.0, \"Name\": \"vw pickup\", \"Origin\": \"Europe\", \"Weight_in_lbs\": 2130, \"Year\": \"1982-01-01\"}, {\"Acceleration\": 11.6, \"Cylinders\": 4, \"Displacement\": 135.0, \"Horsepower\": 84.0, \"Miles_per_Gallon\": 32.0, \"Name\": \"dodge rampage\", \"Origin\": \"USA\", \"Weight_in_lbs\": 2295, \"Year\": \"1982-01-01\"}, {\"Acceleration\": 18.6, \"Cylinders\": 4, \"Displacement\": 120.0, \"Horsepower\": 79.0, \"Miles_per_Gallon\": 28.0, \"Name\": \"ford ranger\", \"Origin\": \"USA\", \"Weight_in_lbs\": 2625, \"Year\": \"1982-01-01\"}, {\"Acceleration\": 19.4, \"Cylinders\": 4, \"Displacement\": 119.0, \"Horsepower\": 82.0, \"Miles_per_Gallon\": 31.0, \"Name\": \"chevy s-10\", \"Origin\": \"USA\", \"Weight_in_lbs\": 2720, \"Year\": \"1982-01-01\"}]}, \"mark\": \"circle\", \"encoding\": {\"color\": {\"type\": \"nominal\", \"field\": \"Origin\"}, \"size\": {\"type\": \"quantitative\", \"field\": \"Miles_per_Gallon\"}, \"x\": {\"type\": \"quantitative\", \"field\": \"Horsepower\"}, \"y\": {\"type\": \"quantitative\", \"field\": \"Acceleration\"}}, \"selection\": {\"selector003\": {\"type\": \"interval\", \"bind\": \"scales\", \"encodings\": [\"x\", \"y\"]}}, \"$schema\": \"https://vega.github.io/schema/vega-lite/v2.4.3.json\"};\n",
              "    var embed_opt = {\"mode\": \"vega-lite\"};\n",
              "\n",
              "    function showError(el, error){\n",
              "        el.innerHTML = ('<div class=\"error\">'\n",
              "                        + '<p>JavaScript Error: ' + error.message + '</p>'\n",
              "                        + \"<p>This usually means there's a typo in your chart specification. \"\n",
              "                        + \"See the javascript console for the full traceback.</p>\"\n",
              "                        + '</div>');\n",
              "        throw error;\n",
              "    }\n",
              "    const el = document.getElementById('vis');\n",
              "    vegaEmbed(\"#vis\", spec, embed_opt)\n",
              "      .catch(error => showError(el, error));\n",
              "  </script>\n",
              "</body>\n",
              "</html>\n"
            ]
          },
          "metadata": {
            "tags": []
          },
          "execution_count": 17
        }
      ]
    },
    {
      "cell_type": "markdown",
      "metadata": {
        "id": "SlarMue5rOKu",
        "colab_type": "text"
      },
      "source": [
        "##### Descripción del ejemplo\n",
        "\n",
        "Este gráfico se construye de forma similar al _scatterplot_, la diferencia es que se agregan nuevas codificaciones que son **el tamaño y el color**.  \n",
        "- **Línea 9**\n",
        "\n",
        "```python\n",
        "    size='Miles_per_Gallon',\n",
        "```\n",
        "Con esta lína de código se indica que el tamaño de los circulos será definido en función del valor que tenga la columna _Miles_\\__per_\\__Gallon_.\n",
        "\n",
        "-----------------\n",
        "- **Línea 10**\n",
        "\n",
        "```python\n",
        "    color='Origin'\n",
        "```\n",
        "Con esta lína de código se indica que el color de los circulos será definido en función del valor que tenga la columna _Origin_.\n",
        "\n",
        "-------------------\n",
        "Además se volvió a utilizar el método `interactive` para poder navegar y hacer _zoom_ al gráfico."
      ]
    },
    {
      "cell_type": "markdown",
      "metadata": {
        "id": "MHiEDsXvrOKw",
        "colab_type": "text"
      },
      "source": [
        "#### Actividad 10: bubblechart\n",
        "\n",
        "Contruya dos _bubblechart_ con la siguiente codificación:\n",
        "- **Bubblechart 1**\n",
        "    - Eje X: año de llegada.\n",
        "    - Eje Y: edad.\n",
        "    - color: pais. Aquí seleccione al menos 10.\n",
        "    - tamaño: cantidad de personas de dicho pais que coinciden con el año de llegada y edad.\n",
        "\n",
        "- **Bubblechart 2**\n",
        "    - Eje X: año de llegada promedio.\n",
        "    - Eje Y: edad promedio.\n",
        "    - color: pais. Aquí seleccione al menos 10.\n",
        "    - tamaño: cantidad de personas de dicho pais que coinciden con el año de llegada y edad.\n",
        "\n",
        "\n",
        "Finalmente,  permita que en ambos gráficos se pueda realizar _zoom_.\n",
        "\n",
        "**Hint**: no olvide filtrar los datos que generan ruido y la utilidad del comando `head`."
      ]
    },
    {
      "cell_type": "code",
      "metadata": {
        "id": "GbVJUYsHrOKx",
        "colab_type": "code",
        "colab": {}
      },
      "source": [
        ""
      ],
      "execution_count": 0,
      "outputs": []
    },
    {
      "cell_type": "code",
      "metadata": {
        "id": "xfxlnxhiSBvG",
        "colab_type": "code",
        "colab": {}
      },
      "source": [
        ""
      ],
      "execution_count": 0,
      "outputs": []
    },
    {
      "cell_type": "markdown",
      "metadata": {
        "id": "_8WevAhjrcL4",
        "colab_type": "text"
      },
      "source": [
        "### Histogama"
      ]
    },
    {
      "cell_type": "code",
      "metadata": {
        "id": "Ih0JJH3srcL9",
        "colab_type": "code",
        "outputId": "d8e24d64-2c78-476e-9367-d0db3633217e",
        "colab": {
          "base_uri": "https://localhost:8080/",
          "height": 348
        }
      },
      "source": [
        "import altair as alt\n",
        "from vega_datasets import data\n",
        "\n",
        "movies = data.movies.url\n",
        "\n",
        "alt.Chart(movies).mark_bar().encode(\n",
        "    alt.X(\"IMDB_Rating:Q\", bin=True),\n",
        "    y='count()',\n",
        ")"
      ],
      "execution_count": 0,
      "outputs": [
        {
          "output_type": "execute_result",
          "data": {
            "text/plain": [
              "Chart({\n",
              "  data: 'https://vega.github.io/vega-datasets/data/movies.json',\n",
              "  encoding: EncodingWithFacet({\n",
              "    x: X({\n",
              "      bin: True,\n",
              "      shorthand: 'IMDB_Rating:Q'\n",
              "    }),\n",
              "    y: Y({\n",
              "      shorthand: 'count()'\n",
              "    })\n",
              "  }),\n",
              "  mark: 'bar'\n",
              "})"
            ],
            "text/html": [
              "\n",
              "<!DOCTYPE html>\n",
              "<html>\n",
              "<head>\n",
              "  <style>\n",
              "    .vega-actions a {\n",
              "        margin-right: 12px;\n",
              "        color: #757575;\n",
              "        font-weight: normal;\n",
              "        font-size: 13px;\n",
              "    }\n",
              "    .error {\n",
              "        color: red;\n",
              "    }\n",
              "  </style>\n",
              "\n",
              "<script src=\"https://cdn.jsdelivr.net/npm//vega@3.3.1\"></script>\n",
              "<script src=\"https://cdn.jsdelivr.net/npm//vega-lite@2.4.3\"></script>\n",
              "<script src=\"https://cdn.jsdelivr.net/npm//vega-embed@3.11\"></script>\n",
              "\n",
              "</head>\n",
              "<body>\n",
              "  <div id=\"vis\"></div>\n",
              "  <script type=\"text/javascript\">\n",
              "    var spec = {\"config\": {\"view\": {\"width\": 400, \"height\": 300}}, \"data\": {\"url\": \"https://vega.github.io/vega-datasets/data/movies.json\"}, \"mark\": \"bar\", \"encoding\": {\"x\": {\"type\": \"quantitative\", \"bin\": true, \"field\": \"IMDB_Rating\"}, \"y\": {\"type\": \"quantitative\", \"aggregate\": \"count\"}}, \"$schema\": \"https://vega.github.io/schema/vega-lite/v2.4.3.json\"};\n",
              "    var embed_opt = {\"mode\": \"vega-lite\"};\n",
              "\n",
              "    function showError(el, error){\n",
              "        el.innerHTML = ('<div class=\"error\">'\n",
              "                        + '<p>JavaScript Error: ' + error.message + '</p>'\n",
              "                        + \"<p>This usually means there's a typo in your chart specification. \"\n",
              "                        + \"See the javascript console for the full traceback.</p>\"\n",
              "                        + '</div>');\n",
              "        throw error;\n",
              "    }\n",
              "    const el = document.getElementById('vis');\n",
              "    vegaEmbed(\"#vis\", spec, embed_opt)\n",
              "      .catch(error => showError(el, error));\n",
              "  </script>\n",
              "</body>\n",
              "</html>\n"
            ]
          },
          "metadata": {
            "tags": []
          },
          "execution_count": 20
        }
      ]
    },
    {
      "cell_type": "markdown",
      "metadata": {
        "id": "OVyIKyw1rcMC",
        "colab_type": "text"
      },
      "source": [
        "##### Descripción del ejemplo\n",
        "\n",
        "Un histograma se codifica de forma similar a un gráfico de barra. La principal diferencia es que en el eje Y no se indica una columna con valor numérico, sino que se utiliza la función de agregación `count`.\n",
        "\n",
        "- **Línea 7**\n",
        "\n",
        "```python\n",
        "alt.X(\"IMDB_Rating:Q\", bin=True),\n",
        "```\n",
        "Con esta lína de código se indica que el eje Y será definido en función de la columna _IMDB_\\__Rating_. Un argumento importante aquí es `bin=True` el cual se encarga de agrupar las barras en un rango de valores para reducir la cantidad de barras presentes en el gráfico. Se recomiendo cambiarlo a `False` para ver como era el gráfico original.\n",
        "\n",
        "-------------------\n",
        "- **Línea 8**\n",
        "\n",
        "```python\n",
        "    y='count()',\n",
        "```\n",
        "Con esta lína de código se indica que el valor del eje Y será la cantidad de filas que coinciden con el dato del eje Y.\n",
        "\n"
      ]
    },
    {
      "cell_type": "markdown",
      "metadata": {
        "id": "kwQqVHfyrcMD",
        "colab_type": "text"
      },
      "source": [
        "#### Actividad 11: histograma\n",
        "Construya un histograma para responder la pregunta ¿Cuantos jefes de hogar tienen 0, 1, 2, ... , _n_ hijos? Considere _n_ como la cantidad máxima de hijos en el _dataset_."
      ]
    },
    {
      "cell_type": "code",
      "metadata": {
        "id": "ZO5uIMRCrcME",
        "colab_type": "code",
        "colab": {}
      },
      "source": [
        ""
      ],
      "execution_count": 0,
      "outputs": []
    },
    {
      "cell_type": "markdown",
      "metadata": {
        "id": "eVLJV4kAroc7",
        "colab_type": "text"
      },
      "source": [
        "## Framework \n"
      ]
    },
    {
      "cell_type": "markdown",
      "metadata": {
        "id": "7mDx9yE0rcMY",
        "colab_type": "text"
      },
      "source": [
        "#### Actividad 12: framework\n",
        "Ahora que ya se maneja con el procesamiento de datos y diferentes gráficos, eliga una tarea y justifiquera con el _framework_ visto en clases. (_what_ y _why_). Finalmente implemente dicha tarea utilizando Altair."
      ]
    },
    {
      "cell_type": "code",
      "metadata": {
        "id": "zszT6TwiOFpS",
        "colab_type": "code",
        "colab": {}
      },
      "source": [
        ""
      ],
      "execution_count": 0,
      "outputs": []
    },
    {
      "cell_type": "code",
      "metadata": {
        "id": "UrvIQrTzrcMa",
        "colab_type": "code",
        "colab": {}
      },
      "source": [
        ""
      ],
      "execution_count": 0,
      "outputs": []
    },
    {
      "cell_type": "markdown",
      "metadata": {
        "id": "IaCAWf7xeKOJ",
        "colab_type": "text"
      },
      "source": [
        "## Bonus: ejemplos dinamicos\n",
        "Si deseas estudiar más sobre usos de Altair para visualizaciones dinamicas. En el siguiente [link](https://altair-viz.github.io/gallery/index.html#interactive-charts) se muestran varios ejemplos donde agregan características dinamicas al gráfico. Por ejemplo, un gráfico con el promedio dinamico donde haciendo _click_ en este y arrastrando el mouse, se puede calcular la media de las barras seleccionadas."
      ]
    },
    {
      "cell_type": "code",
      "metadata": {
        "id": "guTkdcHoeuCa",
        "colab_type": "code",
        "outputId": "38382628-5e3a-4129-dec3-06e6e0b4496c",
        "colab": {
          "base_uri": "https://localhost:8080/",
          "height": 348
        }
      },
      "source": [
        "import altair as alt\n",
        "from vega_datasets import data\n",
        "\n",
        "weather = data.seattle_weather.url\n",
        "brush = alt.selection(type='interval', encodings=['x'])\n",
        "\n",
        "bars = alt.Chart().mark_bar().encode(\n",
        "    x='month(date):O',\n",
        "    y='mean(precipitation):Q',\n",
        "    opacity=alt.condition(brush, alt.OpacityValue(1), alt.OpacityValue(0.7))\n",
        ").add_selection(\n",
        "    brush\n",
        ")\n",
        "\n",
        "line = alt.Chart().mark_rule(color='firebrick').encode(\n",
        "    y='mean(precipitation):Q',\n",
        "    size=alt.SizeValue(3)\n",
        ").transform_filter(\n",
        "    brush\n",
        ")\n",
        "\n",
        "alt.layer(bars, line, data=weather)"
      ],
      "execution_count": 0,
      "outputs": [
        {
          "output_type": "execute_result",
          "data": {
            "text/plain": [
              "LayerChart({\n",
              "  data: 'https://vega.github.io/vega-datasets/data/seattle-weather.csv',\n",
              "  layer: [Chart({\n",
              "    encoding: EncodingWithFacet({\n",
              "      opacity: OpacityValue({\n",
              "        condition: OpacityValue({\n",
              "          selection: 'selector006',\n",
              "          value: 1\n",
              "        }),\n",
              "        value: 0.7\n",
              "      }),\n",
              "      x: X({\n",
              "        shorthand: 'month(date):O'\n",
              "      }),\n",
              "      y: Y({\n",
              "        shorthand: 'mean(precipitation):Q'\n",
              "      })\n",
              "    }),\n",
              "    mark: 'bar',\n",
              "    selection: SelectionMapping({\n",
              "      selector006: SelectionDef({\n",
              "        encodings: ['x'],\n",
              "        type: 'interval'\n",
              "      })\n",
              "    })\n",
              "  }), Chart({\n",
              "    encoding: EncodingWithFacet({\n",
              "      size: SizeValue({\n",
              "        value: 3\n",
              "      }),\n",
              "      y: Y({\n",
              "        shorthand: 'mean(precipitation):Q'\n",
              "      })\n",
              "    }),\n",
              "    mark: MarkDef({\n",
              "      color: 'firebrick',\n",
              "      type: 'rule'\n",
              "    }),\n",
              "    transform: [FilterTransform({\n",
              "      filter: {'selection': 'selector006'}\n",
              "    })]\n",
              "  })]\n",
              "})"
            ],
            "text/html": [
              "\n",
              "<!DOCTYPE html>\n",
              "<html>\n",
              "<head>\n",
              "  <style>\n",
              "    .vega-actions a {\n",
              "        margin-right: 12px;\n",
              "        color: #757575;\n",
              "        font-weight: normal;\n",
              "        font-size: 13px;\n",
              "    }\n",
              "    .error {\n",
              "        color: red;\n",
              "    }\n",
              "  </style>\n",
              "\n",
              "<script src=\"https://cdn.jsdelivr.net/npm//vega@3.3.1\"></script>\n",
              "<script src=\"https://cdn.jsdelivr.net/npm//vega-lite@2.4.3\"></script>\n",
              "<script src=\"https://cdn.jsdelivr.net/npm//vega-embed@3.11\"></script>\n",
              "\n",
              "</head>\n",
              "<body>\n",
              "  <div id=\"vis\"></div>\n",
              "  <script type=\"text/javascript\">\n",
              "    var spec = {\"config\": {\"view\": {\"width\": 400, \"height\": 300}}, \"layer\": [{\"mark\": \"bar\", \"encoding\": {\"opacity\": {\"condition\": {\"value\": 1, \"selection\": \"selector006\"}, \"value\": 0.7}, \"x\": {\"type\": \"ordinal\", \"field\": \"date\", \"timeUnit\": \"month\"}, \"y\": {\"type\": \"quantitative\", \"aggregate\": \"mean\", \"field\": \"precipitation\"}}, \"selection\": {\"selector006\": {\"type\": \"interval\", \"encodings\": [\"x\"]}}}, {\"mark\": {\"type\": \"rule\", \"color\": \"firebrick\"}, \"encoding\": {\"size\": {\"value\": 3}, \"y\": {\"type\": \"quantitative\", \"aggregate\": \"mean\", \"field\": \"precipitation\"}}, \"transform\": [{\"filter\": {\"selection\": \"selector006\"}}]}], \"data\": {\"url\": \"https://vega.github.io/vega-datasets/data/seattle-weather.csv\"}, \"$schema\": \"https://vega.github.io/schema/vega-lite/v2.4.3.json\"};\n",
              "    var embed_opt = {\"mode\": \"vega-lite\"};\n",
              "\n",
              "    function showError(el, error){\n",
              "        el.innerHTML = ('<div class=\"error\">'\n",
              "                        + '<p>JavaScript Error: ' + error.message + '</p>'\n",
              "                        + \"<p>This usually means there's a typo in your chart specification. \"\n",
              "                        + \"See the javascript console for the full traceback.</p>\"\n",
              "                        + '</div>');\n",
              "        throw error;\n",
              "    }\n",
              "    const el = document.getElementById('vis');\n",
              "    vegaEmbed(\"#vis\", spec, embed_opt)\n",
              "      .catch(error => showError(el, error));\n",
              "  </script>\n",
              "</body>\n",
              "</html>\n"
            ]
          },
          "metadata": {
            "tags": []
          },
          "execution_count": 22
        }
      ]
    },
    {
      "cell_type": "markdown",
      "metadata": {
        "id": "yqYFcJjUe_Sc",
        "colab_type": "text"
      },
      "source": [
        ""
      ]
    }
  ]
}