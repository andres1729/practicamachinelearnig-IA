{
  "nbformat": 4,
  "nbformat_minor": 0,
  "metadata": {
    "colab": {
      "name": "ml1.ipynb",
      "provenance": []
    },
    "kernelspec": {
      "name": "python3",
      "display_name": "Python 3"
    }
  },
  "cells": [
    {
      "cell_type": "code",
      "metadata": {
        "id": "waGT1E5tRvSo",
        "colab_type": "code",
        "outputId": "ed524dbc-5837-423c-f97a-623de5494158",
        "colab": {
          "base_uri": "https://localhost:8080/",
          "height": 686
        }
      },
      "source": [
        "!pip install quandl\n",
        "\n",
        "\n",
        "\n"
      ],
      "execution_count": 0,
      "outputs": [
        {
          "output_type": "stream",
          "text": [
            "Collecting quandl\n",
            "  Downloading https://files.pythonhosted.org/packages/12/64/6314547cb01fa75697ddba6d6d43a9f1d023c1730ffc6abf3db7a0c89222/Quandl-3.4.8-py2.py3-none-any.whl\n",
            "Requirement already satisfied: pandas>=0.14 in /usr/local/lib/python3.6/dist-packages (from quandl) (0.25.3)\n",
            "Requirement already satisfied: python-dateutil in /usr/local/lib/python3.6/dist-packages (from quandl) (2.6.1)\n",
            "Requirement already satisfied: requests>=2.7.0 in /usr/local/lib/python3.6/dist-packages (from quandl) (2.21.0)\n",
            "Requirement already satisfied: numpy>=1.8 in /usr/local/lib/python3.6/dist-packages (from quandl) (1.17.4)\n",
            "Collecting more-itertools<=5.0.0\n",
            "\u001b[?25l  Downloading https://files.pythonhosted.org/packages/a4/a6/42f17d065bda1fac255db13afc94c93dbfb64393eae37c749b4cb0752fc7/more_itertools-5.0.0-py3-none-any.whl (52kB)\n",
            "\u001b[K     |████████████████████████████████| 61kB 6.5MB/s \n",
            "\u001b[?25hRequirement already satisfied: six in /usr/local/lib/python3.6/dist-packages (from quandl) (1.12.0)\n",
            "Collecting inflection>=0.3.1\n",
            "  Downloading https://files.pythonhosted.org/packages/d5/35/a6eb45b4e2356fe688b21570864d4aa0d0a880ce387defe9c589112077f8/inflection-0.3.1.tar.gz\n",
            "Collecting ndg-httpsclient\n",
            "  Downloading https://files.pythonhosted.org/packages/fb/67/c2f508c00ed2a6911541494504b7cac16fe0b0473912568df65fd1801132/ndg_httpsclient-0.5.1-py3-none-any.whl\n",
            "Requirement already satisfied: pyasn1 in /usr/local/lib/python3.6/dist-packages (from quandl) (0.4.8)\n",
            "Collecting pyOpenSSL\n",
            "\u001b[?25l  Downloading https://files.pythonhosted.org/packages/9e/de/f8342b68fa9e981d348039954657bdf681b2ab93de27443be51865ffa310/pyOpenSSL-19.1.0-py2.py3-none-any.whl (53kB)\n",
            "\u001b[K     |████████████████████████████████| 61kB 8.6MB/s \n",
            "\u001b[?25hRequirement already satisfied: pytz>=2017.2 in /usr/local/lib/python3.6/dist-packages (from pandas>=0.14->quandl) (2018.9)\n",
            "Requirement already satisfied: chardet<3.1.0,>=3.0.2 in /usr/local/lib/python3.6/dist-packages (from requests>=2.7.0->quandl) (3.0.4)\n",
            "Requirement already satisfied: urllib3<1.25,>=1.21.1 in /usr/local/lib/python3.6/dist-packages (from requests>=2.7.0->quandl) (1.24.3)\n",
            "Requirement already satisfied: idna<2.9,>=2.5 in /usr/local/lib/python3.6/dist-packages (from requests>=2.7.0->quandl) (2.8)\n",
            "Requirement already satisfied: certifi>=2017.4.17 in /usr/local/lib/python3.6/dist-packages (from requests>=2.7.0->quandl) (2019.11.28)\n",
            "Collecting cryptography>=2.8\n",
            "\u001b[?25l  Downloading https://files.pythonhosted.org/packages/ca/9a/7cece52c46546e214e10811b36b2da52ce1ea7fa203203a629b8dfadad53/cryptography-2.8-cp34-abi3-manylinux2010_x86_64.whl (2.3MB)\n",
            "\u001b[K     |████████████████████████████████| 2.3MB 28.8MB/s \n",
            "\u001b[?25hRequirement already satisfied: cffi!=1.11.3,>=1.8 in /usr/local/lib/python3.6/dist-packages (from cryptography>=2.8->pyOpenSSL->quandl) (1.13.2)\n",
            "Requirement already satisfied: pycparser in /usr/local/lib/python3.6/dist-packages (from cffi!=1.11.3,>=1.8->cryptography>=2.8->pyOpenSSL->quandl) (2.19)\n",
            "Building wheels for collected packages: inflection\n",
            "  Building wheel for inflection (setup.py) ... \u001b[?25l\u001b[?25hdone\n",
            "  Created wheel for inflection: filename=inflection-0.3.1-cp36-none-any.whl size=6076 sha256=d3e912cc62cb823599a5bb91ecfbb9f54247df9196aa2766e1c3eb56c54ec534\n",
            "  Stored in directory: /root/.cache/pip/wheels/9f/5a/d3/6fc3bf6516d2a3eb7e18f9f28b472110b59325f3f258fe9211\n",
            "Successfully built inflection\n",
            "\u001b[31mERROR: datascience 0.10.6 has requirement folium==0.2.1, but you'll have folium 0.8.3 which is incompatible.\u001b[0m\n",
            "Installing collected packages: more-itertools, inflection, cryptography, pyOpenSSL, ndg-httpsclient, quandl\n",
            "  Found existing installation: more-itertools 8.0.2\n",
            "    Uninstalling more-itertools-8.0.2:\n",
            "      Successfully uninstalled more-itertools-8.0.2\n",
            "Successfully installed cryptography-2.8 inflection-0.3.1 more-itertools-5.0.0 ndg-httpsclient-0.5.1 pyOpenSSL-19.1.0 quandl-3.4.8\n"
          ],
          "name": "stdout"
        }
      ]
    },
    {
      "cell_type": "markdown",
      "metadata": {
        "id": "YsOIR6rJ5UpW",
        "colab_type": "text"
      },
      "source": [
        "cross_validation--- para crear nuestras muestras de capacitacion y prueba. Una forma de dividir los datos, para que no tengas una muestra sesgada y tambien ayuda a separar los datos \n",
        "\n",
        "svm--maquina vectores soporte"
      ]
    },
    {
      "cell_type": "markdown",
      "metadata": {
        "id": "KbWLXBUgzB7r",
        "colab_type": "text"
      },
      "source": [
        "-\"Para pronosticar, necesitamos algunos datos. Decidimos que pronosticamos el 10% de los datos, por lo tanto, desearemos, o al menos * podemos * generar pronósticos para cada uno del 10% final del conjunto de datos. Entonces, ¿cuándo podemos hacer esto? ¿Cuándo identificaremos esos datos? Podríamos llamarlo ahora, pero tenga en cuenta que los datos que estamos tratando de pronosticar no están escalados como lo hicieron los datos de entrenamiento. De acuerdo, ¿entonces qué? ¿Acabamos de hacer preprocessing.scale () contra el último 10%? El método de escala escala en función de todos los datos conocidos que se introducen en él. Idealmente, debería escalar todos los datos de capacitación, prueba y pronóstico / predicción. ¿Es esto siempre posible o razonable? No. Si puedes hacerlo, deberías, sin embargo. En nuestro caso, ahora mismo, podemos hacerlo. Nuestros datos son lo suficientemente pequeños y el tiempo de procesamiento es lo suficientemente bajo, por lo que preprocesaremos y escalaremos los datos de una vez.\n",
        "\n",
        "En muchos casos, no podrá hacer esto. Imagínese si estuviera utilizando gigabytes de datos para entrenar a un clasificador. Puede llevar días entrenar a tu clasificador, no querrías hacerlo cada ... solo ... cada vez que quisieras hacer una predicción. Por lo tanto, es posible que NO deba escalar nada, o puede escalar los datos por separado. Como de costumbre, querrá probar ambas opciones y ver cuál es el mejor en su caso específico.\n",
        "\n",
        "Con eso en mente, manejemos todas las filas desde la definición de X en adelante.\""
      ]
    },
    {
      "cell_type": "code",
      "metadata": {
        "id": "p2s_Sd2-4Epp",
        "colab_type": "code",
        "outputId": "2cc81b90-497f-4242-f8d0-be2cc98f7b44",
        "colab": {
          "base_uri": "https://localhost:8080/",
          "height": 572
        }
      },
      "source": [
        "import quandl, math\n",
        "import numpy as np\n",
        "import pandas as pd\n",
        "from sklearn import preprocessing, svm\n",
        "from sklearn.linear_model import LinearRegression\n",
        "from sklearn.model_selection import train_test_split\n",
        "import matplotlib.pyplot as plt\n",
        "from matplotlib import style\n",
        "import datetime\n",
        "import pickle \n",
        "\n",
        "style.use('ggplot')\n",
        "\n",
        "df = quandl.get(\"WIKI/GOOGL\")\n",
        "print(df.head())\n",
        "#print(df.tail())\n",
        "df = df[['Adj. Open',  'Adj. High',  'Adj. Low',  'Adj. Close', 'Adj. Volume']]\n",
        "df['HL_PCT'] = (df['Adj. High'] - df['Adj. Low']) / df['Adj. Close'] * 100.0\n",
        "df['PCT_change'] = (df['Adj. Close'] - df['Adj. Open']) / df['Adj. Open'] * 100.0\n",
        "\n",
        "df = df[['Adj. Close', 'HL_PCT', 'PCT_change', 'Adj. Volume']]\n",
        "print(df.head())\n",
        "forecast_col = 'Adj. Close'\n",
        "df.fillna(value=-99999, inplace=True)\n",
        "forecast_out = int(math.ceil(0.01 * len(df)))\n",
        "df['label'] = df[forecast_col].shift(-forecast_out)\n",
        "\n",
        "X = np.array(df.drop(['label'], 1))\n",
        "X = preprocessing.scale(X)\n",
        "X_lately = X[-forecast_out:]\n",
        "X = X[:-forecast_out]\n",
        "\n",
        "df.dropna(inplace=True)\n",
        "\n",
        "y = np.array(df['label'])\n",
        "\n",
        "X_train, X_test, y_train, y_test = train_test_split(X, y, test_size=0.2)\n",
        "\n",
        "clf = LinearRegression(n_jobs=-1)\n",
        "clf.fit(X_train, y_train)\n",
        "confidence = clf.score(X_test, y_test)\n",
        "print('Exactitud')\n",
        "print(confidence)\n",
        "\n",
        "#pickle_in = open('LinearRegression.pickle','rb')\n",
        "#clf = pickle.load(pickle_in)\n",
        "\n",
        "forecast_set = clf.predict(X_lately)\n",
        "df['Forecast'] = np.nan\n",
        "\n",
        "last_date = df.iloc[-1].name\n",
        "last_unix = last_date.timestamp()\n",
        "one_day = 86400\n",
        "next_unix = last_unix + one_day\n",
        "\n",
        "for i in forecast_set:\n",
        "    next_date = datetime.datetime.fromtimestamp(next_unix)\n",
        "    next_unix += 86400\n",
        "    df.loc[next_date] = [np.nan for _ in range(len(df.columns)-1)]+[i]\n",
        "\n",
        "df['Adj. Close'].plot()\n",
        "df['Forecast'].plot()\n",
        "plt.legend(loc=4)\n",
        "plt.xlabel('Date')\n",
        "plt.ylabel('Price')\n",
        "plt.show()"
      ],
      "execution_count": 0,
      "outputs": [
        {
          "output_type": "stream",
          "text": [
            "              Open    High     Low  ...   Adj. Low  Adj. Close  Adj. Volume\n",
            "Date                                ...                                    \n",
            "2004-08-19  100.01  104.06   95.96  ...  48.128568   50.322842   44659000.0\n",
            "2004-08-20  101.01  109.08  100.50  ...  50.405597   54.322689   22834300.0\n",
            "2004-08-23  110.76  113.48  109.05  ...  54.693835   54.869377   18256100.0\n",
            "2004-08-24  111.24  111.60  103.57  ...  51.945350   52.597363   15247300.0\n",
            "2004-08-25  104.76  108.00  103.88  ...  52.100830   53.164113    9188600.0\n",
            "\n",
            "[5 rows x 12 columns]\n",
            "            Adj. Close    HL_PCT  PCT_change  Adj. Volume\n",
            "Date                                                     \n",
            "2004-08-19   50.322842  8.072956    0.324968   44659000.0\n",
            "2004-08-20   54.322689  7.921706    7.227007   22834300.0\n",
            "2004-08-23   54.869377  4.049360   -1.227880   18256100.0\n",
            "2004-08-24   52.597363  7.657099   -5.726357   15247300.0\n",
            "2004-08-25   53.164113  3.886792    1.183658    9188600.0\n",
            "Exactitud\n",
            "0.9778962029466953\n"
          ],
          "name": "stdout"
        },
        {
          "output_type": "display_data",
          "data": {
            "image/png": "[encoded data removed]",
            "text/plain": [
              "<Figure size 432x288 with 1 Axes>"
            ]
          },
          "metadata": {
            "tags": []
          }
        }
      ]
    }
  ]
}