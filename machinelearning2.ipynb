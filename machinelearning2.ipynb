{
  "nbformat": 4,
  "nbformat_minor": 0,
  "metadata": {
    "colab": {
      "name": "machinelearning2.ipynb",
      "provenance": []
    },
    "kernelspec": {
      "name": "python3",
      "display_name": "Python 3"
    }
  },
  "cells": [
    {
      "cell_type": "markdown",
      "metadata": {
        "id": "dgbVoMjZ6eug",
        "colab_type": "text"
      },
      "source": [
        "Usando scikit Learn para rsgresion lineal\n",
        "\n",
        "Se usa la instruccion LienarRegression\n",
        "\n",
        "la libreria se importa con la instruccion-- from sklearn import linear_model\n",
        "\n",
        "para saber los datos de a-pendiente ( de la formula y=\\suma(a_ix_i) + b) se usa la instruccion .coef_ (ejemplo a=algoritmo.coef_)\n",
        "\n",
        "para conocer el valor de la interseccion b se usa la instruccion .intercept (ejemplo b = algoritmo.intercept_)\n",
        "El siguiente paso es evaluar el rendimiento del algoritmo se usa la instruccion .score(ejemplo precision=algoritmo.score(x_prueba, y_prueba))"
      ]
    },
    {
      "cell_type": "code",
      "metadata": {
        "id": "lASCzMPU6Rl7",
        "colab_type": "code",
        "outputId": "11321aff-2da6-4026-ab0a-2a26d3991321",
        "colab": {
          "base_uri": "https://localhost:8080/",
          "height": 1000
        }
      },
      "source": [
        "##LIBRERIAS A UTILIZAR##\n",
        "#se importa la librerias a utilizar \n",
        "import numpy as np\n",
        "from sklearn import datasets, linear_model\n",
        "import matplotlib.pyplot as plt\n",
        "\n",
        "#importamos los datos de la misma libreria de scikit-learn\n",
        "boston = datasets.load_boston()\n",
        "print(boston)\n",
        "print()"
      ],
      "execution_count": 0,
      "outputs": [
        {
          "output_type": "stream",
          "text": [
            "{'data': array([[6.3200e-03, 1.8000e+01, 2.3100e+00, ..., 1.5300e+01, 3.9690e+02,\n",
            "        4.9800e+00],\n",
            "       [2.7310e-02, 0.0000e+00, 7.0700e+00, ..., 1.7800e+01, 3.9690e+02,\n",
            "        9.1400e+00],\n",
            "       [2.7290e-02, 0.0000e+00, 7.0700e+00, ..., 1.7800e+01, 3.9283e+02,\n",
            "        4.0300e+00],\n",
            "       ...,\n",
            "       [6.0760e-02, 0.0000e+00, 1.1930e+01, ..., 2.1000e+01, 3.9690e+02,\n",
            "        5.6400e+00],\n",
            "       [1.0959e-01, 0.0000e+00, 1.1930e+01, ..., 2.1000e+01, 3.9345e+02,\n",
            "        6.4800e+00],\n",
            "       [4.7410e-02, 0.0000e+00, 1.1930e+01, ..., 2.1000e+01, 3.9690e+02,\n",
            "        7.8800e+00]]), 'target': array([24. , 21.6, 34.7, 33.4, 36.2, 28.7, 22.9, 27.1, 16.5, 18.9, 15. ,\n",
            "       18.9, 21.7, 20.4, 18.2, 19.9, 23.1, 17.5, 20.2, 18.2, 13.6, 19.6,\n",
            "       15.2, 14.5, 15.6, 13.9, 16.6, 14.8, 18.4, 21. , 12.7, 14.5, 13.2,\n",
            "       13.1, 13.5, 18.9, 20. , 21. , 24.7, 30.8, 34.9, 26.6, 25.3, 24.7,\n",
            "       21.2, 19.3, 20. , 16.6, 14.4, 19.4, 19.7, 20.5, 25. , 23.4, 18.9,\n",
            "       35.4, 24.7, 31.6, 23.3, 19.6, 18.7, 16. , 22.2, 25. , 33. , 23.5,\n",
            "       19.4, 22. , 17.4, 20.9, 24.2, 21.7, 22.8, 23.4, 24.1, 21.4, 20. ,\n",
            "       20.8, 21.2, 20.3, 28. , 23.9, 24.8, 22.9, 23.9, 26.6, 22.5, 22.2,\n",
            "       23.6, 28.7, 22.6, 22. , 22.9, 25. , 20.6, 28.4, 21.4, 38.7, 43.8,\n",
            "       33.2, 27.5, 26.5, 18.6, 19.3, 20.1, 19.5, 19.5, 20.4, 19.8, 19.4,\n",
            "       21.7, 22.8, 18.8, 18.7, 18.5, 18.3, 21.2, 19.2, 20.4, 19.3, 22. ,\n",
            "       20.3, 20.5, 17.3, 18.8, 21.4, 15.7, 16.2, 18. , 14.3, 19.2, 19.6,\n",
            "       23. , 18.4, 15.6, 18.1, 17.4, 17.1, 13.3, 17.8, 14. , 14.4, 13.4,\n",
            "       15.6, 11.8, 13.8, 15.6, 14.6, 17.8, 15.4, 21.5, 19.6, 15.3, 19.4,\n",
            "       17. , 15.6, 13.1, 41.3, 24.3, 23.3, 27. , 50. , 50. , 50. , 22.7,\n",
            "       25. , 50. , 23.8, 23.8, 22.3, 17.4, 19.1, 23.1, 23.6, 22.6, 29.4,\n",
            "       23.2, 24.6, 29.9, 37.2, 39.8, 36.2, 37.9, 32.5, 26.4, 29.6, 50. ,\n",
            "       32. , 29.8, 34.9, 37. , 30.5, 36.4, 31.1, 29.1, 50. , 33.3, 30.3,\n",
            "       34.6, 34.9, 32.9, 24.1, 42.3, 48.5, 50. , 22.6, 24.4, 22.5, 24.4,\n",
            "       20. , 21.7, 19.3, 22.4, 28.1, 23.7, 25. , 23.3, 28.7, 21.5, 23. ,\n",
            "       26.7, 21.7, 27.5, 30.1, 44.8, 50. , 37.6, 31.6, 46.7, 31.5, 24.3,\n",
            "       31.7, 41.7, 48.3, 29. , 24. , 25.1, 31.5, 23.7, 23.3, 22. , 20.1,\n",
            "       22.2, 23.7, 17.6, 18.5, 24.3, 20.5, 24.5, 26.2, 24.4, 24.8, 29.6,\n",
            "       42.8, 21.9, 20.9, 44. , 50. , 36. , 30.1, 33.8, 43.1, 48.8, 31. ,\n",
            "       36.5, 22.8, 30.7, 50. , 43.5, 20.7, 21.1, 25.2, 24.4, 35.2, 32.4,\n",
            "       32. , 33.2, 33.1, 29.1, 35.1, 45.4, 35.4, 46. , 50. , 32.2, 22. ,\n",
            "       20.1, 23.2, 22.3, 24.8, 28.5, 37.3, 27.9, 23.9, 21.7, 28.6, 27.1,\n",
            "       20.3, 22.5, 29. , 24.8, 22. , 26.4, 33.1, 36.1, 28.4, 33.4, 28.2,\n",
            "       22.8, 20.3, 16.1, 22.1, 19.4, 21.6, 23.8, 16.2, 17.8, 19.8, 23.1,\n",
            "       21. , 23.8, 23.1, 20.4, 18.5, 25. , 24.6, 23. , 22.2, 19.3, 22.6,\n",
            "       19.8, 17.1, 19.4, 22.2, 20.7, 21.1, 19.5, 18.5, 20.6, 19. , 18.7,\n",
            "       32.7, 16.5, 23.9, 31.2, 17.5, 17.2, 23.1, 24.5, 26.6, 22.9, 24.1,\n",
            "       18.6, 30.1, 18.2, 20.6, 17.8, 21.7, 22.7, 22.6, 25. , 19.9, 20.8,\n",
            "       16.8, 21.9, 27.5, 21.9, 23.1, 50. , 50. , 50. , 50. , 50. , 13.8,\n",
            "       13.8, 15. , 13.9, 13.3, 13.1, 10.2, 10.4, 10.9, 11.3, 12.3,  8.8,\n",
            "        7.2, 10.5,  7.4, 10.2, 11.5, 15.1, 23.2,  9.7, 13.8, 12.7, 13.1,\n",
            "       12.5,  8.5,  5. ,  6.3,  5.6,  7.2, 12.1,  8.3,  8.5,  5. , 11.9,\n",
            "       27.9, 17.2, 27.5, 15. , 17.2, 17.9, 16.3,  7. ,  7.2,  7.5, 10.4,\n",
            "        8.8,  8.4, 16.7, 14.2, 20.8, 13.4, 11.7,  8.3, 10.2, 10.9, 11. ,\n",
            "        9.5, 14.5, 14.1, 16.1, 14.3, 11.7, 13.4,  9.6,  8.7,  8.4, 12.8,\n",
            "       10.5, 17.1, 18.4, 15.4, 10.8, 11.8, 14.9, 12.6, 14.1, 13. , 13.4,\n",
            "       15.2, 16.1, 17.8, 14.9, 14.1, 12.7, 13.5, 14.9, 20. , 16.4, 17.7,\n",
            "       19.5, 20.2, 21.4, 19.9, 19. , 19.1, 19.1, 20.1, 19.9, 19.6, 23.2,\n",
            "       29.8, 13.8, 13.3, 16.7, 12. , 14.6, 21.4, 23. , 23.7, 25. , 21.8,\n",
            "       20.6, 21.2, 19.1, 20.6, 15.2,  7. ,  8.1, 13.6, 20.1, 21.8, 24.5,\n",
            "       23.1, 19.7, 18.3, 21.2, 17.5, 16.8, 22.4, 20.6, 23.9, 22. , 11.9]), 'feature_names': array(['CRIM', 'ZN', 'INDUS', 'CHAS', 'NOX', 'RM', 'AGE', 'DIS', 'RAD',\n",
            "       'TAX', 'PTRATIO', 'B', 'LSTAT'], dtype='<U7'), 'DESCR': \".. _boston_dataset:\\n\\nBoston house prices dataset\\n---------------------------\\n\\n**Data Set Characteristics:**  \\n\\n    :Number of Instances: 506 \\n\\n    :Number of Attributes: 13 numeric/categorical predictive. Median Value (attribute 14) is usually the target.\\n\\n    :Attribute Information (in order):\\n        - CRIM     per capita crime rate by town\\n        - ZN       proportion of residential land zoned for lots over 25,000 sq.ft.\\n        - INDUS    proportion of non-retail business acres per town\\n        - CHAS     Charles River dummy variable (= 1 if tract bounds river; 0 otherwise)\\n        - NOX      nitric oxides concentration (parts per 10 million)\\n        - RM       average number of rooms per dwelling\\n        - AGE      proportion of owner-occupied units built prior to 1940\\n        - DIS      weighted distances to five Boston employment centres\\n        - RAD      index of accessibility to radial highways\\n        - TAX      full-value property-tax rate per $10,000\\n        - PTRATIO  pupil-teacher ratio by town\\n        - B        1000(Bk - 0.63)^2 where Bk is the proportion of blacks by town\\n        - LSTAT    % lower status of the population\\n        - MEDV     Median value of owner-occupied homes in $1000's\\n\\n    :Missing Attribute Values: None\\n\\n    :Creator: Harrison, D. and Rubinfeld, D.L.\\n\\nThis is a copy of UCI ML housing dataset.\\nhttps://archive.ics.uci.edu/ml/machine-learning-databases/housing/\\n\\n\\nThis dataset was taken from the StatLib library which is maintained at Carnegie Mellon University.\\n\\nThe Boston house-price data of Harrison, D. and Rubinfeld, D.L. 'Hedonic\\nprices and the demand for clean air', J. Environ. Economics & Management,\\nvol.5, 81-102, 1978.   Used in Belsley, Kuh & Welsch, 'Regression diagnostics\\n...', Wiley, 1980.   N.B. Various transformations are used in the table on\\npages 244-261 of the latter.\\n\\nThe Boston house-price data has been used in many machine learning papers that address regression\\nproblems.   \\n     \\n.. topic:: References\\n\\n   - Belsley, Kuh & Welsch, 'Regression diagnostics: Identifying Influential Data and Sources of Collinearity', Wiley, 1980. 244-261.\\n   - Quinlan,R. (1993). Combining Instance-Based and Model-Based Learning. In Proceedings on the Tenth International Conference of Machine Learning, 236-243, University of Massachusetts, Amherst. Morgan Kaufmann.\\n\", 'filename': '/usr/local/lib/python3.6/dist-packages/sklearn/datasets/data/boston_house_prices.csv'}\n",
            "\n"
          ],
          "name": "stdout"
        }
      ]
    },
    {
      "cell_type": "code",
      "metadata": {
        "id": "kw2LMpS76pBS",
        "colab_type": "code",
        "outputId": "3c96de27-a77c-4e9c-d499-aad3eab0dc5e",
        "colab": {
          "base_uri": "https://localhost:8080/",
          "height": 66
        }
      },
      "source": [
        "#verificar la informacion contenida en el datasets\n",
        "print('Informacion en el datasets')\n",
        "print(boston.keys())\n",
        "print()"
      ],
      "execution_count": 0,
      "outputs": [
        {
          "output_type": "stream",
          "text": [
            "Informacion en el datasets\n",
            "dict_keys(['data', 'target', 'feature_names', 'DESCR', 'filename'])\n",
            "\n"
          ],
          "name": "stdout"
        }
      ]
    },
    {
      "cell_type": "code",
      "metadata": {
        "id": "TG5XszxO6uPk",
        "colab_type": "code",
        "outputId": "9b70d80c-45a2-49fb-9575-ea4c92aadf0c",
        "colab": {
          "base_uri": "https://localhost:8080/",
          "height": 903
        }
      },
      "source": [
        "#Verificar las caracteristicas del datasets\n",
        "print('Caracateristicas del datasets')\n",
        "print(boston.DESCR)"
      ],
      "execution_count": 0,
      "outputs": [
        {
          "output_type": "stream",
          "text": [
            "Caracateristicas del datasets\n",
            ".. _boston_dataset:\n",
            "\n",
            "Boston house prices dataset\n",
            "---------------------------\n",
            "\n",
            "**Data Set Characteristics:**  \n",
            "\n",
            "    :Number of Instances: 506 \n",
            "\n",
            "    :Number of Attributes: 13 numeric/categorical predictive. Median Value (attribute 14) is usually the target.\n",
            "\n",
            "    :Attribute Information (in order):\n",
            "        - CRIM     per capita crime rate by town\n",
            "        - ZN       proportion of residential land zoned for lots over 25,000 sq.ft.\n",
            "        - INDUS    proportion of non-retail business acres per town\n",
            "        - CHAS     Charles River dummy variable (= 1 if tract bounds river; 0 otherwise)\n",
            "        - NOX      nitric oxides concentration (parts per 10 million)\n",
            "        - RM       average number of rooms per dwelling\n",
            "        - AGE      proportion of owner-occupied units built prior to 1940\n",
            "        - DIS      weighted distances to five Boston employment centres\n",
            "        - RAD      index of accessibility to radial highways\n",
            "        - TAX      full-value property-tax rate per $10,000\n",
            "        - PTRATIO  pupil-teacher ratio by town\n",
            "        - B        1000(Bk - 0.63)^2 where Bk is the proportion of blacks by town\n",
            "        - LSTAT    % lower status of the population\n",
            "        - MEDV     Median value of owner-occupied homes in $1000's\n",
            "\n",
            "    :Missing Attribute Values: None\n",
            "\n",
            "    :Creator: Harrison, D. and Rubinfeld, D.L.\n",
            "\n",
            "This is a copy of UCI ML housing dataset.\n",
            "https://archive.ics.uci.edu/ml/machine-learning-databases/housing/\n",
            "\n",
            "\n",
            "This dataset was taken from the StatLib library which is maintained at Carnegie Mellon University.\n",
            "\n",
            "The Boston house-price data of Harrison, D. and Rubinfeld, D.L. 'Hedonic\n",
            "prices and the demand for clean air', J. Environ. Economics & Management,\n",
            "vol.5, 81-102, 1978.   Used in Belsley, Kuh & Welsch, 'Regression diagnostics\n",
            "...', Wiley, 1980.   N.B. Various transformations are used in the table on\n",
            "pages 244-261 of the latter.\n",
            "\n",
            "The Boston house-price data has been used in many machine learning papers that address regression\n",
            "problems.   \n",
            "     \n",
            ".. topic:: References\n",
            "\n",
            "   - Belsley, Kuh & Welsch, 'Regression diagnostics: Identifying Influential Data and Sources of Collinearity', Wiley, 1980. 244-261.\n",
            "   - Quinlan,R. (1993). Combining Instance-Based and Model-Based Learning. In Proceedings on the Tenth International Conference of Machine Learning, 236-243, University of Massachusetts, Amherst. Morgan Kaufmann.\n",
            "\n"
          ],
          "name": "stdout"
        }
      ]
    },
    {
      "cell_type": "code",
      "metadata": {
        "id": "YRgBHTWC61zu",
        "colab_type": "code",
        "outputId": "ce6468d0-813f-4f1a-a3de-6ebe5ebda9c2",
        "colab": {
          "base_uri": "https://localhost:8080/",
          "height": 66
        }
      },
      "source": [
        "#Verificar la cantidad de datos que hay en el datasets\n",
        "print('Cantidad de datos ')\n",
        "print(boston.data.shape)\n",
        "print()"
      ],
      "execution_count": 0,
      "outputs": [
        {
          "output_type": "stream",
          "text": [
            "Cantidad de datos \n",
            "(506, 13)\n",
            "\n"
          ],
          "name": "stdout"
        }
      ]
    },
    {
      "cell_type": "code",
      "metadata": {
        "id": "pN27gqSD65vd",
        "colab_type": "code",
        "outputId": "475c2252-8954-46e3-ac56-b1f1f1217bf6",
        "colab": {
          "base_uri": "https://localhost:8080/",
          "height": 66
        }
      },
      "source": [
        "#Verificar la informacion de las columnas \n",
        "print('Nombre columnas:')\n",
        "print(boston.feature_names)"
      ],
      "execution_count": 0,
      "outputs": [
        {
          "output_type": "stream",
          "text": [
            "Nombre columnas:\n",
            "['CRIM' 'ZN' 'INDUS' 'CHAS' 'NOX' 'RM' 'AGE' 'DIS' 'RAD' 'TAX' 'PTRATIO'\n",
            " 'B' 'LSTAT']\n"
          ],
          "name": "stdout"
        }
      ]
    },
    {
      "cell_type": "code",
      "metadata": {
        "id": "hS-6sE5m6-V9",
        "colab_type": "code",
        "outputId": "07e26e0c-94a5-415b-859f-6ac577a11780",
        "colab": {
          "base_uri": "https://localhost:8080/",
          "height": 278
        }
      },
      "source": [
        "##Con la informacion anterior preparamos la regresion lineal simple##\n",
        "#Seleccionamos la columna 5 del datasets\n",
        "x = boston.data[:, np.newaxis, 5]\n",
        "\n",
        "#Defino los datos correspondientes a las etiquetas \n",
        "y = boston.target\n",
        "\n",
        "#Graficamos los datos correspondientes\n",
        "plt.scatter(x,y)\n",
        "plt.xlabel('numero de habitaciones')\n",
        "plt.ylabel('valor medio')\n",
        "plt.show()"
      ],
      "execution_count": 0,
      "outputs": [
        {
          "output_type": "display_data",
          "data": {
            "image/png": "[encoded data removed]",
            "text/plain": [
              "<Figure size 432x288 with 1 Axes>"
            ]
          },
          "metadata": {
            "tags": []
          }
        }
      ]
    },
    {
      "cell_type": "code",
      "metadata": {
        "id": "boRsfL2L7DS1",
        "colab_type": "code",
        "outputId": "0c46a0fa-8503-4fd1-deda-c48edb914e41",
        "colab": {
          "base_uri": "https://localhost:8080/",
          "height": 294
        }
      },
      "source": [
        "##Implemetacion de la regresion lineal simple##\n",
        "\n",
        "from sklearn.model_selection import train_test_split\n",
        "x_train, x_test, y_train, y_test = train_test_split(x, y, test_size = 0.2)\n",
        "\n",
        "#definimos el algoritmo a utilizar\n",
        "lr = linear_model.LinearRegression()\n",
        "\n",
        "#entreno el modelo\n",
        "lr.fit(x_train, y_train)\n",
        "\n",
        "#Se realiza la prediccion\n",
        "Y_pred = lr.predict(x_test)\n",
        "\n",
        "#Graficamos los datos junto con el modelo\n",
        "plt.scatter(x_test, y_test)\n",
        "plt.plot(x_test, Y_pred, color='salmon', linewidth=3)\n",
        "plt.title('Regresion lineal simple')\n",
        "plt.xlabel('Numero de habitaciones')\n",
        "plt.ylabel('valor medio')\n",
        "plt.show()"
      ],
      "execution_count": 0,
      "outputs": [
        {
          "output_type": "display_data",
          "data": {
            "image/png": "[encoded data removed]",
            "text/plain": [
              "<Figure size 432x288 with 1 Axes>"
            ]
          },
          "metadata": {
            "tags": []
          }
        }
      ]
    },
    {
      "cell_type": "code",
      "metadata": {
        "id": "zwe0KHj87JYX",
        "colab_type": "code",
        "outputId": "c9b79d35-f9f0-4ef6-d8ec-7e6ae336eea3",
        "colab": {
          "base_uri": "https://localhost:8080/",
          "height": 233
        }
      },
      "source": [
        "print()\n",
        "print('datos del modelo regresion lineal simple')\n",
        "print()\n",
        "print('valor de la pendiente o coeficiente \"a\":')\n",
        "print(lr.coef_)\n",
        "print('valor de la interseccion o coeficiente \"b\":')\n",
        "print(lr.intercept_)\n",
        "print()\n",
        "print('la ecuacion del modelo es igual a:')\n",
        "print('y = ', lr.coef_, 'x ', lr.intercept_)\n",
        "print()\n",
        "print('precision del modelo')\n",
        "print(lr.score(x_train, y_train))"
      ],
      "execution_count": 0,
      "outputs": [
        {
          "output_type": "stream",
          "text": [
            "\n",
            "datos del modelo regresion lineal simple\n",
            "\n",
            "valor de la pendiente o coeficiente \"a\":\n",
            "[9.20529159]\n",
            "valor de la interseccion o coeficiente \"b\":\n",
            "-35.36349173903205\n",
            "\n",
            "la ecuacion del modelo es igual a:\n",
            "y =  [9.20529159] x  -35.36349173903205\n",
            "\n",
            "precision del modelo\n",
            "0.5165634777529946\n"
          ],
          "name": "stdout"
        }
      ]
    },
    {
      "cell_type": "markdown",
      "metadata": {
        "id": "TtWaHmpY7c0B",
        "colab_type": "text"
      },
      "source": [
        "REGRESION LINEAL MULTIPLE"
      ]
    },
    {
      "cell_type": "code",
      "metadata": {
        "id": "pyVrtzP37NyC",
        "colab_type": "code",
        "outputId": "0beef8c7-4a70-4ba5-efda-67a706af0a88",
        "colab": {
          "base_uri": "https://localhost:8080/",
          "height": 133
        }
      },
      "source": [
        "#Seleccionalos las columnas 5,6,7 del dataset\n",
        "import numpy as np\n",
        "from sklearn import datasets, linear_model\n",
        "import matplotlib.pyplot as plt\n",
        "boston = datasets.load_boston()\n",
        "x_multiple = boston.data[:, 5:8]\n",
        "print(x_multiple)\n",
        "\n",
        "#Definimos los datos correspondiente  a las etiquetas\n",
        "y_multiple = boston.target\n",
        "\n",
        "from sklearn.model_selection import train_test_split\n",
        "x_train, x_test, y_train, y_test = train_test_split(x_multiple, y_multiple, test_size = 0.2)"
      ],
      "execution_count": 0,
      "outputs": [
        {
          "output_type": "stream",
          "text": [
            "[[ 6.575  65.2     4.09  ]\n",
            " [ 6.421  78.9     4.9671]\n",
            " [ 7.185  61.1     4.9671]\n",
            " ...\n",
            " [ 6.976  91.      2.1675]\n",
            " [ 6.794  89.3     2.3889]\n",
            " [ 6.03   80.8     2.505 ]]\n"
          ],
          "name": "stdout"
        }
      ]
    },
    {
      "cell_type": "code",
      "metadata": {
        "id": "7HD_40KD7pdo",
        "colab_type": "code",
        "outputId": "7dce2c3a-6edc-4253-93b4-527648f3975f",
        "colab": {
          "base_uri": "https://localhost:8080/",
          "height": 216
        }
      },
      "source": [
        "#definimos el algoritmo a utilizar\n",
        "lr_multiple = linear_model.LinearRegression()\n",
        "\n",
        "#entrenar el modelo\n",
        "lr_multiple.fit(x_train, y_train)\n",
        "\n",
        "#realizar prediccion \n",
        "Y_pred_multiple = lr_multiple.predict(x_test)\n",
        "\n",
        "print('datos del modelo regresion lineal multiple')\n",
        "print()\n",
        "print('valor de la pendiente o coeficiente \"a\":')\n",
        "print(lr_multiple.coef_)\n",
        "print('valor de la interseccion o coeficiente \"b\":')\n",
        "print(lr_multiple.intercept_)\n",
        "print()\n",
        "print('la ecuacion del modelo es igual a:')\n",
        "print('y = ', lr_multiple.coef_, 'x ', lr_multiple.intercept_)\n",
        "print()\n",
        "print('precision del modelo')\n",
        "print(lr_multiple.score(x_train, y_train))\n"
      ],
      "execution_count": 0,
      "outputs": [
        {
          "output_type": "stream",
          "text": [
            "datos del modelo regresion lineal multiple\n",
            "\n",
            "valor de la pendiente o coeficiente \"a\":\n",
            "[ 8.31069395 -0.09946471 -0.57378658]\n",
            "valor de la interseccion o coeficiente \"b\":\n",
            "-20.508239786840516\n",
            "\n",
            "la ecuacion del modelo es igual a:\n",
            "y =  [ 8.31069395 -0.09946471 -0.57378658] x  -20.508239786840516\n",
            "\n",
            "precision del modelo\n",
            "0.500265154769568\n"
          ],
          "name": "stdout"
        }
      ]
    },
    {
      "cell_type": "markdown",
      "metadata": {
        "id": "lBPw7oSX8QnY",
        "colab_type": "text"
      },
      "source": [
        "REGRESION POLINOMIAL"
      ]
    },
    {
      "cell_type": "code",
      "metadata": {
        "id": "63a-YBwk8Rn0",
        "colab_type": "code",
        "outputId": "8806e74f-5af6-4903-b7ca-b34560f7115c",
        "colab": {
          "base_uri": "https://localhost:8080/",
          "height": 264
        }
      },
      "source": [
        "import numpy as np\n",
        "from sklearn import datasets, linear_model\n",
        "import matplotlib.pyplot as plt\n",
        "boston = datasets.load_boston()\n",
        "x_p = boston.data[:, np.newaxis, 5]\n",
        "y_p= boston.target\n",
        "\n",
        "#Graficamos\n",
        "plt.scatter(x_p, y_p)\n",
        "plt.show()"
      ],
      "execution_count": 0,
      "outputs": [
        {
          "output_type": "display_data",
          "data": {
            "image/png": "[encoded data removed]",
            "text/plain": [
              "<Figure size 432x288 with 1 Axes>"
            ]
          },
          "metadata": {
            "tags": []
          }
        }
      ]
    },
    {
      "cell_type": "code",
      "metadata": {
        "id": "E4qcRFLB8VoH",
        "colab_type": "code",
        "outputId": "d79e59b5-527a-4f2b-89f5-d835c5cffd9e",
        "colab": {
          "base_uri": "https://localhost:8080/",
          "height": 281
        }
      },
      "source": [
        "###implementacion de regresion polinomial###\n",
        "from sklearn.model_selection import train_test_split\n",
        "\n",
        "#Se separan los datos \"train\" en entrenamiento y prueba para probar los algoritmos\n",
        "x_train_p, x_test_p, y_train_p, y_test_p = train_test_split(x_p, y_p, test_size=0.2)\n",
        "\n",
        "from sklearn.preprocessing import PolynomialFeatures\n",
        "\n",
        "#Definimos el grado del polinomio\n",
        "poli_reg = PolynomialFeatures(degree=2)\n",
        "\n",
        "#se transforma las caracteristicas existentes en caracteristicas de mayor de grado\n",
        "x_train_poli = poli_reg.fit_transform(x_train_p)\n",
        "x_test_poli = poli_reg.fit_transform(x_test_p)\n",
        "\n",
        "#defino el algoritmo a utilizar \n",
        "pr = linear_model.LinearRegression()\n",
        "pr.fit(x_train_poli, y_train_p)\n",
        "\n",
        "#se realiza prediccion\n",
        "Y_pred_pr = pr.predict(x_test_poli)\n",
        "\n",
        "#Grafica de los datos junto con el modelo\n",
        "plt.scatter(x_test_p, y_test_p)\n",
        "plt.plot(x_test_p, Y_pred_pr, color ='red', linewidth=3)"
      ],
      "execution_count": 0,
      "outputs": [
        {
          "output_type": "execute_result",
          "data": {
            "text/plain": [
              "[<matplotlib.lines.Line2D at 0x7fe60797b8d0>]"
            ]
          },
          "metadata": {
            "tags": []
          },
          "execution_count": 16
        },
        {
          "output_type": "display_data",
          "data": {
            "image/png": "[encoded data removed]",
            "text/plain": [
              "<Figure size 432x288 with 1 Axes>"
            ]
          },
          "metadata": {
            "tags": []
          }
        }
      ]
    },
    {
      "cell_type": "code",
      "metadata": {
        "id": "zwIzGA2O8g24",
        "colab_type": "code",
        "outputId": "ce3d67df-f489-4e81-cb53-fc47e86c80c3",
        "colab": {
          "base_uri": "https://localhost:8080/",
          "height": 166
        }
      },
      "source": [
        "print()\n",
        "print('datos modelos regresion polinomial')\n",
        "print()\n",
        "\n",
        "print('valor del coeficiente a:')\n",
        "print(pr.coef_)\n",
        "\n",
        "print('valor del coeficiente b:')\n",
        "print(pr.intercept_)\n",
        "\n",
        "print('precision del modelo')\n",
        "print(pr.score(x_train_poli, y_train_p))"
      ],
      "execution_count": 0,
      "outputs": [
        {
          "output_type": "stream",
          "text": [
            "\n",
            "datos modelos regresion polinomial\n",
            "\n",
            "valor del coeficiente a:\n",
            "[  0.         -22.08162849   2.42759231]\n",
            "valor del coeficiente b:\n",
            "64.10606087483728\n",
            "precision del modelo\n",
            "0.5354838011168757\n"
          ],
          "name": "stdout"
        }
      ]
    },
    {
      "cell_type": "markdown",
      "metadata": {
        "id": "RXe-HC_58kpS",
        "colab_type": "text"
      },
      "source": [
        "VECTORES DE SOPORTE REGRESIÓN como en la seccion anteriores hemos importado los paquetes, no es necesario hacerlo pues es una extension del codigo\n",
        "\n",
        "en dado caso en que sea un codigo nuevo se debe empezar con las siguientes instrucciones\n",
        "\n",
        "import numpy as np\n",
        "\n",
        "from sklearn import datasets, linear_model\n",
        "\n",
        "import matplotlib.pyplot as plt\n",
        "\n",
        "boston = datasets.load_boston()"
      ]
    },
    {
      "cell_type": "code",
      "metadata": {
        "id": "IyHEeYuU8qv4",
        "colab_type": "code",
        "outputId": "dc11d556-fdf5-4281-dd97-946ae321dbf1",
        "colab": {
          "base_uri": "https://localhost:8080/",
          "height": 264
        }
      },
      "source": [
        "##separar la data vectores de soporte regresión##\n",
        "\n",
        "#seleccionamos la columna 6 del dataset\n",
        "x_svr = boston.data[:, np.newaxis, 5]\n",
        "\n",
        "#defino los datos correspondientes a las etiquetas\n",
        "y_svr = boston.target\n",
        "\n",
        "#Graficamos los datos correspondientes\n",
        "plt.scatter(x_svr, y_svr)\n",
        "plt.show()"
      ],
      "execution_count": 0,
      "outputs": [
        {
          "output_type": "display_data",
          "data": {
            "image/png": "[encoded data removed]",
            "text/plain": [
              "<Figure size 432x288 with 1 Axes>"
            ]
          },
          "metadata": {
            "tags": []
          }
        }
      ]
    },
    {
      "cell_type": "code",
      "metadata": {
        "id": "kSb_IfGz8yVs",
        "colab_type": "code",
        "outputId": "fdb0ed58-8b84-4c00-ebc7-3908399d8f16",
        "colab": {
          "base_uri": "https://localhost:8080/",
          "height": 264
        }
      },
      "source": [
        "from sklearn.model_selection import train_test_split\n",
        "#Se separan los datos \"train\" en entrenamiento y prueba para probar los algoritmos\n",
        "x_train, x_test, y_train, y_test = train_test_split(x_svr, y_svr, test_size=0.2)\n",
        "\n",
        "from sklearn.svm import SVR\n",
        "\n",
        "#Defino el algoritmo a utilizar\n",
        "svr = SVR(kernel='linear', C=1.0, epsilon=0.2)\n",
        "\n",
        "#entrenar el algoritmo\n",
        "svr.fit(x_train, y_train)\n",
        "\n",
        "#realizamos una prediccion\n",
        "Y_pred = svr.predict(x_test)\n",
        "\n",
        "#Graficamos los datos junto con el modelo\n",
        "plt.scatter(x_test, y_test)\n",
        "plt.plot(x_test, Y_pred, color='red', linewidth=3)\n",
        "plt.show()"
      ],
      "execution_count": 0,
      "outputs": [
        {
          "output_type": "display_data",
          "data": {
            "image/png": "[encoded data removed]",
            "text/plain": [
              "<Figure size 432x288 with 1 Axes>"
            ]
          },
          "metadata": {
            "tags": []
          }
        }
      ]
    },
    {
      "cell_type": "code",
      "metadata": {
        "id": "e0esqZ1u80Vr",
        "colab_type": "code",
        "outputId": "2b5863d5-4357-4c9d-ee78-5b88ea0bc926",
        "colab": {
          "base_uri": "https://localhost:8080/",
          "height": 133
        }
      },
      "source": [
        "print()\n",
        "print('datos del modelo vectores de soporte regresion')\n",
        "print()\n",
        "\n",
        "print('precision del modelo:')\n",
        "print(svr.score)"
      ],
      "execution_count": 0,
      "outputs": [
        {
          "output_type": "stream",
          "text": [
            "\n",
            "datos del modelo vectores de soporte regresion\n",
            "\n",
            "precision del modelo:\n",
            "<bound method RegressorMixin.score of SVR(C=1.0, cache_size=200, coef0=0.0, degree=3, epsilon=0.2,\n",
            "    gamma='auto_deprecated', kernel='linear', max_iter=-1, shrinking=True,\n",
            "    tol=0.001, verbose=False)>\n"
          ],
          "name": "stdout"
        }
      ]
    },
    {
      "cell_type": "markdown",
      "metadata": {
        "id": "6QprFJvZ87Id",
        "colab_type": "text"
      },
      "source": [
        "ARBOLES DE DECISION REGRESION PRACTICA\n",
        "\n",
        "usaremos los datos del dataset anterioes disponibles en la libreria\n",
        "\n",
        "el dataset se llama boston = dataset.load_boston()\n",
        "\n",
        "en los codigos anteriores esta toda la informacion y analisis del dataset"
      ]
    },
    {
      "cell_type": "code",
      "metadata": {
        "id": "RgvTJKJP9Aco",
        "colab_type": "code",
        "outputId": "b45a9dc7-1891-4daf-86a1-a34de3515b84",
        "colab": {
          "base_uri": "https://localhost:8080/",
          "height": 264
        }
      },
      "source": [
        "x_adr = boston.data[:, np.newaxis, 5]\n",
        "##preparar la data arboles de decision regresion##\n",
        "\n",
        "#se definen los datos correspondientes a las etiquetas \n",
        "y_adr = boston.target\n",
        "\n",
        "#graficamos los datos \n",
        "plt.scatter(x_adr, y_adr)\n",
        "plt.show()"
      ],
      "execution_count": 0,
      "outputs": [
        {
          "output_type": "display_data",
          "data": {
            "image/png": "[encoded data removed]",
            "text/plain": [
              "<Figure size 432x288 with 1 Axes>"
            ]
          },
          "metadata": {
            "tags": []
          }
        }
      ]
    },
    {
      "cell_type": "code",
      "metadata": {
        "id": "E2P6qckk9Chs",
        "colab_type": "code",
        "outputId": "058615ba-56e4-4769-a467-66e4480c2b52",
        "colab": {
          "base_uri": "https://localhost:8080/",
          "height": 264
        }
      },
      "source": [
        "###implementacion de arboles de decision regresion###\n",
        "\n",
        "#Se separan los datos \"train\" en entrenamiento y prueba para probar los algoritmos\n",
        "x_train, x_test, y_train, y_test = train_test_split(x_adr, y_adr, test_size=0.2)\n",
        "\n",
        "from sklearn.tree import DecisionTreeRegressor\n",
        "\n",
        "#se define el algoritmo\n",
        "adr = DecisionTreeRegressor(max_depth = 6)\n",
        "\n",
        "#se entrena el modelo\n",
        "adr.fit(x_train, y_train)\n",
        "\n",
        "#se realiza la prediccion\n",
        "Y_pred = adr.predict(x_test)\n",
        "\n",
        "#graficamos los datos de prueba junto con la prediccion\n",
        "x_grid = np.arange(min(x_test), max(x_test), 0.1)\n",
        "x_grid = x_grid.reshape((len(x_grid), 1))\n",
        "plt.scatter(x_test, y_test)\n",
        "plt.plot(x_grid, adr.predict(x_grid), color = 'red', linewidth=3)\n",
        "plt.show()"
      ],
      "execution_count": 0,
      "outputs": [
        {
          "output_type": "display_data",
          "data": {
            "image/png": "[encoded data removed]",
            "text/plain": [
              "<Figure size 432x288 with 1 Axes>"
            ]
          },
          "metadata": {
            "tags": []
          }
        }
      ]
    },
    {
      "cell_type": "code",
      "metadata": {
        "id": "NNqvLb7i9Ihm",
        "colab_type": "code",
        "outputId": "83d3c1b3-549d-498c-c2e1-83782069b1e9",
        "colab": {
          "base_uri": "https://localhost:8080/",
          "height": 83
        }
      },
      "source": [
        "print('datos del modelo arboles de decision regresion')\n",
        "print()\n",
        "\n",
        "print('precision del modelo:')\n",
        "print(adr.score(x_train, y_train))"
      ],
      "execution_count": 0,
      "outputs": [
        {
          "output_type": "stream",
          "text": [
            "datos del modelo arboles de decision regresion\n",
            "\n",
            "precision del modelo:\n",
            "0.773587593501224\n"
          ],
          "name": "stdout"
        }
      ]
    },
    {
      "cell_type": "markdown",
      "metadata": {
        "id": "g-ERdh4E9Nls",
        "colab_type": "text"
      },
      "source": [
        "BOSQUES ALEATORIOS"
      ]
    },
    {
      "cell_type": "code",
      "metadata": {
        "id": "mO4jnAlG9O9J",
        "colab_type": "code",
        "outputId": "bc32015d-9120-4499-a02d-c5bf974ba802",
        "colab": {
          "base_uri": "https://localhost:8080/",
          "height": 264
        }
      },
      "source": [
        "import numpy as np\n",
        "from sklearn import datasets, linear_model\n",
        "import matplotlib.pyplot as plt\n",
        "###Preparar los datos aleatorios regresion##\n",
        "boston = datasets.load_boston()\n",
        "#seleccionamos la columna 6 del dataset\n",
        "x_bar = boston.data[:, np.newaxis, 5]\n",
        "\n",
        "#Se define los datos correspondientes a las etiquetas \n",
        "y_bar = boston.target\n",
        "\n",
        "#Grafica de los datos correspondientes \n",
        "plt.scatter(x_bar, y_bar)\n",
        "plt.show()"
      ],
      "execution_count": 0,
      "outputs": [
        {
          "output_type": "display_data",
          "data": {
            "image/png": "[encoded data removed]",
            "text/plain": [
              "<Figure size 432x288 with 1 Axes>"
            ]
          },
          "metadata": {
            "tags": []
          }
        }
      ]
    },
    {
      "cell_type": "code",
      "metadata": {
        "id": "aK3msUee953f",
        "colab_type": "code",
        "outputId": "a8a2934e-2a2b-4f3e-d39b-c1d244305a1e",
        "colab": {
          "base_uri": "https://localhost:8080/",
          "height": 264
        }
      },
      "source": [
        "###Implementacion de bosques aleatorios regresion###\n",
        "\n",
        "from sklearn.model_selection import train_test_split\n",
        "#Se separan los datos \"train\" en entrenamiento y prueba para probar los algoritmos\n",
        "x_train, x_test, y_train, y_test = train_test_split(x_bar, y_bar, test_size=0.2)\n",
        "\n",
        "from sklearn.ensemble import RandomForestRegressor\n",
        "\n",
        "#se define el algoritmo a utilizar \n",
        "bar = RandomForestRegressor(n_estimators = 300, max_depth = 8)     #cambiar los valores para observar los resultados \n",
        "\n",
        "#entrenar el modelo\n",
        "bar.fit(x_train, y_train)\n",
        "\n",
        "#realizar la prediccion\n",
        "Y_pred = bar.predict(x_test)\n",
        "\n",
        "#garficamos los datos de prueba junto con la prediccion\n",
        "x_grid = np.arange(min(x_test), max(x_test), 0.1)\n",
        "x_grid = x_grid.reshape((len(x_grid), 1))\n",
        "plt.scatter(x_test, y_test)\n",
        "plt.plot(x_grid, bar.predict(x_grid), color='red', linewidth=3)\n",
        "plt.show()\n",
        "\n",
        "\n"
      ],
      "execution_count": 0,
      "outputs": [
        {
          "output_type": "display_data",
          "data": {
            "image/png": "[encoded data removed]",
            "text/plain": [
              "<Figure size 432x288 with 1 Axes>"
            ]
          },
          "metadata": {
            "tags": []
          }
        }
      ]
    },
    {
      "cell_type": "code",
      "metadata": {
        "id": "IGEHeTQxAPe7",
        "colab_type": "code",
        "outputId": "75088ff2-6f91-4d65-a424-85051b765638",
        "colab": {
          "base_uri": "https://localhost:8080/",
          "height": 83
        }
      },
      "source": [
        "print('datos del modelo bosques aleatorios regresion')\n",
        "print()\n",
        "\n",
        "print('precision del modelo')\n",
        "print(bar.score(x_train, y_train))"
      ],
      "execution_count": 0,
      "outputs": [
        {
          "output_type": "stream",
          "text": [
            "datos del modelo bosques aleatorios regresion\n",
            "\n",
            "precision del modelo\n",
            "0.8203671816369156\n"
          ],
          "name": "stdout"
        }
      ]
    },
    {
      "cell_type": "markdown",
      "metadata": {
        "id": "Vc3leWsnAvTB",
        "colab_type": "text"
      },
      "source": [
        ""
      ]
    }
  ]
}