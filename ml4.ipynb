{
  "nbformat": 4,
  "nbformat_minor": 0,
  "metadata": {
    "colab": {
      "name": "ml4.ipynb",
      "provenance": [],
      "include_colab_link": true
    },
    "kernelspec": {
      "name": "python3",
      "display_name": "Python 3"
    }
  },
  "cells": [
    {
      "cell_type": "markdown",
      "metadata": {
        "id": "view-in-github",
        "colab_type": "text"
      },
      "source": [
        "<a href=\"https://colab.research.google.com/github/andres1729/practicamachinelearnig-IA/blob/master/ml4.ipynb\" target=\"_parent\"><img src=\"https://colab.research.google.com/assets/colab-badge.svg\" alt=\"Open In Colab\"/></a>"
      ]
    },
    {
      "cell_type": "markdown",
      "metadata": {
        "id": "OhHec13W-9Iq",
        "colab_type": "text"
      },
      "source": [
        "K vecinos mas cercanos \n",
        "\n",
        "vamos a crear una lista de Python, que contendrá otra lista, que contendrá la distancia, seguida de la clase, por punto en nuestro conjunto de datos. Una vez poblada, podemos ordenar la lista por distancia, tomar los primeros k valores de esa lista, encontrar los más populares y obtener la respuesta "
      ]
    },
    {
      "cell_type": "code",
      "metadata": {
        "id": "cuC5BKLiHrkq",
        "colab_type": "code",
        "outputId": "d79af3a3-2807-4cd5-a019-43e71962403c",
        "colab": {
          "base_uri": "https://localhost:8080/",
          "height": 282
        }
      },
      "source": [
        "import numpy as np\n",
        "import matplotlib.pyplot as plt\n",
        "from matplotlib import style\n",
        "import warnings\n",
        "from math import sqrt\n",
        "from collections import Counter\n",
        "style.use('fivethirtyeight')\n",
        "\n",
        "def k_nearest_neighbors(data, predict, k=3):\n",
        "    if len(data) >= k:\n",
        "        warnings.warn('K is set to a value less than total voting groups!')\n",
        "        \n",
        "    distances = []\n",
        "    for group in data:\n",
        "        for features in data[group]:\n",
        "            euclidean_distance = np.linalg.norm(np.array(features)-np.array(predict))\n",
        "            distances.append([euclidean_distance,group])\n",
        "\n",
        "    votes = [i[1] for i in sorted(distances)[:k]]\n",
        "    vote_result = Counter(votes).most_common(1)[0][0]\n",
        "    return vote_result\n",
        "\n",
        "dataset = {'k':[[1,2],[2,3],[3,1]], 'r':[[6,5],[7,7],[8,6]]}\n",
        "new_features = [5,7]\n",
        "[[plt.scatter(ii[0],ii[1],s=100,color=i) for ii in dataset[i]] for i in dataset]\n",
        "# same as:\n",
        "##for i in dataset:\n",
        "##    for ii in dataset[i]:\n",
        "##        plt.scatter(ii[0],ii[1],s=100,color=i)\n",
        "        \n",
        "plt.scatter(new_features[0], new_features[1], s=100)\n",
        "\n",
        "result = k_nearest_neighbors(dataset, new_features)\n",
        "plt.scatter(new_features[0], new_features[1], s=100, color = result)  \n",
        "plt.show()"
      ],
      "execution_count": 0,
      "outputs": [
        {
          "output_type": "display_data",
          "data": {
            "image/png": "[encoded data removed]",
            "text/plain": [
              "<Figure size 432x288 with 1 Axes>"
            ]
          },
          "metadata": {
            "tags": []
          }
        }
      ]
    }
  ]
}